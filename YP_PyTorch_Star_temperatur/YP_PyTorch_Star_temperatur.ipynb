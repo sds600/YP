{
 "cells": [
  {
   "cell_type": "code",
   "execution_count": 1,
   "id": "spectacular-folder",
   "metadata": {},
   "outputs": [],
   "source": [
    "import pandas as pd\n",
    "import numpy as np\n",
    "import matplotlib.pyplot as plt\n",
    "\n",
    "import torch\n",
    "import torch.nn as nn\n",
    "\n",
    "from sklearn.model_selection import train_test_split\n",
    "from sklearn.metrics import mean_squared_error\n",
    "\n",
    "from sklearn.preprocessing import StandardScaler\n",
    "from sklearn.preprocessing import LabelEncoder\n",
    "from sklearn.preprocessing import OneHotEncoder\n",
    "from sklearn.compose import ColumnTransformer\n",
    "\n",
    "import time"
   ]
  },
  {
   "cell_type": "code",
   "execution_count": 2,
   "id": "12c5548b",
   "metadata": {},
   "outputs": [],
   "source": [
    "def barplot_for_predict(pred:list,tar:list)->'pass':\n",
    "    width = 0.35\n",
    "    x = np.arange(len(list(tar)))\n",
    "    labels = list(map(str, x))\n",
    "    fig, ax = plt.subplots(figsize=([17,4]))\n",
    "    rects1 = ax.bar(x - width/2, pred, width, color='#107003', label='Predict')\n",
    "    rects2 = ax.bar(x + width/2, tar, width, color='#93c892', label='Target')\n",
    "    plt.xticks(x, labels)\n",
    "    plt.grid(linestyle='-.', linewidth=.5)\n",
    "    ax.set_ylabel('Предсказываемое значение')\n",
    "    ax.set_xlabel('Номер звезды')\n",
    "    ax.set_title('Предсказание и целевой показатель')\n",
    "    ax.legend()\n",
    "    plt.show()\n",
    "    pass\n",
    "\n",
    "def rmse(predictions, targets):\n",
    "    return np.sqrt(((predictions - targets) ** 2).mean())"
   ]
  },
  {
   "cell_type": "markdown",
   "id": "corresponding-armstrong",
   "metadata": {
    "ExecuteTime": {
     "end_time": "2022-05-05T04:58:05.692448Z",
     "start_time": "2022-05-05T04:58:05.688565Z"
    }
   },
   "source": [
    "## Загрузка данных"
   ]
  },
  {
   "cell_type": "code",
   "execution_count": 3,
   "id": "50330656",
   "metadata": {},
   "outputs": [
    {
     "data": {
      "text/html": [
       "<div>\n",
       "<style scoped>\n",
       "    .dataframe tbody tr th:only-of-type {\n",
       "        vertical-align: middle;\n",
       "    }\n",
       "\n",
       "    .dataframe tbody tr th {\n",
       "        vertical-align: top;\n",
       "    }\n",
       "\n",
       "    .dataframe thead th {\n",
       "        text-align: right;\n",
       "    }\n",
       "</style>\n",
       "<table border=\"1\" class=\"dataframe\">\n",
       "  <thead>\n",
       "    <tr style=\"text-align: right;\">\n",
       "      <th></th>\n",
       "      <th>Temperature (K)</th>\n",
       "      <th>Luminosity(L/Lo)</th>\n",
       "      <th>Radius(R/Ro)</th>\n",
       "      <th>Absolute magnitude(Mv)</th>\n",
       "      <th>Star type</th>\n",
       "      <th>Star color</th>\n",
       "    </tr>\n",
       "  </thead>\n",
       "  <tbody>\n",
       "    <tr>\n",
       "      <th>0</th>\n",
       "      <td>3068</td>\n",
       "      <td>0.002400</td>\n",
       "      <td>0.1700</td>\n",
       "      <td>16.12</td>\n",
       "      <td>0</td>\n",
       "      <td>Red</td>\n",
       "    </tr>\n",
       "    <tr>\n",
       "      <th>1</th>\n",
       "      <td>3042</td>\n",
       "      <td>0.000500</td>\n",
       "      <td>0.1542</td>\n",
       "      <td>16.60</td>\n",
       "      <td>0</td>\n",
       "      <td>Red</td>\n",
       "    </tr>\n",
       "    <tr>\n",
       "      <th>2</th>\n",
       "      <td>2600</td>\n",
       "      <td>0.000300</td>\n",
       "      <td>0.1020</td>\n",
       "      <td>18.70</td>\n",
       "      <td>0</td>\n",
       "      <td>Red</td>\n",
       "    </tr>\n",
       "    <tr>\n",
       "      <th>3</th>\n",
       "      <td>2800</td>\n",
       "      <td>0.000200</td>\n",
       "      <td>0.1600</td>\n",
       "      <td>16.65</td>\n",
       "      <td>0</td>\n",
       "      <td>Red</td>\n",
       "    </tr>\n",
       "    <tr>\n",
       "      <th>4</th>\n",
       "      <td>1939</td>\n",
       "      <td>0.000138</td>\n",
       "      <td>0.1030</td>\n",
       "      <td>20.06</td>\n",
       "      <td>0</td>\n",
       "      <td>Red</td>\n",
       "    </tr>\n",
       "    <tr>\n",
       "      <th>...</th>\n",
       "      <td>...</td>\n",
       "      <td>...</td>\n",
       "      <td>...</td>\n",
       "      <td>...</td>\n",
       "      <td>...</td>\n",
       "      <td>...</td>\n",
       "    </tr>\n",
       "    <tr>\n",
       "      <th>235</th>\n",
       "      <td>38940</td>\n",
       "      <td>374830.000000</td>\n",
       "      <td>1356.0000</td>\n",
       "      <td>-9.93</td>\n",
       "      <td>5</td>\n",
       "      <td>Blue</td>\n",
       "    </tr>\n",
       "    <tr>\n",
       "      <th>236</th>\n",
       "      <td>30839</td>\n",
       "      <td>834042.000000</td>\n",
       "      <td>1194.0000</td>\n",
       "      <td>-10.63</td>\n",
       "      <td>5</td>\n",
       "      <td>Blue</td>\n",
       "    </tr>\n",
       "    <tr>\n",
       "      <th>237</th>\n",
       "      <td>8829</td>\n",
       "      <td>537493.000000</td>\n",
       "      <td>1423.0000</td>\n",
       "      <td>-10.73</td>\n",
       "      <td>5</td>\n",
       "      <td>White</td>\n",
       "    </tr>\n",
       "    <tr>\n",
       "      <th>238</th>\n",
       "      <td>9235</td>\n",
       "      <td>404940.000000</td>\n",
       "      <td>1112.0000</td>\n",
       "      <td>-11.23</td>\n",
       "      <td>5</td>\n",
       "      <td>White</td>\n",
       "    </tr>\n",
       "    <tr>\n",
       "      <th>239</th>\n",
       "      <td>37882</td>\n",
       "      <td>294903.000000</td>\n",
       "      <td>1783.0000</td>\n",
       "      <td>-7.80</td>\n",
       "      <td>5</td>\n",
       "      <td>Blue</td>\n",
       "    </tr>\n",
       "  </tbody>\n",
       "</table>\n",
       "<p>240 rows × 6 columns</p>\n",
       "</div>"
      ],
      "text/plain": [
       "     Temperature (K)  Luminosity(L/Lo)  Radius(R/Ro)  Absolute magnitude(Mv)  \\\n",
       "0               3068          0.002400        0.1700                   16.12   \n",
       "1               3042          0.000500        0.1542                   16.60   \n",
       "2               2600          0.000300        0.1020                   18.70   \n",
       "3               2800          0.000200        0.1600                   16.65   \n",
       "4               1939          0.000138        0.1030                   20.06   \n",
       "..               ...               ...           ...                     ...   \n",
       "235            38940     374830.000000     1356.0000                   -9.93   \n",
       "236            30839     834042.000000     1194.0000                  -10.63   \n",
       "237             8829     537493.000000     1423.0000                  -10.73   \n",
       "238             9235     404940.000000     1112.0000                  -11.23   \n",
       "239            37882     294903.000000     1783.0000                   -7.80   \n",
       "\n",
       "     Star type Star color  \n",
       "0            0        Red  \n",
       "1            0        Red  \n",
       "2            0        Red  \n",
       "3            0        Red  \n",
       "4            0        Red  \n",
       "..         ...        ...  \n",
       "235          5       Blue  \n",
       "236          5       Blue  \n",
       "237          5      White  \n",
       "238          5      White  \n",
       "239          5       Blue  \n",
       "\n",
       "[240 rows x 6 columns]"
      ]
     },
     "execution_count": 3,
     "metadata": {},
     "output_type": "execute_result"
    }
   ],
   "source": [
    "df = pd.read_csv('/datasets/6_class.csv').drop('Unnamed: 0', axis=1)\n",
    "df"
   ]
  },
  {
   "cell_type": "markdown",
   "id": "simple-subdivision",
   "metadata": {},
   "source": [
    "## Предобработка и анализ данных"
   ]
  },
  {
   "cell_type": "code",
   "execution_count": 4,
   "id": "1b30051f",
   "metadata": {},
   "outputs": [
    {
     "data": {
      "text/plain": [
       "0"
      ]
     },
     "execution_count": 4,
     "metadata": {},
     "output_type": "execute_result"
    }
   ],
   "source": [
    "# Дублей нет\n",
    "df.duplicated().sum()"
   ]
  },
  {
   "cell_type": "code",
   "execution_count": 5,
   "id": "306890f0",
   "metadata": {},
   "outputs": [
    {
     "data": {
      "text/plain": [
       "Temperature (K)           0\n",
       "Luminosity(L/Lo)          0\n",
       "Radius(R/Ro)              0\n",
       "Absolute magnitude(Mv)    0\n",
       "Star type                 0\n",
       "Star color                0\n",
       "dtype: int64"
      ]
     },
     "execution_count": 5,
     "metadata": {},
     "output_type": "execute_result"
    }
   ],
   "source": [
    "#Пустых данных в столбцах нет\n",
    "df.isnull().sum()"
   ]
  },
  {
   "cell_type": "code",
   "execution_count": 6,
   "id": "ea7f62bf",
   "metadata": {},
   "outputs": [
    {
     "name": "stdout",
     "output_type": "stream",
     "text": [
      "<class 'pandas.core.frame.DataFrame'>\n",
      "RangeIndex: 240 entries, 0 to 239\n",
      "Data columns (total 6 columns):\n",
      " #   Column                  Non-Null Count  Dtype  \n",
      "---  ------                  --------------  -----  \n",
      " 0   Temperature (K)         240 non-null    int64  \n",
      " 1   Luminosity(L/Lo)        240 non-null    float64\n",
      " 2   Radius(R/Ro)            240 non-null    float64\n",
      " 3   Absolute magnitude(Mv)  240 non-null    float64\n",
      " 4   Star type               240 non-null    int64  \n",
      " 5   Star color              240 non-null    object \n",
      "dtypes: float64(3), int64(2), object(1)\n",
      "memory usage: 11.4+ KB\n"
     ]
    }
   ],
   "source": [
    "df.info()"
   ]
  },
  {
   "cell_type": "code",
   "execution_count": 7,
   "id": "flush-dream",
   "metadata": {},
   "outputs": [
    {
     "data": {
      "text/html": [
       "<div>\n",
       "<style scoped>\n",
       "    .dataframe tbody tr th:only-of-type {\n",
       "        vertical-align: middle;\n",
       "    }\n",
       "\n",
       "    .dataframe tbody tr th {\n",
       "        vertical-align: top;\n",
       "    }\n",
       "\n",
       "    .dataframe thead th {\n",
       "        text-align: right;\n",
       "    }\n",
       "</style>\n",
       "<table border=\"1\" class=\"dataframe\">\n",
       "  <thead>\n",
       "    <tr style=\"text-align: right;\">\n",
       "      <th></th>\n",
       "      <th>Temperature (K)</th>\n",
       "      <th>Luminosity(L/Lo)</th>\n",
       "      <th>Radius(R/Ro)</th>\n",
       "      <th>Absolute magnitude(Mv)</th>\n",
       "      <th>Star type</th>\n",
       "    </tr>\n",
       "  </thead>\n",
       "  <tbody>\n",
       "    <tr>\n",
       "      <th>count</th>\n",
       "      <td>240.000000</td>\n",
       "      <td>240.000000</td>\n",
       "      <td>240.000000</td>\n",
       "      <td>240.000000</td>\n",
       "      <td>240.000000</td>\n",
       "    </tr>\n",
       "    <tr>\n",
       "      <th>mean</th>\n",
       "      <td>10497.462500</td>\n",
       "      <td>107188.361635</td>\n",
       "      <td>237.157781</td>\n",
       "      <td>4.382396</td>\n",
       "      <td>2.500000</td>\n",
       "    </tr>\n",
       "    <tr>\n",
       "      <th>std</th>\n",
       "      <td>9552.425037</td>\n",
       "      <td>179432.244940</td>\n",
       "      <td>517.155763</td>\n",
       "      <td>10.532512</td>\n",
       "      <td>1.711394</td>\n",
       "    </tr>\n",
       "    <tr>\n",
       "      <th>min</th>\n",
       "      <td>1939.000000</td>\n",
       "      <td>0.000080</td>\n",
       "      <td>0.008400</td>\n",
       "      <td>-11.920000</td>\n",
       "      <td>0.000000</td>\n",
       "    </tr>\n",
       "    <tr>\n",
       "      <th>25%</th>\n",
       "      <td>3344.250000</td>\n",
       "      <td>0.000865</td>\n",
       "      <td>0.102750</td>\n",
       "      <td>-6.232500</td>\n",
       "      <td>1.000000</td>\n",
       "    </tr>\n",
       "    <tr>\n",
       "      <th>50%</th>\n",
       "      <td>5776.000000</td>\n",
       "      <td>0.070500</td>\n",
       "      <td>0.762500</td>\n",
       "      <td>8.313000</td>\n",
       "      <td>2.500000</td>\n",
       "    </tr>\n",
       "    <tr>\n",
       "      <th>75%</th>\n",
       "      <td>15055.500000</td>\n",
       "      <td>198050.000000</td>\n",
       "      <td>42.750000</td>\n",
       "      <td>13.697500</td>\n",
       "      <td>4.000000</td>\n",
       "    </tr>\n",
       "    <tr>\n",
       "      <th>max</th>\n",
       "      <td>40000.000000</td>\n",
       "      <td>849420.000000</td>\n",
       "      <td>1948.500000</td>\n",
       "      <td>20.060000</td>\n",
       "      <td>5.000000</td>\n",
       "    </tr>\n",
       "  </tbody>\n",
       "</table>\n",
       "</div>"
      ],
      "text/plain": [
       "       Temperature (K)  Luminosity(L/Lo)  Radius(R/Ro)  \\\n",
       "count       240.000000        240.000000    240.000000   \n",
       "mean      10497.462500     107188.361635    237.157781   \n",
       "std        9552.425037     179432.244940    517.155763   \n",
       "min        1939.000000          0.000080      0.008400   \n",
       "25%        3344.250000          0.000865      0.102750   \n",
       "50%        5776.000000          0.070500      0.762500   \n",
       "75%       15055.500000     198050.000000     42.750000   \n",
       "max       40000.000000     849420.000000   1948.500000   \n",
       "\n",
       "       Absolute magnitude(Mv)   Star type  \n",
       "count              240.000000  240.000000  \n",
       "mean                 4.382396    2.500000  \n",
       "std                 10.532512    1.711394  \n",
       "min                -11.920000    0.000000  \n",
       "25%                 -6.232500    1.000000  \n",
       "50%                  8.313000    2.500000  \n",
       "75%                 13.697500    4.000000  \n",
       "max                 20.060000    5.000000  "
      ]
     },
     "execution_count": 7,
     "metadata": {},
     "output_type": "execute_result"
    }
   ],
   "source": [
    "df.describe()"
   ]
  },
  {
   "cell_type": "code",
   "execution_count": 8,
   "id": "ba5d9802",
   "metadata": {
    "scrolled": false
   },
   "outputs": [
    {
     "name": "stdout",
     "output_type": "stream",
     "text": [
      "\n"
     ]
    },
    {
     "data": {
      "image/png": "[encoded data removed]",
      "text/plain": [
       "<Figure size 1224x1080 with 6 Axes>"
      ]
     },
     "metadata": {
      "needs_background": "light"
     },
     "output_type": "display_data"
    }
   ],
   "source": [
    "fig = plt.figure(figsize=([17,15]))\n",
    "grid = plt.GridSpec(3, 3, wspace=0.4, hspace=0.3)\n",
    "\n",
    "\n",
    "g1 = plt.subplot(grid[0, 0])\n",
    "g2 = plt.subplot(grid[0, 1:])\n",
    "g3 = plt.subplot(grid[1, 0])\n",
    "g4 = plt.subplot(grid[1, 1])\n",
    "g5 = plt.subplot(grid[1, 2])\n",
    "g6 = plt.subplot(grid[2, 0:])\n",
    "\n",
    "\n",
    "g1.hist(df['Temperature (K)'], 50, facecolor='g', alpha=0.75)\n",
    "g1.grid(True)\n",
    "g1.set_xlabel('Temperature (K)')\n",
    "g1.set_ylabel('Count')\n",
    "g1.set_title('1. Количесво звезд по температуре')\n",
    "\n",
    "g2.scatter(df['Temperature (K)'], df['Star type'], edgecolors='g', c=\"g\", alpha=0.2)\n",
    "g2.grid(True)\n",
    "g2.set_xlabel('Temperature (K)')\n",
    "g2.set_ylabel('Star type')\n",
    "g2.set_title('2. Температура тип звёзд')\n",
    "\n",
    "g3.scatter(df['Temperature (K)'], df['Radius(R/Ro)'], edgecolors='g', c=\"g\", alpha=0.5)\n",
    "g3.grid(True)\n",
    "g3.set_xlabel('Temperature (K)')\n",
    "g3.set_ylabel('Radius(R/Ro)')\n",
    "g3.set_title('3. Температура радиус')\n",
    "\n",
    "g4.scatter(df['Temperature (K)'], df['Luminosity(L/Lo)'], edgecolors='g', c=\"g\", alpha=0.5)\n",
    "g4.grid(True)\n",
    "g4.set_xlabel('Temperature (K)')\n",
    "g4.set_ylabel('Luminosity(L/Lo)')\n",
    "g4.set_title('4. Температура свечение')\n",
    "\n",
    "g5.scatter(df['Temperature (K)'], df['Absolute magnitude(Mv)'], edgecolors='g', c=\"g\", alpha=0.5)\n",
    "g5.grid(True)\n",
    "g5.set_xlabel('Temperature (K)')\n",
    "g5.set_ylabel('Absolute magnitude(Mv)')\n",
    "g5.set_title('5. Температура абсолютная велечина')\n",
    "\n",
    "g6.scatter(df['Temperature (K)'], df['Luminosity(L/Lo)'], s=df['Radius(R/Ro)'], edgecolors='g', c=\"g\", alpha=0.2)\n",
    "g6.grid(True)\n",
    "g6.set_xlabel('Temperature (K)')\n",
    "g6.set_ylabel('Luminosity(L/Lo)')\n",
    "g6.set_title('6. Свечение температура радиус')\n",
    "print()"
   ]
  },
  {
   "cell_type": "code",
   "execution_count": 9,
   "id": "acceptable-forwarding",
   "metadata": {},
   "outputs": [
    {
     "data": {
      "text/html": [
       "<div>\n",
       "<style scoped>\n",
       "    .dataframe tbody tr th:only-of-type {\n",
       "        vertical-align: middle;\n",
       "    }\n",
       "\n",
       "    .dataframe tbody tr th {\n",
       "        vertical-align: top;\n",
       "    }\n",
       "\n",
       "    .dataframe thead th {\n",
       "        text-align: right;\n",
       "    }\n",
       "</style>\n",
       "<table border=\"1\" class=\"dataframe\">\n",
       "  <thead>\n",
       "    <tr style=\"text-align: right;\">\n",
       "      <th></th>\n",
       "      <th>Temperature (K)</th>\n",
       "      <th>Luminosity(L/Lo)</th>\n",
       "      <th>Radius(R/Ro)</th>\n",
       "      <th>Absolute magnitude(Mv)</th>\n",
       "      <th>Star type</th>\n",
       "    </tr>\n",
       "  </thead>\n",
       "  <tbody>\n",
       "    <tr>\n",
       "      <th>Temperature (K)</th>\n",
       "      <td>1.000000</td>\n",
       "      <td>0.393404</td>\n",
       "      <td>0.064216</td>\n",
       "      <td>-0.420261</td>\n",
       "      <td>0.411129</td>\n",
       "    </tr>\n",
       "    <tr>\n",
       "      <th>Luminosity(L/Lo)</th>\n",
       "      <td>0.393404</td>\n",
       "      <td>1.000000</td>\n",
       "      <td>0.526516</td>\n",
       "      <td>-0.692619</td>\n",
       "      <td>0.676845</td>\n",
       "    </tr>\n",
       "    <tr>\n",
       "      <th>Radius(R/Ro)</th>\n",
       "      <td>0.064216</td>\n",
       "      <td>0.526516</td>\n",
       "      <td>1.000000</td>\n",
       "      <td>-0.608728</td>\n",
       "      <td>0.660975</td>\n",
       "    </tr>\n",
       "    <tr>\n",
       "      <th>Absolute magnitude(Mv)</th>\n",
       "      <td>-0.420261</td>\n",
       "      <td>-0.692619</td>\n",
       "      <td>-0.608728</td>\n",
       "      <td>1.000000</td>\n",
       "      <td>-0.955276</td>\n",
       "    </tr>\n",
       "    <tr>\n",
       "      <th>Star type</th>\n",
       "      <td>0.411129</td>\n",
       "      <td>0.676845</td>\n",
       "      <td>0.660975</td>\n",
       "      <td>-0.955276</td>\n",
       "      <td>1.000000</td>\n",
       "    </tr>\n",
       "  </tbody>\n",
       "</table>\n",
       "</div>"
      ],
      "text/plain": [
       "                        Temperature (K)  Luminosity(L/Lo)  Radius(R/Ro)  \\\n",
       "Temperature (K)                1.000000          0.393404      0.064216   \n",
       "Luminosity(L/Lo)               0.393404          1.000000      0.526516   \n",
       "Radius(R/Ro)                   0.064216          0.526516      1.000000   \n",
       "Absolute magnitude(Mv)        -0.420261         -0.692619     -0.608728   \n",
       "Star type                      0.411129          0.676845      0.660975   \n",
       "\n",
       "                        Absolute magnitude(Mv)  Star type  \n",
       "Temperature (K)                      -0.420261   0.411129  \n",
       "Luminosity(L/Lo)                     -0.692619   0.676845  \n",
       "Radius(R/Ro)                         -0.608728   0.660975  \n",
       "Absolute magnitude(Mv)                1.000000  -0.955276  \n",
       "Star type                            -0.955276   1.000000  "
      ]
     },
     "execution_count": 9,
     "metadata": {},
     "output_type": "execute_result"
    }
   ],
   "source": [
    "df.corr()"
   ]
  },
  {
   "cell_type": "markdown",
   "id": "ce81735f",
   "metadata": {},
   "source": [
    "Из таблицы корреляций видно, что температура не имеет сильной связи с другими параметрами звезд."
   ]
  },
  {
   "cell_type": "markdown",
   "id": "a1d9181d",
   "metadata": {},
   "source": [
    "## Вывод\n",
    "Нельзя точно сказать от чего зависит температура звезды но:  \n",
    "#### На графиках видно:\n",
    "1. Большая часть звёзд находится в диапозоне до 100 000 кельвинов\n",
    "2. Наименьшую температуру имеют звезды 0 и 1 - го типа\n",
    "3. Звезды разных радиусов имеют разную температуру, но в основном чем меньше радиус тем меньше температура\n",
    "4. Яркие звезды чаще горячее менее ярких звезд\n",
    "5. Температура и обсолютная велечина не очень связаны между собой\n",
    "6. Размер звезды в совокупности с яркостью не очень сильно влияет на температуру"
   ]
  },
  {
   "cell_type": "code",
   "execution_count": 11,
   "id": "521a2757",
   "metadata": {},
   "outputs": [
    {
     "name": "stdout",
     "output_type": "stream",
     "text": [
      "Количесво признаков:\n",
      "red                   112\n",
      "blue                   55\n",
      "blue-white             27\n",
      "blue white             13\n",
      "white                  10\n",
      "yellow-white            8\n",
      "yellowish               3\n",
      "yellowish white         3\n",
      "orange                  2\n",
      "whitish                 2\n",
      "blue                    1\n",
      "blue white              1\n",
      "white-yellow            1\n",
      "orange-red              1\n",
      "pale yellow orange      1\n",
      "Name: Star color, dtype: int64, \n",
      "\n",
      "Проценты признаков:\n",
      "red                   46.666667\n",
      "blue                  22.916667\n",
      "blue-white            11.250000\n",
      "blue white             5.416667\n",
      "white                  4.166667\n",
      "yellow-white           3.333333\n",
      "yellowish              1.250000\n",
      "yellowish white        1.250000\n",
      "orange                 0.833333\n",
      "whitish                0.833333\n",
      "blue                   0.416667\n",
      "blue white             0.416667\n",
      "white-yellow           0.416667\n",
      "orange-red             0.416667\n",
      "pale yellow orange     0.416667\n",
      "Name: Star color, dtype: float64\n"
     ]
    }
   ],
   "source": [
    "# Исследую Star color. Видим что там разный регистр приведем всё к нижнему\n",
    "df['Star color'].unique()\n",
    "df['Star color'] = df['Star color'].str.lower()\n",
    "#Посомтрим размер категорий\n",
    "print(f\"Количесво признаков:\\n{df['Star color'].value_counts()}, \\n\\nПроценты признаков:\\n{df['Star color'].value_counts(normalize=True)*100}\")"
   ]
  },
  {
   "cell_type": "markdown",
   "id": "b6ec08e0",
   "metadata": {},
   "source": [
    "Перекос в балансе классов не будем брать в обучение."
   ]
  },
  {
   "cell_type": "code",
   "execution_count": 12,
   "id": "17acd783",
   "metadata": {},
   "outputs": [
    {
     "name": "stdout",
     "output_type": "stream",
     "text": [
      "Количесво признаков:\n",
      "0    40\n",
      "1    40\n",
      "2    40\n",
      "3    40\n",
      "4    40\n",
      "5    40\n",
      "Name: Star type, dtype: int64, \n",
      "\n",
      "Проценты признаков:\n",
      "0    16.666667\n",
      "1    16.666667\n",
      "2    16.666667\n",
      "3    16.666667\n",
      "4    16.666667\n",
      "5    16.666667\n",
      "Name: Star type, dtype: float64\n"
     ]
    }
   ],
   "source": [
    "# Баланс классов в Star type нам подходит\n",
    "print(f\"Количесво признаков:\\n{df['Star type'].value_counts()}, \\n\\nПроценты признаков:\\n{df['Star type'].value_counts(normalize=True)*100}\")"
   ]
  },
  {
   "cell_type": "code",
   "execution_count": 13,
   "id": "f089183a",
   "metadata": {},
   "outputs": [
    {
     "data": {
      "text/plain": [
       "['Star type']"
      ]
     },
     "execution_count": 13,
     "metadata": {},
     "output_type": "execute_result"
    }
   ],
   "source": [
    "# Получим категориальные признаки\n",
    "col=[]\n",
    "col.append('Star type')\n",
    "col"
   ]
  },
  {
   "cell_type": "code",
   "execution_count": 14,
   "id": "e389cfff",
   "metadata": {
    "scrolled": true
   },
   "outputs": [],
   "source": [
    "# Разделим выборки на тестовые и тренировочные\n",
    "features = df.drop(['Temperature (K)', 'Star color'], axis=1)\n",
    "target = df['Temperature (K)']\n",
    "\n",
    "# Применим OHE \n",
    "model_OHE = ColumnTransformer(\n",
    "    [('ohe', OneHotEncoder(), col)],\n",
    "    remainder = 'passthrough'\n",
    "    )\n",
    "\n",
    "dummified = model_OHE.fit_transform(features)\n",
    "features = pd.DataFrame(dummified)\n",
    "\n",
    "\n",
    "pt_features_train, pt_features_test, pt_target_train, pt_target_test = train_test_split(features,\n",
    "                                                                                        target,\n",
    "                                                                                        test_size=0.4,\n",
    "                                                                                        random_state=12345)\n",
    "\n",
    "pt_features_test, pt_features_valid, pt_target_test, pt_target_valid = train_test_split(pt_features_test,\n",
    "                                                                                        pt_target_test,\n",
    "                                                                                        test_size=0.5,\n",
    "                                                                                        random_state=12345)\n",
    "\n",
    "# Нормализуем все численные признаки\n",
    "scaler = StandardScaler()\n",
    "scaler.fit(pt_features_train)\n",
    "\n",
    "pt_features_train = scaler.transform(pt_features_train)\n",
    "pt_features_test = scaler.transform(pt_features_test)\n",
    "pt_features_valid = scaler.transform(pt_features_valid)\n"
   ]
  },
  {
   "cell_type": "markdown",
   "id": "funded-electric",
   "metadata": {},
   "source": [
    "## Построение базовой нейронной сети"
   ]
  },
  {
   "cell_type": "code",
   "execution_count": 15,
   "id": "fffadd99",
   "metadata": {},
   "outputs": [
    {
     "name": "stdout",
     "output_type": "stream",
     "text": [
      "tensor(13685.1367, grad_fn=<SqrtBackward0>) : tensor(13685.1230, grad_fn=<SqrtBackward0>)\n"
     ]
    },
    {
     "name": "stderr",
     "output_type": "stream",
     "text": [
      "/opt/conda/lib/python3.9/site-packages/torch/nn/modules/loss.py:520: UserWarning: Using a target size (torch.Size([144])) that is different to the input size (torch.Size([144, 1])). This will likely lead to incorrect results due to broadcasting. Please ensure they have the same size.\n",
      "  return F.mse_loss(input, target, reduction=self.reduction)\n"
     ]
    }
   ],
   "source": [
    "class Net(nn.Module):\n",
    "    def __init__(self, n_in_neurons, n_hidden_neurons_1, n_hidden_neurons_2, n_out_neurons):\n",
    "        super(Net, self).__init__()\n",
    "        \n",
    "        self.fc1 = nn.Linear(n_in_neurons, n_hidden_neurons_1)\n",
    "        self.act1 = nn.ReLU()\n",
    "        \n",
    "        self.fc2 = nn.Linear(n_hidden_neurons_1, n_hidden_neurons_2)\n",
    "        self.act2 = nn.ReLU()\n",
    "\n",
    "        self.fc3 = nn.Linear(n_hidden_neurons_2, n_out_neurons)\n",
    "        self.act3 = nn.ReLU()\n",
    "\n",
    "    def forward(self, x):\n",
    "        x = self.fc1(x)\n",
    "        x = self.act1(x)\n",
    "\n",
    "        x = self.fc2(x)\n",
    "        x = self.act2(x)\n",
    "\n",
    "        x = self.fc3(x)\n",
    "        x = self.act3(x)\n",
    "        return x\n",
    "    \n",
    "net = Net(9,11,7,1)\n",
    "X_train = torch.Tensor(pt_features_train)\n",
    "y_train = torch.Tensor(pt_target_train)\n",
    "\n",
    "X_test = torch.Tensor(pt_features_test)\n",
    "y_test = torch.Tensor(pt_target_test.values)\n",
    "\n",
    "res = net.forward(X_train)\n",
    "\n",
    "#loss = nn.L1Loss()\n",
    "mse = nn.MSELoss()\n",
    "RMSE = torch.sqrt(mse(res.flatten(), y_train))\n",
    "RMSE2 = torch.sqrt(mse(res, y_train))\n",
    "print(RMSE,':' , RMSE2)"
   ]
  },
  {
   "cell_type": "code",
   "execution_count": 16,
   "id": "d78f711c",
   "metadata": {},
   "outputs": [
    {
     "data": {
      "image/png": "[encoded data removed]",
      "text/plain": [
       "<Figure size 1224x288 with 1 Axes>"
      ]
     },
     "metadata": {
      "needs_background": "light"
     },
     "output_type": "display_data"
    }
   ],
   "source": [
    "net.eval()\n",
    "test_preds = net.forward(X_test)*100000\n",
    "test_preds_list = sum(test_preds.tolist(), [])\n",
    "barplot_for_predict(test_preds_list,y_test.tolist())"
   ]
  },
  {
   "cell_type": "code",
   "execution_count": 19,
   "id": "d0572d0b",
   "metadata": {},
   "outputs": [
    {
     "data": {
      "text/plain": [
       "(array([[24178.826],\n",
       "        [20084.758],\n",
       "        [12329.642],\n",
       "        [20883.885],\n",
       "        [21731.963],\n",
       "        [11377.078],\n",
       "        [11236.259],\n",
       "        [20271.117],\n",
       "        [24441.533],\n",
       "        [ 5514.087],\n",
       "        [24695.566],\n",
       "        [20447.596],\n",
       "        [20219.021],\n",
       "        [20957.473],\n",
       "        [20154.283],\n",
       "        [24202.633],\n",
       "        [20931.535],\n",
       "        [14546.324],\n",
       "        [22774.97 ],\n",
       "        [20993.287],\n",
       "        [24079.91 ],\n",
       "        [10809.957],\n",
       "        [20558.41 ],\n",
       "        [21948.562],\n",
       "        [20994.732],\n",
       "        [20944.248],\n",
       "        [10000.459],\n",
       "        [13706.515],\n",
       "        [20360.453],\n",
       "        [13154.907],\n",
       "        [24646.148],\n",
       "        [10415.098],\n",
       "        [12493.693],\n",
       "        [20884.342],\n",
       "        [20963.127],\n",
       "        [20505.29 ],\n",
       "        [11320.606],\n",
       "        [10255.999],\n",
       "        [20308.057],\n",
       "        [20192.332],\n",
       "        [20915.484],\n",
       "        [12254.934],\n",
       "        [22340.646],\n",
       "        [11729.057],\n",
       "        [ 5456.94 ],\n",
       "        [12277.958],\n",
       "        [ 5479.005],\n",
       "        [20223.209]], dtype=float32),\n",
       " array([ 2856.,  3607., 30839., 13340., 16787.,  8945.,  3500.,  3150.,\n",
       "         2945., 36108.,  3323.,  3598.,  3091., 19860.,  3692.,  2778.,\n",
       "        16500.,  3660.,  3270., 25000.,  3218.,  3834.,  3243., 33300.,\n",
       "        24020., 19360., 20120.,  4077.,  2621.,  4980.,  2774., 11250.,\n",
       "         3490., 14732., 18340.,  3542.,  3614.,  9235.,  3345.,  3100.,\n",
       "        14982.,  8052., 26373.,  3615., 37800.,  3570., 39000.,  3462.],\n",
       "       dtype=float32))"
      ]
     },
     "execution_count": 19,
     "metadata": {},
     "output_type": "execute_result"
    }
   ],
   "source": [
    "test_preds.data.numpy(),y_test.data.numpy()"
   ]
  },
  {
   "cell_type": "code",
   "execution_count": null,
   "id": "af03ae25",
   "metadata": {},
   "outputs": [],
   "source": []
  },
  {
   "cell_type": "markdown",
   "id": "1ed96042",
   "metadata": {},
   "source": [
    "На данный момент видно, что модель предсказывает чуть хуже чем никак"
   ]
  },
  {
   "cell_type": "markdown",
   "id": "2c2fe4b9",
   "metadata": {},
   "source": [
    "## Шаг 5. Улучшение сети"
   ]
  },
  {
   "cell_type": "markdown",
   "id": "086fc2b3",
   "metadata": {},
   "source": [
    "Тут создам класс и функцию с нейронкой за skorch спасибо, но его изучать надо."
   ]
  },
  {
   "cell_type": "code",
   "execution_count": 277,
   "id": "f375c4b1",
   "metadata": {},
   "outputs": [],
   "source": [
    "\n",
    "class Net(nn.Module):\n",
    "    def __init__(self, n_in_neurons, n_hidden_neurons_1, n_hidden_neurons_2, n_out_neurons):\n",
    "        super(Net, self).__init__()\n",
    "        \n",
    "        self.fc1 = nn.Linear(n_in_neurons, n_hidden_neurons_1)\n",
    "        self.dp1 = nn.Dropout(p=0.8)\n",
    "        self.act1 = nn.ReLU()\n",
    "        \n",
    "        self.fc2 = nn.Linear(n_hidden_neurons_1, n_hidden_neurons_2)\n",
    "        self.bn2 = nn.BatchNorm1d(n_hidden_neurons_2)\n",
    "        self.dp2 = nn.Dropout(p=0.1)\n",
    "\n",
    "        self.fc3 = nn.Linear(n_hidden_neurons_2, n_out_neurons)\n",
    "        self.act3 = nn.ReLU()\n",
    "\n",
    "    def forward(self, x):\n",
    "        x = self.fc1(x)\n",
    "        x = self.dp1(x)\n",
    "        x = self.act1(x)\n",
    "\n",
    "        x = self.fc2(x)\n",
    "        x = self.bn2(x)\n",
    "        x = self.dp2(x)\n",
    "\n",
    "        x = self.fc3(x)\n",
    "        x = self.act3(x)\n",
    "        \n",
    "        return x\n",
    "def neural_network(n0:int, n1:int, n2:int, nout:int, e:int, x_tr:'tentor', y_tr:'tentor', x_te:'tentor', y_te:'tentor')->'tuple':\n",
    "\n",
    "    t_start = time.monotonic()\n",
    "    n0 = x_tr.size()[1]\n",
    "    nout = 1\n",
    "    net = Net(n0,n1,n2,nout)\n",
    "    loss = nn.MSELoss()\n",
    "    optimizer = torch.optim.Adam(net.parameters(), lr=1e-3)\n",
    "    num_epochs = e\n",
    "    \n",
    "    preds = net.forward(X_train).flatten()\n",
    "    RMSE_loss = torch.sqrt(loss(preds, y_train))\n",
    "    \n",
    "    best_RMSE = RMSE_loss\n",
    "    best_epoch = 0\n",
    "    best_model = 1\n",
    "    for epoch in range(num_epochs):\n",
    "        optimizer.zero_grad()\n",
    "        preds = net.forward(X_train).flatten()\n",
    "        RMSE_loss = torch.sqrt(loss(preds, y_train))\n",
    "        RMSE_loss.backward()\n",
    "        if best_RMSE > RMSE_loss:\n",
    "            best_RMSE = RMSE_loss\n",
    "            best_epoch = epoch\n",
    "            best_model = net\n",
    "        optimizer.step()\n",
    "    t_stop = time.monotonic()\n",
    "    j_time = t_stop - t_start\n",
    "    return (best_RMSE.tolist(), n1, n2, best_epoch, j_time, best_model)\n",
    "\n",
    "   "
   ]
  },
  {
   "cell_type": "code",
   "execution_count": null,
   "id": "3e64f682",
   "metadata": {},
   "outputs": [],
   "source": [
    "list(range(1,5002, 1000))"
   ]
  },
  {
   "cell_type": "markdown",
   "id": "969cf695",
   "metadata": {},
   "source": [
    "Тут расчеты на долго ))"
   ]
  },
  {
   "cell_type": "code",
   "execution_count": 278,
   "id": "5b71c997",
   "metadata": {},
   "outputs": [
    {
     "name": "stdout",
     "output_type": "stream",
     "text": [
      "1\n",
      "501\n",
      "1001\n"
     ]
    },
    {
     "data": {
      "text/plain": [
       "[(13684.638671875,\n",
       "  1,\n",
       "  1,\n",
       "  0,\n",
       "  0.0030040270648896694,\n",
       "  Net(\n",
       "    (fc1): Linear(in_features=9, out_features=1, bias=True)\n",
       "    (dp1): Dropout(p=0.8, inplace=False)\n",
       "    (act1): ReLU()\n",
       "    (fc2): Linear(in_features=1, out_features=1, bias=True)\n",
       "    (bn2): BatchNorm1d(1, eps=1e-05, momentum=0.1, affine=True, track_running_stats=True)\n",
       "    (dp2): Dropout(p=0.1, inplace=False)\n",
       "    (fc3): Linear(in_features=1, out_features=1, bias=True)\n",
       "    (act3): ReLU()\n",
       "  )),\n",
       " (13673.9189453125,\n",
       "  1,\n",
       "  1,\n",
       "  1997,\n",
       "  9.783591341925785,\n",
       "  Net(\n",
       "    (fc1): Linear(in_features=9, out_features=1, bias=True)\n",
       "    (dp1): Dropout(p=0.8, inplace=False)\n",
       "    (act1): ReLU()\n",
       "    (fc2): Linear(in_features=1, out_features=1, bias=True)\n",
       "    (bn2): BatchNorm1d(1, eps=1e-05, momentum=0.1, affine=True, track_running_stats=True)\n",
       "    (dp2): Dropout(p=0.1, inplace=False)\n",
       "    (fc3): Linear(in_features=1, out_features=1, bias=True)\n",
       "    (act3): ReLU()\n",
       "  )),\n",
       " (13685.26171875, 1, 1, 0, 18.096508984919637, 1),\n",
       " (13685.1376953125,\n",
       "  1,\n",
       "  501,\n",
       "  0,\n",
       "  0.0025047799572348595,\n",
       "  Net(\n",
       "    (fc1): Linear(in_features=9, out_features=1, bias=True)\n",
       "    (dp1): Dropout(p=0.8, inplace=False)\n",
       "    (act1): ReLU()\n",
       "    (fc2): Linear(in_features=1, out_features=501, bias=True)\n",
       "    (bn2): BatchNorm1d(501, eps=1e-05, momentum=0.1, affine=True, track_running_stats=True)\n",
       "    (dp2): Dropout(p=0.1, inplace=False)\n",
       "    (fc3): Linear(in_features=501, out_features=1, bias=True)\n",
       "    (act3): ReLU()\n",
       "  )),\n",
       " (10545.67578125,\n",
       "  1,\n",
       "  501,\n",
       "  1981,\n",
       "  12.916301607852802,\n",
       "  Net(\n",
       "    (fc1): Linear(in_features=9, out_features=1, bias=True)\n",
       "    (dp1): Dropout(p=0.8, inplace=False)\n",
       "    (act1): ReLU()\n",
       "    (fc2): Linear(in_features=1, out_features=501, bias=True)\n",
       "    (bn2): BatchNorm1d(501, eps=1e-05, momentum=0.1, affine=True, track_running_stats=True)\n",
       "    (dp2): Dropout(p=0.1, inplace=False)\n",
       "    (fc3): Linear(in_features=501, out_features=1, bias=True)\n",
       "    (act3): ReLU()\n",
       "  )),\n",
       " (9096.19140625,\n",
       "  1,\n",
       "  501,\n",
       "  3790,\n",
       "  26.27783212182112,\n",
       "  Net(\n",
       "    (fc1): Linear(in_features=9, out_features=1, bias=True)\n",
       "    (dp1): Dropout(p=0.8, inplace=False)\n",
       "    (act1): ReLU()\n",
       "    (fc2): Linear(in_features=1, out_features=501, bias=True)\n",
       "    (bn2): BatchNorm1d(501, eps=1e-05, momentum=0.1, affine=True, track_running_stats=True)\n",
       "    (dp2): Dropout(p=0.1, inplace=False)\n",
       "    (fc3): Linear(in_features=501, out_features=1, bias=True)\n",
       "    (act3): ReLU()\n",
       "  )),\n",
       " (13685.169921875,\n",
       "  1,\n",
       "  1001,\n",
       "  0,\n",
       "  0.003053307067602873,\n",
       "  Net(\n",
       "    (fc1): Linear(in_features=9, out_features=1, bias=True)\n",
       "    (dp1): Dropout(p=0.8, inplace=False)\n",
       "    (act1): ReLU()\n",
       "    (fc2): Linear(in_features=1, out_features=1001, bias=True)\n",
       "    (bn2): BatchNorm1d(1001, eps=1e-05, momentum=0.1, affine=True, track_running_stats=True)\n",
       "    (dp2): Dropout(p=0.1, inplace=False)\n",
       "    (fc3): Linear(in_features=1001, out_features=1, bias=True)\n",
       "    (act3): ReLU()\n",
       "  )),\n",
       " (8979.1376953125,\n",
       "  1,\n",
       "  1001,\n",
       "  1995,\n",
       "  16.09836639696732,\n",
       "  Net(\n",
       "    (fc1): Linear(in_features=9, out_features=1, bias=True)\n",
       "    (dp1): Dropout(p=0.8, inplace=False)\n",
       "    (act1): ReLU()\n",
       "    (fc2): Linear(in_features=1, out_features=1001, bias=True)\n",
       "    (bn2): BatchNorm1d(1001, eps=1e-05, momentum=0.1, affine=True, track_running_stats=True)\n",
       "    (dp2): Dropout(p=0.1, inplace=False)\n",
       "    (fc3): Linear(in_features=1001, out_features=1, bias=True)\n",
       "    (act3): ReLU()\n",
       "  )),\n",
       " (8163.07568359375,\n",
       "  1,\n",
       "  1001,\n",
       "  3263,\n",
       "  30.41192864207551,\n",
       "  Net(\n",
       "    (fc1): Linear(in_features=9, out_features=1, bias=True)\n",
       "    (dp1): Dropout(p=0.8, inplace=False)\n",
       "    (act1): ReLU()\n",
       "    (fc2): Linear(in_features=1, out_features=1001, bias=True)\n",
       "    (bn2): BatchNorm1d(1001, eps=1e-05, momentum=0.1, affine=True, track_running_stats=True)\n",
       "    (dp2): Dropout(p=0.1, inplace=False)\n",
       "    (fc3): Linear(in_features=1001, out_features=1, bias=True)\n",
       "    (act3): ReLU()\n",
       "  )),\n",
       " (13684.576171875,\n",
       "  501,\n",
       "  1,\n",
       "  0,\n",
       "  0.08490386884659529,\n",
       "  Net(\n",
       "    (fc1): Linear(in_features=9, out_features=501, bias=True)\n",
       "    (dp1): Dropout(p=0.8, inplace=False)\n",
       "    (act1): ReLU()\n",
       "    (fc2): Linear(in_features=501, out_features=1, bias=True)\n",
       "    (bn2): BatchNorm1d(1, eps=1e-05, momentum=0.1, affine=True, track_running_stats=True)\n",
       "    (dp2): Dropout(p=0.1, inplace=False)\n",
       "    (fc3): Linear(in_features=1, out_features=1, bias=True)\n",
       "    (act3): ReLU()\n",
       "  )),\n",
       " (13668.05078125,\n",
       "  501,\n",
       "  1,\n",
       "  1989,\n",
       "  13.409164051059633,\n",
       "  Net(\n",
       "    (fc1): Linear(in_features=9, out_features=501, bias=True)\n",
       "    (dp1): Dropout(p=0.8, inplace=False)\n",
       "    (act1): ReLU()\n",
       "    (fc2): Linear(in_features=501, out_features=1, bias=True)\n",
       "    (bn2): BatchNorm1d(1, eps=1e-05, momentum=0.1, affine=True, track_running_stats=True)\n",
       "    (dp2): Dropout(p=0.1, inplace=False)\n",
       "    (fc3): Linear(in_features=1, out_features=1, bias=True)\n",
       "    (act3): ReLU()\n",
       "  )),\n",
       " (13633.513671875,\n",
       "  501,\n",
       "  1,\n",
       "  3982,\n",
       "  26.70849930588156,\n",
       "  Net(\n",
       "    (fc1): Linear(in_features=9, out_features=501, bias=True)\n",
       "    (dp1): Dropout(p=0.8, inplace=False)\n",
       "    (act1): ReLU()\n",
       "    (fc2): Linear(in_features=501, out_features=1, bias=True)\n",
       "    (bn2): BatchNorm1d(1, eps=1e-05, momentum=0.1, affine=True, track_running_stats=True)\n",
       "    (dp2): Dropout(p=0.1, inplace=False)\n",
       "    (fc3): Linear(in_features=1, out_features=1, bias=True)\n",
       "    (act3): ReLU()\n",
       "  )),\n",
       " (13685.013671875,\n",
       "  501,\n",
       "  501,\n",
       "  0,\n",
       "  0.08117552008479834,\n",
       "  Net(\n",
       "    (fc1): Linear(in_features=9, out_features=501, bias=True)\n",
       "    (dp1): Dropout(p=0.8, inplace=False)\n",
       "    (act1): ReLU()\n",
       "    (fc2): Linear(in_features=501, out_features=501, bias=True)\n",
       "    (bn2): BatchNorm1d(501, eps=1e-05, momentum=0.1, affine=True, track_running_stats=True)\n",
       "    (dp2): Dropout(p=0.1, inplace=False)\n",
       "    (fc3): Linear(in_features=501, out_features=1, bias=True)\n",
       "    (act3): ReLU()\n",
       "  )),\n",
       " (7770.60791015625,\n",
       "  501,\n",
       "  501,\n",
       "  1992,\n",
       "  28.013844090048224,\n",
       "  Net(\n",
       "    (fc1): Linear(in_features=9, out_features=501, bias=True)\n",
       "    (dp1): Dropout(p=0.8, inplace=False)\n",
       "    (act1): ReLU()\n",
       "    (fc2): Linear(in_features=501, out_features=501, bias=True)\n",
       "    (bn2): BatchNorm1d(501, eps=1e-05, momentum=0.1, affine=True, track_running_stats=True)\n",
       "    (dp2): Dropout(p=0.1, inplace=False)\n",
       "    (fc3): Linear(in_features=501, out_features=1, bias=True)\n",
       "    (act3): ReLU()\n",
       "  )),\n",
       " (4004.41259765625,\n",
       "  501,\n",
       "  501,\n",
       "  3999,\n",
       "  56.79627380799502,\n",
       "  Net(\n",
       "    (fc1): Linear(in_features=9, out_features=501, bias=True)\n",
       "    (dp1): Dropout(p=0.8, inplace=False)\n",
       "    (act1): ReLU()\n",
       "    (fc2): Linear(in_features=501, out_features=501, bias=True)\n",
       "    (bn2): BatchNorm1d(501, eps=1e-05, momentum=0.1, affine=True, track_running_stats=True)\n",
       "    (dp2): Dropout(p=0.1, inplace=False)\n",
       "    (fc3): Linear(in_features=501, out_features=1, bias=True)\n",
       "    (act3): ReLU()\n",
       "  )),\n",
       " (13685.05078125,\n",
       "  501,\n",
       "  1001,\n",
       "  0,\n",
       "  0.00889378017745912,\n",
       "  Net(\n",
       "    (fc1): Linear(in_features=9, out_features=501, bias=True)\n",
       "    (dp1): Dropout(p=0.8, inplace=False)\n",
       "    (act1): ReLU()\n",
       "    (fc2): Linear(in_features=501, out_features=1001, bias=True)\n",
       "    (bn2): BatchNorm1d(1001, eps=1e-05, momentum=0.1, affine=True, track_running_stats=True)\n",
       "    (dp2): Dropout(p=0.1, inplace=False)\n",
       "    (fc3): Linear(in_features=1001, out_features=1, bias=True)\n",
       "    (act3): ReLU()\n",
       "  )),\n",
       " (4884.58984375,\n",
       "  501,\n",
       "  1001,\n",
       "  1919,\n",
       "  45.19321916392073,\n",
       "  Net(\n",
       "    (fc1): Linear(in_features=9, out_features=501, bias=True)\n",
       "    (dp1): Dropout(p=0.8, inplace=False)\n",
       "    (act1): ReLU()\n",
       "    (fc2): Linear(in_features=501, out_features=1001, bias=True)\n",
       "    (bn2): BatchNorm1d(1001, eps=1e-05, momentum=0.1, affine=True, track_running_stats=True)\n",
       "    (dp2): Dropout(p=0.1, inplace=False)\n",
       "    (fc3): Linear(in_features=1001, out_features=1, bias=True)\n",
       "    (act3): ReLU()\n",
       "  )),\n",
       " (3689.65234375,\n",
       "  501,\n",
       "  1001,\n",
       "  3904,\n",
       "  105.89741210313514,\n",
       "  Net(\n",
       "    (fc1): Linear(in_features=9, out_features=501, bias=True)\n",
       "    (dp1): Dropout(p=0.8, inplace=False)\n",
       "    (act1): ReLU()\n",
       "    (fc2): Linear(in_features=501, out_features=1001, bias=True)\n",
       "    (bn2): BatchNorm1d(1001, eps=1e-05, momentum=0.1, affine=True, track_running_stats=True)\n",
       "    (dp2): Dropout(p=0.1, inplace=False)\n",
       "    (fc3): Linear(in_features=1001, out_features=1, bias=True)\n",
       "    (act3): ReLU()\n",
       "  )),\n",
       " (13685.095703125,\n",
       "  1001,\n",
       "  1,\n",
       "  0,\n",
       "  0.0032170861959457397,\n",
       "  Net(\n",
       "    (fc1): Linear(in_features=9, out_features=1001, bias=True)\n",
       "    (dp1): Dropout(p=0.8, inplace=False)\n",
       "    (act1): ReLU()\n",
       "    (fc2): Linear(in_features=1001, out_features=1, bias=True)\n",
       "    (bn2): BatchNorm1d(1, eps=1e-05, momentum=0.1, affine=True, track_running_stats=True)\n",
       "    (dp2): Dropout(p=0.1, inplace=False)\n",
       "    (fc3): Linear(in_features=1, out_features=1, bias=True)\n",
       "    (act3): ReLU()\n",
       "  )),\n",
       " (13669.57421875,\n",
       "  1001,\n",
       "  1,\n",
       "  1990,\n",
       "  16.2018487888854,\n",
       "  Net(\n",
       "    (fc1): Linear(in_features=9, out_features=1001, bias=True)\n",
       "    (dp1): Dropout(p=0.8, inplace=False)\n",
       "    (act1): ReLU()\n",
       "    (fc2): Linear(in_features=1001, out_features=1, bias=True)\n",
       "    (bn2): BatchNorm1d(1, eps=1e-05, momentum=0.1, affine=True, track_running_stats=True)\n",
       "    (dp2): Dropout(p=0.1, inplace=False)\n",
       "    (fc3): Linear(in_features=1, out_features=1, bias=True)\n",
       "    (act3): ReLU()\n",
       "  )),\n",
       " (13632.7490234375,\n",
       "  1001,\n",
       "  1,\n",
       "  3953,\n",
       "  45.29834859794937,\n",
       "  Net(\n",
       "    (fc1): Linear(in_features=9, out_features=1001, bias=True)\n",
       "    (dp1): Dropout(p=0.8, inplace=False)\n",
       "    (act1): ReLU()\n",
       "    (fc2): Linear(in_features=1001, out_features=1, bias=True)\n",
       "    (bn2): BatchNorm1d(1, eps=1e-05, momentum=0.1, affine=True, track_running_stats=True)\n",
       "    (dp2): Dropout(p=0.1, inplace=False)\n",
       "    (fc3): Linear(in_features=1, out_features=1, bias=True)\n",
       "    (act3): ReLU()\n",
       "  )),\n",
       " (13685.0654296875,\n",
       "  1001,\n",
       "  501,\n",
       "  0,\n",
       "  0.013331281952559948,\n",
       "  Net(\n",
       "    (fc1): Linear(in_features=9, out_features=1001, bias=True)\n",
       "    (dp1): Dropout(p=0.8, inplace=False)\n",
       "    (act1): ReLU()\n",
       "    (fc2): Linear(in_features=1001, out_features=501, bias=True)\n",
       "    (bn2): BatchNorm1d(501, eps=1e-05, momentum=0.1, affine=True, track_running_stats=True)\n",
       "    (dp2): Dropout(p=0.1, inplace=False)\n",
       "    (fc3): Linear(in_features=501, out_features=1, bias=True)\n",
       "    (act3): ReLU()\n",
       "  )),\n",
       " (7749.4013671875,\n",
       "  1001,\n",
       "  501,\n",
       "  1983,\n",
       "  89.89194989809766,\n",
       "  Net(\n",
       "    (fc1): Linear(in_features=9, out_features=1001, bias=True)\n",
       "    (dp1): Dropout(p=0.8, inplace=False)\n",
       "    (act1): ReLU()\n",
       "    (fc2): Linear(in_features=1001, out_features=501, bias=True)\n",
       "    (bn2): BatchNorm1d(501, eps=1e-05, momentum=0.1, affine=True, track_running_stats=True)\n",
       "    (dp2): Dropout(p=0.1, inplace=False)\n",
       "    (fc3): Linear(in_features=501, out_features=1, bias=True)\n",
       "    (act3): ReLU()\n",
       "  )),\n",
       " (3684.959716796875,\n",
       "  1001,\n",
       "  501,\n",
       "  3918,\n",
       "  95.88969599502161,\n",
       "  Net(\n",
       "    (fc1): Linear(in_features=9, out_features=1001, bias=True)\n",
       "    (dp1): Dropout(p=0.8, inplace=False)\n",
       "    (act1): ReLU()\n",
       "    (fc2): Linear(in_features=1001, out_features=501, bias=True)\n",
       "    (bn2): BatchNorm1d(501, eps=1e-05, momentum=0.1, affine=True, track_running_stats=True)\n",
       "    (dp2): Dropout(p=0.1, inplace=False)\n",
       "    (fc3): Linear(in_features=501, out_features=1, bias=True)\n",
       "    (act3): ReLU()\n",
       "  )),\n",
       " (13685.083984375,\n",
       "  1001,\n",
       "  1001,\n",
       "  0,\n",
       "  0.09062004019506276,\n",
       "  Net(\n",
       "    (fc1): Linear(in_features=9, out_features=1001, bias=True)\n",
       "    (dp1): Dropout(p=0.8, inplace=False)\n",
       "    (act1): ReLU()\n",
       "    (fc2): Linear(in_features=1001, out_features=1001, bias=True)\n",
       "    (bn2): BatchNorm1d(1001, eps=1e-05, momentum=0.1, affine=True, track_running_stats=True)\n",
       "    (dp2): Dropout(p=0.1, inplace=False)\n",
       "    (fc3): Linear(in_features=1001, out_features=1, bias=True)\n",
       "    (act3): ReLU()\n",
       "  )),\n",
       " (4498.0126953125,\n",
       "  1001,\n",
       "  1001,\n",
       "  2000,\n",
       "  63.90453597414307,\n",
       "  Net(\n",
       "    (fc1): Linear(in_features=9, out_features=1001, bias=True)\n",
       "    (dp1): Dropout(p=0.8, inplace=False)\n",
       "    (act1): ReLU()\n",
       "    (fc2): Linear(in_features=1001, out_features=1001, bias=True)\n",
       "    (bn2): BatchNorm1d(1001, eps=1e-05, momentum=0.1, affine=True, track_running_stats=True)\n",
       "    (dp2): Dropout(p=0.1, inplace=False)\n",
       "    (fc3): Linear(in_features=1001, out_features=1, bias=True)\n",
       "    (act3): ReLU()\n",
       "  )),\n",
       " (3614.674072265625,\n",
       "  1001,\n",
       "  1001,\n",
       "  3410,\n",
       "  135.41124466713518,\n",
       "  Net(\n",
       "    (fc1): Linear(in_features=9, out_features=1001, bias=True)\n",
       "    (dp1): Dropout(p=0.8, inplace=False)\n",
       "    (act1): ReLU()\n",
       "    (fc2): Linear(in_features=1001, out_features=1001, bias=True)\n",
       "    (bn2): BatchNorm1d(1001, eps=1e-05, momentum=0.1, affine=True, track_running_stats=True)\n",
       "    (dp2): Dropout(p=0.1, inplace=False)\n",
       "    (fc3): Linear(in_features=1001, out_features=1, bias=True)\n",
       "    (act3): ReLU()\n",
       "  ))]"
      ]
     },
     "execution_count": 278,
     "metadata": {},
     "output_type": "execute_result"
    }
   ],
   "source": [
    "#a = neural_network(9,1000,500,1,100, X_train, y_train, X_test, y_test)\n",
    "X_train = torch.Tensor(pt_features_train)\n",
    "y_train = torch.Tensor(pt_target_train)\n",
    "\n",
    "X_test = torch.Tensor(pt_features_test)\n",
    "y_test = torch.Tensor(pt_target_test.values)\n",
    "\n",
    "result_list = []\n",
    "n1_r = range(1,1002, 500)\n",
    "n2_r = range(1, 1002, 500)\n",
    "e_r = range(1,5002, 2000)\n",
    "\n",
    "for n1_i in n1_r:\n",
    "    for n2_i in n2_r:\n",
    "        for e_i in e_r:\n",
    "            a = neural_network(9,n1_i,n2_i,1,e_i, X_train, y_train, X_test, y_test)\n",
    "            result_list.append(a)\n",
    "    print(n1_i)\n",
    "result_list"
   ]
  },
  {
   "cell_type": "markdown",
   "id": "accurate-infrastructure",
   "metadata": {},
   "source": [
    "## Выводы"
   ]
  },
  {
   "cell_type": "markdown",
   "id": "a2ab1fce",
   "metadata": {},
   "source": [
    "Посмотрим на лучшие результаты"
   ]
  },
  {
   "cell_type": "code",
   "execution_count": 300,
   "id": "d6b0a9ca",
   "metadata": {
    "scrolled": true
   },
   "outputs": [
    {
     "data": {
      "text/html": [
       "<div>\n",
       "<style scoped>\n",
       "    .dataframe tbody tr th:only-of-type {\n",
       "        vertical-align: middle;\n",
       "    }\n",
       "\n",
       "    .dataframe tbody tr th {\n",
       "        vertical-align: top;\n",
       "    }\n",
       "\n",
       "    .dataframe thead th {\n",
       "        text-align: right;\n",
       "    }\n",
       "</style>\n",
       "<table border=\"1\" class=\"dataframe\">\n",
       "  <thead>\n",
       "    <tr style=\"text-align: right;\">\n",
       "      <th></th>\n",
       "      <th>0</th>\n",
       "      <th>1</th>\n",
       "      <th>2</th>\n",
       "      <th>3</th>\n",
       "      <th>4</th>\n",
       "    </tr>\n",
       "  </thead>\n",
       "  <tbody>\n",
       "    <tr>\n",
       "      <th>26</th>\n",
       "      <td>3614.674072</td>\n",
       "      <td>1001</td>\n",
       "      <td>1001</td>\n",
       "      <td>3410</td>\n",
       "      <td>135.411245</td>\n",
       "    </tr>\n",
       "    <tr>\n",
       "      <th>23</th>\n",
       "      <td>3684.959717</td>\n",
       "      <td>1001</td>\n",
       "      <td>501</td>\n",
       "      <td>3918</td>\n",
       "      <td>95.889696</td>\n",
       "    </tr>\n",
       "    <tr>\n",
       "      <th>17</th>\n",
       "      <td>3689.652344</td>\n",
       "      <td>501</td>\n",
       "      <td>1001</td>\n",
       "      <td>3904</td>\n",
       "      <td>105.897412</td>\n",
       "    </tr>\n",
       "    <tr>\n",
       "      <th>14</th>\n",
       "      <td>4004.412598</td>\n",
       "      <td>501</td>\n",
       "      <td>501</td>\n",
       "      <td>3999</td>\n",
       "      <td>56.796274</td>\n",
       "    </tr>\n",
       "    <tr>\n",
       "      <th>25</th>\n",
       "      <td>4498.012695</td>\n",
       "      <td>1001</td>\n",
       "      <td>1001</td>\n",
       "      <td>2000</td>\n",
       "      <td>63.904536</td>\n",
       "    </tr>\n",
       "    <tr>\n",
       "      <th>16</th>\n",
       "      <td>4884.589844</td>\n",
       "      <td>501</td>\n",
       "      <td>1001</td>\n",
       "      <td>1919</td>\n",
       "      <td>45.193219</td>\n",
       "    </tr>\n",
       "    <tr>\n",
       "      <th>22</th>\n",
       "      <td>7749.401367</td>\n",
       "      <td>1001</td>\n",
       "      <td>501</td>\n",
       "      <td>1983</td>\n",
       "      <td>89.891950</td>\n",
       "    </tr>\n",
       "    <tr>\n",
       "      <th>13</th>\n",
       "      <td>7770.607910</td>\n",
       "      <td>501</td>\n",
       "      <td>501</td>\n",
       "      <td>1992</td>\n",
       "      <td>28.013844</td>\n",
       "    </tr>\n",
       "    <tr>\n",
       "      <th>8</th>\n",
       "      <td>8163.075684</td>\n",
       "      <td>1</td>\n",
       "      <td>1001</td>\n",
       "      <td>3263</td>\n",
       "      <td>30.411929</td>\n",
       "    </tr>\n",
       "    <tr>\n",
       "      <th>7</th>\n",
       "      <td>8979.137695</td>\n",
       "      <td>1</td>\n",
       "      <td>1001</td>\n",
       "      <td>1995</td>\n",
       "      <td>16.098366</td>\n",
       "    </tr>\n",
       "    <tr>\n",
       "      <th>5</th>\n",
       "      <td>9096.191406</td>\n",
       "      <td>1</td>\n",
       "      <td>501</td>\n",
       "      <td>3790</td>\n",
       "      <td>26.277832</td>\n",
       "    </tr>\n",
       "    <tr>\n",
       "      <th>4</th>\n",
       "      <td>10545.675781</td>\n",
       "      <td>1</td>\n",
       "      <td>501</td>\n",
       "      <td>1981</td>\n",
       "      <td>12.916302</td>\n",
       "    </tr>\n",
       "    <tr>\n",
       "      <th>20</th>\n",
       "      <td>13632.749023</td>\n",
       "      <td>1001</td>\n",
       "      <td>1</td>\n",
       "      <td>3953</td>\n",
       "      <td>45.298349</td>\n",
       "    </tr>\n",
       "    <tr>\n",
       "      <th>11</th>\n",
       "      <td>13633.513672</td>\n",
       "      <td>501</td>\n",
       "      <td>1</td>\n",
       "      <td>3982</td>\n",
       "      <td>26.708499</td>\n",
       "    </tr>\n",
       "    <tr>\n",
       "      <th>10</th>\n",
       "      <td>13668.050781</td>\n",
       "      <td>501</td>\n",
       "      <td>1</td>\n",
       "      <td>1989</td>\n",
       "      <td>13.409164</td>\n",
       "    </tr>\n",
       "    <tr>\n",
       "      <th>19</th>\n",
       "      <td>13669.574219</td>\n",
       "      <td>1001</td>\n",
       "      <td>1</td>\n",
       "      <td>1990</td>\n",
       "      <td>16.201849</td>\n",
       "    </tr>\n",
       "    <tr>\n",
       "      <th>1</th>\n",
       "      <td>13673.918945</td>\n",
       "      <td>1</td>\n",
       "      <td>1</td>\n",
       "      <td>1997</td>\n",
       "      <td>9.783591</td>\n",
       "    </tr>\n",
       "    <tr>\n",
       "      <th>9</th>\n",
       "      <td>13684.576172</td>\n",
       "      <td>501</td>\n",
       "      <td>1</td>\n",
       "      <td>0</td>\n",
       "      <td>0.084904</td>\n",
       "    </tr>\n",
       "    <tr>\n",
       "      <th>0</th>\n",
       "      <td>13684.638672</td>\n",
       "      <td>1</td>\n",
       "      <td>1</td>\n",
       "      <td>0</td>\n",
       "      <td>0.003004</td>\n",
       "    </tr>\n",
       "    <tr>\n",
       "      <th>12</th>\n",
       "      <td>13685.013672</td>\n",
       "      <td>501</td>\n",
       "      <td>501</td>\n",
       "      <td>0</td>\n",
       "      <td>0.081176</td>\n",
       "    </tr>\n",
       "    <tr>\n",
       "      <th>15</th>\n",
       "      <td>13685.050781</td>\n",
       "      <td>501</td>\n",
       "      <td>1001</td>\n",
       "      <td>0</td>\n",
       "      <td>0.008894</td>\n",
       "    </tr>\n",
       "    <tr>\n",
       "      <th>21</th>\n",
       "      <td>13685.065430</td>\n",
       "      <td>1001</td>\n",
       "      <td>501</td>\n",
       "      <td>0</td>\n",
       "      <td>0.013331</td>\n",
       "    </tr>\n",
       "    <tr>\n",
       "      <th>24</th>\n",
       "      <td>13685.083984</td>\n",
       "      <td>1001</td>\n",
       "      <td>1001</td>\n",
       "      <td>0</td>\n",
       "      <td>0.090620</td>\n",
       "    </tr>\n",
       "    <tr>\n",
       "      <th>18</th>\n",
       "      <td>13685.095703</td>\n",
       "      <td>1001</td>\n",
       "      <td>1</td>\n",
       "      <td>0</td>\n",
       "      <td>0.003217</td>\n",
       "    </tr>\n",
       "    <tr>\n",
       "      <th>3</th>\n",
       "      <td>13685.137695</td>\n",
       "      <td>1</td>\n",
       "      <td>501</td>\n",
       "      <td>0</td>\n",
       "      <td>0.002505</td>\n",
       "    </tr>\n",
       "    <tr>\n",
       "      <th>6</th>\n",
       "      <td>13685.169922</td>\n",
       "      <td>1</td>\n",
       "      <td>1001</td>\n",
       "      <td>0</td>\n",
       "      <td>0.003053</td>\n",
       "    </tr>\n",
       "    <tr>\n",
       "      <th>2</th>\n",
       "      <td>13685.261719</td>\n",
       "      <td>1</td>\n",
       "      <td>1</td>\n",
       "      <td>0</td>\n",
       "      <td>18.096509</td>\n",
       "    </tr>\n",
       "  </tbody>\n",
       "</table>\n",
       "</div>"
      ],
      "text/plain": [
       "               0     1     2     3           4\n",
       "26   3614.674072  1001  1001  3410  135.411245\n",
       "23   3684.959717  1001   501  3918   95.889696\n",
       "17   3689.652344   501  1001  3904  105.897412\n",
       "14   4004.412598   501   501  3999   56.796274\n",
       "25   4498.012695  1001  1001  2000   63.904536\n",
       "16   4884.589844   501  1001  1919   45.193219\n",
       "22   7749.401367  1001   501  1983   89.891950\n",
       "13   7770.607910   501   501  1992   28.013844\n",
       "8    8163.075684     1  1001  3263   30.411929\n",
       "7    8979.137695     1  1001  1995   16.098366\n",
       "5    9096.191406     1   501  3790   26.277832\n",
       "4   10545.675781     1   501  1981   12.916302\n",
       "20  13632.749023  1001     1  3953   45.298349\n",
       "11  13633.513672   501     1  3982   26.708499\n",
       "10  13668.050781   501     1  1989   13.409164\n",
       "19  13669.574219  1001     1  1990   16.201849\n",
       "1   13673.918945     1     1  1997    9.783591\n",
       "9   13684.576172   501     1     0    0.084904\n",
       "0   13684.638672     1     1     0    0.003004\n",
       "12  13685.013672   501   501     0    0.081176\n",
       "15  13685.050781   501  1001     0    0.008894\n",
       "21  13685.065430  1001   501     0    0.013331\n",
       "24  13685.083984  1001  1001     0    0.090620\n",
       "18  13685.095703  1001     1     0    0.003217\n",
       "3   13685.137695     1   501     0    0.002505\n",
       "6   13685.169922     1  1001     0    0.003053\n",
       "2   13685.261719     1     1     0   18.096509"
      ]
     },
     "execution_count": 300,
     "metadata": {},
     "output_type": "execute_result"
    }
   ],
   "source": [
    "result_df = pd.DataFrame(result_list).loc[::,:4]\n",
    "result_df.sort_values(0)"
   ]
  },
  {
   "cell_type": "markdown",
   "id": "0ecb163a",
   "metadata": {},
   "source": [
    "Лучшая модель под индексом 26 получилась с результатом RMSE 3614.674072 и количеством нейронов в первом слое 1001 во втором слое 1001 на эпохе 3410 была выполнена за 135 секунд."
   ]
  },
  {
   "cell_type": "markdown",
   "id": "0dccc696",
   "metadata": {},
   "source": [
    "### Посмотрим, что она предсказала и на вывод таблицы план факт"
   ]
  },
  {
   "cell_type": "code",
   "execution_count": 299,
   "id": "82f6670a",
   "metadata": {},
   "outputs": [
    {
     "data": {
      "image/png": "[encoded data removed]",
      "text/plain": [
       "<Figure size 1224x288 with 1 Axes>"
      ]
     },
     "metadata": {
      "needs_background": "light"
     },
     "output_type": "display_data"
    }
   ],
   "source": [
    "best_m = pd.DataFrame(result_list).loc[26,5]\n",
    "best_m.eval()\n",
    "test_preds = best_m.forward(X_test)\n",
    "test_preds_list = sum(test_preds.tolist(), [])\n",
    "barplot_for_predict(test_preds_list,y_test.tolist())"
   ]
  },
  {
   "cell_type": "code",
   "execution_count": 303,
   "id": "cd68e9f6",
   "metadata": {},
   "outputs": [
    {
     "data": {
      "text/plain": [
       "tensor([ 2751.2615,  3170.9189,     0.0000, 12737.9883, 14267.1895, 11257.4453,\n",
       "         3260.4573,  3438.3728,  3103.8943, 32429.7012,  3221.1946,  3211.5112,\n",
       "         3422.4387, 15557.2363,  3385.7048,  2802.5784, 14628.6250, 12948.8838,\n",
       "        19834.1035, 18443.7480,  2476.8999, 22791.1973,  3159.1382, 11744.3232,\n",
       "        18612.5059, 15093.2891, 19793.6289,  4562.0435,  3373.7729,  5575.6636,\n",
       "         3204.0322, 15570.2451, 20396.7695, 12762.8604, 15752.4688,  3083.1199,\n",
       "         8577.0059, 29427.4648,  3424.1333,  3409.6880, 14038.3711,  7908.9224,\n",
       "        16086.4424,     0.0000, 33147.4805, 28324.7441, 33510.8945,  3424.1860],\n",
       "       grad_fn=<ReshapeAliasBackward0>)"
      ]
     },
     "execution_count": 303,
     "metadata": {},
     "output_type": "execute_result"
    }
   ],
   "source": [
    "test_preds.flatten()"
   ]
  },
  {
   "cell_type": "markdown",
   "id": "95ffe6b1",
   "metadata": {},
   "source": [
    "Похоже на правду можно сказать, что модель справилась."
   ]
  }
 ],
 "metadata": {
  "ExecuteTimeLog": [
   {
    "duration": 990,
    "start_time": "2022-05-30T19:15:02.272Z"
   },
   {
    "duration": 89,
    "start_time": "2022-05-30T19:15:44.255Z"
   },
   {
    "duration": 36,
    "start_time": "2022-05-30T19:18:06.343Z"
   },
   {
    "duration": 31,
    "start_time": "2022-05-30T19:20:28.568Z"
   },
   {
    "duration": 41,
    "start_time": "2022-05-30T19:20:42.077Z"
   },
   {
    "duration": 30,
    "start_time": "2022-05-30T19:20:48.289Z"
   },
   {
    "duration": 37,
    "start_time": "2022-05-30T19:21:03.105Z"
   },
   {
    "duration": 7,
    "start_time": "2022-05-30T19:21:07.463Z"
   },
   {
    "duration": 11,
    "start_time": "2022-05-30T19:21:16.966Z"
   },
   {
    "duration": 107,
    "start_time": "2022-05-30T19:22:16.965Z"
   },
   {
    "duration": 23,
    "start_time": "2022-05-30T19:22:21.545Z"
   },
   {
    "duration": 7,
    "start_time": "2022-05-30T19:24:56.682Z"
   },
   {
    "duration": 764,
    "start_time": "2022-05-30T19:25:04.199Z"
   },
   {
    "duration": 164,
    "start_time": "2022-05-30T19:26:23.300Z"
   },
   {
    "duration": 175,
    "start_time": "2022-05-30T19:26:29.913Z"
   },
   {
    "duration": 4,
    "start_time": "2022-05-30T19:27:57.721Z"
   },
   {
    "duration": 200,
    "start_time": "2022-05-30T19:28:59.237Z"
   },
   {
    "duration": 140,
    "start_time": "2022-05-30T19:29:07.281Z"
   },
   {
    "duration": 192,
    "start_time": "2022-05-30T19:29:30.152Z"
   },
   {
    "duration": 303,
    "start_time": "2022-05-30T19:29:49.312Z"
   },
   {
    "duration": 990,
    "start_time": "2022-05-30T19:30:01.620Z"
   },
   {
    "duration": 219,
    "start_time": "2022-05-30T19:30:14.749Z"
   },
   {
    "duration": 226,
    "start_time": "2022-05-30T19:30:59.107Z"
   },
   {
    "duration": 228,
    "start_time": "2022-05-30T19:31:17.077Z"
   },
   {
    "duration": 417,
    "start_time": "2022-05-30T19:32:50.474Z"
   },
   {
    "duration": 229,
    "start_time": "2022-05-30T19:33:05.922Z"
   },
   {
    "duration": 230,
    "start_time": "2022-05-30T19:33:29.927Z"
   },
   {
    "duration": 403,
    "start_time": "2022-05-30T19:33:36.117Z"
   },
   {
    "duration": 189,
    "start_time": "2022-05-30T19:33:46.826Z"
   },
   {
    "duration": 189,
    "start_time": "2022-05-30T19:33:49.999Z"
   },
   {
    "duration": 331,
    "start_time": "2022-05-30T19:33:56.288Z"
   },
   {
    "duration": 246,
    "start_time": "2022-05-30T19:34:03.757Z"
   },
   {
    "duration": 181,
    "start_time": "2022-05-30T19:34:09.642Z"
   },
   {
    "duration": 240,
    "start_time": "2022-05-30T19:34:12.713Z"
   },
   {
    "duration": 185,
    "start_time": "2022-05-30T19:34:15.931Z"
   },
   {
    "duration": 166,
    "start_time": "2022-05-30T19:34:20.183Z"
   },
   {
    "duration": 147,
    "start_time": "2022-05-30T19:35:26.897Z"
   },
   {
    "duration": 145,
    "start_time": "2022-05-30T19:35:54.595Z"
   },
   {
    "duration": 168,
    "start_time": "2022-05-30T19:35:58.263Z"
   },
   {
    "duration": 146,
    "start_time": "2022-05-30T19:36:03.144Z"
   },
   {
    "duration": 167,
    "start_time": "2022-05-30T19:36:07.823Z"
   },
   {
    "duration": 156,
    "start_time": "2022-05-30T19:36:44.917Z"
   },
   {
    "duration": 77,
    "start_time": "2022-05-30T19:38:36.857Z"
   },
   {
    "duration": 394,
    "start_time": "2022-05-30T19:38:56.680Z"
   },
   {
    "duration": 143,
    "start_time": "2022-05-30T19:42:11.397Z"
   },
   {
    "duration": 253,
    "start_time": "2022-05-30T19:42:26.753Z"
   },
   {
    "duration": 244,
    "start_time": "2022-05-30T19:42:46.960Z"
   },
   {
    "duration": 227,
    "start_time": "2022-05-30T19:42:58.692Z"
   },
   {
    "duration": 205,
    "start_time": "2022-05-30T19:43:04.679Z"
   },
   {
    "duration": 217,
    "start_time": "2022-05-30T19:43:11.935Z"
   },
   {
    "duration": 227,
    "start_time": "2022-05-30T19:43:17.076Z"
   },
   {
    "duration": 185,
    "start_time": "2022-05-30T19:43:24.535Z"
   },
   {
    "duration": 260,
    "start_time": "2022-05-30T19:43:31.859Z"
   },
   {
    "duration": 53,
    "start_time": "2022-05-31T15:54:20.880Z"
   },
   {
    "duration": 1409,
    "start_time": "2022-05-31T15:54:23.873Z"
   },
   {
    "duration": 102,
    "start_time": "2022-05-31T15:54:25.284Z"
   },
   {
    "duration": 8,
    "start_time": "2022-05-31T15:54:26.830Z"
   },
   {
    "duration": 12,
    "start_time": "2022-05-31T15:54:27.598Z"
   },
   {
    "duration": 23,
    "start_time": "2022-05-31T15:54:28.609Z"
   },
   {
    "duration": 314,
    "start_time": "2022-05-31T15:54:29.548Z"
   },
   {
    "duration": 147,
    "start_time": "2022-05-31T15:54:35.774Z"
   },
   {
    "duration": 186,
    "start_time": "2022-05-31T15:54:44.201Z"
   },
   {
    "duration": 250,
    "start_time": "2022-05-31T15:54:51.199Z"
   },
   {
    "duration": 2,
    "start_time": "2022-05-31T15:56:32.586Z"
   },
   {
    "duration": 3,
    "start_time": "2022-05-31T16:14:43.620Z"
   },
   {
    "duration": 289,
    "start_time": "2022-05-31T16:16:12.643Z"
   },
   {
    "duration": 108,
    "start_time": "2022-05-31T16:16:37.021Z"
   },
   {
    "duration": 294,
    "start_time": "2022-05-31T16:16:49.406Z"
   },
   {
    "duration": 15,
    "start_time": "2022-05-31T16:18:22.240Z"
   },
   {
    "duration": 15,
    "start_time": "2022-05-31T16:18:56.142Z"
   },
   {
    "duration": 13,
    "start_time": "2022-05-31T16:19:09.969Z"
   },
   {
    "duration": 474,
    "start_time": "2022-05-31T16:23:42.975Z"
   },
   {
    "duration": 27,
    "start_time": "2022-05-31T16:24:59.121Z"
   },
   {
    "duration": 275,
    "start_time": "2022-05-31T16:25:54.076Z"
   },
   {
    "duration": 292,
    "start_time": "2022-05-31T16:34:38.407Z"
   },
   {
    "duration": 231,
    "start_time": "2022-05-31T16:34:44.333Z"
   },
   {
    "duration": 314,
    "start_time": "2022-05-31T16:34:50.710Z"
   },
   {
    "duration": 11,
    "start_time": "2022-05-31T16:35:06.236Z"
   },
   {
    "duration": 250,
    "start_time": "2022-05-31T16:35:18.836Z"
   },
   {
    "duration": 369,
    "start_time": "2022-05-31T16:35:44.373Z"
   },
   {
    "duration": 264,
    "start_time": "2022-05-31T16:35:45.682Z"
   },
   {
    "duration": 237,
    "start_time": "2022-05-31T16:35:51.947Z"
   },
   {
    "duration": 276,
    "start_time": "2022-05-31T16:37:57.318Z"
   },
   {
    "duration": 341,
    "start_time": "2022-05-31T16:38:16.736Z"
   },
   {
    "duration": 287,
    "start_time": "2022-05-31T16:44:44.128Z"
   },
   {
    "duration": 558,
    "start_time": "2022-05-31T16:46:14.916Z"
   },
   {
    "duration": 370,
    "start_time": "2022-05-31T16:46:35.676Z"
   },
   {
    "duration": 498,
    "start_time": "2022-05-31T16:46:47.788Z"
   },
   {
    "duration": 39,
    "start_time": "2022-05-31T16:47:12.538Z"
   },
   {
    "duration": 31,
    "start_time": "2022-05-31T16:47:17.422Z"
   },
   {
    "duration": 492,
    "start_time": "2022-05-31T16:47:21.440Z"
   },
   {
    "duration": 357,
    "start_time": "2022-05-31T16:48:03.005Z"
   },
   {
    "duration": 525,
    "start_time": "2022-05-31T16:48:20.693Z"
   },
   {
    "duration": 428,
    "start_time": "2022-05-31T16:48:31.743Z"
   },
   {
    "duration": 452,
    "start_time": "2022-05-31T16:48:36.410Z"
   },
   {
    "duration": 370,
    "start_time": "2022-05-31T16:48:55.838Z"
   },
   {
    "duration": 613,
    "start_time": "2022-05-31T16:49:26.045Z"
   },
   {
    "duration": 429,
    "start_time": "2022-05-31T16:49:33.076Z"
   },
   {
    "duration": 895,
    "start_time": "2022-05-31T16:49:41.105Z"
   },
   {
    "duration": 20,
    "start_time": "2022-05-31T16:50:06.142Z"
   },
   {
    "duration": 591,
    "start_time": "2022-05-31T16:50:11.563Z"
   },
   {
    "duration": 495,
    "start_time": "2022-05-31T16:59:33.407Z"
   },
   {
    "duration": 19,
    "start_time": "2022-05-31T17:00:01.831Z"
   },
   {
    "duration": 11,
    "start_time": "2022-05-31T17:00:29.794Z"
   },
   {
    "duration": 7,
    "start_time": "2022-05-31T17:00:45.386Z"
   },
   {
    "duration": 13,
    "start_time": "2022-05-31T17:00:52.384Z"
   },
   {
    "duration": 663,
    "start_time": "2022-05-31T17:01:37.928Z"
   },
   {
    "duration": 644,
    "start_time": "2022-05-31T17:01:59.965Z"
   },
   {
    "duration": 1219,
    "start_time": "2022-05-31T17:02:14.976Z"
   },
   {
    "duration": 647,
    "start_time": "2022-05-31T17:02:22.826Z"
   },
   {
    "duration": 693,
    "start_time": "2022-05-31T17:04:22.809Z"
   },
   {
    "duration": 646,
    "start_time": "2022-05-31T17:06:37.476Z"
   },
   {
    "duration": 663,
    "start_time": "2022-05-31T17:06:59.648Z"
   },
   {
    "duration": 625,
    "start_time": "2022-05-31T17:08:23.568Z"
   },
   {
    "duration": 642,
    "start_time": "2022-05-31T17:08:29.302Z"
   },
   {
    "duration": 24,
    "start_time": "2022-05-31T17:09:48.676Z"
   },
   {
    "duration": 437,
    "start_time": "2022-05-31T17:09:52.486Z"
   },
   {
    "duration": 502,
    "start_time": "2022-05-31T17:10:03.129Z"
   },
   {
    "duration": 520,
    "start_time": "2022-05-31T17:11:04.472Z"
   },
   {
    "duration": 466,
    "start_time": "2022-05-31T17:11:07.803Z"
   },
   {
    "duration": 469,
    "start_time": "2022-05-31T17:12:30.144Z"
   },
   {
    "duration": 1045,
    "start_time": "2022-05-31T17:12:46.749Z"
   },
   {
    "duration": 672,
    "start_time": "2022-05-31T17:15:42.574Z"
   },
   {
    "duration": 677,
    "start_time": "2022-05-31T17:15:49.589Z"
   },
   {
    "duration": 759,
    "start_time": "2022-05-31T17:16:30.968Z"
   },
   {
    "duration": 597,
    "start_time": "2022-05-31T17:18:51.133Z"
   },
   {
    "duration": 647,
    "start_time": "2022-05-31T17:23:47.786Z"
   },
   {
    "duration": 580,
    "start_time": "2022-05-31T17:24:45.682Z"
   },
   {
    "duration": 631,
    "start_time": "2022-05-31T17:25:13.812Z"
   },
   {
    "duration": 658,
    "start_time": "2022-05-31T17:26:18.183Z"
   },
   {
    "duration": 23,
    "start_time": "2022-05-31T17:28:52.850Z"
   },
   {
    "duration": 584,
    "start_time": "2022-05-31T17:32:27.447Z"
   },
   {
    "duration": 290,
    "start_time": "2022-05-31T17:32:52.997Z"
   },
   {
    "duration": 609,
    "start_time": "2022-05-31T17:33:17.181Z"
   },
   {
    "duration": 1548,
    "start_time": "2022-05-31T17:36:13.103Z"
   },
   {
    "duration": 857,
    "start_time": "2022-05-31T17:36:21.085Z"
   },
   {
    "duration": 828,
    "start_time": "2022-05-31T17:37:06.106Z"
   },
   {
    "duration": 786,
    "start_time": "2022-05-31T17:37:27.006Z"
   },
   {
    "duration": 712,
    "start_time": "2022-05-31T17:38:55.694Z"
   },
   {
    "duration": 731,
    "start_time": "2022-05-31T17:39:26.884Z"
   },
   {
    "duration": 931,
    "start_time": "2022-05-31T17:39:40.298Z"
   },
   {
    "duration": 758,
    "start_time": "2022-05-31T17:40:40.331Z"
   },
   {
    "duration": 724,
    "start_time": "2022-05-31T17:41:05.419Z"
   },
   {
    "duration": 1224,
    "start_time": "2022-05-31T17:46:25.985Z"
   },
   {
    "duration": 1636,
    "start_time": "2022-05-31T17:49:25.827Z"
   },
   {
    "duration": 1059,
    "start_time": "2022-05-31T17:49:42.904Z"
   },
   {
    "duration": 1137,
    "start_time": "2022-05-31T17:50:18.308Z"
   },
   {
    "duration": 943,
    "start_time": "2022-05-31T17:50:29.304Z"
   },
   {
    "duration": 1128,
    "start_time": "2022-05-31T17:51:22.399Z"
   },
   {
    "duration": 1104,
    "start_time": "2022-05-31T17:53:17.680Z"
   },
   {
    "duration": 828,
    "start_time": "2022-05-31T17:54:41.676Z"
   },
   {
    "duration": 782,
    "start_time": "2022-05-31T17:54:53.151Z"
   },
   {
    "duration": 869,
    "start_time": "2022-05-31T17:55:40.237Z"
   },
   {
    "duration": 1494,
    "start_time": "2022-05-31T17:56:06.324Z"
   },
   {
    "duration": 794,
    "start_time": "2022-05-31T17:56:38.166Z"
   },
   {
    "duration": 798,
    "start_time": "2022-05-31T17:56:57.462Z"
   },
   {
    "duration": 1296,
    "start_time": "2022-06-01T15:40:00.842Z"
   },
   {
    "duration": 90,
    "start_time": "2022-06-01T15:40:02.140Z"
   },
   {
    "duration": 6,
    "start_time": "2022-06-01T15:40:03.391Z"
   },
   {
    "duration": 11,
    "start_time": "2022-06-01T15:40:04.044Z"
   },
   {
    "duration": 25,
    "start_time": "2022-06-01T15:40:04.810Z"
   },
   {
    "duration": 871,
    "start_time": "2022-06-01T15:40:07.015Z"
   },
   {
    "duration": 682,
    "start_time": "2022-06-01T15:40:43.275Z"
   },
   {
    "duration": 766,
    "start_time": "2022-06-01T15:44:36.954Z"
   },
   {
    "duration": 269,
    "start_time": "2022-06-01T15:52:57.475Z"
   },
   {
    "duration": 850,
    "start_time": "2022-06-01T15:53:24.969Z"
   },
   {
    "duration": 193,
    "start_time": "2022-06-01T15:53:43.748Z"
   },
   {
    "duration": 833,
    "start_time": "2022-06-01T15:54:08.361Z"
   },
   {
    "duration": 446,
    "start_time": "2022-06-01T15:57:14.713Z"
   },
   {
    "duration": 5,
    "start_time": "2022-06-01T16:01:40.782Z"
   },
   {
    "duration": 774,
    "start_time": "2022-06-01T16:06:36.495Z"
   },
   {
    "duration": 12,
    "start_time": "2022-06-01T16:06:58.522Z"
   },
   {
    "duration": 15,
    "start_time": "2022-06-01T16:07:03.789Z"
   },
   {
    "duration": 10,
    "start_time": "2022-06-01T16:07:14.903Z"
   },
   {
    "duration": 101,
    "start_time": "2022-06-01T16:12:37.415Z"
   },
   {
    "duration": 10,
    "start_time": "2022-06-01T16:13:16.732Z"
   },
   {
    "duration": 11,
    "start_time": "2022-06-01T16:13:22.695Z"
   },
   {
    "duration": 112,
    "start_time": "2022-06-01T16:13:27.307Z"
   },
   {
    "duration": 102,
    "start_time": "2022-06-01T16:14:14.039Z"
   },
   {
    "duration": 100,
    "start_time": "2022-06-01T16:14:57.770Z"
   },
   {
    "duration": 1057,
    "start_time": "2022-06-01T16:15:56.205Z"
   },
   {
    "duration": 1051,
    "start_time": "2022-06-01T16:16:52.399Z"
   },
   {
    "duration": 774,
    "start_time": "2022-06-01T16:17:11.527Z"
   },
   {
    "duration": 5,
    "start_time": "2022-06-01T16:19:58.770Z"
   },
   {
    "duration": 9,
    "start_time": "2022-06-01T16:20:05.904Z"
   },
   {
    "duration": 9,
    "start_time": "2022-06-01T16:20:13.374Z"
   },
   {
    "duration": 6,
    "start_time": "2022-06-01T16:20:16.838Z"
   },
   {
    "duration": 9,
    "start_time": "2022-06-01T16:20:47.360Z"
   },
   {
    "duration": 9,
    "start_time": "2022-06-01T16:20:51.163Z"
   },
   {
    "duration": 9,
    "start_time": "2022-06-01T16:20:53.637Z"
   },
   {
    "duration": 5,
    "start_time": "2022-06-01T16:21:10.490Z"
   },
   {
    "duration": 1323,
    "start_time": "2022-06-01T16:21:18.725Z"
   },
   {
    "duration": 5,
    "start_time": "2022-06-01T16:22:31.740Z"
   },
   {
    "duration": 822,
    "start_time": "2022-06-01T16:22:49.438Z"
   },
   {
    "duration": 833,
    "start_time": "2022-06-01T16:23:48.208Z"
   },
   {
    "duration": 849,
    "start_time": "2022-06-01T16:24:15.950Z"
   },
   {
    "duration": 759,
    "start_time": "2022-06-01T16:24:54.135Z"
   },
   {
    "duration": 1201,
    "start_time": "2022-06-01T16:25:10.426Z"
   },
   {
    "duration": 849,
    "start_time": "2022-06-01T16:25:34.962Z"
   },
   {
    "duration": 822,
    "start_time": "2022-06-01T16:25:49.557Z"
   },
   {
    "duration": 833,
    "start_time": "2022-06-01T16:26:35.476Z"
   },
   {
    "duration": 856,
    "start_time": "2022-06-01T16:27:05.988Z"
   },
   {
    "duration": 878,
    "start_time": "2022-06-01T16:30:45.906Z"
   },
   {
    "duration": 848,
    "start_time": "2022-06-01T16:31:32.987Z"
   },
   {
    "duration": 707,
    "start_time": "2022-06-01T16:33:18.975Z"
   },
   {
    "duration": 679,
    "start_time": "2022-06-01T16:33:46.571Z"
   },
   {
    "duration": 4,
    "start_time": "2022-06-01T16:34:07.462Z"
   },
   {
    "duration": 12,
    "start_time": "2022-06-01T16:34:11.503Z"
   },
   {
    "duration": 7,
    "start_time": "2022-06-01T16:34:49.561Z"
   },
   {
    "duration": 10,
    "start_time": "2022-06-01T16:35:16.650Z"
   },
   {
    "duration": 3,
    "start_time": "2022-06-01T16:52:11.614Z"
   },
   {
    "duration": 3,
    "start_time": "2022-06-01T16:52:42.990Z"
   },
   {
    "duration": 14,
    "start_time": "2022-06-01T17:08:45.195Z"
   },
   {
    "duration": 6,
    "start_time": "2022-06-01T17:11:44.689Z"
   },
   {
    "duration": 4,
    "start_time": "2022-06-01T17:17:17.102Z"
   },
   {
    "duration": 39,
    "start_time": "2022-06-01T17:18:17.332Z"
   },
   {
    "duration": 13,
    "start_time": "2022-06-01T17:19:21.380Z"
   },
   {
    "duration": 11,
    "start_time": "2022-06-01T17:19:37.455Z"
   },
   {
    "duration": 26,
    "start_time": "2022-06-01T17:19:41.913Z"
   },
   {
    "duration": 4,
    "start_time": "2022-06-01T17:20:08.732Z"
   },
   {
    "duration": 11,
    "start_time": "2022-06-01T17:20:18.327Z"
   },
   {
    "duration": 4,
    "start_time": "2022-06-01T17:20:24.367Z"
   },
   {
    "duration": 30,
    "start_time": "2022-06-01T17:20:43.505Z"
   },
   {
    "duration": 547,
    "start_time": "2022-06-01T17:22:48.855Z"
   },
   {
    "duration": 9,
    "start_time": "2022-06-01T17:22:55.865Z"
   },
   {
    "duration": 28,
    "start_time": "2022-06-01T17:22:57.317Z"
   },
   {
    "duration": 15,
    "start_time": "2022-06-01T17:23:13.436Z"
   },
   {
    "duration": 4,
    "start_time": "2022-06-01T17:24:38.083Z"
   },
   {
    "duration": 13,
    "start_time": "2022-06-01T17:24:48.118Z"
   },
   {
    "duration": 26,
    "start_time": "2022-06-01T17:24:59.942Z"
   },
   {
    "duration": 13,
    "start_time": "2022-06-01T17:25:08.516Z"
   },
   {
    "duration": 6,
    "start_time": "2022-06-01T17:26:59.048Z"
   },
   {
    "duration": 13,
    "start_time": "2022-06-01T17:27:17.330Z"
   },
   {
    "duration": 5,
    "start_time": "2022-06-01T17:31:16.912Z"
   },
   {
    "duration": 3,
    "start_time": "2022-06-01T17:31:30.584Z"
   },
   {
    "duration": 38,
    "start_time": "2022-06-01T17:31:31.167Z"
   },
   {
    "duration": 7,
    "start_time": "2022-06-01T17:31:32.372Z"
   },
   {
    "duration": 9,
    "start_time": "2022-06-01T17:32:06.338Z"
   },
   {
    "duration": 1504,
    "start_time": "2022-06-01T17:32:26.184Z"
   },
   {
    "duration": 44,
    "start_time": "2022-06-01T17:32:27.689Z"
   },
   {
    "duration": 8,
    "start_time": "2022-06-01T17:32:27.734Z"
   },
   {
    "duration": 6,
    "start_time": "2022-06-01T17:32:27.743Z"
   },
   {
    "duration": 12,
    "start_time": "2022-06-01T17:32:27.750Z"
   },
   {
    "duration": 21,
    "start_time": "2022-06-01T17:32:27.764Z"
   },
   {
    "duration": 740,
    "start_time": "2022-06-01T17:32:27.786Z"
   },
   {
    "duration": 10,
    "start_time": "2022-06-01T17:32:28.528Z"
   },
   {
    "duration": 15,
    "start_time": "2022-06-01T17:32:28.539Z"
   },
   {
    "duration": 16,
    "start_time": "2022-06-01T17:32:28.556Z"
   },
   {
    "duration": 9,
    "start_time": "2022-06-01T17:32:28.574Z"
   },
   {
    "duration": 146,
    "start_time": "2022-06-01T17:32:28.585Z"
   },
   {
    "duration": 0,
    "start_time": "2022-06-01T17:32:28.732Z"
   },
   {
    "duration": 3,
    "start_time": "2022-06-01T17:32:43.687Z"
   },
   {
    "duration": 30,
    "start_time": "2022-06-01T17:32:48.626Z"
   },
   {
    "duration": 29,
    "start_time": "2022-06-01T17:37:45.533Z"
   },
   {
    "duration": 27,
    "start_time": "2022-06-01T17:38:45.080Z"
   },
   {
    "duration": 6,
    "start_time": "2022-06-01T17:38:55.789Z"
   },
   {
    "duration": 18,
    "start_time": "2022-06-01T17:38:56.276Z"
   },
   {
    "duration": 11,
    "start_time": "2022-06-01T17:39:14.442Z"
   },
   {
    "duration": 5,
    "start_time": "2022-06-01T17:39:20.024Z"
   },
   {
    "duration": 4,
    "start_time": "2022-06-01T17:40:09.364Z"
   },
   {
    "duration": 8,
    "start_time": "2022-06-01T17:40:31.686Z"
   },
   {
    "duration": 11,
    "start_time": "2022-06-01T17:40:44.919Z"
   },
   {
    "duration": 11,
    "start_time": "2022-06-01T17:43:40.959Z"
   },
   {
    "duration": 10,
    "start_time": "2022-06-01T17:43:44.325Z"
   },
   {
    "duration": 28,
    "start_time": "2022-06-01T17:43:50.108Z"
   },
   {
    "duration": 14,
    "start_time": "2022-06-01T17:45:19.705Z"
   },
   {
    "duration": 11,
    "start_time": "2022-06-01T17:45:38.088Z"
   },
   {
    "duration": 27,
    "start_time": "2022-06-01T17:45:43.680Z"
   },
   {
    "duration": 4,
    "start_time": "2022-06-01T17:46:44.622Z"
   },
   {
    "duration": 4,
    "start_time": "2022-06-01T17:46:54.421Z"
   },
   {
    "duration": 28,
    "start_time": "2022-06-01T17:47:09.956Z"
   },
   {
    "duration": 28,
    "start_time": "2022-06-01T17:47:28.016Z"
   },
   {
    "duration": 27,
    "start_time": "2022-06-01T17:47:33.740Z"
   },
   {
    "duration": 31,
    "start_time": "2022-06-01T17:47:40.941Z"
   },
   {
    "duration": 12,
    "start_time": "2022-06-01T17:47:44.291Z"
   },
   {
    "duration": 14,
    "start_time": "2022-06-01T17:48:36.336Z"
   },
   {
    "duration": 17,
    "start_time": "2022-06-01T17:51:34.247Z"
   },
   {
    "duration": 13,
    "start_time": "2022-06-01T17:51:58.508Z"
   },
   {
    "duration": 20,
    "start_time": "2022-06-01T17:52:38.395Z"
   },
   {
    "duration": 4,
    "start_time": "2022-06-01T17:52:48.196Z"
   },
   {
    "duration": 4,
    "start_time": "2022-06-01T17:52:57.464Z"
   },
   {
    "duration": 3,
    "start_time": "2022-06-01T17:53:05.227Z"
   },
   {
    "duration": 9,
    "start_time": "2022-06-01T17:53:18.592Z"
   },
   {
    "duration": 3,
    "start_time": "2022-06-01T17:53:21.417Z"
   },
   {
    "duration": 4,
    "start_time": "2022-06-01T17:53:28.233Z"
   },
   {
    "duration": 5,
    "start_time": "2022-06-01T17:54:45.400Z"
   },
   {
    "duration": 6,
    "start_time": "2022-06-01T17:54:47.712Z"
   },
   {
    "duration": 20,
    "start_time": "2022-06-01T17:57:59.659Z"
   },
   {
    "duration": 217,
    "start_time": "2022-06-01T18:09:54.477Z"
   },
   {
    "duration": 86,
    "start_time": "2022-06-01T18:11:15.905Z"
   },
   {
    "duration": 24,
    "start_time": "2022-06-01T18:11:31.114Z"
   },
   {
    "duration": 25,
    "start_time": "2022-06-01T18:11:39.463Z"
   },
   {
    "duration": 6,
    "start_time": "2022-06-01T18:13:39.460Z"
   },
   {
    "duration": 3,
    "start_time": "2022-06-01T18:13:49.637Z"
   },
   {
    "duration": 8,
    "start_time": "2022-06-01T18:13:52.100Z"
   },
   {
    "duration": 5,
    "start_time": "2022-06-01T18:14:35.775Z"
   },
   {
    "duration": 25,
    "start_time": "2022-06-01T18:14:41.006Z"
   },
   {
    "duration": 24,
    "start_time": "2022-06-01T18:15:23.460Z"
   },
   {
    "duration": 24,
    "start_time": "2022-06-01T18:15:37.921Z"
   },
   {
    "duration": 19,
    "start_time": "2022-06-01T18:15:49.621Z"
   },
   {
    "duration": 26,
    "start_time": "2022-06-01T18:16:00.511Z"
   },
   {
    "duration": 32,
    "start_time": "2022-06-01T18:16:07.949Z"
   },
   {
    "duration": 25,
    "start_time": "2022-06-01T18:16:10.737Z"
   },
   {
    "duration": 9,
    "start_time": "2022-06-01T18:16:13.752Z"
   },
   {
    "duration": 9,
    "start_time": "2022-06-01T18:16:24.575Z"
   },
   {
    "duration": 4,
    "start_time": "2022-06-01T18:16:47.505Z"
   },
   {
    "duration": 10,
    "start_time": "2022-06-01T18:19:56.464Z"
   },
   {
    "duration": 4,
    "start_time": "2022-06-01T18:20:08.297Z"
   },
   {
    "duration": 6,
    "start_time": "2022-06-01T18:23:47.028Z"
   },
   {
    "duration": 16,
    "start_time": "2022-06-02T18:26:26.642Z"
   },
   {
    "duration": 19,
    "start_time": "2022-06-02T18:26:27.821Z"
   },
   {
    "duration": 5,
    "start_time": "2022-06-02T18:26:57.320Z"
   },
   {
    "duration": 15,
    "start_time": "2022-06-02T18:27:18.548Z"
   },
   {
    "duration": 8,
    "start_time": "2022-06-02T18:27:25.237Z"
   },
   {
    "duration": 5,
    "start_time": "2022-06-02T18:36:43.423Z"
   },
   {
    "duration": 4,
    "start_time": "2022-06-02T18:36:56.111Z"
   },
   {
    "duration": 5,
    "start_time": "2022-06-02T18:37:01.196Z"
   },
   {
    "duration": 14,
    "start_time": "2022-06-02T18:37:14.753Z"
   },
   {
    "duration": 146,
    "start_time": "2022-06-02T18:37:23.798Z"
   },
   {
    "duration": 73,
    "start_time": "2022-06-02T18:37:28.340Z"
   },
   {
    "duration": 6,
    "start_time": "2022-06-02T18:37:39.170Z"
   },
   {
    "duration": 5,
    "start_time": "2022-06-02T18:38:16.809Z"
   },
   {
    "duration": 174,
    "start_time": "2022-06-02T18:40:14.815Z"
   },
   {
    "duration": 195,
    "start_time": "2022-06-02T18:40:37.044Z"
   },
   {
    "duration": 16,
    "start_time": "2022-06-02T18:41:31.239Z"
   },
   {
    "duration": 110,
    "start_time": "2022-06-02T18:41:39.337Z"
   },
   {
    "duration": 12,
    "start_time": "2022-06-02T18:42:24.876Z"
   },
   {
    "duration": 10,
    "start_time": "2022-06-02T18:42:38.006Z"
   },
   {
    "duration": 36,
    "start_time": "2022-06-02T18:42:44.406Z"
   },
   {
    "duration": 208,
    "start_time": "2022-06-02T18:42:47.770Z"
   },
   {
    "duration": 174,
    "start_time": "2022-06-02T18:42:55.206Z"
   },
   {
    "duration": 204,
    "start_time": "2022-06-02T18:43:11.755Z"
   },
   {
    "duration": 316,
    "start_time": "2022-06-02T18:43:36.022Z"
   },
   {
    "duration": 230,
    "start_time": "2022-06-02T18:43:56.185Z"
   },
   {
    "duration": 217,
    "start_time": "2022-06-02T18:44:11.022Z"
   },
   {
    "duration": 122,
    "start_time": "2022-06-02T18:44:16.984Z"
   },
   {
    "duration": 4,
    "start_time": "2022-06-02T18:44:30.800Z"
   },
   {
    "duration": 6,
    "start_time": "2022-06-02T18:45:01.276Z"
   },
   {
    "duration": 10,
    "start_time": "2022-06-02T18:45:12.651Z"
   },
   {
    "duration": 28,
    "start_time": "2022-06-02T18:46:11.049Z"
   },
   {
    "duration": 6,
    "start_time": "2022-06-02T18:46:18.353Z"
   },
   {
    "duration": 10,
    "start_time": "2022-06-02T18:47:39.522Z"
   },
   {
    "duration": 109,
    "start_time": "2022-06-02T18:47:51.299Z"
   },
   {
    "duration": 186,
    "start_time": "2022-06-02T18:48:06.354Z"
   },
   {
    "duration": 239,
    "start_time": "2022-06-02T18:48:13.452Z"
   },
   {
    "duration": 16,
    "start_time": "2022-06-02T18:48:34.523Z"
   },
   {
    "duration": 4,
    "start_time": "2022-06-02T18:48:59.982Z"
   },
   {
    "duration": 122,
    "start_time": "2022-06-02T18:49:16.780Z"
   },
   {
    "duration": 11,
    "start_time": "2022-06-02T18:49:20.549Z"
   },
   {
    "duration": 15,
    "start_time": "2022-06-02T18:49:51.745Z"
   },
   {
    "duration": 5,
    "start_time": "2022-06-02T18:50:02.340Z"
   },
   {
    "duration": 337,
    "start_time": "2022-06-02T18:50:28.521Z"
   },
   {
    "duration": 237,
    "start_time": "2022-06-02T18:51:01.619Z"
   },
   {
    "duration": 5,
    "start_time": "2022-06-02T18:51:23.873Z"
   },
   {
    "duration": 27,
    "start_time": "2022-06-02T19:15:09.793Z"
   },
   {
    "duration": 17,
    "start_time": "2022-06-02T19:16:52.347Z"
   },
   {
    "duration": 21,
    "start_time": "2022-06-02T19:19:25.463Z"
   },
   {
    "duration": 18,
    "start_time": "2022-06-02T19:22:06.773Z"
   },
   {
    "duration": 21,
    "start_time": "2022-06-02T19:22:34.315Z"
   },
   {
    "duration": 25,
    "start_time": "2022-06-02T19:22:42.368Z"
   },
   {
    "duration": 5,
    "start_time": "2022-06-02T19:24:48.916Z"
   },
   {
    "duration": 10,
    "start_time": "2022-06-02T19:25:09.756Z"
   },
   {
    "duration": 4,
    "start_time": "2022-06-02T19:25:20.652Z"
   },
   {
    "duration": 497,
    "start_time": "2022-06-02T19:25:27.945Z"
   },
   {
    "duration": 587,
    "start_time": "2022-06-02T19:25:42.053Z"
   },
   {
    "duration": 22,
    "start_time": "2022-06-02T19:26:07.727Z"
   },
   {
    "duration": 392,
    "start_time": "2022-06-02T19:26:13.440Z"
   },
   {
    "duration": 6,
    "start_time": "2022-06-02T19:26:23.880Z"
   },
   {
    "duration": 6,
    "start_time": "2022-06-02T19:26:33.204Z"
   },
   {
    "duration": 4,
    "start_time": "2022-06-02T19:27:35.474Z"
   },
   {
    "duration": 13,
    "start_time": "2022-06-02T19:27:46.860Z"
   },
   {
    "duration": 5,
    "start_time": "2022-06-02T19:27:51.393Z"
   },
   {
    "duration": 4,
    "start_time": "2022-06-02T19:27:54.217Z"
   },
   {
    "duration": 810,
    "start_time": "2022-06-02T19:28:05.818Z"
   },
   {
    "duration": 1439,
    "start_time": "2022-06-02T19:30:45.514Z"
   },
   {
    "duration": 1201,
    "start_time": "2022-06-02T19:31:32.047Z"
   },
   {
    "duration": 1063,
    "start_time": "2022-06-02T19:32:39.663Z"
   },
   {
    "duration": 7,
    "start_time": "2022-06-02T19:32:43.383Z"
   },
   {
    "duration": 6,
    "start_time": "2022-06-02T19:33:03.169Z"
   },
   {
    "duration": 8,
    "start_time": "2022-06-02T19:33:20.066Z"
   },
   {
    "duration": 12,
    "start_time": "2022-06-02T19:34:04.849Z"
   },
   {
    "duration": 9,
    "start_time": "2022-06-02T19:36:11.612Z"
   },
   {
    "duration": 6,
    "start_time": "2022-06-02T19:36:34.541Z"
   },
   {
    "duration": 36,
    "start_time": "2022-06-02T19:43:48.099Z"
   },
   {
    "duration": 66,
    "start_time": "2022-06-02T19:44:05.607Z"
   },
   {
    "duration": 29,
    "start_time": "2022-06-02T19:45:01.564Z"
   },
   {
    "duration": 26,
    "start_time": "2022-06-02T19:45:21.365Z"
   },
   {
    "duration": 675,
    "start_time": "2022-06-02T19:45:50.975Z"
   },
   {
    "duration": 843,
    "start_time": "2022-06-02T19:46:06.600Z"
   },
   {
    "duration": 611,
    "start_time": "2022-06-02T19:46:12.129Z"
   },
   {
    "duration": 6,
    "start_time": "2022-06-02T19:46:14.741Z"
   },
   {
    "duration": 24,
    "start_time": "2022-06-02T19:48:48.910Z"
   },
   {
    "duration": 34,
    "start_time": "2022-06-02T19:49:17.062Z"
   },
   {
    "duration": 14,
    "start_time": "2022-06-02T19:49:33.865Z"
   },
   {
    "duration": 22,
    "start_time": "2022-06-02T19:49:53.865Z"
   },
   {
    "duration": 14,
    "start_time": "2022-06-02T19:50:08.806Z"
   },
   {
    "duration": 109,
    "start_time": "2022-06-02T19:50:17.716Z"
   },
   {
    "duration": 1452,
    "start_time": "2022-06-02T19:50:49.982Z"
   },
   {
    "duration": 104,
    "start_time": "2022-06-02T19:51:00.238Z"
   },
   {
    "duration": 5,
    "start_time": "2022-06-02T19:52:04.661Z"
   },
   {
    "duration": 3,
    "start_time": "2022-06-02T19:52:31.616Z"
   },
   {
    "duration": 22,
    "start_time": "2022-06-02T19:52:35.824Z"
   },
   {
    "duration": 5,
    "start_time": "2022-06-02T19:52:40.401Z"
   },
   {
    "duration": 6,
    "start_time": "2022-06-02T19:53:01.474Z"
   },
   {
    "duration": 6,
    "start_time": "2022-06-02T19:53:05.017Z"
   },
   {
    "duration": 8,
    "start_time": "2022-06-02T19:53:11.637Z"
   },
   {
    "duration": 47,
    "start_time": "2022-06-02T19:55:21.161Z"
   },
   {
    "duration": 11372,
    "start_time": "2022-06-02T19:55:44.959Z"
   },
   {
    "duration": 7,
    "start_time": "2022-06-02T19:56:12.873Z"
   },
   {
    "duration": 6,
    "start_time": "2022-06-02T19:56:20.367Z"
   },
   {
    "duration": 6,
    "start_time": "2022-06-02T19:56:45.296Z"
   },
   {
    "duration": 7,
    "start_time": "2022-06-02T19:56:52.597Z"
   },
   {
    "duration": 870,
    "start_time": "2022-06-02T19:58:03.985Z"
   },
   {
    "duration": 1002,
    "start_time": "2022-06-02T19:58:11.022Z"
   },
   {
    "duration": 911,
    "start_time": "2022-06-02T19:58:19.437Z"
   },
   {
    "duration": 1020,
    "start_time": "2022-06-02T19:58:26.621Z"
   },
   {
    "duration": 9,
    "start_time": "2022-06-02T19:58:32.746Z"
   },
   {
    "duration": 7,
    "start_time": "2022-06-02T19:58:37.665Z"
   },
   {
    "duration": 438,
    "start_time": "2022-06-02T19:59:34.602Z"
   },
   {
    "duration": 963,
    "start_time": "2022-06-02T19:59:39.967Z"
   },
   {
    "duration": 7,
    "start_time": "2022-06-02T19:59:44.895Z"
   },
   {
    "duration": 1145,
    "start_time": "2022-06-02T20:00:06.709Z"
   },
   {
    "duration": 6,
    "start_time": "2022-06-02T20:00:10.759Z"
   },
   {
    "duration": 543,
    "start_time": "2022-06-02T20:01:12.083Z"
   },
   {
    "duration": 5,
    "start_time": "2022-06-02T20:01:14.260Z"
   },
   {
    "duration": 4,
    "start_time": "2022-06-02T20:01:15.222Z"
   },
   {
    "duration": 6,
    "start_time": "2022-06-02T20:01:23.561Z"
   },
   {
    "duration": 16,
    "start_time": "2022-06-02T20:01:37.035Z"
   },
   {
    "duration": 16,
    "start_time": "2022-06-02T20:03:25.479Z"
   },
   {
    "duration": 6,
    "start_time": "2022-06-02T20:03:31.660Z"
   },
   {
    "duration": 3,
    "start_time": "2022-06-02T20:03:36.187Z"
   },
   {
    "duration": 22,
    "start_time": "2022-06-02T20:04:26.994Z"
   },
   {
    "duration": 265,
    "start_time": "2022-06-02T20:04:38.571Z"
   },
   {
    "duration": 470,
    "start_time": "2022-06-02T20:04:44.375Z"
   },
   {
    "duration": 14,
    "start_time": "2022-06-02T20:04:52.766Z"
   },
   {
    "duration": 19,
    "start_time": "2022-06-02T20:05:10.691Z"
   },
   {
    "duration": 13,
    "start_time": "2022-06-02T20:05:19.369Z"
   },
   {
    "duration": 703,
    "start_time": "2022-06-02T20:05:40.220Z"
   },
   {
    "duration": 12,
    "start_time": "2022-06-02T20:06:52.271Z"
   },
   {
    "duration": 4,
    "start_time": "2022-06-02T20:07:05.840Z"
   },
   {
    "duration": 7,
    "start_time": "2022-06-02T20:07:37.078Z"
   },
   {
    "duration": 649,
    "start_time": "2022-06-02T20:07:48.575Z"
   },
   {
    "duration": 6,
    "start_time": "2022-06-02T20:07:50.693Z"
   },
   {
    "duration": 13,
    "start_time": "2022-06-02T20:08:38.161Z"
   },
   {
    "duration": 18,
    "start_time": "2022-06-02T20:08:58.022Z"
   },
   {
    "duration": 20,
    "start_time": "2022-06-02T20:09:24.020Z"
   },
   {
    "duration": 31,
    "start_time": "2022-06-02T20:09:32.661Z"
   },
   {
    "duration": 22,
    "start_time": "2022-06-02T20:09:35.384Z"
   },
   {
    "duration": 743,
    "start_time": "2022-06-02T20:09:58.491Z"
   },
   {
    "duration": 6,
    "start_time": "2022-06-02T20:10:08.808Z"
   },
   {
    "duration": 6,
    "start_time": "2022-06-02T20:10:21.643Z"
   },
   {
    "duration": 18,
    "start_time": "2022-06-02T20:10:29.031Z"
   },
   {
    "duration": 667,
    "start_time": "2022-06-02T20:10:42.967Z"
   },
   {
    "duration": 13,
    "start_time": "2022-06-02T20:12:56.009Z"
   },
   {
    "duration": 18,
    "start_time": "2022-06-02T20:13:24.838Z"
   },
   {
    "duration": 10,
    "start_time": "2022-06-02T20:13:38.839Z"
   },
   {
    "duration": 28,
    "start_time": "2022-06-02T20:13:48.324Z"
   },
   {
    "duration": 6,
    "start_time": "2022-06-02T20:14:00.092Z"
   },
   {
    "duration": 450,
    "start_time": "2022-06-02T20:14:18.506Z"
   },
   {
    "duration": 7,
    "start_time": "2022-06-02T20:14:20.305Z"
   },
   {
    "duration": 43,
    "start_time": "2022-06-02T20:37:41.988Z"
   },
   {
    "duration": 418,
    "start_time": "2022-06-02T20:37:56.415Z"
   },
   {
    "duration": 3,
    "start_time": "2022-06-02T20:57:12.113Z"
   },
   {
    "duration": 72,
    "start_time": "2022-06-02T20:57:12.608Z"
   },
   {
    "duration": 17,
    "start_time": "2022-06-02T20:57:13.921Z"
   },
   {
    "duration": 14,
    "start_time": "2022-06-02T20:57:14.619Z"
   },
   {
    "duration": 13,
    "start_time": "2022-06-02T20:57:15.342Z"
   },
   {
    "duration": 23,
    "start_time": "2022-06-02T20:57:16.194Z"
   },
   {
    "duration": 1051,
    "start_time": "2022-06-02T20:57:17.142Z"
   },
   {
    "duration": 10,
    "start_time": "2022-06-02T20:57:18.207Z"
   },
   {
    "duration": 45,
    "start_time": "2022-06-02T20:57:22.022Z"
   },
   {
    "duration": 26,
    "start_time": "2022-06-02T20:57:54.861Z"
   },
   {
    "duration": 37,
    "start_time": "2022-06-02T20:58:07.484Z"
   },
   {
    "duration": 5,
    "start_time": "2022-06-02T20:58:35.744Z"
   },
   {
    "duration": 46,
    "start_time": "2022-06-02T20:59:55.105Z"
   },
   {
    "duration": 36,
    "start_time": "2022-06-02T21:00:59.242Z"
   },
   {
    "duration": 13,
    "start_time": "2022-06-02T21:01:12.944Z"
   },
   {
    "duration": 10,
    "start_time": "2022-06-02T21:01:31.596Z"
   },
   {
    "duration": 1888,
    "start_time": "2022-06-03T12:50:39.672Z"
   },
   {
    "duration": 92,
    "start_time": "2022-06-03T12:50:41.563Z"
   },
   {
    "duration": 6,
    "start_time": "2022-06-03T12:50:41.855Z"
   },
   {
    "duration": 8,
    "start_time": "2022-06-03T12:50:42.635Z"
   },
   {
    "duration": 17,
    "start_time": "2022-06-03T12:50:43.292Z"
   },
   {
    "duration": 25,
    "start_time": "2022-06-03T12:50:43.859Z"
   },
   {
    "duration": 815,
    "start_time": "2022-06-03T12:50:45.388Z"
   },
   {
    "duration": 10,
    "start_time": "2022-06-03T12:50:46.703Z"
   },
   {
    "duration": 164,
    "start_time": "2022-06-03T12:51:42.911Z"
   },
   {
    "duration": 31,
    "start_time": "2022-06-03T12:52:10.305Z"
   },
   {
    "duration": 83,
    "start_time": "2022-06-03T12:52:34.726Z"
   },
   {
    "duration": 20,
    "start_time": "2022-06-03T12:53:23.207Z"
   },
   {
    "duration": 23,
    "start_time": "2022-06-03T12:53:48.407Z"
   },
   {
    "duration": 18,
    "start_time": "2022-06-03T12:53:57.310Z"
   },
   {
    "duration": 16,
    "start_time": "2022-06-03T12:55:58.158Z"
   },
   {
    "duration": 127,
    "start_time": "2022-06-03T12:58:19.608Z"
   },
   {
    "duration": 89,
    "start_time": "2022-06-03T12:58:45.808Z"
   },
   {
    "duration": 10,
    "start_time": "2022-06-03T13:00:52.355Z"
   },
   {
    "duration": 9,
    "start_time": "2022-06-03T13:01:08.486Z"
   },
   {
    "duration": 7,
    "start_time": "2022-06-03T13:01:13.527Z"
   },
   {
    "duration": 8,
    "start_time": "2022-06-03T13:02:19.151Z"
   },
   {
    "duration": 16,
    "start_time": "2022-06-03T13:06:45.590Z"
   },
   {
    "duration": 24,
    "start_time": "2022-06-03T13:06:54.691Z"
   },
   {
    "duration": 21,
    "start_time": "2022-06-03T13:07:32.695Z"
   },
   {
    "duration": 11,
    "start_time": "2022-06-03T13:07:42.043Z"
   },
   {
    "duration": 20,
    "start_time": "2022-06-03T13:08:31.918Z"
   },
   {
    "duration": 9,
    "start_time": "2022-06-03T13:08:44.650Z"
   },
   {
    "duration": 8,
    "start_time": "2022-06-03T13:12:20.407Z"
   },
   {
    "duration": 7,
    "start_time": "2022-06-03T13:19:34.252Z"
   },
   {
    "duration": 10,
    "start_time": "2022-06-03T13:22:11.114Z"
   },
   {
    "duration": 8,
    "start_time": "2022-06-03T13:22:11.689Z"
   },
   {
    "duration": 5,
    "start_time": "2022-06-03T13:22:16.374Z"
   },
   {
    "duration": 43,
    "start_time": "2022-06-03T13:22:17.010Z"
   },
   {
    "duration": 6,
    "start_time": "2022-06-03T13:22:18.335Z"
   },
   {
    "duration": 8,
    "start_time": "2022-06-03T13:22:18.806Z"
   },
   {
    "duration": 13,
    "start_time": "2022-06-03T13:22:19.306Z"
   },
   {
    "duration": 24,
    "start_time": "2022-06-03T13:22:19.830Z"
   },
   {
    "duration": 1047,
    "start_time": "2022-06-03T13:22:20.490Z"
   },
   {
    "duration": 27,
    "start_time": "2022-06-03T13:22:21.539Z"
   },
   {
    "duration": 25,
    "start_time": "2022-06-03T13:22:25.445Z"
   },
   {
    "duration": 9,
    "start_time": "2022-06-03T13:22:26.547Z"
   },
   {
    "duration": 7,
    "start_time": "2022-06-03T13:22:27.751Z"
   },
   {
    "duration": 24,
    "start_time": "2022-06-03T13:24:57.589Z"
   },
   {
    "duration": 27,
    "start_time": "2022-06-03T13:29:09.333Z"
   },
   {
    "duration": 26,
    "start_time": "2022-06-03T13:29:23.486Z"
   },
   {
    "duration": 3,
    "start_time": "2022-06-03T13:29:27.692Z"
   },
   {
    "duration": 39,
    "start_time": "2022-06-03T13:29:28.209Z"
   },
   {
    "duration": 8,
    "start_time": "2022-06-03T13:29:29.199Z"
   },
   {
    "duration": 7,
    "start_time": "2022-06-03T13:29:29.751Z"
   },
   {
    "duration": 12,
    "start_time": "2022-06-03T13:29:30.237Z"
   },
   {
    "duration": 29,
    "start_time": "2022-06-03T13:29:30.777Z"
   },
   {
    "duration": 896,
    "start_time": "2022-06-03T13:29:31.629Z"
   },
   {
    "duration": 11,
    "start_time": "2022-06-03T13:29:32.686Z"
   },
   {
    "duration": 23,
    "start_time": "2022-06-03T13:29:35.817Z"
   },
   {
    "duration": 3507,
    "start_time": "2022-06-03T13:30:21.480Z"
   },
   {
    "duration": 460,
    "start_time": "2022-06-03T13:30:28.038Z"
   },
   {
    "duration": 11,
    "start_time": "2022-06-03T13:30:40.892Z"
   },
   {
    "duration": 1999,
    "start_time": "2022-06-03T13:30:55.702Z"
   },
   {
    "duration": 21,
    "start_time": "2022-06-03T13:30:58.762Z"
   },
   {
    "duration": 8,
    "start_time": "2022-06-03T13:31:41.909Z"
   },
   {
    "duration": 7,
    "start_time": "2022-06-03T13:32:32.139Z"
   },
   {
    "duration": 8,
    "start_time": "2022-06-03T13:33:03.832Z"
   },
   {
    "duration": 12,
    "start_time": "2022-06-03T13:33:10.903Z"
   },
   {
    "duration": 6,
    "start_time": "2022-06-03T13:34:19.520Z"
   },
   {
    "duration": 40,
    "start_time": "2022-06-03T13:34:20.115Z"
   },
   {
    "duration": 6,
    "start_time": "2022-06-03T13:34:21.441Z"
   },
   {
    "duration": 7,
    "start_time": "2022-06-03T13:34:22.049Z"
   },
   {
    "duration": 13,
    "start_time": "2022-06-03T13:34:22.636Z"
   },
   {
    "duration": 25,
    "start_time": "2022-06-03T13:34:23.208Z"
   },
   {
    "duration": 971,
    "start_time": "2022-06-03T13:34:24.255Z"
   },
   {
    "duration": 10,
    "start_time": "2022-06-03T13:34:26.922Z"
   },
   {
    "duration": 24,
    "start_time": "2022-06-03T13:34:32.042Z"
   },
   {
    "duration": 15,
    "start_time": "2022-06-03T13:34:34.503Z"
   },
   {
    "duration": 1807,
    "start_time": "2022-06-03T13:34:59.922Z"
   },
   {
    "duration": 53,
    "start_time": "2022-06-03T13:35:01.731Z"
   },
   {
    "duration": 24,
    "start_time": "2022-06-03T13:35:01.787Z"
   },
   {
    "duration": 27,
    "start_time": "2022-06-03T13:35:01.813Z"
   },
   {
    "duration": 32,
    "start_time": "2022-06-03T13:35:01.842Z"
   },
   {
    "duration": 63,
    "start_time": "2022-06-03T13:35:01.876Z"
   },
   {
    "duration": 986,
    "start_time": "2022-06-03T13:35:01.941Z"
   },
   {
    "duration": 13,
    "start_time": "2022-06-03T13:35:02.929Z"
   },
   {
    "duration": 30,
    "start_time": "2022-06-03T13:35:02.945Z"
   },
   {
    "duration": 36,
    "start_time": "2022-06-03T13:35:02.978Z"
   },
   {
    "duration": 2053,
    "start_time": "2022-06-03T13:35:03.016Z"
   },
   {
    "duration": 173,
    "start_time": "2022-06-03T13:35:05.075Z"
   },
   {
    "duration": 0,
    "start_time": "2022-06-03T13:35:05.250Z"
   },
   {
    "duration": 24,
    "start_time": "2022-06-03T13:35:17.280Z"
   },
   {
    "duration": 17,
    "start_time": "2022-06-03T13:35:47.845Z"
   },
   {
    "duration": 1825,
    "start_time": "2022-06-03T13:36:08.494Z"
   },
   {
    "duration": 52,
    "start_time": "2022-06-03T13:36:10.321Z"
   },
   {
    "duration": 8,
    "start_time": "2022-06-03T13:36:10.375Z"
   },
   {
    "duration": 20,
    "start_time": "2022-06-03T13:36:10.386Z"
   },
   {
    "duration": 13,
    "start_time": "2022-06-03T13:36:10.408Z"
   },
   {
    "duration": 42,
    "start_time": "2022-06-03T13:36:10.422Z"
   },
   {
    "duration": 961,
    "start_time": "2022-06-03T13:36:10.466Z"
   },
   {
    "duration": 11,
    "start_time": "2022-06-03T13:36:11.429Z"
   },
   {
    "duration": 31,
    "start_time": "2022-06-03T13:36:11.441Z"
   },
   {
    "duration": 21,
    "start_time": "2022-06-03T13:36:11.474Z"
   },
   {
    "duration": 193,
    "start_time": "2022-06-03T13:36:11.497Z"
   },
   {
    "duration": 0,
    "start_time": "2022-06-03T13:36:11.692Z"
   },
   {
    "duration": 0,
    "start_time": "2022-06-03T13:36:11.693Z"
   },
   {
    "duration": 16,
    "start_time": "2022-06-03T13:36:45.537Z"
   },
   {
    "duration": 10,
    "start_time": "2022-06-03T13:40:37.789Z"
   },
   {
    "duration": 14,
    "start_time": "2022-06-03T13:40:43.702Z"
   },
   {
    "duration": 1370,
    "start_time": "2022-06-03T13:41:23.124Z"
   },
   {
    "duration": 6,
    "start_time": "2022-06-03T13:41:41.910Z"
   },
   {
    "duration": 2243,
    "start_time": "2022-06-03T13:41:58.358Z"
   },
   {
    "duration": 10,
    "start_time": "2022-06-03T13:42:02.073Z"
   },
   {
    "duration": 6,
    "start_time": "2022-06-03T13:42:24.437Z"
   },
   {
    "duration": 14,
    "start_time": "2022-06-03T13:42:38.991Z"
   },
   {
    "duration": 11,
    "start_time": "2022-06-03T13:42:43.043Z"
   },
   {
    "duration": 11,
    "start_time": "2022-06-03T13:42:58.737Z"
   },
   {
    "duration": 31,
    "start_time": "2022-06-03T13:43:05.544Z"
   },
   {
    "duration": 79,
    "start_time": "2022-06-03T13:43:08.274Z"
   },
   {
    "duration": 5,
    "start_time": "2022-06-03T13:43:21.159Z"
   },
   {
    "duration": 9,
    "start_time": "2022-06-03T13:43:25.459Z"
   },
   {
    "duration": 7,
    "start_time": "2022-06-03T13:43:34.085Z"
   },
   {
    "duration": 5,
    "start_time": "2022-06-03T13:43:38.690Z"
   },
   {
    "duration": 5,
    "start_time": "2022-06-03T13:43:45.010Z"
   },
   {
    "duration": 8,
    "start_time": "2022-06-03T13:44:02.491Z"
   },
   {
    "duration": 16,
    "start_time": "2022-06-03T13:44:27.682Z"
   },
   {
    "duration": 2039,
    "start_time": "2022-06-03T13:44:41.644Z"
   },
   {
    "duration": 4,
    "start_time": "2022-06-03T13:44:46.312Z"
   },
   {
    "duration": 7,
    "start_time": "2022-06-03T13:44:51.580Z"
   },
   {
    "duration": 5,
    "start_time": "2022-06-03T13:44:58.519Z"
   },
   {
    "duration": 5,
    "start_time": "2022-06-03T13:45:02.657Z"
   },
   {
    "duration": 5,
    "start_time": "2022-06-03T13:45:05.756Z"
   },
   {
    "duration": 7,
    "start_time": "2022-06-03T13:45:15.663Z"
   },
   {
    "duration": 5,
    "start_time": "2022-06-03T13:45:21.310Z"
   },
   {
    "duration": 4,
    "start_time": "2022-06-03T13:46:52.741Z"
   },
   {
    "duration": 4,
    "start_time": "2022-06-03T13:47:13.395Z"
   },
   {
    "duration": 6,
    "start_time": "2022-06-03T13:47:19.415Z"
   },
   {
    "duration": 7,
    "start_time": "2022-06-03T13:47:42.672Z"
   },
   {
    "duration": 2097,
    "start_time": "2022-06-03T13:47:48.579Z"
   },
   {
    "duration": 5,
    "start_time": "2022-06-03T13:47:52.154Z"
   },
   {
    "duration": 5,
    "start_time": "2022-06-03T13:49:01.485Z"
   },
   {
    "duration": 4,
    "start_time": "2022-06-03T13:49:29.319Z"
   },
   {
    "duration": 26,
    "start_time": "2022-06-03T13:49:46.961Z"
   },
   {
    "duration": 12,
    "start_time": "2022-06-03T13:50:03.208Z"
   },
   {
    "duration": 18,
    "start_time": "2022-06-03T13:50:05.354Z"
   },
   {
    "duration": 5,
    "start_time": "2022-06-03T13:50:15.705Z"
   },
   {
    "duration": 13,
    "start_time": "2022-06-03T13:50:53.002Z"
   },
   {
    "duration": 11,
    "start_time": "2022-06-03T13:51:16.759Z"
   },
   {
    "duration": 6,
    "start_time": "2022-06-03T13:51:38.708Z"
   },
   {
    "duration": 7,
    "start_time": "2022-06-03T13:51:42.511Z"
   },
   {
    "duration": 6,
    "start_time": "2022-06-03T13:51:50.193Z"
   },
   {
    "duration": 5,
    "start_time": "2022-06-03T13:52:02.985Z"
   },
   {
    "duration": 5,
    "start_time": "2022-06-03T13:52:16.282Z"
   },
   {
    "duration": 6,
    "start_time": "2022-06-03T13:52:20.593Z"
   },
   {
    "duration": 8,
    "start_time": "2022-06-03T13:57:41.578Z"
   },
   {
    "duration": 6,
    "start_time": "2022-06-03T13:57:52.855Z"
   },
   {
    "duration": 6,
    "start_time": "2022-06-03T13:57:57.513Z"
   },
   {
    "duration": 18,
    "start_time": "2022-06-03T13:58:27.866Z"
   },
   {
    "duration": 16,
    "start_time": "2022-06-03T14:00:29.063Z"
   },
   {
    "duration": 30,
    "start_time": "2022-06-03T14:00:45.613Z"
   },
   {
    "duration": 12,
    "start_time": "2022-06-03T14:00:49.404Z"
   },
   {
    "duration": 5,
    "start_time": "2022-06-03T14:00:57.999Z"
   },
   {
    "duration": 1676,
    "start_time": "2022-06-03T14:01:58.280Z"
   },
   {
    "duration": 52,
    "start_time": "2022-06-03T14:01:59.958Z"
   },
   {
    "duration": 7,
    "start_time": "2022-06-03T14:02:00.011Z"
   },
   {
    "duration": 15,
    "start_time": "2022-06-03T14:02:00.020Z"
   },
   {
    "duration": 14,
    "start_time": "2022-06-03T14:02:00.037Z"
   },
   {
    "duration": 39,
    "start_time": "2022-06-03T14:02:00.053Z"
   },
   {
    "duration": 897,
    "start_time": "2022-06-03T14:02:00.094Z"
   },
   {
    "duration": 13,
    "start_time": "2022-06-03T14:02:00.993Z"
   },
   {
    "duration": 43,
    "start_time": "2022-06-03T14:02:01.008Z"
   },
   {
    "duration": 183,
    "start_time": "2022-06-03T14:02:01.054Z"
   },
   {
    "duration": 0,
    "start_time": "2022-06-03T14:02:01.239Z"
   },
   {
    "duration": 0,
    "start_time": "2022-06-03T14:02:01.240Z"
   },
   {
    "duration": 0,
    "start_time": "2022-06-03T14:02:01.241Z"
   },
   {
    "duration": 0,
    "start_time": "2022-06-03T14:02:01.243Z"
   },
   {
    "duration": 1,
    "start_time": "2022-06-03T14:02:01.243Z"
   },
   {
    "duration": 15,
    "start_time": "2022-06-03T14:02:24.839Z"
   },
   {
    "duration": 12,
    "start_time": "2022-06-03T14:02:29.514Z"
   },
   {
    "duration": 9,
    "start_time": "2022-06-03T14:02:36.697Z"
   },
   {
    "duration": 6,
    "start_time": "2022-06-03T14:02:38.587Z"
   },
   {
    "duration": 22,
    "start_time": "2022-06-03T14:02:47.263Z"
   },
   {
    "duration": 6,
    "start_time": "2022-06-03T14:02:48.105Z"
   },
   {
    "duration": 8,
    "start_time": "2022-06-03T14:02:52.744Z"
   },
   {
    "duration": 5,
    "start_time": "2022-06-03T14:02:53.393Z"
   },
   {
    "duration": 6,
    "start_time": "2022-06-03T14:03:01.395Z"
   },
   {
    "duration": 21,
    "start_time": "2022-06-03T14:03:07.964Z"
   },
   {
    "duration": 7,
    "start_time": "2022-06-03T14:03:08.603Z"
   },
   {
    "duration": 6,
    "start_time": "2022-06-03T14:03:18.144Z"
   },
   {
    "duration": 11,
    "start_time": "2022-06-03T14:03:21.539Z"
   },
   {
    "duration": 6,
    "start_time": "2022-06-03T14:03:22.279Z"
   },
   {
    "duration": 4,
    "start_time": "2022-06-03T14:24:08.813Z"
   },
   {
    "duration": 12,
    "start_time": "2022-06-03T14:24:26.750Z"
   },
   {
    "duration": 14,
    "start_time": "2022-06-03T14:27:42.207Z"
   },
   {
    "duration": 11,
    "start_time": "2022-06-03T14:28:03.989Z"
   },
   {
    "duration": 3,
    "start_time": "2022-06-03T14:28:24.024Z"
   },
   {
    "duration": 5,
    "start_time": "2022-06-03T14:29:02.523Z"
   },
   {
    "duration": 4,
    "start_time": "2022-06-03T14:29:14.762Z"
   },
   {
    "duration": 6,
    "start_time": "2022-06-03T14:29:18.474Z"
   },
   {
    "duration": 396,
    "start_time": "2022-06-03T14:29:35.565Z"
   },
   {
    "duration": 300,
    "start_time": "2022-06-03T14:31:23.549Z"
   },
   {
    "duration": 242,
    "start_time": "2022-06-03T14:31:34.096Z"
   },
   {
    "duration": 280,
    "start_time": "2022-06-03T14:32:57.371Z"
   },
   {
    "duration": 259,
    "start_time": "2022-06-03T14:37:31.969Z"
   },
   {
    "duration": 414,
    "start_time": "2022-06-03T14:38:09.891Z"
   },
   {
    "duration": 539,
    "start_time": "2022-06-03T14:38:31.164Z"
   },
   {
    "duration": 5,
    "start_time": "2022-06-03T14:42:59.053Z"
   },
   {
    "duration": 4,
    "start_time": "2022-06-03T14:43:12.203Z"
   },
   {
    "duration": 562,
    "start_time": "2022-06-03T14:43:31.028Z"
   },
   {
    "duration": 404,
    "start_time": "2022-06-03T14:44:16.060Z"
   },
   {
    "duration": 562,
    "start_time": "2022-06-03T14:44:36.210Z"
   },
   {
    "duration": 381,
    "start_time": "2022-06-03T14:45:02.017Z"
   },
   {
    "duration": 552,
    "start_time": "2022-06-03T14:45:09.171Z"
   },
   {
    "duration": 626,
    "start_time": "2022-06-03T14:46:19.688Z"
   },
   {
    "duration": 641,
    "start_time": "2022-06-03T14:46:27.191Z"
   },
   {
    "duration": 726,
    "start_time": "2022-06-03T14:46:39.859Z"
   },
   {
    "duration": 596,
    "start_time": "2022-06-03T14:47:03.957Z"
   },
   {
    "duration": 652,
    "start_time": "2022-06-03T14:51:32.709Z"
   },
   {
    "duration": 648,
    "start_time": "2022-06-03T14:51:52.720Z"
   },
   {
    "duration": 950,
    "start_time": "2022-06-03T14:53:48.582Z"
   },
   {
    "duration": 680,
    "start_time": "2022-06-03T14:54:53.379Z"
   },
   {
    "duration": 631,
    "start_time": "2022-06-03T14:55:55.294Z"
   },
   {
    "duration": 676,
    "start_time": "2022-06-03T14:56:03.639Z"
   },
   {
    "duration": 796,
    "start_time": "2022-06-03T14:56:40.493Z"
   },
   {
    "duration": 743,
    "start_time": "2022-06-03T14:58:09.137Z"
   },
   {
    "duration": 702,
    "start_time": "2022-06-03T14:59:04.218Z"
   },
   {
    "duration": 701,
    "start_time": "2022-06-03T14:59:11.351Z"
   },
   {
    "duration": 867,
    "start_time": "2022-06-03T14:59:18.393Z"
   },
   {
    "duration": 913,
    "start_time": "2022-06-03T14:59:31.724Z"
   },
   {
    "duration": 668,
    "start_time": "2022-06-03T14:59:37.419Z"
   },
   {
    "duration": 708,
    "start_time": "2022-06-03T14:59:43.391Z"
   },
   {
    "duration": 801,
    "start_time": "2022-06-03T14:59:48.396Z"
   },
   {
    "duration": 724,
    "start_time": "2022-06-03T15:00:23.368Z"
   },
   {
    "duration": 721,
    "start_time": "2022-06-03T15:00:53.485Z"
   },
   {
    "duration": 603,
    "start_time": "2022-06-03T15:01:03.790Z"
   },
   {
    "duration": 838,
    "start_time": "2022-06-03T15:01:15.318Z"
   },
   {
    "duration": 30,
    "start_time": "2022-06-03T15:05:00.321Z"
   },
   {
    "duration": 1376,
    "start_time": "2022-06-03T15:07:43.798Z"
   },
   {
    "duration": 701,
    "start_time": "2022-06-03T15:07:54.179Z"
   },
   {
    "duration": 5,
    "start_time": "2022-06-03T15:08:10.539Z"
   },
   {
    "duration": 810,
    "start_time": "2022-06-03T15:08:17.853Z"
   },
   {
    "duration": 26,
    "start_time": "2022-06-03T15:40:59.805Z"
   },
   {
    "duration": 2019,
    "start_time": "2022-06-03T15:41:09.760Z"
   },
   {
    "duration": 2798,
    "start_time": "2022-06-03T15:41:58.602Z"
   },
   {
    "duration": 4,
    "start_time": "2022-06-03T15:43:17.726Z"
   },
   {
    "duration": 18,
    "start_time": "2022-06-03T15:43:24.964Z"
   },
   {
    "duration": 4,
    "start_time": "2022-06-03T15:43:36.712Z"
   },
   {
    "duration": 2487,
    "start_time": "2022-06-03T15:52:55.913Z"
   },
   {
    "duration": 3,
    "start_time": "2022-06-03T15:54:07.286Z"
   },
   {
    "duration": 20,
    "start_time": "2022-06-03T15:54:12.538Z"
   },
   {
    "duration": 6,
    "start_time": "2022-06-03T15:54:15.780Z"
   },
   {
    "duration": 495,
    "start_time": "2022-06-03T15:54:38.306Z"
   },
   {
    "duration": 8,
    "start_time": "2022-06-03T15:54:40.090Z"
   },
   {
    "duration": 22,
    "start_time": "2022-06-03T15:54:58.574Z"
   },
   {
    "duration": 153,
    "start_time": "2022-06-03T15:55:10.836Z"
   },
   {
    "duration": 7,
    "start_time": "2022-06-03T15:55:12.099Z"
   },
   {
    "duration": 140,
    "start_time": "2022-06-03T15:55:16.236Z"
   },
   {
    "duration": 7,
    "start_time": "2022-06-03T15:55:17.002Z"
   },
   {
    "duration": 210,
    "start_time": "2022-06-03T15:59:56.682Z"
   },
   {
    "duration": 6,
    "start_time": "2022-06-03T16:00:01.228Z"
   },
   {
    "duration": 141,
    "start_time": "2022-06-03T16:00:03.936Z"
   },
   {
    "duration": 7,
    "start_time": "2022-06-03T16:00:04.774Z"
   },
   {
    "duration": 8,
    "start_time": "2022-06-03T16:00:17.148Z"
   },
   {
    "duration": 227,
    "start_time": "2022-06-03T16:00:19.266Z"
   },
   {
    "duration": 8,
    "start_time": "2022-06-03T16:00:20.970Z"
   },
   {
    "duration": 468,
    "start_time": "2022-06-03T16:00:26.009Z"
   },
   {
    "duration": 6,
    "start_time": "2022-06-03T16:00:28.027Z"
   },
   {
    "duration": 400,
    "start_time": "2022-06-03T16:01:06.700Z"
   },
   {
    "duration": 7,
    "start_time": "2022-06-03T16:01:08.341Z"
   },
   {
    "duration": 8,
    "start_time": "2022-06-03T16:01:14.134Z"
   },
   {
    "duration": 691,
    "start_time": "2022-06-03T16:01:32.993Z"
   },
   {
    "duration": 7,
    "start_time": "2022-06-03T16:01:36.830Z"
   },
   {
    "duration": 8,
    "start_time": "2022-06-03T16:01:41.103Z"
   },
   {
    "duration": 553,
    "start_time": "2022-06-03T16:01:50.126Z"
   },
   {
    "duration": 6,
    "start_time": "2022-06-03T16:01:52.309Z"
   },
   {
    "duration": 682,
    "start_time": "2022-06-03T16:02:09.408Z"
   },
   {
    "duration": 6,
    "start_time": "2022-06-03T16:02:10.328Z"
   },
   {
    "duration": 34,
    "start_time": "2022-06-03T16:04:05.627Z"
   },
   {
    "duration": 46,
    "start_time": "2022-06-03T16:04:14.995Z"
   },
   {
    "duration": 880,
    "start_time": "2022-06-03T16:04:20.608Z"
   },
   {
    "duration": 6,
    "start_time": "2022-06-03T16:04:24.433Z"
   },
   {
    "duration": 9,
    "start_time": "2022-06-03T16:04:34.275Z"
   },
   {
    "duration": 1562,
    "start_time": "2022-06-03T16:04:43.526Z"
   },
   {
    "duration": 6,
    "start_time": "2022-06-03T16:04:45.091Z"
   },
   {
    "duration": 1704,
    "start_time": "2022-06-03T16:05:30.393Z"
   },
   {
    "duration": 68,
    "start_time": "2022-06-03T16:05:32.100Z"
   },
   {
    "duration": 2661,
    "start_time": "2022-06-03T16:05:50.934Z"
   },
   {
    "duration": 21,
    "start_time": "2022-06-03T16:05:53.671Z"
   },
   {
    "duration": 5,
    "start_time": "2022-06-03T16:06:22.651Z"
   },
   {
    "duration": 7,
    "start_time": "2022-06-03T16:06:37.643Z"
   },
   {
    "duration": 2441,
    "start_time": "2022-06-03T16:07:00.956Z"
   },
   {
    "duration": 20,
    "start_time": "2022-06-03T16:07:03.469Z"
   },
   {
    "duration": 634,
    "start_time": "2022-06-03T16:09:03.786Z"
   },
   {
    "duration": 710,
    "start_time": "2022-06-03T16:09:12.561Z"
   },
   {
    "duration": 664,
    "start_time": "2022-06-03T16:09:16.465Z"
   },
   {
    "duration": 854,
    "start_time": "2022-06-03T16:09:31.292Z"
   },
   {
    "duration": 630,
    "start_time": "2022-06-03T16:09:40.944Z"
   },
   {
    "duration": 1820,
    "start_time": "2022-06-03T16:10:00.780Z"
   },
   {
    "duration": 718,
    "start_time": "2022-06-03T16:10:04.041Z"
   },
   {
    "duration": 708,
    "start_time": "2022-06-03T16:10:16.638Z"
   },
   {
    "duration": 5,
    "start_time": "2022-06-03T16:10:36.802Z"
   },
   {
    "duration": 491,
    "start_time": "2022-06-03T16:10:46.982Z"
   },
   {
    "duration": 754,
    "start_time": "2022-06-03T16:10:48.647Z"
   },
   {
    "duration": 4,
    "start_time": "2022-06-03T16:10:52.434Z"
   },
   {
    "duration": 716,
    "start_time": "2022-06-03T16:11:00.552Z"
   },
   {
    "duration": 321,
    "start_time": "2022-06-03T16:11:23.046Z"
   },
   {
    "duration": 634,
    "start_time": "2022-06-03T16:11:24.080Z"
   },
   {
    "duration": 361,
    "start_time": "2022-06-03T16:11:43.707Z"
   },
   {
    "duration": 669,
    "start_time": "2022-06-03T16:11:45.283Z"
   },
   {
    "duration": 16,
    "start_time": "2022-06-03T16:11:56.163Z"
   },
   {
    "duration": 243,
    "start_time": "2022-06-03T16:12:02.541Z"
   },
   {
    "duration": 791,
    "start_time": "2022-06-03T16:12:03.787Z"
   },
   {
    "duration": 9,
    "start_time": "2022-06-03T16:12:09.622Z"
   },
   {
    "duration": 38,
    "start_time": "2022-06-03T16:13:07.032Z"
   },
   {
    "duration": 723,
    "start_time": "2022-06-03T16:13:08.008Z"
   },
   {
    "duration": 23,
    "start_time": "2022-06-03T16:13:24.702Z"
   },
   {
    "duration": 38,
    "start_time": "2022-06-03T16:14:08.175Z"
   },
   {
    "duration": 26,
    "start_time": "2022-06-03T16:14:19.896Z"
   },
   {
    "duration": 22,
    "start_time": "2022-06-03T16:14:28.398Z"
   },
   {
    "duration": 681,
    "start_time": "2022-06-03T16:14:30.741Z"
   },
   {
    "duration": 760,
    "start_time": "2022-06-03T16:14:38.535Z"
   },
   {
    "duration": 1175,
    "start_time": "2022-06-03T16:14:53.599Z"
   },
   {
    "duration": 692,
    "start_time": "2022-06-03T16:14:54.846Z"
   },
   {
    "duration": 696,
    "start_time": "2022-06-03T16:15:00.540Z"
   },
   {
    "duration": 743,
    "start_time": "2022-06-03T16:15:05.651Z"
   },
   {
    "duration": 691,
    "start_time": "2022-06-03T16:15:09.729Z"
   },
   {
    "duration": 5,
    "start_time": "2022-06-03T16:15:15.601Z"
   },
   {
    "duration": 860,
    "start_time": "2022-06-03T16:15:16.879Z"
   },
   {
    "duration": 9,
    "start_time": "2022-06-03T16:15:33.537Z"
   },
   {
    "duration": 13,
    "start_time": "2022-06-03T16:16:16.182Z"
   },
   {
    "duration": 4,
    "start_time": "2022-06-03T16:16:18.481Z"
   },
   {
    "duration": 750,
    "start_time": "2022-06-03T16:16:20.651Z"
   },
   {
    "duration": 5,
    "start_time": "2022-06-03T16:16:26.028Z"
   },
   {
    "duration": 10,
    "start_time": "2022-06-03T16:16:28.302Z"
   },
   {
    "duration": 5,
    "start_time": "2022-06-03T16:16:29.161Z"
   },
   {
    "duration": 704,
    "start_time": "2022-06-03T16:16:29.802Z"
   },
   {
    "duration": 13,
    "start_time": "2022-06-03T16:17:03.582Z"
   },
   {
    "duration": 4,
    "start_time": "2022-06-03T16:17:04.606Z"
   },
   {
    "duration": 688,
    "start_time": "2022-06-03T16:17:05.476Z"
   },
   {
    "duration": 4,
    "start_time": "2022-06-03T16:17:11.233Z"
   },
   {
    "duration": 7,
    "start_time": "2022-06-03T16:17:13.606Z"
   },
   {
    "duration": 877,
    "start_time": "2022-06-03T16:17:14.283Z"
   },
   {
    "duration": 14,
    "start_time": "2022-06-03T16:17:17.399Z"
   },
   {
    "duration": 10,
    "start_time": "2022-06-03T16:17:18.074Z"
   },
   {
    "duration": 804,
    "start_time": "2022-06-03T16:17:18.657Z"
   },
   {
    "duration": 687,
    "start_time": "2022-06-03T16:17:35.139Z"
   },
   {
    "duration": 847,
    "start_time": "2022-06-03T16:18:06.740Z"
   },
   {
    "duration": 657,
    "start_time": "2022-06-03T16:18:09.195Z"
   },
   {
    "duration": 1784,
    "start_time": "2022-06-03T16:18:21.917Z"
   },
   {
    "duration": 7,
    "start_time": "2022-06-03T16:18:23.704Z"
   },
   {
    "duration": 66,
    "start_time": "2022-06-03T16:18:23.713Z"
   },
   {
    "duration": 7,
    "start_time": "2022-06-03T16:18:23.781Z"
   },
   {
    "duration": 17,
    "start_time": "2022-06-03T16:18:23.790Z"
   },
   {
    "duration": 18,
    "start_time": "2022-06-03T16:18:23.809Z"
   },
   {
    "duration": 44,
    "start_time": "2022-06-03T16:18:23.830Z"
   },
   {
    "duration": 931,
    "start_time": "2022-06-03T16:18:23.876Z"
   },
   {
    "duration": 13,
    "start_time": "2022-06-03T16:18:24.809Z"
   },
   {
    "duration": 30,
    "start_time": "2022-06-03T16:18:24.825Z"
   },
   {
    "duration": 30,
    "start_time": "2022-06-03T16:18:24.857Z"
   },
   {
    "duration": 797,
    "start_time": "2022-06-03T16:18:24.889Z"
   },
   {
    "duration": 1208,
    "start_time": "2022-06-03T16:18:25.688Z"
   },
   {
    "duration": 811,
    "start_time": "2022-06-03T16:18:26.898Z"
   },
   {
    "duration": 5,
    "start_time": "2022-06-03T16:18:27.710Z"
   },
   {
    "duration": 744,
    "start_time": "2022-06-03T16:19:25.813Z"
   },
   {
    "duration": 12,
    "start_time": "2022-06-03T16:19:31.350Z"
   },
   {
    "duration": 842,
    "start_time": "2022-06-03T16:19:33.026Z"
   },
   {
    "duration": 822,
    "start_time": "2022-06-03T16:19:37.684Z"
   },
   {
    "duration": 751,
    "start_time": "2022-06-03T16:19:43.230Z"
   },
   {
    "duration": 1337,
    "start_time": "2022-06-03T16:20:02.559Z"
   },
   {
    "duration": 691,
    "start_time": "2022-06-03T16:20:05.069Z"
   },
   {
    "duration": 26,
    "start_time": "2022-06-03T16:42:27.158Z"
   },
   {
    "duration": 1900,
    "start_time": "2022-06-03T16:58:00.315Z"
   },
   {
    "duration": 13,
    "start_time": "2022-06-03T16:58:02.218Z"
   },
   {
    "duration": 85,
    "start_time": "2022-06-03T16:58:04.074Z"
   },
   {
    "duration": 8,
    "start_time": "2022-06-03T16:58:06.170Z"
   },
   {
    "duration": 7,
    "start_time": "2022-06-03T16:58:06.670Z"
   },
   {
    "duration": 14,
    "start_time": "2022-06-03T16:58:06.909Z"
   },
   {
    "duration": 40,
    "start_time": "2022-06-03T16:58:07.906Z"
   },
   {
    "duration": 924,
    "start_time": "2022-06-03T16:58:08.943Z"
   },
   {
    "duration": 17,
    "start_time": "2022-06-03T16:58:10.236Z"
   },
   {
    "duration": 31,
    "start_time": "2022-06-03T16:58:27.783Z"
   },
   {
    "duration": 46,
    "start_time": "2022-06-03T16:58:29.031Z"
   },
   {
    "duration": 915,
    "start_time": "2022-06-03T16:58:30.357Z"
   },
   {
    "duration": 1536,
    "start_time": "2022-06-03T16:58:39.190Z"
   },
   {
    "duration": 741,
    "start_time": "2022-06-03T16:58:40.728Z"
   },
   {
    "duration": 164,
    "start_time": "2022-06-03T16:59:51.115Z"
   },
   {
    "duration": 3,
    "start_time": "2022-06-03T17:00:11.374Z"
   },
   {
    "duration": 54,
    "start_time": "2022-06-03T17:00:12.199Z"
   },
   {
    "duration": 6,
    "start_time": "2022-06-03T17:00:29.258Z"
   },
   {
    "duration": 6,
    "start_time": "2022-06-03T17:00:43.207Z"
   },
   {
    "duration": 4,
    "start_time": "2022-06-03T17:00:56.273Z"
   },
   {
    "duration": 8,
    "start_time": "2022-06-03T17:02:06.948Z"
   },
   {
    "duration": 12,
    "start_time": "2022-06-03T17:02:19.690Z"
   },
   {
    "duration": 6,
    "start_time": "2022-06-03T17:02:31.656Z"
   },
   {
    "duration": 5,
    "start_time": "2022-06-03T17:02:51.298Z"
   },
   {
    "duration": 4,
    "start_time": "2022-06-03T17:33:45.612Z"
   },
   {
    "duration": 5,
    "start_time": "2022-06-03T17:33:53.550Z"
   },
   {
    "duration": 5,
    "start_time": "2022-06-03T17:33:55.948Z"
   },
   {
    "duration": 40,
    "start_time": "2022-06-03T17:33:59.660Z"
   },
   {
    "duration": 8,
    "start_time": "2022-06-03T17:34:36.309Z"
   },
   {
    "duration": 9,
    "start_time": "2022-06-03T17:34:37.442Z"
   },
   {
    "duration": 15,
    "start_time": "2022-06-03T17:34:38.768Z"
   },
   {
    "duration": 27,
    "start_time": "2022-06-03T17:34:39.547Z"
   },
   {
    "duration": 896,
    "start_time": "2022-06-03T17:34:43.104Z"
   },
   {
    "duration": 10,
    "start_time": "2022-06-03T17:34:44.095Z"
   },
   {
    "duration": 26,
    "start_time": "2022-06-03T17:37:59.916Z"
   },
   {
    "duration": 14,
    "start_time": "2022-06-03T17:38:13.887Z"
   },
   {
    "duration": 40,
    "start_time": "2022-06-03T17:38:37.367Z"
   },
   {
    "duration": 15,
    "start_time": "2022-06-03T17:45:30.830Z"
   },
   {
    "duration": 7,
    "start_time": "2022-06-03T17:46:35.066Z"
   },
   {
    "duration": 1757,
    "start_time": "2022-06-03T18:47:04.770Z"
   },
   {
    "duration": 5,
    "start_time": "2022-06-03T18:47:06.529Z"
   },
   {
    "duration": 92,
    "start_time": "2022-06-03T18:47:06.535Z"
   },
   {
    "duration": 6,
    "start_time": "2022-06-03T18:47:06.630Z"
   },
   {
    "duration": 9,
    "start_time": "2022-06-03T18:47:06.637Z"
   },
   {
    "duration": 12,
    "start_time": "2022-06-03T18:47:06.648Z"
   },
   {
    "duration": 22,
    "start_time": "2022-06-03T18:47:06.662Z"
   },
   {
    "duration": 786,
    "start_time": "2022-06-03T18:47:06.685Z"
   },
   {
    "duration": 11,
    "start_time": "2022-06-03T18:47:07.474Z"
   },
   {
    "duration": 16,
    "start_time": "2022-06-03T18:47:07.487Z"
   },
   {
    "duration": 20,
    "start_time": "2022-06-03T18:47:07.505Z"
   },
   {
    "duration": 145,
    "start_time": "2022-06-03T18:47:07.527Z"
   },
   {
    "duration": 8,
    "start_time": "2022-06-03T18:47:07.673Z"
   },
   {
    "duration": 698,
    "start_time": "2022-06-03T18:47:07.682Z"
   },
   {
    "duration": 795,
    "start_time": "2022-06-03T18:47:08.381Z"
   },
   {
    "duration": 599,
    "start_time": "2022-06-03T18:47:09.253Z"
   },
   {
    "duration": 6,
    "start_time": "2022-06-03T18:48:03.262Z"
   },
   {
    "duration": 14,
    "start_time": "2022-06-03T18:48:46.937Z"
   },
   {
    "duration": 23,
    "start_time": "2022-06-03T18:48:59.110Z"
   },
   {
    "duration": 5,
    "start_time": "2022-06-03T18:49:47.216Z"
   },
   {
    "duration": 5,
    "start_time": "2022-06-03T18:50:51.308Z"
   },
   {
    "duration": 36,
    "start_time": "2022-06-03T18:51:00.015Z"
   },
   {
    "duration": 4,
    "start_time": "2022-06-03T18:52:16.944Z"
   },
   {
    "duration": 4,
    "start_time": "2022-06-03T18:52:36.284Z"
   },
   {
    "duration": 4,
    "start_time": "2022-06-03T18:54:48.856Z"
   },
   {
    "duration": 135,
    "start_time": "2022-06-03T18:55:17.601Z"
   },
   {
    "duration": 12,
    "start_time": "2022-06-03T18:55:26.813Z"
   },
   {
    "duration": 11,
    "start_time": "2022-06-03T18:55:37.197Z"
   },
   {
    "duration": 10,
    "start_time": "2022-06-03T18:55:40.876Z"
   },
   {
    "duration": 7,
    "start_time": "2022-06-03T18:56:15.224Z"
   },
   {
    "duration": 5,
    "start_time": "2022-06-03T18:56:42.282Z"
   },
   {
    "duration": 7,
    "start_time": "2022-06-03T18:56:54.082Z"
   },
   {
    "duration": 19,
    "start_time": "2022-06-03T18:57:03.522Z"
   },
   {
    "duration": 13,
    "start_time": "2022-06-03T19:07:26.592Z"
   },
   {
    "duration": 8,
    "start_time": "2022-06-03T19:07:31.448Z"
   },
   {
    "duration": 8,
    "start_time": "2022-06-03T19:07:43.439Z"
   },
   {
    "duration": 25,
    "start_time": "2022-06-03T19:08:23.608Z"
   },
   {
    "duration": 8,
    "start_time": "2022-06-03T19:08:33.349Z"
   },
   {
    "duration": 7,
    "start_time": "2022-06-03T19:08:45.445Z"
   },
   {
    "duration": 6,
    "start_time": "2022-06-03T19:09:38.836Z"
   },
   {
    "duration": 6,
    "start_time": "2022-06-03T19:11:45.751Z"
   },
   {
    "duration": 3,
    "start_time": "2022-06-03T19:13:12.309Z"
   },
   {
    "duration": 17,
    "start_time": "2022-06-03T19:13:46.960Z"
   },
   {
    "duration": 15,
    "start_time": "2022-06-03T19:14:04.295Z"
   },
   {
    "duration": 10,
    "start_time": "2022-06-03T19:14:19.483Z"
   },
   {
    "duration": 17,
    "start_time": "2022-06-03T19:14:32.236Z"
   },
   {
    "duration": 18,
    "start_time": "2022-06-03T19:14:38.678Z"
   },
   {
    "duration": 4,
    "start_time": "2022-06-03T19:14:51.164Z"
   },
   {
    "duration": 5,
    "start_time": "2022-06-03T19:15:00.198Z"
   },
   {
    "duration": 66,
    "start_time": "2022-06-03T19:18:35.497Z"
   },
   {
    "duration": 8,
    "start_time": "2022-06-03T19:18:41.527Z"
   },
   {
    "duration": 8,
    "start_time": "2022-06-03T19:18:47.939Z"
   },
   {
    "duration": 9,
    "start_time": "2022-06-03T19:20:43.197Z"
   },
   {
    "duration": 11,
    "start_time": "2022-06-03T19:20:46.270Z"
   },
   {
    "duration": 10,
    "start_time": "2022-06-03T19:24:38.090Z"
   },
   {
    "duration": 9,
    "start_time": "2022-06-03T19:25:08.905Z"
   },
   {
    "duration": 7,
    "start_time": "2022-06-03T19:25:09.702Z"
   },
   {
    "duration": 8,
    "start_time": "2022-06-03T19:25:15.307Z"
   },
   {
    "duration": 10,
    "start_time": "2022-06-03T19:25:15.846Z"
   },
   {
    "duration": 8,
    "start_time": "2022-06-03T19:25:17.984Z"
   },
   {
    "duration": 6,
    "start_time": "2022-06-03T19:25:18.489Z"
   },
   {
    "duration": 9,
    "start_time": "2022-06-03T19:25:26.489Z"
   },
   {
    "duration": 7,
    "start_time": "2022-06-03T19:25:27.130Z"
   },
   {
    "duration": 9,
    "start_time": "2022-06-03T19:29:14.228Z"
   },
   {
    "duration": 8,
    "start_time": "2022-06-03T19:29:16.257Z"
   },
   {
    "duration": 9,
    "start_time": "2022-06-03T19:29:21.100Z"
   },
   {
    "duration": 7,
    "start_time": "2022-06-03T19:29:21.686Z"
   },
   {
    "duration": 7,
    "start_time": "2022-06-03T19:30:51.846Z"
   },
   {
    "duration": 10,
    "start_time": "2022-06-03T19:30:53.667Z"
   },
   {
    "duration": 8,
    "start_time": "2022-06-03T19:30:54.323Z"
   },
   {
    "duration": 5,
    "start_time": "2022-06-03T19:36:29.749Z"
   },
   {
    "duration": 36,
    "start_time": "2022-06-03T19:37:05.985Z"
   },
   {
    "duration": 9,
    "start_time": "2022-06-03T19:38:15.264Z"
   },
   {
    "duration": 4,
    "start_time": "2022-06-03T19:39:01.527Z"
   },
   {
    "duration": 26,
    "start_time": "2022-06-03T19:40:05.450Z"
   },
   {
    "duration": 10,
    "start_time": "2022-06-03T19:41:00.024Z"
   },
   {
    "duration": 9,
    "start_time": "2022-06-03T19:41:05.794Z"
   },
   {
    "duration": 8,
    "start_time": "2022-06-03T19:41:07.043Z"
   },
   {
    "duration": 9,
    "start_time": "2022-06-03T19:41:09.383Z"
   },
   {
    "duration": 7,
    "start_time": "2022-06-03T19:41:09.923Z"
   },
   {
    "duration": 13,
    "start_time": "2022-06-03T19:41:25.381Z"
   },
   {
    "duration": 617,
    "start_time": "2022-06-03T19:42:01.530Z"
   },
   {
    "duration": 7,
    "start_time": "2022-06-03T19:42:10.303Z"
   },
   {
    "duration": 9,
    "start_time": "2022-06-03T19:42:12.238Z"
   },
   {
    "duration": 7,
    "start_time": "2022-06-03T19:42:12.824Z"
   },
   {
    "duration": 634,
    "start_time": "2022-06-03T19:42:16.299Z"
   },
   {
    "duration": 17,
    "start_time": "2022-06-03T19:43:50.410Z"
   },
   {
    "duration": 6,
    "start_time": "2022-06-03T19:44:06.157Z"
   },
   {
    "duration": 3,
    "start_time": "2022-06-03T19:44:09.690Z"
   },
   {
    "duration": 5,
    "start_time": "2022-06-03T19:44:23.786Z"
   },
   {
    "duration": 18,
    "start_time": "2022-06-03T19:44:31.426Z"
   },
   {
    "duration": 9,
    "start_time": "2022-06-03T19:44:56.446Z"
   },
   {
    "duration": 9,
    "start_time": "2022-06-03T19:45:01.003Z"
   },
   {
    "duration": 5,
    "start_time": "2022-06-03T19:45:01.441Z"
   },
   {
    "duration": 8,
    "start_time": "2022-06-03T19:45:03.894Z"
   },
   {
    "duration": 5,
    "start_time": "2022-06-03T19:45:04.333Z"
   },
   {
    "duration": 8,
    "start_time": "2022-06-03T19:45:06.425Z"
   },
   {
    "duration": 4,
    "start_time": "2022-06-03T19:45:06.921Z"
   },
   {
    "duration": 9,
    "start_time": "2022-06-03T19:45:13.052Z"
   },
   {
    "duration": 6,
    "start_time": "2022-06-03T19:45:13.501Z"
   },
   {
    "duration": 21,
    "start_time": "2022-06-03T19:45:16.108Z"
   },
   {
    "duration": 9,
    "start_time": "2022-06-03T19:45:16.573Z"
   },
   {
    "duration": 613,
    "start_time": "2022-06-03T19:45:21.692Z"
   },
   {
    "duration": 30,
    "start_time": "2022-06-03T19:48:35.511Z"
   },
   {
    "duration": 726,
    "start_time": "2022-06-03T19:48:57.437Z"
   },
   {
    "duration": 715,
    "start_time": "2022-06-03T19:49:01.937Z"
   },
   {
    "duration": 569,
    "start_time": "2022-06-03T19:49:04.389Z"
   },
   {
    "duration": 695,
    "start_time": "2022-06-03T19:49:12.179Z"
   },
   {
    "duration": 651,
    "start_time": "2022-06-03T19:49:14.110Z"
   },
   {
    "duration": 7,
    "start_time": "2022-06-03T19:52:23.360Z"
   },
   {
    "duration": 4,
    "start_time": "2022-06-03T19:52:32.731Z"
   },
   {
    "duration": 3,
    "start_time": "2022-06-03T19:53:22.155Z"
   },
   {
    "duration": 3,
    "start_time": "2022-06-03T19:53:29.961Z"
   },
   {
    "duration": 5,
    "start_time": "2022-06-03T19:54:10.080Z"
   },
   {
    "duration": 7,
    "start_time": "2022-06-03T19:57:02.559Z"
   },
   {
    "duration": 6,
    "start_time": "2022-06-03T19:57:18.061Z"
   },
   {
    "duration": 6,
    "start_time": "2022-06-03T19:57:45.071Z"
   },
   {
    "duration": 6,
    "start_time": "2022-06-03T19:57:55.332Z"
   },
   {
    "duration": 6,
    "start_time": "2022-06-03T19:58:03.904Z"
   },
   {
    "duration": 10,
    "start_time": "2022-06-03T19:58:11.306Z"
   },
   {
    "duration": 15,
    "start_time": "2022-06-03T19:58:41.255Z"
   },
   {
    "duration": 11,
    "start_time": "2022-06-03T19:59:03.721Z"
   },
   {
    "duration": 12,
    "start_time": "2022-06-03T19:59:10.810Z"
   },
   {
    "duration": 10,
    "start_time": "2022-06-03T19:59:14.971Z"
   },
   {
    "duration": 4,
    "start_time": "2022-06-03T19:59:55.653Z"
   },
   {
    "duration": 10,
    "start_time": "2022-06-03T19:59:58.598Z"
   },
   {
    "duration": 5,
    "start_time": "2022-06-03T19:59:59.173Z"
   },
   {
    "duration": 6,
    "start_time": "2022-06-03T20:00:12.516Z"
   },
   {
    "duration": 4,
    "start_time": "2022-06-03T20:00:23.015Z"
   },
   {
    "duration": 11,
    "start_time": "2022-06-03T20:00:28.435Z"
   },
   {
    "duration": 10,
    "start_time": "2022-06-03T20:00:49.091Z"
   },
   {
    "duration": 10,
    "start_time": "2022-06-03T20:00:59.070Z"
   },
   {
    "duration": 12,
    "start_time": "2022-06-03T20:01:05.000Z"
   },
   {
    "duration": 13,
    "start_time": "2022-06-03T20:01:14.157Z"
   },
   {
    "duration": 985,
    "start_time": "2022-06-03T20:01:21.963Z"
   },
   {
    "duration": 13,
    "start_time": "2022-06-03T20:01:32.550Z"
   },
   {
    "duration": 595,
    "start_time": "2022-06-03T20:01:33.889Z"
   },
   {
    "duration": 661,
    "start_time": "2022-06-03T20:03:07.603Z"
   },
   {
    "duration": 599,
    "start_time": "2022-06-03T20:03:16.546Z"
   },
   {
    "duration": 655,
    "start_time": "2022-06-03T20:03:21.497Z"
   },
   {
    "duration": 564,
    "start_time": "2022-06-03T20:03:23.532Z"
   },
   {
    "duration": 718,
    "start_time": "2022-06-03T20:04:51.253Z"
   },
   {
    "duration": 593,
    "start_time": "2022-06-03T20:04:53.828Z"
   },
   {
    "duration": 750,
    "start_time": "2022-06-03T20:04:59.802Z"
   },
   {
    "duration": 560,
    "start_time": "2022-06-03T20:05:01.106Z"
   },
   {
    "duration": 642,
    "start_time": "2022-06-03T20:05:05.923Z"
   },
   {
    "duration": 564,
    "start_time": "2022-06-03T20:05:08.261Z"
   },
   {
    "duration": 799,
    "start_time": "2022-06-03T20:05:40.460Z"
   },
   {
    "duration": 606,
    "start_time": "2022-06-03T20:05:41.617Z"
   },
   {
    "duration": 769,
    "start_time": "2022-06-03T20:05:57.888Z"
   },
   {
    "duration": 1006,
    "start_time": "2022-06-03T20:06:00.201Z"
   },
   {
    "duration": 438,
    "start_time": "2022-06-03T20:06:06.831Z"
   },
   {
    "duration": 516,
    "start_time": "2022-06-03T20:06:32.953Z"
   },
   {
    "duration": 543,
    "start_time": "2022-06-03T20:07:07.415Z"
   },
   {
    "duration": 590,
    "start_time": "2022-06-03T20:07:09.968Z"
   },
   {
    "duration": 450,
    "start_time": "2022-06-03T20:07:14.130Z"
   },
   {
    "duration": 616,
    "start_time": "2022-06-03T20:07:15.693Z"
   },
   {
    "duration": 484,
    "start_time": "2022-06-03T20:07:19.484Z"
   },
   {
    "duration": 576,
    "start_time": "2022-06-03T20:07:21.115Z"
   },
   {
    "duration": 603,
    "start_time": "2022-06-03T20:07:25.660Z"
   },
   {
    "duration": 18,
    "start_time": "2022-06-03T20:10:32.323Z"
   },
   {
    "duration": 459,
    "start_time": "2022-06-03T20:10:59.304Z"
   },
   {
    "duration": 5,
    "start_time": "2022-06-03T20:11:07.909Z"
   },
   {
    "duration": 5,
    "start_time": "2022-06-03T20:11:24.965Z"
   },
   {
    "duration": 13,
    "start_time": "2022-06-03T20:11:41.334Z"
   },
   {
    "duration": 4,
    "start_time": "2022-06-03T20:12:01.989Z"
   },
   {
    "duration": 3,
    "start_time": "2022-06-03T20:12:08.595Z"
   },
   {
    "duration": 5,
    "start_time": "2022-06-03T20:12:12.314Z"
   },
   {
    "duration": 16,
    "start_time": "2022-06-03T20:12:16.208Z"
   },
   {
    "duration": 592,
    "start_time": "2022-06-03T20:12:22.902Z"
   },
   {
    "duration": 15,
    "start_time": "2022-06-03T20:12:27.349Z"
   },
   {
    "duration": 616,
    "start_time": "2022-06-03T20:12:28.685Z"
   },
   {
    "duration": 15,
    "start_time": "2022-06-03T20:12:32.521Z"
   },
   {
    "duration": 579,
    "start_time": "2022-06-03T20:12:33.725Z"
   },
   {
    "duration": 560,
    "start_time": "2022-06-03T20:13:10.799Z"
   },
   {
    "duration": 526,
    "start_time": "2022-06-03T20:14:24.744Z"
   },
   {
    "duration": 13,
    "start_time": "2022-06-03T20:14:39.571Z"
   },
   {
    "duration": 14,
    "start_time": "2022-06-03T20:14:43.192Z"
   },
   {
    "duration": 13,
    "start_time": "2022-06-03T20:14:48.176Z"
   },
   {
    "duration": 1261,
    "start_time": "2022-06-03T20:15:01.002Z"
   },
   {
    "duration": 1228,
    "start_time": "2022-06-03T20:15:27.833Z"
   },
   {
    "duration": 4130,
    "start_time": "2022-06-03T20:15:41.627Z"
   },
   {
    "duration": 2710,
    "start_time": "2022-06-03T20:16:10.248Z"
   },
   {
    "duration": 6227,
    "start_time": "2022-06-03T20:16:18.831Z"
   },
   {
    "duration": 44380,
    "start_time": "2022-06-03T20:16:31.194Z"
   },
   {
    "duration": 66611,
    "start_time": "2022-06-03T20:17:18.166Z"
   },
   {
    "duration": 589,
    "start_time": "2022-06-03T20:18:29.571Z"
   },
   {
    "duration": 1018,
    "start_time": "2022-06-03T20:18:35.498Z"
   },
   {
    "duration": 593,
    "start_time": "2022-06-03T20:18:39.312Z"
   },
   {
    "duration": 593,
    "start_time": "2022-06-03T20:18:42.856Z"
   },
   {
    "duration": 641,
    "start_time": "2022-06-03T20:18:47.559Z"
   },
   {
    "duration": 108419,
    "start_time": "2022-06-03T20:19:28.644Z"
   },
   {
    "duration": 584,
    "start_time": "2022-06-03T20:22:12.753Z"
   },
   {
    "duration": 4,
    "start_time": "2022-06-03T20:39:03.693Z"
   },
   {
    "duration": 4,
    "start_time": "2022-06-03T20:39:06.687Z"
   },
   {
    "duration": 4,
    "start_time": "2022-06-03T20:39:11.511Z"
   },
   {
    "duration": 29,
    "start_time": "2022-06-03T20:40:12.771Z"
   },
   {
    "duration": 43,
    "start_time": "2022-06-03T20:40:24.346Z"
   },
   {
    "duration": 21,
    "start_time": "2022-06-03T20:40:30.904Z"
   },
   {
    "duration": 5,
    "start_time": "2022-06-03T20:40:40.398Z"
   },
   {
    "duration": 8,
    "start_time": "2022-06-03T20:42:53.588Z"
   },
   {
    "duration": 7,
    "start_time": "2022-06-03T20:46:08.420Z"
   },
   {
    "duration": 116840,
    "start_time": "2022-06-03T20:47:21.929Z"
   },
   {
    "duration": 3,
    "start_time": "2022-06-03T20:49:18.771Z"
   },
   {
    "duration": 2153,
    "start_time": "2022-06-03T20:52:36.516Z"
   },
   {
    "duration": 8,
    "start_time": "2022-06-03T20:52:59.007Z"
   },
   {
    "duration": 2358,
    "start_time": "2022-06-03T20:52:59.612Z"
   },
   {
    "duration": 5,
    "start_time": "2022-06-03T20:53:21.651Z"
   },
   {
    "duration": 7,
    "start_time": "2022-06-03T20:53:33.019Z"
   },
   {
    "duration": 5,
    "start_time": "2022-06-03T20:53:36.839Z"
   },
   {
    "duration": 4,
    "start_time": "2022-06-03T20:53:44.570Z"
   },
   {
    "duration": 11,
    "start_time": "2022-06-03T20:53:48.450Z"
   },
   {
    "duration": 4,
    "start_time": "2022-06-03T20:53:53.219Z"
   },
   {
    "duration": 4,
    "start_time": "2022-06-03T20:53:59.891Z"
   },
   {
    "duration": 10,
    "start_time": "2022-06-03T20:54:11.558Z"
   },
   {
    "duration": 1937,
    "start_time": "2022-06-03T20:54:13.221Z"
   },
   {
    "duration": 4,
    "start_time": "2022-06-03T21:10:02.906Z"
   },
   {
    "duration": 4,
    "start_time": "2022-06-03T21:10:09.014Z"
   },
   {
    "duration": 145669,
    "start_time": "2022-06-03T21:15:43.909Z"
   },
   {
    "duration": 59442,
    "start_time": "2022-06-03T21:19:25.047Z"
   },
   {
    "duration": 193944,
    "start_time": "2022-06-03T21:20:38.226Z"
   },
   {
    "duration": 11962,
    "start_time": "2022-06-03T21:24:04.701Z"
   },
   {
    "duration": 32360,
    "start_time": "2022-06-03T21:24:30.408Z"
   },
   {
    "duration": 22,
    "start_time": "2022-06-03T21:25:12.192Z"
   },
   {
    "duration": 16,
    "start_time": "2022-06-03T21:25:17.445Z"
   },
   {
    "duration": 16,
    "start_time": "2022-06-03T21:25:21.257Z"
   },
   {
    "duration": 4,
    "start_time": "2022-06-03T21:25:48.171Z"
   },
   {
    "duration": 4,
    "start_time": "2022-06-03T21:26:08.127Z"
   },
   {
    "duration": 5,
    "start_time": "2022-06-03T21:26:16.170Z"
   },
   {
    "duration": 4,
    "start_time": "2022-06-03T21:26:21.165Z"
   },
   {
    "duration": 4,
    "start_time": "2022-06-03T21:26:40.684Z"
   },
   {
    "duration": 2144819,
    "start_time": "2022-06-03T21:26:46.148Z"
   },
   {
    "duration": 0,
    "start_time": "2022-06-03T22:02:30.970Z"
   },
   {
    "duration": 9,
    "start_time": "2022-06-03T22:02:51.534Z"
   },
   {
    "duration": 13,
    "start_time": "2022-06-03T22:11:25.781Z"
   },
   {
    "duration": 68,
    "start_time": "2022-06-03T22:11:59.806Z"
   },
   {
    "duration": 98447,
    "start_time": "2022-06-03T22:12:29.029Z"
   },
   {
    "duration": 42410,
    "start_time": "2022-06-03T22:14:11.863Z"
   },
   {
    "duration": 45385,
    "start_time": "2022-06-03T22:14:55.889Z"
   },
   {
    "duration": 18611,
    "start_time": "2022-06-03T22:15:58.959Z"
   },
   {
    "duration": 24039,
    "start_time": "2022-06-03T22:16:26.636Z"
   },
   {
    "duration": 116223,
    "start_time": "2022-06-03T22:17:23.552Z"
   },
   {
    "duration": 98127,
    "start_time": "2022-06-03T22:21:23.337Z"
   },
   {
    "duration": 2446,
    "start_time": "2022-06-03T22:23:29.518Z"
   },
   {
    "duration": 9,
    "start_time": "2022-06-03T22:23:36.144Z"
   },
   {
    "duration": 2585,
    "start_time": "2022-06-03T22:23:41.477Z"
   },
   {
    "duration": 8,
    "start_time": "2022-06-03T22:23:54.054Z"
   },
   {
    "duration": 2636,
    "start_time": "2022-06-03T22:23:59.220Z"
   },
   {
    "duration": 1903,
    "start_time": "2022-06-03T22:25:05.168Z"
   },
   {
    "duration": 4,
    "start_time": "2022-06-03T22:25:19.837Z"
   },
   {
    "duration": 12,
    "start_time": "2022-06-03T22:26:12.072Z"
   },
   {
    "duration": 535,
    "start_time": "2022-06-03T22:26:27.114Z"
   },
   {
    "duration": 4,
    "start_time": "2022-06-03T22:26:39.838Z"
   },
   {
    "duration": 8,
    "start_time": "2022-06-03T22:26:48.984Z"
   },
   {
    "duration": 0,
    "start_time": "2022-06-03T22:28:05.368Z"
   },
   {
    "duration": 8111,
    "start_time": "2022-06-03T22:28:09.355Z"
   },
   {
    "duration": 4,
    "start_time": "2022-06-03T22:28:17.468Z"
   },
   {
    "duration": 14524,
    "start_time": "2022-06-03T22:28:26.456Z"
   },
   {
    "duration": 71,
    "start_time": "2022-06-03T22:28:40.982Z"
   },
   {
    "duration": 52986,
    "start_time": "2022-06-03T22:28:53.771Z"
   },
   {
    "duration": 4,
    "start_time": "2022-06-03T22:29:46.759Z"
   },
   {
    "duration": 9864,
    "start_time": "2022-06-03T22:30:48.209Z"
   },
   {
    "duration": 8,
    "start_time": "2022-06-03T22:32:53.705Z"
   },
   {
    "duration": 836504,
    "start_time": "2022-06-03T22:33:03.572Z"
   },
   {
    "duration": 7,
    "start_time": "2022-06-03T22:47:00.079Z"
   },
   {
    "duration": 13,
    "start_time": "2022-06-03T22:47:30.322Z"
   },
   {
    "duration": 13,
    "start_time": "2022-06-03T22:48:03.939Z"
   },
   {
    "duration": 10,
    "start_time": "2022-06-03T22:48:13.682Z"
   },
   {
    "duration": 19,
    "start_time": "2022-06-03T22:48:24.345Z"
   },
   {
    "duration": 7,
    "start_time": "2022-06-03T22:48:30.916Z"
   },
   {
    "duration": 10,
    "start_time": "2022-06-03T22:48:34.537Z"
   },
   {
    "duration": 14,
    "start_time": "2022-06-03T22:48:38.306Z"
   },
   {
    "duration": 11,
    "start_time": "2022-06-03T22:48:42.099Z"
   },
   {
    "duration": 16,
    "start_time": "2022-06-03T22:48:58.120Z"
   },
   {
    "duration": 10,
    "start_time": "2022-06-03T22:49:04.733Z"
   },
   {
    "duration": 4,
    "start_time": "2022-06-03T22:49:29.528Z"
   },
   {
    "duration": 8,
    "start_time": "2022-06-03T22:50:06.597Z"
   },
   {
    "duration": 14,
    "start_time": "2022-06-03T22:51:14.168Z"
   },
   {
    "duration": 13,
    "start_time": "2022-06-03T22:54:19.087Z"
   },
   {
    "duration": 3,
    "start_time": "2022-06-03T22:55:52.935Z"
   },
   {
    "duration": 11,
    "start_time": "2022-06-03T22:55:55.513Z"
   },
   {
    "duration": 5,
    "start_time": "2022-06-03T22:56:17.404Z"
   },
   {
    "duration": 5,
    "start_time": "2022-06-03T22:56:35.504Z"
   },
   {
    "duration": 702,
    "start_time": "2022-06-03T22:57:15.117Z"
   },
   {
    "duration": 543,
    "start_time": "2022-06-03T22:58:05.990Z"
   },
   {
    "duration": 13,
    "start_time": "2022-06-03T22:58:43.263Z"
   },
   {
    "duration": 2,
    "start_time": "2022-06-03T23:00:30.622Z"
   },
   {
    "duration": 6,
    "start_time": "2022-06-03T23:01:05.105Z"
   },
   {
    "duration": 5,
    "start_time": "2022-06-03T23:01:20.741Z"
   },
   {
    "duration": 1662,
    "start_time": "2022-06-04T07:05:58.240Z"
   },
   {
    "duration": 13,
    "start_time": "2022-06-04T07:05:59.904Z"
   },
   {
    "duration": 92,
    "start_time": "2022-06-04T07:06:12.312Z"
   },
   {
    "duration": 7,
    "start_time": "2022-06-04T07:06:13.954Z"
   },
   {
    "duration": 6,
    "start_time": "2022-06-04T07:06:14.493Z"
   },
   {
    "duration": 12,
    "start_time": "2022-06-04T07:06:15.596Z"
   },
   {
    "duration": 33,
    "start_time": "2022-06-04T07:06:16.245Z"
   },
   {
    "duration": 844,
    "start_time": "2022-06-04T07:06:16.672Z"
   },
   {
    "duration": 11,
    "start_time": "2022-06-04T07:06:17.641Z"
   },
   {
    "duration": 21,
    "start_time": "2022-06-04T07:06:36.458Z"
   },
   {
    "duration": 11,
    "start_time": "2022-06-04T07:06:37.718Z"
   },
   {
    "duration": 7,
    "start_time": "2022-06-04T07:07:00.113Z"
   },
   {
    "duration": 5,
    "start_time": "2022-06-04T07:07:03.558Z"
   },
   {
    "duration": 25,
    "start_time": "2022-06-04T07:07:10.459Z"
   },
   {
    "duration": 113,
    "start_time": "2022-06-04T07:11:36.830Z"
   },
   {
    "duration": 701,
    "start_time": "2022-06-04T07:12:49.744Z"
   },
   {
    "duration": 7,
    "start_time": "2022-06-04T07:13:12.323Z"
   },
   {
    "duration": 4,
    "start_time": "2022-06-04T07:13:58.371Z"
   },
   {
    "duration": 14,
    "start_time": "2022-06-04T07:15:18.731Z"
   }
  ],
  "kernelspec": {
   "display_name": "Python 3 (ipykernel)",
   "language": "python",
   "name": "python3"
  },
  "language_info": {
   "codemirror_mode": {
    "name": "ipython",
    "version": 3
   },
   "file_extension": ".py",
   "mimetype": "text/x-python",
   "name": "python",
   "nbconvert_exporter": "python",
   "pygments_lexer": "ipython3",
   "version": "3.9.7"
  },
  "toc": {
   "base_numbering": 1,
   "nav_menu": {},
   "number_sections": false,
   "sideBar": true,
   "skip_h1_title": false,
   "title_cell": "Table of Contents",
   "title_sidebar": "Contents",
   "toc_cell": false,
   "toc_position": {},
   "toc_section_display": true,
   "toc_window_display": false
  },
  "varInspector": {
   "cols": {
    "lenName": 16,
    "lenType": 16,
    "lenVar": 40
   },
   "kernels_config": {
    "python": {
     "delete_cmd_postfix": "",
     "delete_cmd_prefix": "del ",
     "library": "var_list.py",
     "varRefreshCmd": "print(var_dic_list())"
    },
    "r": {
     "delete_cmd_postfix": ") ",
     "delete_cmd_prefix": "rm(",
     "library": "var_list.r",
     "varRefreshCmd": "cat(var_dic_list()) "
    }
   },
   "types_to_exclude": [
    "module",
    "function",
    "builtin_function_or_method",
    "instance",
    "_Feature"
   ],
   "window_display": false
  }
 },
 "nbformat": 4,
 "nbformat_minor": 5
}
