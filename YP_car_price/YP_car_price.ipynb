{
 "cells": [
  {
   "cell_type": "markdown",
   "metadata": {},
   "source": [
    "# Определение стоимости автомобилей"
   ]
  },
  {
   "cell_type": "markdown",
   "metadata": {},
   "source": [
    "Сервис по продаже автомобилей с пробегом «Не бит, не крашен» разрабатывает приложение для привлечения новых клиентов. В нём можно быстро узнать рыночную стоимость своего автомобиля. В вашем распоряжении исторические данные: технические характеристики, комплектации и цены автомобилей. Вам нужно построить модель для определения стоимости. \n",
    "\n",
    "Заказчику важны:\n",
    "\n",
    "- качество предсказания;\n",
    "- скорость предсказания;\n",
    "- время обучения."
   ]
  },
  {
   "cell_type": "markdown",
   "metadata": {},
   "source": [
    "## Подготовка данных"
   ]
  },
  {
   "cell_type": "code",
   "execution_count": 1,
   "metadata": {},
   "outputs": [],
   "source": [
    "import pandas as pd\n",
    "import numpy as np\n",
    "\n",
    "import time\n",
    "from datetime import timedelta\n",
    "\n",
    "from lightgbm import LGBMRegressor\n",
    "from catboost import CatBoostRegressor\n",
    "from sklearn.linear_model import LinearRegression\n",
    "\n",
    "from sklearn.preprocessing import StandardScaler\n",
    "from sklearn.preprocessing import LabelEncoder\n",
    "from sklearn.preprocessing import OneHotEncoder\n",
    "from sklearn.compose import ColumnTransformer\n",
    "\n",
    "from sklearn.model_selection import train_test_split\n",
    "\n",
    "from sklearn.metrics import mean_squared_error\n",
    "\n",
    "from sklearn.model_selection import RandomizedSearchCV"
   ]
  },
  {
   "cell_type": "code",
   "execution_count": 2,
   "metadata": {},
   "outputs": [],
   "source": [
    "def RMSE (trarget_true, target_predict):\n",
    "    RMSE = mean_squared_error(trarget_true, target_predict, squared=False)\n",
    "    return RMSE"
   ]
  },
  {
   "cell_type": "code",
   "execution_count": 3,
   "metadata": {},
   "outputs": [
    {
     "data": {
      "text/html": [
       "<div>\n",
       "<style scoped>\n",
       "    .dataframe tbody tr th:only-of-type {\n",
       "        vertical-align: middle;\n",
       "    }\n",
       "\n",
       "    .dataframe tbody tr th {\n",
       "        vertical-align: top;\n",
       "    }\n",
       "\n",
       "    .dataframe thead th {\n",
       "        text-align: right;\n",
       "    }\n",
       "</style>\n",
       "<table border=\"1\" class=\"dataframe\">\n",
       "  <thead>\n",
       "    <tr style=\"text-align: right;\">\n",
       "      <th></th>\n",
       "      <th>DateCrawled</th>\n",
       "      <th>Price</th>\n",
       "      <th>VehicleType</th>\n",
       "      <th>RegistrationYear</th>\n",
       "      <th>Gearbox</th>\n",
       "      <th>Power</th>\n",
       "      <th>Model</th>\n",
       "      <th>Kilometer</th>\n",
       "      <th>RegistrationMonth</th>\n",
       "      <th>FuelType</th>\n",
       "      <th>Brand</th>\n",
       "      <th>NotRepaired</th>\n",
       "      <th>DateCreated</th>\n",
       "      <th>NumberOfPictures</th>\n",
       "      <th>PostalCode</th>\n",
       "      <th>LastSeen</th>\n",
       "    </tr>\n",
       "  </thead>\n",
       "  <tbody>\n",
       "    <tr>\n",
       "      <th>0</th>\n",
       "      <td>2016-03-24 11:52:17</td>\n",
       "      <td>480</td>\n",
       "      <td>NaN</td>\n",
       "      <td>1993</td>\n",
       "      <td>manual</td>\n",
       "      <td>0</td>\n",
       "      <td>golf</td>\n",
       "      <td>150000</td>\n",
       "      <td>0</td>\n",
       "      <td>petrol</td>\n",
       "      <td>volkswagen</td>\n",
       "      <td>NaN</td>\n",
       "      <td>2016-03-24 00:00:00</td>\n",
       "      <td>0</td>\n",
       "      <td>70435</td>\n",
       "      <td>2016-04-07 03:16:57</td>\n",
       "    </tr>\n",
       "    <tr>\n",
       "      <th>1</th>\n",
       "      <td>2016-03-24 10:58:45</td>\n",
       "      <td>18300</td>\n",
       "      <td>coupe</td>\n",
       "      <td>2011</td>\n",
       "      <td>manual</td>\n",
       "      <td>190</td>\n",
       "      <td>NaN</td>\n",
       "      <td>125000</td>\n",
       "      <td>5</td>\n",
       "      <td>gasoline</td>\n",
       "      <td>audi</td>\n",
       "      <td>yes</td>\n",
       "      <td>2016-03-24 00:00:00</td>\n",
       "      <td>0</td>\n",
       "      <td>66954</td>\n",
       "      <td>2016-04-07 01:46:50</td>\n",
       "    </tr>\n",
       "    <tr>\n",
       "      <th>2</th>\n",
       "      <td>2016-03-14 12:52:21</td>\n",
       "      <td>9800</td>\n",
       "      <td>suv</td>\n",
       "      <td>2004</td>\n",
       "      <td>auto</td>\n",
       "      <td>163</td>\n",
       "      <td>grand</td>\n",
       "      <td>125000</td>\n",
       "      <td>8</td>\n",
       "      <td>gasoline</td>\n",
       "      <td>jeep</td>\n",
       "      <td>NaN</td>\n",
       "      <td>2016-03-14 00:00:00</td>\n",
       "      <td>0</td>\n",
       "      <td>90480</td>\n",
       "      <td>2016-04-05 12:47:46</td>\n",
       "    </tr>\n",
       "    <tr>\n",
       "      <th>3</th>\n",
       "      <td>2016-03-17 16:54:04</td>\n",
       "      <td>1500</td>\n",
       "      <td>small</td>\n",
       "      <td>2001</td>\n",
       "      <td>manual</td>\n",
       "      <td>75</td>\n",
       "      <td>golf</td>\n",
       "      <td>150000</td>\n",
       "      <td>6</td>\n",
       "      <td>petrol</td>\n",
       "      <td>volkswagen</td>\n",
       "      <td>no</td>\n",
       "      <td>2016-03-17 00:00:00</td>\n",
       "      <td>0</td>\n",
       "      <td>91074</td>\n",
       "      <td>2016-03-17 17:40:17</td>\n",
       "    </tr>\n",
       "    <tr>\n",
       "      <th>4</th>\n",
       "      <td>2016-03-31 17:25:20</td>\n",
       "      <td>3600</td>\n",
       "      <td>small</td>\n",
       "      <td>2008</td>\n",
       "      <td>manual</td>\n",
       "      <td>69</td>\n",
       "      <td>fabia</td>\n",
       "      <td>90000</td>\n",
       "      <td>7</td>\n",
       "      <td>gasoline</td>\n",
       "      <td>skoda</td>\n",
       "      <td>no</td>\n",
       "      <td>2016-03-31 00:00:00</td>\n",
       "      <td>0</td>\n",
       "      <td>60437</td>\n",
       "      <td>2016-04-06 10:17:21</td>\n",
       "    </tr>\n",
       "  </tbody>\n",
       "</table>\n",
       "</div>"
      ],
      "text/plain": [
       "           DateCrawled  Price VehicleType  RegistrationYear Gearbox  Power  \\\n",
       "0  2016-03-24 11:52:17    480         NaN              1993  manual      0   \n",
       "1  2016-03-24 10:58:45  18300       coupe              2011  manual    190   \n",
       "2  2016-03-14 12:52:21   9800         suv              2004    auto    163   \n",
       "3  2016-03-17 16:54:04   1500       small              2001  manual     75   \n",
       "4  2016-03-31 17:25:20   3600       small              2008  manual     69   \n",
       "\n",
       "   Model  Kilometer  RegistrationMonth  FuelType       Brand NotRepaired  \\\n",
       "0   golf     150000                  0    petrol  volkswagen         NaN   \n",
       "1    NaN     125000                  5  gasoline        audi         yes   \n",
       "2  grand     125000                  8  gasoline        jeep         NaN   \n",
       "3   golf     150000                  6    petrol  volkswagen          no   \n",
       "4  fabia      90000                  7  gasoline       skoda          no   \n",
       "\n",
       "           DateCreated  NumberOfPictures  PostalCode             LastSeen  \n",
       "0  2016-03-24 00:00:00                 0       70435  2016-04-07 03:16:57  \n",
       "1  2016-03-24 00:00:00                 0       66954  2016-04-07 01:46:50  \n",
       "2  2016-03-14 00:00:00                 0       90480  2016-04-05 12:47:46  \n",
       "3  2016-03-17 00:00:00                 0       91074  2016-03-17 17:40:17  \n",
       "4  2016-03-31 00:00:00                 0       60437  2016-04-06 10:17:21  "
      ]
     },
     "execution_count": 3,
     "metadata": {},
     "output_type": "execute_result"
    }
   ],
   "source": [
    "df = pd.read_csv('/datasets/autos.csv')\n",
    "df.head()"
   ]
  },
  {
   "cell_type": "code",
   "execution_count": 4,
   "metadata": {},
   "outputs": [],
   "source": [
    "# Соберем список столбцов не влияющи на цену автомобиля.\n",
    "drop_columns = ['DateCrawled', 'DateCreated', 'NumberOfPictures', 'PostalCode', 'LastSeen']\n",
    "# Удалим эти столбцы\n",
    "df.drop(drop_columns, axis=1, inplace=True)"
   ]
  },
  {
   "cell_type": "code",
   "execution_count": 5,
   "metadata": {},
   "outputs": [
    {
     "name": "stdout",
     "output_type": "stream",
     "text": [
      "Количесво строк в датасете:  354369\n",
      "Price                    0\n",
      "VehicleType          37490\n",
      "RegistrationYear         0\n",
      "Gearbox              19833\n",
      "Power                    0\n",
      "Model                19705\n",
      "Kilometer                0\n",
      "RegistrationMonth        0\n",
      "FuelType             32895\n",
      "Brand                    0\n",
      "NotRepaired          71154\n",
      "dtype: int64\n"
     ]
    }
   ],
   "source": [
    "# Посмотрим на количество пустых ячеек в каждом стобце\n",
    "print('Количесво строк в датасете: ', df.shape[0])\n",
    "print(df.isna().sum())"
   ]
  },
  {
   "cell_type": "markdown",
   "metadata": {},
   "source": [
    "Судя по всему восстановить пропущенные значения мне не удастся по этому будем удалять строки в которых есть хотябы одна пустая ячейка"
   ]
  },
  {
   "cell_type": "code",
   "execution_count": 6,
   "metadata": {},
   "outputs": [],
   "source": [
    "# Удалим дубл по строкам\n",
    "df.dropna(axis='index', how='any', inplace=True)"
   ]
  },
  {
   "cell_type": "code",
   "execution_count": 7,
   "metadata": {},
   "outputs": [
    {
     "name": "stdout",
     "output_type": "stream",
     "text": [
      "21054\n"
     ]
    }
   ],
   "source": [
    "# Узнаем количесво полных дублей и удалим их\n",
    "print(df.duplicated().sum())\n",
    "df.drop_duplicates(inplace=True)"
   ]
  },
  {
   "cell_type": "code",
   "execution_count": 8,
   "metadata": {},
   "outputs": [
    {
     "data": {
      "text/html": [
       "<div>\n",
       "<style scoped>\n",
       "    .dataframe tbody tr th:only-of-type {\n",
       "        vertical-align: middle;\n",
       "    }\n",
       "\n",
       "    .dataframe tbody tr th {\n",
       "        vertical-align: top;\n",
       "    }\n",
       "\n",
       "    .dataframe thead th {\n",
       "        text-align: right;\n",
       "    }\n",
       "</style>\n",
       "<table border=\"1\" class=\"dataframe\">\n",
       "  <thead>\n",
       "    <tr style=\"text-align: right;\">\n",
       "      <th></th>\n",
       "      <th>Price</th>\n",
       "      <th>RegistrationYear</th>\n",
       "      <th>Power</th>\n",
       "      <th>Kilometer</th>\n",
       "      <th>RegistrationMonth</th>\n",
       "    </tr>\n",
       "  </thead>\n",
       "  <tbody>\n",
       "    <tr>\n",
       "      <th>count</th>\n",
       "      <td>224760.000000</td>\n",
       "      <td>224760.000000</td>\n",
       "      <td>224760.000000</td>\n",
       "      <td>224760.000000</td>\n",
       "      <td>224760.000000</td>\n",
       "    </tr>\n",
       "    <tr>\n",
       "      <th>mean</th>\n",
       "      <td>5119.025405</td>\n",
       "      <td>2002.873567</td>\n",
       "      <td>119.861964</td>\n",
       "      <td>127254.026517</td>\n",
       "      <td>6.166315</td>\n",
       "    </tr>\n",
       "    <tr>\n",
       "      <th>std</th>\n",
       "      <td>4726.035697</td>\n",
       "      <td>6.207929</td>\n",
       "      <td>144.725062</td>\n",
       "      <td>37120.017015</td>\n",
       "      <td>3.480944</td>\n",
       "    </tr>\n",
       "    <tr>\n",
       "      <th>min</th>\n",
       "      <td>0.000000</td>\n",
       "      <td>1910.000000</td>\n",
       "      <td>0.000000</td>\n",
       "      <td>5000.000000</td>\n",
       "      <td>0.000000</td>\n",
       "    </tr>\n",
       "    <tr>\n",
       "      <th>25%</th>\n",
       "      <td>1490.000000</td>\n",
       "      <td>1999.000000</td>\n",
       "      <td>75.000000</td>\n",
       "      <td>125000.000000</td>\n",
       "      <td>3.000000</td>\n",
       "    </tr>\n",
       "    <tr>\n",
       "      <th>50%</th>\n",
       "      <td>3500.000000</td>\n",
       "      <td>2003.000000</td>\n",
       "      <td>110.000000</td>\n",
       "      <td>150000.000000</td>\n",
       "      <td>6.000000</td>\n",
       "    </tr>\n",
       "    <tr>\n",
       "      <th>75%</th>\n",
       "      <td>7500.000000</td>\n",
       "      <td>2007.000000</td>\n",
       "      <td>150.000000</td>\n",
       "      <td>150000.000000</td>\n",
       "      <td>9.000000</td>\n",
       "    </tr>\n",
       "    <tr>\n",
       "      <th>max</th>\n",
       "      <td>20000.000000</td>\n",
       "      <td>2018.000000</td>\n",
       "      <td>20000.000000</td>\n",
       "      <td>150000.000000</td>\n",
       "      <td>12.000000</td>\n",
       "    </tr>\n",
       "  </tbody>\n",
       "</table>\n",
       "</div>"
      ],
      "text/plain": [
       "               Price  RegistrationYear          Power      Kilometer  \\\n",
       "count  224760.000000     224760.000000  224760.000000  224760.000000   \n",
       "mean     5119.025405       2002.873567     119.861964  127254.026517   \n",
       "std      4726.035697          6.207929     144.725062   37120.017015   \n",
       "min         0.000000       1910.000000       0.000000    5000.000000   \n",
       "25%      1490.000000       1999.000000      75.000000  125000.000000   \n",
       "50%      3500.000000       2003.000000     110.000000  150000.000000   \n",
       "75%      7500.000000       2007.000000     150.000000  150000.000000   \n",
       "max     20000.000000       2018.000000   20000.000000  150000.000000   \n",
       "\n",
       "       RegistrationMonth  \n",
       "count      224760.000000  \n",
       "mean            6.166315  \n",
       "std             3.480944  \n",
       "min             0.000000  \n",
       "25%             3.000000  \n",
       "50%             6.000000  \n",
       "75%             9.000000  \n",
       "max            12.000000  "
      ]
     },
     "execution_count": 8,
     "metadata": {},
     "output_type": "execute_result"
    }
   ],
   "source": [
    "# Посмотрим какие цифры хранятся в датафрейме\n",
    "df.describe()"
   ]
  },
  {
   "cell_type": "code",
   "execution_count": 9,
   "metadata": {},
   "outputs": [
    {
     "data": {
      "text/plain": [
       "array([[<AxesSubplot:title={'center':'Price'}>,\n",
       "        <AxesSubplot:title={'center':'RegistrationYear'}>],\n",
       "       [<AxesSubplot:title={'center':'Power'}>,\n",
       "        <AxesSubplot:title={'center':'Kilometer'}>]], dtype=object)"
      ]
     },
     "execution_count": 9,
     "metadata": {},
     "output_type": "execute_result"
    },
    {
     "data": {
      "image/png": "[encoded data removed]",
      "text/plain": [
       "<Figure size 1440x1080 with 4 Axes>"
      ]
     },
     "metadata": {
      "needs_background": "light"
     },
     "output_type": "display_data"
    }
   ],
   "source": [
    "#np.sort(df.Power.unique())\n",
    "df[['Price', 'RegistrationYear', 'Power', 'Kilometer']].hist(bins=20, figsize=[20,15])"
   ]
  },
  {
   "cell_type": "markdown",
   "metadata": {},
   "source": [
    "Из всех столбцов не вызвал подозрение только столбец `Kilometer` остальные имеют нулевые значения помотрим подробнее:\n",
    "- Удалим все строки где в столбце `Price` есть ячеки со значением 0;\n",
    "- Посмотрим на мощность мощность 0 и 20 000 мне кажутся подозрительными;\n",
    "- Посмотрим на год регистрации 1910 мне кажется странным."
   ]
  },
  {
   "cell_type": "code",
   "execution_count": 10,
   "metadata": {
    "scrolled": true
   },
   "outputs": [
    {
     "data": {
      "text/html": [
       "<div>\n",
       "<style scoped>\n",
       "    .dataframe tbody tr th:only-of-type {\n",
       "        vertical-align: middle;\n",
       "    }\n",
       "\n",
       "    .dataframe tbody tr th {\n",
       "        vertical-align: top;\n",
       "    }\n",
       "\n",
       "    .dataframe thead th {\n",
       "        text-align: right;\n",
       "    }\n",
       "</style>\n",
       "<table border=\"1\" class=\"dataframe\">\n",
       "  <thead>\n",
       "    <tr style=\"text-align: right;\">\n",
       "      <th></th>\n",
       "      <th>Price</th>\n",
       "      <th>VehicleType</th>\n",
       "      <th>RegistrationYear</th>\n",
       "      <th>Gearbox</th>\n",
       "      <th>Power</th>\n",
       "      <th>Model</th>\n",
       "      <th>Kilometer</th>\n",
       "      <th>RegistrationMonth</th>\n",
       "      <th>FuelType</th>\n",
       "      <th>Brand</th>\n",
       "      <th>NotRepaired</th>\n",
       "    </tr>\n",
       "  </thead>\n",
       "  <tbody>\n",
       "    <tr>\n",
       "      <th>11039</th>\n",
       "      <td>0</td>\n",
       "      <td>sedan</td>\n",
       "      <td>1998</td>\n",
       "      <td>manual</td>\n",
       "      <td>10317</td>\n",
       "      <td>other</td>\n",
       "      <td>150000</td>\n",
       "      <td>8</td>\n",
       "      <td>petrol</td>\n",
       "      <td>fiat</td>\n",
       "      <td>no</td>\n",
       "    </tr>\n",
       "    <tr>\n",
       "      <th>19092</th>\n",
       "      <td>9750</td>\n",
       "      <td>wagon</td>\n",
       "      <td>2005</td>\n",
       "      <td>auto</td>\n",
       "      <td>2729</td>\n",
       "      <td>5er</td>\n",
       "      <td>150000</td>\n",
       "      <td>7</td>\n",
       "      <td>gasoline</td>\n",
       "      <td>bmw</td>\n",
       "      <td>no</td>\n",
       "    </tr>\n",
       "    <tr>\n",
       "      <th>25232</th>\n",
       "      <td>10900</td>\n",
       "      <td>bus</td>\n",
       "      <td>2009</td>\n",
       "      <td>manual</td>\n",
       "      <td>10520</td>\n",
       "      <td>caddy</td>\n",
       "      <td>150000</td>\n",
       "      <td>6</td>\n",
       "      <td>gasoline</td>\n",
       "      <td>volkswagen</td>\n",
       "      <td>no</td>\n",
       "    </tr>\n",
       "    <tr>\n",
       "      <th>54607</th>\n",
       "      <td>100</td>\n",
       "      <td>small</td>\n",
       "      <td>1996</td>\n",
       "      <td>manual</td>\n",
       "      <td>3750</td>\n",
       "      <td>polo</td>\n",
       "      <td>125000</td>\n",
       "      <td>4</td>\n",
       "      <td>petrol</td>\n",
       "      <td>volkswagen</td>\n",
       "      <td>yes</td>\n",
       "    </tr>\n",
       "    <tr>\n",
       "      <th>56971</th>\n",
       "      <td>1995</td>\n",
       "      <td>wagon</td>\n",
       "      <td>2002</td>\n",
       "      <td>manual</td>\n",
       "      <td>11530</td>\n",
       "      <td>focus</td>\n",
       "      <td>150000</td>\n",
       "      <td>1</td>\n",
       "      <td>petrol</td>\n",
       "      <td>ford</td>\n",
       "      <td>no</td>\n",
       "    </tr>\n",
       "    <tr>\n",
       "      <th>64823</th>\n",
       "      <td>10000</td>\n",
       "      <td>wagon</td>\n",
       "      <td>2008</td>\n",
       "      <td>manual</td>\n",
       "      <td>2005</td>\n",
       "      <td>sprinter</td>\n",
       "      <td>150000</td>\n",
       "      <td>1</td>\n",
       "      <td>gasoline</td>\n",
       "      <td>mercedes_benz</td>\n",
       "      <td>no</td>\n",
       "    </tr>\n",
       "    <tr>\n",
       "      <th>87830</th>\n",
       "      <td>2550</td>\n",
       "      <td>small</td>\n",
       "      <td>2004</td>\n",
       "      <td>auto</td>\n",
       "      <td>6226</td>\n",
       "      <td>fortwo</td>\n",
       "      <td>125000</td>\n",
       "      <td>5</td>\n",
       "      <td>petrol</td>\n",
       "      <td>smart</td>\n",
       "      <td>no</td>\n",
       "    </tr>\n",
       "    <tr>\n",
       "      <th>95569</th>\n",
       "      <td>1000</td>\n",
       "      <td>small</td>\n",
       "      <td>1996</td>\n",
       "      <td>manual</td>\n",
       "      <td>4400</td>\n",
       "      <td>ibiza</td>\n",
       "      <td>90000</td>\n",
       "      <td>9</td>\n",
       "      <td>petrol</td>\n",
       "      <td>seat</td>\n",
       "      <td>yes</td>\n",
       "    </tr>\n",
       "    <tr>\n",
       "      <th>100680</th>\n",
       "      <td>3500</td>\n",
       "      <td>sedan</td>\n",
       "      <td>1993</td>\n",
       "      <td>auto</td>\n",
       "      <td>11635</td>\n",
       "      <td>80</td>\n",
       "      <td>125000</td>\n",
       "      <td>2</td>\n",
       "      <td>petrol</td>\n",
       "      <td>audi</td>\n",
       "      <td>no</td>\n",
       "    </tr>\n",
       "    <tr>\n",
       "      <th>113184</th>\n",
       "      <td>350</td>\n",
       "      <td>small</td>\n",
       "      <td>1995</td>\n",
       "      <td>manual</td>\n",
       "      <td>5575</td>\n",
       "      <td>polo</td>\n",
       "      <td>150000</td>\n",
       "      <td>1</td>\n",
       "      <td>petrol</td>\n",
       "      <td>volkswagen</td>\n",
       "      <td>yes</td>\n",
       "    </tr>\n",
       "    <tr>\n",
       "      <th>129652</th>\n",
       "      <td>300</td>\n",
       "      <td>small</td>\n",
       "      <td>1997</td>\n",
       "      <td>manual</td>\n",
       "      <td>4700</td>\n",
       "      <td>polo</td>\n",
       "      <td>150000</td>\n",
       "      <td>4</td>\n",
       "      <td>petrol</td>\n",
       "      <td>volkswagen</td>\n",
       "      <td>yes</td>\n",
       "    </tr>\n",
       "    <tr>\n",
       "      <th>134724</th>\n",
       "      <td>10500</td>\n",
       "      <td>wagon</td>\n",
       "      <td>2007</td>\n",
       "      <td>auto</td>\n",
       "      <td>2331</td>\n",
       "      <td>a6</td>\n",
       "      <td>150000</td>\n",
       "      <td>10</td>\n",
       "      <td>gasoline</td>\n",
       "      <td>audi</td>\n",
       "      <td>no</td>\n",
       "    </tr>\n",
       "    <tr>\n",
       "      <th>141718</th>\n",
       "      <td>600</td>\n",
       "      <td>sedan</td>\n",
       "      <td>1997</td>\n",
       "      <td>manual</td>\n",
       "      <td>6006</td>\n",
       "      <td>passat</td>\n",
       "      <td>150000</td>\n",
       "      <td>7</td>\n",
       "      <td>petrol</td>\n",
       "      <td>volkswagen</td>\n",
       "      <td>yes</td>\n",
       "    </tr>\n",
       "    <tr>\n",
       "      <th>143053</th>\n",
       "      <td>120</td>\n",
       "      <td>small</td>\n",
       "      <td>1996</td>\n",
       "      <td>manual</td>\n",
       "      <td>5815</td>\n",
       "      <td>twingo</td>\n",
       "      <td>150000</td>\n",
       "      <td>9</td>\n",
       "      <td>petrol</td>\n",
       "      <td>renault</td>\n",
       "      <td>yes</td>\n",
       "    </tr>\n",
       "    <tr>\n",
       "      <th>148466</th>\n",
       "      <td>3650</td>\n",
       "      <td>small</td>\n",
       "      <td>2002</td>\n",
       "      <td>auto</td>\n",
       "      <td>15020</td>\n",
       "      <td>147</td>\n",
       "      <td>125000</td>\n",
       "      <td>11</td>\n",
       "      <td>petrol</td>\n",
       "      <td>alfa_romeo</td>\n",
       "      <td>no</td>\n",
       "    </tr>\n",
       "    <tr>\n",
       "      <th>148755</th>\n",
       "      <td>1900</td>\n",
       "      <td>small</td>\n",
       "      <td>2001</td>\n",
       "      <td>manual</td>\n",
       "      <td>5867</td>\n",
       "      <td>agila</td>\n",
       "      <td>70000</td>\n",
       "      <td>6</td>\n",
       "      <td>petrol</td>\n",
       "      <td>opel</td>\n",
       "      <td>no</td>\n",
       "    </tr>\n",
       "    <tr>\n",
       "      <th>150676</th>\n",
       "      <td>1700</td>\n",
       "      <td>wagon</td>\n",
       "      <td>1995</td>\n",
       "      <td>manual</td>\n",
       "      <td>17410</td>\n",
       "      <td>80</td>\n",
       "      <td>5000</td>\n",
       "      <td>0</td>\n",
       "      <td>petrol</td>\n",
       "      <td>audi</td>\n",
       "      <td>yes</td>\n",
       "    </tr>\n",
       "    <tr>\n",
       "      <th>162214</th>\n",
       "      <td>5200</td>\n",
       "      <td>small</td>\n",
       "      <td>2005</td>\n",
       "      <td>manual</td>\n",
       "      <td>15001</td>\n",
       "      <td>fiesta</td>\n",
       "      <td>150000</td>\n",
       "      <td>12</td>\n",
       "      <td>petrol</td>\n",
       "      <td>ford</td>\n",
       "      <td>no</td>\n",
       "    </tr>\n",
       "    <tr>\n",
       "      <th>167351</th>\n",
       "      <td>4700</td>\n",
       "      <td>small</td>\n",
       "      <td>2009</td>\n",
       "      <td>manual</td>\n",
       "      <td>6045</td>\n",
       "      <td>polo</td>\n",
       "      <td>125000</td>\n",
       "      <td>12</td>\n",
       "      <td>petrol</td>\n",
       "      <td>volkswagen</td>\n",
       "      <td>no</td>\n",
       "    </tr>\n",
       "    <tr>\n",
       "      <th>171089</th>\n",
       "      <td>1750</td>\n",
       "      <td>sedan</td>\n",
       "      <td>2006</td>\n",
       "      <td>manual</td>\n",
       "      <td>6010</td>\n",
       "      <td>agila</td>\n",
       "      <td>90000</td>\n",
       "      <td>8</td>\n",
       "      <td>petrol</td>\n",
       "      <td>opel</td>\n",
       "      <td>no</td>\n",
       "    </tr>\n",
       "    <tr>\n",
       "      <th>188113</th>\n",
       "      <td>5999</td>\n",
       "      <td>small</td>\n",
       "      <td>2010</td>\n",
       "      <td>manual</td>\n",
       "      <td>8259</td>\n",
       "      <td>spark</td>\n",
       "      <td>30000</td>\n",
       "      <td>12</td>\n",
       "      <td>petrol</td>\n",
       "      <td>chevrolet</td>\n",
       "      <td>no</td>\n",
       "    </tr>\n",
       "    <tr>\n",
       "      <th>196532</th>\n",
       "      <td>6000</td>\n",
       "      <td>wagon</td>\n",
       "      <td>2004</td>\n",
       "      <td>auto</td>\n",
       "      <td>17700</td>\n",
       "      <td>5er</td>\n",
       "      <td>150000</td>\n",
       "      <td>7</td>\n",
       "      <td>gasoline</td>\n",
       "      <td>bmw</td>\n",
       "      <td>no</td>\n",
       "    </tr>\n",
       "    <tr>\n",
       "      <th>197896</th>\n",
       "      <td>900</td>\n",
       "      <td>wagon</td>\n",
       "      <td>1997</td>\n",
       "      <td>manual</td>\n",
       "      <td>11011</td>\n",
       "      <td>a4</td>\n",
       "      <td>150000</td>\n",
       "      <td>5</td>\n",
       "      <td>gasoline</td>\n",
       "      <td>audi</td>\n",
       "      <td>no</td>\n",
       "    </tr>\n",
       "    <tr>\n",
       "      <th>205808</th>\n",
       "      <td>3150</td>\n",
       "      <td>coupe</td>\n",
       "      <td>2007</td>\n",
       "      <td>manual</td>\n",
       "      <td>15033</td>\n",
       "      <td>other</td>\n",
       "      <td>5000</td>\n",
       "      <td>3</td>\n",
       "      <td>gasoline</td>\n",
       "      <td>alfa_romeo</td>\n",
       "      <td>no</td>\n",
       "    </tr>\n",
       "    <tr>\n",
       "      <th>216993</th>\n",
       "      <td>11950</td>\n",
       "      <td>convertible</td>\n",
       "      <td>2008</td>\n",
       "      <td>manual</td>\n",
       "      <td>16312</td>\n",
       "      <td>a4</td>\n",
       "      <td>20000</td>\n",
       "      <td>4</td>\n",
       "      <td>petrol</td>\n",
       "      <td>audi</td>\n",
       "      <td>no</td>\n",
       "    </tr>\n",
       "    <tr>\n",
       "      <th>219584</th>\n",
       "      <td>4300</td>\n",
       "      <td>coupe</td>\n",
       "      <td>1999</td>\n",
       "      <td>auto</td>\n",
       "      <td>20000</td>\n",
       "      <td>clk</td>\n",
       "      <td>150000</td>\n",
       "      <td>1</td>\n",
       "      <td>petrol</td>\n",
       "      <td>mercedes_benz</td>\n",
       "      <td>no</td>\n",
       "    </tr>\n",
       "    <tr>\n",
       "      <th>227634</th>\n",
       "      <td>15499</td>\n",
       "      <td>wagon</td>\n",
       "      <td>2012</td>\n",
       "      <td>manual</td>\n",
       "      <td>13636</td>\n",
       "      <td>c_klasse</td>\n",
       "      <td>125000</td>\n",
       "      <td>4</td>\n",
       "      <td>gasoline</td>\n",
       "      <td>mercedes_benz</td>\n",
       "      <td>no</td>\n",
       "    </tr>\n",
       "    <tr>\n",
       "      <th>232025</th>\n",
       "      <td>0</td>\n",
       "      <td>wagon</td>\n",
       "      <td>1991</td>\n",
       "      <td>auto</td>\n",
       "      <td>9710</td>\n",
       "      <td>e_klasse</td>\n",
       "      <td>150000</td>\n",
       "      <td>1</td>\n",
       "      <td>petrol</td>\n",
       "      <td>mercedes_benz</td>\n",
       "      <td>no</td>\n",
       "    </tr>\n",
       "    <tr>\n",
       "      <th>236199</th>\n",
       "      <td>8999</td>\n",
       "      <td>coupe</td>\n",
       "      <td>2007</td>\n",
       "      <td>manual</td>\n",
       "      <td>2009</td>\n",
       "      <td>tt</td>\n",
       "      <td>150000</td>\n",
       "      <td>7</td>\n",
       "      <td>petrol</td>\n",
       "      <td>audi</td>\n",
       "      <td>yes</td>\n",
       "    </tr>\n",
       "    <tr>\n",
       "      <th>240066</th>\n",
       "      <td>6299</td>\n",
       "      <td>small</td>\n",
       "      <td>2012</td>\n",
       "      <td>manual</td>\n",
       "      <td>6062</td>\n",
       "      <td>up</td>\n",
       "      <td>50000</td>\n",
       "      <td>11</td>\n",
       "      <td>petrol</td>\n",
       "      <td>volkswagen</td>\n",
       "      <td>no</td>\n",
       "    </tr>\n",
       "    <tr>\n",
       "      <th>247802</th>\n",
       "      <td>2000</td>\n",
       "      <td>sedan</td>\n",
       "      <td>1997</td>\n",
       "      <td>auto</td>\n",
       "      <td>2402</td>\n",
       "      <td>a8</td>\n",
       "      <td>150000</td>\n",
       "      <td>12</td>\n",
       "      <td>petrol</td>\n",
       "      <td>audi</td>\n",
       "      <td>yes</td>\n",
       "    </tr>\n",
       "    <tr>\n",
       "      <th>262321</th>\n",
       "      <td>2500</td>\n",
       "      <td>other</td>\n",
       "      <td>2004</td>\n",
       "      <td>auto</td>\n",
       "      <td>2018</td>\n",
       "      <td>clio</td>\n",
       "      <td>80000</td>\n",
       "      <td>1</td>\n",
       "      <td>other</td>\n",
       "      <td>renault</td>\n",
       "      <td>no</td>\n",
       "    </tr>\n",
       "    <tr>\n",
       "      <th>277113</th>\n",
       "      <td>2890</td>\n",
       "      <td>bus</td>\n",
       "      <td>2005</td>\n",
       "      <td>manual</td>\n",
       "      <td>9007</td>\n",
       "      <td>c_max</td>\n",
       "      <td>150000</td>\n",
       "      <td>2</td>\n",
       "      <td>petrol</td>\n",
       "      <td>ford</td>\n",
       "      <td>no</td>\n",
       "    </tr>\n",
       "    <tr>\n",
       "      <th>287426</th>\n",
       "      <td>1250</td>\n",
       "      <td>small</td>\n",
       "      <td>2003</td>\n",
       "      <td>manual</td>\n",
       "      <td>2017</td>\n",
       "      <td>punto</td>\n",
       "      <td>150000</td>\n",
       "      <td>0</td>\n",
       "      <td>cng</td>\n",
       "      <td>fiat</td>\n",
       "      <td>no</td>\n",
       "    </tr>\n",
       "    <tr>\n",
       "      <th>290033</th>\n",
       "      <td>1000</td>\n",
       "      <td>small</td>\n",
       "      <td>1997</td>\n",
       "      <td>manual</td>\n",
       "      <td>5420</td>\n",
       "      <td>corsa</td>\n",
       "      <td>150000</td>\n",
       "      <td>0</td>\n",
       "      <td>petrol</td>\n",
       "      <td>opel</td>\n",
       "      <td>no</td>\n",
       "    </tr>\n",
       "    <tr>\n",
       "      <th>296914</th>\n",
       "      <td>1150</td>\n",
       "      <td>bus</td>\n",
       "      <td>2001</td>\n",
       "      <td>manual</td>\n",
       "      <td>7511</td>\n",
       "      <td>kangoo</td>\n",
       "      <td>150000</td>\n",
       "      <td>11</td>\n",
       "      <td>petrol</td>\n",
       "      <td>renault</td>\n",
       "      <td>no</td>\n",
       "    </tr>\n",
       "    <tr>\n",
       "      <th>311399</th>\n",
       "      <td>11900</td>\n",
       "      <td>wagon</td>\n",
       "      <td>2007</td>\n",
       "      <td>auto</td>\n",
       "      <td>16311</td>\n",
       "      <td>5er</td>\n",
       "      <td>150000</td>\n",
       "      <td>10</td>\n",
       "      <td>gasoline</td>\n",
       "      <td>bmw</td>\n",
       "      <td>no</td>\n",
       "    </tr>\n",
       "    <tr>\n",
       "      <th>322798</th>\n",
       "      <td>0</td>\n",
       "      <td>sedan</td>\n",
       "      <td>2006</td>\n",
       "      <td>manual</td>\n",
       "      <td>2200</td>\n",
       "      <td>e_klasse</td>\n",
       "      <td>150000</td>\n",
       "      <td>12</td>\n",
       "      <td>gasoline</td>\n",
       "      <td>mercedes_benz</td>\n",
       "      <td>no</td>\n",
       "    </tr>\n",
       "    <tr>\n",
       "      <th>328862</th>\n",
       "      <td>850</td>\n",
       "      <td>small</td>\n",
       "      <td>2000</td>\n",
       "      <td>manual</td>\n",
       "      <td>8500</td>\n",
       "      <td>corsa</td>\n",
       "      <td>150000</td>\n",
       "      <td>3</td>\n",
       "      <td>petrol</td>\n",
       "      <td>opel</td>\n",
       "      <td>no</td>\n",
       "    </tr>\n",
       "    <tr>\n",
       "      <th>341320</th>\n",
       "      <td>1899</td>\n",
       "      <td>other</td>\n",
       "      <td>2006</td>\n",
       "      <td>manual</td>\n",
       "      <td>7518</td>\n",
       "      <td>berlingo</td>\n",
       "      <td>125000</td>\n",
       "      <td>11</td>\n",
       "      <td>petrol</td>\n",
       "      <td>citroen</td>\n",
       "      <td>yes</td>\n",
       "    </tr>\n",
       "    <tr>\n",
       "      <th>348237</th>\n",
       "      <td>3000</td>\n",
       "      <td>coupe</td>\n",
       "      <td>2007</td>\n",
       "      <td>manual</td>\n",
       "      <td>2007</td>\n",
       "      <td>corsa</td>\n",
       "      <td>150000</td>\n",
       "      <td>3</td>\n",
       "      <td>gasoline</td>\n",
       "      <td>opel</td>\n",
       "      <td>yes</td>\n",
       "    </tr>\n",
       "  </tbody>\n",
       "</table>\n",
       "</div>"
      ],
      "text/plain": [
       "        Price  VehicleType  RegistrationYear Gearbox  Power     Model  \\\n",
       "11039       0        sedan              1998  manual  10317     other   \n",
       "19092    9750        wagon              2005    auto   2729       5er   \n",
       "25232   10900          bus              2009  manual  10520     caddy   \n",
       "54607     100        small              1996  manual   3750      polo   \n",
       "56971    1995        wagon              2002  manual  11530     focus   \n",
       "64823   10000        wagon              2008  manual   2005  sprinter   \n",
       "87830    2550        small              2004    auto   6226    fortwo   \n",
       "95569    1000        small              1996  manual   4400     ibiza   \n",
       "100680   3500        sedan              1993    auto  11635        80   \n",
       "113184    350        small              1995  manual   5575      polo   \n",
       "129652    300        small              1997  manual   4700      polo   \n",
       "134724  10500        wagon              2007    auto   2331        a6   \n",
       "141718    600        sedan              1997  manual   6006    passat   \n",
       "143053    120        small              1996  manual   5815    twingo   \n",
       "148466   3650        small              2002    auto  15020       147   \n",
       "148755   1900        small              2001  manual   5867     agila   \n",
       "150676   1700        wagon              1995  manual  17410        80   \n",
       "162214   5200        small              2005  manual  15001    fiesta   \n",
       "167351   4700        small              2009  manual   6045      polo   \n",
       "171089   1750        sedan              2006  manual   6010     agila   \n",
       "188113   5999        small              2010  manual   8259     spark   \n",
       "196532   6000        wagon              2004    auto  17700       5er   \n",
       "197896    900        wagon              1997  manual  11011        a4   \n",
       "205808   3150        coupe              2007  manual  15033     other   \n",
       "216993  11950  convertible              2008  manual  16312        a4   \n",
       "219584   4300        coupe              1999    auto  20000       clk   \n",
       "227634  15499        wagon              2012  manual  13636  c_klasse   \n",
       "232025      0        wagon              1991    auto   9710  e_klasse   \n",
       "236199   8999        coupe              2007  manual   2009        tt   \n",
       "240066   6299        small              2012  manual   6062        up   \n",
       "247802   2000        sedan              1997    auto   2402        a8   \n",
       "262321   2500        other              2004    auto   2018      clio   \n",
       "277113   2890          bus              2005  manual   9007     c_max   \n",
       "287426   1250        small              2003  manual   2017     punto   \n",
       "290033   1000        small              1997  manual   5420     corsa   \n",
       "296914   1150          bus              2001  manual   7511    kangoo   \n",
       "311399  11900        wagon              2007    auto  16311       5er   \n",
       "322798      0        sedan              2006  manual   2200  e_klasse   \n",
       "328862    850        small              2000  manual   8500     corsa   \n",
       "341320   1899        other              2006  manual   7518  berlingo   \n",
       "348237   3000        coupe              2007  manual   2007     corsa   \n",
       "\n",
       "        Kilometer  RegistrationMonth  FuelType          Brand NotRepaired  \n",
       "11039      150000                  8    petrol           fiat          no  \n",
       "19092      150000                  7  gasoline            bmw          no  \n",
       "25232      150000                  6  gasoline     volkswagen          no  \n",
       "54607      125000                  4    petrol     volkswagen         yes  \n",
       "56971      150000                  1    petrol           ford          no  \n",
       "64823      150000                  1  gasoline  mercedes_benz          no  \n",
       "87830      125000                  5    petrol          smart          no  \n",
       "95569       90000                  9    petrol           seat         yes  \n",
       "100680     125000                  2    petrol           audi          no  \n",
       "113184     150000                  1    petrol     volkswagen         yes  \n",
       "129652     150000                  4    petrol     volkswagen         yes  \n",
       "134724     150000                 10  gasoline           audi          no  \n",
       "141718     150000                  7    petrol     volkswagen         yes  \n",
       "143053     150000                  9    petrol        renault         yes  \n",
       "148466     125000                 11    petrol     alfa_romeo          no  \n",
       "148755      70000                  6    petrol           opel          no  \n",
       "150676       5000                  0    petrol           audi         yes  \n",
       "162214     150000                 12    petrol           ford          no  \n",
       "167351     125000                 12    petrol     volkswagen          no  \n",
       "171089      90000                  8    petrol           opel          no  \n",
       "188113      30000                 12    petrol      chevrolet          no  \n",
       "196532     150000                  7  gasoline            bmw          no  \n",
       "197896     150000                  5  gasoline           audi          no  \n",
       "205808       5000                  3  gasoline     alfa_romeo          no  \n",
       "216993      20000                  4    petrol           audi          no  \n",
       "219584     150000                  1    petrol  mercedes_benz          no  \n",
       "227634     125000                  4  gasoline  mercedes_benz          no  \n",
       "232025     150000                  1    petrol  mercedes_benz          no  \n",
       "236199     150000                  7    petrol           audi         yes  \n",
       "240066      50000                 11    petrol     volkswagen          no  \n",
       "247802     150000                 12    petrol           audi         yes  \n",
       "262321      80000                  1     other        renault          no  \n",
       "277113     150000                  2    petrol           ford          no  \n",
       "287426     150000                  0       cng           fiat          no  \n",
       "290033     150000                  0    petrol           opel          no  \n",
       "296914     150000                 11    petrol        renault          no  \n",
       "311399     150000                 10  gasoline            bmw          no  \n",
       "322798     150000                 12  gasoline  mercedes_benz          no  \n",
       "328862     150000                  3    petrol           opel          no  \n",
       "341320     125000                 11    petrol        citroen         yes  \n",
       "348237     150000                  3  gasoline           opel         yes  "
      ]
     },
     "execution_count": 10,
     "metadata": {},
     "output_type": "execute_result"
    }
   ],
   "source": [
    "df[df.Power>2000]"
   ]
  },
  {
   "cell_type": "code",
   "execution_count": 11,
   "metadata": {},
   "outputs": [
    {
     "data": {
      "text/html": [
       "<div>\n",
       "<style scoped>\n",
       "    .dataframe tbody tr th:only-of-type {\n",
       "        vertical-align: middle;\n",
       "    }\n",
       "\n",
       "    .dataframe tbody tr th {\n",
       "        vertical-align: top;\n",
       "    }\n",
       "\n",
       "    .dataframe thead th {\n",
       "        text-align: right;\n",
       "    }\n",
       "</style>\n",
       "<table border=\"1\" class=\"dataframe\">\n",
       "  <thead>\n",
       "    <tr style=\"text-align: right;\">\n",
       "      <th></th>\n",
       "      <th>Price</th>\n",
       "      <th>VehicleType</th>\n",
       "      <th>RegistrationYear</th>\n",
       "      <th>Gearbox</th>\n",
       "      <th>Power</th>\n",
       "      <th>Model</th>\n",
       "      <th>Kilometer</th>\n",
       "      <th>RegistrationMonth</th>\n",
       "      <th>FuelType</th>\n",
       "      <th>Brand</th>\n",
       "      <th>NotRepaired</th>\n",
       "    </tr>\n",
       "  </thead>\n",
       "  <tbody>\n",
       "    <tr>\n",
       "      <th>11542</th>\n",
       "      <td>3100</td>\n",
       "      <td>bus</td>\n",
       "      <td>2009</td>\n",
       "      <td>manual</td>\n",
       "      <td>105</td>\n",
       "      <td>caddy</td>\n",
       "      <td>150000</td>\n",
       "      <td>8</td>\n",
       "      <td>gasoline</td>\n",
       "      <td>volkswagen</td>\n",
       "      <td>no</td>\n",
       "    </tr>\n",
       "    <tr>\n",
       "      <th>25232</th>\n",
       "      <td>10900</td>\n",
       "      <td>bus</td>\n",
       "      <td>2009</td>\n",
       "      <td>manual</td>\n",
       "      <td>10520</td>\n",
       "      <td>caddy</td>\n",
       "      <td>150000</td>\n",
       "      <td>6</td>\n",
       "      <td>gasoline</td>\n",
       "      <td>volkswagen</td>\n",
       "      <td>no</td>\n",
       "    </tr>\n",
       "    <tr>\n",
       "      <th>43900</th>\n",
       "      <td>5999</td>\n",
       "      <td>bus</td>\n",
       "      <td>2009</td>\n",
       "      <td>manual</td>\n",
       "      <td>105</td>\n",
       "      <td>caddy</td>\n",
       "      <td>150000</td>\n",
       "      <td>12</td>\n",
       "      <td>gasoline</td>\n",
       "      <td>volkswagen</td>\n",
       "      <td>no</td>\n",
       "    </tr>\n",
       "    <tr>\n",
       "      <th>77152</th>\n",
       "      <td>16000</td>\n",
       "      <td>bus</td>\n",
       "      <td>2009</td>\n",
       "      <td>manual</td>\n",
       "      <td>140</td>\n",
       "      <td>caddy</td>\n",
       "      <td>70000</td>\n",
       "      <td>11</td>\n",
       "      <td>gasoline</td>\n",
       "      <td>volkswagen</td>\n",
       "      <td>no</td>\n",
       "    </tr>\n",
       "    <tr>\n",
       "      <th>79473</th>\n",
       "      <td>6950</td>\n",
       "      <td>bus</td>\n",
       "      <td>2009</td>\n",
       "      <td>manual</td>\n",
       "      <td>105</td>\n",
       "      <td>caddy</td>\n",
       "      <td>150000</td>\n",
       "      <td>10</td>\n",
       "      <td>gasoline</td>\n",
       "      <td>volkswagen</td>\n",
       "      <td>no</td>\n",
       "    </tr>\n",
       "    <tr>\n",
       "      <th>83136</th>\n",
       "      <td>6999</td>\n",
       "      <td>bus</td>\n",
       "      <td>2009</td>\n",
       "      <td>manual</td>\n",
       "      <td>75</td>\n",
       "      <td>caddy</td>\n",
       "      <td>150000</td>\n",
       "      <td>7</td>\n",
       "      <td>gasoline</td>\n",
       "      <td>volkswagen</td>\n",
       "      <td>no</td>\n",
       "    </tr>\n",
       "    <tr>\n",
       "      <th>95128</th>\n",
       "      <td>6200</td>\n",
       "      <td>bus</td>\n",
       "      <td>2009</td>\n",
       "      <td>manual</td>\n",
       "      <td>105</td>\n",
       "      <td>caddy</td>\n",
       "      <td>150000</td>\n",
       "      <td>5</td>\n",
       "      <td>gasoline</td>\n",
       "      <td>volkswagen</td>\n",
       "      <td>no</td>\n",
       "    </tr>\n",
       "    <tr>\n",
       "      <th>99512</th>\n",
       "      <td>7450</td>\n",
       "      <td>bus</td>\n",
       "      <td>2009</td>\n",
       "      <td>manual</td>\n",
       "      <td>105</td>\n",
       "      <td>caddy</td>\n",
       "      <td>150000</td>\n",
       "      <td>1</td>\n",
       "      <td>gasoline</td>\n",
       "      <td>volkswagen</td>\n",
       "      <td>no</td>\n",
       "    </tr>\n",
       "    <tr>\n",
       "      <th>110849</th>\n",
       "      <td>4000</td>\n",
       "      <td>bus</td>\n",
       "      <td>2009</td>\n",
       "      <td>manual</td>\n",
       "      <td>105</td>\n",
       "      <td>caddy</td>\n",
       "      <td>150000</td>\n",
       "      <td>7</td>\n",
       "      <td>gasoline</td>\n",
       "      <td>volkswagen</td>\n",
       "      <td>yes</td>\n",
       "    </tr>\n",
       "    <tr>\n",
       "      <th>111758</th>\n",
       "      <td>6900</td>\n",
       "      <td>bus</td>\n",
       "      <td>2009</td>\n",
       "      <td>manual</td>\n",
       "      <td>75</td>\n",
       "      <td>caddy</td>\n",
       "      <td>150000</td>\n",
       "      <td>9</td>\n",
       "      <td>gasoline</td>\n",
       "      <td>volkswagen</td>\n",
       "      <td>no</td>\n",
       "    </tr>\n",
       "    <tr>\n",
       "      <th>122312</th>\n",
       "      <td>13900</td>\n",
       "      <td>bus</td>\n",
       "      <td>2009</td>\n",
       "      <td>manual</td>\n",
       "      <td>140</td>\n",
       "      <td>caddy</td>\n",
       "      <td>90000</td>\n",
       "      <td>5</td>\n",
       "      <td>gasoline</td>\n",
       "      <td>volkswagen</td>\n",
       "      <td>no</td>\n",
       "    </tr>\n",
       "    <tr>\n",
       "      <th>133039</th>\n",
       "      <td>7950</td>\n",
       "      <td>bus</td>\n",
       "      <td>2009</td>\n",
       "      <td>manual</td>\n",
       "      <td>105</td>\n",
       "      <td>caddy</td>\n",
       "      <td>60000</td>\n",
       "      <td>4</td>\n",
       "      <td>gasoline</td>\n",
       "      <td>volkswagen</td>\n",
       "      <td>no</td>\n",
       "    </tr>\n",
       "    <tr>\n",
       "      <th>155554</th>\n",
       "      <td>8900</td>\n",
       "      <td>bus</td>\n",
       "      <td>2009</td>\n",
       "      <td>manual</td>\n",
       "      <td>105</td>\n",
       "      <td>caddy</td>\n",
       "      <td>70000</td>\n",
       "      <td>9</td>\n",
       "      <td>gasoline</td>\n",
       "      <td>volkswagen</td>\n",
       "      <td>no</td>\n",
       "    </tr>\n",
       "    <tr>\n",
       "      <th>207729</th>\n",
       "      <td>4100</td>\n",
       "      <td>bus</td>\n",
       "      <td>2009</td>\n",
       "      <td>manual</td>\n",
       "      <td>0</td>\n",
       "      <td>caddy</td>\n",
       "      <td>150000</td>\n",
       "      <td>1</td>\n",
       "      <td>gasoline</td>\n",
       "      <td>volkswagen</td>\n",
       "      <td>no</td>\n",
       "    </tr>\n",
       "    <tr>\n",
       "      <th>210740</th>\n",
       "      <td>9999</td>\n",
       "      <td>bus</td>\n",
       "      <td>2009</td>\n",
       "      <td>manual</td>\n",
       "      <td>140</td>\n",
       "      <td>caddy</td>\n",
       "      <td>150000</td>\n",
       "      <td>1</td>\n",
       "      <td>gasoline</td>\n",
       "      <td>volkswagen</td>\n",
       "      <td>no</td>\n",
       "    </tr>\n",
       "    <tr>\n",
       "      <th>214334</th>\n",
       "      <td>6500</td>\n",
       "      <td>bus</td>\n",
       "      <td>2009</td>\n",
       "      <td>manual</td>\n",
       "      <td>105</td>\n",
       "      <td>caddy</td>\n",
       "      <td>150000</td>\n",
       "      <td>3</td>\n",
       "      <td>gasoline</td>\n",
       "      <td>volkswagen</td>\n",
       "      <td>no</td>\n",
       "    </tr>\n",
       "    <tr>\n",
       "      <th>217633</th>\n",
       "      <td>2800</td>\n",
       "      <td>bus</td>\n",
       "      <td>2009</td>\n",
       "      <td>manual</td>\n",
       "      <td>69</td>\n",
       "      <td>caddy</td>\n",
       "      <td>150000</td>\n",
       "      <td>3</td>\n",
       "      <td>gasoline</td>\n",
       "      <td>volkswagen</td>\n",
       "      <td>no</td>\n",
       "    </tr>\n",
       "    <tr>\n",
       "      <th>227882</th>\n",
       "      <td>13499</td>\n",
       "      <td>bus</td>\n",
       "      <td>2009</td>\n",
       "      <td>manual</td>\n",
       "      <td>140</td>\n",
       "      <td>caddy</td>\n",
       "      <td>100000</td>\n",
       "      <td>9</td>\n",
       "      <td>gasoline</td>\n",
       "      <td>volkswagen</td>\n",
       "      <td>no</td>\n",
       "    </tr>\n",
       "    <tr>\n",
       "      <th>253761</th>\n",
       "      <td>3650</td>\n",
       "      <td>bus</td>\n",
       "      <td>2009</td>\n",
       "      <td>manual</td>\n",
       "      <td>105</td>\n",
       "      <td>caddy</td>\n",
       "      <td>150000</td>\n",
       "      <td>3</td>\n",
       "      <td>gasoline</td>\n",
       "      <td>volkswagen</td>\n",
       "      <td>no</td>\n",
       "    </tr>\n",
       "    <tr>\n",
       "      <th>262903</th>\n",
       "      <td>4600</td>\n",
       "      <td>bus</td>\n",
       "      <td>2009</td>\n",
       "      <td>manual</td>\n",
       "      <td>69</td>\n",
       "      <td>caddy</td>\n",
       "      <td>90000</td>\n",
       "      <td>3</td>\n",
       "      <td>gasoline</td>\n",
       "      <td>volkswagen</td>\n",
       "      <td>no</td>\n",
       "    </tr>\n",
       "    <tr>\n",
       "      <th>263682</th>\n",
       "      <td>8995</td>\n",
       "      <td>bus</td>\n",
       "      <td>2009</td>\n",
       "      <td>manual</td>\n",
       "      <td>105</td>\n",
       "      <td>caddy</td>\n",
       "      <td>40000</td>\n",
       "      <td>4</td>\n",
       "      <td>gasoline</td>\n",
       "      <td>volkswagen</td>\n",
       "      <td>no</td>\n",
       "    </tr>\n",
       "    <tr>\n",
       "      <th>312567</th>\n",
       "      <td>4450</td>\n",
       "      <td>bus</td>\n",
       "      <td>2009</td>\n",
       "      <td>manual</td>\n",
       "      <td>69</td>\n",
       "      <td>caddy</td>\n",
       "      <td>150000</td>\n",
       "      <td>7</td>\n",
       "      <td>gasoline</td>\n",
       "      <td>volkswagen</td>\n",
       "      <td>no</td>\n",
       "    </tr>\n",
       "    <tr>\n",
       "      <th>332721</th>\n",
       "      <td>5799</td>\n",
       "      <td>bus</td>\n",
       "      <td>2009</td>\n",
       "      <td>manual</td>\n",
       "      <td>75</td>\n",
       "      <td>caddy</td>\n",
       "      <td>150000</td>\n",
       "      <td>9</td>\n",
       "      <td>gasoline</td>\n",
       "      <td>volkswagen</td>\n",
       "      <td>no</td>\n",
       "    </tr>\n",
       "  </tbody>\n",
       "</table>\n",
       "</div>"
      ],
      "text/plain": [
       "        Price VehicleType  RegistrationYear Gearbox  Power  Model  Kilometer  \\\n",
       "11542    3100         bus              2009  manual    105  caddy     150000   \n",
       "25232   10900         bus              2009  manual  10520  caddy     150000   \n",
       "43900    5999         bus              2009  manual    105  caddy     150000   \n",
       "77152   16000         bus              2009  manual    140  caddy      70000   \n",
       "79473    6950         bus              2009  manual    105  caddy     150000   \n",
       "83136    6999         bus              2009  manual     75  caddy     150000   \n",
       "95128    6200         bus              2009  manual    105  caddy     150000   \n",
       "99512    7450         bus              2009  manual    105  caddy     150000   \n",
       "110849   4000         bus              2009  manual    105  caddy     150000   \n",
       "111758   6900         bus              2009  manual     75  caddy     150000   \n",
       "122312  13900         bus              2009  manual    140  caddy      90000   \n",
       "133039   7950         bus              2009  manual    105  caddy      60000   \n",
       "155554   8900         bus              2009  manual    105  caddy      70000   \n",
       "207729   4100         bus              2009  manual      0  caddy     150000   \n",
       "210740   9999         bus              2009  manual    140  caddy     150000   \n",
       "214334   6500         bus              2009  manual    105  caddy     150000   \n",
       "217633   2800         bus              2009  manual     69  caddy     150000   \n",
       "227882  13499         bus              2009  manual    140  caddy     100000   \n",
       "253761   3650         bus              2009  manual    105  caddy     150000   \n",
       "262903   4600         bus              2009  manual     69  caddy      90000   \n",
       "263682   8995         bus              2009  manual    105  caddy      40000   \n",
       "312567   4450         bus              2009  manual     69  caddy     150000   \n",
       "332721   5799         bus              2009  manual     75  caddy     150000   \n",
       "\n",
       "        RegistrationMonth  FuelType       Brand NotRepaired  \n",
       "11542                   8  gasoline  volkswagen          no  \n",
       "25232                   6  gasoline  volkswagen          no  \n",
       "43900                  12  gasoline  volkswagen          no  \n",
       "77152                  11  gasoline  volkswagen          no  \n",
       "79473                  10  gasoline  volkswagen          no  \n",
       "83136                   7  gasoline  volkswagen          no  \n",
       "95128                   5  gasoline  volkswagen          no  \n",
       "99512                   1  gasoline  volkswagen          no  \n",
       "110849                  7  gasoline  volkswagen         yes  \n",
       "111758                  9  gasoline  volkswagen          no  \n",
       "122312                  5  gasoline  volkswagen          no  \n",
       "133039                  4  gasoline  volkswagen          no  \n",
       "155554                  9  gasoline  volkswagen          no  \n",
       "207729                  1  gasoline  volkswagen          no  \n",
       "210740                  1  gasoline  volkswagen          no  \n",
       "214334                  3  gasoline  volkswagen          no  \n",
       "217633                  3  gasoline  volkswagen          no  \n",
       "227882                  9  gasoline  volkswagen          no  \n",
       "253761                  3  gasoline  volkswagen          no  \n",
       "262903                  3  gasoline  volkswagen          no  \n",
       "263682                  4  gasoline  volkswagen          no  \n",
       "312567                  7  gasoline  volkswagen          no  \n",
       "332721                  9  gasoline  volkswagen          no  "
      ]
     },
     "execution_count": 11,
     "metadata": {},
     "output_type": "execute_result"
    }
   ],
   "source": [
    "# Посмотрим на одну модель \n",
    "df.query('Model == \"caddy\" and Brand == \"volkswagen\" and VehicleType == \"bus\" and FuelType == \"gasoline\" and RegistrationYear == 2009 and Gearbox == \"manual\"')"
   ]
  },
  {
   "cell_type": "markdown",
   "metadata": {},
   "source": [
    "Судя по всему проще будет удалить все выбросы"
   ]
  },
  {
   "cell_type": "code",
   "execution_count": 12,
   "metadata": {},
   "outputs": [
    {
     "data": {
      "text/plain": [
       "array([    0,     1,     2,     3,     4,     5,     6,     7,     8,\n",
       "           9,    10,    11,    12,    13,    14,    15,    16,    17,\n",
       "          18,    19,    20,    21,    22,    23,    24,    25,    26,\n",
       "          27,    28,    29,    30,    31,    32,    33,    34,    35,\n",
       "          36,    37,    38,    39,    40,    41,    42,    43,    44,\n",
       "          45,    46,    47,    48,    49,    50,    51,    52,    53,\n",
       "          54,    55,    56,    57,    58,    59,    60,    61,    62,\n",
       "          63,    64,    65,    66,    67,    68,    69,    70,    71,\n",
       "          72,    73,    74,    75,    76,    77,    78,    79,    80,\n",
       "          81,    82,    83,    84,    85,    86,    87,    88,    89,\n",
       "          90,    91,    92,    93,    94,    95,    96,    97,    98,\n",
       "          99,   100,   101,   102,   103,   104,   105,   106,   107,\n",
       "         108,   109,   110,   111,   112,   113,   114,   115,   116,\n",
       "         117,   118,   119,   120,   121,   122,   123,   124,   125,\n",
       "         126,   127,   128,   129,   130,   131,   132,   133,   134,\n",
       "         135,   136,   137,   138,   139,   140,   141,   142,   143,\n",
       "         144,   145,   146,   147,   148,   149,   150,   151,   152,\n",
       "         153,   154,   155,   156,   157,   158,   159,   160,   161,\n",
       "         162,   163,   164,   165,   166,   167,   168,   169,   170,\n",
       "         171,   172,   173,   174,   175,   176,   177,   178,   179,\n",
       "         180,   181,   182,   183,   184,   185,   186,   187,   188,\n",
       "         189,   190,   191,   192,   193,   194,   195,   196,   197,\n",
       "         198,   199,   200,   201,   202,   203,   204,   205,   206,\n",
       "         207,   208,   209,   210,   211,   212,   213,   214,   215,\n",
       "         216,   217,   218,   219,   220,   221,   222,   223,   224,\n",
       "         225,   226,   227,   228,   229,   230,   231,   232,   233,\n",
       "         234,   235,   236,   237,   238,   239,   240,   241,   242,\n",
       "         243,   244,   245,   246,   247,   248,   249,   250,   251,\n",
       "         252,   253,   254,   255,   256,   257,   258,   259,   260,\n",
       "         261,   262,   264,   265,   266,   268,   269,   270,   271,\n",
       "         272,   273,   274,   275,   276,   277,   278,   279,   280,\n",
       "         281,   283,   284,   285,   286,   287,   288,   289,   290,\n",
       "         292,   293,   294,   295,   296,   298,   299,   300,   301,\n",
       "         303,   304,   305,   306,   307,   308,   309,   310,   311,\n",
       "         313,   314,   315,   316,   317,   318,   320,   321,   322,\n",
       "         324,   325,   326,   328,   329,   330,   331,   332,   333,\n",
       "         334,   335,   336,   338,   339,   340,   341,   343,   344,\n",
       "         345,   347,   348,   349,   350,   351,   353,   354,   355,\n",
       "         356,   357,   360,   362,   363,   364,   365,   367,   368,\n",
       "         370,   371,   374,   376,   377,   379,   380,   381,   382,\n",
       "         385,   386,   387,   388,   390,   392,   394,   396,   399,\n",
       "         400,   401,   405,   408,   409,   411,   416,   420,   421,\n",
       "         425,   426,   428,   430,   431,   435,   440,   445,   449,\n",
       "         450,   457,   475,   476,   485,   487,   489,   490,   500,\n",
       "         504,   505,   507,   508,   510,   514,   515,   517,   519,\n",
       "         520,   521,   525,   544,   550,   551,   560,   572,   579,\n",
       "         585,   600,   601,   603,   606,   645,   678,   700,   702,\n",
       "         776,   871,   900,   903,   907,   909,   950,   952,   953,\n",
       "         998,   999,  1000,  1001,  1003,  1004,  1011,  1012,  1016,\n",
       "        1021,  1024,  1054,  1055,  1062,  1079,  1100,  1115,  1149,\n",
       "        1160,  1162,  1164,  1199,  1223,  1230,  1239,  1240,  1241,\n",
       "        1275,  1288,  1360,  1362,  1363,  1398,  1399,  1403,  1405,\n",
       "        1416,  1432,  1433,  1436,  1500,  1502,  1506,  1521,  1595,\n",
       "        1598,  1600,  1625,  1659,  1700,  1701,  1703,  1707,  1753,\n",
       "        1780,  1781,  1783,  1796,  1800,  1900,  1910,  1920,  1933,\n",
       "        1968,  1995,  1998,  2000,  2005,  2007,  2009,  2017,  2018,\n",
       "        2200,  2331,  2402,  2729,  3750,  4400,  4700,  5420,  5575,\n",
       "        5815,  5867,  6006,  6010,  6045,  6062,  6226,  7511,  7518,\n",
       "        8259,  8500,  9007,  9710, 10317, 10520, 11011, 11530, 11635,\n",
       "       13636, 15001, 15020, 15033, 16311, 16312, 17410, 17700, 20000])"
      ]
     },
     "execution_count": 12,
     "metadata": {},
     "output_type": "execute_result"
    }
   ],
   "source": [
    "#df[df.Power>2000]['Power'].hist(bins=100, figsize=[15,20])\n",
    "np.sort(df.Power.unique())"
   ]
  },
  {
   "cell_type": "markdown",
   "metadata": {},
   "source": [
    "__Удалим все, что меньше 30 и более 500__"
   ]
  },
  {
   "cell_type": "code",
   "execution_count": 13,
   "metadata": {},
   "outputs": [],
   "source": [
    "df = df[~((df.Power>500) | (df.Power<30))].copy()"
   ]
  },
  {
   "cell_type": "code",
   "execution_count": 14,
   "metadata": {},
   "outputs": [
    {
     "data": {
      "text/plain": [
       "array([1930, 1931, 1937, 1938, 1942, 1943, 1945, 1947, 1950, 1951, 1952,\n",
       "       1953, 1954, 1955, 1956, 1957, 1958, 1959, 1960, 1961, 1962, 1963,\n",
       "       1964, 1965, 1966, 1967, 1968, 1969, 1970, 1971, 1972, 1973, 1974,\n",
       "       1975, 1976, 1977, 1978, 1979, 1980, 1981, 1982, 1983, 1984, 1985,\n",
       "       1986, 1987, 1988, 1989, 1990, 1991, 1992, 1993, 1994, 1995, 1996,\n",
       "       1997, 1998, 1999, 2000, 2001, 2002, 2003, 2004, 2005, 2006, 2007,\n",
       "       2008, 2009, 2010, 2011, 2012, 2013, 2014, 2015, 2016, 2017, 2018])"
      ]
     },
     "execution_count": 14,
     "metadata": {},
     "output_type": "execute_result"
    }
   ],
   "source": [
    "# Посотмрим все даты регистраций автомобиля\n",
    "np.sort(df.RegistrationYear.unique())"
   ]
  },
  {
   "cell_type": "markdown",
   "metadata": {},
   "source": [
    "Впринципе всё в рамках разумного"
   ]
  },
  {
   "cell_type": "code",
   "execution_count": 15,
   "metadata": {
    "scrolled": false
   },
   "outputs": [
    {
     "data": {
      "text/plain": [
       "<AxesSubplot:>"
      ]
     },
     "execution_count": 15,
     "metadata": {},
     "output_type": "execute_result"
    },
    {
     "data": {
      "image/png": "[encoded data removed]",
      "text/plain": [
       "<Figure size 1440x720 with 1 Axes>"
      ]
     },
     "metadata": {
      "needs_background": "light"
     },
     "output_type": "display_data"
    }
   ],
   "source": [
    "df[df.Price<1500]['Price'].hist(bins=100, figsize=[20,10])"
   ]
  },
  {
   "cell_type": "markdown",
   "metadata": {},
   "source": [
    "Удалим все цены меньше 100"
   ]
  },
  {
   "cell_type": "code",
   "execution_count": 16,
   "metadata": {},
   "outputs": [
    {
     "data": {
      "text/plain": [
       "array([ 0,  1,  2,  3,  4,  5,  6,  7,  8,  9, 10, 11, 12])"
      ]
     },
     "execution_count": 16,
     "metadata": {},
     "output_type": "execute_result"
    }
   ],
   "source": [
    "np.sort(df.RegistrationMonth.unique())"
   ]
  },
  {
   "cell_type": "code",
   "execution_count": 17,
   "metadata": {},
   "outputs": [],
   "source": [
    "# Удалим нулевой месяц\n",
    "df = df[~(df.RegistrationMonth==0)].copy()"
   ]
  },
  {
   "cell_type": "code",
   "execution_count": 18,
   "metadata": {},
   "outputs": [
    {
     "name": "stdout",
     "output_type": "stream",
     "text": [
      "<class 'pandas.core.frame.DataFrame'>\n",
      "Int64Index: 206758 entries, 3 to 354367\n",
      "Data columns (total 11 columns):\n",
      " #   Column             Non-Null Count   Dtype \n",
      "---  ------             --------------   ----- \n",
      " 0   Price              206758 non-null  int64 \n",
      " 1   VehicleType        206758 non-null  object\n",
      " 2   RegistrationYear   206758 non-null  int64 \n",
      " 3   Gearbox            206758 non-null  object\n",
      " 4   Power              206758 non-null  int64 \n",
      " 5   Model              206758 non-null  object\n",
      " 6   Kilometer          206758 non-null  int64 \n",
      " 7   RegistrationMonth  206758 non-null  int64 \n",
      " 8   FuelType           206758 non-null  object\n",
      " 9   Brand              206758 non-null  object\n",
      " 10  NotRepaired        206758 non-null  object\n",
      "dtypes: int64(5), object(6)\n",
      "memory usage: 18.9+ MB\n"
     ]
    }
   ],
   "source": [
    "df = df[~(df.Price<100)].copy()\n",
    "df.info()"
   ]
  },
  {
   "cell_type": "code",
   "execution_count": 19,
   "metadata": {},
   "outputs": [],
   "source": [
    "# Преобразуем все строковые столбцы в нижний регистр\n",
    "col = list(df.select_dtypes(include='object').columns)\n",
    "for c in col:\n",
    "    df[str(c)] = df[str(c)].str.lower()"
   ]
  },
  {
   "cell_type": "code",
   "execution_count": 20,
   "metadata": {},
   "outputs": [
    {
     "data": {
      "text/html": [
       "<div>\n",
       "<style scoped>\n",
       "    .dataframe tbody tr th:only-of-type {\n",
       "        vertical-align: middle;\n",
       "    }\n",
       "\n",
       "    .dataframe tbody tr th {\n",
       "        vertical-align: top;\n",
       "    }\n",
       "\n",
       "    .dataframe thead th {\n",
       "        text-align: right;\n",
       "    }\n",
       "</style>\n",
       "<table border=\"1\" class=\"dataframe\">\n",
       "  <thead>\n",
       "    <tr style=\"text-align: right;\">\n",
       "      <th></th>\n",
       "      <th>Price</th>\n",
       "      <th>VehicleType</th>\n",
       "      <th>RegistrationYear</th>\n",
       "      <th>Gearbox</th>\n",
       "      <th>Power</th>\n",
       "      <th>Model</th>\n",
       "      <th>Kilometer</th>\n",
       "      <th>RegistrationMonth</th>\n",
       "      <th>FuelType</th>\n",
       "      <th>Brand</th>\n",
       "      <th>NotRepaired</th>\n",
       "    </tr>\n",
       "  </thead>\n",
       "  <tbody>\n",
       "    <tr>\n",
       "      <th>3</th>\n",
       "      <td>1500</td>\n",
       "      <td>small</td>\n",
       "      <td>2001</td>\n",
       "      <td>manual</td>\n",
       "      <td>75</td>\n",
       "      <td>golf</td>\n",
       "      <td>150000</td>\n",
       "      <td>6</td>\n",
       "      <td>petrol</td>\n",
       "      <td>volkswagen</td>\n",
       "      <td>no</td>\n",
       "    </tr>\n",
       "    <tr>\n",
       "      <th>4</th>\n",
       "      <td>3600</td>\n",
       "      <td>small</td>\n",
       "      <td>2008</td>\n",
       "      <td>manual</td>\n",
       "      <td>69</td>\n",
       "      <td>fabia</td>\n",
       "      <td>90000</td>\n",
       "      <td>7</td>\n",
       "      <td>gasoline</td>\n",
       "      <td>skoda</td>\n",
       "      <td>no</td>\n",
       "    </tr>\n",
       "    <tr>\n",
       "      <th>5</th>\n",
       "      <td>650</td>\n",
       "      <td>sedan</td>\n",
       "      <td>1995</td>\n",
       "      <td>manual</td>\n",
       "      <td>102</td>\n",
       "      <td>3er</td>\n",
       "      <td>150000</td>\n",
       "      <td>10</td>\n",
       "      <td>petrol</td>\n",
       "      <td>bmw</td>\n",
       "      <td>yes</td>\n",
       "    </tr>\n",
       "    <tr>\n",
       "      <th>6</th>\n",
       "      <td>2200</td>\n",
       "      <td>convertible</td>\n",
       "      <td>2004</td>\n",
       "      <td>manual</td>\n",
       "      <td>109</td>\n",
       "      <td>2_reihe</td>\n",
       "      <td>150000</td>\n",
       "      <td>8</td>\n",
       "      <td>petrol</td>\n",
       "      <td>peugeot</td>\n",
       "      <td>no</td>\n",
       "    </tr>\n",
       "    <tr>\n",
       "      <th>10</th>\n",
       "      <td>2000</td>\n",
       "      <td>sedan</td>\n",
       "      <td>2004</td>\n",
       "      <td>manual</td>\n",
       "      <td>105</td>\n",
       "      <td>3_reihe</td>\n",
       "      <td>150000</td>\n",
       "      <td>12</td>\n",
       "      <td>petrol</td>\n",
       "      <td>mazda</td>\n",
       "      <td>no</td>\n",
       "    </tr>\n",
       "  </tbody>\n",
       "</table>\n",
       "</div>"
      ],
      "text/plain": [
       "    Price  VehicleType  RegistrationYear Gearbox  Power    Model  Kilometer  \\\n",
       "3    1500        small              2001  manual     75     golf     150000   \n",
       "4    3600        small              2008  manual     69    fabia      90000   \n",
       "5     650        sedan              1995  manual    102      3er     150000   \n",
       "6    2200  convertible              2004  manual    109  2_reihe     150000   \n",
       "10   2000        sedan              2004  manual    105  3_reihe     150000   \n",
       "\n",
       "    RegistrationMonth  FuelType       Brand NotRepaired  \n",
       "3                   6    petrol  volkswagen          no  \n",
       "4                   7  gasoline       skoda          no  \n",
       "5                  10    petrol         bmw         yes  \n",
       "6                   8    petrol     peugeot          no  \n",
       "10                 12    petrol       mazda          no  "
      ]
     },
     "execution_count": 20,
     "metadata": {},
     "output_type": "execute_result"
    }
   ],
   "source": [
    "df.head()"
   ]
  },
  {
   "cell_type": "markdown",
   "metadata": {},
   "source": [
    "Сильной корреляции не обнаружено.  "
   ]
  },
  {
   "cell_type": "markdown",
   "metadata": {},
   "source": [
    "## Обучение моделей"
   ]
  },
  {
   "cell_type": "code",
   "execution_count": 21,
   "metadata": {},
   "outputs": [],
   "source": [
    "df_cat_light = df.copy()\n",
    "cat_features = col\n",
    "\n",
    "# Разобьем данные\n",
    "features = df_cat_light.drop(['Price'], axis=1)\n",
    "target = df_cat_light['Price']\n",
    "\n",
    "# По идее можно без этой строки обойтись\n",
    "features[cat_features] = features[cat_features].astype('category')\n",
    "\n",
    "features_train, features_test, target_train, target_test = train_test_split(features, \n",
    "                                                                            target, \n",
    "                                                                            test_size=0.4, \n",
    "                                                                            random_state=12345)\n",
    "\n",
    "features_test, features_valid, target_test, target_valid = train_test_split(features_test, \n",
    "                                                                            target_test, \n",
    "                                                                            test_size=0.5, \n",
    "                                                                            random_state=12345)\n"
   ]
  },
  {
   "cell_type": "markdown",
   "metadata": {},
   "source": [
    "### CatBoostRegressor"
   ]
  },
  {
   "cell_type": "code",
   "execution_count": 22,
   "metadata": {},
   "outputs": [
    {
     "data": {
      "text/plain": [
       "\"\\nmodel_cbr = CatBoostRegressor(loss_function='RMSE', iterations=2,learning_rate=1, depth=2)\\nmodel_cbr.fit(features_train, target_train, cat_features)\\npred_cbr = model_cbr.predict(features_test)\\nRMSE(target_valid, pred_cbr)\\n\""
      ]
     },
     "execution_count": 22,
     "metadata": {},
     "output_type": "execute_result"
    }
   ],
   "source": [
    "\"\"\"\n",
    "model_cbr = CatBoostRegressor(loss_function='RMSE', iterations=2,learning_rate=1, depth=2)\n",
    "model_cbr.fit(features_train, target_train, cat_features)\n",
    "pred_cbr = model_cbr.predict(features_test)\n",
    "RMSE(target_valid, pred_cbr)\n",
    "\"\"\""
   ]
  },
  {
   "cell_type": "code",
   "execution_count": 23,
   "metadata": {},
   "outputs": [
    {
     "name": "stdout",
     "output_type": "stream",
     "text": [
      "<class 'pandas.core.frame.DataFrame'>\n",
      "Int64Index: 124054 entries, 12621 to 125195\n",
      "Data columns (total 10 columns):\n",
      " #   Column             Non-Null Count   Dtype   \n",
      "---  ------             --------------   -----   \n",
      " 0   VehicleType        124054 non-null  category\n",
      " 1   RegistrationYear   124054 non-null  int64   \n",
      " 2   Gearbox            124054 non-null  category\n",
      " 3   Power              124054 non-null  int64   \n",
      " 4   Model              124054 non-null  category\n",
      " 5   Kilometer          124054 non-null  int64   \n",
      " 6   RegistrationMonth  124054 non-null  int64   \n",
      " 7   FuelType           124054 non-null  category\n",
      " 8   Brand              124054 non-null  category\n",
      " 9   NotRepaired        124054 non-null  category\n",
      "dtypes: category(6), int64(4)\n",
      "memory usage: 5.6 MB\n"
     ]
    }
   ],
   "source": [
    "features_train.info()"
   ]
  },
  {
   "cell_type": "code",
   "execution_count": 24,
   "metadata": {
    "scrolled": true
   },
   "outputs": [
    {
     "name": "stdout",
     "output_type": "stream",
     "text": [
      "Fitting 3 folds for each of 3 candidates, totalling 9 fits\n",
      "0:\tlearn: 2982.0599060\ttotal: 596ms\tremaining: 11.3s\n",
      "1:\tlearn: 2301.3377765\ttotal: 1.12s\tremaining: 10.1s\n",
      "2:\tlearn: 1930.5452581\ttotal: 1.7s\tremaining: 9.64s\n",
      "3:\tlearn: 1774.2800222\ttotal: 2.28s\tremaining: 9.11s\n",
      "4:\tlearn: 1709.7573885\ttotal: 2.86s\tremaining: 8.59s\n",
      "5:\tlearn: 1649.8696770\ttotal: 3.41s\tremaining: 7.96s\n",
      "6:\tlearn: 1611.0285557\ttotal: 3.96s\tremaining: 7.35s\n",
      "7:\tlearn: 1589.0442161\ttotal: 4.5s\tremaining: 6.75s\n",
      "8:\tlearn: 1566.6926812\ttotal: 5.06s\tremaining: 6.18s\n",
      "9:\tlearn: 1539.8008147\ttotal: 5.66s\tremaining: 5.66s\n",
      "10:\tlearn: 1516.6830430\ttotal: 6.21s\tremaining: 5.08s\n",
      "11:\tlearn: 1492.4975933\ttotal: 6.79s\tremaining: 4.53s\n",
      "12:\tlearn: 1479.9161080\ttotal: 7.39s\tremaining: 3.98s\n",
      "13:\tlearn: 1457.4117890\ttotal: 7.97s\tremaining: 3.42s\n",
      "14:\tlearn: 1442.4164879\ttotal: 8.53s\tremaining: 2.84s\n",
      "15:\tlearn: 1419.7541970\ttotal: 9.08s\tremaining: 2.27s\n",
      "16:\tlearn: 1397.0655402\ttotal: 9.62s\tremaining: 1.7s\n",
      "17:\tlearn: 1384.1496116\ttotal: 10.2s\tremaining: 1.13s\n",
      "18:\tlearn: 1372.9505949\ttotal: 10.7s\tremaining: 563ms\n",
      "19:\tlearn: 1363.3541239\ttotal: 11.2s\tremaining: 0us\n",
      "0:\tlearn: 2977.3862735\ttotal: 221ms\tremaining: 4.19s\n",
      "1:\tlearn: 2307.3066445\ttotal: 734ms\tremaining: 6.6s\n",
      "2:\tlearn: 1958.9289041\ttotal: 1.26s\tremaining: 7.16s\n",
      "3:\tlearn: 1806.0296132\ttotal: 1.79s\tremaining: 7.18s\n",
      "4:\tlearn: 1740.8200030\ttotal: 2.31s\tremaining: 6.94s\n",
      "5:\tlearn: 1668.3617875\ttotal: 2.85s\tremaining: 6.64s\n",
      "6:\tlearn: 1625.7284245\ttotal: 3.38s\tremaining: 6.27s\n",
      "7:\tlearn: 1594.3652058\ttotal: 3.9s\tremaining: 5.85s\n",
      "8:\tlearn: 1574.5612906\ttotal: 4.43s\tremaining: 5.41s\n",
      "9:\tlearn: 1554.2463453\ttotal: 4.94s\tremaining: 4.94s\n",
      "10:\tlearn: 1529.2127105\ttotal: 5.46s\tremaining: 4.47s\n",
      "11:\tlearn: 1510.6838009\ttotal: 5.99s\tremaining: 3.99s\n",
      "12:\tlearn: 1496.2077337\ttotal: 6.52s\tremaining: 3.51s\n",
      "13:\tlearn: 1464.6622796\ttotal: 7.04s\tremaining: 3.02s\n",
      "14:\tlearn: 1445.8358818\ttotal: 7.55s\tremaining: 2.52s\n",
      "15:\tlearn: 1443.4829171\ttotal: 7.57s\tremaining: 1.89s\n",
      "16:\tlearn: 1431.5816615\ttotal: 8.09s\tremaining: 1.43s\n",
      "17:\tlearn: 1422.0786901\ttotal: 8.6s\tremaining: 955ms\n",
      "18:\tlearn: 1412.8642870\ttotal: 9.12s\tremaining: 480ms\n",
      "19:\tlearn: 1412.7951719\ttotal: 9.14s\tremaining: 0us\n",
      "0:\tlearn: 3007.8354387\ttotal: 521ms\tremaining: 9.9s\n",
      "1:\tlearn: 2288.2152587\ttotal: 1.05s\tremaining: 9.42s\n",
      "2:\tlearn: 1934.0132052\ttotal: 1.56s\tremaining: 8.86s\n",
      "3:\tlearn: 1770.7602755\ttotal: 2.08s\tremaining: 8.34s\n",
      "4:\tlearn: 1704.2838088\ttotal: 2.61s\tremaining: 7.82s\n",
      "5:\tlearn: 1639.7561027\ttotal: 3.14s\tremaining: 7.33s\n",
      "6:\tlearn: 1607.1530415\ttotal: 3.67s\tremaining: 6.81s\n",
      "7:\tlearn: 1584.5684634\ttotal: 4.2s\tremaining: 6.3s\n",
      "8:\tlearn: 1545.6202752\ttotal: 4.74s\tremaining: 5.79s\n",
      "9:\tlearn: 1526.9837290\ttotal: 5.26s\tremaining: 5.26s\n",
      "10:\tlearn: 1516.0734515\ttotal: 5.78s\tremaining: 4.73s\n",
      "11:\tlearn: 1497.7640327\ttotal: 6.31s\tremaining: 4.2s\n",
      "12:\tlearn: 1477.1142953\ttotal: 6.84s\tremaining: 3.68s\n",
      "13:\tlearn: 1460.0527861\ttotal: 7.39s\tremaining: 3.17s\n",
      "14:\tlearn: 1447.5818439\ttotal: 7.91s\tremaining: 2.64s\n",
      "15:\tlearn: 1433.3916652\ttotal: 8.44s\tremaining: 2.11s\n",
      "16:\tlearn: 1412.9079674\ttotal: 8.97s\tremaining: 1.58s\n",
      "17:\tlearn: 1397.9258001\ttotal: 9.51s\tremaining: 1.06s\n",
      "18:\tlearn: 1391.5893309\ttotal: 10s\tremaining: 528ms\n",
      "19:\tlearn: 1376.4815004\ttotal: 10.5s\tremaining: 0us\n",
      "0:\tlearn: 3650.6302546\ttotal: 19.6ms\tremaining: 372ms\n",
      "1:\tlearn: 3102.9712914\ttotal: 40.7ms\tremaining: 366ms\n",
      "2:\tlearn: 2778.4124213\ttotal: 56.3ms\tremaining: 319ms\n",
      "3:\tlearn: 2574.1996349\ttotal: 75.7ms\tremaining: 303ms\n",
      "4:\tlearn: 2413.4887181\ttotal: 92.6ms\tremaining: 278ms\n",
      "5:\tlearn: 2318.0499448\ttotal: 108ms\tremaining: 253ms\n",
      "6:\tlearn: 2246.7107574\ttotal: 124ms\tremaining: 231ms\n",
      "7:\tlearn: 2188.0978962\ttotal: 140ms\tremaining: 210ms\n",
      "8:\tlearn: 2148.5243439\ttotal: 155ms\tremaining: 189ms\n",
      "9:\tlearn: 2103.1603248\ttotal: 172ms\tremaining: 172ms\n",
      "10:\tlearn: 2083.9259643\ttotal: 188ms\tremaining: 154ms\n",
      "11:\tlearn: 2068.3386767\ttotal: 205ms\tremaining: 136ms\n",
      "12:\tlearn: 2049.2150902\ttotal: 221ms\tremaining: 119ms\n",
      "13:\tlearn: 2026.3050950\ttotal: 237ms\tremaining: 102ms\n",
      "14:\tlearn: 2008.4451959\ttotal: 253ms\tremaining: 84.4ms\n",
      "15:\tlearn: 1997.3752248\ttotal: 269ms\tremaining: 67.1ms\n",
      "16:\tlearn: 1986.4209870\ttotal: 284ms\tremaining: 50.1ms\n",
      "17:\tlearn: 1975.9886799\ttotal: 299ms\tremaining: 33.3ms\n",
      "18:\tlearn: 1961.4248705\ttotal: 315ms\tremaining: 16.6ms\n",
      "19:\tlearn: 1954.0623269\ttotal: 331ms\tremaining: 0us\n",
      "0:\tlearn: 3674.8817681\ttotal: 19.5ms\tremaining: 370ms\n",
      "1:\tlearn: 3095.2131745\ttotal: 35.1ms\tremaining: 316ms\n",
      "2:\tlearn: 2769.4859983\ttotal: 50.2ms\tremaining: 285ms\n",
      "3:\tlearn: 2574.3094131\ttotal: 70.1ms\tremaining: 280ms\n",
      "4:\tlearn: 2429.2989593\ttotal: 86.9ms\tremaining: 261ms\n",
      "5:\tlearn: 2332.7655695\ttotal: 102ms\tremaining: 238ms\n",
      "6:\tlearn: 2261.5494083\ttotal: 117ms\tremaining: 218ms\n",
      "7:\tlearn: 2200.3289239\ttotal: 132ms\tremaining: 198ms\n",
      "8:\tlearn: 2153.6784896\ttotal: 149ms\tremaining: 182ms\n",
      "9:\tlearn: 2111.9398262\ttotal: 164ms\tremaining: 164ms\n",
      "10:\tlearn: 2090.0277332\ttotal: 181ms\tremaining: 148ms\n",
      "11:\tlearn: 2071.8469700\ttotal: 195ms\tremaining: 130ms\n",
      "12:\tlearn: 2045.6911770\ttotal: 210ms\tremaining: 113ms\n",
      "13:\tlearn: 2028.8003669\ttotal: 226ms\tremaining: 96.8ms\n",
      "14:\tlearn: 2017.3417783\ttotal: 240ms\tremaining: 80ms\n",
      "15:\tlearn: 2000.7819689\ttotal: 254ms\tremaining: 63.6ms\n",
      "16:\tlearn: 1989.1601614\ttotal: 269ms\tremaining: 47.4ms\n",
      "17:\tlearn: 1977.8973853\ttotal: 284ms\tremaining: 31.5ms\n",
      "18:\tlearn: 1970.1920890\ttotal: 298ms\tremaining: 15.7ms\n",
      "19:\tlearn: 1963.3384964\ttotal: 313ms\tremaining: 0us\n",
      "0:\tlearn: 3695.9667886\ttotal: 19.4ms\tremaining: 370ms\n",
      "1:\tlearn: 3079.5721991\ttotal: 34.8ms\tremaining: 313ms\n",
      "2:\tlearn: 2776.3383102\ttotal: 50ms\tremaining: 283ms\n",
      "3:\tlearn: 2582.8261166\ttotal: 70.2ms\tremaining: 281ms\n",
      "4:\tlearn: 2416.5681897\ttotal: 86.9ms\tremaining: 261ms\n",
      "5:\tlearn: 2324.0771029\ttotal: 102ms\tremaining: 237ms\n",
      "6:\tlearn: 2247.6195837\ttotal: 119ms\tremaining: 221ms\n",
      "7:\tlearn: 2183.7639604\ttotal: 134ms\tremaining: 201ms\n",
      "8:\tlearn: 2149.7049844\ttotal: 151ms\tremaining: 184ms\n",
      "9:\tlearn: 2109.3130330\ttotal: 166ms\tremaining: 166ms\n",
      "10:\tlearn: 2078.6868998\ttotal: 181ms\tremaining: 148ms\n",
      "11:\tlearn: 2055.9787550\ttotal: 196ms\tremaining: 131ms\n",
      "12:\tlearn: 2043.7459433\ttotal: 211ms\tremaining: 114ms\n",
      "13:\tlearn: 2019.4533023\ttotal: 226ms\tremaining: 96.7ms\n",
      "14:\tlearn: 1996.9236055\ttotal: 242ms\tremaining: 80.6ms\n",
      "15:\tlearn: 1983.1909292\ttotal: 257ms\tremaining: 64.3ms\n",
      "16:\tlearn: 1967.8490101\ttotal: 272ms\tremaining: 47.9ms\n",
      "17:\tlearn: 1955.2992214\ttotal: 287ms\tremaining: 31.9ms\n",
      "18:\tlearn: 1948.9194396\ttotal: 301ms\tremaining: 15.8ms\n",
      "19:\tlearn: 1942.2585662\ttotal: 316ms\tremaining: 0us\n",
      "0:\tlearn: 2431.7789939\ttotal: 48.1ms\tremaining: 433ms\n",
      "1:\tlearn: 2027.2625336\ttotal: 96.5ms\tremaining: 386ms\n",
      "2:\tlearn: 1938.6725437\ttotal: 144ms\tremaining: 337ms\n",
      "3:\tlearn: 1869.6515600\ttotal: 190ms\tremaining: 284ms\n",
      "4:\tlearn: 1814.7840161\ttotal: 236ms\tremaining: 236ms\n",
      "5:\tlearn: 1785.3166864\ttotal: 280ms\tremaining: 187ms\n",
      "6:\tlearn: 1765.6328826\ttotal: 325ms\tremaining: 139ms\n",
      "7:\tlearn: 1731.8267194\ttotal: 370ms\tremaining: 92.4ms\n",
      "8:\tlearn: 1708.8840295\ttotal: 414ms\tremaining: 46ms\n",
      "9:\tlearn: 1684.6685182\ttotal: 457ms\tremaining: 0us\n",
      "0:\tlearn: 2396.8475425\ttotal: 48.5ms\tremaining: 436ms\n",
      "1:\tlearn: 2061.8619408\ttotal: 99ms\tremaining: 396ms\n",
      "2:\tlearn: 1918.6427838\ttotal: 145ms\tremaining: 338ms\n",
      "3:\tlearn: 1872.7946598\ttotal: 188ms\tremaining: 282ms\n",
      "4:\tlearn: 1828.9157744\ttotal: 232ms\tremaining: 232ms\n",
      "5:\tlearn: 1772.0158559\ttotal: 278ms\tremaining: 186ms\n",
      "6:\tlearn: 1751.5658515\ttotal: 324ms\tremaining: 139ms\n",
      "7:\tlearn: 1725.0559344\ttotal: 370ms\tremaining: 92.4ms\n",
      "8:\tlearn: 1697.7084361\ttotal: 415ms\tremaining: 46.1ms\n",
      "9:\tlearn: 1682.6347244\ttotal: 460ms\tremaining: 0us\n",
      "0:\tlearn: 2411.1444780\ttotal: 49.4ms\tremaining: 445ms\n",
      "1:\tlearn: 2072.2323375\ttotal: 103ms\tremaining: 413ms\n",
      "2:\tlearn: 1938.5856938\ttotal: 149ms\tremaining: 347ms\n",
      "3:\tlearn: 1863.6643432\ttotal: 197ms\tremaining: 295ms\n",
      "4:\tlearn: 1825.2738222\ttotal: 242ms\tremaining: 242ms\n",
      "5:\tlearn: 1774.0028048\ttotal: 288ms\tremaining: 192ms\n",
      "6:\tlearn: 1743.0723706\ttotal: 332ms\tremaining: 142ms\n",
      "7:\tlearn: 1722.6927472\ttotal: 376ms\tremaining: 94ms\n",
      "8:\tlearn: 1701.3612529\ttotal: 421ms\tremaining: 46.8ms\n",
      "9:\tlearn: 1686.3249304\ttotal: 466ms\tremaining: 0us\n",
      "0:\tlearn: 3000.8746984\ttotal: 590ms\tremaining: 11.2s\n",
      "1:\tlearn: 2315.6115372\ttotal: 1.16s\tremaining: 10.4s\n",
      "2:\tlearn: 1936.1111609\ttotal: 1.72s\tremaining: 9.76s\n",
      "3:\tlearn: 1775.3128073\ttotal: 2.29s\tremaining: 9.15s\n",
      "4:\tlearn: 1710.2905235\ttotal: 2.85s\tremaining: 8.57s\n",
      "5:\tlearn: 1651.4366101\ttotal: 3.42s\tremaining: 7.98s\n",
      "6:\tlearn: 1618.8000001\ttotal: 3.97s\tremaining: 7.37s\n",
      "7:\tlearn: 1589.7822909\ttotal: 4.54s\tremaining: 6.81s\n",
      "8:\tlearn: 1561.5817626\ttotal: 5.09s\tremaining: 6.23s\n",
      "9:\tlearn: 1536.7874218\ttotal: 5.65s\tremaining: 5.65s\n",
      "10:\tlearn: 1521.4021780\ttotal: 6.21s\tremaining: 5.08s\n",
      "11:\tlearn: 1504.2601645\ttotal: 6.78s\tremaining: 4.52s\n",
      "12:\tlearn: 1495.4511093\ttotal: 7.33s\tremaining: 3.94s\n",
      "13:\tlearn: 1483.7513264\ttotal: 7.88s\tremaining: 3.38s\n",
      "14:\tlearn: 1470.7145043\ttotal: 8.44s\tremaining: 2.81s\n",
      "15:\tlearn: 1460.7466095\ttotal: 8.99s\tremaining: 2.25s\n",
      "16:\tlearn: 1448.9724629\ttotal: 9.56s\tremaining: 1.69s\n",
      "17:\tlearn: 1439.5369962\ttotal: 10.1s\tremaining: 1.12s\n",
      "18:\tlearn: 1431.8699931\ttotal: 10.7s\tremaining: 562ms\n",
      "19:\tlearn: 1424.4920401\ttotal: 11.2s\tremaining: 0us\n",
      "{'max_depth': 15, 'learning_rate': 0.5428571428571429, 'iterations': 20}\n"
     ]
    }
   ],
   "source": [
    "model_cbr = CatBoostRegressor()\n",
    "param_dist = {'learning_rate': np.linspace(0.2, 1, 8),\n",
    "              'max_depth': [3, 10, 15, 20],\n",
    "              'iterations':[10,20,30]}\n",
    "\n",
    "rs_cbr = RandomizedSearchCV(model_cbr, param_dist, \n",
    "                            n_iter = 3,\n",
    "                            cv = 3,\n",
    "                            verbose = 1,\n",
    "                            n_jobs=-1,\n",
    "                            random_state=12345,\n",
    "                            scoring='neg_root_mean_squared_error')\n",
    "rs_cbr.fit(features_train, target_train, cat_features = cat_features)\n",
    "print(rs_cbr.best_params_)"
   ]
  },
  {
   "cell_type": "markdown",
   "metadata": {},
   "source": [
    "__Посмотрим на ошибку и время обучения__"
   ]
  },
  {
   "cell_type": "code",
   "execution_count": 25,
   "metadata": {},
   "outputs": [
    {
     "data": {
      "text/html": [
       "<div>\n",
       "<style scoped>\n",
       "    .dataframe tbody tr th:only-of-type {\n",
       "        vertical-align: middle;\n",
       "    }\n",
       "\n",
       "    .dataframe tbody tr th {\n",
       "        vertical-align: top;\n",
       "    }\n",
       "\n",
       "    .dataframe thead th {\n",
       "        text-align: right;\n",
       "    }\n",
       "</style>\n",
       "<table border=\"1\" class=\"dataframe\">\n",
       "  <thead>\n",
       "    <tr style=\"text-align: right;\">\n",
       "      <th></th>\n",
       "      <th>mean_test_score</th>\n",
       "      <th>mean_fit_time</th>\n",
       "      <th>rank_test_score</th>\n",
       "    </tr>\n",
       "  </thead>\n",
       "  <tbody>\n",
       "    <tr>\n",
       "      <th>0</th>\n",
       "      <td>-1658.879047</td>\n",
       "      <td>11.412487</td>\n",
       "      <td>1</td>\n",
       "    </tr>\n",
       "    <tr>\n",
       "      <th>2</th>\n",
       "      <td>-1756.634396</td>\n",
       "      <td>1.132915</td>\n",
       "      <td>2</td>\n",
       "    </tr>\n",
       "    <tr>\n",
       "      <th>1</th>\n",
       "      <td>-1951.912917</td>\n",
       "      <td>2.142334</td>\n",
       "      <td>3</td>\n",
       "    </tr>\n",
       "  </tbody>\n",
       "</table>\n",
       "</div>"
      ],
      "text/plain": [
       "   mean_test_score  mean_fit_time  rank_test_score\n",
       "0     -1658.879047      11.412487                1\n",
       "2     -1756.634396       1.132915                2\n",
       "1     -1951.912917       2.142334                3"
      ]
     },
     "execution_count": 25,
     "metadata": {},
     "output_type": "execute_result"
    }
   ],
   "source": [
    "res_rs_cbr = pd.DataFrame(rs_cbr.cv_results_)\n",
    "res_rs_cbr[['mean_test_score', 'mean_fit_time', 'rank_test_score']].sort_values(by='rank_test_score')"
   ]
  },
  {
   "cell_type": "markdown",
   "metadata": {},
   "source": [
    "### LGBMRegressor"
   ]
  },
  {
   "cell_type": "code",
   "execution_count": 26,
   "metadata": {},
   "outputs": [],
   "source": [
    "#cat_idx = [features_train.columns.get_loc(c) for c in cat_features]"
   ]
  },
  {
   "cell_type": "code",
   "execution_count": 27,
   "metadata": {},
   "outputs": [
    {
     "data": {
      "text/plain": [
       "\"\\nmodel_lgbmr = LGBMRegressor()\\nmodel_lgbmr.fit(features_train,\\n                target_train,\\n                categorical_feature='auto',\\n                #eval_set=eval_set,\\n                eval_metric='rmse')\\npred_lgbmr = model_lgbmr.predict(features_test)\\nRMSE(target_test, pred_lgbmr)\\n\""
      ]
     },
     "execution_count": 27,
     "metadata": {},
     "output_type": "execute_result"
    }
   ],
   "source": [
    "#eval_set = [(features_train, target_train)]\n",
    "\"\"\"\n",
    "model_lgbmr = LGBMRegressor()\n",
    "model_lgbmr.fit(features_train,\n",
    "                target_train,\n",
    "                categorical_feature='auto',\n",
    "                #eval_set=eval_set,\n",
    "                eval_metric='rmse')\n",
    "pred_lgbmr = model_lgbmr.predict(features_test)\n",
    "RMSE(target_test, pred_lgbmr)\n",
    "\"\"\""
   ]
  },
  {
   "cell_type": "code",
   "execution_count": 28,
   "metadata": {},
   "outputs": [
    {
     "name": "stdout",
     "output_type": "stream",
     "text": [
      "Fitting 3 folds for each of 3 candidates, totalling 9 fits\n"
     ]
    },
    {
     "data": {
      "text/plain": [
       "{'subsample': 0.7222222222222222,\n",
       " 'reg_lambda': 1.7777777777777777,\n",
       " 'reg_alpha': 1.5555555555555556,\n",
       " 'random_state': 12345,\n",
       " 'num_leaves': 68,\n",
       " 'n_estimators': 200,\n",
       " 'learning_rate': 0.009,\n",
       " 'colsample_bytree': 0.2777777777777778}"
      ]
     },
     "execution_count": 28,
     "metadata": {},
     "output_type": "execute_result"
    }
   ],
   "source": [
    "model_lgbmr = LGBMRegressor()\n",
    "params_lgbmr = { \n",
    "    'learning_rate': np.linspace(start = 0.001, stop = 0.009, num = 10),\n",
    "    'n_estimators': [int(x) for x in np.linspace(start = 2, stop = 200, num = 10)],\n",
    "    'num_leaves': [int(x) for x in np.linspace(start = 2, stop = 200, num = 10)], \n",
    "    'random_state' : [12345],\n",
    "    #'num_boost_round' : [3, 1000],\n",
    "    'colsample_bytree' : [x for x in np.linspace(start = 0.1, stop = 0.9, num = 10)],\n",
    "    'subsample' : [x for x in np.linspace(start = 0.1, stop = 0.9, num = 10)],\n",
    "    'reg_alpha' : [x for x in np.linspace(start = 1, stop = 2, num = 10)],\n",
    "    'reg_lambda' : [x for x in np.linspace(start = 1, stop = 2, num = 10)], \n",
    "    }\n",
    "\n",
    "rs_lgbmr = RandomizedSearchCV(model_lgbmr,\n",
    "                              params_lgbmr,\n",
    "                              n_iter = 3,\n",
    "                              cv = 3,\n",
    "                              verbose = 1,\n",
    "                              n_jobs=-1,\n",
    "                              random_state=12345,\n",
    "                              scoring='neg_root_mean_squared_error')\n",
    "rs_lgbmr.fit(features_train, target_train)\n",
    "rs_lgbmr.best_params_"
   ]
  },
  {
   "cell_type": "markdown",
   "metadata": {},
   "source": [
    "__Посмотрим на ошибку и время обучения__"
   ]
  },
  {
   "cell_type": "code",
   "execution_count": 29,
   "metadata": {},
   "outputs": [
    {
     "data": {
      "text/html": [
       "<div>\n",
       "<style scoped>\n",
       "    .dataframe tbody tr th:only-of-type {\n",
       "        vertical-align: middle;\n",
       "    }\n",
       "\n",
       "    .dataframe tbody tr th {\n",
       "        vertical-align: top;\n",
       "    }\n",
       "\n",
       "    .dataframe thead th {\n",
       "        text-align: right;\n",
       "    }\n",
       "</style>\n",
       "<table border=\"1\" class=\"dataframe\">\n",
       "  <thead>\n",
       "    <tr style=\"text-align: right;\">\n",
       "      <th></th>\n",
       "      <th>mean_test_score</th>\n",
       "      <th>mean_fit_time</th>\n",
       "      <th>rank_test_score</th>\n",
       "    </tr>\n",
       "  </thead>\n",
       "  <tbody>\n",
       "    <tr>\n",
       "      <th>2</th>\n",
       "      <td>-2571.203008</td>\n",
       "      <td>6.228327</td>\n",
       "      <td>1</td>\n",
       "    </tr>\n",
       "    <tr>\n",
       "      <th>0</th>\n",
       "      <td>-3402.795531</td>\n",
       "      <td>4.200123</td>\n",
       "      <td>2</td>\n",
       "    </tr>\n",
       "    <tr>\n",
       "      <th>1</th>\n",
       "      <td>-3640.532007</td>\n",
       "      <td>6.499889</td>\n",
       "      <td>3</td>\n",
       "    </tr>\n",
       "  </tbody>\n",
       "</table>\n",
       "</div>"
      ],
      "text/plain": [
       "   mean_test_score  mean_fit_time  rank_test_score\n",
       "2     -2571.203008       6.228327                1\n",
       "0     -3402.795531       4.200123                2\n",
       "1     -3640.532007       6.499889                3"
      ]
     },
     "execution_count": 29,
     "metadata": {},
     "output_type": "execute_result"
    }
   ],
   "source": [
    "res_rs_lgbmr = pd.DataFrame(rs_lgbmr.cv_results_)\n",
    "res_rs_lgbmr[['mean_test_score', 'mean_fit_time', 'rank_test_score']].sort_values(by='rank_test_score')"
   ]
  },
  {
   "cell_type": "markdown",
   "metadata": {},
   "source": [
    "### LinearRegression"
   ]
  },
  {
   "cell_type": "code",
   "execution_count": 30,
   "metadata": {
    "scrolled": true
   },
   "outputs": [],
   "source": [
    "df_linreg = df.copy()\n",
    "\n",
    "\"\"\"# Преобразуем столбцы в числа\n",
    "le = LabelEncoder()\n",
    "for c in col:\n",
    "    le.fit(df[str(c)])\n",
    "    df_linreg[str(c)] = le.transform(df_linreg[str(c)])\"\"\"\n",
    "\n",
    "# Применим OHE\n",
    "l_features = df_linreg.drop(['Price'], axis=1)\n",
    "l_target = df_linreg['Price']\n",
    "\n",
    "model_OHE = ColumnTransformer(\n",
    "    [('OHE', OneHotEncoder(),col)],\n",
    "    remainder = 'passthrough'\n",
    "    )\n",
    "dummified = model_OHE.fit_transform(l_features)\n",
    "l_features = pd.DataFrame(dummified.toarray())\n",
    "\n",
    "\n",
    "l_features_train, l_features_test, l_target_train, l_target_test = train_test_split(l_features, \n",
    "                                                                                    l_target, \n",
    "                                                                                    test_size=0.4, \n",
    "                                                                                    random_state=12345)\n",
    "\n",
    "l_features_test, l_features_valid, l_target_test, l_target_valid = train_test_split(l_features_test,\n",
    "                                                                                    l_target_test, \n",
    "                                                                                    test_size=0.5, \n",
    "                                                                                    random_state=12345)\n",
    "# Нормализуем все численные признаки\n",
    "scaler = StandardScaler()\n",
    "scaler.fit(l_features_train)\n",
    "l_features_train = scaler.transform(l_features_train)\n",
    "l_features_test = scaler.transform(l_features_test)\n",
    "l_features_valid = scaler.transform(l_features_valid)"
   ]
  },
  {
   "cell_type": "markdown",
   "metadata": {},
   "source": [
    "__Посмотрим на ошибку и время обучения__"
   ]
  },
  {
   "cell_type": "code",
   "execution_count": 31,
   "metadata": {},
   "outputs": [
    {
     "name": "stdout",
     "output_type": "stream",
     "text": [
      "CPU times: user 11.3 s, sys: 4.25 s, total: 15.6 s\n",
      "Wall time: 15.5 s\n"
     ]
    },
    {
     "data": {
      "text/plain": [
       "2539.764636214629"
      ]
     },
     "execution_count": 31,
     "metadata": {},
     "output_type": "execute_result"
    }
   ],
   "source": [
    "%%time\n",
    "lr = LinearRegression()\n",
    "lr.fit(l_features_train, l_target_train)\n",
    "pred_lr = lr.predict(l_features_test)\n",
    "RMSE(l_target_test, pred_lr)"
   ]
  },
  {
   "cell_type": "markdown",
   "metadata": {},
   "source": [
    "В итоге выберем лучше параметры моделй и посотрим какая будет быстрее."
   ]
  },
  {
   "cell_type": "markdown",
   "metadata": {},
   "source": [
    "## Анализ моделей"
   ]
  },
  {
   "cell_type": "code",
   "execution_count": 32,
   "metadata": {},
   "outputs": [
    {
     "name": "stdout",
     "output_type": "stream",
     "text": [
      "0:\tlearn: 3000.8746984\ttotal: 593ms\tremaining: 2.37s\n",
      "1:\tlearn: 2315.6115372\ttotal: 1.13s\tremaining: 1.7s\n",
      "2:\tlearn: 1936.1111609\ttotal: 1.67s\tremaining: 1.11s\n",
      "3:\tlearn: 1775.3128073\ttotal: 2.18s\tremaining: 546ms\n",
      "4:\tlearn: 1710.2905235\ttotal: 2.69s\tremaining: 0us\n",
      "CatBoostRegressor\n",
      "RMSE:  1761.5935179768355\n",
      "Time  3.568291130941361\n"
     ]
    }
   ],
   "source": [
    "#%%time\n",
    "# CatBoostRegressor\n",
    "#{'max_depth': 15, 'learning_rate': 0.5428571428571429, 'iterations': 5}\n",
    "model_cbr = CatBoostRegressor(loss_function='RMSE', iterations=5,learning_rate=0.5428571428571429, max_depth=15)\n",
    "\n",
    "start_time_cbr = time.monotonic()\n",
    "#--\n",
    "model_cbr.fit(features_train, target_train, cat_features)\n",
    "pred_cbr = model_cbr.predict(features_valid)\n",
    "#--\n",
    "end_time_cbr = time.monotonic()\n",
    "total_time_cbr = end_time_cbr - start_time_cbr\n",
    "RMSE_cbr = RMSE(target_valid, pred_cbr)\n",
    "print('CatBoostRegressor')\n",
    "print('RMSE: ', RMSE_cbr)\n",
    "print('Time ', total_time_cbr)"
   ]
  },
  {
   "cell_type": "code",
   "execution_count": 33,
   "metadata": {},
   "outputs": [
    {
     "name": "stdout",
     "output_type": "stream",
     "text": [
      "LGBMRegressor\n",
      "RMSE:  2564.7850435528053\n",
      "Time  10.323463150300086\n"
     ]
    }
   ],
   "source": [
    "#%%time\n",
    "\n",
    "# LGBMRegressor\n",
    "{'subsample': 0.7222222222222222,\n",
    " 'reg_lambda': 1.7777777777777777,\n",
    " 'reg_alpha': 1.5555555555555556,\n",
    " 'random_state': 12345,\n",
    " 'num_leaves': 68,\n",
    " 'n_estimators': 200,\n",
    " 'learning_rate': 0.009,\n",
    " 'colsample_bytree': 0.2777777777777778}\n",
    "\n",
    "model_lgbmr = LGBMRegressor(subsample=0.72, \n",
    "                            reg_lambda=1.8,\n",
    "                            reg_alpha=1.6,\n",
    "                            random_state=12345,\n",
    "                            num_leaves=68,\n",
    "                            n_estimators=200,\n",
    "                            learning_rate=0.009,\n",
    "                            colsample_bytree=0.28\n",
    "                           )\n",
    "start_time_lgbmr = time.monotonic()\n",
    "\n",
    "#--\n",
    "model_lgbmr.fit(features_train,\n",
    "                target_train,\n",
    "                categorical_feature='auto',\n",
    "                #eval_set=eval_set,\n",
    "                eval_metric='rmse')\n",
    "pred_lgbmr = model_lgbmr.predict(features_valid)\n",
    "#--\n",
    "\n",
    "end_time_lgbmr = time.monotonic()\n",
    "total_time_lgbmr = end_time_lgbmr - start_time_lgbmr\n",
    "RMSE_lgbmr = RMSE(target_valid, pred_lgbmr)\n",
    "\n",
    "print('LGBMRegressor')\n",
    "print('RMSE: ', RMSE_lgbmr)\n",
    "print('Time ', total_time_lgbmr)"
   ]
  },
  {
   "cell_type": "code",
   "execution_count": 34,
   "metadata": {},
   "outputs": [
    {
     "name": "stdout",
     "output_type": "stream",
     "text": [
      "LinearRegression\n",
      "RMSE:  2490.0084621829546\n",
      "Time  12.69954365491867\n"
     ]
    }
   ],
   "source": [
    "#%%time\n",
    "\n",
    "lr = LinearRegression()\n",
    "\n",
    "start_time_lr = time.monotonic()\n",
    "#--\n",
    "lr.fit(l_features_train, l_target_train)\n",
    "pred_lr = lr.predict(l_features_valid)\n",
    "#--\n",
    "end_time_lr = time.monotonic()\n",
    "total_time_lr = end_time_lr - start_time_lr\n",
    "\n",
    "RMSE_lr = RMSE(target_valid, pred_lr)\n",
    "\n",
    "print('LinearRegression')\n",
    "print('RMSE: ', RMSE_lr)\n",
    "print('Time ', total_time_lr)"
   ]
  },
  {
   "cell_type": "markdown",
   "metadata": {},
   "source": [
    "__Посмотрим на скорость выполнения моделей и RMSE в одном месте__"
   ]
  },
  {
   "cell_type": "code",
   "execution_count": 35,
   "metadata": {},
   "outputs": [
    {
     "data": {
      "text/html": [
       "<div>\n",
       "<style scoped>\n",
       "    .dataframe tbody tr th:only-of-type {\n",
       "        vertical-align: middle;\n",
       "    }\n",
       "\n",
       "    .dataframe tbody tr th {\n",
       "        vertical-align: top;\n",
       "    }\n",
       "\n",
       "    .dataframe thead th {\n",
       "        text-align: right;\n",
       "    }\n",
       "</style>\n",
       "<table border=\"1\" class=\"dataframe\">\n",
       "  <thead>\n",
       "    <tr style=\"text-align: right;\">\n",
       "      <th></th>\n",
       "      <th>Name model</th>\n",
       "      <th>RMSE</th>\n",
       "      <th>Time</th>\n",
       "    </tr>\n",
       "  </thead>\n",
       "  <tbody>\n",
       "    <tr>\n",
       "      <th>0</th>\n",
       "      <td>CatBoostRegressor</td>\n",
       "      <td>1761.593518</td>\n",
       "      <td>3.568291</td>\n",
       "    </tr>\n",
       "    <tr>\n",
       "      <th>1</th>\n",
       "      <td>LGBMRegressor</td>\n",
       "      <td>2564.785044</td>\n",
       "      <td>10.323463</td>\n",
       "    </tr>\n",
       "    <tr>\n",
       "      <th>2</th>\n",
       "      <td>LinearRegression</td>\n",
       "      <td>2490.008462</td>\n",
       "      <td>12.699544</td>\n",
       "    </tr>\n",
       "  </tbody>\n",
       "</table>\n",
       "</div>"
      ],
      "text/plain": [
       "          Name model         RMSE       Time\n",
       "0  CatBoostRegressor  1761.593518   3.568291\n",
       "1      LGBMRegressor  2564.785044  10.323463\n",
       "2   LinearRegression  2490.008462  12.699544"
      ]
     },
     "execution_count": 35,
     "metadata": {},
     "output_type": "execute_result"
    }
   ],
   "source": [
    "tem_RMSE_model = {'Name model': ['CatBoostRegressor', 'LGBMRegressor', 'LinearRegression'], \n",
    "                  'RMSE': [RMSE_cbr, RMSE_lgbmr, RMSE_lr],\n",
    "                  'Time': [total_time_cbr, total_time_lgbmr, total_time_lr]\n",
    "                 }\n",
    "a_table = pd.DataFrame(tem_RMSE_model)\n",
    "a_table"
   ]
  },
  {
   "cell_type": "markdown",
   "metadata": {},
   "source": [
    "__Вывод:__\n",
    "\n",
    "И тут безоговорочным победителем стала модель `CatBoostRegressor` с минимальной ошибкой и наименьшим временем выполнения.   \n",
    "С показателями:  \n",
    "RMSE = `1714.337471` и `Time = 3.701492`"
   ]
  }
 ],
 "metadata": {
  "ExecuteTimeLog": [
   {
    "duration": 417,
    "start_time": "2022-04-04T14:55:56.667Z"
   },
   {
    "duration": 9470,
    "start_time": "2022-04-04T14:56:27.805Z"
   },
   {
    "duration": 2,
    "start_time": "2022-04-04T15:11:40.386Z"
   },
   {
    "duration": 728,
    "start_time": "2022-04-04T15:11:44.390Z"
   },
   {
    "duration": 2,
    "start_time": "2022-04-04T15:11:48.397Z"
   },
   {
    "duration": 45,
    "start_time": "2022-04-05T07:28:36.832Z"
   },
   {
    "duration": 1208,
    "start_time": "2022-04-05T07:28:39.855Z"
   },
   {
    "duration": 2,
    "start_time": "2022-04-05T07:28:41.880Z"
   },
   {
    "duration": 792,
    "start_time": "2022-04-05T07:28:42.724Z"
   },
   {
    "duration": 13,
    "start_time": "2022-04-05T07:29:38.367Z"
   },
   {
    "duration": 480,
    "start_time": "2022-04-05T07:29:41.608Z"
   },
   {
    "duration": 482,
    "start_time": "2022-04-05T07:29:51.046Z"
   },
   {
    "duration": 516,
    "start_time": "2022-04-05T07:30:52.101Z"
   },
   {
    "duration": 1000,
    "start_time": "2022-04-05T07:33:02.086Z"
   },
   {
    "duration": 478,
    "start_time": "2022-04-05T07:35:04.218Z"
   },
   {
    "duration": 127,
    "start_time": "2022-04-05T07:36:41.657Z"
   },
   {
    "duration": 16,
    "start_time": "2022-04-05T07:54:55.894Z"
   },
   {
    "duration": 44,
    "start_time": "2022-04-05T07:55:29.847Z"
   },
   {
    "duration": 21,
    "start_time": "2022-04-05T07:55:51.953Z"
   },
   {
    "duration": 39,
    "start_time": "2022-04-05T07:56:03.349Z"
   },
   {
    "duration": 18,
    "start_time": "2022-04-05T07:56:04.587Z"
   },
   {
    "duration": 356,
    "start_time": "2022-04-05T07:59:13.928Z"
   },
   {
    "duration": 72,
    "start_time": "2022-04-05T07:59:36.911Z"
   },
   {
    "duration": 786,
    "start_time": "2022-04-05T08:00:24.174Z"
   },
   {
    "duration": 18,
    "start_time": "2022-04-05T08:00:36.987Z"
   },
   {
    "duration": 80,
    "start_time": "2022-04-05T08:00:51.815Z"
   },
   {
    "duration": 77,
    "start_time": "2022-04-05T08:11:11.714Z"
   },
   {
    "duration": 74,
    "start_time": "2022-04-05T08:11:50.310Z"
   },
   {
    "duration": 8,
    "start_time": "2022-04-05T08:12:00.436Z"
   },
   {
    "duration": 77,
    "start_time": "2022-04-05T08:12:04.544Z"
   },
   {
    "duration": 340,
    "start_time": "2022-04-05T08:12:31.958Z"
   },
   {
    "duration": 78,
    "start_time": "2022-04-05T08:12:38.270Z"
   },
   {
    "duration": 106,
    "start_time": "2022-04-05T08:26:39.468Z"
   },
   {
    "duration": 97,
    "start_time": "2022-04-05T08:29:33.357Z"
   },
   {
    "duration": 221,
    "start_time": "2022-04-05T08:29:46.265Z"
   },
   {
    "duration": 52,
    "start_time": "2022-04-05T08:29:53.825Z"
   },
   {
    "duration": 11,
    "start_time": "2022-04-05T09:45:00.854Z"
   },
   {
    "duration": 82,
    "start_time": "2022-04-05T09:45:26.357Z"
   },
   {
    "duration": 16,
    "start_time": "2022-04-05T09:45:56.002Z"
   },
   {
    "duration": 72,
    "start_time": "2022-04-05T09:46:07.935Z"
   },
   {
    "duration": 10,
    "start_time": "2022-04-05T09:46:48.594Z"
   },
   {
    "duration": 22,
    "start_time": "2022-04-05T09:46:58.071Z"
   },
   {
    "duration": 24,
    "start_time": "2022-04-05T09:47:17.997Z"
   },
   {
    "duration": 3,
    "start_time": "2022-04-05T09:51:41.280Z"
   },
   {
    "duration": 42,
    "start_time": "2022-04-05T09:53:04.275Z"
   },
   {
    "duration": 39,
    "start_time": "2022-04-05T09:54:46.594Z"
   },
   {
    "duration": 10,
    "start_time": "2022-04-05T10:05:03.665Z"
   },
   {
    "duration": 10,
    "start_time": "2022-04-05T10:05:16.537Z"
   },
   {
    "duration": 6,
    "start_time": "2022-04-05T10:05:29.642Z"
   },
   {
    "duration": 5,
    "start_time": "2022-04-05T10:05:49.813Z"
   },
   {
    "duration": 3,
    "start_time": "2022-04-05T10:06:05.097Z"
   },
   {
    "duration": 6,
    "start_time": "2022-04-05T10:06:10.457Z"
   },
   {
    "duration": 4,
    "start_time": "2022-04-05T10:07:06.643Z"
   },
   {
    "duration": 4,
    "start_time": "2022-04-05T10:07:13.076Z"
   },
   {
    "duration": 3,
    "start_time": "2022-04-05T10:07:15.249Z"
   },
   {
    "duration": 4,
    "start_time": "2022-04-05T10:07:32.462Z"
   },
   {
    "duration": 5,
    "start_time": "2022-04-05T10:07:36.848Z"
   },
   {
    "duration": 10,
    "start_time": "2022-04-05T10:08:21.073Z"
   },
   {
    "duration": 8,
    "start_time": "2022-04-05T10:08:41.020Z"
   },
   {
    "duration": 6,
    "start_time": "2022-04-05T10:08:48.163Z"
   },
   {
    "duration": 10,
    "start_time": "2022-04-05T10:08:50.875Z"
   },
   {
    "duration": 10,
    "start_time": "2022-04-05T10:09:02.372Z"
   },
   {
    "duration": 10,
    "start_time": "2022-04-05T10:09:10.675Z"
   },
   {
    "duration": 9,
    "start_time": "2022-04-05T10:10:45.414Z"
   },
   {
    "duration": 4,
    "start_time": "2022-04-05T10:10:50.564Z"
   },
   {
    "duration": 4,
    "start_time": "2022-04-05T10:10:58.565Z"
   },
   {
    "duration": 4,
    "start_time": "2022-04-05T10:11:07.204Z"
   },
   {
    "duration": 6,
    "start_time": "2022-04-05T10:11:15.967Z"
   },
   {
    "duration": 6,
    "start_time": "2022-04-05T10:11:22.617Z"
   },
   {
    "duration": 4,
    "start_time": "2022-04-05T10:11:32.381Z"
   },
   {
    "duration": 6,
    "start_time": "2022-04-05T10:11:35.283Z"
   },
   {
    "duration": 9,
    "start_time": "2022-04-05T10:11:48.954Z"
   },
   {
    "duration": 3,
    "start_time": "2022-04-05T10:11:53.544Z"
   },
   {
    "duration": 6,
    "start_time": "2022-04-05T10:12:25.979Z"
   },
   {
    "duration": 5,
    "start_time": "2022-04-05T10:14:12.539Z"
   },
   {
    "duration": 6,
    "start_time": "2022-04-05T10:14:36.390Z"
   },
   {
    "duration": 7,
    "start_time": "2022-04-05T10:15:08.836Z"
   },
   {
    "duration": 6,
    "start_time": "2022-04-05T10:16:01.566Z"
   },
   {
    "duration": 517,
    "start_time": "2022-04-05T10:16:08.720Z"
   },
   {
    "duration": 3808,
    "start_time": "2022-04-05T10:18:33.195Z"
   },
   {
    "duration": 329,
    "start_time": "2022-04-05T10:18:50.015Z"
   },
   {
    "duration": 394,
    "start_time": "2022-04-05T10:19:02.448Z"
   },
   {
    "duration": 638,
    "start_time": "2022-04-05T10:20:20.882Z"
   },
   {
    "duration": 616,
    "start_time": "2022-04-05T10:20:26.924Z"
   },
   {
    "duration": 153,
    "start_time": "2022-04-05T10:30:16.208Z"
   },
   {
    "duration": 237,
    "start_time": "2022-04-05T10:30:24.702Z"
   },
   {
    "duration": 432,
    "start_time": "2022-04-05T10:30:29.214Z"
   },
   {
    "duration": 327,
    "start_time": "2022-04-05T10:31:08.905Z"
   },
   {
    "duration": 6,
    "start_time": "2022-04-05T10:31:19.255Z"
   },
   {
    "duration": 17,
    "start_time": "2022-04-05T10:31:28.547Z"
   },
   {
    "duration": 600,
    "start_time": "2022-04-05T10:36:15.731Z"
   },
   {
    "duration": 6,
    "start_time": "2022-04-05T10:36:21.648Z"
   },
   {
    "duration": 6,
    "start_time": "2022-04-05T10:36:26.360Z"
   },
   {
    "duration": 6,
    "start_time": "2022-04-05T10:36:31.041Z"
   },
   {
    "duration": 6,
    "start_time": "2022-04-05T10:36:34.923Z"
   },
   {
    "duration": 6,
    "start_time": "2022-04-05T10:41:59.929Z"
   },
   {
    "duration": 9,
    "start_time": "2022-04-05T10:42:57.194Z"
   },
   {
    "duration": 6,
    "start_time": "2022-04-05T10:43:01.097Z"
   },
   {
    "duration": 19,
    "start_time": "2022-04-05T10:43:06.440Z"
   },
   {
    "duration": 19,
    "start_time": "2022-04-05T10:45:31.647Z"
   },
   {
    "duration": 27,
    "start_time": "2022-04-05T10:45:56.914Z"
   },
   {
    "duration": 28,
    "start_time": "2022-04-05T10:46:43.479Z"
   },
   {
    "duration": 22,
    "start_time": "2022-04-05T10:46:47.968Z"
   },
   {
    "duration": 32,
    "start_time": "2022-04-05T10:47:53.040Z"
   },
   {
    "duration": 33,
    "start_time": "2022-04-05T10:48:49.977Z"
   },
   {
    "duration": 35,
    "start_time": "2022-04-05T10:49:26.123Z"
   },
   {
    "duration": 39,
    "start_time": "2022-04-05T10:50:05.838Z"
   },
   {
    "duration": 34,
    "start_time": "2022-04-05T10:51:23.609Z"
   },
   {
    "duration": 39,
    "start_time": "2022-04-05T10:53:04.963Z"
   },
   {
    "duration": 6,
    "start_time": "2022-04-05T11:04:16.130Z"
   },
   {
    "duration": 238,
    "start_time": "2022-04-05T11:05:14.326Z"
   },
   {
    "duration": 332,
    "start_time": "2022-04-05T11:07:34.660Z"
   },
   {
    "duration": 122,
    "start_time": "2022-04-05T11:07:46.101Z"
   },
   {
    "duration": 247,
    "start_time": "2022-04-05T11:07:59.388Z"
   },
   {
    "duration": 1403,
    "start_time": "2022-04-05T11:08:03.192Z"
   },
   {
    "duration": 407,
    "start_time": "2022-04-05T11:08:21.697Z"
   },
   {
    "duration": 288,
    "start_time": "2022-04-05T11:08:55.864Z"
   },
   {
    "duration": 6,
    "start_time": "2022-04-05T11:09:26.711Z"
   },
   {
    "duration": 6,
    "start_time": "2022-04-05T11:09:39.087Z"
   },
   {
    "duration": 17,
    "start_time": "2022-04-05T11:11:29.141Z"
   },
   {
    "duration": 11,
    "start_time": "2022-04-05T11:13:30.706Z"
   },
   {
    "duration": 10,
    "start_time": "2022-04-05T11:13:39.885Z"
   },
   {
    "duration": 252,
    "start_time": "2022-04-05T11:13:45.613Z"
   },
   {
    "duration": 23,
    "start_time": "2022-04-05T11:13:49.999Z"
   },
   {
    "duration": 19,
    "start_time": "2022-04-05T11:14:11.994Z"
   },
   {
    "duration": 21,
    "start_time": "2022-04-05T11:14:15.932Z"
   },
   {
    "duration": 20,
    "start_time": "2022-04-05T11:14:21.097Z"
   },
   {
    "duration": 31,
    "start_time": "2022-04-05T11:14:54.194Z"
   },
   {
    "duration": 44,
    "start_time": "2022-04-05T11:15:09.190Z"
   },
   {
    "duration": 6,
    "start_time": "2022-04-05T11:15:13.499Z"
   },
   {
    "duration": 7,
    "start_time": "2022-04-05T11:16:24.691Z"
   },
   {
    "duration": 177,
    "start_time": "2022-04-05T11:16:51.049Z"
   },
   {
    "duration": 186,
    "start_time": "2022-04-05T11:17:00.692Z"
   },
   {
    "duration": 4,
    "start_time": "2022-04-05T11:19:41.389Z"
   },
   {
    "duration": 21,
    "start_time": "2022-04-05T11:19:44.662Z"
   },
   {
    "duration": 22,
    "start_time": "2022-04-05T11:21:05.812Z"
   },
   {
    "duration": 43,
    "start_time": "2022-04-05T11:28:00.304Z"
   },
   {
    "duration": 22,
    "start_time": "2022-04-05T11:29:15.140Z"
   },
   {
    "duration": 22,
    "start_time": "2022-04-05T11:32:12.049Z"
   },
   {
    "duration": 20,
    "start_time": "2022-04-05T11:32:15.288Z"
   },
   {
    "duration": 357,
    "start_time": "2022-04-05T11:32:46.431Z"
   },
   {
    "duration": 0,
    "start_time": "2022-04-05T11:32:59.302Z"
   },
   {
    "duration": 8,
    "start_time": "2022-04-05T11:33:09.277Z"
   },
   {
    "duration": 307,
    "start_time": "2022-04-05T11:33:54.954Z"
   },
   {
    "duration": 315,
    "start_time": "2022-04-05T11:34:08.296Z"
   },
   {
    "duration": 377,
    "start_time": "2022-04-05T11:34:15.923Z"
   },
   {
    "duration": 319,
    "start_time": "2022-04-05T11:34:30.775Z"
   },
   {
    "duration": 536,
    "start_time": "2022-04-05T11:34:39.617Z"
   },
   {
    "duration": 279,
    "start_time": "2022-04-05T11:34:48.953Z"
   },
   {
    "duration": 283,
    "start_time": "2022-04-05T11:35:23.336Z"
   },
   {
    "duration": 128,
    "start_time": "2022-04-05T11:35:30.287Z"
   },
   {
    "duration": 120,
    "start_time": "2022-04-05T11:35:43.731Z"
   },
   {
    "duration": 288,
    "start_time": "2022-04-05T11:35:51.939Z"
   },
   {
    "duration": 296,
    "start_time": "2022-04-05T11:36:24.694Z"
   },
   {
    "duration": 315,
    "start_time": "2022-04-05T11:36:29.745Z"
   },
   {
    "duration": 44,
    "start_time": "2022-04-05T11:38:08.985Z"
   },
   {
    "duration": 38,
    "start_time": "2022-04-05T11:38:12.424Z"
   },
   {
    "duration": 305,
    "start_time": "2022-04-05T11:38:38.615Z"
   },
   {
    "duration": 49,
    "start_time": "2022-04-05T11:38:59.488Z"
   },
   {
    "duration": 320,
    "start_time": "2022-04-05T11:39:01.519Z"
   },
   {
    "duration": 40,
    "start_time": "2022-04-05T11:39:22.470Z"
   },
   {
    "duration": 3,
    "start_time": "2022-04-05T11:40:59.885Z"
   },
   {
    "duration": 12,
    "start_time": "2022-04-05T11:41:42.669Z"
   },
   {
    "duration": 84,
    "start_time": "2022-04-05T11:43:08.801Z"
   },
   {
    "duration": 14,
    "start_time": "2022-04-05T11:45:22.246Z"
   },
   {
    "duration": 208,
    "start_time": "2022-04-05T11:50:06.790Z"
   },
   {
    "duration": 32,
    "start_time": "2022-04-05T11:50:15.070Z"
   },
   {
    "duration": 98,
    "start_time": "2022-04-05T11:50:39.641Z"
   },
   {
    "duration": 19,
    "start_time": "2022-04-05T11:50:42.870Z"
   },
   {
    "duration": 211,
    "start_time": "2022-04-05T11:51:10.399Z"
   },
   {
    "duration": 139,
    "start_time": "2022-04-05T11:51:11.379Z"
   },
   {
    "duration": 3,
    "start_time": "2022-04-05T11:51:25.193Z"
   },
   {
    "duration": 3,
    "start_time": "2022-04-05T11:51:26.041Z"
   },
   {
    "duration": 784,
    "start_time": "2022-04-05T11:51:26.818Z"
   },
   {
    "duration": 18,
    "start_time": "2022-04-05T11:51:28.738Z"
   },
   {
    "duration": 77,
    "start_time": "2022-04-05T11:51:30.346Z"
   },
   {
    "duration": 98,
    "start_time": "2022-04-05T11:51:31.808Z"
   },
   {
    "duration": 227,
    "start_time": "2022-04-05T11:51:32.382Z"
   },
   {
    "duration": 40,
    "start_time": "2022-04-05T11:51:33.126Z"
   },
   {
    "duration": 867,
    "start_time": "2022-04-05T11:51:33.911Z"
   },
   {
    "duration": 17,
    "start_time": "2022-04-05T11:51:35.872Z"
   },
   {
    "duration": 39,
    "start_time": "2022-04-05T11:51:36.692Z"
   },
   {
    "duration": 7,
    "start_time": "2022-04-05T11:51:38.360Z"
   },
   {
    "duration": 25,
    "start_time": "2022-04-05T11:51:39.852Z"
   },
   {
    "duration": 6,
    "start_time": "2022-04-05T11:51:40.809Z"
   },
   {
    "duration": 338,
    "start_time": "2022-04-05T11:51:42.900Z"
   },
   {
    "duration": 313,
    "start_time": "2022-04-05T11:51:46.404Z"
   },
   {
    "duration": 71,
    "start_time": "2022-04-05T11:51:51.192Z"
   },
   {
    "duration": 204,
    "start_time": "2022-04-05T11:51:54.117Z"
   },
   {
    "duration": 19,
    "start_time": "2022-04-05T11:51:57.134Z"
   },
   {
    "duration": 5,
    "start_time": "2022-04-05T11:53:02.262Z"
   },
   {
    "duration": 3,
    "start_time": "2022-04-05T11:58:16.079Z"
   },
   {
    "duration": 3,
    "start_time": "2022-04-05T11:58:22.758Z"
   },
   {
    "duration": 4,
    "start_time": "2022-04-05T11:58:32.252Z"
   },
   {
    "duration": 11,
    "start_time": "2022-04-05T12:05:54.861Z"
   },
   {
    "duration": 30,
    "start_time": "2022-04-05T12:06:15.752Z"
   },
   {
    "duration": 574,
    "start_time": "2022-04-05T12:06:52.123Z"
   },
   {
    "duration": 7,
    "start_time": "2022-04-05T12:07:38.755Z"
   },
   {
    "duration": 24,
    "start_time": "2022-04-05T12:07:42.885Z"
   },
   {
    "duration": 770,
    "start_time": "2022-04-05T12:15:10.431Z"
   },
   {
    "duration": 306,
    "start_time": "2022-04-05T12:21:02.697Z"
   },
   {
    "duration": 347,
    "start_time": "2022-04-05T12:21:56.100Z"
   },
   {
    "duration": 231,
    "start_time": "2022-04-05T12:21:57.653Z"
   },
   {
    "duration": 211,
    "start_time": "2022-04-05T12:22:03.662Z"
   },
   {
    "duration": 9,
    "start_time": "2022-04-05T12:22:31.572Z"
   },
   {
    "duration": 4,
    "start_time": "2022-04-05T12:23:27.621Z"
   },
   {
    "duration": 10,
    "start_time": "2022-04-05T12:23:34.597Z"
   },
   {
    "duration": 10,
    "start_time": "2022-04-05T12:23:52.754Z"
   },
   {
    "duration": 147,
    "start_time": "2022-04-05T12:23:58.167Z"
   },
   {
    "duration": 126,
    "start_time": "2022-04-05T12:24:21.138Z"
   },
   {
    "duration": 25,
    "start_time": "2022-04-05T12:24:28.609Z"
   },
   {
    "duration": 5,
    "start_time": "2022-04-05T12:24:32.726Z"
   },
   {
    "duration": 30,
    "start_time": "2022-04-05T12:24:50.997Z"
   },
   {
    "duration": 5,
    "start_time": "2022-04-05T12:24:56.621Z"
   },
   {
    "duration": 10,
    "start_time": "2022-04-05T12:31:08.294Z"
   },
   {
    "duration": 27,
    "start_time": "2022-04-05T12:31:24.349Z"
   },
   {
    "duration": 32,
    "start_time": "2022-04-05T12:31:25.079Z"
   },
   {
    "duration": 19,
    "start_time": "2022-04-05T12:53:26.980Z"
   },
   {
    "duration": 3,
    "start_time": "2022-04-05T12:53:52.381Z"
   },
   {
    "duration": 3,
    "start_time": "2022-04-05T12:53:53.212Z"
   },
   {
    "duration": 779,
    "start_time": "2022-04-05T12:53:54.317Z"
   },
   {
    "duration": 16,
    "start_time": "2022-04-05T12:53:56.082Z"
   },
   {
    "duration": 78,
    "start_time": "2022-04-05T12:53:56.746Z"
   },
   {
    "duration": 95,
    "start_time": "2022-04-05T12:53:58.095Z"
   },
   {
    "duration": 229,
    "start_time": "2022-04-05T12:53:58.795Z"
   },
   {
    "duration": 41,
    "start_time": "2022-04-05T12:53:59.447Z"
   },
   {
    "duration": 646,
    "start_time": "2022-04-05T12:54:00.078Z"
   },
   {
    "duration": 19,
    "start_time": "2022-04-05T12:54:01.888Z"
   },
   {
    "duration": 41,
    "start_time": "2022-04-05T12:54:02.834Z"
   },
   {
    "duration": 7,
    "start_time": "2022-04-05T12:54:05.229Z"
   },
   {
    "duration": 23,
    "start_time": "2022-04-05T12:54:06.635Z"
   },
   {
    "duration": 6,
    "start_time": "2022-04-05T12:54:07.719Z"
   },
   {
    "duration": 303,
    "start_time": "2022-04-05T12:54:09.684Z"
   },
   {
    "duration": 73,
    "start_time": "2022-04-05T12:54:11.868Z"
   },
   {
    "duration": 311,
    "start_time": "2022-04-05T12:54:25.513Z"
   },
   {
    "duration": 19,
    "start_time": "2022-04-05T12:54:29.508Z"
   },
   {
    "duration": 14,
    "start_time": "2022-04-05T12:55:36.257Z"
   },
   {
    "duration": 773,
    "start_time": "2022-04-05T12:55:42.128Z"
   },
   {
    "duration": 23,
    "start_time": "2022-04-05T12:55:43.027Z"
   },
   {
    "duration": 82,
    "start_time": "2022-04-05T12:55:52.848Z"
   },
   {
    "duration": 103,
    "start_time": "2022-04-05T12:55:58.586Z"
   },
   {
    "duration": 246,
    "start_time": "2022-04-05T12:55:59.137Z"
   },
   {
    "duration": 55,
    "start_time": "2022-04-05T12:55:59.701Z"
   },
   {
    "duration": 665,
    "start_time": "2022-04-05T12:56:00.590Z"
   },
   {
    "duration": 19,
    "start_time": "2022-04-05T12:56:04.303Z"
   },
   {
    "duration": 42,
    "start_time": "2022-04-05T12:56:05.090Z"
   },
   {
    "duration": 6,
    "start_time": "2022-04-05T12:56:07.058Z"
   },
   {
    "duration": 28,
    "start_time": "2022-04-05T12:56:07.822Z"
   },
   {
    "duration": 6,
    "start_time": "2022-04-05T12:56:09.027Z"
   },
   {
    "duration": 283,
    "start_time": "2022-04-05T12:56:10.658Z"
   },
   {
    "duration": 78,
    "start_time": "2022-04-05T12:56:16.802Z"
   },
   {
    "duration": 344,
    "start_time": "2022-04-05T12:56:17.903Z"
   },
   {
    "duration": 19,
    "start_time": "2022-04-05T12:56:19.782Z"
   },
   {
    "duration": 34,
    "start_time": "2022-04-05T12:56:56.761Z"
   },
   {
    "duration": 6,
    "start_time": "2022-04-05T12:57:30.129Z"
   },
   {
    "duration": 6,
    "start_time": "2022-04-05T12:58:06.748Z"
   },
   {
    "duration": 139,
    "start_time": "2022-04-05T12:58:43.886Z"
   },
   {
    "duration": 22,
    "start_time": "2022-04-05T12:58:52.514Z"
   },
   {
    "duration": 35,
    "start_time": "2022-04-05T12:59:13.689Z"
   },
   {
    "duration": 57,
    "start_time": "2022-04-05T12:59:31.103Z"
   },
   {
    "duration": 65,
    "start_time": "2022-04-05T12:59:50.206Z"
   },
   {
    "duration": 106,
    "start_time": "2022-04-05T12:59:58.204Z"
   },
   {
    "duration": 366,
    "start_time": "2022-04-05T13:00:10.041Z"
   },
   {
    "duration": 17,
    "start_time": "2022-04-05T13:00:11.087Z"
   },
   {
    "duration": 11,
    "start_time": "2022-04-05T13:11:48.600Z"
   },
   {
    "duration": 10,
    "start_time": "2022-04-05T14:33:59.683Z"
   },
   {
    "duration": 27,
    "start_time": "2022-04-05T14:34:34.714Z"
   },
   {
    "duration": 3,
    "start_time": "2022-04-05T14:35:05.492Z"
   },
   {
    "duration": 177,
    "start_time": "2022-04-05T14:35:12.276Z"
   },
   {
    "duration": 5,
    "start_time": "2022-04-05T14:36:31.207Z"
   },
   {
    "duration": 5,
    "start_time": "2022-04-05T14:58:59.467Z"
   },
   {
    "duration": 10,
    "start_time": "2022-04-05T15:00:46.533Z"
   },
   {
    "duration": 67,
    "start_time": "2022-04-05T15:01:18.835Z"
   },
   {
    "duration": 3377,
    "start_time": "2022-04-05T15:01:24.063Z"
   },
   {
    "duration": 188,
    "start_time": "2022-04-05T15:04:21.312Z"
   },
   {
    "duration": 2315,
    "start_time": "2022-04-05T15:04:22.941Z"
   },
   {
    "duration": 10,
    "start_time": "2022-04-05T15:05:43.516Z"
   },
   {
    "duration": 1104,
    "start_time": "2022-04-05T15:05:48.824Z"
   },
   {
    "duration": 1089,
    "start_time": "2022-04-05T15:11:39.448Z"
   },
   {
    "duration": 4,
    "start_time": "2022-04-05T15:15:19.786Z"
   },
   {
    "duration": 3,
    "start_time": "2022-04-05T15:25:12.468Z"
   },
   {
    "duration": 37,
    "start_time": "2022-04-05T15:31:25.626Z"
   },
   {
    "duration": 1352,
    "start_time": "2022-04-05T15:34:00.708Z"
   },
   {
    "duration": 1390,
    "start_time": "2022-04-05T15:34:11.931Z"
   },
   {
    "duration": 44,
    "start_time": "2022-04-05T15:34:24.817Z"
   },
   {
    "duration": 45,
    "start_time": "2022-04-05T15:36:22.843Z"
   },
   {
    "duration": 10,
    "start_time": "2022-04-05T15:45:34.978Z"
   },
   {
    "duration": 10,
    "start_time": "2022-04-05T15:45:50.526Z"
   },
   {
    "duration": 46,
    "start_time": "2022-04-05T15:51:56.116Z"
   },
   {
    "duration": 47,
    "start_time": "2022-04-05T15:54:10.001Z"
   },
   {
    "duration": 78,
    "start_time": "2022-04-05T15:56:10.862Z"
   },
   {
    "duration": 35,
    "start_time": "2022-04-05T15:56:36.446Z"
   },
   {
    "duration": 37,
    "start_time": "2022-04-05T15:56:50.036Z"
   },
   {
    "duration": 47,
    "start_time": "2022-04-05T16:02:08.888Z"
   },
   {
    "duration": 46,
    "start_time": "2022-04-05T16:02:14.120Z"
   },
   {
    "duration": 61,
    "start_time": "2022-04-05T16:03:21.915Z"
   },
   {
    "duration": 16,
    "start_time": "2022-04-05T16:03:56.005Z"
   },
   {
    "duration": 16,
    "start_time": "2022-04-05T16:04:23.249Z"
   },
   {
    "duration": 34,
    "start_time": "2022-04-05T16:05:14.314Z"
   },
   {
    "duration": 35,
    "start_time": "2022-04-05T16:06:12.782Z"
   },
   {
    "duration": 17,
    "start_time": "2022-04-05T16:06:35.147Z"
   },
   {
    "duration": 4,
    "start_time": "2022-04-05T16:07:27.146Z"
   },
   {
    "duration": 10,
    "start_time": "2022-04-05T16:07:48.351Z"
   },
   {
    "duration": 33,
    "start_time": "2022-04-05T16:07:55.192Z"
   },
   {
    "duration": 4,
    "start_time": "2022-04-05T16:09:17.217Z"
   },
   {
    "duration": 18,
    "start_time": "2022-04-05T16:09:21.009Z"
   },
   {
    "duration": 12,
    "start_time": "2022-04-05T16:10:13.007Z"
   },
   {
    "duration": 364,
    "start_time": "2022-04-05T16:10:22.896Z"
   },
   {
    "duration": 131,
    "start_time": "2022-04-05T16:14:51.992Z"
   },
   {
    "duration": 138,
    "start_time": "2022-04-05T16:15:32.918Z"
   },
   {
    "duration": 168,
    "start_time": "2022-04-05T16:20:14.072Z"
   },
   {
    "duration": 1126,
    "start_time": "2022-04-05T16:21:29.627Z"
   },
   {
    "duration": 4085,
    "start_time": "2022-04-05T16:21:39.167Z"
   },
   {
    "duration": 4127,
    "start_time": "2022-04-05T16:21:54.030Z"
   },
   {
    "duration": 4200,
    "start_time": "2022-04-05T16:22:59.864Z"
   },
   {
    "duration": 4296,
    "start_time": "2022-04-05T16:23:07.854Z"
   },
   {
    "duration": 95,
    "start_time": "2022-04-05T16:23:48.511Z"
   },
   {
    "duration": 14,
    "start_time": "2022-04-05T16:23:55.374Z"
   },
   {
    "duration": 144,
    "start_time": "2022-04-05T16:24:54.506Z"
   },
   {
    "duration": 483,
    "start_time": "2022-04-05T16:25:29.268Z"
   },
   {
    "duration": 168,
    "start_time": "2022-04-05T16:26:21.593Z"
   },
   {
    "duration": 177,
    "start_time": "2022-04-05T16:26:28.290Z"
   },
   {
    "duration": 18,
    "start_time": "2022-04-05T16:27:57.107Z"
   },
   {
    "duration": 15,
    "start_time": "2022-04-05T16:28:06.579Z"
   },
   {
    "duration": 255,
    "start_time": "2022-04-05T16:28:45.706Z"
   },
   {
    "duration": 209,
    "start_time": "2022-04-05T16:29:17.546Z"
   },
   {
    "duration": 214,
    "start_time": "2022-04-05T16:35:10.734Z"
   },
   {
    "duration": 3317,
    "start_time": "2022-04-05T16:37:17.837Z"
   },
   {
    "duration": 7452,
    "start_time": "2022-04-05T16:37:57.898Z"
   },
   {
    "duration": 37,
    "start_time": "2022-04-05T16:40:21.440Z"
   },
   {
    "duration": 1009,
    "start_time": "2022-04-05T16:43:08.518Z"
   },
   {
    "duration": 176,
    "start_time": "2022-04-05T16:43:49.310Z"
   },
   {
    "duration": 3,
    "start_time": "2022-04-05T16:43:59.109Z"
   },
   {
    "duration": 35,
    "start_time": "2022-04-05T16:44:12.935Z"
   },
   {
    "duration": 4248,
    "start_time": "2022-04-05T16:45:27.016Z"
   },
   {
    "duration": 1248,
    "start_time": "2022-04-05T16:45:36.940Z"
   },
   {
    "duration": 4,
    "start_time": "2022-04-05T16:48:12.361Z"
   },
   {
    "duration": 16,
    "start_time": "2022-04-05T16:48:23.825Z"
   },
   {
    "duration": 3,
    "start_time": "2022-04-05T16:49:15.665Z"
   },
   {
    "duration": 48,
    "start_time": "2022-04-05T16:49:21.494Z"
   },
   {
    "duration": 242,
    "start_time": "2022-04-05T16:54:00.007Z"
   },
   {
    "duration": 1062,
    "start_time": "2022-04-05T16:54:01.319Z"
   },
   {
    "duration": 1614,
    "start_time": "2022-04-05T16:54:08.879Z"
   },
   {
    "duration": 806,
    "start_time": "2022-04-05T16:54:26.283Z"
   },
   {
    "duration": 3,
    "start_time": "2022-04-05T16:54:32.092Z"
   },
   {
    "duration": 23,
    "start_time": "2022-04-05T16:54:34.227Z"
   },
   {
    "duration": 20,
    "start_time": "2022-04-05T16:54:40.638Z"
   },
   {
    "duration": 3881,
    "start_time": "2022-04-05T16:54:48.672Z"
   },
   {
    "duration": 394,
    "start_time": "2022-04-05T16:55:12.746Z"
   },
   {
    "duration": 3959,
    "start_time": "2022-04-05T16:55:16.987Z"
   },
   {
    "duration": 5322,
    "start_time": "2022-04-05T16:57:00.928Z"
   },
   {
    "duration": 3979,
    "start_time": "2022-04-05T16:57:34.060Z"
   },
   {
    "duration": 217,
    "start_time": "2022-04-05T16:57:42.870Z"
   },
   {
    "duration": 1018,
    "start_time": "2022-04-05T16:57:44.083Z"
   },
   {
    "duration": 3,
    "start_time": "2022-04-05T16:57:46.345Z"
   },
   {
    "duration": 21,
    "start_time": "2022-04-05T16:57:47.187Z"
   },
   {
    "duration": 3925,
    "start_time": "2022-04-05T16:57:48.122Z"
   },
   {
    "duration": 10,
    "start_time": "2022-04-05T16:58:40.975Z"
   },
   {
    "duration": 20,
    "start_time": "2022-04-05T16:58:54.104Z"
   },
   {
    "duration": 165,
    "start_time": "2022-04-05T17:01:50.499Z"
   },
   {
    "duration": 1027,
    "start_time": "2022-04-05T17:01:53.591Z"
   },
   {
    "duration": 3,
    "start_time": "2022-04-05T17:05:33.702Z"
   },
   {
    "duration": 10,
    "start_time": "2022-04-05T17:06:47.075Z"
   },
   {
    "duration": 10,
    "start_time": "2022-04-05T17:06:56.199Z"
   },
   {
    "duration": 10,
    "start_time": "2022-04-05T17:07:19.081Z"
   },
   {
    "duration": 38,
    "start_time": "2022-04-05T17:07:30.554Z"
   },
   {
    "duration": 10,
    "start_time": "2022-04-05T17:07:53.101Z"
   },
   {
    "duration": 50,
    "start_time": "2022-04-05T17:08:45.504Z"
   },
   {
    "duration": 224,
    "start_time": "2022-04-05T17:09:06.045Z"
   },
   {
    "duration": 14,
    "start_time": "2022-04-05T17:09:13.809Z"
   },
   {
    "duration": 4,
    "start_time": "2022-04-05T17:09:53.882Z"
   },
   {
    "duration": 4773,
    "start_time": "2022-04-05T17:12:00.268Z"
   },
   {
    "duration": 6244,
    "start_time": "2022-04-05T17:12:11.505Z"
   },
   {
    "duration": 4715,
    "start_time": "2022-04-05T17:13:00.837Z"
   },
   {
    "duration": 19,
    "start_time": "2022-04-05T17:13:13.133Z"
   },
   {
    "duration": 11243,
    "start_time": "2022-04-05T17:17:27.006Z"
   },
   {
    "duration": 16657,
    "start_time": "2022-04-05T17:17:59.000Z"
   },
   {
    "duration": 21989,
    "start_time": "2022-04-05T17:19:12.568Z"
   },
   {
    "duration": 9541,
    "start_time": "2022-04-05T17:19:44.415Z"
   },
   {
    "duration": 19013,
    "start_time": "2022-04-05T17:19:56.137Z"
   },
   {
    "duration": 11666,
    "start_time": "2022-04-05T17:20:43.487Z"
   },
   {
    "duration": 233,
    "start_time": "2022-04-05T17:21:58.024Z"
   },
   {
    "duration": 266,
    "start_time": "2022-04-05T17:39:01.812Z"
   },
   {
    "duration": 272,
    "start_time": "2022-04-05T17:39:52.458Z"
   },
   {
    "duration": 14,
    "start_time": "2022-04-05T17:41:47.022Z"
   },
   {
    "duration": 10,
    "start_time": "2022-04-05T17:41:57.960Z"
   },
   {
    "duration": 18,
    "start_time": "2022-04-05T17:42:22.191Z"
   },
   {
    "duration": 16,
    "start_time": "2022-04-05T17:42:57.224Z"
   },
   {
    "duration": 18,
    "start_time": "2022-04-05T17:43:16.316Z"
   },
   {
    "duration": 382,
    "start_time": "2022-04-05T17:46:47.561Z"
   },
   {
    "duration": 11,
    "start_time": "2022-04-05T17:47:12.897Z"
   },
   {
    "duration": 347,
    "start_time": "2022-04-05T17:51:07.846Z"
   },
   {
    "duration": 35,
    "start_time": "2022-04-05T17:52:43.776Z"
   },
   {
    "duration": 15,
    "start_time": "2022-04-05T17:56:01.510Z"
   },
   {
    "duration": 15,
    "start_time": "2022-04-05T17:56:14.966Z"
   },
   {
    "duration": 94,
    "start_time": "2022-04-05T17:56:31.445Z"
   },
   {
    "duration": 334,
    "start_time": "2022-04-05T17:59:26.409Z"
   },
   {
    "duration": 4,
    "start_time": "2022-04-05T18:11:56.608Z"
   },
   {
    "duration": 16,
    "start_time": "2022-04-05T18:19:48.956Z"
   },
   {
    "duration": 10,
    "start_time": "2022-04-05T18:20:17.957Z"
   },
   {
    "duration": 16,
    "start_time": "2022-04-05T18:20:46.670Z"
   },
   {
    "duration": 33506,
    "start_time": "2022-04-05T18:22:45.855Z"
   },
   {
    "duration": 12908,
    "start_time": "2022-04-05T18:23:25.838Z"
   },
   {
    "duration": 77256,
    "start_time": "2022-04-05T18:24:47.006Z"
   },
   {
    "duration": 13688,
    "start_time": "2022-04-05T18:26:08.360Z"
   },
   {
    "duration": 337648,
    "start_time": "2022-04-05T18:32:55.008Z"
   },
   {
    "duration": 269015,
    "start_time": "2022-04-05T18:40:49.436Z"
   },
   {
    "duration": 2261,
    "start_time": "2022-04-05T18:45:48.714Z"
   },
   {
    "duration": 15,
    "start_time": "2022-04-05T18:46:31.443Z"
   },
   {
    "duration": 236,
    "start_time": "2022-04-05T18:47:33.509Z"
   },
   {
    "duration": 884,
    "start_time": "2022-04-05T18:47:35.022Z"
   },
   {
    "duration": 87,
    "start_time": "2022-04-05T18:48:55.097Z"
   },
   {
    "duration": 15,
    "start_time": "2022-04-05T18:49:03.686Z"
   },
   {
    "duration": 1087,
    "start_time": "2022-04-05T18:56:51.362Z"
   },
   {
    "duration": 14,
    "start_time": "2022-04-05T18:57:05.740Z"
   },
   {
    "duration": 789,
    "start_time": "2022-04-05T18:57:36.779Z"
   },
   {
    "duration": 1419,
    "start_time": "2022-04-05T18:58:55.926Z"
   },
   {
    "duration": 20,
    "start_time": "2022-04-05T19:02:21.060Z"
   },
   {
    "duration": 59,
    "start_time": "2022-04-05T19:02:38.824Z"
   },
   {
    "duration": 17,
    "start_time": "2022-04-05T19:03:45.021Z"
   },
   {
    "duration": 12,
    "start_time": "2022-04-05T19:09:54.919Z"
   },
   {
    "duration": 12,
    "start_time": "2022-04-05T19:10:21.049Z"
   },
   {
    "duration": 12,
    "start_time": "2022-04-05T19:10:46.599Z"
   },
   {
    "duration": 14,
    "start_time": "2022-04-05T19:11:12.755Z"
   },
   {
    "duration": 1167,
    "start_time": "2022-04-05T19:12:02.505Z"
   },
   {
    "duration": 109,
    "start_time": "2022-04-05T19:15:26.655Z"
   },
   {
    "duration": 10,
    "start_time": "2022-04-05T19:15:33.299Z"
   },
   {
    "duration": 9377,
    "start_time": "2022-04-05T19:15:54.709Z"
   },
   {
    "duration": 117806,
    "start_time": "2022-04-05T19:17:28.817Z"
   },
   {
    "duration": 8203,
    "start_time": "2022-04-05T19:20:07.939Z"
   },
   {
    "duration": 78,
    "start_time": "2022-04-05T19:22:41.978Z"
   },
   {
    "duration": 2369,
    "start_time": "2022-04-05T19:22:47.904Z"
   },
   {
    "duration": 57512,
    "start_time": "2022-04-05T19:23:06.143Z"
   },
   {
    "duration": 87,
    "start_time": "2022-04-05T19:24:05.912Z"
   },
   {
    "duration": 15,
    "start_time": "2022-04-05T19:24:12.282Z"
   },
   {
    "duration": 13184,
    "start_time": "2022-04-05T19:24:35.378Z"
   },
   {
    "duration": 13662,
    "start_time": "2022-04-05T19:27:26.809Z"
   },
   {
    "duration": 10763,
    "start_time": "2022-04-05T19:28:25.366Z"
   },
   {
    "duration": 15806,
    "start_time": "2022-04-05T19:28:59.026Z"
   },
   {
    "duration": 1374,
    "start_time": "2022-04-05T19:39:16.379Z"
   },
   {
    "duration": 1504,
    "start_time": "2022-04-05T19:39:24.716Z"
   },
   {
    "duration": 12085,
    "start_time": "2022-04-05T19:39:38.654Z"
   },
   {
    "duration": 11902,
    "start_time": "2022-04-05T19:40:10.898Z"
   },
   {
    "duration": 12244,
    "start_time": "2022-04-05T19:41:22.966Z"
   },
   {
    "duration": 13851,
    "start_time": "2022-04-05T19:41:47.400Z"
   },
   {
    "duration": 11738,
    "start_time": "2022-04-05T19:44:31.406Z"
   },
   {
    "duration": 16,
    "start_time": "2022-04-05T19:49:24.620Z"
   },
   {
    "duration": 11836,
    "start_time": "2022-04-05T19:49:27.826Z"
   },
   {
    "duration": 36,
    "start_time": "2022-04-05T20:11:50.728Z"
   },
   {
    "duration": 364,
    "start_time": "2022-04-05T20:11:56.847Z"
   },
   {
    "duration": 34,
    "start_time": "2022-04-05T20:11:57.995Z"
   },
   {
    "duration": 34,
    "start_time": "2022-04-05T20:12:19.022Z"
   },
   {
    "duration": 32,
    "start_time": "2022-04-05T20:12:35.372Z"
   },
   {
    "duration": 67,
    "start_time": "2022-04-05T20:12:46.777Z"
   },
   {
    "duration": 3,
    "start_time": "2022-04-05T20:36:30.785Z"
   },
   {
    "duration": 3,
    "start_time": "2022-04-05T20:36:33.214Z"
   },
   {
    "duration": 732,
    "start_time": "2022-04-05T20:36:34.800Z"
   },
   {
    "duration": 17,
    "start_time": "2022-04-05T20:36:37.050Z"
   },
   {
    "duration": 76,
    "start_time": "2022-04-05T20:36:38.670Z"
   },
   {
    "duration": 101,
    "start_time": "2022-04-05T20:36:42.798Z"
   },
   {
    "duration": 222,
    "start_time": "2022-04-05T20:36:44.519Z"
   },
   {
    "duration": 1155,
    "start_time": "2022-04-05T20:36:57.994Z"
   },
   {
    "duration": 2,
    "start_time": "2022-04-05T20:36:59.151Z"
   },
   {
    "duration": 828,
    "start_time": "2022-04-05T20:36:59.155Z"
   },
   {
    "duration": 31,
    "start_time": "2022-04-05T20:36:59.985Z"
   },
   {
    "duration": 98,
    "start_time": "2022-04-05T20:37:00.019Z"
   },
   {
    "duration": 119,
    "start_time": "2022-04-05T20:37:00.119Z"
   },
   {
    "duration": 259,
    "start_time": "2022-04-05T20:37:00.240Z"
   },
   {
    "duration": 66,
    "start_time": "2022-04-05T20:37:00.501Z"
   },
   {
    "duration": 834,
    "start_time": "2022-04-05T20:37:00.568Z"
   },
   {
    "duration": 19,
    "start_time": "2022-04-05T20:37:01.404Z"
   },
   {
    "duration": 58,
    "start_time": "2022-04-05T20:37:01.425Z"
   },
   {
    "duration": 6,
    "start_time": "2022-04-05T20:37:01.485Z"
   },
   {
    "duration": 57,
    "start_time": "2022-04-05T20:37:01.493Z"
   },
   {
    "duration": 7,
    "start_time": "2022-04-05T20:37:01.555Z"
   },
   {
    "duration": 300,
    "start_time": "2022-04-05T20:37:01.563Z"
   },
   {
    "duration": 7,
    "start_time": "2022-04-05T20:37:01.865Z"
   },
   {
    "duration": 37,
    "start_time": "2022-04-05T20:37:01.874Z"
   },
   {
    "duration": 113,
    "start_time": "2022-04-05T20:37:01.913Z"
   },
   {
    "duration": 358,
    "start_time": "2022-04-05T20:37:02.028Z"
   },
   {
    "duration": 13,
    "start_time": "2022-04-05T20:37:02.388Z"
   },
   {
    "duration": 386,
    "start_time": "2022-04-05T20:37:02.403Z"
   },
   {
    "duration": 914,
    "start_time": "2022-04-05T20:37:02.791Z"
   },
   {
    "duration": 19,
    "start_time": "2022-04-05T20:37:03.708Z"
   },
   {
    "duration": 11612,
    "start_time": "2022-04-05T20:37:03.728Z"
   },
   {
    "duration": 2,
    "start_time": "2022-04-05T20:37:15.342Z"
   },
   {
    "duration": 9,
    "start_time": "2022-04-05T20:37:15.346Z"
   },
   {
    "duration": 51489,
    "start_time": "2022-04-05T20:37:15.356Z"
   },
   {
    "duration": 500,
    "start_time": "2022-04-05T20:38:06.847Z"
   },
   {
    "duration": 91,
    "start_time": "2022-04-05T20:38:07.348Z"
   },
   {
    "duration": 3,
    "start_time": "2022-04-05T20:40:59.235Z"
   },
   {
    "duration": 5,
    "start_time": "2022-04-05T20:41:08.021Z"
   },
   {
    "duration": 3654,
    "start_time": "2022-04-05T20:43:11.593Z"
   },
   {
    "duration": 3481,
    "start_time": "2022-04-05T20:43:34.927Z"
   },
   {
    "duration": 8861,
    "start_time": "2022-04-05T20:48:19.693Z"
   },
   {
    "duration": 124,
    "start_time": "2022-04-05T20:49:38.217Z"
   },
   {
    "duration": 1127,
    "start_time": "2022-04-06T07:50:20.080Z"
   },
   {
    "duration": 3,
    "start_time": "2022-04-06T07:50:21.209Z"
   },
   {
    "duration": 819,
    "start_time": "2022-04-06T07:50:21.213Z"
   },
   {
    "duration": 21,
    "start_time": "2022-04-06T07:50:22.034Z"
   },
   {
    "duration": 73,
    "start_time": "2022-04-06T07:50:22.057Z"
   },
   {
    "duration": 86,
    "start_time": "2022-04-06T07:50:22.132Z"
   },
   {
    "duration": 223,
    "start_time": "2022-04-06T07:50:22.219Z"
   },
   {
    "duration": 44,
    "start_time": "2022-04-06T07:50:22.443Z"
   },
   {
    "duration": 842,
    "start_time": "2022-04-06T07:50:22.489Z"
   },
   {
    "duration": 16,
    "start_time": "2022-04-06T07:50:23.334Z"
   },
   {
    "duration": 37,
    "start_time": "2022-04-06T07:50:23.352Z"
   },
   {
    "duration": 5,
    "start_time": "2022-04-06T07:50:23.390Z"
   },
   {
    "duration": 59,
    "start_time": "2022-04-06T07:50:23.397Z"
   },
   {
    "duration": 5,
    "start_time": "2022-04-06T07:50:23.457Z"
   },
   {
    "duration": 312,
    "start_time": "2022-04-06T07:50:23.463Z"
   },
   {
    "duration": 5,
    "start_time": "2022-04-06T07:50:23.776Z"
   },
   {
    "duration": 28,
    "start_time": "2022-04-06T07:50:23.782Z"
   },
   {
    "duration": 88,
    "start_time": "2022-04-06T07:50:23.811Z"
   },
   {
    "duration": 335,
    "start_time": "2022-04-06T07:50:23.901Z"
   },
   {
    "duration": 13,
    "start_time": "2022-04-06T07:50:24.238Z"
   },
   {
    "duration": 267,
    "start_time": "2022-04-06T07:50:24.253Z"
   },
   {
    "duration": 8,
    "start_time": "2022-04-06T07:50:24.522Z"
   },
   {
    "duration": 27,
    "start_time": "2022-04-06T07:50:24.532Z"
   },
   {
    "duration": 11764,
    "start_time": "2022-04-06T07:50:24.561Z"
   },
   {
    "duration": 2,
    "start_time": "2022-04-06T07:50:36.327Z"
   },
   {
    "duration": 8,
    "start_time": "2022-04-06T07:50:36.330Z"
   },
   {
    "duration": 41004,
    "start_time": "2022-04-06T07:50:36.340Z"
   },
   {
    "duration": 347,
    "start_time": "2022-04-06T07:51:17.429Z"
   },
   {
    "duration": 155,
    "start_time": "2022-04-06T07:51:17.778Z"
   },
   {
    "duration": 3481,
    "start_time": "2022-04-06T07:51:17.935Z"
   },
   {
    "duration": 8333,
    "start_time": "2022-04-06T07:51:21.417Z"
   },
   {
    "duration": 179,
    "start_time": "2022-04-06T07:51:29.751Z"
   },
   {
    "duration": 1194,
    "start_time": "2022-04-06T20:28:40.077Z"
   },
   {
    "duration": 3,
    "start_time": "2022-04-06T20:28:41.273Z"
   },
   {
    "duration": 793,
    "start_time": "2022-04-06T20:28:41.277Z"
   },
   {
    "duration": 26,
    "start_time": "2022-04-06T20:28:42.072Z"
   },
   {
    "duration": 84,
    "start_time": "2022-04-06T20:28:42.100Z"
   },
   {
    "duration": 140,
    "start_time": "2022-04-06T20:28:42.186Z"
   },
   {
    "duration": 293,
    "start_time": "2022-04-06T20:28:42.327Z"
   },
   {
    "duration": 50,
    "start_time": "2022-04-06T20:28:42.622Z"
   },
   {
    "duration": 1044,
    "start_time": "2022-04-06T20:28:42.674Z"
   },
   {
    "duration": 25,
    "start_time": "2022-04-06T20:28:43.722Z"
   },
   {
    "duration": 60,
    "start_time": "2022-04-06T20:28:43.749Z"
   },
   {
    "duration": 6,
    "start_time": "2022-04-06T20:28:43.810Z"
   },
   {
    "duration": 45,
    "start_time": "2022-04-06T20:28:43.818Z"
   },
   {
    "duration": 6,
    "start_time": "2022-04-06T20:28:43.864Z"
   },
   {
    "duration": 404,
    "start_time": "2022-04-06T20:28:43.872Z"
   },
   {
    "duration": 5,
    "start_time": "2022-04-06T20:28:44.278Z"
   },
   {
    "duration": 48,
    "start_time": "2022-04-06T20:28:44.285Z"
   },
   {
    "duration": 99,
    "start_time": "2022-04-06T20:28:44.335Z"
   },
   {
    "duration": 355,
    "start_time": "2022-04-06T20:28:44.435Z"
   },
   {
    "duration": 17,
    "start_time": "2022-04-06T20:28:44.791Z"
   },
   {
    "duration": 219,
    "start_time": "2022-04-06T20:28:44.810Z"
   },
   {
    "duration": 4,
    "start_time": "2022-04-06T20:28:45.030Z"
   },
   {
    "duration": 22,
    "start_time": "2022-04-06T20:28:45.036Z"
   },
   {
    "duration": 11238,
    "start_time": "2022-04-06T20:28:45.060Z"
   },
   {
    "duration": 2,
    "start_time": "2022-04-06T20:28:56.300Z"
   },
   {
    "duration": 7,
    "start_time": "2022-04-06T20:28:56.304Z"
   },
   {
    "duration": 52810,
    "start_time": "2022-04-06T20:28:56.313Z"
   },
   {
    "duration": 513,
    "start_time": "2022-04-06T20:29:49.126Z"
   },
   {
    "duration": 173,
    "start_time": "2022-04-06T20:29:49.641Z"
   },
   {
    "duration": 5987,
    "start_time": "2022-04-06T20:29:49.816Z"
   },
   {
    "duration": 9223,
    "start_time": "2022-04-06T20:29:55.804Z"
   },
   {
    "duration": 185,
    "start_time": "2022-04-06T20:30:05.028Z"
   },
   {
    "duration": 50,
    "start_time": "2022-04-06T20:51:19.973Z"
   },
   {
    "duration": 4,
    "start_time": "2022-04-06T20:59:52.100Z"
   },
   {
    "duration": 25923,
    "start_time": "2022-04-06T21:02:13.654Z"
   },
   {
    "duration": 10605,
    "start_time": "2022-04-06T21:02:47.434Z"
   },
   {
    "duration": 11084,
    "start_time": "2022-04-06T21:03:19.141Z"
   },
   {
    "duration": 78,
    "start_time": "2022-04-06T21:14:30.401Z"
   },
   {
    "duration": 26725,
    "start_time": "2022-04-06T21:21:38.103Z"
   },
   {
    "duration": 976,
    "start_time": "2022-04-06T21:22:12.453Z"
   },
   {
    "duration": 2451,
    "start_time": "2022-04-06T21:22:18.516Z"
   },
   {
    "duration": 2593,
    "start_time": "2022-04-06T21:22:54.758Z"
   },
   {
    "duration": 3229,
    "start_time": "2022-04-06T21:23:04.885Z"
   },
   {
    "duration": 1712922,
    "start_time": "2022-04-06T21:24:26.728Z"
   },
   {
    "duration": 3624,
    "start_time": "2022-04-06T21:52:59.652Z"
   },
   {
    "duration": 3242,
    "start_time": "2022-04-06T21:54:06.158Z"
   },
   {
    "duration": 1666,
    "start_time": "2022-04-06T23:49:46.643Z"
   },
   {
    "duration": 5,
    "start_time": "2022-04-06T23:49:48.312Z"
   },
   {
    "duration": 1064,
    "start_time": "2022-04-06T23:49:48.320Z"
   },
   {
    "duration": 40,
    "start_time": "2022-04-06T23:49:49.387Z"
   },
   {
    "duration": 124,
    "start_time": "2022-04-06T23:49:49.431Z"
   },
   {
    "duration": 162,
    "start_time": "2022-04-06T23:49:49.558Z"
   },
   {
    "duration": 391,
    "start_time": "2022-04-06T23:49:49.723Z"
   },
   {
    "duration": 83,
    "start_time": "2022-04-06T23:49:50.117Z"
   },
   {
    "duration": 1498,
    "start_time": "2022-04-06T23:49:50.203Z"
   },
   {
    "duration": 32,
    "start_time": "2022-04-06T23:49:51.704Z"
   },
   {
    "duration": 101,
    "start_time": "2022-04-06T23:49:51.739Z"
   },
   {
    "duration": 31,
    "start_time": "2022-04-06T23:49:51.843Z"
   },
   {
    "duration": 64,
    "start_time": "2022-04-06T23:49:51.876Z"
   },
   {
    "duration": 27,
    "start_time": "2022-04-06T23:49:51.945Z"
   },
   {
    "duration": 596,
    "start_time": "2022-04-06T23:49:51.974Z"
   },
   {
    "duration": 7,
    "start_time": "2022-04-06T23:49:52.572Z"
   },
   {
    "duration": 52,
    "start_time": "2022-04-06T23:49:52.582Z"
   },
   {
    "duration": 157,
    "start_time": "2022-04-06T23:49:52.637Z"
   },
   {
    "duration": 536,
    "start_time": "2022-04-06T23:49:52.797Z"
   },
   {
    "duration": 17,
    "start_time": "2022-04-06T23:49:53.336Z"
   },
   {
    "duration": 334,
    "start_time": "2022-04-06T23:49:53.366Z"
   },
   {
    "duration": 6,
    "start_time": "2022-04-06T23:49:53.703Z"
   },
   {
    "duration": 31,
    "start_time": "2022-04-06T23:49:53.712Z"
   },
   {
    "duration": 17611,
    "start_time": "2022-04-06T23:49:53.746Z"
   },
   {
    "duration": 3,
    "start_time": "2022-04-06T23:50:11.360Z"
   },
   {
    "duration": 9,
    "start_time": "2022-04-06T23:50:11.365Z"
   },
   {
    "duration": 64105,
    "start_time": "2022-04-06T23:50:11.376Z"
   },
   {
    "duration": 634,
    "start_time": "2022-04-06T23:51:15.483Z"
   },
   {
    "duration": 250,
    "start_time": "2022-04-06T23:51:16.120Z"
   },
   {
    "duration": 5255,
    "start_time": "2022-04-06T23:51:16.373Z"
   },
   {
    "duration": 12055,
    "start_time": "2022-04-06T23:51:21.631Z"
   },
   {
    "duration": 180,
    "start_time": "2022-04-06T23:51:33.688Z"
   },
   {
    "duration": 5443,
    "start_time": "2022-04-06T23:53:54.968Z"
   },
   {
    "duration": 92,
    "start_time": "2022-04-06T23:54:56.280Z"
   },
   {
    "duration": 12127,
    "start_time": "2022-04-06T23:54:59.655Z"
   },
   {
    "duration": 16706,
    "start_time": "2022-04-06T23:57:57.240Z"
   },
   {
    "duration": 23,
    "start_time": "2022-04-06T23:58:32.205Z"
   },
   {
    "duration": 5,
    "start_time": "2022-04-07T00:01:21.273Z"
   },
   {
    "duration": 57,
    "start_time": "2022-04-07T00:03:02.266Z"
   },
   {
    "duration": 173,
    "start_time": "2022-04-07T00:03:45.803Z"
   },
   {
    "duration": 1141,
    "start_time": "2022-04-07T00:04:43.327Z"
   },
   {
    "duration": 1326,
    "start_time": "2022-04-07T00:05:10.361Z"
   },
   {
    "duration": 28,
    "start_time": "2022-04-07T00:07:55.514Z"
   },
   {
    "duration": 2237,
    "start_time": "2022-04-07T00:12:37.230Z"
   },
   {
    "duration": 18,
    "start_time": "2022-04-07T00:12:42.045Z"
   },
   {
    "duration": 139,
    "start_time": "2022-04-07T00:13:52.550Z"
   },
   {
    "duration": 785,
    "start_time": "2022-04-07T00:14:01.774Z"
   },
   {
    "duration": 989,
    "start_time": "2022-04-07T00:14:15.365Z"
   },
   {
    "duration": 11,
    "start_time": "2022-04-07T00:23:26.839Z"
   },
   {
    "duration": 18,
    "start_time": "2022-04-07T00:23:53.736Z"
   },
   {
    "duration": 77,
    "start_time": "2022-04-07T00:24:19.636Z"
   },
   {
    "duration": 69,
    "start_time": "2022-04-07T00:27:27.125Z"
   },
   {
    "duration": 1711,
    "start_time": "2022-04-07T00:27:39.039Z"
   },
   {
    "duration": 3,
    "start_time": "2022-04-07T00:27:40.753Z"
   },
   {
    "duration": 1057,
    "start_time": "2022-04-07T00:27:40.758Z"
   },
   {
    "duration": 39,
    "start_time": "2022-04-07T00:27:41.818Z"
   },
   {
    "duration": 108,
    "start_time": "2022-04-07T00:27:41.868Z"
   },
   {
    "duration": 160,
    "start_time": "2022-04-07T00:27:41.979Z"
   },
   {
    "duration": 391,
    "start_time": "2022-04-07T00:27:42.141Z"
   },
   {
    "duration": 73,
    "start_time": "2022-04-07T00:27:42.534Z"
   },
   {
    "duration": 1466,
    "start_time": "2022-04-07T00:27:42.609Z"
   },
   {
    "duration": 29,
    "start_time": "2022-04-07T00:27:44.079Z"
   },
   {
    "duration": 81,
    "start_time": "2022-04-07T00:27:44.110Z"
   },
   {
    "duration": 8,
    "start_time": "2022-04-07T00:27:44.193Z"
   },
   {
    "duration": 81,
    "start_time": "2022-04-07T00:27:44.204Z"
   },
   {
    "duration": 7,
    "start_time": "2022-04-07T00:27:44.287Z"
   },
   {
    "duration": 505,
    "start_time": "2022-04-07T00:27:44.296Z"
   },
   {
    "duration": 6,
    "start_time": "2022-04-07T00:27:44.803Z"
   },
   {
    "duration": 74,
    "start_time": "2022-04-07T00:27:44.811Z"
   },
   {
    "duration": 112,
    "start_time": "2022-04-07T00:27:44.887Z"
   },
   {
    "duration": 440,
    "start_time": "2022-04-07T00:27:45.002Z"
   },
   {
    "duration": 24,
    "start_time": "2022-04-07T00:27:45.444Z"
   },
   {
    "duration": 397,
    "start_time": "2022-04-07T00:27:45.470Z"
   },
   {
    "duration": 6,
    "start_time": "2022-04-07T00:27:45.869Z"
   },
   {
    "duration": 26,
    "start_time": "2022-04-07T00:27:45.877Z"
   },
   {
    "duration": 17478,
    "start_time": "2022-04-07T00:27:45.905Z"
   },
   {
    "duration": 24,
    "start_time": "2022-04-07T00:28:03.385Z"
   },
   {
    "duration": 5,
    "start_time": "2022-04-07T00:28:03.411Z"
   },
   {
    "duration": 6,
    "start_time": "2022-04-07T00:28:03.419Z"
   },
   {
    "duration": 28726,
    "start_time": "2022-04-07T00:28:03.430Z"
   },
   {
    "duration": 0,
    "start_time": "2022-04-07T00:28:32.159Z"
   },
   {
    "duration": 1,
    "start_time": "2022-04-07T00:28:32.167Z"
   },
   {
    "duration": 0,
    "start_time": "2022-04-07T00:28:32.169Z"
   },
   {
    "duration": 0,
    "start_time": "2022-04-07T00:28:32.171Z"
   },
   {
    "duration": 0,
    "start_time": "2022-04-07T00:28:32.172Z"
   },
   {
    "duration": 0,
    "start_time": "2022-04-07T00:28:32.174Z"
   },
   {
    "duration": 0,
    "start_time": "2022-04-07T00:28:32.175Z"
   },
   {
    "duration": 12,
    "start_time": "2022-04-07T00:28:55.490Z"
   },
   {
    "duration": 33,
    "start_time": "2022-04-07T00:29:13.806Z"
   },
   {
    "duration": 4155,
    "start_time": "2022-04-07T00:29:16.537Z"
   },
   {
    "duration": 66,
    "start_time": "2022-04-07T00:29:53.941Z"
   },
   {
    "duration": 1674,
    "start_time": "2022-04-07T00:30:13.550Z"
   },
   {
    "duration": 3,
    "start_time": "2022-04-07T00:30:15.228Z"
   },
   {
    "duration": 1044,
    "start_time": "2022-04-07T00:30:15.233Z"
   },
   {
    "duration": 38,
    "start_time": "2022-04-07T00:30:16.279Z"
   },
   {
    "duration": 120,
    "start_time": "2022-04-07T00:30:16.321Z"
   },
   {
    "duration": 158,
    "start_time": "2022-04-07T00:30:16.443Z"
   },
   {
    "duration": 396,
    "start_time": "2022-04-07T00:30:16.604Z"
   },
   {
    "duration": 77,
    "start_time": "2022-04-07T00:30:17.002Z"
   },
   {
    "duration": 1266,
    "start_time": "2022-04-07T00:30:17.081Z"
   },
   {
    "duration": 42,
    "start_time": "2022-04-07T00:30:18.349Z"
   },
   {
    "duration": 58,
    "start_time": "2022-04-07T00:30:18.393Z"
   },
   {
    "duration": 22,
    "start_time": "2022-04-07T00:30:18.453Z"
   },
   {
    "duration": 59,
    "start_time": "2022-04-07T00:30:18.477Z"
   },
   {
    "duration": 32,
    "start_time": "2022-04-07T00:30:18.540Z"
   },
   {
    "duration": 501,
    "start_time": "2022-04-07T00:30:18.574Z"
   },
   {
    "duration": 7,
    "start_time": "2022-04-07T00:30:19.077Z"
   },
   {
    "duration": 51,
    "start_time": "2022-04-07T00:30:19.086Z"
   },
   {
    "duration": 135,
    "start_time": "2022-04-07T00:30:19.140Z"
   },
   {
    "duration": 420,
    "start_time": "2022-04-07T00:30:19.278Z"
   },
   {
    "duration": 17,
    "start_time": "2022-04-07T00:30:19.700Z"
   },
   {
    "duration": 420,
    "start_time": "2022-04-07T00:30:19.719Z"
   },
   {
    "duration": 5,
    "start_time": "2022-04-07T00:30:20.141Z"
   },
   {
    "duration": 43,
    "start_time": "2022-04-07T00:30:20.149Z"
   },
   {
    "duration": 9598,
    "start_time": "2022-04-07T00:30:20.194Z"
   },
   {
    "duration": 0,
    "start_time": "2022-04-07T00:30:29.794Z"
   },
   {
    "duration": 0,
    "start_time": "2022-04-07T00:30:29.796Z"
   },
   {
    "duration": 0,
    "start_time": "2022-04-07T00:30:29.798Z"
   },
   {
    "duration": 0,
    "start_time": "2022-04-07T00:30:29.800Z"
   },
   {
    "duration": 0,
    "start_time": "2022-04-07T00:30:29.801Z"
   },
   {
    "duration": 1,
    "start_time": "2022-04-07T00:30:29.802Z"
   },
   {
    "duration": 0,
    "start_time": "2022-04-07T00:30:29.804Z"
   },
   {
    "duration": 0,
    "start_time": "2022-04-07T00:30:29.806Z"
   },
   {
    "duration": 0,
    "start_time": "2022-04-07T00:30:29.807Z"
   },
   {
    "duration": 0,
    "start_time": "2022-04-07T00:30:29.808Z"
   },
   {
    "duration": 0,
    "start_time": "2022-04-07T00:30:29.809Z"
   },
   {
    "duration": 11,
    "start_time": "2022-04-07T00:30:45.534Z"
   },
   {
    "duration": 35,
    "start_time": "2022-04-07T00:30:49.342Z"
   },
   {
    "duration": 132,
    "start_time": "2022-04-07T00:30:50.411Z"
   },
   {
    "duration": 17401,
    "start_time": "2022-04-07T00:31:32.171Z"
   },
   {
    "duration": 23,
    "start_time": "2022-04-07T00:32:00.611Z"
   },
   {
    "duration": 5024,
    "start_time": "2022-04-07T00:32:32.213Z"
   },
   {
    "duration": 5032,
    "start_time": "2022-04-07T00:34:29.417Z"
   },
   {
    "duration": 27,
    "start_time": "2022-04-07T00:38:54.573Z"
   },
   {
    "duration": 14,
    "start_time": "2022-04-07T00:39:00.187Z"
   },
   {
    "duration": 19,
    "start_time": "2022-04-07T00:39:29.134Z"
   },
   {
    "duration": 19,
    "start_time": "2022-04-07T00:42:30.469Z"
   },
   {
    "duration": 9,
    "start_time": "2022-04-07T00:43:11.663Z"
   },
   {
    "duration": 12,
    "start_time": "2022-04-07T00:45:48.346Z"
   },
   {
    "duration": 538,
    "start_time": "2022-04-07T00:45:58.245Z"
   },
   {
    "duration": 5,
    "start_time": "2022-04-07T00:46:07.977Z"
   },
   {
    "duration": 697,
    "start_time": "2022-04-07T00:46:16.808Z"
   },
   {
    "duration": 910,
    "start_time": "2022-04-07T00:46:45.081Z"
   },
   {
    "duration": 1439,
    "start_time": "2022-04-07T00:48:50.973Z"
   },
   {
    "duration": 1546,
    "start_time": "2022-04-07T00:49:51.709Z"
   },
   {
    "duration": 26,
    "start_time": "2022-04-07T00:50:53.575Z"
   },
   {
    "duration": 2944,
    "start_time": "2022-04-07T00:51:09.303Z"
   },
   {
    "duration": 2964,
    "start_time": "2022-04-07T00:51:32.397Z"
   },
   {
    "duration": 3505,
    "start_time": "2022-04-07T00:52:22.841Z"
   },
   {
    "duration": 7,
    "start_time": "2022-04-07T00:54:20.362Z"
   },
   {
    "duration": 1685,
    "start_time": "2022-04-07T00:55:01.652Z"
   },
   {
    "duration": 4,
    "start_time": "2022-04-07T00:55:03.340Z"
   },
   {
    "duration": 1070,
    "start_time": "2022-04-07T00:55:03.345Z"
   },
   {
    "duration": 51,
    "start_time": "2022-04-07T00:55:04.417Z"
   },
   {
    "duration": 102,
    "start_time": "2022-04-07T00:55:04.471Z"
   },
   {
    "duration": 156,
    "start_time": "2022-04-07T00:55:04.575Z"
   },
   {
    "duration": 385,
    "start_time": "2022-04-07T00:55:04.734Z"
   },
   {
    "duration": 75,
    "start_time": "2022-04-07T00:55:05.121Z"
   },
   {
    "duration": 1283,
    "start_time": "2022-04-07T00:55:05.198Z"
   },
   {
    "duration": 29,
    "start_time": "2022-04-07T00:55:06.483Z"
   },
   {
    "duration": 83,
    "start_time": "2022-04-07T00:55:06.515Z"
   },
   {
    "duration": 8,
    "start_time": "2022-04-07T00:55:06.600Z"
   },
   {
    "duration": 86,
    "start_time": "2022-04-07T00:55:06.610Z"
   },
   {
    "duration": 7,
    "start_time": "2022-04-07T00:55:06.700Z"
   },
   {
    "duration": 487,
    "start_time": "2022-04-07T00:55:06.709Z"
   },
   {
    "duration": 7,
    "start_time": "2022-04-07T00:55:07.198Z"
   },
   {
    "duration": 65,
    "start_time": "2022-04-07T00:55:07.207Z"
   },
   {
    "duration": 124,
    "start_time": "2022-04-07T00:55:07.274Z"
   },
   {
    "duration": 424,
    "start_time": "2022-04-07T00:55:07.400Z"
   },
   {
    "duration": 16,
    "start_time": "2022-04-07T00:55:07.826Z"
   },
   {
    "duration": 444,
    "start_time": "2022-04-07T00:55:07.844Z"
   },
   {
    "duration": 5,
    "start_time": "2022-04-07T00:55:08.290Z"
   },
   {
    "duration": 29,
    "start_time": "2022-04-07T00:55:08.297Z"
   },
   {
    "duration": 14687,
    "start_time": "2022-04-07T00:55:08.328Z"
   },
   {
    "duration": 0,
    "start_time": "2022-04-07T00:55:23.017Z"
   },
   {
    "duration": 0,
    "start_time": "2022-04-07T00:55:23.019Z"
   },
   {
    "duration": 1,
    "start_time": "2022-04-07T00:55:23.020Z"
   },
   {
    "duration": 0,
    "start_time": "2022-04-07T00:55:23.022Z"
   },
   {
    "duration": 0,
    "start_time": "2022-04-07T00:55:23.024Z"
   },
   {
    "duration": 0,
    "start_time": "2022-04-07T00:55:23.025Z"
   },
   {
    "duration": 0,
    "start_time": "2022-04-07T00:55:23.027Z"
   },
   {
    "duration": 0,
    "start_time": "2022-04-07T00:55:23.028Z"
   },
   {
    "duration": 0,
    "start_time": "2022-04-07T00:55:23.030Z"
   },
   {
    "duration": 2975,
    "start_time": "2022-04-07T00:55:33.043Z"
   },
   {
    "duration": 12965,
    "start_time": "2022-04-07T00:55:45.906Z"
   },
   {
    "duration": 11,
    "start_time": "2022-04-07T00:56:56.183Z"
   },
   {
    "duration": 18101,
    "start_time": "2022-04-07T00:57:02.507Z"
   },
   {
    "duration": 24,
    "start_time": "2022-04-07T00:57:26.086Z"
   },
   {
    "duration": 62121,
    "start_time": "2022-04-07T00:58:16.362Z"
   },
   {
    "duration": 27,
    "start_time": "2022-04-07T01:00:47.802Z"
   },
   {
    "duration": 1841,
    "start_time": "2022-04-07T01:04:28.002Z"
   },
   {
    "duration": 15,
    "start_time": "2022-04-07T01:04:46.609Z"
   },
   {
    "duration": 27,
    "start_time": "2022-04-07T01:05:11.405Z"
   },
   {
    "duration": 27,
    "start_time": "2022-04-07T01:05:21.812Z"
   },
   {
    "duration": 15,
    "start_time": "2022-04-07T01:05:31.183Z"
   },
   {
    "duration": 17,
    "start_time": "2022-04-07T01:05:53.243Z"
   },
   {
    "duration": 15,
    "start_time": "2022-04-07T01:06:08.387Z"
   },
   {
    "duration": 69,
    "start_time": "2022-04-07T06:57:06.772Z"
   },
   {
    "duration": 1661,
    "start_time": "2022-04-07T06:57:28.581Z"
   },
   {
    "duration": 4,
    "start_time": "2022-04-07T06:57:30.245Z"
   },
   {
    "duration": 1062,
    "start_time": "2022-04-07T06:57:30.251Z"
   },
   {
    "duration": 35,
    "start_time": "2022-04-07T06:57:31.316Z"
   },
   {
    "duration": 106,
    "start_time": "2022-04-07T06:57:31.368Z"
   },
   {
    "duration": 155,
    "start_time": "2022-04-07T06:57:31.476Z"
   },
   {
    "duration": 380,
    "start_time": "2022-04-07T06:57:31.633Z"
   },
   {
    "duration": 76,
    "start_time": "2022-04-07T06:57:32.016Z"
   },
   {
    "duration": 1532,
    "start_time": "2022-04-07T06:57:32.094Z"
   },
   {
    "duration": 42,
    "start_time": "2022-04-07T06:57:33.632Z"
   },
   {
    "duration": 62,
    "start_time": "2022-04-07T06:57:33.677Z"
   },
   {
    "duration": 27,
    "start_time": "2022-04-07T06:57:33.741Z"
   },
   {
    "duration": 61,
    "start_time": "2022-04-07T06:57:33.771Z"
   },
   {
    "duration": 33,
    "start_time": "2022-04-07T06:57:33.834Z"
   },
   {
    "duration": 570,
    "start_time": "2022-04-07T06:57:33.869Z"
   },
   {
    "duration": 7,
    "start_time": "2022-04-07T06:57:34.441Z"
   },
   {
    "duration": 49,
    "start_time": "2022-04-07T06:57:34.468Z"
   },
   {
    "duration": 137,
    "start_time": "2022-04-07T06:57:34.520Z"
   },
   {
    "duration": 443,
    "start_time": "2022-04-07T06:57:34.659Z"
   },
   {
    "duration": 17,
    "start_time": "2022-04-07T06:57:35.104Z"
   },
   {
    "duration": 343,
    "start_time": "2022-04-07T06:57:35.124Z"
   },
   {
    "duration": 5,
    "start_time": "2022-04-07T06:57:35.470Z"
   },
   {
    "duration": 30,
    "start_time": "2022-04-07T06:57:35.477Z"
   },
   {
    "duration": 74497,
    "start_time": "2022-04-07T06:57:35.510Z"
   },
   {
    "duration": 145,
    "start_time": "2022-04-07T06:58:50.010Z"
   },
   {
    "duration": 0,
    "start_time": "2022-04-07T06:58:50.158Z"
   },
   {
    "duration": 0,
    "start_time": "2022-04-07T06:58:50.160Z"
   },
   {
    "duration": 0,
    "start_time": "2022-04-07T06:58:50.161Z"
   },
   {
    "duration": 0,
    "start_time": "2022-04-07T06:58:50.163Z"
   },
   {
    "duration": 0,
    "start_time": "2022-04-07T06:58:50.164Z"
   },
   {
    "duration": 1,
    "start_time": "2022-04-07T06:58:50.165Z"
   },
   {
    "duration": 0,
    "start_time": "2022-04-07T06:58:50.167Z"
   },
   {
    "duration": 0,
    "start_time": "2022-04-07T06:58:50.168Z"
   },
   {
    "duration": 0,
    "start_time": "2022-04-07T06:58:50.170Z"
   },
   {
    "duration": 0,
    "start_time": "2022-04-07T06:58:50.171Z"
   },
   {
    "duration": 6,
    "start_time": "2022-04-07T07:04:15.635Z"
   },
   {
    "duration": 114001,
    "start_time": "2022-04-07T07:06:51.767Z"
   },
   {
    "duration": 4,
    "start_time": "2022-04-07T07:10:13.447Z"
   },
   {
    "duration": 15,
    "start_time": "2022-04-07T07:10:21.571Z"
   },
   {
    "duration": 3114,
    "start_time": "2022-04-07T07:16:28.857Z"
   },
   {
    "duration": 17828,
    "start_time": "2022-04-07T07:17:12.845Z"
   },
   {
    "duration": 19264,
    "start_time": "2022-04-07T07:17:32.105Z"
   },
   {
    "duration": 359,
    "start_time": "2022-04-07T07:47:04.044Z"
   },
   {
    "duration": 3860,
    "start_time": "2022-04-07T07:47:29.075Z"
   },
   {
    "duration": 4106,
    "start_time": "2022-04-07T07:48:02.870Z"
   },
   {
    "duration": 14543,
    "start_time": "2022-04-07T07:49:09.426Z"
   },
   {
    "duration": 146,
    "start_time": "2022-04-07T08:17:53.428Z"
   },
   {
    "duration": 63,
    "start_time": "2022-04-07T08:18:13.655Z"
   },
   {
    "duration": 15,
    "start_time": "2022-04-07T08:19:30.168Z"
   },
   {
    "duration": 4,
    "start_time": "2022-04-07T08:51:33.610Z"
   },
   {
    "duration": 6805,
    "start_time": "2022-04-07T08:51:39.274Z"
   },
   {
    "duration": 6843,
    "start_time": "2022-04-07T09:04:03.138Z"
   },
   {
    "duration": 7513,
    "start_time": "2022-04-07T09:04:20.057Z"
   },
   {
    "duration": 3,
    "start_time": "2022-04-07T09:04:29.574Z"
   },
   {
    "duration": 5,
    "start_time": "2022-04-07T09:04:43.119Z"
   },
   {
    "duration": 27,
    "start_time": "2022-04-07T09:05:27.018Z"
   },
   {
    "duration": 68,
    "start_time": "2022-04-07T09:05:48.415Z"
   },
   {
    "duration": 4449,
    "start_time": "2022-04-07T09:06:03.119Z"
   },
   {
    "duration": 36,
    "start_time": "2022-04-07T09:08:15.310Z"
   },
   {
    "duration": 25,
    "start_time": "2022-04-07T09:08:20.451Z"
   },
   {
    "duration": 135,
    "start_time": "2022-04-07T09:14:19.423Z"
   },
   {
    "duration": 14,
    "start_time": "2022-04-07T09:14:35.813Z"
   },
   {
    "duration": 6723,
    "start_time": "2022-04-07T09:15:11.645Z"
   },
   {
    "duration": 5,
    "start_time": "2022-04-07T09:15:38.352Z"
   },
   {
    "duration": 11,
    "start_time": "2022-04-07T09:15:53.158Z"
   },
   {
    "duration": 12,
    "start_time": "2022-04-07T09:15:55.644Z"
   },
   {
    "duration": 5,
    "start_time": "2022-04-07T09:15:58.749Z"
   },
   {
    "duration": 7501,
    "start_time": "2022-04-07T09:17:24.969Z"
   },
   {
    "duration": 4,
    "start_time": "2022-04-07T09:20:55.710Z"
   },
   {
    "duration": 5,
    "start_time": "2022-04-07T09:21:32.845Z"
   },
   {
    "duration": 130,
    "start_time": "2022-04-07T09:22:12.604Z"
   },
   {
    "duration": 12,
    "start_time": "2022-04-07T09:23:43.562Z"
   },
   {
    "duration": 13,
    "start_time": "2022-04-07T09:23:49.189Z"
   },
   {
    "duration": 5,
    "start_time": "2022-04-07T09:23:58.343Z"
   },
   {
    "duration": 12,
    "start_time": "2022-04-07T09:24:02.001Z"
   },
   {
    "duration": 5,
    "start_time": "2022-04-07T09:24:29.463Z"
   },
   {
    "duration": 13,
    "start_time": "2022-04-07T09:24:31.747Z"
   },
   {
    "duration": 5,
    "start_time": "2022-04-07T09:24:48.981Z"
   },
   {
    "duration": 14,
    "start_time": "2022-04-07T09:24:49.874Z"
   },
   {
    "duration": 5,
    "start_time": "2022-04-07T09:25:03.427Z"
   },
   {
    "duration": 24,
    "start_time": "2022-04-07T09:25:05.351Z"
   },
   {
    "duration": 7,
    "start_time": "2022-04-07T09:25:20.922Z"
   },
   {
    "duration": 6,
    "start_time": "2022-04-07T09:25:22.788Z"
   },
   {
    "duration": 12,
    "start_time": "2022-04-07T09:25:26.941Z"
   },
   {
    "duration": 5,
    "start_time": "2022-04-07T09:26:29.233Z"
   },
   {
    "duration": 4,
    "start_time": "2022-04-07T09:26:30.087Z"
   },
   {
    "duration": 17,
    "start_time": "2022-04-07T09:26:31.168Z"
   },
   {
    "duration": 12,
    "start_time": "2022-04-07T09:27:03.658Z"
   },
   {
    "duration": 4,
    "start_time": "2022-04-07T09:27:06.167Z"
   },
   {
    "duration": 5,
    "start_time": "2022-04-07T09:27:06.808Z"
   },
   {
    "duration": 12,
    "start_time": "2022-04-07T09:27:07.383Z"
   },
   {
    "duration": 5,
    "start_time": "2022-04-07T09:27:30.940Z"
   },
   {
    "duration": 12,
    "start_time": "2022-04-07T09:27:50.335Z"
   },
   {
    "duration": 17,
    "start_time": "2022-04-07T09:27:56.197Z"
   },
   {
    "duration": 4,
    "start_time": "2022-04-07T09:27:57.975Z"
   },
   {
    "duration": 14,
    "start_time": "2022-04-07T09:27:58.660Z"
   },
   {
    "duration": 6,
    "start_time": "2022-04-07T09:30:04.292Z"
   },
   {
    "duration": 5,
    "start_time": "2022-04-07T09:30:04.931Z"
   },
   {
    "duration": 11,
    "start_time": "2022-04-07T09:30:08.533Z"
   },
   {
    "duration": 19,
    "start_time": "2022-04-07T09:30:45.095Z"
   },
   {
    "duration": 12025,
    "start_time": "2022-04-07T09:32:01.543Z"
   },
   {
    "duration": 11081,
    "start_time": "2022-04-07T09:34:50.204Z"
   },
   {
    "duration": 5648,
    "start_time": "2022-04-07T09:36:28.430Z"
   },
   {
    "duration": 9164,
    "start_time": "2022-04-07T09:37:16.513Z"
   },
   {
    "duration": 5,
    "start_time": "2022-04-07T09:37:46.314Z"
   },
   {
    "duration": 16,
    "start_time": "2022-04-07T09:38:06.499Z"
   },
   {
    "duration": 6,
    "start_time": "2022-04-07T09:38:13.021Z"
   },
   {
    "duration": 12,
    "start_time": "2022-04-07T09:38:18.950Z"
   },
   {
    "duration": 6,
    "start_time": "2022-04-07T09:39:20.611Z"
   },
   {
    "duration": 6,
    "start_time": "2022-04-07T09:39:27.160Z"
   },
   {
    "duration": 7,
    "start_time": "2022-04-07T09:40:26.991Z"
   },
   {
    "duration": 6,
    "start_time": "2022-04-07T09:42:01.434Z"
   },
   {
    "duration": 7,
    "start_time": "2022-04-07T09:42:07.700Z"
   },
   {
    "duration": 6,
    "start_time": "2022-04-07T09:42:19.773Z"
   },
   {
    "duration": 6,
    "start_time": "2022-04-07T09:42:27.939Z"
   },
   {
    "duration": 6,
    "start_time": "2022-04-07T09:42:44.027Z"
   },
   {
    "duration": 8206,
    "start_time": "2022-04-07T09:42:52.071Z"
   },
   {
    "duration": 5,
    "start_time": "2022-04-07T09:43:03.401Z"
   },
   {
    "duration": 5,
    "start_time": "2022-04-07T09:43:40.121Z"
   },
   {
    "duration": 3568,
    "start_time": "2022-04-07T09:51:48.279Z"
   },
   {
    "duration": 3617,
    "start_time": "2022-04-07T09:52:00.259Z"
   },
   {
    "duration": 3629,
    "start_time": "2022-04-07T09:52:40.457Z"
   },
   {
    "duration": 3493,
    "start_time": "2022-04-07T09:52:54.643Z"
   },
   {
    "duration": 20249,
    "start_time": "2022-04-07T09:53:56.350Z"
   },
   {
    "duration": 15738,
    "start_time": "2022-04-07T09:56:00.553Z"
   },
   {
    "duration": 4164,
    "start_time": "2022-04-07T09:58:00.805Z"
   },
   {
    "duration": 4240,
    "start_time": "2022-04-07T09:58:10.829Z"
   },
   {
    "duration": 6224,
    "start_time": "2022-04-07T10:05:27.944Z"
   },
   {
    "duration": 13656,
    "start_time": "2022-04-07T10:05:38.327Z"
   },
   {
    "duration": 3710,
    "start_time": "2022-04-07T10:05:51.986Z"
   },
   {
    "duration": 6,
    "start_time": "2022-04-07T10:07:44.218Z"
   },
   {
    "duration": 5,
    "start_time": "2022-04-07T10:08:13.255Z"
   },
   {
    "duration": 12,
    "start_time": "2022-04-07T10:08:18.081Z"
   },
   {
    "duration": 20639,
    "start_time": "2022-04-07T10:09:38.948Z"
   },
   {
    "duration": 5012,
    "start_time": "2022-04-07T10:21:11.564Z"
   },
   {
    "duration": 17,
    "start_time": "2022-04-07T10:21:17.979Z"
   },
   {
    "duration": 13,
    "start_time": "2022-04-07T10:23:04.866Z"
   },
   {
    "duration": 71872,
    "start_time": "2022-04-07T11:47:49.289Z"
   },
   {
    "duration": 15,
    "start_time": "2022-04-07T11:49:11.462Z"
   },
   {
    "duration": 68,
    "start_time": "2022-04-07T12:40:07.915Z"
   },
   {
    "duration": 12616,
    "start_time": "2022-04-07T13:02:23.670Z"
   },
   {
    "duration": 5158,
    "start_time": "2022-04-07T13:29:30.277Z"
   },
   {
    "duration": 1156,
    "start_time": "2022-04-07T14:48:32.885Z"
   },
   {
    "duration": 2,
    "start_time": "2022-04-07T14:48:34.043Z"
   },
   {
    "duration": 772,
    "start_time": "2022-04-07T14:48:34.047Z"
   },
   {
    "duration": 32,
    "start_time": "2022-04-07T14:48:34.821Z"
   },
   {
    "duration": 82,
    "start_time": "2022-04-07T14:48:34.855Z"
   },
   {
    "duration": 119,
    "start_time": "2022-04-07T14:48:34.939Z"
   },
   {
    "duration": 247,
    "start_time": "2022-04-07T14:48:35.059Z"
   },
   {
    "duration": 59,
    "start_time": "2022-04-07T14:48:35.308Z"
   },
   {
    "duration": 965,
    "start_time": "2022-04-07T14:48:35.369Z"
   },
   {
    "duration": 19,
    "start_time": "2022-04-07T14:48:36.336Z"
   },
   {
    "duration": 46,
    "start_time": "2022-04-07T14:48:36.356Z"
   },
   {
    "duration": 6,
    "start_time": "2022-04-07T14:48:36.403Z"
   },
   {
    "duration": 65,
    "start_time": "2022-04-07T14:48:36.410Z"
   },
   {
    "duration": 5,
    "start_time": "2022-04-07T14:48:36.479Z"
   },
   {
    "duration": 377,
    "start_time": "2022-04-07T14:48:36.485Z"
   },
   {
    "duration": 5,
    "start_time": "2022-04-07T14:48:36.864Z"
   },
   {
    "duration": 36,
    "start_time": "2022-04-07T14:48:36.870Z"
   },
   {
    "duration": 104,
    "start_time": "2022-04-07T14:48:36.907Z"
   },
   {
    "duration": 324,
    "start_time": "2022-04-07T14:48:37.013Z"
   },
   {
    "duration": 10,
    "start_time": "2022-04-07T14:48:37.339Z"
   },
   {
    "duration": 247,
    "start_time": "2022-04-07T14:48:37.350Z"
   },
   {
    "duration": 3,
    "start_time": "2022-04-07T14:48:37.599Z"
   },
   {
    "duration": 22,
    "start_time": "2022-04-07T14:48:37.604Z"
   },
   {
    "duration": 48878,
    "start_time": "2022-04-07T14:48:37.637Z"
   },
   {
    "duration": 11,
    "start_time": "2022-04-07T14:49:26.517Z"
   },
   {
    "duration": 10,
    "start_time": "2022-04-07T14:49:26.530Z"
   },
   {
    "duration": 14,
    "start_time": "2022-04-07T14:49:26.542Z"
   },
   {
    "duration": 90891,
    "start_time": "2022-04-07T14:49:26.558Z"
   },
   {
    "duration": 10,
    "start_time": "2022-04-07T14:50:57.450Z"
   },
   {
    "duration": 2561,
    "start_time": "2022-04-07T14:50:57.462Z"
   },
   {
    "duration": 12118,
    "start_time": "2022-04-07T14:51:00.025Z"
   },
   {
    "duration": 3652,
    "start_time": "2022-04-07T14:51:12.147Z"
   },
   {
    "duration": 11170,
    "start_time": "2022-04-07T14:51:15.802Z"
   },
   {
    "duration": 12163,
    "start_time": "2022-04-07T14:51:26.974Z"
   },
   {
    "duration": 101,
    "start_time": "2022-04-07T14:51:39.141Z"
   },
   {
    "duration": 11197,
    "start_time": "2022-04-07T14:54:07.643Z"
   },
   {
    "duration": 9,
    "start_time": "2022-04-07T14:57:00.717Z"
   },
   {
    "duration": 97,
    "start_time": "2022-04-07T15:14:55.693Z"
   },
   {
    "duration": 1175,
    "start_time": "2022-04-07T15:19:12.086Z"
   },
   {
    "duration": 3,
    "start_time": "2022-04-07T15:19:13.264Z"
   },
   {
    "duration": 794,
    "start_time": "2022-04-07T15:19:13.269Z"
   },
   {
    "duration": 28,
    "start_time": "2022-04-07T15:19:14.066Z"
   },
   {
    "duration": 86,
    "start_time": "2022-04-07T15:19:14.096Z"
   },
   {
    "duration": 120,
    "start_time": "2022-04-07T15:19:14.184Z"
   },
   {
    "duration": 247,
    "start_time": "2022-04-07T15:19:14.306Z"
   },
   {
    "duration": 51,
    "start_time": "2022-04-07T15:19:14.555Z"
   },
   {
    "duration": 832,
    "start_time": "2022-04-07T15:19:14.608Z"
   },
   {
    "duration": 18,
    "start_time": "2022-04-07T15:19:15.443Z"
   },
   {
    "duration": 40,
    "start_time": "2022-04-07T15:19:15.463Z"
   },
   {
    "duration": 6,
    "start_time": "2022-04-07T15:19:15.504Z"
   },
   {
    "duration": 62,
    "start_time": "2022-04-07T15:19:15.512Z"
   },
   {
    "duration": 5,
    "start_time": "2022-04-07T15:19:15.576Z"
   },
   {
    "duration": 287,
    "start_time": "2022-04-07T15:19:15.583Z"
   },
   {
    "duration": 5,
    "start_time": "2022-04-07T15:19:15.872Z"
   },
   {
    "duration": 37,
    "start_time": "2022-04-07T15:19:15.879Z"
   },
   {
    "duration": 92,
    "start_time": "2022-04-07T15:19:15.918Z"
   },
   {
    "duration": 338,
    "start_time": "2022-04-07T15:19:16.011Z"
   },
   {
    "duration": 11,
    "start_time": "2022-04-07T15:19:16.351Z"
   },
   {
    "duration": 343,
    "start_time": "2022-04-07T15:19:16.363Z"
   },
   {
    "duration": 4,
    "start_time": "2022-04-07T15:19:16.708Z"
   },
   {
    "duration": 25,
    "start_time": "2022-04-07T15:19:16.713Z"
   },
   {
    "duration": 56458,
    "start_time": "2022-04-07T15:19:16.739Z"
   },
   {
    "duration": 11,
    "start_time": "2022-04-07T15:20:13.199Z"
   },
   {
    "duration": 14,
    "start_time": "2022-04-07T15:20:13.212Z"
   },
   {
    "duration": 8,
    "start_time": "2022-04-07T15:20:13.228Z"
   },
   {
    "duration": 68013,
    "start_time": "2022-04-07T15:20:13.239Z"
   },
   {
    "duration": 92,
    "start_time": "2022-04-07T15:21:21.254Z"
   },
   {
    "duration": 2654,
    "start_time": "2022-04-07T15:21:21.347Z"
   },
   {
    "duration": 15637,
    "start_time": "2022-04-07T15:21:24.003Z"
   },
   {
    "duration": 3576,
    "start_time": "2022-04-07T15:21:39.642Z"
   },
   {
    "duration": 10330,
    "start_time": "2022-04-07T15:21:43.220Z"
   },
   {
    "duration": 12787,
    "start_time": "2022-04-07T15:21:53.552Z"
   },
   {
    "duration": 101,
    "start_time": "2022-04-07T15:22:06.342Z"
   }
  ],
  "kernelspec": {
   "display_name": "Python 3 (ipykernel)",
   "language": "python",
   "name": "python3"
  },
  "language_info": {
   "codemirror_mode": {
    "name": "ipython",
    "version": 3
   },
   "file_extension": ".py",
   "mimetype": "text/x-python",
   "name": "python",
   "nbconvert_exporter": "python",
   "pygments_lexer": "ipython3",
   "version": "3.9.5"
  },
  "toc": {
   "base_numbering": 1,
   "nav_menu": {},
   "number_sections": true,
   "sideBar": true,
   "skip_h1_title": true,
   "title_cell": "Table of Contents",
   "title_sidebar": "Contents",
   "toc_cell": false,
   "toc_position": {},
   "toc_section_display": true,
   "toc_window_display": false
  }
 },
 "nbformat": 4,
 "nbformat_minor": 2
}
