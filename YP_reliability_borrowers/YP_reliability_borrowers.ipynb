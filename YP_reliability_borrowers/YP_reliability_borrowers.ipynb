{
 "cells": [
  {
   "cell_type": "markdown",
   "metadata": {},
   "source": [
    "# Исследование надёжности заёмщиков\n",
    "\n",
    "Заказчик — кредитный отдел банка. Нужно разобраться, влияет ли семейное положение и количество детей клиента на факт погашения кредита в срок. Входные данные от банка — статистика о платёжеспособности клиентов.\n",
    "\n",
    "Результаты исследования будут учтены при построении модели **кредитного скоринга** — специальной системы, которая оценивает способность потенциального заёмщика вернуть кредит банку."
   ]
  },
  {
   "cell_type": "markdown",
   "metadata": {},
   "source": [
    "## Шаг 1. Откройте файл с данными и изучите общую информацию"
   ]
  },
  {
   "cell_type": "code",
   "execution_count": 1,
   "metadata": {},
   "outputs": [
    {
     "data": {
      "text/html": [
       "<div>\n",
       "<style scoped>\n",
       "    .dataframe tbody tr th:only-of-type {\n",
       "        vertical-align: middle;\n",
       "    }\n",
       "\n",
       "    .dataframe tbody tr th {\n",
       "        vertical-align: top;\n",
       "    }\n",
       "\n",
       "    .dataframe thead th {\n",
       "        text-align: right;\n",
       "    }\n",
       "</style>\n",
       "<table border=\"1\" class=\"dataframe\">\n",
       "  <thead>\n",
       "    <tr style=\"text-align: right;\">\n",
       "      <th></th>\n",
       "      <th>children</th>\n",
       "      <th>days_employed</th>\n",
       "      <th>dob_years</th>\n",
       "      <th>education</th>\n",
       "      <th>education_id</th>\n",
       "      <th>family_status</th>\n",
       "      <th>family_status_id</th>\n",
       "      <th>gender</th>\n",
       "      <th>income_type</th>\n",
       "      <th>debt</th>\n",
       "      <th>total_income</th>\n",
       "      <th>purpose</th>\n",
       "    </tr>\n",
       "  </thead>\n",
       "  <tbody>\n",
       "    <tr>\n",
       "      <td>0</td>\n",
       "      <td>1</td>\n",
       "      <td>-8437.673028</td>\n",
       "      <td>42</td>\n",
       "      <td>высшее</td>\n",
       "      <td>0</td>\n",
       "      <td>женат / замужем</td>\n",
       "      <td>0</td>\n",
       "      <td>F</td>\n",
       "      <td>сотрудник</td>\n",
       "      <td>0</td>\n",
       "      <td>253875.639453</td>\n",
       "      <td>покупка жилья</td>\n",
       "    </tr>\n",
       "    <tr>\n",
       "      <td>1</td>\n",
       "      <td>1</td>\n",
       "      <td>-4024.803754</td>\n",
       "      <td>36</td>\n",
       "      <td>среднее</td>\n",
       "      <td>1</td>\n",
       "      <td>женат / замужем</td>\n",
       "      <td>0</td>\n",
       "      <td>F</td>\n",
       "      <td>сотрудник</td>\n",
       "      <td>0</td>\n",
       "      <td>112080.014102</td>\n",
       "      <td>приобретение автомобиля</td>\n",
       "    </tr>\n",
       "    <tr>\n",
       "      <td>2</td>\n",
       "      <td>0</td>\n",
       "      <td>-5623.422610</td>\n",
       "      <td>33</td>\n",
       "      <td>Среднее</td>\n",
       "      <td>1</td>\n",
       "      <td>женат / замужем</td>\n",
       "      <td>0</td>\n",
       "      <td>M</td>\n",
       "      <td>сотрудник</td>\n",
       "      <td>0</td>\n",
       "      <td>145885.952297</td>\n",
       "      <td>покупка жилья</td>\n",
       "    </tr>\n",
       "    <tr>\n",
       "      <td>3</td>\n",
       "      <td>3</td>\n",
       "      <td>-4124.747207</td>\n",
       "      <td>32</td>\n",
       "      <td>среднее</td>\n",
       "      <td>1</td>\n",
       "      <td>женат / замужем</td>\n",
       "      <td>0</td>\n",
       "      <td>M</td>\n",
       "      <td>сотрудник</td>\n",
       "      <td>0</td>\n",
       "      <td>267628.550329</td>\n",
       "      <td>дополнительное образование</td>\n",
       "    </tr>\n",
       "    <tr>\n",
       "      <td>4</td>\n",
       "      <td>0</td>\n",
       "      <td>340266.072047</td>\n",
       "      <td>53</td>\n",
       "      <td>среднее</td>\n",
       "      <td>1</td>\n",
       "      <td>гражданский брак</td>\n",
       "      <td>1</td>\n",
       "      <td>F</td>\n",
       "      <td>пенсионер</td>\n",
       "      <td>0</td>\n",
       "      <td>158616.077870</td>\n",
       "      <td>сыграть свадьбу</td>\n",
       "    </tr>\n",
       "    <tr>\n",
       "      <td>5</td>\n",
       "      <td>0</td>\n",
       "      <td>-926.185831</td>\n",
       "      <td>27</td>\n",
       "      <td>высшее</td>\n",
       "      <td>0</td>\n",
       "      <td>гражданский брак</td>\n",
       "      <td>1</td>\n",
       "      <td>M</td>\n",
       "      <td>компаньон</td>\n",
       "      <td>0</td>\n",
       "      <td>255763.565419</td>\n",
       "      <td>покупка жилья</td>\n",
       "    </tr>\n",
       "    <tr>\n",
       "      <td>6</td>\n",
       "      <td>0</td>\n",
       "      <td>-2879.202052</td>\n",
       "      <td>43</td>\n",
       "      <td>высшее</td>\n",
       "      <td>0</td>\n",
       "      <td>женат / замужем</td>\n",
       "      <td>0</td>\n",
       "      <td>F</td>\n",
       "      <td>компаньон</td>\n",
       "      <td>0</td>\n",
       "      <td>240525.971920</td>\n",
       "      <td>операции с жильем</td>\n",
       "    </tr>\n",
       "    <tr>\n",
       "      <td>7</td>\n",
       "      <td>0</td>\n",
       "      <td>-152.779569</td>\n",
       "      <td>50</td>\n",
       "      <td>СРЕДНЕЕ</td>\n",
       "      <td>1</td>\n",
       "      <td>женат / замужем</td>\n",
       "      <td>0</td>\n",
       "      <td>M</td>\n",
       "      <td>сотрудник</td>\n",
       "      <td>0</td>\n",
       "      <td>135823.934197</td>\n",
       "      <td>образование</td>\n",
       "    </tr>\n",
       "    <tr>\n",
       "      <td>8</td>\n",
       "      <td>2</td>\n",
       "      <td>-6929.865299</td>\n",
       "      <td>35</td>\n",
       "      <td>ВЫСШЕЕ</td>\n",
       "      <td>0</td>\n",
       "      <td>гражданский брак</td>\n",
       "      <td>1</td>\n",
       "      <td>F</td>\n",
       "      <td>сотрудник</td>\n",
       "      <td>0</td>\n",
       "      <td>95856.832424</td>\n",
       "      <td>на проведение свадьбы</td>\n",
       "    </tr>\n",
       "    <tr>\n",
       "      <td>9</td>\n",
       "      <td>0</td>\n",
       "      <td>-2188.756445</td>\n",
       "      <td>41</td>\n",
       "      <td>среднее</td>\n",
       "      <td>1</td>\n",
       "      <td>женат / замужем</td>\n",
       "      <td>0</td>\n",
       "      <td>M</td>\n",
       "      <td>сотрудник</td>\n",
       "      <td>0</td>\n",
       "      <td>144425.938277</td>\n",
       "      <td>покупка жилья для семьи</td>\n",
       "    </tr>\n",
       "  </tbody>\n",
       "</table>\n",
       "</div>"
      ],
      "text/plain": [
       "   children  days_employed  dob_years education  education_id  \\\n",
       "0         1   -8437.673028         42    высшее             0   \n",
       "1         1   -4024.803754         36   среднее             1   \n",
       "2         0   -5623.422610         33   Среднее             1   \n",
       "3         3   -4124.747207         32   среднее             1   \n",
       "4         0  340266.072047         53   среднее             1   \n",
       "5         0    -926.185831         27    высшее             0   \n",
       "6         0   -2879.202052         43    высшее             0   \n",
       "7         0    -152.779569         50   СРЕДНЕЕ             1   \n",
       "8         2   -6929.865299         35    ВЫСШЕЕ             0   \n",
       "9         0   -2188.756445         41   среднее             1   \n",
       "\n",
       "      family_status  family_status_id gender income_type  debt   total_income  \\\n",
       "0   женат / замужем                 0      F   сотрудник     0  253875.639453   \n",
       "1   женат / замужем                 0      F   сотрудник     0  112080.014102   \n",
       "2   женат / замужем                 0      M   сотрудник     0  145885.952297   \n",
       "3   женат / замужем                 0      M   сотрудник     0  267628.550329   \n",
       "4  гражданский брак                 1      F   пенсионер     0  158616.077870   \n",
       "5  гражданский брак                 1      M   компаньон     0  255763.565419   \n",
       "6   женат / замужем                 0      F   компаньон     0  240525.971920   \n",
       "7   женат / замужем                 0      M   сотрудник     0  135823.934197   \n",
       "8  гражданский брак                 1      F   сотрудник     0   95856.832424   \n",
       "9   женат / замужем                 0      M   сотрудник     0  144425.938277   \n",
       "\n",
       "                      purpose  \n",
       "0               покупка жилья  \n",
       "1     приобретение автомобиля  \n",
       "2               покупка жилья  \n",
       "3  дополнительное образование  \n",
       "4             сыграть свадьбу  \n",
       "5               покупка жилья  \n",
       "6           операции с жильем  \n",
       "7                 образование  \n",
       "8       на проведение свадьбы  \n",
       "9     покупка жилья для семьи  "
      ]
     },
     "execution_count": 1,
     "metadata": {},
     "output_type": "execute_result"
    }
   ],
   "source": [
    "import pandas as pd\n",
    "df = pd.read_csv('/datasets/data.csv')\n",
    "df.head(10)"
   ]
  },
  {
   "cell_type": "code",
   "execution_count": 2,
   "metadata": {},
   "outputs": [
    {
     "name": "stdout",
     "output_type": "stream",
     "text": [
      "<class 'pandas.core.frame.DataFrame'>\n",
      "RangeIndex: 21525 entries, 0 to 21524\n",
      "Data columns (total 12 columns):\n",
      "children            21525 non-null int64\n",
      "days_employed       19351 non-null float64\n",
      "dob_years           21525 non-null int64\n",
      "education           21525 non-null object\n",
      "education_id        21525 non-null int64\n",
      "family_status       21525 non-null object\n",
      "family_status_id    21525 non-null int64\n",
      "gender              21525 non-null object\n",
      "income_type         21525 non-null object\n",
      "debt                21525 non-null int64\n",
      "total_income        19351 non-null float64\n",
      "purpose             21525 non-null object\n",
      "dtypes: float64(2), int64(5), object(5)\n",
      "memory usage: 2.0+ MB\n"
     ]
    }
   ],
   "source": [
    "df.info()"
   ]
  },
  {
   "cell_type": "markdown",
   "metadata": {},
   "source": [
    "**Вывод**"
   ]
  },
  {
   "cell_type": "markdown",
   "metadata": {},
   "source": [
    "__В датасете представлена информация о заемщиках.__\n",
    "Общее количество строк датасета составляет _21525_ строк.\n",
    "\n",
    "__Следующие столбцы имеют меньше элементов чем строк в датасете:__\n",
    "* `days_employed` — общий трудовой стаж в днях ***19351***;\n",
    "* `total_income` — ежемесячный доход ***19351***.\n",
    "\n",
    "\n",
    "По какой-то причине отсутсвует одинаковое количество данных, совпадение или умысел?\n",
    "\n",
    "__Так-же вызывают вопросы данные:__\n",
    "* `days_employed` — общий трудовой стаж в днях ***почему он отрицательный***;\n",
    "* `dob_years` — возраст клиента в годах ***почему он float64 и можно ли его сделать int64***."
   ]
  },
  {
   "cell_type": "markdown",
   "metadata": {},
   "source": [
    "## Шаг 2. Предобработка данных"
   ]
  },
  {
   "cell_type": "markdown",
   "metadata": {},
   "source": [
    "### Обработка пропусков"
   ]
  },
  {
   "cell_type": "code",
   "execution_count": 3,
   "metadata": {},
   "outputs": [
    {
     "data": {
      "text/plain": [
       "children               0\n",
       "days_employed       2174\n",
       "dob_years              0\n",
       "education              0\n",
       "education_id           0\n",
       "family_status          0\n",
       "family_status_id       0\n",
       "gender                 0\n",
       "income_type            0\n",
       "debt                   0\n",
       "total_income        2174\n",
       "purpose                0\n",
       "dtype: int64"
      ]
     },
     "execution_count": 3,
     "metadata": {},
     "output_type": "execute_result"
    }
   ],
   "source": [
    "# Посмотрим общее количесво пустых строк в столбцах\n",
    "df.isnull().sum()"
   ]
  },
  {
   "cell_type": "code",
   "execution_count": 4,
   "metadata": {
    "scrolled": false
   },
   "outputs": [
    {
     "data": {
      "text/html": [
       "<div>\n",
       "<style scoped>\n",
       "    .dataframe tbody tr th:only-of-type {\n",
       "        vertical-align: middle;\n",
       "    }\n",
       "\n",
       "    .dataframe tbody tr th {\n",
       "        vertical-align: top;\n",
       "    }\n",
       "\n",
       "    .dataframe thead th {\n",
       "        text-align: right;\n",
       "    }\n",
       "</style>\n",
       "<table border=\"1\" class=\"dataframe\">\n",
       "  <thead>\n",
       "    <tr style=\"text-align: right;\">\n",
       "      <th></th>\n",
       "      <th>children</th>\n",
       "      <th>days_employed</th>\n",
       "      <th>dob_years</th>\n",
       "      <th>education</th>\n",
       "      <th>education_id</th>\n",
       "      <th>family_status</th>\n",
       "      <th>family_status_id</th>\n",
       "      <th>gender</th>\n",
       "      <th>income_type</th>\n",
       "      <th>debt</th>\n",
       "      <th>total_income</th>\n",
       "      <th>purpose</th>\n",
       "      <th>null</th>\n",
       "    </tr>\n",
       "  </thead>\n",
       "  <tbody>\n",
       "    <tr>\n",
       "      <td>12</td>\n",
       "      <td>0</td>\n",
       "      <td>NaN</td>\n",
       "      <td>65</td>\n",
       "      <td>среднее</td>\n",
       "      <td>1</td>\n",
       "      <td>гражданский брак</td>\n",
       "      <td>1</td>\n",
       "      <td>M</td>\n",
       "      <td>пенсионер</td>\n",
       "      <td>0</td>\n",
       "      <td>NaN</td>\n",
       "      <td>сыграть свадьбу</td>\n",
       "      <td>True</td>\n",
       "    </tr>\n",
       "    <tr>\n",
       "      <td>26</td>\n",
       "      <td>0</td>\n",
       "      <td>NaN</td>\n",
       "      <td>41</td>\n",
       "      <td>среднее</td>\n",
       "      <td>1</td>\n",
       "      <td>женат / замужем</td>\n",
       "      <td>0</td>\n",
       "      <td>M</td>\n",
       "      <td>госслужащий</td>\n",
       "      <td>0</td>\n",
       "      <td>NaN</td>\n",
       "      <td>образование</td>\n",
       "      <td>True</td>\n",
       "    </tr>\n",
       "    <tr>\n",
       "      <td>29</td>\n",
       "      <td>0</td>\n",
       "      <td>NaN</td>\n",
       "      <td>63</td>\n",
       "      <td>среднее</td>\n",
       "      <td>1</td>\n",
       "      <td>Не женат / не замужем</td>\n",
       "      <td>4</td>\n",
       "      <td>F</td>\n",
       "      <td>пенсионер</td>\n",
       "      <td>0</td>\n",
       "      <td>NaN</td>\n",
       "      <td>строительство жилой недвижимости</td>\n",
       "      <td>True</td>\n",
       "    </tr>\n",
       "    <tr>\n",
       "      <td>41</td>\n",
       "      <td>0</td>\n",
       "      <td>NaN</td>\n",
       "      <td>50</td>\n",
       "      <td>среднее</td>\n",
       "      <td>1</td>\n",
       "      <td>женат / замужем</td>\n",
       "      <td>0</td>\n",
       "      <td>F</td>\n",
       "      <td>госслужащий</td>\n",
       "      <td>0</td>\n",
       "      <td>NaN</td>\n",
       "      <td>сделка с подержанным автомобилем</td>\n",
       "      <td>True</td>\n",
       "    </tr>\n",
       "    <tr>\n",
       "      <td>55</td>\n",
       "      <td>0</td>\n",
       "      <td>NaN</td>\n",
       "      <td>54</td>\n",
       "      <td>среднее</td>\n",
       "      <td>1</td>\n",
       "      <td>гражданский брак</td>\n",
       "      <td>1</td>\n",
       "      <td>F</td>\n",
       "      <td>пенсионер</td>\n",
       "      <td>1</td>\n",
       "      <td>NaN</td>\n",
       "      <td>сыграть свадьбу</td>\n",
       "      <td>True</td>\n",
       "    </tr>\n",
       "    <tr>\n",
       "      <td>...</td>\n",
       "      <td>...</td>\n",
       "      <td>...</td>\n",
       "      <td>...</td>\n",
       "      <td>...</td>\n",
       "      <td>...</td>\n",
       "      <td>...</td>\n",
       "      <td>...</td>\n",
       "      <td>...</td>\n",
       "      <td>...</td>\n",
       "      <td>...</td>\n",
       "      <td>...</td>\n",
       "      <td>...</td>\n",
       "      <td>...</td>\n",
       "    </tr>\n",
       "    <tr>\n",
       "      <td>21489</td>\n",
       "      <td>2</td>\n",
       "      <td>NaN</td>\n",
       "      <td>47</td>\n",
       "      <td>Среднее</td>\n",
       "      <td>1</td>\n",
       "      <td>женат / замужем</td>\n",
       "      <td>0</td>\n",
       "      <td>M</td>\n",
       "      <td>компаньон</td>\n",
       "      <td>0</td>\n",
       "      <td>NaN</td>\n",
       "      <td>сделка с автомобилем</td>\n",
       "      <td>True</td>\n",
       "    </tr>\n",
       "    <tr>\n",
       "      <td>21495</td>\n",
       "      <td>1</td>\n",
       "      <td>NaN</td>\n",
       "      <td>50</td>\n",
       "      <td>среднее</td>\n",
       "      <td>1</td>\n",
       "      <td>гражданский брак</td>\n",
       "      <td>1</td>\n",
       "      <td>F</td>\n",
       "      <td>сотрудник</td>\n",
       "      <td>0</td>\n",
       "      <td>NaN</td>\n",
       "      <td>свадьба</td>\n",
       "      <td>True</td>\n",
       "    </tr>\n",
       "    <tr>\n",
       "      <td>21497</td>\n",
       "      <td>0</td>\n",
       "      <td>NaN</td>\n",
       "      <td>48</td>\n",
       "      <td>ВЫСШЕЕ</td>\n",
       "      <td>0</td>\n",
       "      <td>женат / замужем</td>\n",
       "      <td>0</td>\n",
       "      <td>F</td>\n",
       "      <td>компаньон</td>\n",
       "      <td>0</td>\n",
       "      <td>NaN</td>\n",
       "      <td>строительство недвижимости</td>\n",
       "      <td>True</td>\n",
       "    </tr>\n",
       "    <tr>\n",
       "      <td>21502</td>\n",
       "      <td>1</td>\n",
       "      <td>NaN</td>\n",
       "      <td>42</td>\n",
       "      <td>среднее</td>\n",
       "      <td>1</td>\n",
       "      <td>женат / замужем</td>\n",
       "      <td>0</td>\n",
       "      <td>F</td>\n",
       "      <td>сотрудник</td>\n",
       "      <td>0</td>\n",
       "      <td>NaN</td>\n",
       "      <td>строительство жилой недвижимости</td>\n",
       "      <td>True</td>\n",
       "    </tr>\n",
       "    <tr>\n",
       "      <td>21510</td>\n",
       "      <td>2</td>\n",
       "      <td>NaN</td>\n",
       "      <td>28</td>\n",
       "      <td>среднее</td>\n",
       "      <td>1</td>\n",
       "      <td>женат / замужем</td>\n",
       "      <td>0</td>\n",
       "      <td>F</td>\n",
       "      <td>сотрудник</td>\n",
       "      <td>0</td>\n",
       "      <td>NaN</td>\n",
       "      <td>приобретение автомобиля</td>\n",
       "      <td>True</td>\n",
       "    </tr>\n",
       "  </tbody>\n",
       "</table>\n",
       "<p>2174 rows × 13 columns</p>\n",
       "</div>"
      ],
      "text/plain": [
       "       children  days_employed  dob_years education  education_id  \\\n",
       "12            0            NaN         65   среднее             1   \n",
       "26            0            NaN         41   среднее             1   \n",
       "29            0            NaN         63   среднее             1   \n",
       "41            0            NaN         50   среднее             1   \n",
       "55            0            NaN         54   среднее             1   \n",
       "...         ...            ...        ...       ...           ...   \n",
       "21489         2            NaN         47   Среднее             1   \n",
       "21495         1            NaN         50   среднее             1   \n",
       "21497         0            NaN         48    ВЫСШЕЕ             0   \n",
       "21502         1            NaN         42   среднее             1   \n",
       "21510         2            NaN         28   среднее             1   \n",
       "\n",
       "               family_status  family_status_id gender  income_type  debt  \\\n",
       "12          гражданский брак                 1      M    пенсионер     0   \n",
       "26           женат / замужем                 0      M  госслужащий     0   \n",
       "29     Не женат / не замужем                 4      F    пенсионер     0   \n",
       "41           женат / замужем                 0      F  госслужащий     0   \n",
       "55          гражданский брак                 1      F    пенсионер     1   \n",
       "...                      ...               ...    ...          ...   ...   \n",
       "21489        женат / замужем                 0      M    компаньон     0   \n",
       "21495       гражданский брак                 1      F    сотрудник     0   \n",
       "21497        женат / замужем                 0      F    компаньон     0   \n",
       "21502        женат / замужем                 0      F    сотрудник     0   \n",
       "21510        женат / замужем                 0      F    сотрудник     0   \n",
       "\n",
       "       total_income                           purpose  null  \n",
       "12              NaN                   сыграть свадьбу  True  \n",
       "26              NaN                       образование  True  \n",
       "29              NaN  строительство жилой недвижимости  True  \n",
       "41              NaN  сделка с подержанным автомобилем  True  \n",
       "55              NaN                   сыграть свадьбу  True  \n",
       "...             ...                               ...   ...  \n",
       "21489           NaN              сделка с автомобилем  True  \n",
       "21495           NaN                           свадьба  True  \n",
       "21497           NaN        строительство недвижимости  True  \n",
       "21502           NaN  строительство жилой недвижимости  True  \n",
       "21510           NaN           приобретение автомобиля  True  \n",
       "\n",
       "[2174 rows x 13 columns]"
      ]
     },
     "execution_count": 4,
     "metadata": {},
     "output_type": "execute_result"
    }
   ],
   "source": [
    "# Возможно есть способо проще сделать маркировку строк имеющих пустые ячейки, но я его не искал.\n",
    "# Промаркируем строки имеющие пустые ячейки \n",
    "# для этого создадим столбец null и поставим True если в строке есть пустая ячейка\n",
    "def column_is_null(row):\n",
    "    result = False\n",
    "    for column in row.index:\n",
    "        if pd.isna(row[column]):\n",
    "            result = True\n",
    "    return result\n",
    "df['null'] = df.apply(column_is_null, axis=1)\n",
    "\n",
    "# Посмотрим на строки с пустыми ячейками\n",
    "df.loc[df.null == True]\n",
    "# т.к. пропуски присутсвуют в одних и тех же строках\n",
    "# то вероятнее всего это или не правильная выгрузка, или тот кто заполнял умышленно пропускал\n",
    "# или это была форма с возможностью пропускать эти поля."
   ]
  },
  {
   "cell_type": "code",
   "execution_count": 5,
   "metadata": {},
   "outputs": [
    {
     "data": {
      "text/plain": [
       "children            0\n",
       "days_employed       0\n",
       "dob_years           0\n",
       "education           0\n",
       "education_id        0\n",
       "family_status       0\n",
       "family_status_id    0\n",
       "gender              0\n",
       "income_type         0\n",
       "debt                0\n",
       "total_income        0\n",
       "purpose             0\n",
       "null                0\n",
       "year_employed       0\n",
       "dtype: int64"
      ]
     },
     "execution_count": 5,
     "metadata": {},
     "output_type": "execute_result"
    }
   ],
   "source": [
    "# Будем думать, что на трудовой стаж связан с возрастом.\n",
    "# Посчитаем средний трудовой стаж для возрастов.\n",
    "# Предварительно сделаем положительными отрицательные значения\n",
    "df['days_employed'] = abs(df['days_employed'])\n",
    "mean_days_employed = df.loc[df.null == False].groupby('dob_years')['days_employed'].mean()\n",
    "#присвоим средний трудовой стаж пропущеным значениям в соответсвии с возрастом\n",
    "for row in range(df.shape[0]):\n",
    "    if pd.isna(df.iloc[row, 1]):\n",
    "        df.iloc[row, 1] = mean_days_employed[df.iloc[row,2]]\n",
    "        \n",
    "#Будем думать, что доход связан с должностью\n",
    "mean_total_income = df.loc[df.null == False].groupby('income_type')['total_income'].mean()\n",
    "#присвоим средний доход пропущеным значениям в соответсвии с должностью\n",
    "for row in range(df.shape[0]):\n",
    "    if pd.isna(df.iloc[row, 10]) == True:\n",
    "        df.iloc[row, 10] = mean_total_income[df.iloc[row,8]]\n",
    "# Переведем дни в годы\n",
    "df['year_employed'] = df['days_employed'] / 365\n",
    "df['year_employed'] = df['year_employed'].astype('int')\n",
    "# Проверим всели нулевые значения мы заменили\n",
    "df.isnull().sum()"
   ]
  },
  {
   "cell_type": "code",
   "execution_count": 6,
   "metadata": {},
   "outputs": [
    {
     "data": {
      "text/html": [
       "<div>\n",
       "<style scoped>\n",
       "    .dataframe tbody tr th:only-of-type {\n",
       "        vertical-align: middle;\n",
       "    }\n",
       "\n",
       "    .dataframe tbody tr th {\n",
       "        vertical-align: top;\n",
       "    }\n",
       "\n",
       "    .dataframe thead th {\n",
       "        text-align: right;\n",
       "    }\n",
       "</style>\n",
       "<table border=\"1\" class=\"dataframe\">\n",
       "  <thead>\n",
       "    <tr style=\"text-align: right;\">\n",
       "      <th></th>\n",
       "      <th>children</th>\n",
       "      <th>days_employed</th>\n",
       "      <th>dob_years</th>\n",
       "      <th>education</th>\n",
       "      <th>education_id</th>\n",
       "      <th>family_status</th>\n",
       "      <th>family_status_id</th>\n",
       "      <th>gender</th>\n",
       "      <th>income_type</th>\n",
       "      <th>debt</th>\n",
       "      <th>total_income</th>\n",
       "      <th>purpose</th>\n",
       "      <th>null</th>\n",
       "      <th>year_employed</th>\n",
       "      <th>highlander</th>\n",
       "    </tr>\n",
       "  </thead>\n",
       "  <tbody>\n",
       "    <tr>\n",
       "      <td>4</td>\n",
       "      <td>0</td>\n",
       "      <td>340266.072047</td>\n",
       "      <td>53</td>\n",
       "      <td>среднее</td>\n",
       "      <td>1</td>\n",
       "      <td>гражданский брак</td>\n",
       "      <td>1</td>\n",
       "      <td>F</td>\n",
       "      <td>пенсионер</td>\n",
       "      <td>0</td>\n",
       "      <td>158616.077870</td>\n",
       "      <td>сыграть свадьбу</td>\n",
       "      <td>False</td>\n",
       "      <td>932</td>\n",
       "      <td>True</td>\n",
       "    </tr>\n",
       "    <tr>\n",
       "      <td>12</td>\n",
       "      <td>0</td>\n",
       "      <td>287448.538552</td>\n",
       "      <td>65</td>\n",
       "      <td>среднее</td>\n",
       "      <td>1</td>\n",
       "      <td>гражданский брак</td>\n",
       "      <td>1</td>\n",
       "      <td>M</td>\n",
       "      <td>пенсионер</td>\n",
       "      <td>0</td>\n",
       "      <td>137127.465690</td>\n",
       "      <td>сыграть свадьбу</td>\n",
       "      <td>True</td>\n",
       "      <td>787</td>\n",
       "      <td>True</td>\n",
       "    </tr>\n",
       "    <tr>\n",
       "      <td>18</td>\n",
       "      <td>0</td>\n",
       "      <td>400281.136913</td>\n",
       "      <td>53</td>\n",
       "      <td>среднее</td>\n",
       "      <td>1</td>\n",
       "      <td>вдовец / вдова</td>\n",
       "      <td>2</td>\n",
       "      <td>F</td>\n",
       "      <td>пенсионер</td>\n",
       "      <td>0</td>\n",
       "      <td>56823.777243</td>\n",
       "      <td>на покупку подержанного автомобиля</td>\n",
       "      <td>False</td>\n",
       "      <td>1096</td>\n",
       "      <td>True</td>\n",
       "    </tr>\n",
       "    <tr>\n",
       "      <td>24</td>\n",
       "      <td>1</td>\n",
       "      <td>338551.952911</td>\n",
       "      <td>57</td>\n",
       "      <td>среднее</td>\n",
       "      <td>1</td>\n",
       "      <td>Не женат / не замужем</td>\n",
       "      <td>4</td>\n",
       "      <td>F</td>\n",
       "      <td>пенсионер</td>\n",
       "      <td>0</td>\n",
       "      <td>290547.235997</td>\n",
       "      <td>операции с коммерческой недвижимостью</td>\n",
       "      <td>False</td>\n",
       "      <td>927</td>\n",
       "      <td>True</td>\n",
       "    </tr>\n",
       "    <tr>\n",
       "      <td>25</td>\n",
       "      <td>0</td>\n",
       "      <td>363548.489348</td>\n",
       "      <td>67</td>\n",
       "      <td>среднее</td>\n",
       "      <td>1</td>\n",
       "      <td>женат / замужем</td>\n",
       "      <td>0</td>\n",
       "      <td>M</td>\n",
       "      <td>пенсионер</td>\n",
       "      <td>0</td>\n",
       "      <td>55112.757732</td>\n",
       "      <td>покупка недвижимости</td>\n",
       "      <td>False</td>\n",
       "      <td>996</td>\n",
       "      <td>True</td>\n",
       "    </tr>\n",
       "    <tr>\n",
       "      <td>...</td>\n",
       "      <td>...</td>\n",
       "      <td>...</td>\n",
       "      <td>...</td>\n",
       "      <td>...</td>\n",
       "      <td>...</td>\n",
       "      <td>...</td>\n",
       "      <td>...</td>\n",
       "      <td>...</td>\n",
       "      <td>...</td>\n",
       "      <td>...</td>\n",
       "      <td>...</td>\n",
       "      <td>...</td>\n",
       "      <td>...</td>\n",
       "      <td>...</td>\n",
       "      <td>...</td>\n",
       "    </tr>\n",
       "    <tr>\n",
       "      <td>21505</td>\n",
       "      <td>0</td>\n",
       "      <td>338904.866406</td>\n",
       "      <td>53</td>\n",
       "      <td>среднее</td>\n",
       "      <td>1</td>\n",
       "      <td>гражданский брак</td>\n",
       "      <td>1</td>\n",
       "      <td>M</td>\n",
       "      <td>пенсионер</td>\n",
       "      <td>0</td>\n",
       "      <td>75439.993167</td>\n",
       "      <td>сыграть свадьбу</td>\n",
       "      <td>False</td>\n",
       "      <td>928</td>\n",
       "      <td>True</td>\n",
       "    </tr>\n",
       "    <tr>\n",
       "      <td>21508</td>\n",
       "      <td>0</td>\n",
       "      <td>386497.714078</td>\n",
       "      <td>62</td>\n",
       "      <td>среднее</td>\n",
       "      <td>1</td>\n",
       "      <td>женат / замужем</td>\n",
       "      <td>0</td>\n",
       "      <td>M</td>\n",
       "      <td>пенсионер</td>\n",
       "      <td>0</td>\n",
       "      <td>72638.590915</td>\n",
       "      <td>недвижимость</td>\n",
       "      <td>False</td>\n",
       "      <td>1058</td>\n",
       "      <td>True</td>\n",
       "    </tr>\n",
       "    <tr>\n",
       "      <td>21509</td>\n",
       "      <td>0</td>\n",
       "      <td>362161.054124</td>\n",
       "      <td>59</td>\n",
       "      <td>высшее</td>\n",
       "      <td>0</td>\n",
       "      <td>женат / замужем</td>\n",
       "      <td>0</td>\n",
       "      <td>M</td>\n",
       "      <td>пенсионер</td>\n",
       "      <td>0</td>\n",
       "      <td>73029.059379</td>\n",
       "      <td>операции с недвижимостью</td>\n",
       "      <td>False</td>\n",
       "      <td>992</td>\n",
       "      <td>True</td>\n",
       "    </tr>\n",
       "    <tr>\n",
       "      <td>21518</td>\n",
       "      <td>0</td>\n",
       "      <td>373995.710838</td>\n",
       "      <td>59</td>\n",
       "      <td>СРЕДНЕЕ</td>\n",
       "      <td>1</td>\n",
       "      <td>женат / замужем</td>\n",
       "      <td>0</td>\n",
       "      <td>F</td>\n",
       "      <td>пенсионер</td>\n",
       "      <td>0</td>\n",
       "      <td>153864.650328</td>\n",
       "      <td>сделка с автомобилем</td>\n",
       "      <td>False</td>\n",
       "      <td>1024</td>\n",
       "      <td>True</td>\n",
       "    </tr>\n",
       "    <tr>\n",
       "      <td>21521</td>\n",
       "      <td>0</td>\n",
       "      <td>343937.404131</td>\n",
       "      <td>67</td>\n",
       "      <td>среднее</td>\n",
       "      <td>1</td>\n",
       "      <td>женат / замужем</td>\n",
       "      <td>0</td>\n",
       "      <td>F</td>\n",
       "      <td>пенсионер</td>\n",
       "      <td>0</td>\n",
       "      <td>155999.806512</td>\n",
       "      <td>сделка с автомобилем</td>\n",
       "      <td>False</td>\n",
       "      <td>942</td>\n",
       "      <td>True</td>\n",
       "    </tr>\n",
       "  </tbody>\n",
       "</table>\n",
       "<p>4553 rows × 15 columns</p>\n",
       "</div>"
      ],
      "text/plain": [
       "       children  days_employed  dob_years education  education_id  \\\n",
       "4             0  340266.072047         53   среднее             1   \n",
       "12            0  287448.538552         65   среднее             1   \n",
       "18            0  400281.136913         53   среднее             1   \n",
       "24            1  338551.952911         57   среднее             1   \n",
       "25            0  363548.489348         67   среднее             1   \n",
       "...         ...            ...        ...       ...           ...   \n",
       "21505         0  338904.866406         53   среднее             1   \n",
       "21508         0  386497.714078         62   среднее             1   \n",
       "21509         0  362161.054124         59    высшее             0   \n",
       "21518         0  373995.710838         59   СРЕДНЕЕ             1   \n",
       "21521         0  343937.404131         67   среднее             1   \n",
       "\n",
       "               family_status  family_status_id gender income_type  debt  \\\n",
       "4           гражданский брак                 1      F   пенсионер     0   \n",
       "12          гражданский брак                 1      M   пенсионер     0   \n",
       "18            вдовец / вдова                 2      F   пенсионер     0   \n",
       "24     Не женат / не замужем                 4      F   пенсионер     0   \n",
       "25           женат / замужем                 0      M   пенсионер     0   \n",
       "...                      ...               ...    ...         ...   ...   \n",
       "21505       гражданский брак                 1      M   пенсионер     0   \n",
       "21508        женат / замужем                 0      M   пенсионер     0   \n",
       "21509        женат / замужем                 0      M   пенсионер     0   \n",
       "21518        женат / замужем                 0      F   пенсионер     0   \n",
       "21521        женат / замужем                 0      F   пенсионер     0   \n",
       "\n",
       "        total_income                                purpose   null  \\\n",
       "4      158616.077870                        сыграть свадьбу  False   \n",
       "12     137127.465690                        сыграть свадьбу   True   \n",
       "18      56823.777243     на покупку подержанного автомобиля  False   \n",
       "24     290547.235997  операции с коммерческой недвижимостью  False   \n",
       "25      55112.757732                   покупка недвижимости  False   \n",
       "...              ...                                    ...    ...   \n",
       "21505   75439.993167                        сыграть свадьбу  False   \n",
       "21508   72638.590915                           недвижимость  False   \n",
       "21509   73029.059379               операции с недвижимостью  False   \n",
       "21518  153864.650328                   сделка с автомобилем  False   \n",
       "21521  155999.806512                   сделка с автомобилем  False   \n",
       "\n",
       "       year_employed  highlander  \n",
       "4                932        True  \n",
       "12               787        True  \n",
       "18              1096        True  \n",
       "24               927        True  \n",
       "25               996        True  \n",
       "...              ...         ...  \n",
       "21505            928        True  \n",
       "21508           1058        True  \n",
       "21509            992        True  \n",
       "21518           1024        True  \n",
       "21521            942        True  \n",
       "\n",
       "[4553 rows x 15 columns]"
      ]
     },
     "execution_count": 6,
     "metadata": {},
     "output_type": "execute_result"
    }
   ],
   "source": [
    "# Проверим есть ли люди у которых общий трудовой стаж превосходит их возраст минус 14 лет\n",
    "def highlander(row):\n",
    "    result = False\n",
    "    if row['year_employed'] > row['dob_years'] - 14 :\n",
    "            result = True\n",
    "    return result\n",
    "df['highlander'] = df.apply(highlander, axis=1)\n",
    "df.loc[df['highlander'] == True]"
   ]
  },
  {
   "cell_type": "code",
   "execution_count": 7,
   "metadata": {},
   "outputs": [],
   "source": [
    "# Ого 4553 человек смогли нафармить опыта больше чем прожили снимаю шляпу молодцы, но что-то тут не то.\n",
    "# Недолго яндексив понял, что скорее всего это часы. Ну вот все переделывать.\n",
    "def hours_to_day(row):\n",
    "    result = row['days_employed']\n",
    "    if row['year_employed'] > row['dob_years'] - 14 :\n",
    "            result = int(row['days_employed'] / 60)\n",
    "    return result\n",
    "df['days_employed'] = df.apply(hours_to_day, axis=1)"
   ]
  },
  {
   "cell_type": "code",
   "execution_count": 8,
   "metadata": {},
   "outputs": [
    {
     "data": {
      "text/html": [
       "<div>\n",
       "<style scoped>\n",
       "    .dataframe tbody tr th:only-of-type {\n",
       "        vertical-align: middle;\n",
       "    }\n",
       "\n",
       "    .dataframe tbody tr th {\n",
       "        vertical-align: top;\n",
       "    }\n",
       "\n",
       "    .dataframe thead th {\n",
       "        text-align: right;\n",
       "    }\n",
       "</style>\n",
       "<table border=\"1\" class=\"dataframe\">\n",
       "  <thead>\n",
       "    <tr style=\"text-align: right;\">\n",
       "      <th></th>\n",
       "      <th>children</th>\n",
       "      <th>days_employed</th>\n",
       "      <th>dob_years</th>\n",
       "      <th>education</th>\n",
       "      <th>education_id</th>\n",
       "      <th>family_status</th>\n",
       "      <th>family_status_id</th>\n",
       "      <th>gender</th>\n",
       "      <th>income_type</th>\n",
       "      <th>debt</th>\n",
       "      <th>total_income</th>\n",
       "      <th>purpose</th>\n",
       "      <th>null</th>\n",
       "      <th>year_employed</th>\n",
       "      <th>highlander</th>\n",
       "    </tr>\n",
       "  </thead>\n",
       "  <tbody>\n",
       "    <tr>\n",
       "      <td>99</td>\n",
       "      <td>0</td>\n",
       "      <td>5775.0</td>\n",
       "      <td>0</td>\n",
       "      <td>Среднее</td>\n",
       "      <td>1</td>\n",
       "      <td>женат / замужем</td>\n",
       "      <td>0</td>\n",
       "      <td>F</td>\n",
       "      <td>пенсионер</td>\n",
       "      <td>0</td>\n",
       "      <td>71291.522491</td>\n",
       "      <td>автомобиль</td>\n",
       "      <td>False</td>\n",
       "      <td>15</td>\n",
       "      <td>True</td>\n",
       "    </tr>\n",
       "    <tr>\n",
       "      <td>149</td>\n",
       "      <td>0</td>\n",
       "      <td>44.0</td>\n",
       "      <td>0</td>\n",
       "      <td>среднее</td>\n",
       "      <td>1</td>\n",
       "      <td>в разводе</td>\n",
       "      <td>3</td>\n",
       "      <td>F</td>\n",
       "      <td>сотрудник</td>\n",
       "      <td>0</td>\n",
       "      <td>70176.435951</td>\n",
       "      <td>операции с жильем</td>\n",
       "      <td>False</td>\n",
       "      <td>0</td>\n",
       "      <td>True</td>\n",
       "    </tr>\n",
       "    <tr>\n",
       "      <td>270</td>\n",
       "      <td>3</td>\n",
       "      <td>31.0</td>\n",
       "      <td>0</td>\n",
       "      <td>среднее</td>\n",
       "      <td>1</td>\n",
       "      <td>женат / замужем</td>\n",
       "      <td>0</td>\n",
       "      <td>F</td>\n",
       "      <td>сотрудник</td>\n",
       "      <td>0</td>\n",
       "      <td>102166.458894</td>\n",
       "      <td>ремонт жилью</td>\n",
       "      <td>False</td>\n",
       "      <td>0</td>\n",
       "      <td>True</td>\n",
       "    </tr>\n",
       "    <tr>\n",
       "      <td>578</td>\n",
       "      <td>0</td>\n",
       "      <td>6630.0</td>\n",
       "      <td>0</td>\n",
       "      <td>среднее</td>\n",
       "      <td>1</td>\n",
       "      <td>женат / замужем</td>\n",
       "      <td>0</td>\n",
       "      <td>F</td>\n",
       "      <td>пенсионер</td>\n",
       "      <td>0</td>\n",
       "      <td>97620.687042</td>\n",
       "      <td>строительство собственной недвижимости</td>\n",
       "      <td>False</td>\n",
       "      <td>18</td>\n",
       "      <td>True</td>\n",
       "    </tr>\n",
       "    <tr>\n",
       "      <td>1040</td>\n",
       "      <td>0</td>\n",
       "      <td>19.0</td>\n",
       "      <td>0</td>\n",
       "      <td>высшее</td>\n",
       "      <td>0</td>\n",
       "      <td>в разводе</td>\n",
       "      <td>3</td>\n",
       "      <td>F</td>\n",
       "      <td>компаньон</td>\n",
       "      <td>0</td>\n",
       "      <td>303994.134987</td>\n",
       "      <td>свой автомобиль</td>\n",
       "      <td>False</td>\n",
       "      <td>0</td>\n",
       "      <td>True</td>\n",
       "    </tr>\n",
       "    <tr>\n",
       "      <td>...</td>\n",
       "      <td>...</td>\n",
       "      <td>...</td>\n",
       "      <td>...</td>\n",
       "      <td>...</td>\n",
       "      <td>...</td>\n",
       "      <td>...</td>\n",
       "      <td>...</td>\n",
       "      <td>...</td>\n",
       "      <td>...</td>\n",
       "      <td>...</td>\n",
       "      <td>...</td>\n",
       "      <td>...</td>\n",
       "      <td>...</td>\n",
       "      <td>...</td>\n",
       "      <td>...</td>\n",
       "    </tr>\n",
       "    <tr>\n",
       "      <td>19829</td>\n",
       "      <td>0</td>\n",
       "      <td>1158.0</td>\n",
       "      <td>0</td>\n",
       "      <td>среднее</td>\n",
       "      <td>1</td>\n",
       "      <td>женат / замужем</td>\n",
       "      <td>0</td>\n",
       "      <td>F</td>\n",
       "      <td>сотрудник</td>\n",
       "      <td>0</td>\n",
       "      <td>161380.260488</td>\n",
       "      <td>жилье</td>\n",
       "      <td>True</td>\n",
       "      <td>3</td>\n",
       "      <td>True</td>\n",
       "    </tr>\n",
       "    <tr>\n",
       "      <td>20462</td>\n",
       "      <td>0</td>\n",
       "      <td>5645.0</td>\n",
       "      <td>0</td>\n",
       "      <td>среднее</td>\n",
       "      <td>1</td>\n",
       "      <td>женат / замужем</td>\n",
       "      <td>0</td>\n",
       "      <td>F</td>\n",
       "      <td>пенсионер</td>\n",
       "      <td>0</td>\n",
       "      <td>259193.920299</td>\n",
       "      <td>покупка своего жилья</td>\n",
       "      <td>False</td>\n",
       "      <td>15</td>\n",
       "      <td>True</td>\n",
       "    </tr>\n",
       "    <tr>\n",
       "      <td>20577</td>\n",
       "      <td>0</td>\n",
       "      <td>5529.0</td>\n",
       "      <td>0</td>\n",
       "      <td>среднее</td>\n",
       "      <td>1</td>\n",
       "      <td>Не женат / не замужем</td>\n",
       "      <td>4</td>\n",
       "      <td>F</td>\n",
       "      <td>пенсионер</td>\n",
       "      <td>0</td>\n",
       "      <td>129788.762899</td>\n",
       "      <td>недвижимость</td>\n",
       "      <td>False</td>\n",
       "      <td>15</td>\n",
       "      <td>True</td>\n",
       "    </tr>\n",
       "    <tr>\n",
       "      <td>21179</td>\n",
       "      <td>2</td>\n",
       "      <td>1.0</td>\n",
       "      <td>0</td>\n",
       "      <td>высшее</td>\n",
       "      <td>0</td>\n",
       "      <td>женат / замужем</td>\n",
       "      <td>0</td>\n",
       "      <td>M</td>\n",
       "      <td>компаньон</td>\n",
       "      <td>0</td>\n",
       "      <td>240702.007382</td>\n",
       "      <td>строительство жилой недвижимости</td>\n",
       "      <td>False</td>\n",
       "      <td>0</td>\n",
       "      <td>True</td>\n",
       "    </tr>\n",
       "    <tr>\n",
       "      <td>21313</td>\n",
       "      <td>0</td>\n",
       "      <td>21.0</td>\n",
       "      <td>0</td>\n",
       "      <td>среднее</td>\n",
       "      <td>1</td>\n",
       "      <td>Не женат / не замужем</td>\n",
       "      <td>4</td>\n",
       "      <td>M</td>\n",
       "      <td>сотрудник</td>\n",
       "      <td>0</td>\n",
       "      <td>152419.184851</td>\n",
       "      <td>операции с жильем</td>\n",
       "      <td>False</td>\n",
       "      <td>0</td>\n",
       "      <td>True</td>\n",
       "    </tr>\n",
       "  </tbody>\n",
       "</table>\n",
       "<p>108 rows × 15 columns</p>\n",
       "</div>"
      ],
      "text/plain": [
       "       children  days_employed  dob_years education  education_id  \\\n",
       "99            0         5775.0          0   Среднее             1   \n",
       "149           0           44.0          0   среднее             1   \n",
       "270           3           31.0          0   среднее             1   \n",
       "578           0         6630.0          0   среднее             1   \n",
       "1040          0           19.0          0    высшее             0   \n",
       "...         ...            ...        ...       ...           ...   \n",
       "19829         0         1158.0          0   среднее             1   \n",
       "20462         0         5645.0          0   среднее             1   \n",
       "20577         0         5529.0          0   среднее             1   \n",
       "21179         2            1.0          0    высшее             0   \n",
       "21313         0           21.0          0   среднее             1   \n",
       "\n",
       "               family_status  family_status_id gender income_type  debt  \\\n",
       "99           женат / замужем                 0      F   пенсионер     0   \n",
       "149                в разводе                 3      F   сотрудник     0   \n",
       "270          женат / замужем                 0      F   сотрудник     0   \n",
       "578          женат / замужем                 0      F   пенсионер     0   \n",
       "1040               в разводе                 3      F   компаньон     0   \n",
       "...                      ...               ...    ...         ...   ...   \n",
       "19829        женат / замужем                 0      F   сотрудник     0   \n",
       "20462        женат / замужем                 0      F   пенсионер     0   \n",
       "20577  Не женат / не замужем                 4      F   пенсионер     0   \n",
       "21179        женат / замужем                 0      M   компаньон     0   \n",
       "21313  Не женат / не замужем                 4      M   сотрудник     0   \n",
       "\n",
       "        total_income                                 purpose   null  \\\n",
       "99      71291.522491                              автомобиль  False   \n",
       "149     70176.435951                       операции с жильем  False   \n",
       "270    102166.458894                            ремонт жилью  False   \n",
       "578     97620.687042  строительство собственной недвижимости  False   \n",
       "1040   303994.134987                         свой автомобиль  False   \n",
       "...              ...                                     ...    ...   \n",
       "19829  161380.260488                                   жилье   True   \n",
       "20462  259193.920299                    покупка своего жилья  False   \n",
       "20577  129788.762899                            недвижимость  False   \n",
       "21179  240702.007382        строительство жилой недвижимости  False   \n",
       "21313  152419.184851                       операции с жильем  False   \n",
       "\n",
       "       year_employed  highlander  \n",
       "99                15        True  \n",
       "149                0        True  \n",
       "270                0        True  \n",
       "578               18        True  \n",
       "1040               0        True  \n",
       "...              ...         ...  \n",
       "19829              3        True  \n",
       "20462             15        True  \n",
       "20577             15        True  \n",
       "21179              0        True  \n",
       "21313              0        True  \n",
       "\n",
       "[108 rows x 15 columns]"
      ]
     },
     "execution_count": 8,
     "metadata": {},
     "output_type": "execute_result"
    }
   ],
   "source": [
    "#перепроверим\n",
    "df['year_employed'] = df['days_employed'] / 365\n",
    "df['year_employed'] = df['year_employed'].astype('int')\n",
    "df['highlander'] = df.apply(highlander, axis=1)\n",
    "df.loc[df['highlander'] == True]"
   ]
  },
  {
   "cell_type": "code",
   "execution_count": 9,
   "metadata": {},
   "outputs": [],
   "source": [
    "# Отлично есть люди которым 0 лет скорее всего просто забыли вписать их возраст\n",
    "# Буду думать, что на dob_years влияет income_type\n",
    "mean_dob_years = df.groupby('income_type')['dob_years'].mean()\n",
    "for row in range(df.shape[0]):\n",
    "    if df.iloc[row, 2] == 0:\n",
    "        df.iloc[row, 2] = int(mean_dob_years[df.iloc[row,8]])"
   ]
  },
  {
   "cell_type": "markdown",
   "metadata": {},
   "source": [
    "**Вывод**"
   ]
  },
  {
   "cell_type": "markdown",
   "metadata": {},
   "source": [
    "Все пропущенные данные были заполнены средними значениями в своих группах, что повысить точность прогноза в дальнейшем."
   ]
  },
  {
   "cell_type": "markdown",
   "metadata": {},
   "source": [
    "### Замена типа данных"
   ]
  },
  {
   "cell_type": "code",
   "execution_count": 10,
   "metadata": {},
   "outputs": [],
   "source": [
    "# Для замены типа данных используем astype т.к. его можно применять сразу к столбцу\n",
    "try:\n",
    "    df['days_employed'] = df['days_employed'].astype(int)\n",
    "    df['total_income'] = df['total_income'].astype(int)\n",
    "except:\n",
    "    print('возможно есть пустые строки')"
   ]
  },
  {
   "cell_type": "markdown",
   "metadata": {},
   "source": [
    "**Вывод**"
   ]
  },
  {
   "cell_type": "markdown",
   "metadata": {},
   "source": [
    "Количесво дней трудового стажа `days_employed` и ежемесячный доход `total_income` лучше хранить в целых так они будут занимать меньше места, а их дробная часть погоды не сыграет."
   ]
  },
  {
   "cell_type": "markdown",
   "metadata": {},
   "source": [
    "### Обработка дубликатов"
   ]
  },
  {
   "cell_type": "code",
   "execution_count": 11,
   "metadata": {},
   "outputs": [
    {
     "name": "stdout",
     "output_type": "stream",
     "text": [
      "<class 'pandas.core.frame.DataFrame'>\n",
      "Int64Index: 21471 entries, 0 to 21524\n",
      "Data columns (total 15 columns):\n",
      "children            21471 non-null int64\n",
      "days_employed       21471 non-null int64\n",
      "dob_years           21471 non-null int64\n",
      "education           21471 non-null object\n",
      "education_id        21471 non-null int64\n",
      "family_status       21471 non-null object\n",
      "family_status_id    21471 non-null int64\n",
      "gender              21471 non-null object\n",
      "income_type         21471 non-null object\n",
      "debt                21471 non-null int64\n",
      "total_income        21471 non-null int64\n",
      "purpose             21471 non-null object\n",
      "null                21471 non-null bool\n",
      "year_employed       21471 non-null int64\n",
      "highlander          21471 non-null bool\n",
      "dtypes: bool(2), int64(8), object(5)\n",
      "memory usage: 2.3+ MB\n"
     ]
    }
   ],
   "source": [
    "# Использую drop_duplicates для удаления полных дублей строк в датасете.\n",
    "# Дубликаты могли появится в связи с ошибками ввода, \n",
    "# пропущенными и потом заполнеными данными, человеком приходившим несколько раз в разные филиалы\n",
    "# В столбцах дубликаты могли появится \n",
    "df.drop_duplicates(inplace=True)\n",
    "df.reset_index(drop=True)\n",
    "df.info()"
   ]
  },
  {
   "cell_type": "markdown",
   "metadata": {},
   "source": [
    "**Вывод**"
   ]
  },
  {
   "cell_type": "markdown",
   "metadata": {},
   "source": [
    "Удалим строки с полными дублями. Количесво строк после удаления уменьшилось."
   ]
  },
  {
   "cell_type": "markdown",
   "metadata": {},
   "source": [
    "### Лемматизация"
   ]
  },
  {
   "cell_type": "code",
   "execution_count": 12,
   "metadata": {},
   "outputs": [
    {
     "data": {
      "text/html": [
       "<div>\n",
       "<style scoped>\n",
       "    .dataframe tbody tr th:only-of-type {\n",
       "        vertical-align: middle;\n",
       "    }\n",
       "\n",
       "    .dataframe tbody tr th {\n",
       "        vertical-align: top;\n",
       "    }\n",
       "\n",
       "    .dataframe thead th {\n",
       "        text-align: right;\n",
       "    }\n",
       "</style>\n",
       "<table border=\"1\" class=\"dataframe\">\n",
       "  <thead>\n",
       "    <tr style=\"text-align: right;\">\n",
       "      <th></th>\n",
       "      <th>children</th>\n",
       "      <th>days_employed</th>\n",
       "      <th>dob_years</th>\n",
       "      <th>education</th>\n",
       "      <th>education_id</th>\n",
       "      <th>family_status</th>\n",
       "      <th>family_status_id</th>\n",
       "      <th>gender</th>\n",
       "      <th>income_type</th>\n",
       "      <th>debt</th>\n",
       "      <th>total_income</th>\n",
       "      <th>purpose</th>\n",
       "      <th>null</th>\n",
       "      <th>year_employed</th>\n",
       "      <th>highlander</th>\n",
       "      <th>lemma_purpose</th>\n",
       "      <th>education_purpose</th>\n",
       "    </tr>\n",
       "  </thead>\n",
       "  <tbody>\n",
       "    <tr>\n",
       "      <td>0</td>\n",
       "      <td>1</td>\n",
       "      <td>8437</td>\n",
       "      <td>42</td>\n",
       "      <td>высшее</td>\n",
       "      <td>0</td>\n",
       "      <td>женат / замужем</td>\n",
       "      <td>0</td>\n",
       "      <td>F</td>\n",
       "      <td>сотрудник</td>\n",
       "      <td>0</td>\n",
       "      <td>253875</td>\n",
       "      <td>покупка жилья</td>\n",
       "      <td>False</td>\n",
       "      <td>23</td>\n",
       "      <td>False</td>\n",
       "      <td>покупка жилье</td>\n",
       "      <td>высокий</td>\n",
       "    </tr>\n",
       "    <tr>\n",
       "      <td>1</td>\n",
       "      <td>1</td>\n",
       "      <td>4024</td>\n",
       "      <td>36</td>\n",
       "      <td>среднее</td>\n",
       "      <td>1</td>\n",
       "      <td>женат / замужем</td>\n",
       "      <td>0</td>\n",
       "      <td>F</td>\n",
       "      <td>сотрудник</td>\n",
       "      <td>0</td>\n",
       "      <td>112080</td>\n",
       "      <td>приобретение автомобиля</td>\n",
       "      <td>False</td>\n",
       "      <td>11</td>\n",
       "      <td>False</td>\n",
       "      <td>приобретение автомобиль</td>\n",
       "      <td>средний</td>\n",
       "    </tr>\n",
       "    <tr>\n",
       "      <td>2</td>\n",
       "      <td>0</td>\n",
       "      <td>5623</td>\n",
       "      <td>33</td>\n",
       "      <td>Среднее</td>\n",
       "      <td>1</td>\n",
       "      <td>женат / замужем</td>\n",
       "      <td>0</td>\n",
       "      <td>M</td>\n",
       "      <td>сотрудник</td>\n",
       "      <td>0</td>\n",
       "      <td>145885</td>\n",
       "      <td>покупка жилья</td>\n",
       "      <td>False</td>\n",
       "      <td>15</td>\n",
       "      <td>False</td>\n",
       "      <td>покупка жилье</td>\n",
       "      <td>средний</td>\n",
       "    </tr>\n",
       "    <tr>\n",
       "      <td>3</td>\n",
       "      <td>3</td>\n",
       "      <td>4124</td>\n",
       "      <td>32</td>\n",
       "      <td>среднее</td>\n",
       "      <td>1</td>\n",
       "      <td>женат / замужем</td>\n",
       "      <td>0</td>\n",
       "      <td>M</td>\n",
       "      <td>сотрудник</td>\n",
       "      <td>0</td>\n",
       "      <td>267628</td>\n",
       "      <td>дополнительное образование</td>\n",
       "      <td>False</td>\n",
       "      <td>11</td>\n",
       "      <td>False</td>\n",
       "      <td>дополнительный образование</td>\n",
       "      <td>средний</td>\n",
       "    </tr>\n",
       "    <tr>\n",
       "      <td>4</td>\n",
       "      <td>0</td>\n",
       "      <td>5671</td>\n",
       "      <td>53</td>\n",
       "      <td>среднее</td>\n",
       "      <td>1</td>\n",
       "      <td>гражданский брак</td>\n",
       "      <td>1</td>\n",
       "      <td>F</td>\n",
       "      <td>пенсионер</td>\n",
       "      <td>0</td>\n",
       "      <td>158616</td>\n",
       "      <td>сыграть свадьбу</td>\n",
       "      <td>False</td>\n",
       "      <td>15</td>\n",
       "      <td>False</td>\n",
       "      <td>сыграть свадьба</td>\n",
       "      <td>средний</td>\n",
       "    </tr>\n",
       "    <tr>\n",
       "      <td>...</td>\n",
       "      <td>...</td>\n",
       "      <td>...</td>\n",
       "      <td>...</td>\n",
       "      <td>...</td>\n",
       "      <td>...</td>\n",
       "      <td>...</td>\n",
       "      <td>...</td>\n",
       "      <td>...</td>\n",
       "      <td>...</td>\n",
       "      <td>...</td>\n",
       "      <td>...</td>\n",
       "      <td>...</td>\n",
       "      <td>...</td>\n",
       "      <td>...</td>\n",
       "      <td>...</td>\n",
       "      <td>...</td>\n",
       "      <td>...</td>\n",
       "    </tr>\n",
       "    <tr>\n",
       "      <td>21520</td>\n",
       "      <td>1</td>\n",
       "      <td>4529</td>\n",
       "      <td>43</td>\n",
       "      <td>среднее</td>\n",
       "      <td>1</td>\n",
       "      <td>гражданский брак</td>\n",
       "      <td>1</td>\n",
       "      <td>F</td>\n",
       "      <td>компаньон</td>\n",
       "      <td>0</td>\n",
       "      <td>224791</td>\n",
       "      <td>операции с жильем</td>\n",
       "      <td>False</td>\n",
       "      <td>12</td>\n",
       "      <td>False</td>\n",
       "      <td>операция с жилье</td>\n",
       "      <td>средний</td>\n",
       "    </tr>\n",
       "    <tr>\n",
       "      <td>21521</td>\n",
       "      <td>0</td>\n",
       "      <td>5732</td>\n",
       "      <td>67</td>\n",
       "      <td>среднее</td>\n",
       "      <td>1</td>\n",
       "      <td>женат / замужем</td>\n",
       "      <td>0</td>\n",
       "      <td>F</td>\n",
       "      <td>пенсионер</td>\n",
       "      <td>0</td>\n",
       "      <td>155999</td>\n",
       "      <td>сделка с автомобилем</td>\n",
       "      <td>False</td>\n",
       "      <td>15</td>\n",
       "      <td>False</td>\n",
       "      <td>сделка с автомобиль</td>\n",
       "      <td>средний</td>\n",
       "    </tr>\n",
       "    <tr>\n",
       "      <td>21522</td>\n",
       "      <td>1</td>\n",
       "      <td>2113</td>\n",
       "      <td>38</td>\n",
       "      <td>среднее</td>\n",
       "      <td>1</td>\n",
       "      <td>гражданский брак</td>\n",
       "      <td>1</td>\n",
       "      <td>M</td>\n",
       "      <td>сотрудник</td>\n",
       "      <td>1</td>\n",
       "      <td>89672</td>\n",
       "      <td>недвижимость</td>\n",
       "      <td>False</td>\n",
       "      <td>5</td>\n",
       "      <td>False</td>\n",
       "      <td>недвижимость</td>\n",
       "      <td>средний</td>\n",
       "    </tr>\n",
       "    <tr>\n",
       "      <td>21523</td>\n",
       "      <td>3</td>\n",
       "      <td>3112</td>\n",
       "      <td>38</td>\n",
       "      <td>среднее</td>\n",
       "      <td>1</td>\n",
       "      <td>женат / замужем</td>\n",
       "      <td>0</td>\n",
       "      <td>M</td>\n",
       "      <td>сотрудник</td>\n",
       "      <td>1</td>\n",
       "      <td>244093</td>\n",
       "      <td>на покупку своего автомобиля</td>\n",
       "      <td>False</td>\n",
       "      <td>8</td>\n",
       "      <td>False</td>\n",
       "      <td>на покупка свой автомобиль</td>\n",
       "      <td>средний</td>\n",
       "    </tr>\n",
       "    <tr>\n",
       "      <td>21524</td>\n",
       "      <td>2</td>\n",
       "      <td>1984</td>\n",
       "      <td>40</td>\n",
       "      <td>среднее</td>\n",
       "      <td>1</td>\n",
       "      <td>женат / замужем</td>\n",
       "      <td>0</td>\n",
       "      <td>F</td>\n",
       "      <td>сотрудник</td>\n",
       "      <td>0</td>\n",
       "      <td>82047</td>\n",
       "      <td>на покупку автомобиля</td>\n",
       "      <td>False</td>\n",
       "      <td>5</td>\n",
       "      <td>False</td>\n",
       "      <td>на покупка автомобиль</td>\n",
       "      <td>средний</td>\n",
       "    </tr>\n",
       "  </tbody>\n",
       "</table>\n",
       "<p>21471 rows × 17 columns</p>\n",
       "</div>"
      ],
      "text/plain": [
       "       children  days_employed  dob_years education  education_id  \\\n",
       "0             1           8437         42    высшее             0   \n",
       "1             1           4024         36   среднее             1   \n",
       "2             0           5623         33   Среднее             1   \n",
       "3             3           4124         32   среднее             1   \n",
       "4             0           5671         53   среднее             1   \n",
       "...         ...            ...        ...       ...           ...   \n",
       "21520         1           4529         43   среднее             1   \n",
       "21521         0           5732         67   среднее             1   \n",
       "21522         1           2113         38   среднее             1   \n",
       "21523         3           3112         38   среднее             1   \n",
       "21524         2           1984         40   среднее             1   \n",
       "\n",
       "          family_status  family_status_id gender income_type  debt  \\\n",
       "0       женат / замужем                 0      F   сотрудник     0   \n",
       "1       женат / замужем                 0      F   сотрудник     0   \n",
       "2       женат / замужем                 0      M   сотрудник     0   \n",
       "3       женат / замужем                 0      M   сотрудник     0   \n",
       "4      гражданский брак                 1      F   пенсионер     0   \n",
       "...                 ...               ...    ...         ...   ...   \n",
       "21520  гражданский брак                 1      F   компаньон     0   \n",
       "21521   женат / замужем                 0      F   пенсионер     0   \n",
       "21522  гражданский брак                 1      M   сотрудник     1   \n",
       "21523   женат / замужем                 0      M   сотрудник     1   \n",
       "21524   женат / замужем                 0      F   сотрудник     0   \n",
       "\n",
       "       total_income                       purpose   null  year_employed  \\\n",
       "0            253875                 покупка жилья  False             23   \n",
       "1            112080       приобретение автомобиля  False             11   \n",
       "2            145885                 покупка жилья  False             15   \n",
       "3            267628    дополнительное образование  False             11   \n",
       "4            158616               сыграть свадьбу  False             15   \n",
       "...             ...                           ...    ...            ...   \n",
       "21520        224791             операции с жильем  False             12   \n",
       "21521        155999          сделка с автомобилем  False             15   \n",
       "21522         89672                  недвижимость  False              5   \n",
       "21523        244093  на покупку своего автомобиля  False              8   \n",
       "21524         82047         на покупку автомобиля  False              5   \n",
       "\n",
       "       highlander               lemma_purpose education_purpose  \n",
       "0           False               покупка жилье           высокий  \n",
       "1           False     приобретение автомобиль           средний  \n",
       "2           False               покупка жилье           средний  \n",
       "3           False  дополнительный образование           средний  \n",
       "4           False             сыграть свадьба           средний  \n",
       "...           ...                         ...               ...  \n",
       "21520       False            операция с жилье           средний  \n",
       "21521       False         сделка с автомобиль           средний  \n",
       "21522       False                недвижимость           средний  \n",
       "21523       False  на покупка свой автомобиль           средний  \n",
       "21524       False       на покупка автомобиль           средний  \n",
       "\n",
       "[21471 rows x 17 columns]"
      ]
     },
     "execution_count": 12,
     "metadata": {},
     "output_type": "execute_result"
    }
   ],
   "source": [
    "# Я не зна как описать процесс Лемматизации.\n",
    "# Но я взял фразы лемматизировал удалил переносы строк и превратил в строку\n",
    "from pymystem3 import Mystem\n",
    "m = Mystem()\n",
    "def lem_ctw(row):\n",
    "    return ''.join(m.lemmatize(row)).strip( '\\n' )\n",
    "df['lemma_purpose'] = df['purpose'].apply(lem_ctw)\n",
    "df['education_purpose'] = df['education'].apply(lem_ctw)\n",
    "df"
   ]
  },
  {
   "cell_type": "markdown",
   "metadata": {},
   "source": [
    "**Вывод**"
   ]
  },
  {
   "cell_type": "markdown",
   "metadata": {},
   "source": [
    "Получим леммы `purpose` — цель получения кредита, чтобы было проще искать на каие цели получали кредит.\n",
    "Также преобразуем `education` — уровень образования клиента,чтобы было проще искать группы по образованию."
   ]
  },
  {
   "cell_type": "markdown",
   "metadata": {},
   "source": [
    "### Категоризация данных"
   ]
  },
  {
   "cell_type": "code",
   "execution_count": 13,
   "metadata": {},
   "outputs": [
    {
     "data": {
      "text/html": [
       "<div>\n",
       "<style scoped>\n",
       "    .dataframe tbody tr th:only-of-type {\n",
       "        vertical-align: middle;\n",
       "    }\n",
       "\n",
       "    .dataframe tbody tr th {\n",
       "        vertical-align: top;\n",
       "    }\n",
       "\n",
       "    .dataframe thead th {\n",
       "        text-align: right;\n",
       "    }\n",
       "</style>\n",
       "<table border=\"1\" class=\"dataframe\">\n",
       "  <thead>\n",
       "    <tr style=\"text-align: right;\">\n",
       "      <th></th>\n",
       "      <th>children</th>\n",
       "      <th>days_employed</th>\n",
       "      <th>dob_years</th>\n",
       "      <th>education</th>\n",
       "      <th>education_id</th>\n",
       "      <th>family_status</th>\n",
       "      <th>family_status_id</th>\n",
       "      <th>gender</th>\n",
       "      <th>income_type</th>\n",
       "      <th>debt</th>\n",
       "      <th>total_income</th>\n",
       "      <th>purpose</th>\n",
       "      <th>null</th>\n",
       "      <th>year_employed</th>\n",
       "      <th>highlander</th>\n",
       "      <th>lemma_purpose</th>\n",
       "      <th>education_purpose</th>\n",
       "      <th>pepole_class</th>\n",
       "    </tr>\n",
       "  </thead>\n",
       "  <tbody>\n",
       "    <tr>\n",
       "      <td>0</td>\n",
       "      <td>1</td>\n",
       "      <td>8437</td>\n",
       "      <td>42</td>\n",
       "      <td>высшее</td>\n",
       "      <td>0</td>\n",
       "      <td>женат / замужем</td>\n",
       "      <td>0</td>\n",
       "      <td>F</td>\n",
       "      <td>сотрудник</td>\n",
       "      <td>0</td>\n",
       "      <td>253875</td>\n",
       "      <td>покупка жилья</td>\n",
       "      <td>False</td>\n",
       "      <td>23</td>\n",
       "      <td>False</td>\n",
       "      <td>покупка жилье</td>\n",
       "      <td>высокий</td>\n",
       "      <td>268671</td>\n",
       "    </tr>\n",
       "    <tr>\n",
       "      <td>1</td>\n",
       "      <td>1</td>\n",
       "      <td>4024</td>\n",
       "      <td>36</td>\n",
       "      <td>среднее</td>\n",
       "      <td>1</td>\n",
       "      <td>женат / замужем</td>\n",
       "      <td>0</td>\n",
       "      <td>F</td>\n",
       "      <td>сотрудник</td>\n",
       "      <td>0</td>\n",
       "      <td>112080</td>\n",
       "      <td>приобретение автомобиля</td>\n",
       "      <td>False</td>\n",
       "      <td>11</td>\n",
       "      <td>False</td>\n",
       "      <td>приобретение автомобиль</td>\n",
       "      <td>средний</td>\n",
       "      <td>103335</td>\n",
       "    </tr>\n",
       "    <tr>\n",
       "      <td>2</td>\n",
       "      <td>0</td>\n",
       "      <td>5623</td>\n",
       "      <td>33</td>\n",
       "      <td>Среднее</td>\n",
       "      <td>1</td>\n",
       "      <td>женат / замужем</td>\n",
       "      <td>0</td>\n",
       "      <td>M</td>\n",
       "      <td>сотрудник</td>\n",
       "      <td>0</td>\n",
       "      <td>145885</td>\n",
       "      <td>покупка жилья</td>\n",
       "      <td>False</td>\n",
       "      <td>15</td>\n",
       "      <td>False</td>\n",
       "      <td>покупка жилье</td>\n",
       "      <td>средний</td>\n",
       "      <td>144669</td>\n",
       "    </tr>\n",
       "    <tr>\n",
       "      <td>3</td>\n",
       "      <td>3</td>\n",
       "      <td>4124</td>\n",
       "      <td>32</td>\n",
       "      <td>среднее</td>\n",
       "      <td>1</td>\n",
       "      <td>женат / замужем</td>\n",
       "      <td>0</td>\n",
       "      <td>M</td>\n",
       "      <td>сотрудник</td>\n",
       "      <td>0</td>\n",
       "      <td>267628</td>\n",
       "      <td>дополнительное образование</td>\n",
       "      <td>False</td>\n",
       "      <td>11</td>\n",
       "      <td>False</td>\n",
       "      <td>дополнительный образование</td>\n",
       "      <td>средний</td>\n",
       "      <td>268671</td>\n",
       "    </tr>\n",
       "    <tr>\n",
       "      <td>4</td>\n",
       "      <td>0</td>\n",
       "      <td>5671</td>\n",
       "      <td>53</td>\n",
       "      <td>среднее</td>\n",
       "      <td>1</td>\n",
       "      <td>гражданский брак</td>\n",
       "      <td>1</td>\n",
       "      <td>F</td>\n",
       "      <td>пенсионер</td>\n",
       "      <td>0</td>\n",
       "      <td>158616</td>\n",
       "      <td>сыграть свадьбу</td>\n",
       "      <td>False</td>\n",
       "      <td>15</td>\n",
       "      <td>False</td>\n",
       "      <td>сыграть свадьба</td>\n",
       "      <td>средний</td>\n",
       "      <td>144669</td>\n",
       "    </tr>\n",
       "    <tr>\n",
       "      <td>...</td>\n",
       "      <td>...</td>\n",
       "      <td>...</td>\n",
       "      <td>...</td>\n",
       "      <td>...</td>\n",
       "      <td>...</td>\n",
       "      <td>...</td>\n",
       "      <td>...</td>\n",
       "      <td>...</td>\n",
       "      <td>...</td>\n",
       "      <td>...</td>\n",
       "      <td>...</td>\n",
       "      <td>...</td>\n",
       "      <td>...</td>\n",
       "      <td>...</td>\n",
       "      <td>...</td>\n",
       "      <td>...</td>\n",
       "      <td>...</td>\n",
       "      <td>...</td>\n",
       "    </tr>\n",
       "    <tr>\n",
       "      <td>21520</td>\n",
       "      <td>1</td>\n",
       "      <td>4529</td>\n",
       "      <td>43</td>\n",
       "      <td>среднее</td>\n",
       "      <td>1</td>\n",
       "      <td>гражданский брак</td>\n",
       "      <td>1</td>\n",
       "      <td>F</td>\n",
       "      <td>компаньон</td>\n",
       "      <td>0</td>\n",
       "      <td>224791</td>\n",
       "      <td>операции с жильем</td>\n",
       "      <td>False</td>\n",
       "      <td>12</td>\n",
       "      <td>False</td>\n",
       "      <td>операция с жилье</td>\n",
       "      <td>средний</td>\n",
       "      <td>227337</td>\n",
       "    </tr>\n",
       "    <tr>\n",
       "      <td>21521</td>\n",
       "      <td>0</td>\n",
       "      <td>5732</td>\n",
       "      <td>67</td>\n",
       "      <td>среднее</td>\n",
       "      <td>1</td>\n",
       "      <td>женат / замужем</td>\n",
       "      <td>0</td>\n",
       "      <td>F</td>\n",
       "      <td>пенсионер</td>\n",
       "      <td>0</td>\n",
       "      <td>155999</td>\n",
       "      <td>сделка с автомобилем</td>\n",
       "      <td>False</td>\n",
       "      <td>15</td>\n",
       "      <td>False</td>\n",
       "      <td>сделка с автомобиль</td>\n",
       "      <td>средний</td>\n",
       "      <td>144669</td>\n",
       "    </tr>\n",
       "    <tr>\n",
       "      <td>21522</td>\n",
       "      <td>1</td>\n",
       "      <td>2113</td>\n",
       "      <td>38</td>\n",
       "      <td>среднее</td>\n",
       "      <td>1</td>\n",
       "      <td>гражданский брак</td>\n",
       "      <td>1</td>\n",
       "      <td>M</td>\n",
       "      <td>сотрудник</td>\n",
       "      <td>1</td>\n",
       "      <td>89672</td>\n",
       "      <td>недвижимость</td>\n",
       "      <td>False</td>\n",
       "      <td>5</td>\n",
       "      <td>False</td>\n",
       "      <td>недвижимость</td>\n",
       "      <td>средний</td>\n",
       "      <td>103335</td>\n",
       "    </tr>\n",
       "    <tr>\n",
       "      <td>21523</td>\n",
       "      <td>3</td>\n",
       "      <td>3112</td>\n",
       "      <td>38</td>\n",
       "      <td>среднее</td>\n",
       "      <td>1</td>\n",
       "      <td>женат / замужем</td>\n",
       "      <td>0</td>\n",
       "      <td>M</td>\n",
       "      <td>сотрудник</td>\n",
       "      <td>1</td>\n",
       "      <td>244093</td>\n",
       "      <td>на покупку своего автомобиля</td>\n",
       "      <td>False</td>\n",
       "      <td>8</td>\n",
       "      <td>False</td>\n",
       "      <td>на покупка свой автомобиль</td>\n",
       "      <td>средний</td>\n",
       "      <td>227337</td>\n",
       "    </tr>\n",
       "    <tr>\n",
       "      <td>21524</td>\n",
       "      <td>2</td>\n",
       "      <td>1984</td>\n",
       "      <td>40</td>\n",
       "      <td>среднее</td>\n",
       "      <td>1</td>\n",
       "      <td>женат / замужем</td>\n",
       "      <td>0</td>\n",
       "      <td>F</td>\n",
       "      <td>сотрудник</td>\n",
       "      <td>0</td>\n",
       "      <td>82047</td>\n",
       "      <td>на покупку автомобиля</td>\n",
       "      <td>False</td>\n",
       "      <td>5</td>\n",
       "      <td>False</td>\n",
       "      <td>на покупка автомобиль</td>\n",
       "      <td>средний</td>\n",
       "      <td>62001</td>\n",
       "    </tr>\n",
       "  </tbody>\n",
       "</table>\n",
       "<p>21471 rows × 18 columns</p>\n",
       "</div>"
      ],
      "text/plain": [
       "       children  days_employed  dob_years education  education_id  \\\n",
       "0             1           8437         42    высшее             0   \n",
       "1             1           4024         36   среднее             1   \n",
       "2             0           5623         33   Среднее             1   \n",
       "3             3           4124         32   среднее             1   \n",
       "4             0           5671         53   среднее             1   \n",
       "...         ...            ...        ...       ...           ...   \n",
       "21520         1           4529         43   среднее             1   \n",
       "21521         0           5732         67   среднее             1   \n",
       "21522         1           2113         38   среднее             1   \n",
       "21523         3           3112         38   среднее             1   \n",
       "21524         2           1984         40   среднее             1   \n",
       "\n",
       "          family_status  family_status_id gender income_type  debt  \\\n",
       "0       женат / замужем                 0      F   сотрудник     0   \n",
       "1       женат / замужем                 0      F   сотрудник     0   \n",
       "2       женат / замужем                 0      M   сотрудник     0   \n",
       "3       женат / замужем                 0      M   сотрудник     0   \n",
       "4      гражданский брак                 1      F   пенсионер     0   \n",
       "...                 ...               ...    ...         ...   ...   \n",
       "21520  гражданский брак                 1      F   компаньон     0   \n",
       "21521   женат / замужем                 0      F   пенсионер     0   \n",
       "21522  гражданский брак                 1      M   сотрудник     1   \n",
       "21523   женат / замужем                 0      M   сотрудник     1   \n",
       "21524   женат / замужем                 0      F   сотрудник     0   \n",
       "\n",
       "       total_income                       purpose   null  year_employed  \\\n",
       "0            253875                 покупка жилья  False             23   \n",
       "1            112080       приобретение автомобиля  False             11   \n",
       "2            145885                 покупка жилья  False             15   \n",
       "3            267628    дополнительное образование  False             11   \n",
       "4            158616               сыграть свадьбу  False             15   \n",
       "...             ...                           ...    ...            ...   \n",
       "21520        224791             операции с жильем  False             12   \n",
       "21521        155999          сделка с автомобилем  False             15   \n",
       "21522         89672                  недвижимость  False              5   \n",
       "21523        244093  на покупку своего автомобиля  False              8   \n",
       "21524         82047         на покупку автомобиля  False              5   \n",
       "\n",
       "       highlander               lemma_purpose education_purpose  pepole_class  \n",
       "0           False               покупка жилье           высокий        268671  \n",
       "1           False     приобретение автомобиль           средний        103335  \n",
       "2           False               покупка жилье           средний        144669  \n",
       "3           False  дополнительный образование           средний        268671  \n",
       "4           False             сыграть свадьба           средний        144669  \n",
       "...           ...                         ...               ...           ...  \n",
       "21520       False            операция с жилье           средний        227337  \n",
       "21521       False         сделка с автомобиль           средний        144669  \n",
       "21522       False                недвижимость           средний        103335  \n",
       "21523       False  на покупка свой автомобиль           средний        227337  \n",
       "21524       False       на покупка автомобиль           средний         62001  \n",
       "\n",
       "[21471 rows x 18 columns]"
      ]
     },
     "execution_count": 13,
     "metadata": {},
     "output_type": "execute_result"
    }
   ],
   "source": [
    "# Получим категории\n",
    "# Возьмём значения от минимального до максимального с шагом в 2 раза больше минимального.\n",
    "counter = range(df['total_income'].min(),df['total_income'].max(),df['total_income'].min()*2)\n",
    "def get_nearest_value(value):\n",
    "    return min(counter, key=lambda x: abs(x - value))\n",
    "df['pepole_class'] = df['total_income'].apply(get_nearest_value)\n",
    "df"
   ]
  },
  {
   "cell_type": "code",
   "execution_count": 14,
   "metadata": {
    "scrolled": true
   },
   "outputs": [
    {
     "data": {
      "text/plain": [
       "pepole_class\n",
       "20667       145\n",
       "62001      2415\n",
       "103335     4701\n",
       "144669     5893\n",
       "186003     3660\n",
       "227337     1779\n",
       "268671     1206\n",
       "310005      582\n",
       "351339      385\n",
       "392673      243\n",
       "434007      139\n",
       "475341       93\n",
       "516675       62\n",
       "558009       41\n",
       "599343       24\n",
       "640677       22\n",
       "682011       23\n",
       "723345        9\n",
       "764679        5\n",
       "806013        5\n",
       "847347        7\n",
       "888681        2\n",
       "930015        2\n",
       "971349        2\n",
       "1012683       5\n",
       "1054017       1\n",
       "1095351       5\n",
       "1136685       1\n",
       "1178019       1\n",
       "1219353       1\n",
       "1260687       2\n",
       "1302021       1\n",
       "1343355       1\n",
       "1426023       1\n",
       "1550025       1\n",
       "1591359       1\n",
       "1715361       3\n",
       "2211369       1\n",
       "2252703       1\n",
       "Name: pepole_class, dtype: int64"
      ]
     },
     "execution_count": 14,
     "metadata": {},
     "output_type": "execute_result"
    }
   ],
   "source": [
    "df.groupby('pepole_class')['pepole_class'].count()"
   ]
  },
  {
   "cell_type": "code",
   "execution_count": 15,
   "metadata": {},
   "outputs": [
    {
     "data": {
      "text/plain": [
       "target\n",
       "автомобиль       4308\n",
       "недвижимость    10814\n",
       "образование      4014\n",
       "свадьба          2335\n",
       "Name: target, dtype: int64"
      ]
     },
     "execution_count": 15,
     "metadata": {},
     "output_type": "execute_result"
    }
   ],
   "source": [
    "# Присвоим кредитам более конкретные категории в зависимсоти от приобретаемой услуги\n",
    "colum=[]\n",
    "for row in df['lemma_purpose']:\n",
    "    if 'автомобиль' in row:\n",
    "        colum.append('автомобиль')\n",
    "    elif 'жиль' in row:\n",
    "        colum.append('недвижимость')\n",
    "    elif 'недвижимость' in row:\n",
    "        colum.append('недвижимость')\n",
    "    elif 'свадьба' in row:\n",
    "        colum.append('свадьба')\n",
    "    elif 'образование' in row:\n",
    "        colum.append('образование')\n",
    "    else:\n",
    "        colum.append('пропустил')\n",
    "df['target'] = colum\n",
    "# Проверю, что пропустил\n",
    "df.groupby('target')['target'].count()"
   ]
  },
  {
   "cell_type": "markdown",
   "metadata": {},
   "source": [
    "**Вывод**"
   ]
  },
  {
   "cell_type": "markdown",
   "metadata": {},
   "source": [
    "Группа с минимальной З.П. составила 20 667₽  \n",
    "Группа с макисмальной З.П. составила 2 252 703₽  \n",
    "Самая часто всречаемая группа людей получает 144 669₽  \n",
    "Деньги в городе есть.\n",
    "\n",
    "Чаще всего люди берут кредит на покупку жилья, это хорошо квартиру за границу вывезти сложно.  \n",
    "Реже всего на свадьбу, услуги тамады нынче не дорогие."
   ]
  },
  {
   "cell_type": "markdown",
   "metadata": {},
   "source": [
    "## Шаг 3. Ответьте на вопросы"
   ]
  },
  {
   "cell_type": "code",
   "execution_count": 24,
   "metadata": {},
   "outputs": [],
   "source": [
    "# Подготовимся\n",
    "c_d = df[['children','children','debt', 'family_status', 'pepole_class', 'target']].reset_index(drop = True)\n",
    "c_d.columns = ['children_count','children','debt', 'Семейное положение', 'Уровень дохода', 'Цель кредита']\n",
    "count_cred = c_d.shape[0] #количество выданых кредитов\n",
    "c_d.loc[c_d.children != 0, 'children'] = 'Есть дети'\n",
    "c_d.loc[c_d.children == 0, 'children'] = 'Нет детей'\n",
    "c_d.loc[c_d.debt == 1, 'debt'] = 'Есть просрочки'\n",
    "c_d.loc[c_d.debt == 0, 'debt'] = 'Нет просрочек'\n",
    "#c_d.rename(columns={'children': 'Количество детей', 'debt': 'Просрочка', 'family_status': 'Семейное положение', 'pepole_class': 'Уровень дохода', 'target': 'Цель кредита' }, inplace=True)\n",
    "c_d.columns = ['Количество детей','Наличие детей','Просрочка','Семейное положение','Уровень дохода','Цель кредита']"
   ]
  },
  {
   "cell_type": "markdown",
   "metadata": {},
   "source": [
    "- Есть ли зависимость между наличием детей и возвратом кредита в срок?"
   ]
  },
  {
   "cell_type": "code",
   "execution_count": 25,
   "metadata": {},
   "outputs": [
    {
     "data": {
      "text/html": [
       "<div>\n",
       "<style scoped>\n",
       "    .dataframe tbody tr th:only-of-type {\n",
       "        vertical-align: middle;\n",
       "    }\n",
       "\n",
       "    .dataframe tbody tr th {\n",
       "        vertical-align: top;\n",
       "    }\n",
       "\n",
       "    .dataframe thead th {\n",
       "        text-align: right;\n",
       "    }\n",
       "</style>\n",
       "<table border=\"1\" class=\"dataframe\">\n",
       "  <thead>\n",
       "    <tr style=\"text-align: right;\">\n",
       "      <th>Просрочка</th>\n",
       "      <th>Есть просрочки</th>\n",
       "      <th>Нет просрочек</th>\n",
       "      <th>Всего выдали кредитов</th>\n",
       "      <th>Доля без просрочек</th>\n",
       "      <th>Доля c просрочками</th>\n",
       "    </tr>\n",
       "    <tr>\n",
       "      <th>Наличие детей</th>\n",
       "      <th></th>\n",
       "      <th></th>\n",
       "      <th></th>\n",
       "      <th></th>\n",
       "      <th></th>\n",
       "    </tr>\n",
       "  </thead>\n",
       "  <tbody>\n",
       "    <tr>\n",
       "      <td>Нет детей</td>\n",
       "      <td>1063</td>\n",
       "      <td>13044</td>\n",
       "      <td>14107</td>\n",
       "      <td>0.924647</td>\n",
       "      <td>0.075353</td>\n",
       "    </tr>\n",
       "    <tr>\n",
       "      <td>Есть дети</td>\n",
       "      <td>678</td>\n",
       "      <td>6686</td>\n",
       "      <td>7364</td>\n",
       "      <td>0.907930</td>\n",
       "      <td>0.092070</td>\n",
       "    </tr>\n",
       "  </tbody>\n",
       "</table>\n",
       "</div>"
      ],
      "text/plain": [
       "Просрочка      Есть просрочки  Нет просрочек  Всего выдали кредитов  \\\n",
       "Наличие детей                                                         \n",
       "Нет детей                1063          13044                  14107   \n",
       "Есть дети                 678           6686                   7364   \n",
       "\n",
       "Просрочка      Доля без просрочек  Доля c просрочками  \n",
       "Наличие детей                                          \n",
       "Нет детей                0.924647            0.075353  \n",
       "Есть дети                0.907930            0.092070  "
      ]
     },
     "execution_count": 25,
     "metadata": {},
     "output_type": "execute_result"
    }
   ],
   "source": [
    "data_pivot = c_d.pivot_table(index='Наличие детей', columns='Просрочка', values='Уровень дохода', aggfunc='count').fillna(0)\n",
    "data_pivot['Всего выдали кредитов'] = (data_pivot['Есть просрочки'] + data_pivot['Нет просрочек'])\n",
    "data_pivot['Доля без просрочек'] = data_pivot['Нет просрочек'] / data_pivot['Всего выдали кредитов']\n",
    "data_pivot['Доля c просрочками'] = data_pivot['Есть просрочки'] / data_pivot['Всего выдали кредитов']\n",
    "data_pivot.sort_values(by = 'Доля без просрочек', ascending = False)"
   ]
  },
  {
   "cell_type": "markdown",
   "metadata": {},
   "source": [
    "**Вывод**"
   ]
  },
  {
   "cell_type": "markdown",
   "metadata": {},
   "source": [
    "Можно сказать, что зависимости нет."
   ]
  },
  {
   "cell_type": "markdown",
   "metadata": {},
   "source": [
    "- Есть ли зависимость между семейным положением и возвратом кредита в срок?"
   ]
  },
  {
   "cell_type": "code",
   "execution_count": 26,
   "metadata": {},
   "outputs": [
    {
     "data": {
      "text/html": [
       "<div>\n",
       "<style scoped>\n",
       "    .dataframe tbody tr th:only-of-type {\n",
       "        vertical-align: middle;\n",
       "    }\n",
       "\n",
       "    .dataframe tbody tr th {\n",
       "        vertical-align: top;\n",
       "    }\n",
       "\n",
       "    .dataframe thead th {\n",
       "        text-align: right;\n",
       "    }\n",
       "</style>\n",
       "<table border=\"1\" class=\"dataframe\">\n",
       "  <thead>\n",
       "    <tr style=\"text-align: right;\">\n",
       "      <th>Просрочка</th>\n",
       "      <th>Есть просрочки</th>\n",
       "      <th>Нет просрочек</th>\n",
       "      <th>Всего выдали кредитов</th>\n",
       "      <th>Доля без просрочек</th>\n",
       "    </tr>\n",
       "    <tr>\n",
       "      <th>Семейное положение</th>\n",
       "      <th></th>\n",
       "      <th></th>\n",
       "      <th></th>\n",
       "      <th></th>\n",
       "    </tr>\n",
       "  </thead>\n",
       "  <tbody>\n",
       "    <tr>\n",
       "      <td>вдовец / вдова</td>\n",
       "      <td>63</td>\n",
       "      <td>896</td>\n",
       "      <td>959</td>\n",
       "      <td>0.934307</td>\n",
       "    </tr>\n",
       "    <tr>\n",
       "      <td>в разводе</td>\n",
       "      <td>85</td>\n",
       "      <td>1110</td>\n",
       "      <td>1195</td>\n",
       "      <td>0.928870</td>\n",
       "    </tr>\n",
       "    <tr>\n",
       "      <td>женат / замужем</td>\n",
       "      <td>931</td>\n",
       "      <td>11413</td>\n",
       "      <td>12344</td>\n",
       "      <td>0.924579</td>\n",
       "    </tr>\n",
       "    <tr>\n",
       "      <td>гражданский брак</td>\n",
       "      <td>388</td>\n",
       "      <td>3775</td>\n",
       "      <td>4163</td>\n",
       "      <td>0.906798</td>\n",
       "    </tr>\n",
       "    <tr>\n",
       "      <td>Не женат / не замужем</td>\n",
       "      <td>274</td>\n",
       "      <td>2536</td>\n",
       "      <td>2810</td>\n",
       "      <td>0.902491</td>\n",
       "    </tr>\n",
       "  </tbody>\n",
       "</table>\n",
       "</div>"
      ],
      "text/plain": [
       "Просрочка              Есть просрочки  Нет просрочек  Всего выдали кредитов  \\\n",
       "Семейное положение                                                            \n",
       "вдовец / вдова                     63            896                    959   \n",
       "в разводе                          85           1110                   1195   \n",
       "женат / замужем                   931          11413                  12344   \n",
       "гражданский брак                  388           3775                   4163   \n",
       "Не женат / не замужем             274           2536                   2810   \n",
       "\n",
       "Просрочка              Доля без просрочек  \n",
       "Семейное положение                         \n",
       "вдовец / вдова                   0.934307  \n",
       "в разводе                        0.928870  \n",
       "женат / замужем                  0.924579  \n",
       "гражданский брак                 0.906798  \n",
       "Не женат / не замужем            0.902491  "
      ]
     },
     "execution_count": 26,
     "metadata": {},
     "output_type": "execute_result"
    }
   ],
   "source": [
    "data_pivot = c_d.pivot_table(index='Семейное положение', columns='Просрочка', values='Уровень дохода', aggfunc='count')\n",
    "data_pivot['Всего выдали кредитов'] = (data_pivot['Есть просрочки'] + data_pivot['Нет просрочек'])\n",
    "data_pivot['Доля без просрочек'] = data_pivot['Нет просрочек'] / data_pivot['Всего выдали кредитов']\n",
    "data_pivot.sort_values(by = 'Доля без просрочек', ascending = False)"
   ]
  },
  {
   "cell_type": "markdown",
   "metadata": {},
   "source": [
    "**Вывод**"
   ]
  },
  {
   "cell_type": "markdown",
   "metadata": {},
   "source": [
    "Можно сказать, что зависимости нет."
   ]
  },
  {
   "cell_type": "markdown",
   "metadata": {},
   "source": [
    "- Есть ли зависимость между уровнем дохода и возвратом кредита в срок?"
   ]
  },
  {
   "cell_type": "code",
   "execution_count": 27,
   "metadata": {},
   "outputs": [
    {
     "data": {
      "text/html": [
       "<div>\n",
       "<style scoped>\n",
       "    .dataframe tbody tr th:only-of-type {\n",
       "        vertical-align: middle;\n",
       "    }\n",
       "\n",
       "    .dataframe tbody tr th {\n",
       "        vertical-align: top;\n",
       "    }\n",
       "\n",
       "    .dataframe thead th {\n",
       "        text-align: right;\n",
       "    }\n",
       "</style>\n",
       "<table border=\"1\" class=\"dataframe\">\n",
       "  <thead>\n",
       "    <tr style=\"text-align: right;\">\n",
       "      <th>Просрочка</th>\n",
       "      <th>Есть просрочки</th>\n",
       "      <th>Нет просрочек</th>\n",
       "      <th>Всего выдали кредитов</th>\n",
       "      <th>Доля без просрочек</th>\n",
       "    </tr>\n",
       "    <tr>\n",
       "      <th>Уровень дохода</th>\n",
       "      <th></th>\n",
       "      <th></th>\n",
       "      <th></th>\n",
       "      <th></th>\n",
       "    </tr>\n",
       "  </thead>\n",
       "  <tbody>\n",
       "    <tr>\n",
       "      <td>2252703</td>\n",
       "      <td>0.0</td>\n",
       "      <td>1.0</td>\n",
       "      <td>1.0</td>\n",
       "      <td>1.000000</td>\n",
       "    </tr>\n",
       "    <tr>\n",
       "      <td>1054017</td>\n",
       "      <td>0.0</td>\n",
       "      <td>1.0</td>\n",
       "      <td>1.0</td>\n",
       "      <td>1.000000</td>\n",
       "    </tr>\n",
       "    <tr>\n",
       "      <td>930015</td>\n",
       "      <td>0.0</td>\n",
       "      <td>2.0</td>\n",
       "      <td>2.0</td>\n",
       "      <td>1.000000</td>\n",
       "    </tr>\n",
       "    <tr>\n",
       "      <td>888681</td>\n",
       "      <td>0.0</td>\n",
       "      <td>2.0</td>\n",
       "      <td>2.0</td>\n",
       "      <td>1.000000</td>\n",
       "    </tr>\n",
       "    <tr>\n",
       "      <td>1095351</td>\n",
       "      <td>0.0</td>\n",
       "      <td>5.0</td>\n",
       "      <td>5.0</td>\n",
       "      <td>1.000000</td>\n",
       "    </tr>\n",
       "    <tr>\n",
       "      <td>1136685</td>\n",
       "      <td>0.0</td>\n",
       "      <td>1.0</td>\n",
       "      <td>1.0</td>\n",
       "      <td>1.000000</td>\n",
       "    </tr>\n",
       "    <tr>\n",
       "      <td>764679</td>\n",
       "      <td>0.0</td>\n",
       "      <td>5.0</td>\n",
       "      <td>5.0</td>\n",
       "      <td>1.000000</td>\n",
       "    </tr>\n",
       "    <tr>\n",
       "      <td>1178019</td>\n",
       "      <td>0.0</td>\n",
       "      <td>1.0</td>\n",
       "      <td>1.0</td>\n",
       "      <td>1.000000</td>\n",
       "    </tr>\n",
       "    <tr>\n",
       "      <td>682011</td>\n",
       "      <td>0.0</td>\n",
       "      <td>23.0</td>\n",
       "      <td>23.0</td>\n",
       "      <td>1.000000</td>\n",
       "    </tr>\n",
       "    <tr>\n",
       "      <td>1219353</td>\n",
       "      <td>0.0</td>\n",
       "      <td>1.0</td>\n",
       "      <td>1.0</td>\n",
       "      <td>1.000000</td>\n",
       "    </tr>\n",
       "    <tr>\n",
       "      <td>1260687</td>\n",
       "      <td>0.0</td>\n",
       "      <td>2.0</td>\n",
       "      <td>2.0</td>\n",
       "      <td>1.000000</td>\n",
       "    </tr>\n",
       "    <tr>\n",
       "      <td>1302021</td>\n",
       "      <td>0.0</td>\n",
       "      <td>1.0</td>\n",
       "      <td>1.0</td>\n",
       "      <td>1.000000</td>\n",
       "    </tr>\n",
       "    <tr>\n",
       "      <td>1343355</td>\n",
       "      <td>0.0</td>\n",
       "      <td>1.0</td>\n",
       "      <td>1.0</td>\n",
       "      <td>1.000000</td>\n",
       "    </tr>\n",
       "    <tr>\n",
       "      <td>1426023</td>\n",
       "      <td>0.0</td>\n",
       "      <td>1.0</td>\n",
       "      <td>1.0</td>\n",
       "      <td>1.000000</td>\n",
       "    </tr>\n",
       "    <tr>\n",
       "      <td>1550025</td>\n",
       "      <td>0.0</td>\n",
       "      <td>1.0</td>\n",
       "      <td>1.0</td>\n",
       "      <td>1.000000</td>\n",
       "    </tr>\n",
       "    <tr>\n",
       "      <td>1591359</td>\n",
       "      <td>0.0</td>\n",
       "      <td>1.0</td>\n",
       "      <td>1.0</td>\n",
       "      <td>1.000000</td>\n",
       "    </tr>\n",
       "    <tr>\n",
       "      <td>1715361</td>\n",
       "      <td>0.0</td>\n",
       "      <td>3.0</td>\n",
       "      <td>3.0</td>\n",
       "      <td>1.000000</td>\n",
       "    </tr>\n",
       "    <tr>\n",
       "      <td>971349</td>\n",
       "      <td>0.0</td>\n",
       "      <td>2.0</td>\n",
       "      <td>2.0</td>\n",
       "      <td>1.000000</td>\n",
       "    </tr>\n",
       "    <tr>\n",
       "      <td>558009</td>\n",
       "      <td>1.0</td>\n",
       "      <td>40.0</td>\n",
       "      <td>41.0</td>\n",
       "      <td>0.975610</td>\n",
       "    </tr>\n",
       "    <tr>\n",
       "      <td>599343</td>\n",
       "      <td>1.0</td>\n",
       "      <td>23.0</td>\n",
       "      <td>24.0</td>\n",
       "      <td>0.958333</td>\n",
       "    </tr>\n",
       "    <tr>\n",
       "      <td>475341</td>\n",
       "      <td>4.0</td>\n",
       "      <td>89.0</td>\n",
       "      <td>93.0</td>\n",
       "      <td>0.956989</td>\n",
       "    </tr>\n",
       "    <tr>\n",
       "      <td>434007</td>\n",
       "      <td>8.0</td>\n",
       "      <td>131.0</td>\n",
       "      <td>139.0</td>\n",
       "      <td>0.942446</td>\n",
       "    </tr>\n",
       "    <tr>\n",
       "      <td>392673</td>\n",
       "      <td>14.0</td>\n",
       "      <td>229.0</td>\n",
       "      <td>243.0</td>\n",
       "      <td>0.942387</td>\n",
       "    </tr>\n",
       "    <tr>\n",
       "      <td>268671</td>\n",
       "      <td>78.0</td>\n",
       "      <td>1128.0</td>\n",
       "      <td>1206.0</td>\n",
       "      <td>0.935323</td>\n",
       "    </tr>\n",
       "    <tr>\n",
       "      <td>20667</td>\n",
       "      <td>10.0</td>\n",
       "      <td>135.0</td>\n",
       "      <td>145.0</td>\n",
       "      <td>0.931034</td>\n",
       "    </tr>\n",
       "    <tr>\n",
       "      <td>227337</td>\n",
       "      <td>125.0</td>\n",
       "      <td>1654.0</td>\n",
       "      <td>1779.0</td>\n",
       "      <td>0.929736</td>\n",
       "    </tr>\n",
       "    <tr>\n",
       "      <td>310005</td>\n",
       "      <td>42.0</td>\n",
       "      <td>540.0</td>\n",
       "      <td>582.0</td>\n",
       "      <td>0.927835</td>\n",
       "    </tr>\n",
       "    <tr>\n",
       "      <td>62001</td>\n",
       "      <td>187.0</td>\n",
       "      <td>2228.0</td>\n",
       "      <td>2415.0</td>\n",
       "      <td>0.922567</td>\n",
       "    </tr>\n",
       "    <tr>\n",
       "      <td>516675</td>\n",
       "      <td>5.0</td>\n",
       "      <td>57.0</td>\n",
       "      <td>62.0</td>\n",
       "      <td>0.919355</td>\n",
       "    </tr>\n",
       "    <tr>\n",
       "      <td>186003</td>\n",
       "      <td>307.0</td>\n",
       "      <td>3353.0</td>\n",
       "      <td>3660.0</td>\n",
       "      <td>0.916120</td>\n",
       "    </tr>\n",
       "    <tr>\n",
       "      <td>103335</td>\n",
       "      <td>398.0</td>\n",
       "      <td>4303.0</td>\n",
       "      <td>4701.0</td>\n",
       "      <td>0.915337</td>\n",
       "    </tr>\n",
       "    <tr>\n",
       "      <td>144669</td>\n",
       "      <td>516.0</td>\n",
       "      <td>5377.0</td>\n",
       "      <td>5893.0</td>\n",
       "      <td>0.912438</td>\n",
       "    </tr>\n",
       "    <tr>\n",
       "      <td>640677</td>\n",
       "      <td>2.0</td>\n",
       "      <td>20.0</td>\n",
       "      <td>22.0</td>\n",
       "      <td>0.909091</td>\n",
       "    </tr>\n",
       "    <tr>\n",
       "      <td>351339</td>\n",
       "      <td>38.0</td>\n",
       "      <td>347.0</td>\n",
       "      <td>385.0</td>\n",
       "      <td>0.901299</td>\n",
       "    </tr>\n",
       "    <tr>\n",
       "      <td>723345</td>\n",
       "      <td>1.0</td>\n",
       "      <td>8.0</td>\n",
       "      <td>9.0</td>\n",
       "      <td>0.888889</td>\n",
       "    </tr>\n",
       "    <tr>\n",
       "      <td>847347</td>\n",
       "      <td>1.0</td>\n",
       "      <td>6.0</td>\n",
       "      <td>7.0</td>\n",
       "      <td>0.857143</td>\n",
       "    </tr>\n",
       "    <tr>\n",
       "      <td>1012683</td>\n",
       "      <td>1.0</td>\n",
       "      <td>4.0</td>\n",
       "      <td>5.0</td>\n",
       "      <td>0.800000</td>\n",
       "    </tr>\n",
       "    <tr>\n",
       "      <td>806013</td>\n",
       "      <td>1.0</td>\n",
       "      <td>4.0</td>\n",
       "      <td>5.0</td>\n",
       "      <td>0.800000</td>\n",
       "    </tr>\n",
       "    <tr>\n",
       "      <td>2211369</td>\n",
       "      <td>1.0</td>\n",
       "      <td>0.0</td>\n",
       "      <td>1.0</td>\n",
       "      <td>0.000000</td>\n",
       "    </tr>\n",
       "  </tbody>\n",
       "</table>\n",
       "</div>"
      ],
      "text/plain": [
       "Просрочка       Есть просрочки  Нет просрочек  Всего выдали кредитов  \\\n",
       "Уровень дохода                                                         \n",
       "2252703                    0.0            1.0                    1.0   \n",
       "1054017                    0.0            1.0                    1.0   \n",
       "930015                     0.0            2.0                    2.0   \n",
       "888681                     0.0            2.0                    2.0   \n",
       "1095351                    0.0            5.0                    5.0   \n",
       "1136685                    0.0            1.0                    1.0   \n",
       "764679                     0.0            5.0                    5.0   \n",
       "1178019                    0.0            1.0                    1.0   \n",
       "682011                     0.0           23.0                   23.0   \n",
       "1219353                    0.0            1.0                    1.0   \n",
       "1260687                    0.0            2.0                    2.0   \n",
       "1302021                    0.0            1.0                    1.0   \n",
       "1343355                    0.0            1.0                    1.0   \n",
       "1426023                    0.0            1.0                    1.0   \n",
       "1550025                    0.0            1.0                    1.0   \n",
       "1591359                    0.0            1.0                    1.0   \n",
       "1715361                    0.0            3.0                    3.0   \n",
       "971349                     0.0            2.0                    2.0   \n",
       "558009                     1.0           40.0                   41.0   \n",
       "599343                     1.0           23.0                   24.0   \n",
       "475341                     4.0           89.0                   93.0   \n",
       "434007                     8.0          131.0                  139.0   \n",
       "392673                    14.0          229.0                  243.0   \n",
       "268671                    78.0         1128.0                 1206.0   \n",
       "20667                     10.0          135.0                  145.0   \n",
       "227337                   125.0         1654.0                 1779.0   \n",
       "310005                    42.0          540.0                  582.0   \n",
       "62001                    187.0         2228.0                 2415.0   \n",
       "516675                     5.0           57.0                   62.0   \n",
       "186003                   307.0         3353.0                 3660.0   \n",
       "103335                   398.0         4303.0                 4701.0   \n",
       "144669                   516.0         5377.0                 5893.0   \n",
       "640677                     2.0           20.0                   22.0   \n",
       "351339                    38.0          347.0                  385.0   \n",
       "723345                     1.0            8.0                    9.0   \n",
       "847347                     1.0            6.0                    7.0   \n",
       "1012683                    1.0            4.0                    5.0   \n",
       "806013                     1.0            4.0                    5.0   \n",
       "2211369                    1.0            0.0                    1.0   \n",
       "\n",
       "Просрочка       Доля без просрочек  \n",
       "Уровень дохода                      \n",
       "2252703                   1.000000  \n",
       "1054017                   1.000000  \n",
       "930015                    1.000000  \n",
       "888681                    1.000000  \n",
       "1095351                   1.000000  \n",
       "1136685                   1.000000  \n",
       "764679                    1.000000  \n",
       "1178019                   1.000000  \n",
       "682011                    1.000000  \n",
       "1219353                   1.000000  \n",
       "1260687                   1.000000  \n",
       "1302021                   1.000000  \n",
       "1343355                   1.000000  \n",
       "1426023                   1.000000  \n",
       "1550025                   1.000000  \n",
       "1591359                   1.000000  \n",
       "1715361                   1.000000  \n",
       "971349                    1.000000  \n",
       "558009                    0.975610  \n",
       "599343                    0.958333  \n",
       "475341                    0.956989  \n",
       "434007                    0.942446  \n",
       "392673                    0.942387  \n",
       "268671                    0.935323  \n",
       "20667                     0.931034  \n",
       "227337                    0.929736  \n",
       "310005                    0.927835  \n",
       "62001                     0.922567  \n",
       "516675                    0.919355  \n",
       "186003                    0.916120  \n",
       "103335                    0.915337  \n",
       "144669                    0.912438  \n",
       "640677                    0.909091  \n",
       "351339                    0.901299  \n",
       "723345                    0.888889  \n",
       "847347                    0.857143  \n",
       "1012683                   0.800000  \n",
       "806013                    0.800000  \n",
       "2211369                   0.000000  "
      ]
     },
     "execution_count": 27,
     "metadata": {},
     "output_type": "execute_result"
    }
   ],
   "source": [
    "data_pivot = c_d.pivot_table(index='Уровень дохода', columns='Просрочка', values='Семейное положение', aggfunc='count').fillna(0)\n",
    "data_pivot['Всего выдали кредитов'] = (data_pivot['Есть просрочки'] + data_pivot['Нет просрочек'])\n",
    "data_pivot['Доля без просрочек'] = data_pivot['Нет просрочек'] / data_pivot['Всего выдали кредитов']\n",
    "data_pivot.sort_values(by = 'Доля без просрочек', ascending = False)"
   ]
  },
  {
   "cell_type": "markdown",
   "metadata": {},
   "source": [
    "**Вывод**"
   ]
  },
  {
   "cell_type": "markdown",
   "metadata": {},
   "source": [
    "Можно сказать, что зависимости нет."
   ]
  },
  {
   "cell_type": "markdown",
   "metadata": {},
   "source": [
    "- Как разные цели кредита влияют на его возврат в срок?"
   ]
  },
  {
   "cell_type": "code",
   "execution_count": 28,
   "metadata": {},
   "outputs": [
    {
     "data": {
      "text/html": [
       "<div>\n",
       "<style scoped>\n",
       "    .dataframe tbody tr th:only-of-type {\n",
       "        vertical-align: middle;\n",
       "    }\n",
       "\n",
       "    .dataframe tbody tr th {\n",
       "        vertical-align: top;\n",
       "    }\n",
       "\n",
       "    .dataframe thead th {\n",
       "        text-align: right;\n",
       "    }\n",
       "</style>\n",
       "<table border=\"1\" class=\"dataframe\">\n",
       "  <thead>\n",
       "    <tr style=\"text-align: right;\">\n",
       "      <th>Просрочка</th>\n",
       "      <th>Есть просрочки</th>\n",
       "      <th>Нет просрочек</th>\n",
       "      <th>Всего выдали кредитов</th>\n",
       "      <th>Доля без просрочек</th>\n",
       "    </tr>\n",
       "    <tr>\n",
       "      <th>Цель кредита</th>\n",
       "      <th></th>\n",
       "      <th></th>\n",
       "      <th></th>\n",
       "      <th></th>\n",
       "    </tr>\n",
       "  </thead>\n",
       "  <tbody>\n",
       "    <tr>\n",
       "      <td>недвижимость</td>\n",
       "      <td>782</td>\n",
       "      <td>10032</td>\n",
       "      <td>10814</td>\n",
       "      <td>0.927686</td>\n",
       "    </tr>\n",
       "    <tr>\n",
       "      <td>свадьба</td>\n",
       "      <td>186</td>\n",
       "      <td>2149</td>\n",
       "      <td>2335</td>\n",
       "      <td>0.920343</td>\n",
       "    </tr>\n",
       "    <tr>\n",
       "      <td>образование</td>\n",
       "      <td>370</td>\n",
       "      <td>3644</td>\n",
       "      <td>4014</td>\n",
       "      <td>0.907823</td>\n",
       "    </tr>\n",
       "    <tr>\n",
       "      <td>автомобиль</td>\n",
       "      <td>403</td>\n",
       "      <td>3905</td>\n",
       "      <td>4308</td>\n",
       "      <td>0.906453</td>\n",
       "    </tr>\n",
       "  </tbody>\n",
       "</table>\n",
       "</div>"
      ],
      "text/plain": [
       "Просрочка     Есть просрочки  Нет просрочек  Всего выдали кредитов  \\\n",
       "Цель кредита                                                         \n",
       "недвижимость             782          10032                  10814   \n",
       "свадьба                  186           2149                   2335   \n",
       "образование              370           3644                   4014   \n",
       "автомобиль               403           3905                   4308   \n",
       "\n",
       "Просрочка     Доля без просрочек  \n",
       "Цель кредита                      \n",
       "недвижимость            0.927686  \n",
       "свадьба                 0.920343  \n",
       "образование             0.907823  \n",
       "автомобиль              0.906453  "
      ]
     },
     "execution_count": 28,
     "metadata": {},
     "output_type": "execute_result"
    }
   ],
   "source": [
    "data_pivot = c_d.pivot_table(index='Цель кредита', columns='Просрочка', values='Семейное положение', aggfunc='count')\n",
    "data_pivot['Всего выдали кредитов'] = (data_pivot['Есть просрочки'] + data_pivot['Нет просрочек'])\n",
    "data_pivot['Доля без просрочек'] = data_pivot['Нет просрочек'] / data_pivot['Всего выдали кредитов']\n",
    "data_pivot.sort_values(by = 'Доля без просрочек', ascending = False)"
   ]
  },
  {
   "cell_type": "markdown",
   "metadata": {},
   "source": [
    "**Вывод**"
   ]
  },
  {
   "cell_type": "markdown",
   "metadata": {},
   "source": [
    "Судя по всему цели на возврат кредита не влияют."
   ]
  },
  {
   "cell_type": "markdown",
   "metadata": {},
   "source": [
    "## Шаг 4. Общий вывод"
   ]
  },
  {
   "cell_type": "markdown",
   "metadata": {},
   "source": [
    "В целом можно сказать, что в данном городе, все люди возвращают кредиты примерно одинаково и их можно раздавать всем подряд."
   ]
  },
  {
   "cell_type": "markdown",
   "metadata": {},
   "source": [
    "## Чек-лист готовности проекта\n",
    "\n",
    "Поставьте 'x' в выполненных пунктах. Далее нажмите Shift+Enter."
   ]
  },
  {
   "cell_type": "markdown",
   "metadata": {},
   "source": [
    "- [x]  открыт файл;\n",
    "- [x]  файл изучен;\n",
    "- [x]  определены пропущенные значения;\n",
    "- [x]  заполнены пропущенные значения;\n",
    "- [x]  есть пояснение, какие пропущенные значения обнаружены;\n",
    "- [x]  описаны возможные причины появления пропусков в данных;\n",
    "- [x]  объяснено, по какому принципу заполнены пропуски;\n",
    "- [x]  заменен вещественный тип данных на целочисленный;\n",
    "- [x]  есть пояснение, какой метод используется для изменения типа данных и почему;\n",
    "- [x]  удалены дубликаты;\n",
    "- [x]  есть пояснение, какой метод используется для поиска и удаления дубликатов;\n",
    "- [x]  описаны возможные причины появления дубликатов в данных;\n",
    "- [x]  выделены леммы в значениях столбца с целями получения кредита;\n",
    "- [x]  описан процесс лемматизации;\n",
    "- [x]  данные категоризированы;\n",
    "- [x]  есть объяснение принципа категоризации данных;\n",
    "- [x]  есть ответ на вопрос: \"Есть ли зависимость между наличием детей и возвратом кредита в срок?\";\n",
    "- [x]  есть ответ на вопрос: \"Есть ли зависимость между семейным положением и возвратом кредита в срок?\";\n",
    "- [x]  есть ответ на вопрос: \"Есть ли зависимость между уровнем дохода и возвратом кредита в срок?\";\n",
    "- [x]  есть ответ на вопрос: \"Как разные цели кредита влияют на его возврат в срок?\";\n",
    "- [x]  в каждом этапе есть выводы;\n",
    "- [x]  есть общий вывод."
   ]
  },
  {
   "cell_type": "code",
   "execution_count": null,
   "metadata": {},
   "outputs": [],
   "source": []
  }
 ],
 "metadata": {
  "ExecuteTimeLog": [
   {
    "duration": 820,
    "start_time": "2021-07-03T14:11:12.322Z"
   },
   {
    "duration": 89,
    "start_time": "2021-07-03T14:12:22.826Z"
   },
   {
    "duration": 16,
    "start_time": "2021-07-03T14:12:40.600Z"
   },
   {
    "duration": 29,
    "start_time": "2021-07-03T15:10:17.272Z"
   },
   {
    "duration": 388,
    "start_time": "2021-07-03T15:11:12.356Z"
   },
   {
    "duration": 53,
    "start_time": "2021-07-03T15:12:21.035Z"
   },
   {
    "duration": 45,
    "start_time": "2021-07-03T15:15:39.444Z"
   },
   {
    "duration": 676,
    "start_time": "2021-07-03T15:27:20.826Z"
   },
   {
    "duration": 494,
    "start_time": "2021-07-03T15:27:29.746Z"
   },
   {
    "duration": 508,
    "start_time": "2021-07-03T15:30:21.281Z"
   },
   {
    "duration": 17,
    "start_time": "2021-07-03T15:31:41.955Z"
   },
   {
    "duration": 32,
    "start_time": "2021-07-03T15:31:48.770Z"
   },
   {
    "duration": 3815,
    "start_time": "2021-07-03T15:32:04.904Z"
   },
   {
    "duration": 63,
    "start_time": "2021-07-03T15:32:08.722Z"
   },
   {
    "duration": 54,
    "start_time": "2021-07-03T15:32:40.242Z"
   },
   {
    "duration": 6,
    "start_time": "2021-07-03T15:33:08.195Z"
   },
   {
    "duration": 10,
    "start_time": "2021-07-03T15:33:10.176Z"
   },
   {
    "duration": 300,
    "start_time": "2021-07-03T15:33:21.067Z"
   },
   {
    "duration": 276,
    "start_time": "2021-07-03T15:33:24.487Z"
   },
   {
    "duration": 5,
    "start_time": "2021-07-03T15:33:29.627Z"
   },
   {
    "duration": 486,
    "start_time": "2021-07-03T15:33:58.495Z"
   },
   {
    "duration": 502,
    "start_time": "2021-07-03T15:34:09.735Z"
   },
   {
    "duration": 5,
    "start_time": "2021-07-03T15:34:34.361Z"
   },
   {
    "duration": 6,
    "start_time": "2021-07-03T15:34:49.233Z"
   },
   {
    "duration": 5,
    "start_time": "2021-07-03T15:35:03.951Z"
   },
   {
    "duration": 1021,
    "start_time": "2021-07-03T15:35:12.883Z"
   },
   {
    "duration": 6,
    "start_time": "2021-07-03T15:36:58.093Z"
   },
   {
    "duration": 6,
    "start_time": "2021-07-03T15:37:05.800Z"
   },
   {
    "duration": 285,
    "start_time": "2021-07-03T15:37:12.021Z"
   },
   {
    "duration": 478,
    "start_time": "2021-07-03T15:38:26.891Z"
   },
   {
    "duration": 510,
    "start_time": "2021-07-03T15:38:49.775Z"
   },
   {
    "duration": 529,
    "start_time": "2021-07-03T15:39:06.312Z"
   },
   {
    "duration": 477,
    "start_time": "2021-07-03T15:40:26.392Z"
   },
   {
    "duration": 94,
    "start_time": "2021-07-03T15:40:57.024Z"
   },
   {
    "duration": 17,
    "start_time": "2021-07-03T15:41:03.697Z"
   },
   {
    "duration": 13,
    "start_time": "2021-07-03T15:41:38.031Z"
   },
   {
    "duration": 505,
    "start_time": "2021-07-03T16:14:52.644Z"
   },
   {
    "duration": 542,
    "start_time": "2021-07-03T16:15:00.102Z"
   },
   {
    "duration": 688,
    "start_time": "2021-07-03T16:16:01.157Z"
   },
   {
    "duration": 3599,
    "start_time": "2021-07-03T16:16:53.223Z"
   },
   {
    "duration": 106,
    "start_time": "2021-07-03T16:18:53.915Z"
   },
   {
    "duration": 3578,
    "start_time": "2021-07-03T16:18:57.572Z"
   },
   {
    "duration": 3603,
    "start_time": "2021-07-03T16:19:36.317Z"
   },
   {
    "duration": 3980,
    "start_time": "2021-07-03T16:20:25.963Z"
   },
   {
    "duration": 39,
    "start_time": "2021-07-03T16:20:37.044Z"
   },
   {
    "duration": 14,
    "start_time": "2021-07-03T16:20:43.829Z"
   },
   {
    "duration": 14,
    "start_time": "2021-07-03T16:20:49.589Z"
   },
   {
    "duration": 488,
    "start_time": "2021-07-03T16:21:23.622Z"
   },
   {
    "duration": 108,
    "start_time": "2021-07-03T16:21:37.470Z"
   },
   {
    "duration": 509,
    "start_time": "2021-07-03T16:21:46.943Z"
   },
   {
    "duration": 3922,
    "start_time": "2021-07-03T16:21:50.475Z"
   },
   {
    "duration": 13,
    "start_time": "2021-07-03T16:22:04.561Z"
   },
   {
    "duration": 38,
    "start_time": "2021-07-03T16:22:12.919Z"
   },
   {
    "duration": 14,
    "start_time": "2021-07-03T16:22:17.655Z"
   },
   {
    "duration": 504,
    "start_time": "2021-07-03T16:22:29.885Z"
   },
   {
    "duration": 289,
    "start_time": "2021-07-03T16:23:11.172Z"
   },
   {
    "duration": 15,
    "start_time": "2021-07-03T16:23:16.201Z"
   },
   {
    "duration": 7,
    "start_time": "2021-07-03T16:23:37.116Z"
   },
   {
    "duration": 3752,
    "start_time": "2021-07-03T16:24:59.175Z"
   },
   {
    "duration": 9077,
    "start_time": "2021-07-03T16:25:49.643Z"
   },
   {
    "duration": 3551,
    "start_time": "2021-07-03T16:26:18.065Z"
   },
   {
    "duration": 13,
    "start_time": "2021-07-03T16:26:43.890Z"
   },
   {
    "duration": 275,
    "start_time": "2021-07-03T16:26:49.403Z"
   },
   {
    "duration": 13,
    "start_time": "2021-07-03T16:26:52.767Z"
   },
   {
    "duration": 13,
    "start_time": "2021-07-03T16:26:59.934Z"
   },
   {
    "duration": 353,
    "start_time": "2021-07-03T16:27:41.661Z"
   },
   {
    "duration": 299,
    "start_time": "2021-07-03T16:27:47.734Z"
   },
   {
    "duration": 299,
    "start_time": "2021-07-03T16:28:00.010Z"
   },
   {
    "duration": 323,
    "start_time": "2021-07-03T16:28:07.940Z"
   },
   {
    "duration": 21,
    "start_time": "2021-07-03T16:28:13.712Z"
   },
   {
    "duration": 28,
    "start_time": "2021-07-03T16:28:19.900Z"
   },
   {
    "duration": 39,
    "start_time": "2021-07-03T16:28:31.285Z"
   },
   {
    "duration": 298,
    "start_time": "2021-07-03T16:28:42.469Z"
   },
   {
    "duration": 14,
    "start_time": "2021-07-03T16:28:53.482Z"
   },
   {
    "duration": 104,
    "start_time": "2021-07-03T16:30:18.690Z"
   },
   {
    "duration": 5556,
    "start_time": "2021-07-03T16:30:26.015Z"
   },
   {
    "duration": 36,
    "start_time": "2021-07-03T16:30:44.555Z"
   },
   {
    "duration": 3656,
    "start_time": "2021-07-03T16:31:10.532Z"
   },
   {
    "duration": 38,
    "start_time": "2021-07-03T16:31:14.190Z"
   },
   {
    "duration": 81,
    "start_time": "2021-07-03T16:57:17.285Z"
   },
   {
    "duration": 16,
    "start_time": "2021-07-03T16:57:20.907Z"
   },
   {
    "duration": 833,
    "start_time": "2021-07-03T16:57:36.785Z"
   },
   {
    "duration": 15,
    "start_time": "2021-07-03T16:57:42.082Z"
   },
   {
    "duration": 3312,
    "start_time": "2021-07-03T17:15:10.442Z"
   },
   {
    "duration": 13,
    "start_time": "2021-07-03T17:18:19.164Z"
   },
   {
    "duration": 12,
    "start_time": "2021-07-03T17:21:29.326Z"
   },
   {
    "duration": 504,
    "start_time": "2021-07-03T17:32:34.211Z"
   },
   {
    "duration": 384,
    "start_time": "2021-07-03T17:33:06.487Z"
   },
   {
    "duration": 422,
    "start_time": "2021-07-03T17:37:57.587Z"
   },
   {
    "duration": 16,
    "start_time": "2021-07-03T17:38:08.194Z"
   },
   {
    "duration": 17,
    "start_time": "2021-07-03T17:39:06.212Z"
   },
   {
    "duration": 1848,
    "start_time": "2021-07-03T17:51:34.047Z"
   },
   {
    "duration": 2113,
    "start_time": "2021-07-03T17:58:23.498Z"
   },
   {
    "duration": 568,
    "start_time": "2021-07-03T18:03:13.379Z"
   },
   {
    "duration": 36,
    "start_time": "2021-07-03T18:03:17.249Z"
   },
   {
    "duration": 841,
    "start_time": "2021-07-03T18:04:03.138Z"
   },
   {
    "duration": 567,
    "start_time": "2021-07-03T18:04:23.424Z"
   },
   {
    "duration": 37,
    "start_time": "2021-07-03T18:04:26.437Z"
   },
   {
    "duration": 7,
    "start_time": "2021-07-03T18:05:17.187Z"
   },
   {
    "duration": 37,
    "start_time": "2021-07-03T18:06:59.474Z"
   },
   {
    "duration": 626,
    "start_time": "2021-07-03T18:15:07.440Z"
   },
   {
    "duration": 623,
    "start_time": "2021-07-03T18:35:19.829Z"
   },
   {
    "duration": 303,
    "start_time": "2021-07-03T18:37:44.001Z"
   },
   {
    "duration": 48,
    "start_time": "2021-07-03T18:38:32.960Z"
   },
   {
    "duration": 293,
    "start_time": "2021-07-03T18:39:18.681Z"
   },
   {
    "duration": 47,
    "start_time": "2021-07-03T18:39:41.147Z"
   },
   {
    "duration": 11,
    "start_time": "2021-07-03T18:40:21.367Z"
   },
   {
    "duration": 12,
    "start_time": "2021-07-03T18:40:49.008Z"
   },
   {
    "duration": 15,
    "start_time": "2021-07-03T18:41:24.020Z"
   },
   {
    "duration": 324,
    "start_time": "2021-07-03T18:42:16.096Z"
   },
   {
    "duration": 96,
    "start_time": "2021-07-03T18:42:57.979Z"
   },
   {
    "duration": 12,
    "start_time": "2021-07-03T18:43:02.120Z"
   },
   {
    "duration": 6885,
    "start_time": "2021-07-03T18:44:22.986Z"
   },
   {
    "duration": 10,
    "start_time": "2021-07-03T18:44:52.439Z"
   },
   {
    "duration": 12,
    "start_time": "2021-07-03T18:45:19.169Z"
   },
   {
    "duration": 8,
    "start_time": "2021-07-03T18:45:27.732Z"
   },
   {
    "duration": 8,
    "start_time": "2021-07-03T18:45:38.624Z"
   },
   {
    "duration": 599,
    "start_time": "2021-07-03T18:50:34.120Z"
   },
   {
    "duration": 39,
    "start_time": "2021-07-03T18:50:47.968Z"
   },
   {
    "duration": 83,
    "start_time": "2021-07-03T18:51:40.236Z"
   },
   {
    "duration": 3167,
    "start_time": "2021-07-03T18:51:47.537Z"
   },
   {
    "duration": 3693,
    "start_time": "2021-07-03T18:51:53.962Z"
   },
   {
    "duration": 620,
    "start_time": "2021-07-03T18:51:59.665Z"
   },
   {
    "duration": 1116,
    "start_time": "2021-07-03T18:52:04.355Z"
   },
   {
    "duration": 39,
    "start_time": "2021-07-03T18:52:07.926Z"
   },
   {
    "duration": 818,
    "start_time": "2021-07-03T18:53:25.167Z"
   },
   {
    "duration": 41,
    "start_time": "2021-07-03T18:53:27.270Z"
   },
   {
    "duration": 872,
    "start_time": "2021-07-03T18:54:33.130Z"
   },
   {
    "duration": 613,
    "start_time": "2021-07-03T18:54:38.643Z"
   },
   {
    "duration": 82,
    "start_time": "2021-07-03T18:55:05.509Z"
   },
   {
    "duration": 15,
    "start_time": "2021-07-03T18:55:06.609Z"
   },
   {
    "duration": 14,
    "start_time": "2021-07-03T18:55:10.558Z"
   },
   {
    "duration": 3173,
    "start_time": "2021-07-03T18:55:11.281Z"
   },
   {
    "duration": 3577,
    "start_time": "2021-07-03T18:55:14.456Z"
   },
   {
    "duration": 600,
    "start_time": "2021-07-03T18:55:18.036Z"
   },
   {
    "duration": 806,
    "start_time": "2021-07-03T18:55:19.019Z"
   },
   {
    "duration": 634,
    "start_time": "2021-07-03T18:55:25.735Z"
   },
   {
    "duration": 76,
    "start_time": "2021-07-03T18:56:57.966Z"
   },
   {
    "duration": 15,
    "start_time": "2021-07-03T18:56:59.741Z"
   },
   {
    "duration": 18,
    "start_time": "2021-07-03T18:57:04.085Z"
   },
   {
    "duration": 3229,
    "start_time": "2021-07-03T18:57:05.130Z"
   },
   {
    "duration": 3664,
    "start_time": "2021-07-03T18:57:20.836Z"
   },
   {
    "duration": 606,
    "start_time": "2021-07-03T18:57:28.328Z"
   },
   {
    "duration": 807,
    "start_time": "2021-07-03T18:57:38.049Z"
   },
   {
    "duration": 291,
    "start_time": "2021-07-03T18:58:13.397Z"
   },
   {
    "duration": 7,
    "start_time": "2021-07-03T18:58:29.620Z"
   },
   {
    "duration": 811,
    "start_time": "2021-07-03T18:58:49.364Z"
   },
   {
    "duration": 608,
    "start_time": "2021-07-03T18:58:59.051Z"
   },
   {
    "duration": 3560,
    "start_time": "2021-07-03T19:18:56.037Z"
   },
   {
    "duration": 341,
    "start_time": "2021-07-03T19:19:19.438Z"
   },
   {
    "duration": 414,
    "start_time": "2021-07-03T19:19:44.986Z"
   },
   {
    "duration": 865,
    "start_time": "2021-07-03T19:20:07.210Z"
   },
   {
    "duration": 16,
    "start_time": "2021-07-03T19:20:08.078Z"
   },
   {
    "duration": 13,
    "start_time": "2021-07-03T19:20:08.097Z"
   },
   {
    "duration": 3532,
    "start_time": "2021-07-03T19:20:08.113Z"
   },
   {
    "duration": 3563,
    "start_time": "2021-07-03T19:20:11.647Z"
   },
   {
    "duration": 639,
    "start_time": "2021-07-03T19:20:15.213Z"
   },
   {
    "duration": 889,
    "start_time": "2021-07-03T19:20:15.854Z"
   },
   {
    "duration": 644,
    "start_time": "2021-07-03T19:20:16.745Z"
   },
   {
    "duration": 434,
    "start_time": "2021-07-03T19:20:17.392Z"
   },
   {
    "duration": 61,
    "start_time": "2021-07-03T19:31:10.900Z"
   },
   {
    "duration": 43,
    "start_time": "2021-07-03T19:31:39.420Z"
   },
   {
    "duration": 431,
    "start_time": "2021-07-03T19:32:23.340Z"
   },
   {
    "duration": 298,
    "start_time": "2021-07-03T19:32:42.702Z"
   },
   {
    "duration": 38,
    "start_time": "2021-07-03T19:32:58.362Z"
   },
   {
    "duration": 4593,
    "start_time": "2021-07-03T19:37:24.058Z"
   },
   {
    "duration": 8521,
    "start_time": "2021-07-03T19:41:33.103Z"
   },
   {
    "duration": 287,
    "start_time": "2021-07-03T19:45:35.927Z"
   },
   {
    "duration": 7,
    "start_time": "2021-07-03T19:46:09.152Z"
   },
   {
    "duration": 8,
    "start_time": "2021-07-03T19:46:13.896Z"
   },
   {
    "duration": 336,
    "start_time": "2021-07-03T19:47:25.031Z"
   },
   {
    "duration": 50,
    "start_time": "2021-07-03T19:50:33.810Z"
   },
   {
    "duration": 10,
    "start_time": "2021-07-03T19:50:44.442Z"
   },
   {
    "duration": 6787,
    "start_time": "2021-07-03T20:05:44.917Z"
   },
   {
    "duration": 32,
    "start_time": "2021-07-03T20:06:12.030Z"
   },
   {
    "duration": 30,
    "start_time": "2021-07-03T20:08:44.763Z"
   },
   {
    "duration": 40,
    "start_time": "2021-07-03T20:10:38.232Z"
   },
   {
    "duration": 35,
    "start_time": "2021-07-03T20:13:17.018Z"
   },
   {
    "duration": 43,
    "start_time": "2021-07-03T20:15:19.802Z"
   },
   {
    "duration": 34,
    "start_time": "2021-07-03T20:16:25.155Z"
   },
   {
    "duration": 619,
    "start_time": "2021-07-03T20:21:15.085Z"
   },
   {
    "duration": 59,
    "start_time": "2021-07-03T20:57:09.719Z"
   },
   {
    "duration": 811,
    "start_time": "2021-07-03T21:05:55.782Z"
   },
   {
    "duration": 16,
    "start_time": "2021-07-03T21:05:56.595Z"
   },
   {
    "duration": 13,
    "start_time": "2021-07-03T21:05:56.614Z"
   },
   {
    "duration": 3199,
    "start_time": "2021-07-03T21:05:56.630Z"
   },
   {
    "duration": 3581,
    "start_time": "2021-07-03T21:05:59.832Z"
   },
   {
    "duration": 623,
    "start_time": "2021-07-03T21:06:03.416Z"
   },
   {
    "duration": 869,
    "start_time": "2021-07-03T21:06:04.041Z"
   },
   {
    "duration": 640,
    "start_time": "2021-07-03T21:06:04.912Z"
   },
   {
    "duration": 443,
    "start_time": "2021-07-03T21:06:05.556Z"
   },
   {
    "duration": 7,
    "start_time": "2021-07-03T21:06:06.002Z"
   },
   {
    "duration": 45,
    "start_time": "2021-07-03T21:06:06.012Z"
   },
   {
    "duration": 8055,
    "start_time": "2021-07-03T21:06:06.060Z"
   },
   {
    "duration": 328,
    "start_time": "2021-07-03T21:06:14.118Z"
   },
   {
    "duration": 17,
    "start_time": "2021-07-03T21:06:14.448Z"
   },
   {
    "duration": 47,
    "start_time": "2021-07-03T21:06:14.468Z"
   },
   {
    "duration": 30,
    "start_time": "2021-07-03T21:06:14.518Z"
   },
   {
    "duration": 62,
    "start_time": "2021-07-03T21:06:14.551Z"
   },
   {
    "duration": 32,
    "start_time": "2021-07-03T21:06:14.616Z"
   },
   {
    "duration": 64,
    "start_time": "2021-07-03T21:06:14.651Z"
   },
   {
    "duration": 34,
    "start_time": "2021-07-03T21:06:14.718Z"
   },
   {
    "duration": 897,
    "start_time": "2021-07-04T07:19:56.461Z"
   },
   {
    "duration": 17,
    "start_time": "2021-07-04T07:19:57.360Z"
   },
   {
    "duration": 30,
    "start_time": "2021-07-04T07:19:57.381Z"
   },
   {
    "duration": 3311,
    "start_time": "2021-07-04T07:19:57.414Z"
   },
   {
    "duration": 3570,
    "start_time": "2021-07-04T07:20:00.728Z"
   },
   {
    "duration": 658,
    "start_time": "2021-07-04T07:20:04.300Z"
   },
   {
    "duration": 878,
    "start_time": "2021-07-04T07:20:04.961Z"
   },
   {
    "duration": 636,
    "start_time": "2021-07-04T07:20:05.842Z"
   },
   {
    "duration": 416,
    "start_time": "2021-07-04T07:20:06.482Z"
   },
   {
    "duration": 6,
    "start_time": "2021-07-04T07:20:06.901Z"
   },
   {
    "duration": 45,
    "start_time": "2021-07-04T07:20:06.910Z"
   },
   {
    "duration": 8011,
    "start_time": "2021-07-04T07:20:06.957Z"
   },
   {
    "duration": 323,
    "start_time": "2021-07-04T07:20:14.972Z"
   },
   {
    "duration": 15,
    "start_time": "2021-07-04T07:20:15.297Z"
   },
   {
    "duration": 37,
    "start_time": "2021-07-04T07:20:15.314Z"
   },
   {
    "duration": 64,
    "start_time": "2021-07-04T07:20:15.354Z"
   },
   {
    "duration": 36,
    "start_time": "2021-07-04T07:20:15.421Z"
   },
   {
    "duration": 57,
    "start_time": "2021-07-04T07:20:15.460Z"
   },
   {
    "duration": 41,
    "start_time": "2021-07-04T07:20:15.520Z"
   },
   {
    "duration": 54,
    "start_time": "2021-07-04T07:20:15.563Z"
   },
   {
    "duration": 1071,
    "start_time": "2021-07-05T05:15:14.081Z"
   },
   {
    "duration": 15,
    "start_time": "2021-07-05T05:15:15.155Z"
   },
   {
    "duration": 12,
    "start_time": "2021-07-05T05:15:15.174Z"
   },
   {
    "duration": 3384,
    "start_time": "2021-07-05T05:15:15.189Z"
   },
   {
    "duration": 3670,
    "start_time": "2021-07-05T05:15:18.575Z"
   },
   {
    "duration": 651,
    "start_time": "2021-07-05T05:15:22.247Z"
   },
   {
    "duration": 888,
    "start_time": "2021-07-05T05:15:22.900Z"
   },
   {
    "duration": 650,
    "start_time": "2021-07-05T05:15:23.792Z"
   },
   {
    "duration": 441,
    "start_time": "2021-07-05T05:15:24.445Z"
   },
   {
    "duration": 6,
    "start_time": "2021-07-05T05:15:24.888Z"
   },
   {
    "duration": 42,
    "start_time": "2021-07-05T05:15:24.897Z"
   },
   {
    "duration": 8113,
    "start_time": "2021-07-05T05:15:24.962Z"
   },
   {
    "duration": 329,
    "start_time": "2021-07-05T05:15:33.078Z"
   },
   {
    "duration": 16,
    "start_time": "2021-07-05T05:15:33.411Z"
   },
   {
    "duration": 57,
    "start_time": "2021-07-05T05:15:33.430Z"
   },
   {
    "duration": 32,
    "start_time": "2021-07-05T05:15:33.490Z"
   },
   {
    "duration": 67,
    "start_time": "2021-07-05T05:15:33.525Z"
   },
   {
    "duration": 37,
    "start_time": "2021-07-05T05:15:33.595Z"
   },
   {
    "duration": 47,
    "start_time": "2021-07-05T05:15:33.663Z"
   },
   {
    "duration": 66,
    "start_time": "2021-07-05T05:15:33.713Z"
   },
   {
    "duration": 486,
    "start_time": "2021-07-05T05:19:47.728Z"
   },
   {
    "duration": 328,
    "start_time": "2021-07-05T05:20:15.751Z"
   },
   {
    "duration": 22,
    "start_time": "2021-07-05T05:20:31.929Z"
   },
   {
    "duration": 40,
    "start_time": "2021-07-05T05:41:39.391Z"
   },
   {
    "duration": 51,
    "start_time": "2021-07-05T05:41:39.435Z"
   },
   {
    "duration": 38,
    "start_time": "2021-07-05T05:41:39.490Z"
   },
   {
    "duration": 61,
    "start_time": "2021-07-05T05:41:39.530Z"
   },
   {
    "duration": 37,
    "start_time": "2021-07-05T05:41:39.593Z"
   }
  ],
  "kernelspec": {
   "display_name": "Python 3 (ipykernel)",
   "language": "python",
   "name": "python3"
  },
  "language_info": {
   "codemirror_mode": {
    "name": "ipython",
    "version": 3
   },
   "file_extension": ".py",
   "mimetype": "text/x-python",
   "name": "python",
   "nbconvert_exporter": "python",
   "pygments_lexer": "ipython3",
   "version": "3.9.5"
  },
  "toc": {
   "base_numbering": 1,
   "nav_menu": {},
   "number_sections": true,
   "sideBar": true,
   "skip_h1_title": true,
   "title_cell": "Table of Contents",
   "title_sidebar": "Contents",
   "toc_cell": false,
   "toc_position": {},
   "toc_section_display": true,
   "toc_window_display": false
  }
 },
 "nbformat": 4,
 "nbformat_minor": 2
}
