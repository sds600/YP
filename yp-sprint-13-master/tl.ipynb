{
 "cells": [
  {
   "cell_type": "markdown",
   "metadata": {
    "toc": true
   },
   "source": [
    "<h1>Содержание<span class=\"tocSkip\"></span></h1>\n",
    "<div class=\"toc\"><ul class=\"toc-item\"><li><span><a href=\"#Подготовка-данных\" data-toc-modified-id=\"Подготовка-данных-1\"><span class=\"toc-item-num\">1&nbsp;&nbsp;</span>Подготовка данных</a></span></li><li><span><a href=\"#Исследование-задачи\" data-toc-modified-id=\"Исследование-задачи-2\"><span class=\"toc-item-num\">2&nbsp;&nbsp;</span>Исследование задачи</a></span><ul class=\"toc-item\"><li><span><a href=\"#Вывод\" data-toc-modified-id=\"Вывод-2.1\"><span class=\"toc-item-num\">2.1&nbsp;&nbsp;</span>Вывод</a></span></li></ul></li><li><span><a href=\"#Тестирование-модели\" data-toc-modified-id=\"Тестирование-модели-3\"><span class=\"toc-item-num\">3&nbsp;&nbsp;</span>Тестирование модели</a></span></li><li><span><a href=\"#Чек-лист-готовности-проекта\" data-toc-modified-id=\"Чек-лист-готовности-проекта-4\"><span class=\"toc-item-num\">4&nbsp;&nbsp;</span>Чек-лист готовности проекта</a></span></li></ul></div>"
   ]
  },
  {
   "cell_type": "markdown",
   "metadata": {},
   "source": [
    "# Отток клиентов"
   ]
  },
  {
   "cell_type": "markdown",
   "metadata": {},
   "source": [
    "Из «Бета-Банка» стали уходить клиенты. Каждый месяц. Немного, но заметно. Банковские маркетологи посчитали: сохранять текущих клиентов дешевле, чем привлекать новых.\n",
    "\n",
    "Нужно спрогнозировать, уйдёт клиент из банка в ближайшее время или нет. Вам предоставлены исторические данные о поведении клиентов и расторжении договоров с банком. \n",
    "\n",
    "Постройте модель с предельно большим значением *F1*-меры. Чтобы сдать проект успешно, нужно довести метрику до 0.59. Проверьте *F1*-меру на тестовой выборке самостоятельно.\n",
    "\n",
    "Дополнительно измеряйте *AUC-ROC*, сравнивайте её значение с *F1*-мерой.\n",
    "\n",
    "Источник данных: [https://www.kaggle.com/barelydedicated/bank-customer-churn-modeling](https://www.kaggle.com/barelydedicated/bank-customer-churn-modeling)"
   ]
  },
  {
   "cell_type": "markdown",
   "metadata": {},
   "source": [
    "## Подготовка данных"
   ]
  },
  {
   "cell_type": "code",
   "execution_count": 37,
   "metadata": {},
   "outputs": [],
   "source": [
    "import pandas as pd\n",
    "from sklearn.preprocessing import OrdinalEncoder\n",
    "from sklearn.preprocessing import StandardScaler\n",
    "\n",
    "from sklearn.model_selection import train_test_split\n",
    "\n",
    "from sklearn.tree import DecisionTreeClassifier\n",
    "from sklearn.ensemble import RandomForestClassifier\n",
    "from sklearn.linear_model import LogisticRegression\n",
    "\n",
    "from sklearn.metrics import accuracy_score, f1_score\n",
    "\n",
    "from sklearn.utils import shuffle\n",
    "\n",
    "import numpy as np\n",
    "\n",
    "from sklearn.metrics import roc_curve\n",
    "import matplotlib.pyplot as plt"
   ]
  },
  {
   "cell_type": "code",
   "execution_count": 38,
   "metadata": {},
   "outputs": [],
   "source": [
    "df = pd.read_csv('/datasets/Churn.csv')"
   ]
  },
  {
   "cell_type": "code",
   "execution_count": 39,
   "metadata": {},
   "outputs": [
    {
     "data": {
      "text/plain": [
       "(10000, 14)"
      ]
     },
     "execution_count": 39,
     "metadata": {},
     "output_type": "execute_result"
    }
   ],
   "source": [
    "# Посомтрим размер датасета\n",
    "df.shape"
   ]
  },
  {
   "cell_type": "code",
   "execution_count": 40,
   "metadata": {},
   "outputs": [
    {
     "data": {
      "text/html": [
       "<div>\n",
       "<style scoped>\n",
       "    .dataframe tbody tr th:only-of-type {\n",
       "        vertical-align: middle;\n",
       "    }\n",
       "\n",
       "    .dataframe tbody tr th {\n",
       "        vertical-align: top;\n",
       "    }\n",
       "\n",
       "    .dataframe thead th {\n",
       "        text-align: right;\n",
       "    }\n",
       "</style>\n",
       "<table border=\"1\" class=\"dataframe\">\n",
       "  <thead>\n",
       "    <tr style=\"text-align: right;\">\n",
       "      <th></th>\n",
       "      <th>RowNumber</th>\n",
       "      <th>CustomerId</th>\n",
       "      <th>Surname</th>\n",
       "      <th>CreditScore</th>\n",
       "      <th>Geography</th>\n",
       "      <th>Gender</th>\n",
       "      <th>Age</th>\n",
       "      <th>Tenure</th>\n",
       "      <th>Balance</th>\n",
       "      <th>NumOfProducts</th>\n",
       "      <th>HasCrCard</th>\n",
       "      <th>IsActiveMember</th>\n",
       "      <th>EstimatedSalary</th>\n",
       "      <th>Exited</th>\n",
       "    </tr>\n",
       "  </thead>\n",
       "  <tbody>\n",
       "    <tr>\n",
       "      <td>0</td>\n",
       "      <td>1</td>\n",
       "      <td>15634602</td>\n",
       "      <td>Hargrave</td>\n",
       "      <td>619</td>\n",
       "      <td>France</td>\n",
       "      <td>Female</td>\n",
       "      <td>42</td>\n",
       "      <td>2.0</td>\n",
       "      <td>0.00</td>\n",
       "      <td>1</td>\n",
       "      <td>1</td>\n",
       "      <td>1</td>\n",
       "      <td>101348.88</td>\n",
       "      <td>1</td>\n",
       "    </tr>\n",
       "    <tr>\n",
       "      <td>1</td>\n",
       "      <td>2</td>\n",
       "      <td>15647311</td>\n",
       "      <td>Hill</td>\n",
       "      <td>608</td>\n",
       "      <td>Spain</td>\n",
       "      <td>Female</td>\n",
       "      <td>41</td>\n",
       "      <td>1.0</td>\n",
       "      <td>83807.86</td>\n",
       "      <td>1</td>\n",
       "      <td>0</td>\n",
       "      <td>1</td>\n",
       "      <td>112542.58</td>\n",
       "      <td>0</td>\n",
       "    </tr>\n",
       "    <tr>\n",
       "      <td>2</td>\n",
       "      <td>3</td>\n",
       "      <td>15619304</td>\n",
       "      <td>Onio</td>\n",
       "      <td>502</td>\n",
       "      <td>France</td>\n",
       "      <td>Female</td>\n",
       "      <td>42</td>\n",
       "      <td>8.0</td>\n",
       "      <td>159660.80</td>\n",
       "      <td>3</td>\n",
       "      <td>1</td>\n",
       "      <td>0</td>\n",
       "      <td>113931.57</td>\n",
       "      <td>1</td>\n",
       "    </tr>\n",
       "    <tr>\n",
       "      <td>3</td>\n",
       "      <td>4</td>\n",
       "      <td>15701354</td>\n",
       "      <td>Boni</td>\n",
       "      <td>699</td>\n",
       "      <td>France</td>\n",
       "      <td>Female</td>\n",
       "      <td>39</td>\n",
       "      <td>1.0</td>\n",
       "      <td>0.00</td>\n",
       "      <td>2</td>\n",
       "      <td>0</td>\n",
       "      <td>0</td>\n",
       "      <td>93826.63</td>\n",
       "      <td>0</td>\n",
       "    </tr>\n",
       "    <tr>\n",
       "      <td>4</td>\n",
       "      <td>5</td>\n",
       "      <td>15737888</td>\n",
       "      <td>Mitchell</td>\n",
       "      <td>850</td>\n",
       "      <td>Spain</td>\n",
       "      <td>Female</td>\n",
       "      <td>43</td>\n",
       "      <td>2.0</td>\n",
       "      <td>125510.82</td>\n",
       "      <td>1</td>\n",
       "      <td>1</td>\n",
       "      <td>1</td>\n",
       "      <td>79084.10</td>\n",
       "      <td>0</td>\n",
       "    </tr>\n",
       "    <tr>\n",
       "      <td>5</td>\n",
       "      <td>6</td>\n",
       "      <td>15574012</td>\n",
       "      <td>Chu</td>\n",
       "      <td>645</td>\n",
       "      <td>Spain</td>\n",
       "      <td>Male</td>\n",
       "      <td>44</td>\n",
       "      <td>8.0</td>\n",
       "      <td>113755.78</td>\n",
       "      <td>2</td>\n",
       "      <td>1</td>\n",
       "      <td>0</td>\n",
       "      <td>149756.71</td>\n",
       "      <td>1</td>\n",
       "    </tr>\n",
       "    <tr>\n",
       "      <td>6</td>\n",
       "      <td>7</td>\n",
       "      <td>15592531</td>\n",
       "      <td>Bartlett</td>\n",
       "      <td>822</td>\n",
       "      <td>France</td>\n",
       "      <td>Male</td>\n",
       "      <td>50</td>\n",
       "      <td>7.0</td>\n",
       "      <td>0.00</td>\n",
       "      <td>2</td>\n",
       "      <td>1</td>\n",
       "      <td>1</td>\n",
       "      <td>10062.80</td>\n",
       "      <td>0</td>\n",
       "    </tr>\n",
       "    <tr>\n",
       "      <td>7</td>\n",
       "      <td>8</td>\n",
       "      <td>15656148</td>\n",
       "      <td>Obinna</td>\n",
       "      <td>376</td>\n",
       "      <td>Germany</td>\n",
       "      <td>Female</td>\n",
       "      <td>29</td>\n",
       "      <td>4.0</td>\n",
       "      <td>115046.74</td>\n",
       "      <td>4</td>\n",
       "      <td>1</td>\n",
       "      <td>0</td>\n",
       "      <td>119346.88</td>\n",
       "      <td>1</td>\n",
       "    </tr>\n",
       "    <tr>\n",
       "      <td>8</td>\n",
       "      <td>9</td>\n",
       "      <td>15792365</td>\n",
       "      <td>He</td>\n",
       "      <td>501</td>\n",
       "      <td>France</td>\n",
       "      <td>Male</td>\n",
       "      <td>44</td>\n",
       "      <td>4.0</td>\n",
       "      <td>142051.07</td>\n",
       "      <td>2</td>\n",
       "      <td>0</td>\n",
       "      <td>1</td>\n",
       "      <td>74940.50</td>\n",
       "      <td>0</td>\n",
       "    </tr>\n",
       "    <tr>\n",
       "      <td>9</td>\n",
       "      <td>10</td>\n",
       "      <td>15592389</td>\n",
       "      <td>H?</td>\n",
       "      <td>684</td>\n",
       "      <td>France</td>\n",
       "      <td>Male</td>\n",
       "      <td>27</td>\n",
       "      <td>2.0</td>\n",
       "      <td>134603.88</td>\n",
       "      <td>1</td>\n",
       "      <td>1</td>\n",
       "      <td>1</td>\n",
       "      <td>71725.73</td>\n",
       "      <td>0</td>\n",
       "    </tr>\n",
       "  </tbody>\n",
       "</table>\n",
       "</div>"
      ],
      "text/plain": [
       "   RowNumber  CustomerId   Surname  CreditScore Geography  Gender  Age  \\\n",
       "0          1    15634602  Hargrave          619    France  Female   42   \n",
       "1          2    15647311      Hill          608     Spain  Female   41   \n",
       "2          3    15619304      Onio          502    France  Female   42   \n",
       "3          4    15701354      Boni          699    France  Female   39   \n",
       "4          5    15737888  Mitchell          850     Spain  Female   43   \n",
       "5          6    15574012       Chu          645     Spain    Male   44   \n",
       "6          7    15592531  Bartlett          822    France    Male   50   \n",
       "7          8    15656148    Obinna          376   Germany  Female   29   \n",
       "8          9    15792365        He          501    France    Male   44   \n",
       "9         10    15592389        H?          684    France    Male   27   \n",
       "\n",
       "   Tenure    Balance  NumOfProducts  HasCrCard  IsActiveMember  \\\n",
       "0     2.0       0.00              1          1               1   \n",
       "1     1.0   83807.86              1          0               1   \n",
       "2     8.0  159660.80              3          1               0   \n",
       "3     1.0       0.00              2          0               0   \n",
       "4     2.0  125510.82              1          1               1   \n",
       "5     8.0  113755.78              2          1               0   \n",
       "6     7.0       0.00              2          1               1   \n",
       "7     4.0  115046.74              4          1               0   \n",
       "8     4.0  142051.07              2          0               1   \n",
       "9     2.0  134603.88              1          1               1   \n",
       "\n",
       "   EstimatedSalary  Exited  \n",
       "0        101348.88       1  \n",
       "1        112542.58       0  \n",
       "2        113931.57       1  \n",
       "3         93826.63       0  \n",
       "4         79084.10       0  \n",
       "5        149756.71       1  \n",
       "6         10062.80       0  \n",
       "7        119346.88       1  \n",
       "8         74940.50       0  \n",
       "9         71725.73       0  "
      ]
     },
     "execution_count": 40,
     "metadata": {},
     "output_type": "execute_result"
    }
   ],
   "source": [
    "# Посмотрим первые 10\n",
    "df.head(10)"
   ]
  },
  {
   "cell_type": "code",
   "execution_count": 41,
   "metadata": {},
   "outputs": [
    {
     "data": {
      "text/html": [
       "<div>\n",
       "<style scoped>\n",
       "    .dataframe tbody tr th:only-of-type {\n",
       "        vertical-align: middle;\n",
       "    }\n",
       "\n",
       "    .dataframe tbody tr th {\n",
       "        vertical-align: top;\n",
       "    }\n",
       "\n",
       "    .dataframe thead th {\n",
       "        text-align: right;\n",
       "    }\n",
       "</style>\n",
       "<table border=\"1\" class=\"dataframe\">\n",
       "  <thead>\n",
       "    <tr style=\"text-align: right;\">\n",
       "      <th></th>\n",
       "      <th>RowNumber</th>\n",
       "      <th>CustomerId</th>\n",
       "      <th>Surname</th>\n",
       "      <th>CreditScore</th>\n",
       "      <th>Geography</th>\n",
       "      <th>Gender</th>\n",
       "      <th>Age</th>\n",
       "      <th>Tenure</th>\n",
       "      <th>Balance</th>\n",
       "      <th>NumOfProducts</th>\n",
       "      <th>HasCrCard</th>\n",
       "      <th>IsActiveMember</th>\n",
       "      <th>EstimatedSalary</th>\n",
       "      <th>Exited</th>\n",
       "    </tr>\n",
       "  </thead>\n",
       "  <tbody>\n",
       "    <tr>\n",
       "      <td>3471</td>\n",
       "      <td>3472</td>\n",
       "      <td>15743582</td>\n",
       "      <td>T'ang</td>\n",
       "      <td>632</td>\n",
       "      <td>France</td>\n",
       "      <td>Female</td>\n",
       "      <td>27</td>\n",
       "      <td>NaN</td>\n",
       "      <td>107375.82</td>\n",
       "      <td>1</td>\n",
       "      <td>1</td>\n",
       "      <td>1</td>\n",
       "      <td>62703.38</td>\n",
       "      <td>0</td>\n",
       "    </tr>\n",
       "    <tr>\n",
       "      <td>3700</td>\n",
       "      <td>3701</td>\n",
       "      <td>15747345</td>\n",
       "      <td>Bergamaschi</td>\n",
       "      <td>678</td>\n",
       "      <td>France</td>\n",
       "      <td>Female</td>\n",
       "      <td>22</td>\n",
       "      <td>6.0</td>\n",
       "      <td>118064.93</td>\n",
       "      <td>2</td>\n",
       "      <td>1</td>\n",
       "      <td>1</td>\n",
       "      <td>195424.01</td>\n",
       "      <td>0</td>\n",
       "    </tr>\n",
       "    <tr>\n",
       "      <td>2333</td>\n",
       "      <td>2334</td>\n",
       "      <td>15635972</td>\n",
       "      <td>Lloyd</td>\n",
       "      <td>484</td>\n",
       "      <td>Spain</td>\n",
       "      <td>Male</td>\n",
       "      <td>36</td>\n",
       "      <td>8.0</td>\n",
       "      <td>0.00</td>\n",
       "      <td>2</td>\n",
       "      <td>1</td>\n",
       "      <td>0</td>\n",
       "      <td>186136.48</td>\n",
       "      <td>0</td>\n",
       "    </tr>\n",
       "    <tr>\n",
       "      <td>9500</td>\n",
       "      <td>9501</td>\n",
       "      <td>15645600</td>\n",
       "      <td>Obidimkpa</td>\n",
       "      <td>739</td>\n",
       "      <td>Spain</td>\n",
       "      <td>Female</td>\n",
       "      <td>27</td>\n",
       "      <td>8.0</td>\n",
       "      <td>98926.40</td>\n",
       "      <td>1</td>\n",
       "      <td>1</td>\n",
       "      <td>1</td>\n",
       "      <td>106969.98</td>\n",
       "      <td>0</td>\n",
       "    </tr>\n",
       "    <tr>\n",
       "      <td>5830</td>\n",
       "      <td>5831</td>\n",
       "      <td>15810711</td>\n",
       "      <td>Marcum</td>\n",
       "      <td>684</td>\n",
       "      <td>Germany</td>\n",
       "      <td>Male</td>\n",
       "      <td>37</td>\n",
       "      <td>NaN</td>\n",
       "      <td>138476.41</td>\n",
       "      <td>2</td>\n",
       "      <td>1</td>\n",
       "      <td>1</td>\n",
       "      <td>52367.29</td>\n",
       "      <td>0</td>\n",
       "    </tr>\n",
       "    <tr>\n",
       "      <td>9519</td>\n",
       "      <td>9520</td>\n",
       "      <td>15782121</td>\n",
       "      <td>Leonard</td>\n",
       "      <td>610</td>\n",
       "      <td>France</td>\n",
       "      <td>Female</td>\n",
       "      <td>27</td>\n",
       "      <td>2.0</td>\n",
       "      <td>0.00</td>\n",
       "      <td>2</td>\n",
       "      <td>1</td>\n",
       "      <td>0</td>\n",
       "      <td>14546.76</td>\n",
       "      <td>0</td>\n",
       "    </tr>\n",
       "    <tr>\n",
       "      <td>8511</td>\n",
       "      <td>8512</td>\n",
       "      <td>15770091</td>\n",
       "      <td>Edwards</td>\n",
       "      <td>643</td>\n",
       "      <td>Germany</td>\n",
       "      <td>Male</td>\n",
       "      <td>28</td>\n",
       "      <td>9.0</td>\n",
       "      <td>160858.13</td>\n",
       "      <td>2</td>\n",
       "      <td>1</td>\n",
       "      <td>0</td>\n",
       "      <td>27149.27</td>\n",
       "      <td>0</td>\n",
       "    </tr>\n",
       "    <tr>\n",
       "      <td>9978</td>\n",
       "      <td>9979</td>\n",
       "      <td>15703563</td>\n",
       "      <td>P'eng</td>\n",
       "      <td>774</td>\n",
       "      <td>France</td>\n",
       "      <td>Male</td>\n",
       "      <td>40</td>\n",
       "      <td>9.0</td>\n",
       "      <td>93017.47</td>\n",
       "      <td>2</td>\n",
       "      <td>1</td>\n",
       "      <td>0</td>\n",
       "      <td>191608.97</td>\n",
       "      <td>0</td>\n",
       "    </tr>\n",
       "    <tr>\n",
       "      <td>1240</td>\n",
       "      <td>1241</td>\n",
       "      <td>15617934</td>\n",
       "      <td>Septimus</td>\n",
       "      <td>579</td>\n",
       "      <td>France</td>\n",
       "      <td>Male</td>\n",
       "      <td>36</td>\n",
       "      <td>9.0</td>\n",
       "      <td>129829.59</td>\n",
       "      <td>1</td>\n",
       "      <td>1</td>\n",
       "      <td>1</td>\n",
       "      <td>60906.12</td>\n",
       "      <td>0</td>\n",
       "    </tr>\n",
       "    <tr>\n",
       "      <td>2488</td>\n",
       "      <td>2489</td>\n",
       "      <td>15571148</td>\n",
       "      <td>Baranov</td>\n",
       "      <td>645</td>\n",
       "      <td>Spain</td>\n",
       "      <td>Female</td>\n",
       "      <td>21</td>\n",
       "      <td>1.0</td>\n",
       "      <td>0.00</td>\n",
       "      <td>2</td>\n",
       "      <td>0</td>\n",
       "      <td>0</td>\n",
       "      <td>28726.07</td>\n",
       "      <td>0</td>\n",
       "    </tr>\n",
       "  </tbody>\n",
       "</table>\n",
       "</div>"
      ],
      "text/plain": [
       "      RowNumber  CustomerId      Surname  CreditScore Geography  Gender  Age  \\\n",
       "3471       3472    15743582        T'ang          632    France  Female   27   \n",
       "3700       3701    15747345  Bergamaschi          678    France  Female   22   \n",
       "2333       2334    15635972        Lloyd          484     Spain    Male   36   \n",
       "9500       9501    15645600    Obidimkpa          739     Spain  Female   27   \n",
       "5830       5831    15810711       Marcum          684   Germany    Male   37   \n",
       "9519       9520    15782121      Leonard          610    France  Female   27   \n",
       "8511       8512    15770091      Edwards          643   Germany    Male   28   \n",
       "9978       9979    15703563        P'eng          774    France    Male   40   \n",
       "1240       1241    15617934     Septimus          579    France    Male   36   \n",
       "2488       2489    15571148      Baranov          645     Spain  Female   21   \n",
       "\n",
       "      Tenure    Balance  NumOfProducts  HasCrCard  IsActiveMember  \\\n",
       "3471     NaN  107375.82              1          1               1   \n",
       "3700     6.0  118064.93              2          1               1   \n",
       "2333     8.0       0.00              2          1               0   \n",
       "9500     8.0   98926.40              1          1               1   \n",
       "5830     NaN  138476.41              2          1               1   \n",
       "9519     2.0       0.00              2          1               0   \n",
       "8511     9.0  160858.13              2          1               0   \n",
       "9978     9.0   93017.47              2          1               0   \n",
       "1240     9.0  129829.59              1          1               1   \n",
       "2488     1.0       0.00              2          0               0   \n",
       "\n",
       "      EstimatedSalary  Exited  \n",
       "3471         62703.38       0  \n",
       "3700        195424.01       0  \n",
       "2333        186136.48       0  \n",
       "9500        106969.98       0  \n",
       "5830         52367.29       0  \n",
       "9519         14546.76       0  \n",
       "8511         27149.27       0  \n",
       "9978        191608.97       0  \n",
       "1240         60906.12       0  \n",
       "2488         28726.07       0  "
      ]
     },
     "execution_count": 41,
     "metadata": {},
     "output_type": "execute_result"
    }
   ],
   "source": [
    "# Посмотрим случайные 10\n",
    "df.sample(n=10)"
   ]
  },
  {
   "cell_type": "code",
   "execution_count": 42,
   "metadata": {},
   "outputs": [
    {
     "data": {
      "text/html": [
       "<div>\n",
       "<style scoped>\n",
       "    .dataframe tbody tr th:only-of-type {\n",
       "        vertical-align: middle;\n",
       "    }\n",
       "\n",
       "    .dataframe tbody tr th {\n",
       "        vertical-align: top;\n",
       "    }\n",
       "\n",
       "    .dataframe thead th {\n",
       "        text-align: right;\n",
       "    }\n",
       "</style>\n",
       "<table border=\"1\" class=\"dataframe\">\n",
       "  <thead>\n",
       "    <tr style=\"text-align: right;\">\n",
       "      <th></th>\n",
       "      <th>RowNumber</th>\n",
       "      <th>CustomerId</th>\n",
       "      <th>Surname</th>\n",
       "      <th>CreditScore</th>\n",
       "      <th>Geography</th>\n",
       "      <th>Gender</th>\n",
       "      <th>Age</th>\n",
       "      <th>Tenure</th>\n",
       "      <th>Balance</th>\n",
       "      <th>NumOfProducts</th>\n",
       "      <th>HasCrCard</th>\n",
       "      <th>IsActiveMember</th>\n",
       "      <th>EstimatedSalary</th>\n",
       "      <th>Exited</th>\n",
       "    </tr>\n",
       "  </thead>\n",
       "  <tbody>\n",
       "    <tr>\n",
       "      <td>9990</td>\n",
       "      <td>9991</td>\n",
       "      <td>15798964</td>\n",
       "      <td>Nkemakonam</td>\n",
       "      <td>714</td>\n",
       "      <td>Germany</td>\n",
       "      <td>Male</td>\n",
       "      <td>33</td>\n",
       "      <td>3.0</td>\n",
       "      <td>35016.60</td>\n",
       "      <td>1</td>\n",
       "      <td>1</td>\n",
       "      <td>0</td>\n",
       "      <td>53667.08</td>\n",
       "      <td>0</td>\n",
       "    </tr>\n",
       "    <tr>\n",
       "      <td>9991</td>\n",
       "      <td>9992</td>\n",
       "      <td>15769959</td>\n",
       "      <td>Ajuluchukwu</td>\n",
       "      <td>597</td>\n",
       "      <td>France</td>\n",
       "      <td>Female</td>\n",
       "      <td>53</td>\n",
       "      <td>4.0</td>\n",
       "      <td>88381.21</td>\n",
       "      <td>1</td>\n",
       "      <td>1</td>\n",
       "      <td>0</td>\n",
       "      <td>69384.71</td>\n",
       "      <td>1</td>\n",
       "    </tr>\n",
       "    <tr>\n",
       "      <td>9992</td>\n",
       "      <td>9993</td>\n",
       "      <td>15657105</td>\n",
       "      <td>Chukwualuka</td>\n",
       "      <td>726</td>\n",
       "      <td>Spain</td>\n",
       "      <td>Male</td>\n",
       "      <td>36</td>\n",
       "      <td>2.0</td>\n",
       "      <td>0.00</td>\n",
       "      <td>1</td>\n",
       "      <td>1</td>\n",
       "      <td>0</td>\n",
       "      <td>195192.40</td>\n",
       "      <td>0</td>\n",
       "    </tr>\n",
       "    <tr>\n",
       "      <td>9993</td>\n",
       "      <td>9994</td>\n",
       "      <td>15569266</td>\n",
       "      <td>Rahman</td>\n",
       "      <td>644</td>\n",
       "      <td>France</td>\n",
       "      <td>Male</td>\n",
       "      <td>28</td>\n",
       "      <td>7.0</td>\n",
       "      <td>155060.41</td>\n",
       "      <td>1</td>\n",
       "      <td>1</td>\n",
       "      <td>0</td>\n",
       "      <td>29179.52</td>\n",
       "      <td>0</td>\n",
       "    </tr>\n",
       "    <tr>\n",
       "      <td>9994</td>\n",
       "      <td>9995</td>\n",
       "      <td>15719294</td>\n",
       "      <td>Wood</td>\n",
       "      <td>800</td>\n",
       "      <td>France</td>\n",
       "      <td>Female</td>\n",
       "      <td>29</td>\n",
       "      <td>2.0</td>\n",
       "      <td>0.00</td>\n",
       "      <td>2</td>\n",
       "      <td>0</td>\n",
       "      <td>0</td>\n",
       "      <td>167773.55</td>\n",
       "      <td>0</td>\n",
       "    </tr>\n",
       "    <tr>\n",
       "      <td>9995</td>\n",
       "      <td>9996</td>\n",
       "      <td>15606229</td>\n",
       "      <td>Obijiaku</td>\n",
       "      <td>771</td>\n",
       "      <td>France</td>\n",
       "      <td>Male</td>\n",
       "      <td>39</td>\n",
       "      <td>5.0</td>\n",
       "      <td>0.00</td>\n",
       "      <td>2</td>\n",
       "      <td>1</td>\n",
       "      <td>0</td>\n",
       "      <td>96270.64</td>\n",
       "      <td>0</td>\n",
       "    </tr>\n",
       "    <tr>\n",
       "      <td>9996</td>\n",
       "      <td>9997</td>\n",
       "      <td>15569892</td>\n",
       "      <td>Johnstone</td>\n",
       "      <td>516</td>\n",
       "      <td>France</td>\n",
       "      <td>Male</td>\n",
       "      <td>35</td>\n",
       "      <td>10.0</td>\n",
       "      <td>57369.61</td>\n",
       "      <td>1</td>\n",
       "      <td>1</td>\n",
       "      <td>1</td>\n",
       "      <td>101699.77</td>\n",
       "      <td>0</td>\n",
       "    </tr>\n",
       "    <tr>\n",
       "      <td>9997</td>\n",
       "      <td>9998</td>\n",
       "      <td>15584532</td>\n",
       "      <td>Liu</td>\n",
       "      <td>709</td>\n",
       "      <td>France</td>\n",
       "      <td>Female</td>\n",
       "      <td>36</td>\n",
       "      <td>7.0</td>\n",
       "      <td>0.00</td>\n",
       "      <td>1</td>\n",
       "      <td>0</td>\n",
       "      <td>1</td>\n",
       "      <td>42085.58</td>\n",
       "      <td>1</td>\n",
       "    </tr>\n",
       "    <tr>\n",
       "      <td>9998</td>\n",
       "      <td>9999</td>\n",
       "      <td>15682355</td>\n",
       "      <td>Sabbatini</td>\n",
       "      <td>772</td>\n",
       "      <td>Germany</td>\n",
       "      <td>Male</td>\n",
       "      <td>42</td>\n",
       "      <td>3.0</td>\n",
       "      <td>75075.31</td>\n",
       "      <td>2</td>\n",
       "      <td>1</td>\n",
       "      <td>0</td>\n",
       "      <td>92888.52</td>\n",
       "      <td>1</td>\n",
       "    </tr>\n",
       "    <tr>\n",
       "      <td>9999</td>\n",
       "      <td>10000</td>\n",
       "      <td>15628319</td>\n",
       "      <td>Walker</td>\n",
       "      <td>792</td>\n",
       "      <td>France</td>\n",
       "      <td>Female</td>\n",
       "      <td>28</td>\n",
       "      <td>NaN</td>\n",
       "      <td>130142.79</td>\n",
       "      <td>1</td>\n",
       "      <td>1</td>\n",
       "      <td>0</td>\n",
       "      <td>38190.78</td>\n",
       "      <td>0</td>\n",
       "    </tr>\n",
       "  </tbody>\n",
       "</table>\n",
       "</div>"
      ],
      "text/plain": [
       "      RowNumber  CustomerId      Surname  CreditScore Geography  Gender  Age  \\\n",
       "9990       9991    15798964   Nkemakonam          714   Germany    Male   33   \n",
       "9991       9992    15769959  Ajuluchukwu          597    France  Female   53   \n",
       "9992       9993    15657105  Chukwualuka          726     Spain    Male   36   \n",
       "9993       9994    15569266       Rahman          644    France    Male   28   \n",
       "9994       9995    15719294         Wood          800    France  Female   29   \n",
       "9995       9996    15606229     Obijiaku          771    France    Male   39   \n",
       "9996       9997    15569892    Johnstone          516    France    Male   35   \n",
       "9997       9998    15584532          Liu          709    France  Female   36   \n",
       "9998       9999    15682355    Sabbatini          772   Germany    Male   42   \n",
       "9999      10000    15628319       Walker          792    France  Female   28   \n",
       "\n",
       "      Tenure    Balance  NumOfProducts  HasCrCard  IsActiveMember  \\\n",
       "9990     3.0   35016.60              1          1               0   \n",
       "9991     4.0   88381.21              1          1               0   \n",
       "9992     2.0       0.00              1          1               0   \n",
       "9993     7.0  155060.41              1          1               0   \n",
       "9994     2.0       0.00              2          0               0   \n",
       "9995     5.0       0.00              2          1               0   \n",
       "9996    10.0   57369.61              1          1               1   \n",
       "9997     7.0       0.00              1          0               1   \n",
       "9998     3.0   75075.31              2          1               0   \n",
       "9999     NaN  130142.79              1          1               0   \n",
       "\n",
       "      EstimatedSalary  Exited  \n",
       "9990         53667.08       0  \n",
       "9991         69384.71       1  \n",
       "9992        195192.40       0  \n",
       "9993         29179.52       0  \n",
       "9994        167773.55       0  \n",
       "9995         96270.64       0  \n",
       "9996        101699.77       0  \n",
       "9997         42085.58       1  \n",
       "9998         92888.52       1  \n",
       "9999         38190.78       0  "
      ]
     },
     "execution_count": 42,
     "metadata": {},
     "output_type": "execute_result"
    }
   ],
   "source": [
    "# Посмотрим последние 10\n",
    "df.tail(10)"
   ]
  },
  {
   "cell_type": "code",
   "execution_count": 43,
   "metadata": {},
   "outputs": [
    {
     "data": {
      "text/html": [
       "<div>\n",
       "<style scoped>\n",
       "    .dataframe tbody tr th:only-of-type {\n",
       "        vertical-align: middle;\n",
       "    }\n",
       "\n",
       "    .dataframe tbody tr th {\n",
       "        vertical-align: top;\n",
       "    }\n",
       "\n",
       "    .dataframe thead th {\n",
       "        text-align: right;\n",
       "    }\n",
       "</style>\n",
       "<table border=\"1\" class=\"dataframe\">\n",
       "  <thead>\n",
       "    <tr style=\"text-align: right;\">\n",
       "      <th></th>\n",
       "      <th>RowNumber</th>\n",
       "      <th>CustomerId</th>\n",
       "      <th>CreditScore</th>\n",
       "      <th>Age</th>\n",
       "      <th>Tenure</th>\n",
       "      <th>Balance</th>\n",
       "      <th>NumOfProducts</th>\n",
       "      <th>HasCrCard</th>\n",
       "      <th>IsActiveMember</th>\n",
       "      <th>EstimatedSalary</th>\n",
       "      <th>Exited</th>\n",
       "    </tr>\n",
       "  </thead>\n",
       "  <tbody>\n",
       "    <tr>\n",
       "      <td>count</td>\n",
       "      <td>10000.00000</td>\n",
       "      <td>1.000000e+04</td>\n",
       "      <td>10000.000000</td>\n",
       "      <td>10000.000000</td>\n",
       "      <td>9091.000000</td>\n",
       "      <td>10000.000000</td>\n",
       "      <td>10000.000000</td>\n",
       "      <td>10000.00000</td>\n",
       "      <td>10000.000000</td>\n",
       "      <td>10000.000000</td>\n",
       "      <td>10000.000000</td>\n",
       "    </tr>\n",
       "    <tr>\n",
       "      <td>mean</td>\n",
       "      <td>5000.50000</td>\n",
       "      <td>1.569094e+07</td>\n",
       "      <td>650.528800</td>\n",
       "      <td>38.921800</td>\n",
       "      <td>4.997690</td>\n",
       "      <td>76485.889288</td>\n",
       "      <td>1.530200</td>\n",
       "      <td>0.70550</td>\n",
       "      <td>0.515100</td>\n",
       "      <td>100090.239881</td>\n",
       "      <td>0.203700</td>\n",
       "    </tr>\n",
       "    <tr>\n",
       "      <td>std</td>\n",
       "      <td>2886.89568</td>\n",
       "      <td>7.193619e+04</td>\n",
       "      <td>96.653299</td>\n",
       "      <td>10.487806</td>\n",
       "      <td>2.894723</td>\n",
       "      <td>62397.405202</td>\n",
       "      <td>0.581654</td>\n",
       "      <td>0.45584</td>\n",
       "      <td>0.499797</td>\n",
       "      <td>57510.492818</td>\n",
       "      <td>0.402769</td>\n",
       "    </tr>\n",
       "    <tr>\n",
       "      <td>min</td>\n",
       "      <td>1.00000</td>\n",
       "      <td>1.556570e+07</td>\n",
       "      <td>350.000000</td>\n",
       "      <td>18.000000</td>\n",
       "      <td>0.000000</td>\n",
       "      <td>0.000000</td>\n",
       "      <td>1.000000</td>\n",
       "      <td>0.00000</td>\n",
       "      <td>0.000000</td>\n",
       "      <td>11.580000</td>\n",
       "      <td>0.000000</td>\n",
       "    </tr>\n",
       "    <tr>\n",
       "      <td>25%</td>\n",
       "      <td>2500.75000</td>\n",
       "      <td>1.562853e+07</td>\n",
       "      <td>584.000000</td>\n",
       "      <td>32.000000</td>\n",
       "      <td>2.000000</td>\n",
       "      <td>0.000000</td>\n",
       "      <td>1.000000</td>\n",
       "      <td>0.00000</td>\n",
       "      <td>0.000000</td>\n",
       "      <td>51002.110000</td>\n",
       "      <td>0.000000</td>\n",
       "    </tr>\n",
       "    <tr>\n",
       "      <td>50%</td>\n",
       "      <td>5000.50000</td>\n",
       "      <td>1.569074e+07</td>\n",
       "      <td>652.000000</td>\n",
       "      <td>37.000000</td>\n",
       "      <td>5.000000</td>\n",
       "      <td>97198.540000</td>\n",
       "      <td>1.000000</td>\n",
       "      <td>1.00000</td>\n",
       "      <td>1.000000</td>\n",
       "      <td>100193.915000</td>\n",
       "      <td>0.000000</td>\n",
       "    </tr>\n",
       "    <tr>\n",
       "      <td>75%</td>\n",
       "      <td>7500.25000</td>\n",
       "      <td>1.575323e+07</td>\n",
       "      <td>718.000000</td>\n",
       "      <td>44.000000</td>\n",
       "      <td>7.000000</td>\n",
       "      <td>127644.240000</td>\n",
       "      <td>2.000000</td>\n",
       "      <td>1.00000</td>\n",
       "      <td>1.000000</td>\n",
       "      <td>149388.247500</td>\n",
       "      <td>0.000000</td>\n",
       "    </tr>\n",
       "    <tr>\n",
       "      <td>max</td>\n",
       "      <td>10000.00000</td>\n",
       "      <td>1.581569e+07</td>\n",
       "      <td>850.000000</td>\n",
       "      <td>92.000000</td>\n",
       "      <td>10.000000</td>\n",
       "      <td>250898.090000</td>\n",
       "      <td>4.000000</td>\n",
       "      <td>1.00000</td>\n",
       "      <td>1.000000</td>\n",
       "      <td>199992.480000</td>\n",
       "      <td>1.000000</td>\n",
       "    </tr>\n",
       "  </tbody>\n",
       "</table>\n",
       "</div>"
      ],
      "text/plain": [
       "         RowNumber    CustomerId   CreditScore           Age       Tenure  \\\n",
       "count  10000.00000  1.000000e+04  10000.000000  10000.000000  9091.000000   \n",
       "mean    5000.50000  1.569094e+07    650.528800     38.921800     4.997690   \n",
       "std     2886.89568  7.193619e+04     96.653299     10.487806     2.894723   \n",
       "min        1.00000  1.556570e+07    350.000000     18.000000     0.000000   \n",
       "25%     2500.75000  1.562853e+07    584.000000     32.000000     2.000000   \n",
       "50%     5000.50000  1.569074e+07    652.000000     37.000000     5.000000   \n",
       "75%     7500.25000  1.575323e+07    718.000000     44.000000     7.000000   \n",
       "max    10000.00000  1.581569e+07    850.000000     92.000000    10.000000   \n",
       "\n",
       "             Balance  NumOfProducts    HasCrCard  IsActiveMember  \\\n",
       "count   10000.000000   10000.000000  10000.00000    10000.000000   \n",
       "mean    76485.889288       1.530200      0.70550        0.515100   \n",
       "std     62397.405202       0.581654      0.45584        0.499797   \n",
       "min         0.000000       1.000000      0.00000        0.000000   \n",
       "25%         0.000000       1.000000      0.00000        0.000000   \n",
       "50%     97198.540000       1.000000      1.00000        1.000000   \n",
       "75%    127644.240000       2.000000      1.00000        1.000000   \n",
       "max    250898.090000       4.000000      1.00000        1.000000   \n",
       "\n",
       "       EstimatedSalary        Exited  \n",
       "count     10000.000000  10000.000000  \n",
       "mean     100090.239881      0.203700  \n",
       "std       57510.492818      0.402769  \n",
       "min          11.580000      0.000000  \n",
       "25%       51002.110000      0.000000  \n",
       "50%      100193.915000      0.000000  \n",
       "75%      149388.247500      0.000000  \n",
       "max      199992.480000      1.000000  "
      ]
     },
     "execution_count": 43,
     "metadata": {},
     "output_type": "execute_result"
    }
   ],
   "source": [
    "df.describe()"
   ]
  },
  {
   "cell_type": "code",
   "execution_count": 44,
   "metadata": {},
   "outputs": [
    {
     "name": "stdout",
     "output_type": "stream",
     "text": [
      "<class 'pandas.core.frame.DataFrame'>\n",
      "RangeIndex: 10000 entries, 0 to 9999\n",
      "Data columns (total 14 columns):\n",
      "RowNumber          10000 non-null int64\n",
      "CustomerId         10000 non-null int64\n",
      "Surname            10000 non-null object\n",
      "CreditScore        10000 non-null int64\n",
      "Geography          10000 non-null object\n",
      "Gender             10000 non-null object\n",
      "Age                10000 non-null int64\n",
      "Tenure             9091 non-null float64\n",
      "Balance            10000 non-null float64\n",
      "NumOfProducts      10000 non-null int64\n",
      "HasCrCard          10000 non-null int64\n",
      "IsActiveMember     10000 non-null int64\n",
      "EstimatedSalary    10000 non-null float64\n",
      "Exited             10000 non-null int64\n",
      "dtypes: float64(3), int64(8), object(3)\n",
      "memory usage: 1.1+ MB\n"
     ]
    }
   ],
   "source": [
    "df.info()"
   ]
  },
  {
   "cell_type": "code",
   "execution_count": 45,
   "metadata": {},
   "outputs": [
    {
     "data": {
      "text/plain": [
       "RowNumber            0\n",
       "CustomerId           0\n",
       "Surname              0\n",
       "CreditScore          0\n",
       "Geography            0\n",
       "Gender               0\n",
       "Age                  0\n",
       "Tenure             909\n",
       "Balance              0\n",
       "NumOfProducts        0\n",
       "HasCrCard            0\n",
       "IsActiveMember       0\n",
       "EstimatedSalary      0\n",
       "Exited               0\n",
       "dtype: int64"
      ]
     },
     "execution_count": 45,
     "metadata": {},
     "output_type": "execute_result"
    }
   ],
   "source": [
    "# посомтрим нулевые столбцы\n",
    "df.isnull().sum()"
   ]
  },
  {
   "cell_type": "markdown",
   "metadata": {},
   "source": [
    "`Tenure` -  сколько лет человек является клиентом банка имеет пустые ячеки посмотрим какие уникальные данные в нем есть."
   ]
  },
  {
   "cell_type": "code",
   "execution_count": 46,
   "metadata": {},
   "outputs": [
    {
     "data": {
      "text/plain": [
       "array([ 2.,  1.,  8.,  7.,  4.,  6.,  3., 10.,  5.,  9.,  0., nan])"
      ]
     },
     "execution_count": 46,
     "metadata": {},
     "output_type": "execute_result"
    }
   ],
   "source": [
    "df.Tenure.unique()"
   ]
  },
  {
   "cell_type": "markdown",
   "metadata": {},
   "source": [
    "Похоже, что по какойто причине не заполнили 909 значений в датасете"
   ]
  },
  {
   "cell_type": "code",
   "execution_count": 47,
   "metadata": {},
   "outputs": [
    {
     "data": {
      "text/plain": [
       "RowNumber          0\n",
       "CustomerId         0\n",
       "Surname            0\n",
       "CreditScore        0\n",
       "Geography          0\n",
       "Gender             0\n",
       "Age                0\n",
       "Tenure             0\n",
       "Balance            0\n",
       "NumOfProducts      0\n",
       "HasCrCard          0\n",
       "IsActiveMember     0\n",
       "EstimatedSalary    0\n",
       "Exited             0\n",
       "dtype: int64"
      ]
     },
     "execution_count": 47,
     "metadata": {},
     "output_type": "execute_result"
    }
   ],
   "source": [
    "# Удалим nan посмотрим, что вышло\n",
    "df = df[df.Tenure.notna()].copy()\n",
    "df.isnull().sum()"
   ]
  },
  {
   "cell_type": "code",
   "execution_count": 48,
   "metadata": {},
   "outputs": [
    {
     "data": {
      "text/plain": [
       "(9091, 14)"
      ]
     },
     "execution_count": 48,
     "metadata": {},
     "output_type": "execute_result"
    }
   ],
   "source": [
    "df.shape"
   ]
  },
  {
   "cell_type": "code",
   "execution_count": 49,
   "metadata": {},
   "outputs": [],
   "source": [
    "# удалим столбцы которые не несут информации о пользователи\n",
    "df.drop(['RowNumber','CustomerId','Surname'], axis=1, inplace=True)"
   ]
  },
  {
   "cell_type": "code",
   "execution_count": 50,
   "metadata": {},
   "outputs": [
    {
     "data": {
      "text/html": [
       "<div>\n",
       "<style scoped>\n",
       "    .dataframe tbody tr th:only-of-type {\n",
       "        vertical-align: middle;\n",
       "    }\n",
       "\n",
       "    .dataframe tbody tr th {\n",
       "        vertical-align: top;\n",
       "    }\n",
       "\n",
       "    .dataframe thead th {\n",
       "        text-align: right;\n",
       "    }\n",
       "</style>\n",
       "<table border=\"1\" class=\"dataframe\">\n",
       "  <thead>\n",
       "    <tr style=\"text-align: right;\">\n",
       "      <th></th>\n",
       "      <th>CreditScore</th>\n",
       "      <th>Geography</th>\n",
       "      <th>Gender</th>\n",
       "      <th>Age</th>\n",
       "      <th>Tenure</th>\n",
       "      <th>Balance</th>\n",
       "      <th>NumOfProducts</th>\n",
       "      <th>HasCrCard</th>\n",
       "      <th>IsActiveMember</th>\n",
       "      <th>EstimatedSalary</th>\n",
       "      <th>Exited</th>\n",
       "    </tr>\n",
       "  </thead>\n",
       "  <tbody>\n",
       "    <tr>\n",
       "      <td>0</td>\n",
       "      <td>619</td>\n",
       "      <td>France</td>\n",
       "      <td>Female</td>\n",
       "      <td>42</td>\n",
       "      <td>2.0</td>\n",
       "      <td>0.00</td>\n",
       "      <td>1</td>\n",
       "      <td>1</td>\n",
       "      <td>1</td>\n",
       "      <td>101348.88</td>\n",
       "      <td>1</td>\n",
       "    </tr>\n",
       "    <tr>\n",
       "      <td>1</td>\n",
       "      <td>608</td>\n",
       "      <td>Spain</td>\n",
       "      <td>Female</td>\n",
       "      <td>41</td>\n",
       "      <td>1.0</td>\n",
       "      <td>83807.86</td>\n",
       "      <td>1</td>\n",
       "      <td>0</td>\n",
       "      <td>1</td>\n",
       "      <td>112542.58</td>\n",
       "      <td>0</td>\n",
       "    </tr>\n",
       "    <tr>\n",
       "      <td>2</td>\n",
       "      <td>502</td>\n",
       "      <td>France</td>\n",
       "      <td>Female</td>\n",
       "      <td>42</td>\n",
       "      <td>8.0</td>\n",
       "      <td>159660.80</td>\n",
       "      <td>3</td>\n",
       "      <td>1</td>\n",
       "      <td>0</td>\n",
       "      <td>113931.57</td>\n",
       "      <td>1</td>\n",
       "    </tr>\n",
       "    <tr>\n",
       "      <td>3</td>\n",
       "      <td>699</td>\n",
       "      <td>France</td>\n",
       "      <td>Female</td>\n",
       "      <td>39</td>\n",
       "      <td>1.0</td>\n",
       "      <td>0.00</td>\n",
       "      <td>2</td>\n",
       "      <td>0</td>\n",
       "      <td>0</td>\n",
       "      <td>93826.63</td>\n",
       "      <td>0</td>\n",
       "    </tr>\n",
       "    <tr>\n",
       "      <td>4</td>\n",
       "      <td>850</td>\n",
       "      <td>Spain</td>\n",
       "      <td>Female</td>\n",
       "      <td>43</td>\n",
       "      <td>2.0</td>\n",
       "      <td>125510.82</td>\n",
       "      <td>1</td>\n",
       "      <td>1</td>\n",
       "      <td>1</td>\n",
       "      <td>79084.10</td>\n",
       "      <td>0</td>\n",
       "    </tr>\n",
       "  </tbody>\n",
       "</table>\n",
       "</div>"
      ],
      "text/plain": [
       "   CreditScore Geography  Gender  Age  Tenure    Balance  NumOfProducts  \\\n",
       "0          619    France  Female   42     2.0       0.00              1   \n",
       "1          608     Spain  Female   41     1.0   83807.86              1   \n",
       "2          502    France  Female   42     8.0  159660.80              3   \n",
       "3          699    France  Female   39     1.0       0.00              2   \n",
       "4          850     Spain  Female   43     2.0  125510.82              1   \n",
       "\n",
       "   HasCrCard  IsActiveMember  EstimatedSalary  Exited  \n",
       "0          1               1        101348.88       1  \n",
       "1          0               1        112542.58       0  \n",
       "2          1               0        113931.57       1  \n",
       "3          0               0         93826.63       0  \n",
       "4          1               1         79084.10       0  "
      ]
     },
     "execution_count": 50,
     "metadata": {},
     "output_type": "execute_result"
    }
   ],
   "source": [
    "df.head()"
   ]
  },
  {
   "cell_type": "markdown",
   "metadata": {},
   "source": [
    "Проведем унитарное кодирование столбцов `Geography` и `Gender`."
   ]
  },
  {
   "cell_type": "code",
   "execution_count": 51,
   "metadata": {},
   "outputs": [
    {
     "name": "stdout",
     "output_type": "stream",
     "text": [
      "['France' 'Spain' 'Germany']\n",
      "['Female' 'Male']\n"
     ]
    }
   ],
   "source": [
    "# посмотрим что в этих столбцах\n",
    "print(df.Geography.unique())\n",
    "print(df.Gender.unique())"
   ]
  },
  {
   "cell_type": "markdown",
   "metadata": {},
   "source": [
    "Много столбцов не будет, можно кодировать"
   ]
  },
  {
   "cell_type": "code",
   "execution_count": 52,
   "metadata": {},
   "outputs": [
    {
     "data": {
      "text/html": [
       "<div>\n",
       "<style scoped>\n",
       "    .dataframe tbody tr th:only-of-type {\n",
       "        vertical-align: middle;\n",
       "    }\n",
       "\n",
       "    .dataframe tbody tr th {\n",
       "        vertical-align: top;\n",
       "    }\n",
       "\n",
       "    .dataframe thead th {\n",
       "        text-align: right;\n",
       "    }\n",
       "</style>\n",
       "<table border=\"1\" class=\"dataframe\">\n",
       "  <thead>\n",
       "    <tr style=\"text-align: right;\">\n",
       "      <th></th>\n",
       "      <th>CreditScore</th>\n",
       "      <th>Age</th>\n",
       "      <th>Tenure</th>\n",
       "      <th>Balance</th>\n",
       "      <th>NumOfProducts</th>\n",
       "      <th>HasCrCard</th>\n",
       "      <th>IsActiveMember</th>\n",
       "      <th>EstimatedSalary</th>\n",
       "      <th>Exited</th>\n",
       "      <th>city_France</th>\n",
       "      <th>city_Germany</th>\n",
       "      <th>city_Spain</th>\n",
       "      <th>gender_Female</th>\n",
       "      <th>gender_Male</th>\n",
       "    </tr>\n",
       "  </thead>\n",
       "  <tbody>\n",
       "    <tr>\n",
       "      <td>0</td>\n",
       "      <td>619</td>\n",
       "      <td>42</td>\n",
       "      <td>2.0</td>\n",
       "      <td>0.00</td>\n",
       "      <td>1</td>\n",
       "      <td>1</td>\n",
       "      <td>1</td>\n",
       "      <td>101348.88</td>\n",
       "      <td>1</td>\n",
       "      <td>1</td>\n",
       "      <td>0</td>\n",
       "      <td>0</td>\n",
       "      <td>1</td>\n",
       "      <td>0</td>\n",
       "    </tr>\n",
       "    <tr>\n",
       "      <td>1</td>\n",
       "      <td>608</td>\n",
       "      <td>41</td>\n",
       "      <td>1.0</td>\n",
       "      <td>83807.86</td>\n",
       "      <td>1</td>\n",
       "      <td>0</td>\n",
       "      <td>1</td>\n",
       "      <td>112542.58</td>\n",
       "      <td>0</td>\n",
       "      <td>0</td>\n",
       "      <td>0</td>\n",
       "      <td>1</td>\n",
       "      <td>1</td>\n",
       "      <td>0</td>\n",
       "    </tr>\n",
       "    <tr>\n",
       "      <td>2</td>\n",
       "      <td>502</td>\n",
       "      <td>42</td>\n",
       "      <td>8.0</td>\n",
       "      <td>159660.80</td>\n",
       "      <td>3</td>\n",
       "      <td>1</td>\n",
       "      <td>0</td>\n",
       "      <td>113931.57</td>\n",
       "      <td>1</td>\n",
       "      <td>1</td>\n",
       "      <td>0</td>\n",
       "      <td>0</td>\n",
       "      <td>1</td>\n",
       "      <td>0</td>\n",
       "    </tr>\n",
       "    <tr>\n",
       "      <td>3</td>\n",
       "      <td>699</td>\n",
       "      <td>39</td>\n",
       "      <td>1.0</td>\n",
       "      <td>0.00</td>\n",
       "      <td>2</td>\n",
       "      <td>0</td>\n",
       "      <td>0</td>\n",
       "      <td>93826.63</td>\n",
       "      <td>0</td>\n",
       "      <td>1</td>\n",
       "      <td>0</td>\n",
       "      <td>0</td>\n",
       "      <td>1</td>\n",
       "      <td>0</td>\n",
       "    </tr>\n",
       "    <tr>\n",
       "      <td>4</td>\n",
       "      <td>850</td>\n",
       "      <td>43</td>\n",
       "      <td>2.0</td>\n",
       "      <td>125510.82</td>\n",
       "      <td>1</td>\n",
       "      <td>1</td>\n",
       "      <td>1</td>\n",
       "      <td>79084.10</td>\n",
       "      <td>0</td>\n",
       "      <td>0</td>\n",
       "      <td>0</td>\n",
       "      <td>1</td>\n",
       "      <td>1</td>\n",
       "      <td>0</td>\n",
       "    </tr>\n",
       "  </tbody>\n",
       "</table>\n",
       "</div>"
      ],
      "text/plain": [
       "   CreditScore  Age  Tenure    Balance  NumOfProducts  HasCrCard  \\\n",
       "0          619   42     2.0       0.00              1          1   \n",
       "1          608   41     1.0   83807.86              1          0   \n",
       "2          502   42     8.0  159660.80              3          1   \n",
       "3          699   39     1.0       0.00              2          0   \n",
       "4          850   43     2.0  125510.82              1          1   \n",
       "\n",
       "   IsActiveMember  EstimatedSalary  Exited  city_France  city_Germany  \\\n",
       "0               1        101348.88       1            1             0   \n",
       "1               1        112542.58       0            0             0   \n",
       "2               0        113931.57       1            1             0   \n",
       "3               0         93826.63       0            1             0   \n",
       "4               1         79084.10       0            0             0   \n",
       "\n",
       "   city_Spain  gender_Female  gender_Male  \n",
       "0           0              1            0  \n",
       "1           1              1            0  \n",
       "2           0              1            0  \n",
       "3           0              1            0  \n",
       "4           1              1            0  "
      ]
     },
     "execution_count": 52,
     "metadata": {},
     "output_type": "execute_result"
    }
   ],
   "source": [
    "df_code = pd.get_dummies(df, columns=['Geography', 'Gender'], prefix=['city','gender'])\n",
    "df_code.head()"
   ]
  },
  {
   "cell_type": "markdown",
   "metadata": {},
   "source": [
    "Нашел пустые элемнты в столбце `Tenure` и удалил их.  \n",
    "Преобразовал категориальные столбцы `Geography` и `Gender` в цифры.\n",
    "Стандартизируем численные признаки `CreditScore`, `Age`, `Balance`, `EstimatedSalary`."
   ]
  },
  {
   "cell_type": "markdown",
   "metadata": {},
   "source": [
    "## Исследование задачи"
   ]
  },
  {
   "cell_type": "code",
   "execution_count": 54,
   "metadata": {},
   "outputs": [],
   "source": [
    "features = df_code.drop(['Exited'], axis=1)\n",
    "target = df_code['Exited']\n",
    "features_train, features_valid, target_train, target_valid = train_test_split(features, target, test_size=0.4, random_state=12345)\n",
    "features_test, features_valid, target_test, target_valid = train_test_split(features_valid, target_valid, test_size=0.5, random_state=12345)"
   ]
  },
  {
   "cell_type": "code",
   "execution_count": 72,
   "metadata": {},
   "outputs": [
    {
     "name": "stderr",
     "output_type": "stream",
     "text": [
      "/opt/conda/lib/python3.7/site-packages/ipykernel_launcher.py:5: SettingWithCopyWarning: \n",
      "A value is trying to be set on a copy of a slice from a DataFrame.\n",
      "Try using .loc[row_indexer,col_indexer] = value instead\n",
      "\n",
      "See the caveats in the documentation: http://pandas.pydata.org/pandas-docs/stable/user_guide/indexing.html#returning-a-view-versus-a-copy\n",
      "  \"\"\"\n",
      "/opt/conda/lib/python3.7/site-packages/pandas/core/indexing.py:494: SettingWithCopyWarning: \n",
      "A value is trying to be set on a copy of a slice from a DataFrame.\n",
      "Try using .loc[row_indexer,col_indexer] = value instead\n",
      "\n",
      "See the caveats in the documentation: http://pandas.pydata.org/pandas-docs/stable/user_guide/indexing.html#returning-a-view-versus-a-copy\n",
      "  self.obj[item] = s\n"
     ]
    }
   ],
   "source": [
    "# Стандартизируем численные признаки с помощью StandardScaler\n",
    "scaler = StandardScaler()\n",
    "columns_to_transform = ['CreditScore', 'Age', 'Balance', 'EstimatedSalary']\n",
    "scaler.fit(features_train[columns_to_transform])\n",
    "features_train[columns_to_transform] = scaler.transform(features_train[columns_to_transform]).copy()\n",
    "features_valid[columns_to_transform] = scaler.transform(features_valid[columns_to_transform]).copy()\n",
    "features_test[columns_to_transform] = scaler.transform(features_test[columns_to_transform]).copy()"
   ]
  },
  {
   "cell_type": "code",
   "execution_count": null,
   "metadata": {},
   "outputs": [],
   "source": [
    "scaler = StandardScaler()\n",
    "columns_to_transform = ['CreditScore', 'Age', 'Balance', 'EstimatedSalary']\n",
    "scaler.fit(df_code[columns_to_transform])"
   ]
  },
  {
   "cell_type": "code",
   "execution_count": 75,
   "metadata": {},
   "outputs": [
    {
     "name": "stdout",
     "output_type": "stream",
     "text": [
      "Количесво элементов в Тренеровочной выборке 5454\n",
      "Количесво элементов в Валидационной выборке 1819\n",
      "Количесво элементов в Тестовой выборке 1818\n"
     ]
    }
   ],
   "source": [
    "print(f'Количесво элементов в Тренеровочной выборке {target_train.shape[0]}')\n",
    "print(f'Количесво элементов в Валидационной выборке {target_valid.shape[0]}')\n",
    "print(f'Количесво элементов в Тестовой выборке {target_test.shape[0]}')"
   ]
  },
  {
   "cell_type": "code",
   "execution_count": 58,
   "metadata": {},
   "outputs": [
    {
     "name": "stdout",
     "output_type": "stream",
     "text": [
      "Количесво ушедших в выборке 0.7926292629262927\n",
      "Количесво ушедших в \"Валидационной\" выборке 0.7926292629262927\n",
      "Количесво ушедших в \"Тестовой\" выборке 0.7926292629262927\n"
     ]
    }
   ],
   "source": [
    "target_test.value_counts(normalize=True)[0]\n",
    "print(f'Количесво ушедших в выборке {target_test.value_counts(normalize=True)[0]}')\n",
    "print(f'Количесво ушедших в \"Валидационной\" выборке {target_test.value_counts(normalize=True)[0]}')\n",
    "print(f'Количесво ушедших в \"Тестовой\" выборке {target_test.value_counts(normalize=True)[0]}')"
   ]
  },
  {
   "cell_type": "markdown",
   "metadata": {},
   "source": [
    "Попробую дерево решений"
   ]
  },
  {
   "cell_type": "code",
   "execution_count": 59,
   "metadata": {},
   "outputs": [
    {
     "name": "stdout",
     "output_type": "stream",
     "text": [
      "Точность accuracy_score: 0.8383727322704783\n",
      "Точность f1_score: 0.5273311897106109\n"
     ]
    }
   ],
   "source": [
    "modelD = DecisionTreeClassifier(random_state=12345, max_depth=11)\n",
    "modelD.fit(features_train, target_train)\n",
    "predictions_validD = modelD.predict(features_valid)\n",
    "result_ac = accuracy_score(target_valid, predictions_validD)\n",
    "result_f1 = f1_score(target_valid, predictions_validD)\n",
    "print(f'Точность accuracy_score: {result_ac}')\n",
    "print(f'Точность f1_score: {result_f1}')"
   ]
  },
  {
   "cell_type": "markdown",
   "metadata": {},
   "source": [
    "Попробую случайный лес"
   ]
  },
  {
   "cell_type": "code",
   "execution_count": 60,
   "metadata": {},
   "outputs": [
    {
     "name": "stdout",
     "output_type": "stream",
     "text": [
      "Точность accuracy_score: 0.857064321055525\n",
      "Точность f1_score: 0.5238095238095238\n"
     ]
    }
   ],
   "source": [
    "modelR = RandomForestClassifier(random_state=12345, n_estimators=10)\n",
    "modelR.fit(features_train, target_train)\n",
    "predictions_validR = modelR.predict(features_valid)\n",
    "result_ac = accuracy_score(target_valid, predictions_validR)\n",
    "result_f1 = f1_score(target_valid, predictions_validR)\n",
    "print(f'Точность accuracy_score: {result_ac}')\n",
    "print(f'Точность f1_score: {result_f1}')"
   ]
  },
  {
   "cell_type": "markdown",
   "metadata": {},
   "source": [
    "Попробую логистическую регрессию"
   ]
  },
  {
   "cell_type": "code",
   "execution_count": 61,
   "metadata": {},
   "outputs": [
    {
     "name": "stdout",
     "output_type": "stream",
     "text": [
      "Точность accuracy_score: 0.8257284222100055\n",
      "Точность f1_score: 0.32119914346895073\n"
     ]
    }
   ],
   "source": [
    "\"\"\"modelL = LogisticRegression(random_state=12345, solver='lbfgs')\n",
    "modelL.fit(features_train, target_train)\n",
    "predictions_validL = modelL.predict(features_valid)\n",
    "result_ac = accuracy_score(target_valid, predictions_validL)\n",
    "result_f1 = f1_score(target_valid, predictions_validL)\n",
    "print(f'Точность accuracy_score: {result_ac}')\n",
    "print(f'Точность f1_score: {result_f1}')\"\"\""
   ]
  },
  {
   "cell_type": "markdown",
   "metadata": {},
   "source": [
    "<div class=\"alert alert-block alert-info\">\n",
    "<b>Совет: </b> Уже на этом шаге можно было подобрать параметры.\n",
    "</div>"
   ]
  },
  {
   "cell_type": "markdown",
   "metadata": {},
   "source": [
    "# Борьба с дисбалансом"
   ]
  },
  {
   "cell_type": "markdown",
   "metadata": {},
   "source": [
    "Попробую дерево решений"
   ]
  },
  {
   "cell_type": "code",
   "execution_count": 62,
   "metadata": {},
   "outputs": [
    {
     "name": "stdout",
     "output_type": "stream",
     "text": [
      "f1_score: 0.5653631284916201, max_depth: 5, criterion: gini, max_features: None\n"
     ]
    }
   ],
   "source": [
    "criterions = ('gini', 'entropy')\n",
    "max_featuress = ('auto', 'sqrt', 'log2', None)\n",
    "best_result = 0\n",
    "for crit in criterions:\n",
    "    for max_f in max_featuress:\n",
    "        for dept in range(1,10):\n",
    "            modelD = DecisionTreeClassifier(random_state=1234, max_depth=dept, criterion=crit, max_features=max_f, class_weight='balanced')\n",
    "            modelD.fit(features_train, target_train)\n",
    "            predictions_validD = modelD.predict(features_valid)\n",
    "            result = f1_score(target_valid, predictions_validD)\n",
    "            if result > best_result:\n",
    "                best_result = result\n",
    "                best_crit = crit\n",
    "                best_max_f = max_f\n",
    "                best_dept = dept\n",
    "                best_accuracy = result\n",
    "                best_modelD = modelD\n",
    "print(f'f1_score: {best_result}, max_depth: {best_dept}, criterion: {best_crit}, max_features: {best_max_f}')"
   ]
  },
  {
   "cell_type": "markdown",
   "metadata": {},
   "source": [
    "Попробую случайный лес"
   ]
  },
  {
   "cell_type": "code",
   "execution_count": 63,
   "metadata": {},
   "outputs": [
    {
     "name": "stdout",
     "output_type": "stream",
     "text": [
      "f1_score: 0.6216216216216216, max_depth: 11, n_estimators: 91\n"
     ]
    }
   ],
   "source": [
    "best_result = 0\n",
    "for est in range(1, 101, 10):\n",
    "    for dept in range(1,16):\n",
    "        modelR = RandomForestClassifier(random_state=1234, n_estimators = est, max_depth=dept, class_weight='balanced')\n",
    "        modelR.fit(features_train, target_train)\n",
    "        predictions_validR = modelR.predict(features_valid)\n",
    "        result = f1_score(target_valid, predictions_validR)\n",
    "        if result > best_result:\n",
    "            best_result = result\n",
    "            best_est = est\n",
    "            best_dept = dept\n",
    "            best_accuracy = result\n",
    "            best_modelR = modelR\n",
    "            \n",
    "print(f'f1_score: {best_accuracy}, max_depth: {best_dept}, n_estimators: {best_est}')"
   ]
  },
  {
   "cell_type": "markdown",
   "metadata": {},
   "source": [
    "Попробую логистическую регрессию"
   ]
  },
  {
   "cell_type": "code",
   "execution_count": 64,
   "metadata": {},
   "outputs": [
    {
     "name": "stdout",
     "output_type": "stream",
     "text": [
      "f1_score: 0.32119914346895073, max_depth: lbfgs\n"
     ]
    }
   ],
   "source": [
    "best_result = 0\n",
    "solvers = ('lbfgs', 'liblinear')\n",
    "for solver in solvers:\n",
    "    modelL = LogisticRegression(random_state=1234, solver=solver)\n",
    "    modelL.fit(features_train, target_train)\n",
    "    predictions_validL = modelL.predict(features_valid)\n",
    "    result = f1_score(target_valid, predictions_validL)\n",
    "    if result > best_result:\n",
    "        best_result = result\n",
    "        best_solv = solver\n",
    "        best_modelL = modelL\n",
    "        best_accuracy = result\n",
    "        \n",
    "print(f'f1_score: {best_accuracy}, max_depth: {best_solv}')"
   ]
  },
  {
   "cell_type": "code",
   "execution_count": 65,
   "metadata": {},
   "outputs": [],
   "source": [
    "def upsample(features, target, repeat):\n",
    "    features_zeros = features[target == 0]\n",
    "    features_ones = features[target == 1]\n",
    "    target_zeros = target[target == 0]\n",
    "    target_ones = target[target == 1]\n",
    "\n",
    "    features_upsampled = pd.concat([features_zeros] + [features_ones] * repeat)\n",
    "    target_upsampled = pd.concat([target_zeros] + [target_ones] * repeat)\n",
    "    \n",
    "    features_upsampled, target_upsampled = shuffle(\n",
    "        features_upsampled, target_upsampled, random_state=12345)\n",
    "    \n",
    "    return features_upsampled, target_upsampled\n",
    "\n",
    "def downsample(features, target, fraction):\n",
    "    features_zeros = features[target == 0]\n",
    "    features_ones = features[target == 1]\n",
    "    target_zeros = target[target == 0]\n",
    "    target_ones = target[target == 1]\n",
    "\n",
    "    features_downsampled = pd.concat(\n",
    "        [features_zeros.sample(frac=fraction, random_state=12345)] + [features_ones])\n",
    "    target_downsampled = pd.concat(\n",
    "        [target_zeros.sample(frac=fraction, random_state=12345)] + [target_ones])\n",
    "    \n",
    "    features_downsampled, target_downsampled = shuffle(\n",
    "        features_downsampled, target_downsampled, random_state=12345)\n",
    "    \n",
    "    return features_downsampled, target_downsampled\n",
    "\n",
    "#features_downsampled, target_downsampled = downsample(features_train, target_train, 0.1)\n",
    "#features_upsampled, target_upsampled = upsample(features_train, target_train, 10)"
   ]
  },
  {
   "cell_type": "markdown",
   "metadata": {},
   "source": [
    "Попробую дерево решений c повышением"
   ]
  },
  {
   "cell_type": "code",
   "execution_count": 66,
   "metadata": {},
   "outputs": [
    {
     "name": "stdout",
     "output_type": "stream",
     "text": [
      "f1_score: 0.5653631284916201, best_i: 1\n"
     ]
    }
   ],
   "source": [
    "# f1_score: 0.5653631284916201, max_depth: 5, criterion: gini, max_features: None\n",
    "best_i = 0\n",
    "best_result = 0\n",
    "for i in range(1,30):\n",
    "    features_upsampled, target_upsampled = upsample(features_train, target_train, i)\n",
    "    modelD = DecisionTreeClassifier(random_state=12345, max_depth=5, criterion='gini', max_features=None, class_weight='balanced')\n",
    "    modelD.fit(features_upsampled, target_upsampled)\n",
    "    predictions_validD = modelD.predict(features_valid)\n",
    "    result = f1_score(target_valid, predictions_validD)\n",
    "    if result > best_result:\n",
    "        best_result = result\n",
    "        best_i = i\n",
    "        best_modelD = modelD\n",
    "print(f'f1_score: {best_result}, best_i: {best_i}')"
   ]
  },
  {
   "cell_type": "markdown",
   "metadata": {},
   "source": [
    "Попробую случайный лес c повышением"
   ]
  },
  {
   "cell_type": "code",
   "execution_count": 71,
   "metadata": {},
   "outputs": [
    {
     "name": "stdout",
     "output_type": "stream",
     "text": [
      "f1_score: 0.6056701030927836, max_depth: 15, n_estimators: 91\n"
     ]
    }
   ],
   "source": [
    "# best_accuracy: 0.6206896551724138, max_depth: 11, n_estimators: 91\n",
    "best_i = 0\n",
    "best_result = 0\n",
    "for i in range(1,30):\n",
    "    features_upsampled, target_upsampled = upsample(features_train, target_train, i)\n",
    "    modelR = RandomForestClassifier(random_state=12345, n_estimators = 91, max_depth=11, class_weight='balanced')\n",
    "    modelR.fit(features_upsampled, target_upsampled)\n",
    "    predictions_validR = modelR.predict(features_valid)\n",
    "    result = f1_score(target_valid, predictions_validR)\n",
    "    if result > best_result:\n",
    "        best_result = result\n",
    "        best_est = est\n",
    "        best_dept = dept\n",
    "        best_accuracy = result\n",
    "        best_modelR = modelR\n",
    "print(f'f1_score: {best_accuracy}, max_depth: {best_dept}, n_estimators: {best_est}')"
   ]
  },
  {
   "cell_type": "markdown",
   "metadata": {},
   "source": [
    "Попробую случайный лес c понижением"
   ]
  },
  {
   "cell_type": "code",
   "execution_count": 68,
   "metadata": {},
   "outputs": [
    {
     "name": "stdout",
     "output_type": "stream",
     "text": [
      "f1_score: 0.45788336933045354, max_depth: 15, n_estimators: 91\n"
     ]
    }
   ],
   "source": [
    "best_i = 0\n",
    "best_result = 0\n",
    "for i in np.arange(0.01, 1.0, 0.01):\n",
    "    features_downsampled, target_downsampled = downsample(features_train, target_train, 0.1)\n",
    "    modelR = RandomForestClassifier(random_state=12345, n_estimators = 91, max_depth=11, class_weight='balanced')\n",
    "    modelR.fit(features_downsampled, target_downsampled)\n",
    "    predictions_validR = modelR.predict(features_valid)\n",
    "    result = f1_score(target_valid, predictions_validR)\n",
    "    if result > best_result:\n",
    "        best_result = result\n",
    "        best_est = est\n",
    "        best_dept = dept\n",
    "        best_accuracy = result\n",
    "        best_modelR = modelR\n",
    "print(f'f1_score: {best_accuracy}, max_depth: {best_dept}, n_estimators: {best_est}')"
   ]
  },
  {
   "cell_type": "markdown",
   "metadata": {},
   "source": [
    "### Вывод\n",
    "Самый лучший результат был достигнут на моделе случайный лес max_depth: 11, n_estimators: 61"
   ]
  },
  {
   "cell_type": "markdown",
   "metadata": {},
   "source": [
    "## Тестирование модели"
   ]
  },
  {
   "cell_type": "code",
   "execution_count": 69,
   "metadata": {},
   "outputs": [
    {
     "name": "stdout",
     "output_type": "stream",
     "text": [
      "Точность Accuracy: 0.8609125893347993\n",
      "Точность F1: 0.6195488721804511\n"
     ]
    }
   ],
   "source": [
    "modelR = RandomForestClassifier(n_estimators = 91, max_depth=11, class_weight='balanced', random_state=12345)\n",
    "modelR.fit(features_train, target_train)\n",
    "predictions_validR = modelR.predict(features_valid)\n",
    "result = f1_score(target_valid, predictions_validR)\n",
    "print('Точность Accuracy:', accuracy_score(target_valid, predictions_validR))\n",
    "print('Точность F1:', f1_score(target_valid, predictions_validR))"
   ]
  },
  {
   "cell_type": "code",
   "execution_count": 70,
   "metadata": {},
   "outputs": [
    {
     "data": {
      "image/png": "[encoded data removed]",
      "text/plain": [
       "<Figure size 432x288 with 1 Axes>"
      ]
     },
     "metadata": {
      "needs_background": "light"
     },
     "output_type": "display_data"
    }
   ],
   "source": [
    "#Отрисуем ROC Кривую\n",
    "probabilities_valid = modelR.predict_proba(features_valid)\n",
    "probabilities_one_valid = probabilities_valid[:, 1]\n",
    "\n",
    "fpr, tpr, thresholds = roc_curve(target_valid, probabilities_one_valid) \n",
    "\n",
    "plt.figure()\n",
    "plt.plot([0, 1], [0, 1], linestyle='--')\n",
    "plt.plot(fpr, tpr)\n",
    "plt.xlim([0.0, 1.0])\n",
    "plt.ylim([0.0, 1.0])\n",
    "plt.xlabel('False Positive Rate')\n",
    "plt.ylabel('True Positive Rate')\n",
    "plt.title('ROC-кривая')\n",
    "plt.show()"
   ]
  },
  {
   "cell_type": "markdown",
   "metadata": {},
   "source": [
    "__Вывод__  \n",
    "На ROC кривой наша модель выглядит намного лучше случайной.  \n",
    "Лучшей моделью был выбран Случайный лес с параметрами n_estimators = 91, max_depth=11  \n",
    "улучшить модель с помощью уменьшения или увеличения выборки мне не удалось."
   ]
  },
  {
   "cell_type": "markdown",
   "metadata": {},
   "source": [
    "## Чек-лист готовности проекта"
   ]
  },
  {
   "cell_type": "markdown",
   "metadata": {},
   "source": [
    "Поставьте 'x' в выполненных пунктах. Далее нажмите Shift+Enter."
   ]
  },
  {
   "cell_type": "markdown",
   "metadata": {},
   "source": [
    "- [x]  Jupyter Notebook открыт\n",
    "- [x]  Весь код выполняется без ошибок\n",
    "- [x]  Ячейки с кодом расположены в порядке исполнения\n",
    "- [x]  Выполнен шаг 1: данные подготовлены\n",
    "- [x]  Выполнен шаг 2: задача исследована\n",
    "    - [x]  Исследован баланс классов\n",
    "    - [x]  Изучены модели без учёта дисбаланса\n",
    "    - [x]  Написаны выводы по результатам исследования\n",
    "- [ ]  Выполнен шаг 3: учтён дисбаланс\n",
    "    - [x]  Применено несколько способов борьбы с дисбалансом\n",
    "    - [x]  Написаны выводы по результатам исследования\n",
    "- [x]  Выполнен шаг 4: проведено тестирование\n",
    "- [x]  Удалось достичь *F1*-меры не менее 0.59\n",
    "- [x]  Исследована метрика *AUC-ROC*"
   ]
  }
 ],
 "metadata": {
  "ExecuteTimeLog": [
   {
    "duration": 891,
    "start_time": "2021-10-19T18:02:02.617Z"
   },
   {
    "duration": 37,
    "start_time": "2021-10-19T18:02:04.550Z"
   },
   {
    "duration": 31,
    "start_time": "2021-10-19T18:31:18.120Z"
   },
   {
    "duration": 22,
    "start_time": "2021-10-19T18:31:35.320Z"
   },
   {
    "duration": 21,
    "start_time": "2021-10-19T18:32:06.574Z"
   },
   {
    "duration": 59,
    "start_time": "2021-10-19T18:33:33.289Z"
   },
   {
    "duration": 11,
    "start_time": "2021-10-19T18:34:05.522Z"
   },
   {
    "duration": 9,
    "start_time": "2021-10-19T18:39:13.045Z"
   },
   {
    "duration": 7,
    "start_time": "2021-10-19T18:47:32.858Z"
   },
   {
    "duration": 742,
    "start_time": "2021-10-20T18:36:28.121Z"
   },
   {
    "duration": 38,
    "start_time": "2021-10-20T18:36:33.585Z"
   },
   {
    "duration": 31,
    "start_time": "2021-10-20T18:36:35.161Z"
   },
   {
    "duration": 20,
    "start_time": "2021-10-20T18:36:35.960Z"
   },
   {
    "duration": 20,
    "start_time": "2021-10-20T18:36:36.567Z"
   },
   {
    "duration": 65,
    "start_time": "2021-10-20T18:36:37.873Z"
   },
   {
    "duration": 12,
    "start_time": "2021-10-20T18:36:39.020Z"
   },
   {
    "duration": 9,
    "start_time": "2021-10-20T18:36:43.644Z"
   },
   {
    "duration": 7,
    "start_time": "2021-10-20T18:36:45.983Z"
   },
   {
    "duration": 8,
    "start_time": "2021-10-20T18:38:54.866Z"
   },
   {
    "duration": 34,
    "start_time": "2021-10-20T18:39:06.408Z"
   },
   {
    "duration": 362,
    "start_time": "2021-10-20T18:40:30.716Z"
   },
   {
    "duration": 5,
    "start_time": "2021-10-20T18:40:35.386Z"
   },
   {
    "duration": 6,
    "start_time": "2021-10-20T18:43:35.515Z"
   },
   {
    "duration": 267,
    "start_time": "2021-10-20T18:44:39.438Z"
   },
   {
    "duration": 12,
    "start_time": "2021-10-20T18:44:52.386Z"
   },
   {
    "duration": 5,
    "start_time": "2021-10-20T18:51:28.888Z"
   },
   {
    "duration": 4,
    "start_time": "2021-10-20T18:51:54.064Z"
   },
   {
    "duration": 34,
    "start_time": "2021-10-20T18:51:55.707Z"
   },
   {
    "duration": 5,
    "start_time": "2021-10-20T18:51:56.867Z"
   },
   {
    "duration": 267,
    "start_time": "2021-10-20T18:52:19.694Z"
   },
   {
    "duration": 6,
    "start_time": "2021-10-20T18:52:49.710Z"
   },
   {
    "duration": 5,
    "start_time": "2021-10-20T18:52:51.970Z"
   },
   {
    "duration": 5,
    "start_time": "2021-10-20T18:53:05.493Z"
   },
   {
    "duration": 33,
    "start_time": "2021-10-20T18:53:10.690Z"
   },
   {
    "duration": 9,
    "start_time": "2021-10-20T18:53:33.167Z"
   },
   {
    "duration": 5,
    "start_time": "2021-10-20T18:53:35.417Z"
   },
   {
    "duration": 249,
    "start_time": "2021-10-20T18:53:42.460Z"
   },
   {
    "duration": 105,
    "start_time": "2021-10-20T18:53:57.119Z"
   },
   {
    "duration": 91,
    "start_time": "2021-10-20T18:53:59.999Z"
   },
   {
    "duration": 97,
    "start_time": "2021-10-20T18:54:04.690Z"
   },
   {
    "duration": 93,
    "start_time": "2021-10-20T18:54:14.557Z"
   },
   {
    "duration": 259,
    "start_time": "2021-10-20T18:54:19.900Z"
   },
   {
    "duration": 256,
    "start_time": "2021-10-20T18:54:23.355Z"
   },
   {
    "duration": 540,
    "start_time": "2021-10-20T18:55:07.258Z"
   },
   {
    "duration": 6,
    "start_time": "2021-10-20T18:55:21.474Z"
   },
   {
    "duration": 5,
    "start_time": "2021-10-20T18:55:22.957Z"
   },
   {
    "duration": 262,
    "start_time": "2021-10-20T18:55:29.315Z"
   },
   {
    "duration": 444,
    "start_time": "2021-10-20T18:55:35.717Z"
   },
   {
    "duration": 6,
    "start_time": "2021-10-20T18:55:38.427Z"
   },
   {
    "duration": 5,
    "start_time": "2021-10-20T18:55:42.698Z"
   },
   {
    "duration": 14,
    "start_time": "2021-10-20T18:57:00.273Z"
   },
   {
    "duration": 5,
    "start_time": "2021-10-20T18:57:01.723Z"
   },
   {
    "duration": 6,
    "start_time": "2021-10-20T19:02:07.078Z"
   },
   {
    "duration": 15,
    "start_time": "2021-10-20T19:02:27.260Z"
   },
   {
    "duration": 16,
    "start_time": "2021-10-20T19:02:30.702Z"
   },
   {
    "duration": 623,
    "start_time": "2021-10-20T19:05:00.099Z"
   },
   {
    "duration": 32,
    "start_time": "2021-10-20T19:08:17.573Z"
   },
   {
    "duration": 24,
    "start_time": "2021-10-20T19:08:28.966Z"
   },
   {
    "duration": 16,
    "start_time": "2021-10-20T19:09:50.801Z"
   },
   {
    "duration": 32,
    "start_time": "2021-10-20T19:12:58.398Z"
   },
   {
    "duration": 19,
    "start_time": "2021-10-20T19:12:59.455Z"
   },
   {
    "duration": 321,
    "start_time": "2021-10-20T19:13:14.959Z"
   },
   {
    "duration": 34,
    "start_time": "2021-10-20T19:16:37.236Z"
   },
   {
    "duration": 13,
    "start_time": "2021-10-20T19:16:50.578Z"
   },
   {
    "duration": 6,
    "start_time": "2021-10-20T19:16:51.803Z"
   },
   {
    "duration": 6,
    "start_time": "2021-10-20T19:16:52.513Z"
   },
   {
    "duration": 17,
    "start_time": "2021-10-20T19:16:53.648Z"
   },
   {
    "duration": 801,
    "start_time": "2021-10-20T19:17:03.292Z"
   },
   {
    "duration": 12,
    "start_time": "2021-10-20T19:17:27.196Z"
   },
   {
    "duration": 33,
    "start_time": "2021-10-20T19:18:44.431Z"
   },
   {
    "duration": 33,
    "start_time": "2021-10-20T19:20:18.583Z"
   },
   {
    "duration": 19,
    "start_time": "2021-10-20T19:20:20.664Z"
   },
   {
    "duration": 393,
    "start_time": "2021-10-20T19:20:55.362Z"
   },
   {
    "duration": 32,
    "start_time": "2021-10-20T19:21:00.680Z"
   },
   {
    "duration": 21,
    "start_time": "2021-10-20T19:21:01.682Z"
   },
   {
    "duration": 306,
    "start_time": "2021-10-20T19:24:23.140Z"
   },
   {
    "duration": 4,
    "start_time": "2021-10-20T19:24:50.061Z"
   },
   {
    "duration": 8666,
    "start_time": "2021-10-20T19:24:55.440Z"
   },
   {
    "duration": 6776,
    "start_time": "2021-10-20T19:25:26.018Z"
   },
   {
    "duration": 259,
    "start_time": "2021-10-20T19:26:58.935Z"
   },
   {
    "duration": 13,
    "start_time": "2021-10-20T19:27:07.384Z"
   },
   {
    "duration": 22,
    "start_time": "2021-10-20T19:27:15.505Z"
   },
   {
    "duration": 985,
    "start_time": "2021-10-21T15:30:36.258Z"
   },
   {
    "duration": 73,
    "start_time": "2021-10-21T15:30:37.245Z"
   },
   {
    "duration": 7,
    "start_time": "2021-10-21T15:30:37.320Z"
   },
   {
    "duration": 16,
    "start_time": "2021-10-21T15:30:37.328Z"
   },
   {
    "duration": 12,
    "start_time": "2021-10-21T15:30:37.345Z"
   },
   {
    "duration": 12,
    "start_time": "2021-10-21T15:30:37.359Z"
   },
   {
    "duration": 35,
    "start_time": "2021-10-21T15:30:37.373Z"
   },
   {
    "duration": 8,
    "start_time": "2021-10-21T15:30:37.409Z"
   },
   {
    "duration": 29,
    "start_time": "2021-10-21T15:30:37.419Z"
   },
   {
    "duration": 5,
    "start_time": "2021-10-21T15:30:37.449Z"
   },
   {
    "duration": 10,
    "start_time": "2021-10-21T15:30:37.455Z"
   },
   {
    "duration": 4,
    "start_time": "2021-10-21T15:30:37.467Z"
   },
   {
    "duration": 5,
    "start_time": "2021-10-21T15:30:37.472Z"
   },
   {
    "duration": 17,
    "start_time": "2021-10-21T15:30:37.479Z"
   },
   {
    "duration": 52,
    "start_time": "2021-10-21T15:30:37.498Z"
   },
   {
    "duration": 11,
    "start_time": "2021-10-21T15:30:37.552Z"
   },
   {
    "duration": 10,
    "start_time": "2021-10-21T15:30:37.565Z"
   },
   {
    "duration": 15,
    "start_time": "2021-10-21T15:30:37.577Z"
   },
   {
    "duration": 5,
    "start_time": "2021-10-21T16:25:14.173Z"
   },
   {
    "duration": 17,
    "start_time": "2021-10-21T16:25:24.169Z"
   },
   {
    "duration": 18,
    "start_time": "2021-10-21T16:28:47.170Z"
   },
   {
    "duration": 21,
    "start_time": "2021-10-21T16:29:24.834Z"
   },
   {
    "duration": 352,
    "start_time": "2021-10-21T16:46:21.378Z"
   },
   {
    "duration": 12,
    "start_time": "2021-10-21T16:46:45.105Z"
   },
   {
    "duration": 10,
    "start_time": "2021-10-21T16:46:51.147Z"
   },
   {
    "duration": 4,
    "start_time": "2021-10-21T16:46:54.239Z"
   },
   {
    "duration": 14,
    "start_time": "2021-10-21T16:48:41.994Z"
   },
   {
    "duration": 10,
    "start_time": "2021-10-21T16:49:40.135Z"
   },
   {
    "duration": 277,
    "start_time": "2021-10-21T17:01:52.276Z"
   },
   {
    "duration": 33,
    "start_time": "2021-10-21T17:01:57.224Z"
   },
   {
    "duration": 311,
    "start_time": "2021-10-21T17:02:01.344Z"
   },
   {
    "duration": 3,
    "start_time": "2021-10-21T17:03:08.259Z"
   },
   {
    "duration": 25,
    "start_time": "2021-10-21T17:03:14.605Z"
   },
   {
    "duration": 4,
    "start_time": "2021-10-21T17:03:20.724Z"
   },
   {
    "duration": 29,
    "start_time": "2021-10-21T17:11:23.796Z"
   },
   {
    "duration": 64,
    "start_time": "2021-10-21T17:12:03.296Z"
   },
   {
    "duration": 61,
    "start_time": "2021-10-21T17:12:14.028Z"
   },
   {
    "duration": 252,
    "start_time": "2021-10-21T17:12:48.252Z"
   },
   {
    "duration": 3,
    "start_time": "2021-10-21T17:13:18.345Z"
   },
   {
    "duration": 24,
    "start_time": "2021-10-21T17:13:24.016Z"
   },
   {
    "duration": 60,
    "start_time": "2021-10-21T17:13:59.724Z"
   },
   {
    "duration": 640,
    "start_time": "2021-10-21T17:14:23.708Z"
   },
   {
    "duration": 29,
    "start_time": "2021-10-21T17:21:49.285Z"
   },
   {
    "duration": 63,
    "start_time": "2021-10-21T17:25:06.219Z"
   },
   {
    "duration": 28,
    "start_time": "2021-10-21T17:25:08.514Z"
   },
   {
    "duration": 366,
    "start_time": "2021-10-21T17:25:10.787Z"
   },
   {
    "duration": 31,
    "start_time": "2021-10-21T17:39:00.774Z"
   },
   {
    "duration": 63,
    "start_time": "2021-10-21T17:39:26.995Z"
   },
   {
    "duration": 64,
    "start_time": "2021-10-21T17:39:53.142Z"
   },
   {
    "duration": 175,
    "start_time": "2021-10-21T17:39:56.573Z"
   },
   {
    "duration": 439,
    "start_time": "2021-10-21T17:43:17.006Z"
   },
   {
    "duration": 65,
    "start_time": "2021-10-21T17:43:31.980Z"
   },
   {
    "duration": 63,
    "start_time": "2021-10-21T17:43:54.795Z"
   },
   {
    "duration": 263,
    "start_time": "2021-10-21T17:43:55.693Z"
   },
   {
    "duration": 216,
    "start_time": "2021-10-21T17:44:21.929Z"
   },
   {
    "duration": 101,
    "start_time": "2021-10-21T17:46:35.526Z"
   },
   {
    "duration": 2031,
    "start_time": "2021-10-21T17:57:32.553Z"
   },
   {
    "duration": 2083,
    "start_time": "2021-10-21T17:58:26.101Z"
   },
   {
    "duration": 1915,
    "start_time": "2021-10-21T17:58:41.018Z"
   },
   {
    "duration": 89,
    "start_time": "2021-10-21T17:59:15.050Z"
   },
   {
    "duration": 1987,
    "start_time": "2021-10-21T18:01:12.794Z"
   },
   {
    "duration": 1932,
    "start_time": "2021-10-21T18:06:10.148Z"
   },
   {
    "duration": 2078,
    "start_time": "2021-10-21T18:06:45.091Z"
   },
   {
    "duration": 14462,
    "start_time": "2021-10-21T18:07:21.578Z"
   },
   {
    "duration": 29186,
    "start_time": "2021-10-21T18:07:48.836Z"
   },
   {
    "duration": 27487,
    "start_time": "2021-10-21T18:08:38.529Z"
   },
   {
    "duration": 676,
    "start_time": "2021-10-21T18:11:04.880Z"
   },
   {
    "duration": 267,
    "start_time": "2021-10-21T18:48:59.348Z"
   },
   {
    "duration": 479,
    "start_time": "2021-10-21T18:49:05.395Z"
   },
   {
    "duration": 3,
    "start_time": "2021-10-21T18:50:08.891Z"
   },
   {
    "duration": 35,
    "start_time": "2021-10-21T18:50:22.898Z"
   },
   {
    "duration": 6,
    "start_time": "2021-10-21T18:50:30.581Z"
   },
   {
    "duration": 727,
    "start_time": "2021-10-21T18:50:35.936Z"
   },
   {
    "duration": 818,
    "start_time": "2021-10-21T18:50:59.629Z"
   },
   {
    "duration": 1382,
    "start_time": "2021-10-21T18:51:16.629Z"
   },
   {
    "duration": 16986,
    "start_time": "2021-10-21T18:53:52.635Z"
   },
   {
    "duration": 25077,
    "start_time": "2021-10-21T18:54:25.137Z"
   },
   {
    "duration": 86,
    "start_time": "2021-10-21T18:56:53.966Z"
   },
   {
    "duration": 266,
    "start_time": "2021-10-21T18:59:48.639Z"
   },
   {
    "duration": 3,
    "start_time": "2021-10-21T19:00:58.849Z"
   },
   {
    "duration": 14634,
    "start_time": "2021-10-21T19:01:05.500Z"
   },
   {
    "duration": 1739,
    "start_time": "2021-10-21T19:04:10.700Z"
   },
   {
    "duration": 1356,
    "start_time": "2021-10-21T19:04:21.734Z"
   },
   {
    "duration": 1663,
    "start_time": "2021-10-21T19:04:40.196Z"
   },
   {
    "duration": 1356,
    "start_time": "2021-10-21T19:05:07.051Z"
   },
   {
    "duration": 1702,
    "start_time": "2021-10-21T19:05:23.982Z"
   },
   {
    "duration": 1372,
    "start_time": "2021-10-21T19:05:50.376Z"
   },
   {
    "duration": 1388,
    "start_time": "2021-10-21T19:07:05.476Z"
   },
   {
    "duration": 1510,
    "start_time": "2021-10-21T19:07:50.281Z"
   },
   {
    "duration": 1374,
    "start_time": "2021-10-21T19:08:19.948Z"
   },
   {
    "duration": 1333,
    "start_time": "2021-10-21T19:09:20.563Z"
   },
   {
    "duration": 21994,
    "start_time": "2021-10-21T19:10:35.063Z"
   },
   {
    "duration": 14621,
    "start_time": "2021-10-21T19:12:43.699Z"
   },
   {
    "duration": 429,
    "start_time": "2021-10-21T19:18:28.223Z"
   },
   {
    "duration": 408,
    "start_time": "2021-10-21T19:19:41.281Z"
   },
   {
    "duration": 1143,
    "start_time": "2021-10-22T15:23:30.708Z"
   },
   {
    "duration": 32,
    "start_time": "2021-10-22T15:23:31.854Z"
   },
   {
    "duration": 8,
    "start_time": "2021-10-22T15:23:31.888Z"
   },
   {
    "duration": 20,
    "start_time": "2021-10-22T15:23:31.897Z"
   },
   {
    "duration": 18,
    "start_time": "2021-10-22T15:23:31.918Z"
   },
   {
    "duration": 21,
    "start_time": "2021-10-22T15:23:31.938Z"
   },
   {
    "duration": 49,
    "start_time": "2021-10-22T15:23:31.960Z"
   },
   {
    "duration": 8,
    "start_time": "2021-10-22T15:23:32.012Z"
   },
   {
    "duration": 7,
    "start_time": "2021-10-22T15:23:32.021Z"
   },
   {
    "duration": 13,
    "start_time": "2021-10-22T15:23:32.029Z"
   },
   {
    "duration": 9,
    "start_time": "2021-10-22T15:23:32.044Z"
   },
   {
    "duration": 4,
    "start_time": "2021-10-22T15:23:32.055Z"
   },
   {
    "duration": 7,
    "start_time": "2021-10-22T15:23:32.061Z"
   },
   {
    "duration": 16,
    "start_time": "2021-10-22T15:23:32.070Z"
   },
   {
    "duration": 11,
    "start_time": "2021-10-22T15:23:32.088Z"
   },
   {
    "duration": 19,
    "start_time": "2021-10-22T15:23:32.101Z"
   },
   {
    "duration": 49,
    "start_time": "2021-10-22T15:23:32.122Z"
   },
   {
    "duration": 9,
    "start_time": "2021-10-22T15:23:32.173Z"
   },
   {
    "duration": 16,
    "start_time": "2021-10-22T15:23:32.184Z"
   },
   {
    "duration": 19,
    "start_time": "2021-10-22T15:23:32.202Z"
   },
   {
    "duration": 47,
    "start_time": "2021-10-22T15:23:32.223Z"
   },
   {
    "duration": 76,
    "start_time": "2021-10-22T15:23:32.272Z"
   },
   {
    "duration": 399,
    "start_time": "2021-10-22T15:23:32.351Z"
   },
   {
    "duration": 2222,
    "start_time": "2021-10-22T15:23:32.753Z"
   },
   {
    "duration": 28275,
    "start_time": "2021-10-22T15:23:34.977Z"
   },
   {
    "duration": 500,
    "start_time": "2021-10-22T15:24:03.254Z"
   },
   {
    "duration": 90,
    "start_time": "2021-10-22T15:24:03.756Z"
   },
   {
    "duration": 1475,
    "start_time": "2021-10-22T15:24:03.849Z"
   },
   {
    "duration": 21881,
    "start_time": "2021-10-22T15:24:05.326Z"
   },
   {
    "duration": 14988,
    "start_time": "2021-10-22T15:24:27.208Z"
   },
   {
    "duration": 304,
    "start_time": "2021-10-22T15:45:00.199Z"
   },
   {
    "duration": 302,
    "start_time": "2021-10-22T15:45:54.727Z"
   },
   {
    "duration": 3,
    "start_time": "2021-10-22T15:54:04.343Z"
   },
   {
    "duration": 4,
    "start_time": "2021-10-22T15:55:22.476Z"
   },
   {
    "duration": 379,
    "start_time": "2021-10-22T16:05:49.118Z"
   },
   {
    "duration": 294,
    "start_time": "2021-10-22T16:05:59.240Z"
   },
   {
    "duration": 4,
    "start_time": "2021-10-22T16:06:21.669Z"
   },
   {
    "duration": 317,
    "start_time": "2021-10-22T16:06:27.329Z"
   },
   {
    "duration": 77,
    "start_time": "2021-10-22T16:06:42.436Z"
   },
   {
    "duration": 187,
    "start_time": "2021-10-22T16:06:47.006Z"
   },
   {
    "duration": 298,
    "start_time": "2021-10-22T16:38:30.801Z"
   },
   {
    "duration": 178,
    "start_time": "2021-10-22T16:38:33.713Z"
   },
   {
    "duration": 1574,
    "start_time": "2021-10-23T08:38:38.893Z"
   },
   {
    "duration": 37,
    "start_time": "2021-10-23T08:38:40.469Z"
   },
   {
    "duration": 8,
    "start_time": "2021-10-23T08:38:40.509Z"
   },
   {
    "duration": 23,
    "start_time": "2021-10-23T08:38:40.523Z"
   },
   {
    "duration": 21,
    "start_time": "2021-10-23T08:38:40.548Z"
   },
   {
    "duration": 52,
    "start_time": "2021-10-23T08:38:40.571Z"
   },
   {
    "duration": 62,
    "start_time": "2021-10-23T08:38:40.626Z"
   },
   {
    "duration": 32,
    "start_time": "2021-10-23T08:38:40.691Z"
   },
   {
    "duration": 13,
    "start_time": "2021-10-23T08:38:40.726Z"
   },
   {
    "duration": 9,
    "start_time": "2021-10-23T08:38:40.741Z"
   },
   {
    "duration": 15,
    "start_time": "2021-10-23T08:38:40.752Z"
   },
   {
    "duration": 5,
    "start_time": "2021-10-23T08:38:40.769Z"
   },
   {
    "duration": 12,
    "start_time": "2021-10-23T08:38:40.776Z"
   },
   {
    "duration": 47,
    "start_time": "2021-10-23T08:38:40.790Z"
   },
   {
    "duration": 6,
    "start_time": "2021-10-23T08:38:40.840Z"
   },
   {
    "duration": 30,
    "start_time": "2021-10-23T08:38:40.849Z"
   },
   {
    "duration": 68,
    "start_time": "2021-10-23T08:38:40.882Z"
   },
   {
    "duration": 15,
    "start_time": "2021-10-23T08:38:40.952Z"
   },
   {
    "duration": 10,
    "start_time": "2021-10-23T08:38:40.970Z"
   },
   {
    "duration": 52,
    "start_time": "2021-10-23T08:38:40.983Z"
   },
   {
    "duration": 42,
    "start_time": "2021-10-23T08:38:41.038Z"
   },
   {
    "duration": 117,
    "start_time": "2021-10-23T08:38:41.082Z"
   },
   {
    "duration": 522,
    "start_time": "2021-10-23T08:38:41.203Z"
   },
   {
    "duration": 3045,
    "start_time": "2021-10-23T08:38:41.729Z"
   },
   {
    "duration": 3,
    "start_time": "2021-10-23T09:34:40.630Z"
   },
   {
    "duration": 28,
    "start_time": "2021-10-23T09:36:51.134Z"
   },
   {
    "duration": 14,
    "start_time": "2021-10-23T10:39:01.113Z"
   },
   {
    "duration": 29,
    "start_time": "2021-10-23T10:39:04.762Z"
   },
   {
    "duration": 6,
    "start_time": "2021-10-23T10:39:15.410Z"
   },
   {
    "duration": 37,
    "start_time": "2021-10-23T10:39:15.418Z"
   },
   {
    "duration": 5,
    "start_time": "2021-10-23T10:39:15.458Z"
   },
   {
    "duration": 59,
    "start_time": "2021-10-23T10:39:15.465Z"
   },
   {
    "duration": 22,
    "start_time": "2021-10-23T10:39:15.526Z"
   },
   {
    "duration": 21,
    "start_time": "2021-10-23T10:39:15.550Z"
   },
   {
    "duration": 101,
    "start_time": "2021-10-23T10:39:15.573Z"
   },
   {
    "duration": 11,
    "start_time": "2021-10-23T10:39:15.677Z"
   },
   {
    "duration": 33,
    "start_time": "2021-10-23T10:39:15.693Z"
   },
   {
    "duration": 7,
    "start_time": "2021-10-23T10:39:15.729Z"
   },
   {
    "duration": 19,
    "start_time": "2021-10-23T10:39:15.739Z"
   },
   {
    "duration": 7,
    "start_time": "2021-10-23T10:39:15.761Z"
   },
   {
    "duration": 8,
    "start_time": "2021-10-23T10:39:15.771Z"
   },
   {
    "duration": 55,
    "start_time": "2021-10-23T10:39:15.782Z"
   },
   {
    "duration": 8,
    "start_time": "2021-10-23T10:39:15.839Z"
   },
   {
    "duration": 27,
    "start_time": "2021-10-23T10:39:15.850Z"
   },
   {
    "duration": 42,
    "start_time": "2021-10-23T10:39:15.880Z"
   },
   {
    "duration": 16,
    "start_time": "2021-10-23T10:39:15.925Z"
   },
   {
    "duration": 29,
    "start_time": "2021-10-23T10:39:15.943Z"
   },
   {
    "duration": 10,
    "start_time": "2021-10-23T10:39:15.975Z"
   },
   {
    "duration": 6,
    "start_time": "2021-10-23T10:39:16.023Z"
   },
   {
    "duration": 17,
    "start_time": "2021-10-23T10:39:16.032Z"
   },
   {
    "duration": 42,
    "start_time": "2021-10-23T10:39:16.051Z"
   },
   {
    "duration": 111,
    "start_time": "2021-10-23T10:39:16.124Z"
   },
   {
    "duration": 389,
    "start_time": "2021-10-23T10:39:16.237Z"
   },
   {
    "duration": 2992,
    "start_time": "2021-10-23T10:39:16.630Z"
   },
   {
    "duration": 43060,
    "start_time": "2021-10-23T10:39:19.627Z"
   },
   {
    "duration": 534,
    "start_time": "2021-10-23T10:40:02.690Z"
   },
   {
    "duration": 97,
    "start_time": "2021-10-23T10:40:03.228Z"
   },
   {
    "duration": 2415,
    "start_time": "2021-10-23T10:40:03.327Z"
   },
   {
    "duration": 43507,
    "start_time": "2021-10-23T10:40:05.744Z"
   },
   {
    "duration": 21822,
    "start_time": "2021-10-23T10:40:49.253Z"
   },
   {
    "duration": 470,
    "start_time": "2021-10-23T10:41:11.078Z"
   },
   {
    "duration": 303,
    "start_time": "2021-10-23T10:41:11.550Z"
   },
   {
    "duration": 39483,
    "start_time": "2021-10-23T10:41:16.683Z"
   },
   {
    "duration": 29,
    "start_time": "2021-10-23T10:54:01.666Z"
   },
   {
    "duration": 26,
    "start_time": "2021-10-23T10:54:18.617Z"
   },
   {
    "duration": 13,
    "start_time": "2021-10-23T11:05:35.486Z"
   },
   {
    "duration": 6,
    "start_time": "2021-10-23T11:05:39.345Z"
   }
  ],
  "kernelspec": {
   "display_name": "Python 3",
   "language": "python",
   "name": "python3"
  },
  "language_info": {
   "codemirror_mode": {
    "name": "ipython",
    "version": 3
   },
   "file_extension": ".py",
   "mimetype": "text/x-python",
   "name": "python",
   "nbconvert_exporter": "python",
   "pygments_lexer": "ipython3",
   "version": "3.7.8"
  },
  "toc": {
   "base_numbering": 1,
   "nav_menu": {},
   "number_sections": true,
   "sideBar": true,
   "skip_h1_title": true,
   "title_cell": "Содержание",
   "title_sidebar": "Contents",
   "toc_cell": true,
   "toc_position": {
    "height": "calc(100% - 180px)",
    "left": "10px",
    "top": "150px",
    "width": "238px"
   },
   "toc_section_display": true,
   "toc_window_display": false
  }
 },
 "nbformat": 4,
 "nbformat_minor": 2
}
