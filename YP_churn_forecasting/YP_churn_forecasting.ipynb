{
 "cells": [
  {
   "cell_type": "markdown",
   "metadata": {},
   "source": [
    "# Прогнозирование оттока клиентов в сети отелей «Как в гостях»"
   ]
  },
  {
   "cell_type": "markdown",
   "metadata": {},
   "source": [
    "__Содержание__  \n",
    "* [Откроем файл](#Шаг-1.-Откройте-файлы-с-данными)  \n",
    "* [Пред обработка](#Шаг-2.-Предобработка-и-исследовательский-анализ-данных)  \n",
    "* [Формулировка ML-задачи](#Шаг-3.-Формулировка-ML-задачи-на-основе-бизнес-задачи)  \n",
    "* [Разработка модели ML](#Шаг-4.-Разработка-модели-ML)  \n",
    "* [Портрет «ненадёжного» клиента](#Шаг-5.-Опишите-портрет-«ненадёжного»-клиента)  \n",
    "* [Общий вывод](#Шаг-6.-Напишите-общий-вывод)  "
   ]
  },
  {
   "cell_type": "markdown",
   "metadata": {},
   "source": [
    "__Задача.__  \n",
    "Разработать модель которыя будет предсказывать отмену забронированных номеров и за счет внесенных депозитов позволит компенсировать расходы на подготовку номера, также за год позволит заработать на депозитах 400 000₽."
   ]
  },
  {
   "cell_type": "markdown",
   "metadata": {},
   "source": [
    "### Шаг 1. Откройте файлы с данными"
   ]
  },
  {
   "cell_type": "markdown",
   "metadata": {},
   "source": [
    "Стоимость номеров отеля:\n",
    "* категория A: за ночь — 1 000, разовое обслуживание — 400;\n",
    "* категория B: за ночь — 800, разовое обслуживание — 350;\n",
    "* категория C: за ночь — 600, разовое обслуживание — 350;\n",
    "* категория D: за ночь — 550, разовое обслуживание — 150;\n",
    "* категория E: за ночь — 500, разовое обслуживание — 150;\n",
    "* категория F: за ночь — 450, разовое обслуживание — 150;\n",
    "* категория G: за ночь — 350, разовое обслуживание — 150;\n",
    "* категория H: за ночь — 300, разовое обслуживание — 100."
   ]
  },
  {
   "cell_type": "code",
   "execution_count": 1,
   "metadata": {},
   "outputs": [],
   "source": [
    "import pandas as pd\n",
    "from sklearn.model_selection import cross_val_score\n",
    "\n",
    "from sklearn.tree import DecisionTreeClassifier\n",
    "from sklearn.ensemble import RandomForestClassifier\n",
    "from sklearn.linear_model import LogisticRegression\n",
    "\n",
    "from sklearn.preprocessing import StandardScaler\n",
    "from sklearn.preprocessing import OrdinalEncoder"
   ]
  },
  {
   "cell_type": "code",
   "execution_count": 2,
   "metadata": {},
   "outputs": [],
   "source": [
    "pd.set_option('display.max_columns', 900)"
   ]
  },
  {
   "cell_type": "code",
   "execution_count": 3,
   "metadata": {},
   "outputs": [],
   "source": [
    "scaler = StandardScaler()\n",
    "encoder = OrdinalEncoder()\n",
    "\n",
    "df_train = pd.read_csv('/datasets/hotel_train.csv')\n",
    "df_test = pd.read_csv('/datasets/hotel_test.csv')"
   ]
  },
  {
   "cell_type": "code",
   "execution_count": 4,
   "metadata": {},
   "outputs": [
    {
     "data": {
      "text/html": [
       "<div>\n",
       "<style scoped>\n",
       "    .dataframe tbody tr th:only-of-type {\n",
       "        vertical-align: middle;\n",
       "    }\n",
       "\n",
       "    .dataframe tbody tr th {\n",
       "        vertical-align: top;\n",
       "    }\n",
       "\n",
       "    .dataframe thead th {\n",
       "        text-align: right;\n",
       "    }\n",
       "</style>\n",
       "<table border=\"1\" class=\"dataframe\">\n",
       "  <thead>\n",
       "    <tr style=\"text-align: right;\">\n",
       "      <th></th>\n",
       "      <th></th>\n",
       "      <th>letter</th>\n",
       "      <th>number</th>\n",
       "    </tr>\n",
       "  </thead>\n",
       "  <tbody>\n",
       "    <tr>\n",
       "      <td rowspan=\"2\" valign=\"top\">x</td>\n",
       "      <td>0</td>\n",
       "      <td>a</td>\n",
       "      <td>1</td>\n",
       "    </tr>\n",
       "    <tr>\n",
       "      <td>1</td>\n",
       "      <td>b</td>\n",
       "      <td>5</td>\n",
       "    </tr>\n",
       "    <tr>\n",
       "      <td rowspan=\"2\" valign=\"top\">y</td>\n",
       "      <td>0</td>\n",
       "      <td>c</td>\n",
       "      <td>4</td>\n",
       "    </tr>\n",
       "    <tr>\n",
       "      <td>1</td>\n",
       "      <td>d</td>\n",
       "      <td>2</td>\n",
       "    </tr>\n",
       "  </tbody>\n",
       "</table>\n",
       "</div>"
      ],
      "text/plain": [
       "    letter  number\n",
       "x 0      a       1\n",
       "  1      b       5\n",
       "y 0      c       4\n",
       "  1      d       2"
      ]
     },
     "execution_count": 4,
     "metadata": {},
     "output_type": "execute_result"
    }
   ],
   "source": [
    "df1 = pd.DataFrame([['a', 1], ['b', 5]], columns=['letter', 'number'])\n",
    "df2 = pd.DataFrame([['c', 4], ['d', 2]], columns=['letter', 'number'])\n",
    "pd.concat([df1, df2], keys=['x', 'y'])\n",
    "#dfc\n",
    "#dfc2 = dfc.sort_values('number')\n",
    "#dfc2.loc['x']"
   ]
  },
  {
   "cell_type": "markdown",
   "metadata": {},
   "source": [
    "### Шаг 2. Предобработка и исследовательский анализ данных"
   ]
  },
  {
   "cell_type": "code",
   "execution_count": 5,
   "metadata": {
    "scrolled": true
   },
   "outputs": [
    {
     "name": "stdout",
     "output_type": "stream",
     "text": [
      "--Размеры датасетов--\n",
      "\n",
      "Тренировочный датасет: строки 65229, столбцы 25\n",
      "Тестовый датасет: строки 32412, столбцы 25\n",
      "\n",
      "--Типы столбцов--\n",
      "\n",
      "Тренировочный датасет:\n",
      "id                                  int64\n",
      "is_canceled                         int64\n",
      "lead_time                         float64\n",
      "arrival_date_year                   int64\n",
      "arrival_date_month                 object\n",
      "arrival_date_week_number            int64\n",
      "arrival_date_day_of_month           int64\n",
      "stays_in_weekend_nights             int64\n",
      "stays_in_week_nights                int64\n",
      "adults                            float64\n",
      "children                          float64\n",
      "babies                            float64\n",
      "meal                               object\n",
      "country                            object\n",
      "distribution_channel               object\n",
      "is_repeated_guest                   int64\n",
      "previous_cancellations              int64\n",
      "previous_bookings_not_canceled      int64\n",
      "reserved_room_type                 object\n",
      "booking_changes                     int64\n",
      "days_in_waiting_list                int64\n",
      "customer_type                      object\n",
      "required_car_parking_spaces         int64\n",
      "total_of_special_requests           int64\n",
      "total_nights                        int64\n",
      "dtype: object\n",
      "\n",
      "Тестовый датасет:\n",
      "id                                  int64\n",
      "is_canceled                         int64\n",
      "lead_time                         float64\n",
      "arrival_date_year                   int64\n",
      "arrival_date_month                 object\n",
      "arrival_date_week_number            int64\n",
      "arrival_date_day_of_month           int64\n",
      "stays_in_weekend_nights             int64\n",
      "stays_in_week_nights                int64\n",
      "adults                            float64\n",
      "children                          float64\n",
      "babies                            float64\n",
      "meal                               object\n",
      "country                            object\n",
      "distribution_channel               object\n",
      "is_repeated_guest                   int64\n",
      "previous_cancellations              int64\n",
      "previous_bookings_not_canceled      int64\n",
      "reserved_room_type                 object\n",
      "booking_changes                     int64\n",
      "days_in_waiting_list                int64\n",
      "customer_type                      object\n",
      "required_car_parking_spaces         int64\n",
      "total_of_special_requests           int64\n",
      "total_nights                        int64\n",
      "dtype: object\n",
      "\n",
      "--Посотмрим на пустые строки--\n",
      "\n",
      "Тренировочный датасет\n",
      "id                                0\n",
      "is_canceled                       0\n",
      "lead_time                         0\n",
      "arrival_date_year                 0\n",
      "arrival_date_month                0\n",
      "arrival_date_week_number          0\n",
      "arrival_date_day_of_month         0\n",
      "stays_in_weekend_nights           0\n",
      "stays_in_week_nights              0\n",
      "adults                            0\n",
      "children                          0\n",
      "babies                            0\n",
      "meal                              0\n",
      "country                           0\n",
      "distribution_channel              0\n",
      "is_repeated_guest                 0\n",
      "previous_cancellations            0\n",
      "previous_bookings_not_canceled    0\n",
      "reserved_room_type                0\n",
      "booking_changes                   0\n",
      "days_in_waiting_list              0\n",
      "customer_type                     0\n",
      "required_car_parking_spaces       0\n",
      "total_of_special_requests         0\n",
      "total_nights                      0\n",
      "dtype: int64\n",
      "\n",
      "Тестовый датасет\n",
      "id                                0\n",
      "is_canceled                       0\n",
      "lead_time                         0\n",
      "arrival_date_year                 0\n",
      "arrival_date_month                0\n",
      "arrival_date_week_number          0\n",
      "arrival_date_day_of_month         0\n",
      "stays_in_weekend_nights           0\n",
      "stays_in_week_nights              0\n",
      "adults                            0\n",
      "children                          0\n",
      "babies                            0\n",
      "meal                              0\n",
      "country                           0\n",
      "distribution_channel              0\n",
      "is_repeated_guest                 0\n",
      "previous_cancellations            0\n",
      "previous_bookings_not_canceled    0\n",
      "reserved_room_type                0\n",
      "booking_changes                   0\n",
      "days_in_waiting_list              0\n",
      "customer_type                     0\n",
      "required_car_parking_spaces       0\n",
      "total_of_special_requests         0\n",
      "total_nights                      0\n",
      "dtype: int64\n",
      "\n",
      "Посотмрим на дубли\n",
      "\n",
      "Тренировочный датасет: 0\n",
      "Тестовый датасет: 0\n"
     ]
    }
   ],
   "source": [
    "rc_train = df_train.shape\n",
    "rc_test = df_test.shape\n",
    "print('--Размеры датасетов--\\n')\n",
    "print(f'Тренировочный датасет: строки {rc_train[0]}, столбцы {rc_train[1]}')\n",
    "print(f'Тестовый датасет: строки {rc_test[0]}, столбцы {rc_test[1]}')\n",
    "\n",
    "print('\\n--Типы столбцов--')\n",
    "print(f'\\nТренировочный датасет:\\n{df_train.dtypes}')\n",
    "print(f'\\nТестовый датасет:\\n{df_test.dtypes}')\n",
    "\n",
    "print('\\n--Посотмрим на пустые строки--')\n",
    "print('\\nТренировочный датасет')\n",
    "print(df_train.isnull().sum())\n",
    "print('\\nТестовый датасет')\n",
    "print(df_test.isnull().sum())\n",
    "\n",
    "print('\\nПосотмрим на дубли\\n')\n",
    "print(f'Тренировочный датасет: {df_train.duplicated().sum()}')\n",
    "print(f'Тестовый датасет: {df_test.duplicated().sum()}')"
   ]
  },
  {
   "cell_type": "code",
   "execution_count": 6,
   "metadata": {
    "scrolled": true
   },
   "outputs": [
    {
     "name": "stdout",
     "output_type": "stream",
     "text": [
      "\n",
      "--Выведем первые пять строк каждого датасета--\n",
      "\n",
      "Тренировочный датасет\n"
     ]
    },
    {
     "data": {
      "text/html": [
       "<div>\n",
       "<style scoped>\n",
       "    .dataframe tbody tr th:only-of-type {\n",
       "        vertical-align: middle;\n",
       "    }\n",
       "\n",
       "    .dataframe tbody tr th {\n",
       "        vertical-align: top;\n",
       "    }\n",
       "\n",
       "    .dataframe thead th {\n",
       "        text-align: right;\n",
       "    }\n",
       "</style>\n",
       "<table border=\"1\" class=\"dataframe\">\n",
       "  <thead>\n",
       "    <tr style=\"text-align: right;\">\n",
       "      <th></th>\n",
       "      <th>id</th>\n",
       "      <th>is_canceled</th>\n",
       "      <th>lead_time</th>\n",
       "      <th>arrival_date_year</th>\n",
       "      <th>arrival_date_month</th>\n",
       "      <th>arrival_date_week_number</th>\n",
       "      <th>arrival_date_day_of_month</th>\n",
       "      <th>stays_in_weekend_nights</th>\n",
       "      <th>stays_in_week_nights</th>\n",
       "      <th>adults</th>\n",
       "      <th>children</th>\n",
       "      <th>babies</th>\n",
       "      <th>meal</th>\n",
       "      <th>country</th>\n",
       "      <th>distribution_channel</th>\n",
       "      <th>is_repeated_guest</th>\n",
       "      <th>previous_cancellations</th>\n",
       "      <th>previous_bookings_not_canceled</th>\n",
       "      <th>reserved_room_type</th>\n",
       "      <th>booking_changes</th>\n",
       "      <th>days_in_waiting_list</th>\n",
       "      <th>customer_type</th>\n",
       "      <th>required_car_parking_spaces</th>\n",
       "      <th>total_of_special_requests</th>\n",
       "      <th>total_nights</th>\n",
       "    </tr>\n",
       "  </thead>\n",
       "  <tbody>\n",
       "    <tr>\n",
       "      <td>0</td>\n",
       "      <td>0</td>\n",
       "      <td>0</td>\n",
       "      <td>7.0</td>\n",
       "      <td>2015</td>\n",
       "      <td>July</td>\n",
       "      <td>27</td>\n",
       "      <td>1</td>\n",
       "      <td>0</td>\n",
       "      <td>1</td>\n",
       "      <td>1.0</td>\n",
       "      <td>0.0</td>\n",
       "      <td>0.0</td>\n",
       "      <td>BB</td>\n",
       "      <td>GBR</td>\n",
       "      <td>Direct</td>\n",
       "      <td>0</td>\n",
       "      <td>0</td>\n",
       "      <td>0</td>\n",
       "      <td>A</td>\n",
       "      <td>0</td>\n",
       "      <td>0</td>\n",
       "      <td>Transient</td>\n",
       "      <td>0</td>\n",
       "      <td>0</td>\n",
       "      <td>1</td>\n",
       "    </tr>\n",
       "    <tr>\n",
       "      <td>1</td>\n",
       "      <td>1</td>\n",
       "      <td>0</td>\n",
       "      <td>14.0</td>\n",
       "      <td>2015</td>\n",
       "      <td>July</td>\n",
       "      <td>27</td>\n",
       "      <td>1</td>\n",
       "      <td>0</td>\n",
       "      <td>2</td>\n",
       "      <td>2.0</td>\n",
       "      <td>0.0</td>\n",
       "      <td>0.0</td>\n",
       "      <td>BB</td>\n",
       "      <td>GBR</td>\n",
       "      <td>TA/TO</td>\n",
       "      <td>0</td>\n",
       "      <td>0</td>\n",
       "      <td>0</td>\n",
       "      <td>A</td>\n",
       "      <td>0</td>\n",
       "      <td>0</td>\n",
       "      <td>Transient</td>\n",
       "      <td>0</td>\n",
       "      <td>1</td>\n",
       "      <td>2</td>\n",
       "    </tr>\n",
       "    <tr>\n",
       "      <td>2</td>\n",
       "      <td>2</td>\n",
       "      <td>0</td>\n",
       "      <td>0.0</td>\n",
       "      <td>2015</td>\n",
       "      <td>July</td>\n",
       "      <td>27</td>\n",
       "      <td>1</td>\n",
       "      <td>0</td>\n",
       "      <td>2</td>\n",
       "      <td>2.0</td>\n",
       "      <td>0.0</td>\n",
       "      <td>0.0</td>\n",
       "      <td>BB</td>\n",
       "      <td>PRT</td>\n",
       "      <td>Direct</td>\n",
       "      <td>0</td>\n",
       "      <td>0</td>\n",
       "      <td>0</td>\n",
       "      <td>C</td>\n",
       "      <td>0</td>\n",
       "      <td>0</td>\n",
       "      <td>Transient</td>\n",
       "      <td>0</td>\n",
       "      <td>0</td>\n",
       "      <td>2</td>\n",
       "    </tr>\n",
       "    <tr>\n",
       "      <td>3</td>\n",
       "      <td>3</td>\n",
       "      <td>0</td>\n",
       "      <td>9.0</td>\n",
       "      <td>2015</td>\n",
       "      <td>July</td>\n",
       "      <td>27</td>\n",
       "      <td>1</td>\n",
       "      <td>0</td>\n",
       "      <td>2</td>\n",
       "      <td>2.0</td>\n",
       "      <td>0.0</td>\n",
       "      <td>0.0</td>\n",
       "      <td>FB</td>\n",
       "      <td>PRT</td>\n",
       "      <td>Direct</td>\n",
       "      <td>0</td>\n",
       "      <td>0</td>\n",
       "      <td>0</td>\n",
       "      <td>C</td>\n",
       "      <td>0</td>\n",
       "      <td>0</td>\n",
       "      <td>Transient</td>\n",
       "      <td>0</td>\n",
       "      <td>1</td>\n",
       "      <td>2</td>\n",
       "    </tr>\n",
       "    <tr>\n",
       "      <td>4</td>\n",
       "      <td>4</td>\n",
       "      <td>1</td>\n",
       "      <td>85.0</td>\n",
       "      <td>2015</td>\n",
       "      <td>July</td>\n",
       "      <td>27</td>\n",
       "      <td>1</td>\n",
       "      <td>0</td>\n",
       "      <td>3</td>\n",
       "      <td>2.0</td>\n",
       "      <td>0.0</td>\n",
       "      <td>0.0</td>\n",
       "      <td>BB</td>\n",
       "      <td>PRT</td>\n",
       "      <td>TA/TO</td>\n",
       "      <td>0</td>\n",
       "      <td>0</td>\n",
       "      <td>0</td>\n",
       "      <td>A</td>\n",
       "      <td>0</td>\n",
       "      <td>0</td>\n",
       "      <td>Transient</td>\n",
       "      <td>0</td>\n",
       "      <td>1</td>\n",
       "      <td>3</td>\n",
       "    </tr>\n",
       "  </tbody>\n",
       "</table>\n",
       "</div>"
      ],
      "text/plain": [
       "   id  is_canceled  lead_time  arrival_date_year arrival_date_month  \\\n",
       "0   0            0        7.0               2015               July   \n",
       "1   1            0       14.0               2015               July   \n",
       "2   2            0        0.0               2015               July   \n",
       "3   3            0        9.0               2015               July   \n",
       "4   4            1       85.0               2015               July   \n",
       "\n",
       "   arrival_date_week_number  arrival_date_day_of_month  \\\n",
       "0                        27                          1   \n",
       "1                        27                          1   \n",
       "2                        27                          1   \n",
       "3                        27                          1   \n",
       "4                        27                          1   \n",
       "\n",
       "   stays_in_weekend_nights  stays_in_week_nights  adults  children  babies  \\\n",
       "0                        0                     1     1.0       0.0     0.0   \n",
       "1                        0                     2     2.0       0.0     0.0   \n",
       "2                        0                     2     2.0       0.0     0.0   \n",
       "3                        0                     2     2.0       0.0     0.0   \n",
       "4                        0                     3     2.0       0.0     0.0   \n",
       "\n",
       "        meal country distribution_channel  is_repeated_guest  \\\n",
       "0  BB            GBR               Direct                  0   \n",
       "1  BB            GBR                TA/TO                  0   \n",
       "2  BB            PRT               Direct                  0   \n",
       "3  FB            PRT               Direct                  0   \n",
       "4  BB            PRT                TA/TO                  0   \n",
       "\n",
       "   previous_cancellations  previous_bookings_not_canceled reserved_room_type  \\\n",
       "0                       0                               0   A                  \n",
       "1                       0                               0   A                  \n",
       "2                       0                               0   C                  \n",
       "3                       0                               0   C                  \n",
       "4                       0                               0   A                  \n",
       "\n",
       "   booking_changes  days_in_waiting_list customer_type  \\\n",
       "0                0                     0     Transient   \n",
       "1                0                     0     Transient   \n",
       "2                0                     0     Transient   \n",
       "3                0                     0     Transient   \n",
       "4                0                     0     Transient   \n",
       "\n",
       "   required_car_parking_spaces  total_of_special_requests  total_nights  \n",
       "0                            0                          0             1  \n",
       "1                            0                          1             2  \n",
       "2                            0                          0             2  \n",
       "3                            0                          1             2  \n",
       "4                            0                          1             3  "
      ]
     },
     "execution_count": 6,
     "metadata": {},
     "output_type": "execute_result"
    }
   ],
   "source": [
    "print('\\n--Выведем первые пять строк каждого датасета--')\n",
    "print('\\nТренировочный датасет')\n",
    "df_train.head()"
   ]
  },
  {
   "cell_type": "code",
   "execution_count": 7,
   "metadata": {},
   "outputs": [
    {
     "name": "stdout",
     "output_type": "stream",
     "text": [
      "\n",
      "Тестовый датасет\n"
     ]
    },
    {
     "data": {
      "text/html": [
       "<div>\n",
       "<style scoped>\n",
       "    .dataframe tbody tr th:only-of-type {\n",
       "        vertical-align: middle;\n",
       "    }\n",
       "\n",
       "    .dataframe tbody tr th {\n",
       "        vertical-align: top;\n",
       "    }\n",
       "\n",
       "    .dataframe thead th {\n",
       "        text-align: right;\n",
       "    }\n",
       "</style>\n",
       "<table border=\"1\" class=\"dataframe\">\n",
       "  <thead>\n",
       "    <tr style=\"text-align: right;\">\n",
       "      <th></th>\n",
       "      <th>id</th>\n",
       "      <th>is_canceled</th>\n",
       "      <th>lead_time</th>\n",
       "      <th>arrival_date_year</th>\n",
       "      <th>arrival_date_month</th>\n",
       "      <th>arrival_date_week_number</th>\n",
       "      <th>arrival_date_day_of_month</th>\n",
       "      <th>stays_in_weekend_nights</th>\n",
       "      <th>stays_in_week_nights</th>\n",
       "      <th>adults</th>\n",
       "      <th>children</th>\n",
       "      <th>babies</th>\n",
       "      <th>meal</th>\n",
       "      <th>country</th>\n",
       "      <th>distribution_channel</th>\n",
       "      <th>is_repeated_guest</th>\n",
       "      <th>previous_cancellations</th>\n",
       "      <th>previous_bookings_not_canceled</th>\n",
       "      <th>reserved_room_type</th>\n",
       "      <th>booking_changes</th>\n",
       "      <th>days_in_waiting_list</th>\n",
       "      <th>customer_type</th>\n",
       "      <th>required_car_parking_spaces</th>\n",
       "      <th>total_of_special_requests</th>\n",
       "      <th>total_nights</th>\n",
       "    </tr>\n",
       "  </thead>\n",
       "  <tbody>\n",
       "    <tr>\n",
       "      <td>0</td>\n",
       "      <td>6086</td>\n",
       "      <td>1</td>\n",
       "      <td>74.0</td>\n",
       "      <td>2017</td>\n",
       "      <td>January</td>\n",
       "      <td>1</td>\n",
       "      <td>1</td>\n",
       "      <td>1</td>\n",
       "      <td>0</td>\n",
       "      <td>2.0</td>\n",
       "      <td>0.0</td>\n",
       "      <td>0.0</td>\n",
       "      <td>BB</td>\n",
       "      <td>PRT</td>\n",
       "      <td>TA/TO</td>\n",
       "      <td>0</td>\n",
       "      <td>0</td>\n",
       "      <td>0</td>\n",
       "      <td>A</td>\n",
       "      <td>0</td>\n",
       "      <td>0</td>\n",
       "      <td>Transient</td>\n",
       "      <td>0</td>\n",
       "      <td>0</td>\n",
       "      <td>1</td>\n",
       "    </tr>\n",
       "    <tr>\n",
       "      <td>1</td>\n",
       "      <td>6087</td>\n",
       "      <td>1</td>\n",
       "      <td>62.0</td>\n",
       "      <td>2017</td>\n",
       "      <td>January</td>\n",
       "      <td>1</td>\n",
       "      <td>1</td>\n",
       "      <td>2</td>\n",
       "      <td>2</td>\n",
       "      <td>2.0</td>\n",
       "      <td>0.0</td>\n",
       "      <td>0.0</td>\n",
       "      <td>BB</td>\n",
       "      <td>AUT</td>\n",
       "      <td>TA/TO</td>\n",
       "      <td>0</td>\n",
       "      <td>0</td>\n",
       "      <td>0</td>\n",
       "      <td>A</td>\n",
       "      <td>0</td>\n",
       "      <td>0</td>\n",
       "      <td>Transient</td>\n",
       "      <td>0</td>\n",
       "      <td>1</td>\n",
       "      <td>4</td>\n",
       "    </tr>\n",
       "    <tr>\n",
       "      <td>2</td>\n",
       "      <td>6088</td>\n",
       "      <td>1</td>\n",
       "      <td>62.0</td>\n",
       "      <td>2017</td>\n",
       "      <td>January</td>\n",
       "      <td>1</td>\n",
       "      <td>1</td>\n",
       "      <td>2</td>\n",
       "      <td>2</td>\n",
       "      <td>2.0</td>\n",
       "      <td>0.0</td>\n",
       "      <td>0.0</td>\n",
       "      <td>BB</td>\n",
       "      <td>AUT</td>\n",
       "      <td>TA/TO</td>\n",
       "      <td>0</td>\n",
       "      <td>0</td>\n",
       "      <td>0</td>\n",
       "      <td>A</td>\n",
       "      <td>0</td>\n",
       "      <td>0</td>\n",
       "      <td>Transient</td>\n",
       "      <td>0</td>\n",
       "      <td>1</td>\n",
       "      <td>4</td>\n",
       "    </tr>\n",
       "    <tr>\n",
       "      <td>3</td>\n",
       "      <td>6089</td>\n",
       "      <td>1</td>\n",
       "      <td>71.0</td>\n",
       "      <td>2017</td>\n",
       "      <td>January</td>\n",
       "      <td>1</td>\n",
       "      <td>1</td>\n",
       "      <td>2</td>\n",
       "      <td>2</td>\n",
       "      <td>1.0</td>\n",
       "      <td>0.0</td>\n",
       "      <td>0.0</td>\n",
       "      <td>BB</td>\n",
       "      <td>PRT</td>\n",
       "      <td>TA/TO</td>\n",
       "      <td>0</td>\n",
       "      <td>0</td>\n",
       "      <td>0</td>\n",
       "      <td>A</td>\n",
       "      <td>0</td>\n",
       "      <td>0</td>\n",
       "      <td>Transient</td>\n",
       "      <td>0</td>\n",
       "      <td>1</td>\n",
       "      <td>4</td>\n",
       "    </tr>\n",
       "    <tr>\n",
       "      <td>4</td>\n",
       "      <td>6090</td>\n",
       "      <td>1</td>\n",
       "      <td>172.0</td>\n",
       "      <td>2017</td>\n",
       "      <td>January</td>\n",
       "      <td>1</td>\n",
       "      <td>1</td>\n",
       "      <td>2</td>\n",
       "      <td>5</td>\n",
       "      <td>2.0</td>\n",
       "      <td>0.0</td>\n",
       "      <td>0.0</td>\n",
       "      <td>BB</td>\n",
       "      <td>BEL</td>\n",
       "      <td>TA/TO</td>\n",
       "      <td>0</td>\n",
       "      <td>0</td>\n",
       "      <td>0</td>\n",
       "      <td>A</td>\n",
       "      <td>0</td>\n",
       "      <td>0</td>\n",
       "      <td>Transient</td>\n",
       "      <td>0</td>\n",
       "      <td>0</td>\n",
       "      <td>7</td>\n",
       "    </tr>\n",
       "  </tbody>\n",
       "</table>\n",
       "</div>"
      ],
      "text/plain": [
       "     id  is_canceled  lead_time  arrival_date_year arrival_date_month  \\\n",
       "0  6086            1       74.0               2017            January   \n",
       "1  6087            1       62.0               2017            January   \n",
       "2  6088            1       62.0               2017            January   \n",
       "3  6089            1       71.0               2017            January   \n",
       "4  6090            1      172.0               2017            January   \n",
       "\n",
       "   arrival_date_week_number  arrival_date_day_of_month  \\\n",
       "0                         1                          1   \n",
       "1                         1                          1   \n",
       "2                         1                          1   \n",
       "3                         1                          1   \n",
       "4                         1                          1   \n",
       "\n",
       "   stays_in_weekend_nights  stays_in_week_nights  adults  children  babies  \\\n",
       "0                        1                     0     2.0       0.0     0.0   \n",
       "1                        2                     2     2.0       0.0     0.0   \n",
       "2                        2                     2     2.0       0.0     0.0   \n",
       "3                        2                     2     1.0       0.0     0.0   \n",
       "4                        2                     5     2.0       0.0     0.0   \n",
       "\n",
       "        meal country distribution_channel  is_repeated_guest  \\\n",
       "0  BB            PRT                TA/TO                  0   \n",
       "1  BB            AUT                TA/TO                  0   \n",
       "2  BB            AUT                TA/TO                  0   \n",
       "3  BB            PRT                TA/TO                  0   \n",
       "4  BB            BEL                TA/TO                  0   \n",
       "\n",
       "   previous_cancellations  previous_bookings_not_canceled reserved_room_type  \\\n",
       "0                       0                               0   A                  \n",
       "1                       0                               0   A                  \n",
       "2                       0                               0   A                  \n",
       "3                       0                               0   A                  \n",
       "4                       0                               0   A                  \n",
       "\n",
       "   booking_changes  days_in_waiting_list customer_type  \\\n",
       "0                0                     0     Transient   \n",
       "1                0                     0     Transient   \n",
       "2                0                     0     Transient   \n",
       "3                0                     0     Transient   \n",
       "4                0                     0     Transient   \n",
       "\n",
       "   required_car_parking_spaces  total_of_special_requests  total_nights  \n",
       "0                            0                          0             1  \n",
       "1                            0                          1             4  \n",
       "2                            0                          1             4  \n",
       "3                            0                          1             4  \n",
       "4                            0                          0             7  "
      ]
     },
     "execution_count": 7,
     "metadata": {},
     "output_type": "execute_result"
    }
   ],
   "source": [
    "print('\\nТестовый датасет')\n",
    "df_test.head()"
   ]
  },
  {
   "cell_type": "code",
   "execution_count": 8,
   "metadata": {},
   "outputs": [
    {
     "name": "stdout",
     "output_type": "stream",
     "text": [
      "\n",
      "Посмотрим как распрелеяется признак в тренировочном датасете.\n",
      "0    0.631391\n",
      "1    0.368609\n",
      "Name: is_canceled, dtype: float64\n",
      "\n",
      "Посмотрим как распрелеяется признак в тестовом датасете.\n",
      "0    0.611533\n",
      "1    0.388467\n",
      "Name: is_canceled, dtype: float64\n"
     ]
    }
   ],
   "source": [
    "print('\\nПосмотрим как распрелеяется признак в тренировочном датасете.')\n",
    "print(df_train['is_canceled'].value_counts(normalize=True))\n",
    "print('\\nПосмотрим как распрелеяется признак в тестовом датасете.')\n",
    "print(df_test['is_canceled'].value_counts(normalize=True))"
   ]
  },
  {
   "cell_type": "code",
   "execution_count": 9,
   "metadata": {},
   "outputs": [
    {
     "name": "stdout",
     "output_type": "stream",
     "text": [
      "\n",
      "Посмотрим как распрелеяется признак в тренировочном датасете.\n",
      "0    41185\n",
      "1    24044\n",
      "Name: is_canceled, dtype: int64\n",
      "\n",
      "Посмотрим как распрелеяется признак в тестовом датасете.\n",
      "0    19821\n",
      "1    12591\n",
      "Name: is_canceled, dtype: int64\n"
     ]
    }
   ],
   "source": [
    "print('\\nПосмотрим как распрелеяется признак в тренировочном датасете.')\n",
    "print(df_train['is_canceled'].value_counts())\n",
    "print('\\nПосмотрим как распрелеяется признак в тестовом датасете.')\n",
    "print(df_test['is_canceled'].value_counts())"
   ]
  },
  {
   "cell_type": "code",
   "execution_count": 10,
   "metadata": {},
   "outputs": [
    {
     "data": {
      "text/html": [
       "<div>\n",
       "<style scoped>\n",
       "    .dataframe tbody tr th:only-of-type {\n",
       "        vertical-align: middle;\n",
       "    }\n",
       "\n",
       "    .dataframe tbody tr th {\n",
       "        vertical-align: top;\n",
       "    }\n",
       "\n",
       "    .dataframe thead th {\n",
       "        text-align: right;\n",
       "    }\n",
       "</style>\n",
       "<table border=\"1\" class=\"dataframe\">\n",
       "  <thead>\n",
       "    <tr style=\"text-align: right;\">\n",
       "      <th></th>\n",
       "      <th>id</th>\n",
       "      <th>is_canceled</th>\n",
       "      <th>lead_time</th>\n",
       "      <th>arrival_date_year</th>\n",
       "      <th>arrival_date_week_number</th>\n",
       "      <th>arrival_date_day_of_month</th>\n",
       "      <th>stays_in_weekend_nights</th>\n",
       "      <th>stays_in_week_nights</th>\n",
       "      <th>adults</th>\n",
       "      <th>children</th>\n",
       "      <th>babies</th>\n",
       "      <th>is_repeated_guest</th>\n",
       "      <th>previous_cancellations</th>\n",
       "      <th>previous_bookings_not_canceled</th>\n",
       "      <th>booking_changes</th>\n",
       "      <th>days_in_waiting_list</th>\n",
       "      <th>required_car_parking_spaces</th>\n",
       "      <th>total_of_special_requests</th>\n",
       "      <th>total_nights</th>\n",
       "    </tr>\n",
       "  </thead>\n",
       "  <tbody>\n",
       "    <tr>\n",
       "      <td>count</td>\n",
       "      <td>65229.000000</td>\n",
       "      <td>65229.000000</td>\n",
       "      <td>65229.000000</td>\n",
       "      <td>65229.000000</td>\n",
       "      <td>65229.000000</td>\n",
       "      <td>65229.000000</td>\n",
       "      <td>65229.000000</td>\n",
       "      <td>65229.000000</td>\n",
       "      <td>65229.000000</td>\n",
       "      <td>65229.000000</td>\n",
       "      <td>65229.000000</td>\n",
       "      <td>65229.000000</td>\n",
       "      <td>65229.000000</td>\n",
       "      <td>65229.000000</td>\n",
       "      <td>65229.000000</td>\n",
       "      <td>65229.000000</td>\n",
       "      <td>65229.000000</td>\n",
       "      <td>65229.000000</td>\n",
       "      <td>65229.000000</td>\n",
       "    </tr>\n",
       "    <tr>\n",
       "      <td>mean</td>\n",
       "      <td>43544.069172</td>\n",
       "      <td>0.368609</td>\n",
       "      <td>96.337917</td>\n",
       "      <td>2015.719021</td>\n",
       "      <td>31.339772</td>\n",
       "      <td>15.847813</td>\n",
       "      <td>0.825185</td>\n",
       "      <td>2.224793</td>\n",
       "      <td>1.836576</td>\n",
       "      <td>0.074890</td>\n",
       "      <td>0.007236</td>\n",
       "      <td>0.027151</td>\n",
       "      <td>0.128915</td>\n",
       "      <td>0.107713</td>\n",
       "      <td>0.194269</td>\n",
       "      <td>3.334422</td>\n",
       "      <td>0.056647</td>\n",
       "      <td>0.512763</td>\n",
       "      <td>3.049978</td>\n",
       "    </tr>\n",
       "    <tr>\n",
       "      <td>std</td>\n",
       "      <td>25614.858971</td>\n",
       "      <td>0.482431</td>\n",
       "      <td>96.127545</td>\n",
       "      <td>0.449481</td>\n",
       "      <td>13.464024</td>\n",
       "      <td>8.748182</td>\n",
       "      <td>0.853477</td>\n",
       "      <td>1.354992</td>\n",
       "      <td>0.480245</td>\n",
       "      <td>0.334243</td>\n",
       "      <td>0.098790</td>\n",
       "      <td>0.162523</td>\n",
       "      <td>0.965326</td>\n",
       "      <td>1.326638</td>\n",
       "      <td>0.593838</td>\n",
       "      <td>18.239606</td>\n",
       "      <td>0.232094</td>\n",
       "      <td>0.752590</td>\n",
       "      <td>1.738108</td>\n",
       "    </tr>\n",
       "    <tr>\n",
       "      <td>min</td>\n",
       "      <td>0.000000</td>\n",
       "      <td>0.000000</td>\n",
       "      <td>0.000000</td>\n",
       "      <td>2015.000000</td>\n",
       "      <td>1.000000</td>\n",
       "      <td>1.000000</td>\n",
       "      <td>0.000000</td>\n",
       "      <td>0.000000</td>\n",
       "      <td>0.000000</td>\n",
       "      <td>0.000000</td>\n",
       "      <td>0.000000</td>\n",
       "      <td>0.000000</td>\n",
       "      <td>0.000000</td>\n",
       "      <td>0.000000</td>\n",
       "      <td>0.000000</td>\n",
       "      <td>0.000000</td>\n",
       "      <td>0.000000</td>\n",
       "      <td>0.000000</td>\n",
       "      <td>1.000000</td>\n",
       "    </tr>\n",
       "    <tr>\n",
       "      <td>25%</td>\n",
       "      <td>19108.000000</td>\n",
       "      <td>0.000000</td>\n",
       "      <td>17.000000</td>\n",
       "      <td>2015.000000</td>\n",
       "      <td>21.000000</td>\n",
       "      <td>8.000000</td>\n",
       "      <td>0.000000</td>\n",
       "      <td>1.000000</td>\n",
       "      <td>2.000000</td>\n",
       "      <td>0.000000</td>\n",
       "      <td>0.000000</td>\n",
       "      <td>0.000000</td>\n",
       "      <td>0.000000</td>\n",
       "      <td>0.000000</td>\n",
       "      <td>0.000000</td>\n",
       "      <td>0.000000</td>\n",
       "      <td>0.000000</td>\n",
       "      <td>0.000000</td>\n",
       "      <td>2.000000</td>\n",
       "    </tr>\n",
       "    <tr>\n",
       "      <td>50%</td>\n",
       "      <td>40554.000000</td>\n",
       "      <td>0.000000</td>\n",
       "      <td>64.000000</td>\n",
       "      <td>2016.000000</td>\n",
       "      <td>34.000000</td>\n",
       "      <td>16.000000</td>\n",
       "      <td>1.000000</td>\n",
       "      <td>2.000000</td>\n",
       "      <td>2.000000</td>\n",
       "      <td>0.000000</td>\n",
       "      <td>0.000000</td>\n",
       "      <td>0.000000</td>\n",
       "      <td>0.000000</td>\n",
       "      <td>0.000000</td>\n",
       "      <td>0.000000</td>\n",
       "      <td>0.000000</td>\n",
       "      <td>0.000000</td>\n",
       "      <td>0.000000</td>\n",
       "      <td>3.000000</td>\n",
       "    </tr>\n",
       "    <tr>\n",
       "      <td>75%</td>\n",
       "      <td>67414.000000</td>\n",
       "      <td>1.000000</td>\n",
       "      <td>151.000000</td>\n",
       "      <td>2016.000000</td>\n",
       "      <td>42.000000</td>\n",
       "      <td>23.000000</td>\n",
       "      <td>2.000000</td>\n",
       "      <td>3.000000</td>\n",
       "      <td>2.000000</td>\n",
       "      <td>0.000000</td>\n",
       "      <td>0.000000</td>\n",
       "      <td>0.000000</td>\n",
       "      <td>0.000000</td>\n",
       "      <td>0.000000</td>\n",
       "      <td>0.000000</td>\n",
       "      <td>0.000000</td>\n",
       "      <td>0.000000</td>\n",
       "      <td>1.000000</td>\n",
       "      <td>4.000000</td>\n",
       "    </tr>\n",
       "    <tr>\n",
       "      <td>max</td>\n",
       "      <td>84121.000000</td>\n",
       "      <td>1.000000</td>\n",
       "      <td>374.000000</td>\n",
       "      <td>2016.000000</td>\n",
       "      <td>53.000000</td>\n",
       "      <td>31.000000</td>\n",
       "      <td>4.000000</td>\n",
       "      <td>6.000000</td>\n",
       "      <td>4.000000</td>\n",
       "      <td>3.000000</td>\n",
       "      <td>10.000000</td>\n",
       "      <td>1.000000</td>\n",
       "      <td>26.000000</td>\n",
       "      <td>58.000000</td>\n",
       "      <td>17.000000</td>\n",
       "      <td>259.000000</td>\n",
       "      <td>3.000000</td>\n",
       "      <td>5.000000</td>\n",
       "      <td>10.000000</td>\n",
       "    </tr>\n",
       "  </tbody>\n",
       "</table>\n",
       "</div>"
      ],
      "text/plain": [
       "                 id   is_canceled     lead_time  arrival_date_year  \\\n",
       "count  65229.000000  65229.000000  65229.000000       65229.000000   \n",
       "mean   43544.069172      0.368609     96.337917        2015.719021   \n",
       "std    25614.858971      0.482431     96.127545           0.449481   \n",
       "min        0.000000      0.000000      0.000000        2015.000000   \n",
       "25%    19108.000000      0.000000     17.000000        2015.000000   \n",
       "50%    40554.000000      0.000000     64.000000        2016.000000   \n",
       "75%    67414.000000      1.000000    151.000000        2016.000000   \n",
       "max    84121.000000      1.000000    374.000000        2016.000000   \n",
       "\n",
       "       arrival_date_week_number  arrival_date_day_of_month  \\\n",
       "count              65229.000000               65229.000000   \n",
       "mean                  31.339772                  15.847813   \n",
       "std                   13.464024                   8.748182   \n",
       "min                    1.000000                   1.000000   \n",
       "25%                   21.000000                   8.000000   \n",
       "50%                   34.000000                  16.000000   \n",
       "75%                   42.000000                  23.000000   \n",
       "max                   53.000000                  31.000000   \n",
       "\n",
       "       stays_in_weekend_nights  stays_in_week_nights        adults  \\\n",
       "count             65229.000000          65229.000000  65229.000000   \n",
       "mean                  0.825185              2.224793      1.836576   \n",
       "std                   0.853477              1.354992      0.480245   \n",
       "min                   0.000000              0.000000      0.000000   \n",
       "25%                   0.000000              1.000000      2.000000   \n",
       "50%                   1.000000              2.000000      2.000000   \n",
       "75%                   2.000000              3.000000      2.000000   \n",
       "max                   4.000000              6.000000      4.000000   \n",
       "\n",
       "           children        babies  is_repeated_guest  previous_cancellations  \\\n",
       "count  65229.000000  65229.000000       65229.000000            65229.000000   \n",
       "mean       0.074890      0.007236           0.027151                0.128915   \n",
       "std        0.334243      0.098790           0.162523                0.965326   \n",
       "min        0.000000      0.000000           0.000000                0.000000   \n",
       "25%        0.000000      0.000000           0.000000                0.000000   \n",
       "50%        0.000000      0.000000           0.000000                0.000000   \n",
       "75%        0.000000      0.000000           0.000000                0.000000   \n",
       "max        3.000000     10.000000           1.000000               26.000000   \n",
       "\n",
       "       previous_bookings_not_canceled  booking_changes  days_in_waiting_list  \\\n",
       "count                    65229.000000     65229.000000          65229.000000   \n",
       "mean                         0.107713         0.194269              3.334422   \n",
       "std                          1.326638         0.593838             18.239606   \n",
       "min                          0.000000         0.000000              0.000000   \n",
       "25%                          0.000000         0.000000              0.000000   \n",
       "50%                          0.000000         0.000000              0.000000   \n",
       "75%                          0.000000         0.000000              0.000000   \n",
       "max                         58.000000        17.000000            259.000000   \n",
       "\n",
       "       required_car_parking_spaces  total_of_special_requests  total_nights  \n",
       "count                 65229.000000               65229.000000  65229.000000  \n",
       "mean                      0.056647                   0.512763      3.049978  \n",
       "std                       0.232094                   0.752590      1.738108  \n",
       "min                       0.000000                   0.000000      1.000000  \n",
       "25%                       0.000000                   0.000000      2.000000  \n",
       "50%                       0.000000                   0.000000      3.000000  \n",
       "75%                       0.000000                   1.000000      4.000000  \n",
       "max                       3.000000                   5.000000     10.000000  "
      ]
     },
     "execution_count": 10,
     "metadata": {},
     "output_type": "execute_result"
    }
   ],
   "source": [
    "df_train.describe()"
   ]
  },
  {
   "cell_type": "code",
   "execution_count": 11,
   "metadata": {},
   "outputs": [
    {
     "data": {
      "text/html": [
       "<div>\n",
       "<style scoped>\n",
       "    .dataframe tbody tr th:only-of-type {\n",
       "        vertical-align: middle;\n",
       "    }\n",
       "\n",
       "    .dataframe tbody tr th {\n",
       "        vertical-align: top;\n",
       "    }\n",
       "\n",
       "    .dataframe thead th {\n",
       "        text-align: right;\n",
       "    }\n",
       "</style>\n",
       "<table border=\"1\" class=\"dataframe\">\n",
       "  <thead>\n",
       "    <tr style=\"text-align: right;\">\n",
       "      <th></th>\n",
       "      <th>id</th>\n",
       "      <th>is_canceled</th>\n",
       "      <th>lead_time</th>\n",
       "      <th>arrival_date_year</th>\n",
       "      <th>arrival_date_week_number</th>\n",
       "      <th>arrival_date_day_of_month</th>\n",
       "      <th>stays_in_weekend_nights</th>\n",
       "      <th>stays_in_week_nights</th>\n",
       "      <th>adults</th>\n",
       "      <th>children</th>\n",
       "      <th>babies</th>\n",
       "      <th>is_repeated_guest</th>\n",
       "      <th>previous_cancellations</th>\n",
       "      <th>previous_bookings_not_canceled</th>\n",
       "      <th>booking_changes</th>\n",
       "      <th>days_in_waiting_list</th>\n",
       "      <th>required_car_parking_spaces</th>\n",
       "      <th>total_of_special_requests</th>\n",
       "      <th>total_nights</th>\n",
       "    </tr>\n",
       "  </thead>\n",
       "  <tbody>\n",
       "    <tr>\n",
       "      <td>count</td>\n",
       "      <td>32412.000000</td>\n",
       "      <td>32412.000000</td>\n",
       "      <td>32412.000000</td>\n",
       "      <td>32412.0</td>\n",
       "      <td>32412.000000</td>\n",
       "      <td>32412.000000</td>\n",
       "      <td>32412.000000</td>\n",
       "      <td>32412.00000</td>\n",
       "      <td>32412.000000</td>\n",
       "      <td>32412.000000</td>\n",
       "      <td>32412.000000</td>\n",
       "      <td>32412.000000</td>\n",
       "      <td>32412.000000</td>\n",
       "      <td>32412.000000</td>\n",
       "      <td>32412.000000</td>\n",
       "      <td>32412.000000</td>\n",
       "      <td>32412.000000</td>\n",
       "      <td>32412.000000</td>\n",
       "      <td>32412.000000</td>\n",
       "    </tr>\n",
       "    <tr>\n",
       "      <td>mean</td>\n",
       "      <td>60131.505183</td>\n",
       "      <td>0.388467</td>\n",
       "      <td>97.587869</td>\n",
       "      <td>2017.0</td>\n",
       "      <td>17.804054</td>\n",
       "      <td>15.656948</td>\n",
       "      <td>0.867888</td>\n",
       "      <td>2.34009</td>\n",
       "      <td>1.858602</td>\n",
       "      <td>0.083765</td>\n",
       "      <td>0.005523</td>\n",
       "      <td>0.031377</td>\n",
       "      <td>0.011601</td>\n",
       "      <td>0.171418</td>\n",
       "      <td>0.216741</td>\n",
       "      <td>0.262341</td>\n",
       "      <td>0.046248</td>\n",
       "      <td>0.657781</td>\n",
       "      <td>3.207979</td>\n",
       "    </tr>\n",
       "    <tr>\n",
       "      <td>std</td>\n",
       "      <td>29953.586177</td>\n",
       "      <td>0.487409</td>\n",
       "      <td>86.507146</td>\n",
       "      <td>0.0</td>\n",
       "      <td>9.177384</td>\n",
       "      <td>8.766429</td>\n",
       "      <td>0.853394</td>\n",
       "      <td>1.37517</td>\n",
       "      <td>0.489341</td>\n",
       "      <td>0.343470</td>\n",
       "      <td>0.075757</td>\n",
       "      <td>0.174338</td>\n",
       "      <td>0.180473</td>\n",
       "      <td>1.875170</td>\n",
       "      <td>0.640551</td>\n",
       "      <td>4.733027</td>\n",
       "      <td>0.219367</td>\n",
       "      <td>0.834341</td>\n",
       "      <td>1.738683</td>\n",
       "    </tr>\n",
       "    <tr>\n",
       "      <td>min</td>\n",
       "      <td>6086.000000</td>\n",
       "      <td>0.000000</td>\n",
       "      <td>0.000000</td>\n",
       "      <td>2017.0</td>\n",
       "      <td>1.000000</td>\n",
       "      <td>1.000000</td>\n",
       "      <td>0.000000</td>\n",
       "      <td>0.00000</td>\n",
       "      <td>0.000000</td>\n",
       "      <td>0.000000</td>\n",
       "      <td>0.000000</td>\n",
       "      <td>0.000000</td>\n",
       "      <td>0.000000</td>\n",
       "      <td>0.000000</td>\n",
       "      <td>0.000000</td>\n",
       "      <td>0.000000</td>\n",
       "      <td>0.000000</td>\n",
       "      <td>0.000000</td>\n",
       "      <td>1.000000</td>\n",
       "    </tr>\n",
       "    <tr>\n",
       "      <td>25%</td>\n",
       "      <td>45291.750000</td>\n",
       "      <td>0.000000</td>\n",
       "      <td>23.000000</td>\n",
       "      <td>2017.0</td>\n",
       "      <td>10.000000</td>\n",
       "      <td>8.000000</td>\n",
       "      <td>0.000000</td>\n",
       "      <td>1.00000</td>\n",
       "      <td>2.000000</td>\n",
       "      <td>0.000000</td>\n",
       "      <td>0.000000</td>\n",
       "      <td>0.000000</td>\n",
       "      <td>0.000000</td>\n",
       "      <td>0.000000</td>\n",
       "      <td>0.000000</td>\n",
       "      <td>0.000000</td>\n",
       "      <td>0.000000</td>\n",
       "      <td>0.000000</td>\n",
       "      <td>2.000000</td>\n",
       "    </tr>\n",
       "    <tr>\n",
       "      <td>50%</td>\n",
       "      <td>53394.500000</td>\n",
       "      <td>0.000000</td>\n",
       "      <td>76.000000</td>\n",
       "      <td>2017.0</td>\n",
       "      <td>18.000000</td>\n",
       "      <td>15.500000</td>\n",
       "      <td>1.000000</td>\n",
       "      <td>2.00000</td>\n",
       "      <td>2.000000</td>\n",
       "      <td>0.000000</td>\n",
       "      <td>0.000000</td>\n",
       "      <td>0.000000</td>\n",
       "      <td>0.000000</td>\n",
       "      <td>0.000000</td>\n",
       "      <td>0.000000</td>\n",
       "      <td>0.000000</td>\n",
       "      <td>0.000000</td>\n",
       "      <td>0.000000</td>\n",
       "      <td>3.000000</td>\n",
       "    </tr>\n",
       "    <tr>\n",
       "      <td>75%</td>\n",
       "      <td>89800.250000</td>\n",
       "      <td>1.000000</td>\n",
       "      <td>155.000000</td>\n",
       "      <td>2017.0</td>\n",
       "      <td>25.000000</td>\n",
       "      <td>23.000000</td>\n",
       "      <td>2.000000</td>\n",
       "      <td>3.00000</td>\n",
       "      <td>2.000000</td>\n",
       "      <td>0.000000</td>\n",
       "      <td>0.000000</td>\n",
       "      <td>0.000000</td>\n",
       "      <td>0.000000</td>\n",
       "      <td>0.000000</td>\n",
       "      <td>0.000000</td>\n",
       "      <td>0.000000</td>\n",
       "      <td>0.000000</td>\n",
       "      <td>1.000000</td>\n",
       "      <td>4.000000</td>\n",
       "    </tr>\n",
       "    <tr>\n",
       "      <td>max</td>\n",
       "      <td>97903.000000</td>\n",
       "      <td>1.000000</td>\n",
       "      <td>373.000000</td>\n",
       "      <td>2017.0</td>\n",
       "      <td>35.000000</td>\n",
       "      <td>31.000000</td>\n",
       "      <td>4.000000</td>\n",
       "      <td>6.00000</td>\n",
       "      <td>4.000000</td>\n",
       "      <td>3.000000</td>\n",
       "      <td>2.000000</td>\n",
       "      <td>1.000000</td>\n",
       "      <td>6.000000</td>\n",
       "      <td>72.000000</td>\n",
       "      <td>18.000000</td>\n",
       "      <td>223.000000</td>\n",
       "      <td>8.000000</td>\n",
       "      <td>5.000000</td>\n",
       "      <td>10.000000</td>\n",
       "    </tr>\n",
       "  </tbody>\n",
       "</table>\n",
       "</div>"
      ],
      "text/plain": [
       "                 id   is_canceled     lead_time  arrival_date_year  \\\n",
       "count  32412.000000  32412.000000  32412.000000            32412.0   \n",
       "mean   60131.505183      0.388467     97.587869             2017.0   \n",
       "std    29953.586177      0.487409     86.507146                0.0   \n",
       "min     6086.000000      0.000000      0.000000             2017.0   \n",
       "25%    45291.750000      0.000000     23.000000             2017.0   \n",
       "50%    53394.500000      0.000000     76.000000             2017.0   \n",
       "75%    89800.250000      1.000000    155.000000             2017.0   \n",
       "max    97903.000000      1.000000    373.000000             2017.0   \n",
       "\n",
       "       arrival_date_week_number  arrival_date_day_of_month  \\\n",
       "count              32412.000000               32412.000000   \n",
       "mean                  17.804054                  15.656948   \n",
       "std                    9.177384                   8.766429   \n",
       "min                    1.000000                   1.000000   \n",
       "25%                   10.000000                   8.000000   \n",
       "50%                   18.000000                  15.500000   \n",
       "75%                   25.000000                  23.000000   \n",
       "max                   35.000000                  31.000000   \n",
       "\n",
       "       stays_in_weekend_nights  stays_in_week_nights        adults  \\\n",
       "count             32412.000000           32412.00000  32412.000000   \n",
       "mean                  0.867888               2.34009      1.858602   \n",
       "std                   0.853394               1.37517      0.489341   \n",
       "min                   0.000000               0.00000      0.000000   \n",
       "25%                   0.000000               1.00000      2.000000   \n",
       "50%                   1.000000               2.00000      2.000000   \n",
       "75%                   2.000000               3.00000      2.000000   \n",
       "max                   4.000000               6.00000      4.000000   \n",
       "\n",
       "           children        babies  is_repeated_guest  previous_cancellations  \\\n",
       "count  32412.000000  32412.000000       32412.000000            32412.000000   \n",
       "mean       0.083765      0.005523           0.031377                0.011601   \n",
       "std        0.343470      0.075757           0.174338                0.180473   \n",
       "min        0.000000      0.000000           0.000000                0.000000   \n",
       "25%        0.000000      0.000000           0.000000                0.000000   \n",
       "50%        0.000000      0.000000           0.000000                0.000000   \n",
       "75%        0.000000      0.000000           0.000000                0.000000   \n",
       "max        3.000000      2.000000           1.000000                6.000000   \n",
       "\n",
       "       previous_bookings_not_canceled  booking_changes  days_in_waiting_list  \\\n",
       "count                    32412.000000     32412.000000          32412.000000   \n",
       "mean                         0.171418         0.216741              0.262341   \n",
       "std                          1.875170         0.640551              4.733027   \n",
       "min                          0.000000         0.000000              0.000000   \n",
       "25%                          0.000000         0.000000              0.000000   \n",
       "50%                          0.000000         0.000000              0.000000   \n",
       "75%                          0.000000         0.000000              0.000000   \n",
       "max                         72.000000        18.000000            223.000000   \n",
       "\n",
       "       required_car_parking_spaces  total_of_special_requests  total_nights  \n",
       "count                 32412.000000               32412.000000  32412.000000  \n",
       "mean                      0.046248                   0.657781      3.207979  \n",
       "std                       0.219367                   0.834341      1.738683  \n",
       "min                       0.000000                   0.000000      1.000000  \n",
       "25%                       0.000000                   0.000000      2.000000  \n",
       "50%                       0.000000                   0.000000      3.000000  \n",
       "75%                       0.000000                   1.000000      4.000000  \n",
       "max                       8.000000                   5.000000     10.000000  "
      ]
     },
     "execution_count": 11,
     "metadata": {},
     "output_type": "execute_result"
    }
   ],
   "source": [
    "df_test.describe()"
   ]
  },
  {
   "cell_type": "code",
   "execution_count": 12,
   "metadata": {
    "scrolled": true
   },
   "outputs": [
    {
     "data": {
      "image/png": "[encoded data removed]",
      "text/plain": [
       "<Figure size 576x360 with 1 Axes>"
      ]
     },
     "metadata": {
      "needs_background": "light"
     },
     "output_type": "display_data"
    },
    {
     "data": {
      "image/png": "[encoded data removed]",
      "text/plain": [
       "<Figure size 576x360 with 1 Axes>"
      ]
     },
     "metadata": {
      "needs_background": "light"
     },
     "output_type": "display_data"
    },
    {
     "name": "stderr",
     "output_type": "stream",
     "text": [
      "/opt/conda/lib/python3.7/site-packages/statsmodels/nonparametric/kde.py:487: RuntimeWarning: invalid value encountered in true_divide\n",
      "  binned = fast_linbin(X, a, b, gridsize) / (delta * nobs)\n",
      "/opt/conda/lib/python3.7/site-packages/statsmodels/nonparametric/kdetools.py:34: RuntimeWarning: invalid value encountered in double_scalars\n",
      "  FAC1 = 2*(np.pi*bw/RANGE)**2\n"
     ]
    },
    {
     "data": {
      "image/png": "[encoded data removed]",
      "text/plain": [
       "<Figure size 576x360 with 1 Axes>"
      ]
     },
     "metadata": {
      "needs_background": "light"
     },
     "output_type": "display_data"
    },
    {
     "data": {
      "image/png": "[encoded data removed]",
      "text/plain": [
       "<Figure size 576x360 with 1 Axes>"
      ]
     },
     "metadata": {
      "needs_background": "light"
     },
     "output_type": "display_data"
    },
    {
     "data": {
      "image/png": "[encoded data removed]",
      "text/plain": [
       "<Figure size 576x360 with 1 Axes>"
      ]
     },
     "metadata": {
      "needs_background": "light"
     },
     "output_type": "display_data"
    },
    {
     "data": {
      "image/png": "[encoded data removed]",
      "text/plain": [
       "<Figure size 576x360 with 1 Axes>"
      ]
     },
     "metadata": {
      "needs_background": "light"
     },
     "output_type": "display_data"
    },
    {
     "data": {
      "image/png": "[encoded data removed]",
      "text/plain": [
       "<Figure size 576x360 with 1 Axes>"
      ]
     },
     "metadata": {
      "needs_background": "light"
     },
     "output_type": "display_data"
    },
    {
     "data": {
      "image/png": "[encoded data removed]",
      "text/plain": [
       "<Figure size 576x360 with 1 Axes>"
      ]
     },
     "metadata": {
      "needs_background": "light"
     },
     "output_type": "display_data"
    },
    {
     "data": {
      "image/png": "[encoded data removed]",
      "text/plain": [
       "<Figure size 576x360 with 1 Axes>"
      ]
     },
     "metadata": {
      "needs_background": "light"
     },
     "output_type": "display_data"
    },
    {
     "data": {
      "image/png": "[encoded data removed]",
      "text/plain": [
       "<Figure size 576x360 with 1 Axes>"
      ]
     },
     "metadata": {
      "needs_background": "light"
     },
     "output_type": "display_data"
    },
    {
     "data": {
      "image/png": "[encoded data removed]",
      "text/plain": [
       "<Figure size 576x360 with 1 Axes>"
      ]
     },
     "metadata": {
      "needs_background": "light"
     },
     "output_type": "display_data"
    },
    {
     "data": {
      "image/png": "[encoded data removed]",
      "text/plain": [
       "<Figure size 576x360 with 1 Axes>"
      ]
     },
     "metadata": {
      "needs_background": "light"
     },
     "output_type": "display_data"
    },
    {
     "data": {
      "image/png": "[encoded data removed]",
      "text/plain": [
       "<Figure size 576x360 with 1 Axes>"
      ]
     },
     "metadata": {
      "needs_background": "light"
     },
     "output_type": "display_data"
    },
    {
     "data": {
      "image/png": "[encoded data removed]",
      "text/plain": [
       "<Figure size 576x360 with 1 Axes>"
      ]
     },
     "metadata": {
      "needs_background": "light"
     },
     "output_type": "display_data"
    },
    {
     "data": {
      "image/png": "[encoded data removed]",
      "text/plain": [
       "<Figure size 576x360 with 1 Axes>"
      ]
     },
     "metadata": {
      "needs_background": "light"
     },
     "output_type": "display_data"
    },
    {
     "data": {
      "image/png": "[encoded data removed]",
      "text/plain": [
       "<Figure size 576x360 with 1 Axes>"
      ]
     },
     "metadata": {
      "needs_background": "light"
     },
     "output_type": "display_data"
    },
    {
     "data": {
      "image/png": "[encoded data removed]",
      "text/plain": [
       "<Figure size 576x360 with 1 Axes>"
      ]
     },
     "metadata": {
      "needs_background": "light"
     },
     "output_type": "display_data"
    },
    {
     "data": {
      "image/png": "[encoded data removed]",
      "text/plain": [
       "<Figure size 576x360 with 1 Axes>"
      ]
     },
     "metadata": {
      "needs_background": "light"
     },
     "output_type": "display_data"
    }
   ],
   "source": [
    "import matplotlib.pyplot as plt\n",
    "import seaborn as sns\n",
    "\n",
    "a = ['is_canceled',\n",
    "'lead_time',\n",
    "'arrival_date_year',\n",
    "'arrival_date_week_number',\n",
    "'arrival_date_day_of_month',\n",
    "'stays_in_weekend_nights',\n",
    "'stays_in_week_nights',\n",
    "'adults',\n",
    "'children',\n",
    "'babies',\n",
    "'is_repeated_guest',\n",
    "'previous_cancellations',\n",
    "'previous_bookings_not_canceled',\n",
    "'booking_changes',\n",
    "'days_in_waiting_list',\n",
    "'required_car_parking_spaces',\n",
    "'total_of_special_requests',\n",
    "'total_nights']\n",
    "for aa in a:\n",
    "    plt.figure(figsize=(8,5))\n",
    "    ax = sns.distplot(df_test[aa])\n",
    "    plt.show()"
   ]
  },
  {
   "cell_type": "code",
   "execution_count": 13,
   "metadata": {
    "scrolled": true
   },
   "outputs": [
    {
     "data": {
      "image/png": "[encoded data removed]",
      "text/plain": [
       "<Figure size 576x360 with 1 Axes>"
      ]
     },
     "metadata": {
      "needs_background": "light"
     },
     "output_type": "display_data"
    },
    {
     "data": {
      "image/png": "[encoded data removed]",
      "text/plain": [
       "<Figure size 576x360 with 1 Axes>"
      ]
     },
     "metadata": {
      "needs_background": "light"
     },
     "output_type": "display_data"
    },
    {
     "data": {
      "image/png": "[encoded data removed]",
      "text/plain": [
       "<Figure size 576x360 with 1 Axes>"
      ]
     },
     "metadata": {
      "needs_background": "light"
     },
     "output_type": "display_data"
    },
    {
     "data": {
      "image/png": "[encoded data removed]",
      "text/plain": [
       "<Figure size 576x360 with 1 Axes>"
      ]
     },
     "metadata": {
      "needs_background": "light"
     },
     "output_type": "display_data"
    },
    {
     "data": {
      "image/png": "[encoded data removed]",
      "text/plain": [
       "<Figure size 576x360 with 1 Axes>"
      ]
     },
     "metadata": {
      "needs_background": "light"
     },
     "output_type": "display_data"
    },
    {
     "data": {
      "image/png": "[encoded data removed]",
      "text/plain": [
       "<Figure size 576x360 with 1 Axes>"
      ]
     },
     "metadata": {
      "needs_background": "light"
     },
     "output_type": "display_data"
    },
    {
     "data": {
      "image/png": "[encoded data removed]",
      "text/plain": [
       "<Figure size 576x360 with 1 Axes>"
      ]
     },
     "metadata": {
      "needs_background": "light"
     },
     "output_type": "display_data"
    },
    {
     "data": {
      "image/png": "[encoded data removed]",
      "text/plain": [
       "<Figure size 576x360 with 1 Axes>"
      ]
     },
     "metadata": {
      "needs_background": "light"
     },
     "output_type": "display_data"
    },
    {
     "data": {
      "image/png": "[encoded data removed]",
      "text/plain": [
       "<Figure size 576x360 with 1 Axes>"
      ]
     },
     "metadata": {
      "needs_background": "light"
     },
     "output_type": "display_data"
    },
    {
     "data": {
      "image/png": "[encoded data removed]",
      "text/plain": [
       "<Figure size 576x360 with 1 Axes>"
      ]
     },
     "metadata": {
      "needs_background": "light"
     },
     "output_type": "display_data"
    },
    {
     "data": {
      "image/png": "[encoded data removed]",
      "text/plain": [
       "<Figure size 576x360 with 1 Axes>"
      ]
     },
     "metadata": {
      "needs_background": "light"
     },
     "output_type": "display_data"
    },
    {
     "data": {
      "image/png": "[encoded data removed]",
      "text/plain": [
       "<Figure size 576x360 with 1 Axes>"
      ]
     },
     "metadata": {
      "needs_background": "light"
     },
     "output_type": "display_data"
    },
    {
     "data": {
      "image/png": "[encoded data removed]",
      "text/plain": [
       "<Figure size 576x360 with 1 Axes>"
      ]
     },
     "metadata": {
      "needs_background": "light"
     },
     "output_type": "display_data"
    },
    {
     "data": {
      "image/png": "[encoded data removed]",
      "text/plain": [
       "<Figure size 576x360 with 1 Axes>"
      ]
     },
     "metadata": {
      "needs_background": "light"
     },
     "output_type": "display_data"
    },
    {
     "data": {
      "image/png": "[encoded data removed]",
      "text/plain": [
       "<Figure size 576x360 with 1 Axes>"
      ]
     },
     "metadata": {
      "needs_background": "light"
     },
     "output_type": "display_data"
    },
    {
     "data": {
      "image/png": "[encoded data removed]",
      "text/plain": [
       "<Figure size 576x360 with 1 Axes>"
      ]
     },
     "metadata": {
      "needs_background": "light"
     },
     "output_type": "display_data"
    },
    {
     "data": {
      "image/png": "[encoded data removed]",
      "text/plain": [
       "<Figure size 576x360 with 1 Axes>"
      ]
     },
     "metadata": {
      "needs_background": "light"
     },
     "output_type": "display_data"
    },
    {
     "data": {
      "image/png": "[encoded data removed]",
      "text/plain": [
       "<Figure size 576x360 with 1 Axes>"
      ]
     },
     "metadata": {
      "needs_background": "light"
     },
     "output_type": "display_data"
    }
   ],
   "source": [
    "for aa in a:\n",
    "    plt.figure(figsize=(8,5))\n",
    "    ax = sns.distplot(df_train[aa])\n",
    "    plt.show()"
   ]
  },
  {
   "cell_type": "markdown",
   "metadata": {},
   "source": [
    "__ВЫВОД: Данные подготовлены к дальнейшей работе, а целевой признак практически одинаково распределен в тестовом и тренировочном датасете.__ Можно сказать что выбросов нет данные нормальные"
   ]
  },
  {
   "cell_type": "code",
   "execution_count": 14,
   "metadata": {},
   "outputs": [],
   "source": [
    "### код ревьюера\n",
    "# df_train['previous_bookings_not_canceled'].value_counts().sort_index()"
   ]
  },
  {
   "cell_type": "markdown",
   "metadata": {},
   "source": [
    "### Шаг 3. Формулировка ML-задачи на основе бизнес-задачи"
   ]
  },
  {
   "cell_type": "markdown",
   "metadata": {},
   "source": [
    "__Сформулируем требование к нашей ML модели.__  \n",
    "Задача предсказать максимальное количесво людей котрые откажутся и взять с них 80% стоимости номера за одни сутки.   \n",
    "Эта сумма за год, должна превыщать 400 000₽ потраченных на разработку модели.  \n",
    "В качестве целевого признака будем использовать: `is_canceled` — отмена заказа.  \n",
    "В качесве признаков предполагаю использовать:  \n",
    "* `babies` — количество младенцев;\n",
    "* `booking_changes` — количество изменений параметров заказа;\n",
    "* `children` — количество детей от 3 до 14 лет;\n",
    "* `customer_type` — тип заказчика;\n",
    "* `days_in_waiting_list` — сколько дней заказ ожидал подтверждения;\n",
    "* `previous_bookings_not_canceled` — количество подтверждённых заказов у клиента;\n",
    "* `previous_cancellations` – количество отменённых заказов у клиента;\n",
    "* `reserved_room_type` — тип забронированной комнаты;\n",
    "* `lead_time` — количество дней между датой бронирования и датой прибытия;\n",
    "* `is_repeated_guest` — признак того, что гость бронирует номер второй раз;\n",
    "Добавим их в отдельный список.  \n",
    "И получим __дамми признаки__ для следующих столбцов:\n",
    "`customer_type`, `reserved_room_type`"
   ]
  },
  {
   "cell_type": "code",
   "execution_count": 15,
   "metadata": {},
   "outputs": [],
   "source": [
    "features2 = ['adults',\n",
    "             'arrival_date_month',\n",
    "             'arrival_date_week_number',\n",
    "             'arrival_date_day_of_month',\n",
    "             'babies',\n",
    "             'booking_changes',\n",
    "             'children',\n",
    "             'country',\n",
    "             'customer_type',\n",
    "             'days_in_waiting_list',\n",
    "             'distribution_channel',\n",
    "             'is_repeated_guest',\n",
    "             'lead_time',\n",
    "             'meal',\n",
    "             'previous_bookings_not_canceled',\n",
    "             'previous_cancellations',\n",
    "             'required_car_parking_spaces',\n",
    "             'reserved_room_type',\n",
    "             'stays_in_weekend_nights',\n",
    "             'stays_in_week_nights',\n",
    "             'total_nights',\n",
    "             'total_of_special_requests']"
   ]
  },
  {
   "cell_type": "code",
   "execution_count": 16,
   "metadata": {},
   "outputs": [],
   "source": [
    "target = ['is_canceled']\n",
    "features = ['previous_bookings_not_canceled',\n",
    "            'previous_cancellations',\n",
    "            'reserved_room_type',\n",
    "            'lead_time',\n",
    "            'is_repeated_guest',\n",
    "            'babies',\n",
    "            'booking_changes',\n",
    "            'children',\n",
    "            'customer_type',\n",
    "            'days_in_waiting_list']"
   ]
  },
  {
   "cell_type": "code",
   "execution_count": 17,
   "metadata": {},
   "outputs": [
    {
     "data": {
      "text/html": [
       "<div>\n",
       "<style scoped>\n",
       "    .dataframe tbody tr th:only-of-type {\n",
       "        vertical-align: middle;\n",
       "    }\n",
       "\n",
       "    .dataframe tbody tr th {\n",
       "        vertical-align: top;\n",
       "    }\n",
       "\n",
       "    .dataframe thead th {\n",
       "        text-align: right;\n",
       "    }\n",
       "</style>\n",
       "<table border=\"1\" class=\"dataframe\">\n",
       "  <thead>\n",
       "    <tr style=\"text-align: right;\">\n",
       "      <th></th>\n",
       "      <th>is_canceled</th>\n",
       "    </tr>\n",
       "  </thead>\n",
       "  <tbody>\n",
       "    <tr>\n",
       "      <td>id</td>\n",
       "      <td>-0.241910</td>\n",
       "    </tr>\n",
       "    <tr>\n",
       "      <td>is_canceled</td>\n",
       "      <td>1.000000</td>\n",
       "    </tr>\n",
       "    <tr>\n",
       "      <td>lead_time</td>\n",
       "      <td>0.328142</td>\n",
       "    </tr>\n",
       "    <tr>\n",
       "      <td>total_of_special_requests</td>\n",
       "      <td>-0.257061</td>\n",
       "    </tr>\n",
       "  </tbody>\n",
       "</table>\n",
       "</div>"
      ],
      "text/plain": [
       "                           is_canceled\n",
       "id                           -0.241910\n",
       "is_canceled                   1.000000\n",
       "lead_time                     0.328142\n",
       "total_of_special_requests    -0.257061"
      ]
     },
     "execution_count": 17,
     "metadata": {},
     "output_type": "execute_result"
    }
   ],
   "source": [
    "# Посмотрим накорреляцию вообще всех цифровых параметров\n",
    "corr = pd.DataFrame(df_train.corr()['is_canceled'])\n",
    "# Сохраним цифровые столбцы в отдельный список.\n",
    "digital_column = list(corr.index)\n",
    "# посмотрим на все значения корреляции относительно столбца is_canceled — отмена заказа\n",
    "corr[(corr['is_canceled'] > 0.2) | (corr['is_canceled'] < -0.2)]"
   ]
  },
  {
   "cell_type": "markdown",
   "metadata": {},
   "source": [
    "Что-то так себе картина да еще и `id` c `is_canceled` сюда попали. Сохраним в отдельный список все столбцы кроме `id` и `is_canceled`."
   ]
  },
  {
   "cell_type": "code",
   "execution_count": 18,
   "metadata": {},
   "outputs": [],
   "source": [
    "features_for_model = list(set(corr[(corr['is_canceled'] > 0.2) | (corr['is_canceled'] < -0.2)].index) - set(['id', 'is_canceled']))"
   ]
  },
  {
   "cell_type": "markdown",
   "metadata": {},
   "source": [
    "Посомтрим, что осталось из не исследованных столбцов"
   ]
  },
  {
   "cell_type": "code",
   "execution_count": 19,
   "metadata": {
    "scrolled": true
   },
   "outputs": [
    {
     "name": "stdout",
     "output_type": "stream",
     "text": [
      "country\n",
      "                     is_canceled\n",
      "country is_canceled             \n",
      "ABW     0                      1\n",
      "AGO     0                     85\n",
      "        1                     55\n",
      "ALB     0                      6\n",
      "        1                      1\n",
      "...                          ...\n",
      "VNM     1                      2\n",
      "ZAF     0                     21\n",
      "        1                     15\n",
      "ZMB     1                      1\n",
      "ZWE     0                      1\n",
      "\n",
      "[252 rows x 1 columns]\n",
      "                     is_canceled\n",
      "country is_canceled             \n",
      "ABW     0               1.000000\n",
      "AGO     0               0.607143\n",
      "        1               0.392857\n",
      "ALB     0               0.857143\n",
      "        1               0.142857\n",
      "...                          ...\n",
      "VNM     1               0.400000\n",
      "ZAF     0               0.583333\n",
      "        1               0.416667\n",
      "ZMB     1               1.000000\n",
      "ZWE     0               1.000000\n",
      "\n",
      "[252 rows x 1 columns]\n",
      "\n",
      "\n",
      "\n",
      "customer_type\n",
      "                             is_canceled\n",
      "customer_type   is_canceled             \n",
      "Contract        0                   1656\n",
      "                1                   1090\n",
      "Group           0                    263\n",
      "                1                     24\n",
      "Transient       0                  27476\n",
      "                1                  18017\n",
      "Transient-Party 0                  11790\n",
      "                1                   4913\n",
      "                             is_canceled\n",
      "customer_type   is_canceled             \n",
      "Contract        0               0.603059\n",
      "                1               0.396941\n",
      "Group           0               0.916376\n",
      "                1               0.083624\n",
      "Transient       0               0.603961\n",
      "                1               0.396039\n",
      "Transient-Party 0               0.705861\n",
      "                1               0.294139\n",
      "\n",
      "\n",
      "\n",
      "distribution_channel\n",
      "                                  is_canceled\n",
      "distribution_channel is_canceled             \n",
      "Corporate            0                   2992\n",
      "                     1                    831\n",
      "Direct               0                   5665\n",
      "                     1                   1188\n",
      "GDS                  0                     80\n",
      "                     1                     19\n",
      "TA/TO                0                  32448\n",
      "                     1                  22006\n",
      "                                  is_canceled\n",
      "distribution_channel is_canceled             \n",
      "Corporate            0               0.782631\n",
      "                     1               0.217369\n",
      "Direct               0               0.826645\n",
      "                     1               0.173355\n",
      "GDS                  0               0.808081\n",
      "                     1               0.191919\n",
      "TA/TO                0               0.595879\n",
      "                     1               0.404121\n",
      "\n",
      "\n",
      "\n",
      "arrival_date_month\n",
      "                                is_canceled\n",
      "arrival_date_month is_canceled             \n",
      "April              0                   2918\n",
      "                   1                   1886\n",
      "August             0                   4081\n",
      "                   1                   2597\n",
      "December           0                   3584\n",
      "                   1                   1913\n",
      "February           0                   2176\n",
      "                   1                   1182\n",
      "January            0                   1405\n",
      "                   1                    487\n",
      "July               0                   3497\n",
      "                   1                   2221\n",
      "June               0                   2728\n",
      "                   1                   1931\n",
      "March              0                   2871\n",
      "                   1                   1277\n",
      "May                0                   3004\n",
      "                   1                   1673\n",
      "November           0                   3937\n",
      "                   1                   1824\n",
      "October            0                   5689\n",
      "                   1                   3566\n",
      "September          0                   5295\n",
      "                   1                   3487\n",
      "                                is_canceled\n",
      "arrival_date_month is_canceled             \n",
      "April              0               0.607410\n",
      "                   1               0.392590\n",
      "August             0               0.611111\n",
      "                   1               0.388889\n",
      "December           0               0.651992\n",
      "                   1               0.348008\n",
      "February           0               0.648005\n",
      "                   1               0.351995\n",
      "January            0               0.742600\n",
      "                   1               0.257400\n",
      "July               0               0.611577\n",
      "                   1               0.388423\n",
      "June               0               0.585533\n",
      "                   1               0.414467\n",
      "March              0               0.692141\n",
      "                   1               0.307859\n",
      "May                0               0.642292\n",
      "                   1               0.357708\n",
      "November           0               0.683388\n",
      "                   1               0.316612\n",
      "October            0               0.614695\n",
      "                   1               0.385305\n",
      "September          0               0.602938\n",
      "                   1               0.397062\n",
      "\n",
      "\n",
      "\n",
      "reserved_room_type\n",
      "                                is_canceled\n",
      "reserved_room_type is_canceled             \n",
      "A                  0                  30779\n",
      "                   1                  19722\n",
      "B                  0                    599\n",
      "                   1                    261\n",
      "C                  0                    185\n",
      "                   1                     43\n",
      "D                  0                   6516\n",
      "                   1                   2871\n",
      "E                  0                   1840\n",
      "                   1                    608\n",
      "F                  0                    865\n",
      "                   1                    348\n",
      "G                  0                    401\n",
      "                   1                    191\n",
      "                                is_canceled\n",
      "reserved_room_type is_canceled             \n",
      "A                  0               0.609473\n",
      "                   1               0.390527\n",
      "B                  0               0.696512\n",
      "                   1               0.303488\n",
      "C                  0               0.811404\n",
      "                   1               0.188596\n",
      "D                  0               0.694151\n",
      "                   1               0.305849\n",
      "E                  0               0.751634\n",
      "                   1               0.248366\n",
      "F                  0               0.713108\n",
      "                   1               0.286892\n",
      "G                  0               0.677365\n",
      "                   1               0.322635\n",
      "\n",
      "\n",
      "\n",
      "meal\n",
      "                       is_canceled\n",
      "meal      is_canceled             \n",
      "BB        0                  32762\n",
      "          1                  18935\n",
      "FB        1                    311\n",
      "          0                    140\n",
      "HB        0                   4484\n",
      "          1                   2808\n",
      "SC        0                    375\n",
      "          1                    140\n",
      "SC        0                   3424\n",
      "          1                   1850\n",
      "                       is_canceled\n",
      "meal      is_canceled             \n",
      "BB        0               0.633731\n",
      "          1               0.366269\n",
      "FB        1               0.689579\n",
      "          0               0.310421\n",
      "HB        0               0.614920\n",
      "          1               0.385080\n",
      "SC        0               0.728155\n",
      "          1               0.271845\n",
      "SC        0               0.649223\n",
      "          1               0.350777\n",
      "\n",
      "\n",
      "\n"
     ]
    }
   ],
   "source": [
    "features2 = list(set(features2) - set(digital_column))\n",
    "for f in features2:\n",
    "    print(f)\n",
    "    print(pd.DataFrame(df_train.groupby([f])['is_canceled'].value_counts()))\n",
    "    print(pd.DataFrame(df_train.groupby([f])['is_canceled'].value_counts(normalize=True)))\n",
    "    print('\\n\\n')"
   ]
  },
  {
   "cell_type": "code",
   "execution_count": 20,
   "metadata": {
    "scrolled": true
   },
   "outputs": [
    {
     "data": {
      "image/png": "[encoded data removed]",
      "text/plain": [
       "<Figure size 2160x720 with 1 Axes>"
      ]
     },
     "metadata": {
      "needs_background": "light"
     },
     "output_type": "display_data"
    },
    {
     "data": {
      "image/png": "[encoded data removed]",
      "text/plain": [
       "<Figure size 2160x720 with 1 Axes>"
      ]
     },
     "metadata": {
      "needs_background": "light"
     },
     "output_type": "display_data"
    },
    {
     "data": {
      "image/png": "[encoded data removed]",
      "text/plain": [
       "<Figure size 2160x720 with 1 Axes>"
      ]
     },
     "metadata": {
      "needs_background": "light"
     },
     "output_type": "display_data"
    },
    {
     "data": {
      "image/png": "[encoded data removed]",
      "text/plain": [
       "<Figure size 2160x720 with 1 Axes>"
      ]
     },
     "metadata": {
      "needs_background": "light"
     },
     "output_type": "display_data"
    },
    {
     "data": {
      "image/png": "[encoded data removed]",
      "text/plain": [
       "<Figure size 2160x720 with 1 Axes>"
      ]
     },
     "metadata": {
      "needs_background": "light"
     },
     "output_type": "display_data"
    },
    {
     "data": {
      "image/png": "[encoded data removed]",
      "text/plain": [
       "<Figure size 2160x720 with 1 Axes>"
      ]
     },
     "metadata": {
      "needs_background": "light"
     },
     "output_type": "display_data"
    }
   ],
   "source": [
    "for f in features2:\n",
    "    g = sns.catplot(data=df_train.groupby([f])['is_canceled'].value_counts(normalize=True).reset_index(name = 'count'), kind='bar', x=f, y='count', hue='is_canceled',  height=6)\n",
    "    g.fig.set_figheight (10)\n",
    "    g.fig.set_figwidth (30)\n",
    "    g.fig.suptitle(f)\n",
    "    plt.xticks(rotation=90)"
   ]
  },
  {
   "cell_type": "markdown",
   "metadata": {},
   "source": [
    "Чёт яснее не стало. Посомтрим только на процент нулей в наборах"
   ]
  },
  {
   "cell_type": "code",
   "execution_count": 21,
   "metadata": {
    "scrolled": true
   },
   "outputs": [
    {
     "name": "stdout",
     "output_type": "stream",
     "text": [
      "Максимум 1.0, Минимум 0.11538461538461539, Среднее 0.7863832476529087\n"
     ]
    },
    {
     "data": {
      "text/html": [
       "<div>\n",
       "<style scoped>\n",
       "    .dataframe tbody tr th:only-of-type {\n",
       "        vertical-align: middle;\n",
       "    }\n",
       "\n",
       "    .dataframe tbody tr th {\n",
       "        vertical-align: top;\n",
       "    }\n",
       "\n",
       "    .dataframe thead th {\n",
       "        text-align: right;\n",
       "    }\n",
       "</style>\n",
       "<table border=\"1\" class=\"dataframe\">\n",
       "  <thead>\n",
       "    <tr style=\"text-align: right;\">\n",
       "      <th></th>\n",
       "      <th>country</th>\n",
       "      <th>is_canceled</th>\n",
       "      <th>count</th>\n",
       "    </tr>\n",
       "  </thead>\n",
       "  <tbody>\n",
       "    <tr>\n",
       "      <td>0</td>\n",
       "      <td>ABW</td>\n",
       "      <td>0.0</td>\n",
       "      <td>1.000000</td>\n",
       "    </tr>\n",
       "    <tr>\n",
       "      <td>1</td>\n",
       "      <td>AGO</td>\n",
       "      <td>0.0</td>\n",
       "      <td>0.607143</td>\n",
       "    </tr>\n",
       "    <tr>\n",
       "      <td>3</td>\n",
       "      <td>ALB</td>\n",
       "      <td>0.0</td>\n",
       "      <td>0.857143</td>\n",
       "    </tr>\n",
       "    <tr>\n",
       "      <td>7</td>\n",
       "      <td>ARE</td>\n",
       "      <td>0.0</td>\n",
       "      <td>0.115385</td>\n",
       "    </tr>\n",
       "    <tr>\n",
       "      <td>8</td>\n",
       "      <td>ARG</td>\n",
       "      <td>0.0</td>\n",
       "      <td>0.803738</td>\n",
       "    </tr>\n",
       "    <tr>\n",
       "      <td>...</td>\n",
       "      <td>...</td>\n",
       "      <td>...</td>\n",
       "      <td>...</td>\n",
       "    </tr>\n",
       "    <tr>\n",
       "      <td>240</td>\n",
       "      <td>USA</td>\n",
       "      <td>0.0</td>\n",
       "      <td>0.809524</td>\n",
       "    </tr>\n",
       "    <tr>\n",
       "      <td>243</td>\n",
       "      <td>VEN</td>\n",
       "      <td>0.0</td>\n",
       "      <td>0.550000</td>\n",
       "    </tr>\n",
       "    <tr>\n",
       "      <td>246</td>\n",
       "      <td>VNM</td>\n",
       "      <td>0.0</td>\n",
       "      <td>0.600000</td>\n",
       "    </tr>\n",
       "    <tr>\n",
       "      <td>248</td>\n",
       "      <td>ZAF</td>\n",
       "      <td>0.0</td>\n",
       "      <td>0.583333</td>\n",
       "    </tr>\n",
       "    <tr>\n",
       "      <td>251</td>\n",
       "      <td>ZWE</td>\n",
       "      <td>0.0</td>\n",
       "      <td>1.000000</td>\n",
       "    </tr>\n",
       "  </tbody>\n",
       "</table>\n",
       "<p>140 rows × 3 columns</p>\n",
       "</div>"
      ],
      "text/plain": [
       "    country  is_canceled     count\n",
       "0       ABW          0.0  1.000000\n",
       "1       AGO          0.0  0.607143\n",
       "3       ALB          0.0  0.857143\n",
       "7       ARE          0.0  0.115385\n",
       "8       ARG          0.0  0.803738\n",
       "..      ...          ...       ...\n",
       "240     USA          0.0  0.809524\n",
       "243     VEN          0.0  0.550000\n",
       "246     VNM          0.0  0.600000\n",
       "248     ZAF          0.0  0.583333\n",
       "251     ZWE          0.0  1.000000\n",
       "\n",
       "[140 rows x 3 columns]"
      ]
     },
     "execution_count": 21,
     "metadata": {},
     "output_type": "execute_result"
    }
   ],
   "source": [
    "t = df_train.groupby(features2[0])['is_canceled'].value_counts(normalize=True).reset_index(name = 'count')\n",
    "t = t.where(t.is_canceled == 0).dropna()\n",
    "print(f'Максимум {t[\"count\"].max()}, Минимум {t[\"count\"].min()}, Среднее {t[\"count\"].mean()}')\n",
    "t"
   ]
  },
  {
   "cell_type": "code",
   "execution_count": 22,
   "metadata": {},
   "outputs": [
    {
     "name": "stdout",
     "output_type": "stream",
     "text": [
      "Максимум 0.9163763066202091, Минимум 0.6030589949016751, Среднее 0.707314393252336\n"
     ]
    },
    {
     "data": {
      "text/html": [
       "<div>\n",
       "<style scoped>\n",
       "    .dataframe tbody tr th:only-of-type {\n",
       "        vertical-align: middle;\n",
       "    }\n",
       "\n",
       "    .dataframe tbody tr th {\n",
       "        vertical-align: top;\n",
       "    }\n",
       "\n",
       "    .dataframe thead th {\n",
       "        text-align: right;\n",
       "    }\n",
       "</style>\n",
       "<table border=\"1\" class=\"dataframe\">\n",
       "  <thead>\n",
       "    <tr style=\"text-align: right;\">\n",
       "      <th></th>\n",
       "      <th>customer_type</th>\n",
       "      <th>is_canceled</th>\n",
       "      <th>count</th>\n",
       "    </tr>\n",
       "  </thead>\n",
       "  <tbody>\n",
       "    <tr>\n",
       "      <td>0</td>\n",
       "      <td>Contract</td>\n",
       "      <td>0.0</td>\n",
       "      <td>0.603059</td>\n",
       "    </tr>\n",
       "    <tr>\n",
       "      <td>2</td>\n",
       "      <td>Group</td>\n",
       "      <td>0.0</td>\n",
       "      <td>0.916376</td>\n",
       "    </tr>\n",
       "    <tr>\n",
       "      <td>4</td>\n",
       "      <td>Transient</td>\n",
       "      <td>0.0</td>\n",
       "      <td>0.603961</td>\n",
       "    </tr>\n",
       "    <tr>\n",
       "      <td>6</td>\n",
       "      <td>Transient-Party</td>\n",
       "      <td>0.0</td>\n",
       "      <td>0.705861</td>\n",
       "    </tr>\n",
       "  </tbody>\n",
       "</table>\n",
       "</div>"
      ],
      "text/plain": [
       "     customer_type  is_canceled     count\n",
       "0         Contract          0.0  0.603059\n",
       "2            Group          0.0  0.916376\n",
       "4        Transient          0.0  0.603961\n",
       "6  Transient-Party          0.0  0.705861"
      ]
     },
     "execution_count": 22,
     "metadata": {},
     "output_type": "execute_result"
    }
   ],
   "source": [
    "pd.options.display.max_rows=1000\n",
    "t = df_train.groupby(features2[1])['is_canceled'].value_counts(normalize=True).reset_index(name = 'count')\n",
    "t = t.where(t.is_canceled == 0).dropna()\n",
    "print(f'Максимум {t[\"count\"].max()}, Минимум {t[\"count\"].min()}, Среднее {t[\"count\"].mean()}')\n",
    "t"
   ]
  },
  {
   "cell_type": "code",
   "execution_count": 23,
   "metadata": {},
   "outputs": [
    {
     "name": "stdout",
     "output_type": "stream",
     "text": [
      "Максимум 0.826645264847512, Минимум 0.595879090608587, Среднее 0.7533091512033478\n"
     ]
    },
    {
     "data": {
      "text/html": [
       "<div>\n",
       "<style scoped>\n",
       "    .dataframe tbody tr th:only-of-type {\n",
       "        vertical-align: middle;\n",
       "    }\n",
       "\n",
       "    .dataframe tbody tr th {\n",
       "        vertical-align: top;\n",
       "    }\n",
       "\n",
       "    .dataframe thead th {\n",
       "        text-align: right;\n",
       "    }\n",
       "</style>\n",
       "<table border=\"1\" class=\"dataframe\">\n",
       "  <thead>\n",
       "    <tr style=\"text-align: right;\">\n",
       "      <th></th>\n",
       "      <th>distribution_channel</th>\n",
       "      <th>is_canceled</th>\n",
       "      <th>count</th>\n",
       "    </tr>\n",
       "  </thead>\n",
       "  <tbody>\n",
       "    <tr>\n",
       "      <td>0</td>\n",
       "      <td>Corporate</td>\n",
       "      <td>0.0</td>\n",
       "      <td>0.782631</td>\n",
       "    </tr>\n",
       "    <tr>\n",
       "      <td>2</td>\n",
       "      <td>Direct</td>\n",
       "      <td>0.0</td>\n",
       "      <td>0.826645</td>\n",
       "    </tr>\n",
       "    <tr>\n",
       "      <td>4</td>\n",
       "      <td>GDS</td>\n",
       "      <td>0.0</td>\n",
       "      <td>0.808081</td>\n",
       "    </tr>\n",
       "    <tr>\n",
       "      <td>6</td>\n",
       "      <td>TA/TO</td>\n",
       "      <td>0.0</td>\n",
       "      <td>0.595879</td>\n",
       "    </tr>\n",
       "  </tbody>\n",
       "</table>\n",
       "</div>"
      ],
      "text/plain": [
       "  distribution_channel  is_canceled     count\n",
       "0            Corporate          0.0  0.782631\n",
       "2               Direct          0.0  0.826645\n",
       "4                  GDS          0.0  0.808081\n",
       "6                TA/TO          0.0  0.595879"
      ]
     },
     "execution_count": 23,
     "metadata": {},
     "output_type": "execute_result"
    }
   ],
   "source": [
    "t = df_train.groupby(features2[2])['is_canceled'].value_counts(normalize=True).reset_index(name = 'count')\n",
    "t = t.where(t.is_canceled == 0).dropna()\n",
    "print(f'Максимум {t[\"count\"].max()}, Минимум {t[\"count\"].min()}, Среднее {t[\"count\"].mean()}')\n",
    "t"
   ]
  },
  {
   "cell_type": "code",
   "execution_count": 24,
   "metadata": {},
   "outputs": [
    {
     "name": "stdout",
     "output_type": "stream",
     "text": [
      "Максимум 0.742600422832981, Минимум 0.5855333762610002, Среднее 0.6411402818659834\n"
     ]
    },
    {
     "data": {
      "text/html": [
       "<div>\n",
       "<style scoped>\n",
       "    .dataframe tbody tr th:only-of-type {\n",
       "        vertical-align: middle;\n",
       "    }\n",
       "\n",
       "    .dataframe tbody tr th {\n",
       "        vertical-align: top;\n",
       "    }\n",
       "\n",
       "    .dataframe thead th {\n",
       "        text-align: right;\n",
       "    }\n",
       "</style>\n",
       "<table border=\"1\" class=\"dataframe\">\n",
       "  <thead>\n",
       "    <tr style=\"text-align: right;\">\n",
       "      <th></th>\n",
       "      <th>arrival_date_month</th>\n",
       "      <th>is_canceled</th>\n",
       "      <th>count</th>\n",
       "    </tr>\n",
       "  </thead>\n",
       "  <tbody>\n",
       "    <tr>\n",
       "      <td>0</td>\n",
       "      <td>April</td>\n",
       "      <td>0.0</td>\n",
       "      <td>0.607410</td>\n",
       "    </tr>\n",
       "    <tr>\n",
       "      <td>2</td>\n",
       "      <td>August</td>\n",
       "      <td>0.0</td>\n",
       "      <td>0.611111</td>\n",
       "    </tr>\n",
       "    <tr>\n",
       "      <td>4</td>\n",
       "      <td>December</td>\n",
       "      <td>0.0</td>\n",
       "      <td>0.651992</td>\n",
       "    </tr>\n",
       "    <tr>\n",
       "      <td>6</td>\n",
       "      <td>February</td>\n",
       "      <td>0.0</td>\n",
       "      <td>0.648005</td>\n",
       "    </tr>\n",
       "    <tr>\n",
       "      <td>8</td>\n",
       "      <td>January</td>\n",
       "      <td>0.0</td>\n",
       "      <td>0.742600</td>\n",
       "    </tr>\n",
       "    <tr>\n",
       "      <td>10</td>\n",
       "      <td>July</td>\n",
       "      <td>0.0</td>\n",
       "      <td>0.611577</td>\n",
       "    </tr>\n",
       "    <tr>\n",
       "      <td>12</td>\n",
       "      <td>June</td>\n",
       "      <td>0.0</td>\n",
       "      <td>0.585533</td>\n",
       "    </tr>\n",
       "    <tr>\n",
       "      <td>14</td>\n",
       "      <td>March</td>\n",
       "      <td>0.0</td>\n",
       "      <td>0.692141</td>\n",
       "    </tr>\n",
       "    <tr>\n",
       "      <td>16</td>\n",
       "      <td>May</td>\n",
       "      <td>0.0</td>\n",
       "      <td>0.642292</td>\n",
       "    </tr>\n",
       "    <tr>\n",
       "      <td>18</td>\n",
       "      <td>November</td>\n",
       "      <td>0.0</td>\n",
       "      <td>0.683388</td>\n",
       "    </tr>\n",
       "    <tr>\n",
       "      <td>20</td>\n",
       "      <td>October</td>\n",
       "      <td>0.0</td>\n",
       "      <td>0.614695</td>\n",
       "    </tr>\n",
       "    <tr>\n",
       "      <td>22</td>\n",
       "      <td>September</td>\n",
       "      <td>0.0</td>\n",
       "      <td>0.602938</td>\n",
       "    </tr>\n",
       "  </tbody>\n",
       "</table>\n",
       "</div>"
      ],
      "text/plain": [
       "   arrival_date_month  is_canceled     count\n",
       "0               April          0.0  0.607410\n",
       "2              August          0.0  0.611111\n",
       "4            December          0.0  0.651992\n",
       "6            February          0.0  0.648005\n",
       "8             January          0.0  0.742600\n",
       "10               July          0.0  0.611577\n",
       "12               June          0.0  0.585533\n",
       "14              March          0.0  0.692141\n",
       "16                May          0.0  0.642292\n",
       "18           November          0.0  0.683388\n",
       "20            October          0.0  0.614695\n",
       "22          September          0.0  0.602938"
      ]
     },
     "execution_count": 24,
     "metadata": {},
     "output_type": "execute_result"
    }
   ],
   "source": [
    "t = df_train.groupby(features2[3])['is_canceled'].value_counts(normalize=True).reset_index(name = 'count')\n",
    "t = t.where(t.is_canceled == 0).dropna()\n",
    "print(f'Максимум {t[\"count\"].max()}, Минимум {t[\"count\"].min()}, Среднее {t[\"count\"].mean()}')\n",
    "t"
   ]
  },
  {
   "cell_type": "code",
   "execution_count": 25,
   "metadata": {},
   "outputs": [
    {
     "name": "stdout",
     "output_type": "stream",
     "text": [
      "Максимум 0.8114035087719298, Минимум 0.6094730797409952, Среднее 0.7076637930018652\n"
     ]
    },
    {
     "data": {
      "text/html": [
       "<div>\n",
       "<style scoped>\n",
       "    .dataframe tbody tr th:only-of-type {\n",
       "        vertical-align: middle;\n",
       "    }\n",
       "\n",
       "    .dataframe tbody tr th {\n",
       "        vertical-align: top;\n",
       "    }\n",
       "\n",
       "    .dataframe thead th {\n",
       "        text-align: right;\n",
       "    }\n",
       "</style>\n",
       "<table border=\"1\" class=\"dataframe\">\n",
       "  <thead>\n",
       "    <tr style=\"text-align: right;\">\n",
       "      <th></th>\n",
       "      <th>reserved_room_type</th>\n",
       "      <th>is_canceled</th>\n",
       "      <th>count</th>\n",
       "    </tr>\n",
       "  </thead>\n",
       "  <tbody>\n",
       "    <tr>\n",
       "      <td>0</td>\n",
       "      <td>A</td>\n",
       "      <td>0.0</td>\n",
       "      <td>0.609473</td>\n",
       "    </tr>\n",
       "    <tr>\n",
       "      <td>2</td>\n",
       "      <td>B</td>\n",
       "      <td>0.0</td>\n",
       "      <td>0.696512</td>\n",
       "    </tr>\n",
       "    <tr>\n",
       "      <td>4</td>\n",
       "      <td>C</td>\n",
       "      <td>0.0</td>\n",
       "      <td>0.811404</td>\n",
       "    </tr>\n",
       "    <tr>\n",
       "      <td>6</td>\n",
       "      <td>D</td>\n",
       "      <td>0.0</td>\n",
       "      <td>0.694151</td>\n",
       "    </tr>\n",
       "    <tr>\n",
       "      <td>8</td>\n",
       "      <td>E</td>\n",
       "      <td>0.0</td>\n",
       "      <td>0.751634</td>\n",
       "    </tr>\n",
       "    <tr>\n",
       "      <td>10</td>\n",
       "      <td>F</td>\n",
       "      <td>0.0</td>\n",
       "      <td>0.713108</td>\n",
       "    </tr>\n",
       "    <tr>\n",
       "      <td>12</td>\n",
       "      <td>G</td>\n",
       "      <td>0.0</td>\n",
       "      <td>0.677365</td>\n",
       "    </tr>\n",
       "  </tbody>\n",
       "</table>\n",
       "</div>"
      ],
      "text/plain": [
       "   reserved_room_type  is_canceled     count\n",
       "0    A                         0.0  0.609473\n",
       "2    B                         0.0  0.696512\n",
       "4    C                         0.0  0.811404\n",
       "6    D                         0.0  0.694151\n",
       "8    E                         0.0  0.751634\n",
       "10   F                         0.0  0.713108\n",
       "12   G                         0.0  0.677365"
      ]
     },
     "execution_count": 25,
     "metadata": {},
     "output_type": "execute_result"
    }
   ],
   "source": [
    "t = df_train.groupby(features2[4])['is_canceled'].value_counts(normalize=True).reset_index(name = 'count')\n",
    "t = t.where(t.is_canceled == 0).dropna()\n",
    "print(f'Максимум {t[\"count\"].max()}, Минимум {t[\"count\"].min()}, Среднее {t[\"count\"].mean()}')\n",
    "t"
   ]
  },
  {
   "cell_type": "code",
   "execution_count": 26,
   "metadata": {},
   "outputs": [
    {
     "name": "stdout",
     "output_type": "stream",
     "text": [
      "Максимум 0.7281553398058253, Минимум 0.31042128603104213, Среднее 0.5872901704682059\n"
     ]
    },
    {
     "data": {
      "text/html": [
       "<div>\n",
       "<style scoped>\n",
       "    .dataframe tbody tr th:only-of-type {\n",
       "        vertical-align: middle;\n",
       "    }\n",
       "\n",
       "    .dataframe tbody tr th {\n",
       "        vertical-align: top;\n",
       "    }\n",
       "\n",
       "    .dataframe thead th {\n",
       "        text-align: right;\n",
       "    }\n",
       "</style>\n",
       "<table border=\"1\" class=\"dataframe\">\n",
       "  <thead>\n",
       "    <tr style=\"text-align: right;\">\n",
       "      <th></th>\n",
       "      <th>meal</th>\n",
       "      <th>is_canceled</th>\n",
       "      <th>count</th>\n",
       "    </tr>\n",
       "  </thead>\n",
       "  <tbody>\n",
       "    <tr>\n",
       "      <td>0</td>\n",
       "      <td>BB</td>\n",
       "      <td>0.0</td>\n",
       "      <td>0.633731</td>\n",
       "    </tr>\n",
       "    <tr>\n",
       "      <td>3</td>\n",
       "      <td>FB</td>\n",
       "      <td>0.0</td>\n",
       "      <td>0.310421</td>\n",
       "    </tr>\n",
       "    <tr>\n",
       "      <td>4</td>\n",
       "      <td>HB</td>\n",
       "      <td>0.0</td>\n",
       "      <td>0.614920</td>\n",
       "    </tr>\n",
       "    <tr>\n",
       "      <td>6</td>\n",
       "      <td>SC</td>\n",
       "      <td>0.0</td>\n",
       "      <td>0.728155</td>\n",
       "    </tr>\n",
       "    <tr>\n",
       "      <td>8</td>\n",
       "      <td>SC</td>\n",
       "      <td>0.0</td>\n",
       "      <td>0.649223</td>\n",
       "    </tr>\n",
       "  </tbody>\n",
       "</table>\n",
       "</div>"
      ],
      "text/plain": [
       "        meal  is_canceled     count\n",
       "0  BB                 0.0  0.633731\n",
       "3  FB                 0.0  0.310421\n",
       "4  HB                 0.0  0.614920\n",
       "6         SC          0.0  0.728155\n",
       "8  SC                 0.0  0.649223"
      ]
     },
     "execution_count": 26,
     "metadata": {},
     "output_type": "execute_result"
    }
   ],
   "source": [
    "t = df_train.groupby(features2[5])['is_canceled'].value_counts(normalize=True).reset_index(name = 'count')\n",
    "t = t.where(t.is_canceled == 0).dropna()\n",
    "print(f'Максимум {t[\"count\"].max()}, Минимум {t[\"count\"].min()}, Среднее {t[\"count\"].mean()}')\n",
    "t"
   ]
  },
  {
   "cell_type": "markdown",
   "metadata": {},
   "source": [
    "Добавим к `features_for_model` еще `country` и `meal` т.к. их разброс от среднего и макисмального и минимальног показался мне подозрительным."
   ]
  },
  {
   "cell_type": "code",
   "execution_count": 27,
   "metadata": {},
   "outputs": [
    {
     "data": {
      "text/plain": [
       "['lead_time', 'total_of_special_requests', 'country', 'meal']"
      ]
     },
     "execution_count": 27,
     "metadata": {},
     "output_type": "execute_result"
    }
   ],
   "source": [
    "features_for_model.extend(['country', 'meal'])\n",
    "features_for_model"
   ]
  },
  {
   "cell_type": "code",
   "execution_count": 28,
   "metadata": {},
   "outputs": [
    {
     "data": {
      "text/html": [
       "<div>\n",
       "<style scoped>\n",
       "    .dataframe tbody tr th:only-of-type {\n",
       "        vertical-align: middle;\n",
       "    }\n",
       "\n",
       "    .dataframe tbody tr th {\n",
       "        vertical-align: top;\n",
       "    }\n",
       "\n",
       "    .dataframe thead th {\n",
       "        text-align: right;\n",
       "    }\n",
       "</style>\n",
       "<table border=\"1\" class=\"dataframe\">\n",
       "  <thead>\n",
       "    <tr style=\"text-align: right;\">\n",
       "      <th></th>\n",
       "      <th>lead_time</th>\n",
       "      <th>total_of_special_requests</th>\n",
       "      <th>country</th>\n",
       "      <th>meal</th>\n",
       "    </tr>\n",
       "  </thead>\n",
       "  <tbody>\n",
       "    <tr>\n",
       "      <td>0</td>\n",
       "      <td>7.0</td>\n",
       "      <td>0</td>\n",
       "      <td>GBR</td>\n",
       "      <td>BB</td>\n",
       "    </tr>\n",
       "    <tr>\n",
       "      <td>1</td>\n",
       "      <td>14.0</td>\n",
       "      <td>1</td>\n",
       "      <td>GBR</td>\n",
       "      <td>BB</td>\n",
       "    </tr>\n",
       "    <tr>\n",
       "      <td>2</td>\n",
       "      <td>0.0</td>\n",
       "      <td>0</td>\n",
       "      <td>PRT</td>\n",
       "      <td>BB</td>\n",
       "    </tr>\n",
       "    <tr>\n",
       "      <td>3</td>\n",
       "      <td>9.0</td>\n",
       "      <td>1</td>\n",
       "      <td>PRT</td>\n",
       "      <td>FB</td>\n",
       "    </tr>\n",
       "    <tr>\n",
       "      <td>4</td>\n",
       "      <td>85.0</td>\n",
       "      <td>1</td>\n",
       "      <td>PRT</td>\n",
       "      <td>BB</td>\n",
       "    </tr>\n",
       "    <tr>\n",
       "      <td>...</td>\n",
       "      <td>...</td>\n",
       "      <td>...</td>\n",
       "      <td>...</td>\n",
       "      <td>...</td>\n",
       "    </tr>\n",
       "    <tr>\n",
       "      <td>65224</td>\n",
       "      <td>23.0</td>\n",
       "      <td>2</td>\n",
       "      <td>CHN</td>\n",
       "      <td>BB</td>\n",
       "    </tr>\n",
       "    <tr>\n",
       "      <td>65225</td>\n",
       "      <td>53.0</td>\n",
       "      <td>3</td>\n",
       "      <td>FRA</td>\n",
       "      <td>HB</td>\n",
       "    </tr>\n",
       "    <tr>\n",
       "      <td>65226</td>\n",
       "      <td>7.0</td>\n",
       "      <td>1</td>\n",
       "      <td>FRA</td>\n",
       "      <td>BB</td>\n",
       "    </tr>\n",
       "    <tr>\n",
       "      <td>65227</td>\n",
       "      <td>17.0</td>\n",
       "      <td>1</td>\n",
       "      <td>FRA</td>\n",
       "      <td>SC</td>\n",
       "    </tr>\n",
       "    <tr>\n",
       "      <td>65228</td>\n",
       "      <td>107.0</td>\n",
       "      <td>0</td>\n",
       "      <td>FRA</td>\n",
       "      <td>BB</td>\n",
       "    </tr>\n",
       "  </tbody>\n",
       "</table>\n",
       "<p>65229 rows × 4 columns</p>\n",
       "</div>"
      ],
      "text/plain": [
       "       lead_time  total_of_special_requests country       meal\n",
       "0            7.0                          0     GBR  BB       \n",
       "1           14.0                          1     GBR  BB       \n",
       "2            0.0                          0     PRT  BB       \n",
       "3            9.0                          1     PRT  FB       \n",
       "4           85.0                          1     PRT  BB       \n",
       "...          ...                        ...     ...        ...\n",
       "65224       23.0                          2     CHN  BB       \n",
       "65225       53.0                          3     FRA  HB       \n",
       "65226        7.0                          1     FRA  BB       \n",
       "65227       17.0                          1     FRA  SC       \n",
       "65228      107.0                          0     FRA  BB       \n",
       "\n",
       "[65229 rows x 4 columns]"
      ]
     },
     "execution_count": 28,
     "metadata": {},
     "output_type": "execute_result"
    }
   ],
   "source": [
    "df_train[features_for_model]"
   ]
  },
  {
   "cell_type": "markdown",
   "metadata": {},
   "source": [
    "Делаем дамми для логистической регрессии и прямое кодирование для дерева решений, и случайного леса"
   ]
  },
  {
   "cell_type": "code",
   "execution_count": 29,
   "metadata": {},
   "outputs": [],
   "source": [
    "#Избавимся от пробелов в столбцах `meal` и `country`\n",
    "df_train['meal'] = df_train['meal'].str.replace(' ','')\n",
    "df_test['meal'] = df_test['meal'].str.replace(' ','')\n",
    "df_train['country'] = df_train['country'].str.replace(' ','')\n",
    "df_test['country'] = df_test['country'].str.replace(' ','')"
   ]
  },
  {
   "cell_type": "code",
   "execution_count": 30,
   "metadata": {},
   "outputs": [
    {
     "name": "stdout",
     "output_type": "stream",
     "text": [
      "['BB', 'FB', 'HB', 'SC']\n",
      "['BB', 'FB', 'HB', 'SC']\n",
      "155\n",
      "143\n"
     ]
    }
   ],
   "source": [
    "print(sorted(df_train['meal'].unique()))\n",
    "print(sorted(df_test['meal'].unique()))\n",
    "# тут всё удачно можно делать дамми\n",
    "\n",
    "print(len(df_train['country'].unique()))\n",
    "print(len(df_test['country'].unique()))\n",
    "# тут на прямую дамми не прокатит"
   ]
  },
  {
   "cell_type": "code",
   "execution_count": 31,
   "metadata": {},
   "outputs": [],
   "source": [
    "df_train_logreg_f = df_train[features_for_model].copy()\n",
    "df_test_logreg_f = df_test[features_for_model].copy()\n",
    "\n",
    "df_train_tree_f = df_train[features_for_model].copy()\n",
    "df_test_tree_f = df_test[features_for_model].copy()\n",
    "\n",
    "df_train_t = df_train[target].copy()\n",
    "df_test_t = df_test[target].copy()"
   ]
  },
  {
   "cell_type": "code",
   "execution_count": 32,
   "metadata": {
    "scrolled": true
   },
   "outputs": [],
   "source": [
    "# Данные для логистической регрессии\n",
    "frames = [df_train_logreg_f, df_test_logreg_f]\n",
    "mdf = pd.concat(frames, keys=['train', 'test'])\n",
    "# Получим дамми признаки\n",
    "mdf = pd.get_dummies(mdf, columns=['country', 'meal'], prefix=['country', 'meal'])\n",
    "\n",
    "# стандартизируем\n",
    "# V4 тут Изменения\n",
    "# Отключу предупреждения о копировании\n",
    "pd.options.mode.chained_assignment = None\n",
    "scaler.fit(mdf.loc['train'][['total_of_special_requests']])\n",
    "\n",
    "mdf.loc['train']['total_of_special_requests'] = scaler.transform(mdf.loc['train'][['total_of_special_requests']])\n",
    "mdf.loc['test']['total_of_special_requests'] = scaler.transform(mdf.loc['test'][['total_of_special_requests']])\n",
    "\n",
    "scaler.fit(mdf.loc['train'][['lead_time']])\n",
    "mdf.loc['train']['lead_time'] = scaler.transform(mdf.loc['train'][['lead_time']])\n",
    "mdf.loc['test']['lead_time'] = scaler.transform(mdf.loc['test'][['lead_time']])\n",
    "\n",
    "# вернем обратно\n",
    "df_train_logreg_f = mdf.loc['train'].copy()\n",
    "df_test_logreg_f = mdf.loc['test'].copy()"
   ]
  },
  {
   "cell_type": "code",
   "execution_count": 33,
   "metadata": {},
   "outputs": [],
   "source": [
    "# Данные для случайного дерева и леса решений\n",
    "frames = [df_train_tree_f, df_test_tree_f]\n",
    "mdf2 = pd.concat(frames, keys=['train', 'test'])\n",
    "# Порядковое кодирование\n",
    "encoder.fit(mdf2[['country']])\n",
    "mdf2[['country']] = encoder.transform(mdf2[['country']])\n",
    "encoder.fit(mdf2[['meal']])\n",
    "mdf2[['meal']] = encoder.transform(mdf2[['meal']])\n",
    "# вернем обратно\n",
    "df_train_tree_f = mdf2.loc['train'].copy()\n",
    "df_test_tree_f = mdf2.loc['test'].copy()"
   ]
  },
  {
   "cell_type": "markdown",
   "metadata": {},
   "source": [
    "<div class=\"alert alert-block alert-success\">\n",
    "<b>Комментарий ревьюера v5 ✔️</b> \n",
    "\n",
    "Да, так что можно в одну строчку :)\n",
    "</div>"
   ]
  },
  {
   "cell_type": "code",
   "execution_count": 34,
   "metadata": {},
   "outputs": [
    {
     "name": "stdout",
     "output_type": "stream",
     "text": [
      "['Contract', 'Group', 'Transient', 'Transient-Party']\n",
      "['Contract', 'Group', 'Transient', 'Transient-Party']\n",
      "['A               ', 'B               ', 'C               ', 'D               ', 'E               ', 'F               ', 'G               ']\n",
      "['A               ', 'B               ', 'C               ', 'D               ', 'E               ', 'F               ', 'G               ']\n"
     ]
    }
   ],
   "source": [
    "# Похоже на то, что в столбцах значения одинаковые можно применять дамми признаки\n",
    "print(sorted(list(df_train['customer_type'].unique())))\n",
    "print(sorted(list(df_test['customer_type'].unique())))\n",
    "print(sorted(list(df_train['reserved_room_type'].unique())))\n",
    "print(sorted(list(df_test['reserved_room_type'].unique())))"
   ]
  },
  {
   "cell_type": "markdown",
   "metadata": {},
   "source": [
    "<div class=\"alert alert-block alert-info\">\n",
    "<b>Комментарий студента V1</b> \n",
    "Похоже значения в столбцах для дамми признаков одинаковые.\n",
    "</div>"
   ]
  },
  {
   "cell_type": "markdown",
   "metadata": {},
   "source": [
    "<div class=\"alert alert-block alert-success\">\n",
    "<b>Комментарий ревьюера v2 ✔️</b> \n",
    "    \n",
    "Да, одинаковые, но так будет далеко не всегда. Вполне могло оказаться, что в тестовой выборке не встречаются какие-нибудь из категорий. Тогда код пришлось бы переписывать.\n",
    "</div>\n"
   ]
  },
  {
   "cell_type": "code",
   "execution_count": 35,
   "metadata": {},
   "outputs": [],
   "source": [
    "# Буду использовать для подсчёта прибыли.\n",
    "# Создадим копию данных для обучения моделей.\n",
    "df_train_target = df_train[target].copy()\n",
    "df_train_features = df_train[features].copy()\n",
    "\n",
    "df_test_target = df_test[target].copy()\n",
    "df_test_features = df_test[features].copy()\n",
    "\n",
    "# Получим дамми признаки\n",
    "df_train_features = pd.get_dummies(df_train_features, \n",
    "                                   columns=['customer_type', 'reserved_room_type'], \n",
    "                                   prefix=['customer','room'])\n",
    "df_test_features = pd.get_dummies(df_test_features, \n",
    "                                  columns=['customer_type', 'reserved_room_type'], \n",
    "                                  prefix=['customer','room'])"
   ]
  },
  {
   "cell_type": "markdown",
   "metadata": {},
   "source": [
    "Посмотрим, что получилось"
   ]
  },
  {
   "cell_type": "markdown",
   "metadata": {},
   "source": [
    "На основе данных предоставленных в описании проекта составим словарь `room_type_dict` с ценами за ночь в номере `night_price`, стоимостью обслуживания `service` и словарь с сезонным коэффициентом `season_ratio_dict` где весна `spring`, лето `summer`, осень `autumn`."
   ]
  },
  {
   "cell_type": "code",
   "execution_count": 40,
   "metadata": {},
   "outputs": [],
   "source": [
    "season_ratio_dict = {'spring':1.20,'summer':1.40,'autumn':1.20,'winter':1}\n",
    "seasons_dict = {\n",
    "             1: 'winter',\n",
    "             2: 'spring',\n",
    "             3: 'summer',\n",
    "             4: 'autumn'\n",
    "}\n",
    "room_type_dict = {'A':{'night_price':1000,'service':400},\n",
    "                  'B':{'night_price':800,'service':350},\n",
    "                  'C':{'night_price':600,'service':350},\n",
    "                  'D':{'night_price':550,'service':150},\n",
    "                  'E':{'night_price':500,'service':150},\n",
    "                  'F':{'night_price':450,'service':150},\n",
    "                  'G':{'night_price':350,'service':150},\n",
    "                  'H':{'night_price':300,'service':100},\n",
    "                 }"
   ]
  },
  {
   "cell_type": "markdown",
   "metadata": {},
   "source": [
    "Посчитаем прибыль отеля.  \n",
    "Буду учитывать сезонность дней если человек прожил 2 ночи весной то цена ночи +0.2 и 2 ночи летом то цена ночи +0.4"
   ]
  },
  {
   "cell_type": "code",
   "execution_count": 41,
   "metadata": {},
   "outputs": [],
   "source": [
    "# Подсчёт дохода с клиента и расходов на обслуживание номера + прибыли\n",
    "def total_sum(data):\n",
    "    # Дата въезда\n",
    "    start_date = pd.to_datetime(str(data['arrival_date_year']) + \n",
    "                                data['arrival_date_month'] + \n",
    "                                str(data['arrival_date_day_of_month']), format='%Y%B%d')\n",
    "    # Дата отъезда\n",
    "    end_date = start_date + pd.to_timedelta(data['total_nights']-1, unit='D')\n",
    "    # Тип комнаты\n",
    "    room_type = data['reserved_room_type'].replace(' ','')\n",
    "    # Базовая цена ночи\n",
    "    night_price = room_type_dict[room_type]['night_price']\n",
    "    # Итоговая стоимость\n",
    "    total_price = 0\n",
    "    \n",
    "    # Проверка в одном сезоне въехал человек\n",
    "    if seasons_dict[(start_date.month % 12 + 3)// 3] == seasons_dict[(end_date.month % 12 + 3)// 3]:\n",
    "        season = seasons_dict[(start_date.month % 12 + 3)// 3]\n",
    "        total_price = data['total_nights'] * night_price * season_ratio_dict[season]\n",
    "    else:\n",
    "        for i in pd.date_range(start_date,end_date):\n",
    "            season = seasons_dict[(i.month % 12 + 3)// 3]\n",
    "            price =  night_price * season_ratio_dict[season]\n",
    "            total_price += price\n",
    "    return total_price\n",
    "\n",
    "# Уборку считал так 1 при въезде гостя + 1 при выезде + каждые 2 дня проживания\n",
    "# Если человек живет 6 дней то 2 уборки приехал и уехал + 2 каждые 2 дня итого 4\n",
    "def serv_sum(data):\n",
    "    room_type = data['reserved_room_type'].replace(' ','')\n",
    "    service_price = room_type_dict[room_type]['service']\n",
    "    if data['total_nights']%2 == 0:\n",
    "        return ((data['total_nights'] / 2) + 1) * service_price\n",
    "    else:\n",
    "        return (int(data['total_nights'] / 2) + 2) * service_price"
   ]
  },
  {
   "cell_type": "code",
   "execution_count": 42,
   "metadata": {},
   "outputs": [],
   "source": [
    "df_train['total_price'] = 0\n",
    "df_test['total_price'] = 0\n",
    "\n",
    "df_train['serv_price'] = 0\n",
    "df_test['serv_price'] = 0\n",
    "\n",
    "df_train['total_price'] = df_train.apply(total_sum, axis = 1)\n",
    "df_test['total_price'] = df_test.apply(total_sum, axis = 1)\n",
    "\n",
    "df_train['serv_price'] = df_train.apply(serv_sum, axis = 1)\n",
    "df_test['serv_price'] = df_test.apply(serv_sum, axis = 1)\n",
    "\n",
    "df_train['profit'] = df_train['total_price'] - df_train['serv_price']\n",
    "df_test['profit'] = df_test['total_price'] - df_test['serv_price']"
   ]
  },
  {
   "cell_type": "code",
   "execution_count": 43,
   "metadata": {},
   "outputs": [],
   "source": [
    "# вот так делать нельзя это не читабельно совсем. Это ошибка, но исправлять я её не стану.\n",
    "def aaaa(aaaaa):\n",
    "    aaaaaaa = aaaaa['reserved_room_type'].replace(' ','')\n",
    "    aaaaaa = room_type_dict[aaaaaaa]['service']\n",
    "    return aaaaaa"
   ]
  },
  {
   "cell_type": "code",
   "execution_count": 44,
   "metadata": {},
   "outputs": [],
   "source": [
    "df_train['loss'] = 0\n",
    "df_test['loss'] = 0\n",
    "\n",
    "df_train['loss'] = df_train.apply(aaaa, axis = 1)\n",
    "df_test['loss'] = df_test.apply(aaaa, axis = 1)"
   ]
  },
  {
   "cell_type": "code",
   "execution_count": 45,
   "metadata": {},
   "outputs": [
    {
     "name": "stdout",
     "output_type": "stream",
     "text": [
      "Прибыль фактическая на тренировочном датасете: 85,020,880.00\n",
      "Прибыль фактическая на тестовом датасете: 42,580,350.00\n"
     ]
    }
   ],
   "source": [
    "\n",
    "profit_train = df_train[df_train['is_canceled'] == 0]['profit'].sum()\n",
    "profit_test = df_test[df_test['is_canceled'] == 0]['profit'].sum()\n",
    "\n",
    "loss_train = df_train[df_train['is_canceled'] == 1]['loss'].sum()\n",
    "loss_test = df_test[df_test['is_canceled'] == 1]['loss'].sum()\n",
    "\n",
    "print(f'Прибыль фактическая на тренировочном датасете: {profit_train - loss_train:,.2f}')\n",
    "print(f'Прибыль фактическая на тестовом датасете: {profit_test - loss_test:,.2f}')"
   ]
  },
  {
   "cell_type": "markdown",
   "metadata": {},
   "source": [
    "__Дерево решений__"
   ]
  },
  {
   "cell_type": "code",
   "execution_count": 46,
   "metadata": {},
   "outputs": [
    {
     "name": "stderr",
     "output_type": "stream",
     "text": [
      "/opt/conda/lib/python3.7/site-packages/sklearn/metrics/classification.py:1437: UndefinedMetricWarning: F-score is ill-defined and being set to 0.0 due to no predicted samples.\n",
      "  'precision', 'predicted', average, warn_for)\n",
      "/opt/conda/lib/python3.7/site-packages/sklearn/metrics/classification.py:1437: UndefinedMetricWarning: F-score is ill-defined and being set to 0.0 due to no predicted samples.\n",
      "  'precision', 'predicted', average, warn_for)\n",
      "/opt/conda/lib/python3.7/site-packages/sklearn/metrics/classification.py:1437: UndefinedMetricWarning: F-score is ill-defined and being set to 0.0 due to no predicted samples.\n",
      "  'precision', 'predicted', average, warn_for)\n",
      "/opt/conda/lib/python3.7/site-packages/sklearn/metrics/classification.py:1437: UndefinedMetricWarning: F-score is ill-defined and being set to 0.0 due to no predicted samples.\n",
      "  'precision', 'predicted', average, warn_for)\n",
      "/opt/conda/lib/python3.7/site-packages/sklearn/metrics/classification.py:1437: UndefinedMetricWarning: F-score is ill-defined and being set to 0.0 due to no predicted samples.\n",
      "  'precision', 'predicted', average, warn_for)\n",
      "/opt/conda/lib/python3.7/site-packages/sklearn/metrics/classification.py:1437: UndefinedMetricWarning: F-score is ill-defined and being set to 0.0 due to no predicted samples.\n",
      "  'precision', 'predicted', average, warn_for)\n",
      "/opt/conda/lib/python3.7/site-packages/sklearn/metrics/classification.py:1437: UndefinedMetricWarning: F-score is ill-defined and being set to 0.0 due to no predicted samples.\n",
      "  'precision', 'predicted', average, warn_for)\n",
      "/opt/conda/lib/python3.7/site-packages/sklearn/metrics/classification.py:1437: UndefinedMetricWarning: F-score is ill-defined and being set to 0.0 due to no predicted samples.\n",
      "  'precision', 'predicted', average, warn_for)\n"
     ]
    },
    {
     "name": "stdout",
     "output_type": "stream",
     "text": [
      "cross_val_score: 0.6539291449762048, max_depth: 4, criterion: gini, max_features: None\n"
     ]
    }
   ],
   "source": [
    "criterions = ('gini', 'entropy')\n",
    "max_featuress = ('auto', 'sqrt', 'log2', None)\n",
    "best_result = 0\n",
    "for crit in criterions:\n",
    "    for max_f in max_featuress:\n",
    "        for dept in range(1,21):\n",
    "            model = DecisionTreeClassifier(random_state=12345, max_depth=dept, criterion=crit, max_features=max_f)\n",
    "            scores = cross_val_score(model, df_train_tree_f, df_train_t , cv=5, scoring='f1')\n",
    "            result = sum(scores) / len(scores)\n",
    "            if result > best_result:\n",
    "                best_result = result\n",
    "                best_crit = crit\n",
    "                best_max_f = max_f\n",
    "                best_dept = dept\n",
    "                best_accuracy = result\n",
    "                best_modelDC = model\n",
    "print(f'cross_val_score: {best_result}, max_depth: {best_dept}, criterion: {best_crit}, max_features: {best_max_f}')"
   ]
  },
  {
   "cell_type": "markdown",
   "metadata": {},
   "source": [
    "__Случайный лес__"
   ]
  },
  {
   "cell_type": "code",
   "execution_count": 47,
   "metadata": {
    "scrolled": true
   },
   "outputs": [
    {
     "name": "stdout",
     "output_type": "stream",
     "text": [
      "1\n"
     ]
    },
    {
     "name": "stderr",
     "output_type": "stream",
     "text": [
      "/opt/conda/lib/python3.7/site-packages/sklearn/metrics/classification.py:1437: UndefinedMetricWarning: F-score is ill-defined and being set to 0.0 due to no predicted samples.\n",
      "  'precision', 'predicted', average, warn_for)\n",
      "/opt/conda/lib/python3.7/site-packages/sklearn/metrics/classification.py:1437: UndefinedMetricWarning: F-score is ill-defined and being set to 0.0 due to no predicted samples.\n",
      "  'precision', 'predicted', average, warn_for)\n",
      "/opt/conda/lib/python3.7/site-packages/sklearn/metrics/classification.py:1437: UndefinedMetricWarning: F-score is ill-defined and being set to 0.0 due to no predicted samples.\n",
      "  'precision', 'predicted', average, warn_for)\n"
     ]
    },
    {
     "name": "stdout",
     "output_type": "stream",
     "text": [
      "2\n"
     ]
    },
    {
     "name": "stderr",
     "output_type": "stream",
     "text": [
      "/opt/conda/lib/python3.7/site-packages/sklearn/metrics/classification.py:1437: UndefinedMetricWarning: F-score is ill-defined and being set to 0.0 due to no predicted samples.\n",
      "  'precision', 'predicted', average, warn_for)\n"
     ]
    },
    {
     "name": "stdout",
     "output_type": "stream",
     "text": [
      "3\n"
     ]
    },
    {
     "name": "stderr",
     "output_type": "stream",
     "text": [
      "/opt/conda/lib/python3.7/site-packages/sklearn/metrics/classification.py:1437: UndefinedMetricWarning: F-score is ill-defined and being set to 0.0 due to no predicted samples.\n",
      "  'precision', 'predicted', average, warn_for)\n"
     ]
    },
    {
     "name": "stdout",
     "output_type": "stream",
     "text": [
      "4\n"
     ]
    },
    {
     "name": "stderr",
     "output_type": "stream",
     "text": [
      "/opt/conda/lib/python3.7/site-packages/sklearn/metrics/classification.py:1437: UndefinedMetricWarning: F-score is ill-defined and being set to 0.0 due to no predicted samples.\n",
      "  'precision', 'predicted', average, warn_for)\n"
     ]
    },
    {
     "name": "stdout",
     "output_type": "stream",
     "text": [
      "cross_val_score: 0.6451792374264971, max_depth: 4, n_estimators: 3\n"
     ]
    }
   ],
   "source": [
    "best_result = 0\n",
    "for est in range(1, 5, 1):\n",
    "    print(est)\n",
    "    for dept in range(1,16):\n",
    "        model = RandomForestClassifier(random_state=12345, n_estimators = est, max_depth=dept)\n",
    "        scores = cross_val_score(model, df_train_tree_f, df_train_t.values.ravel(), cv=5, scoring='f1')\n",
    "        result = sum(scores) / len(scores)\n",
    "        if result > best_result:\n",
    "            best_result = result\n",
    "            best_est = est\n",
    "            best_dept = dept\n",
    "            best_accuracy = result\n",
    "            best_modelR = model\n",
    "            \n",
    "print(f'cross_val_score: {best_accuracy}, max_depth: {best_dept}, n_estimators: {best_est}')"
   ]
  },
  {
   "cell_type": "markdown",
   "metadata": {},
   "source": [
    "__Логистическая регрессия__"
   ]
  },
  {
   "cell_type": "code",
   "execution_count": 48,
   "metadata": {},
   "outputs": [
    {
     "name": "stdout",
     "output_type": "stream",
     "text": [
      "cross_val_score: 0.6172473883037906, best_solv: lbfgs\n"
     ]
    }
   ],
   "source": [
    "best_result = 0\n",
    "solvers = ('lbfgs', 'liblinear')\n",
    "for solver in solvers:\n",
    "    model = LogisticRegression(random_state=12345, solver=solver, max_iter=10000)\n",
    "    scores = cross_val_score(model, df_train_logreg_f, df_train_t.values.ravel(), cv=5, scoring='f1')\n",
    "    result = sum(scores) / len(scores)\n",
    "    if result > best_result:\n",
    "        best_result = result\n",
    "        best_solv = solver\n",
    "        best_modelL = model\n",
    "        best_accuracy = result\n",
    "        \n",
    "print(f'cross_val_score: {best_accuracy}, best_solv: {best_solv}')"
   ]
  },
  {
   "cell_type": "markdown",
   "metadata": {},
   "source": [
    "__ВЫВОД: Наилучший результат показал \"дерево решений\" с результатом cross_val_score: 0.65.__"
   ]
  },
  {
   "cell_type": "markdown",
   "metadata": {},
   "source": [
    "Попробуем проверить на тестовой выборке"
   ]
  },
  {
   "cell_type": "code",
   "execution_count": 49,
   "metadata": {},
   "outputs": [],
   "source": [
    "# max_depth: 4, criterion: gini, max_features: None\n",
    "dept=4\n",
    "crit='gini'\n",
    "max_f = None\n",
    "model = DecisionTreeClassifier(random_state=12345, max_depth=dept, criterion=crit, max_features=max_f)\n",
    "model.fit(df_train_tree_f, df_train_t)\n",
    "predictions = model.predict(df_test_tree_f)"
   ]
  },
  {
   "cell_type": "code",
   "execution_count": 50,
   "metadata": {},
   "outputs": [
    {
     "data": {
      "text/plain": [
       "0.571903490656324"
      ]
     },
     "execution_count": 50,
     "metadata": {},
     "output_type": "execute_result"
    }
   ],
   "source": [
    "# Качесво модели на тестовой выборке\n",
    "from sklearn.metrics import f1_score\n",
    "\n",
    "dept=4\n",
    "crit='gini'\n",
    "max_f = None\n",
    "model = DecisionTreeClassifier(random_state=12345, max_depth=dept, criterion=crit, max_features=max_f)\n",
    "model.fit(df_train_tree_f, df_train_t)\n",
    "predictions = model.predict(df_test_tree_f)\n",
    "\n",
    "f1_score_test = f1_score(df_test_t, predictions) \n",
    "f1_score_test"
   ]
  },
  {
   "cell_type": "code",
   "execution_count": 51,
   "metadata": {},
   "outputs": [],
   "source": [
    "def total_sum_canceled(data):\n",
    "    # Дата въезда\n",
    "    start_date = pd.to_datetime(str(data['arrival_date_year']) + \n",
    "                                data['arrival_date_month'] + \n",
    "                                str(data['arrival_date_day_of_month']), format='%Y%B%d')\n",
    "    # Тип комнаты\n",
    "    room_type = data['reserved_room_type'].replace(' ','')\n",
    "    # Базовая цена ночи\n",
    "    night_price = room_type_dict[room_type]['night_price']\n",
    "    service_price = room_type_dict[room_type]['service']\n",
    "    # Итоговая стоимость\n",
    "    total_price = 0\n",
    "    season = seasons_dict[(start_date.month % 12 + 3)// 3]\n",
    "    # Вычитал вот в этой строке\n",
    "    total_price = (((night_price * season_ratio_dict[season]) + service_price) * 0.8) - (service_price)\n",
    "    return total_price"
   ]
  },
  {
   "cell_type": "code",
   "execution_count": 52,
   "metadata": {},
   "outputs": [],
   "source": [
    "df_test['predict'] = predictions\n",
    "df_result = df_test[(df_test['is_canceled'] == df_test['predict']) & (df_test['is_canceled'] == 1)].copy()\n",
    "df_result['sum_canceled'] = 0\n",
    "df_result['sum_canceled'] = df_result.apply(total_sum_canceled, axis = 1)"
   ]
  },
  {
   "cell_type": "code",
   "execution_count": 53,
   "metadata": {},
   "outputs": [
    {
     "name": "stdout",
     "output_type": "stream",
     "text": [
      "Прибыль от отменнённых номеров при условии, что пользователь оставит депозит: 4,936,050.00₽\n"
     ]
    }
   ],
   "source": [
    "itog_profit = df_result['sum_canceled'].sum()\n",
    "print(f'Прибыль от отменнённых номеров при условии, что пользователь оставит депозит: {itog_profit:,.2f}₽')"
   ]
  },
  {
   "cell_type": "markdown",
   "metadata": {},
   "source": [
    "### Шаг 5. Опишите портрет «ненадёжного» клиента"
   ]
  },
  {
   "cell_type": "markdown",
   "metadata": {},
   "source": [
    "Сначала посотмрим на ранее определенны признаки"
   ]
  },
  {
   "cell_type": "code",
   "execution_count": 54,
   "metadata": {},
   "outputs": [],
   "source": [
    "#Создадим столбец с объединением наших признаков в один\n",
    "df_test['person'] = df_test[features_for_model].apply(\n",
    "    lambda x: ','.join(x.astype(str)),axis=1)"
   ]
  },
  {
   "cell_type": "markdown",
   "metadata": {},
   "source": [
    "В качестве отмены подразумеваю, что `is_canceled = 1` "
   ]
  },
  {
   "cell_type": "code",
   "execution_count": 55,
   "metadata": {},
   "outputs": [
    {
     "data": {
      "text/html": [
       "<div>\n",
       "<style scoped>\n",
       "    .dataframe tbody tr th:only-of-type {\n",
       "        vertical-align: middle;\n",
       "    }\n",
       "\n",
       "    .dataframe tbody tr th {\n",
       "        vertical-align: top;\n",
       "    }\n",
       "\n",
       "    .dataframe thead th {\n",
       "        text-align: right;\n",
       "    }\n",
       "</style>\n",
       "<table border=\"1\" class=\"dataframe\">\n",
       "  <thead>\n",
       "    <tr style=\"text-align: right;\">\n",
       "      <th></th>\n",
       "      <th>null</th>\n",
       "      <th>one</th>\n",
       "      <th>proc</th>\n",
       "    </tr>\n",
       "  </thead>\n",
       "  <tbody>\n",
       "    <tr>\n",
       "      <td>175.0,0,PRT,BB</td>\n",
       "      <td>19.0</td>\n",
       "      <td>81.0</td>\n",
       "      <td>0.810000</td>\n",
       "    </tr>\n",
       "    <tr>\n",
       "      <td>28.0,0,PRT,BB</td>\n",
       "      <td>6.0</td>\n",
       "      <td>108.0</td>\n",
       "      <td>0.947368</td>\n",
       "    </tr>\n",
       "    <tr>\n",
       "      <td>135.0,0,PRT,BB</td>\n",
       "      <td>4.0</td>\n",
       "      <td>57.0</td>\n",
       "      <td>0.934426</td>\n",
       "    </tr>\n",
       "    <tr>\n",
       "      <td>104.0,0,PRT,BB</td>\n",
       "      <td>2.0</td>\n",
       "      <td>80.0</td>\n",
       "      <td>0.975610</td>\n",
       "    </tr>\n",
       "    <tr>\n",
       "      <td>150.0,0,PRT,BB</td>\n",
       "      <td>2.0</td>\n",
       "      <td>70.0</td>\n",
       "      <td>0.972222</td>\n",
       "    </tr>\n",
       "    <tr>\n",
       "      <td>156.0,0,PRT,BB</td>\n",
       "      <td>2.0</td>\n",
       "      <td>99.0</td>\n",
       "      <td>0.980198</td>\n",
       "    </tr>\n",
       "    <tr>\n",
       "      <td>52.0,0,PRT,BB</td>\n",
       "      <td>2.0</td>\n",
       "      <td>56.0</td>\n",
       "      <td>0.965517</td>\n",
       "    </tr>\n",
       "    <tr>\n",
       "      <td>54.0,0,PRT,BB</td>\n",
       "      <td>2.0</td>\n",
       "      <td>58.0</td>\n",
       "      <td>0.966667</td>\n",
       "    </tr>\n",
       "    <tr>\n",
       "      <td>59.0,0,PRT,BB</td>\n",
       "      <td>2.0</td>\n",
       "      <td>84.0</td>\n",
       "      <td>0.976744</td>\n",
       "    </tr>\n",
       "    <tr>\n",
       "      <td>87.0,0,PRT,BB</td>\n",
       "      <td>2.0</td>\n",
       "      <td>52.0</td>\n",
       "      <td>0.962963</td>\n",
       "    </tr>\n",
       "    <tr>\n",
       "      <td>129.0,0,PRT,BB</td>\n",
       "      <td>1.0</td>\n",
       "      <td>84.0</td>\n",
       "      <td>0.988235</td>\n",
       "    </tr>\n",
       "    <tr>\n",
       "      <td>164.0,0,PRT,BB</td>\n",
       "      <td>1.0</td>\n",
       "      <td>63.0</td>\n",
       "      <td>0.984375</td>\n",
       "    </tr>\n",
       "    <tr>\n",
       "      <td>186.0,0,PRT,BB</td>\n",
       "      <td>1.0</td>\n",
       "      <td>84.0</td>\n",
       "      <td>0.988235</td>\n",
       "    </tr>\n",
       "    <tr>\n",
       "      <td>38.0,0,PRT,BB</td>\n",
       "      <td>1.0</td>\n",
       "      <td>106.0</td>\n",
       "      <td>0.990654</td>\n",
       "    </tr>\n",
       "    <tr>\n",
       "      <td>61.0,0,PRT,BB</td>\n",
       "      <td>1.0</td>\n",
       "      <td>81.0</td>\n",
       "      <td>0.987805</td>\n",
       "    </tr>\n",
       "    <tr>\n",
       "      <td>67.0,0,PRT,BB</td>\n",
       "      <td>1.0</td>\n",
       "      <td>67.0</td>\n",
       "      <td>0.985294</td>\n",
       "    </tr>\n",
       "  </tbody>\n",
       "</table>\n",
       "</div>"
      ],
      "text/plain": [
       "                null    one      proc\n",
       "175.0,0,PRT,BB  19.0   81.0  0.810000\n",
       "28.0,0,PRT,BB    6.0  108.0  0.947368\n",
       "135.0,0,PRT,BB   4.0   57.0  0.934426\n",
       "104.0,0,PRT,BB   2.0   80.0  0.975610\n",
       "150.0,0,PRT,BB   2.0   70.0  0.972222\n",
       "156.0,0,PRT,BB   2.0   99.0  0.980198\n",
       "52.0,0,PRT,BB    2.0   56.0  0.965517\n",
       "54.0,0,PRT,BB    2.0   58.0  0.966667\n",
       "59.0,0,PRT,BB    2.0   84.0  0.976744\n",
       "87.0,0,PRT,BB    2.0   52.0  0.962963\n",
       "129.0,0,PRT,BB   1.0   84.0  0.988235\n",
       "164.0,0,PRT,BB   1.0   63.0  0.984375\n",
       "186.0,0,PRT,BB   1.0   84.0  0.988235\n",
       "38.0,0,PRT,BB    1.0  106.0  0.990654\n",
       "61.0,0,PRT,BB    1.0   81.0  0.987805\n",
       "67.0,0,PRT,BB    1.0   67.0  0.985294"
      ]
     },
     "execution_count": 55,
     "metadata": {},
     "output_type": "execute_result"
    }
   ],
   "source": [
    "# Посчитаем количесво нулевых и не нулевых значений по новому признаку также посчитаем процент нулевых значений\n",
    "result = pd.concat([pd.DataFrame(df_test[df_test['is_canceled'] == 0]['person'].value_counts()), \n",
    "           pd.DataFrame(df_test[df_test['is_canceled'] == 1]['person'].value_counts())], axis=1,sort=True)\n",
    "result.columns = ['null', 'one']\n",
    "result['proc'] = result['one'] / (result['null'] + result['one'])\n",
    "\n",
    "# Выведем признаки с самым большим процентом и количесвом отмен\n",
    "result[(result['one'] > 50) & (result['proc'] > 0.8)].sort_values('null', ascending=False).head(50)"
   ]
  },
  {
   "cell_type": "code",
   "execution_count": 56,
   "metadata": {},
   "outputs": [
    {
     "data": {
      "text/html": [
       "<div>\n",
       "<style scoped>\n",
       "    .dataframe tbody tr th:only-of-type {\n",
       "        vertical-align: middle;\n",
       "    }\n",
       "\n",
       "    .dataframe tbody tr th {\n",
       "        vertical-align: top;\n",
       "    }\n",
       "\n",
       "    .dataframe thead th {\n",
       "        text-align: right;\n",
       "    }\n",
       "</style>\n",
       "<table border=\"1\" class=\"dataframe\">\n",
       "  <thead>\n",
       "    <tr style=\"text-align: right;\">\n",
       "      <th></th>\n",
       "      <th>index</th>\n",
       "      <th>null</th>\n",
       "      <th>one</th>\n",
       "      <th>proc</th>\n",
       "      <th>lead_time</th>\n",
       "      <th>total_of_special_requests</th>\n",
       "      <th>country</th>\n",
       "      <th>meal</th>\n",
       "    </tr>\n",
       "  </thead>\n",
       "  <tbody>\n",
       "    <tr>\n",
       "      <td>4172</td>\n",
       "      <td>175.0,0,PRT,BB</td>\n",
       "      <td>19.0</td>\n",
       "      <td>81.0</td>\n",
       "      <td>0.810000</td>\n",
       "      <td>175.0</td>\n",
       "      <td>0</td>\n",
       "      <td>PRT</td>\n",
       "      <td>BB</td>\n",
       "    </tr>\n",
       "    <tr>\n",
       "      <td>7462</td>\n",
       "      <td>28.0,0,PRT,BB</td>\n",
       "      <td>6.0</td>\n",
       "      <td>108.0</td>\n",
       "      <td>0.947368</td>\n",
       "      <td>28.0</td>\n",
       "      <td>0</td>\n",
       "      <td>PRT</td>\n",
       "      <td>BB</td>\n",
       "    </tr>\n",
       "    <tr>\n",
       "      <td>578</td>\n",
       "      <td>104.0,0,PRT,BB</td>\n",
       "      <td>2.0</td>\n",
       "      <td>80.0</td>\n",
       "      <td>0.975610</td>\n",
       "      <td>104.0</td>\n",
       "      <td>0</td>\n",
       "      <td>PRT</td>\n",
       "      <td>BB</td>\n",
       "    </tr>\n",
       "    <tr>\n",
       "      <td>3263</td>\n",
       "      <td>156.0,0,PRT,BB</td>\n",
       "      <td>2.0</td>\n",
       "      <td>99.0</td>\n",
       "      <td>0.980198</td>\n",
       "      <td>156.0</td>\n",
       "      <td>0</td>\n",
       "      <td>PRT</td>\n",
       "      <td>BB</td>\n",
       "    </tr>\n",
       "    <tr>\n",
       "      <td>10488</td>\n",
       "      <td>59.0,0,PRT,BB</td>\n",
       "      <td>2.0</td>\n",
       "      <td>84.0</td>\n",
       "      <td>0.976744</td>\n",
       "      <td>59.0</td>\n",
       "      <td>0</td>\n",
       "      <td>PRT</td>\n",
       "      <td>BB</td>\n",
       "    </tr>\n",
       "    <tr>\n",
       "      <td>1913</td>\n",
       "      <td>129.0,0,PRT,BB</td>\n",
       "      <td>1.0</td>\n",
       "      <td>84.0</td>\n",
       "      <td>0.988235</td>\n",
       "      <td>129.0</td>\n",
       "      <td>0</td>\n",
       "      <td>PRT</td>\n",
       "      <td>BB</td>\n",
       "    </tr>\n",
       "    <tr>\n",
       "      <td>4653</td>\n",
       "      <td>186.0,0,PRT,BB</td>\n",
       "      <td>1.0</td>\n",
       "      <td>84.0</td>\n",
       "      <td>0.988235</td>\n",
       "      <td>186.0</td>\n",
       "      <td>0</td>\n",
       "      <td>PRT</td>\n",
       "      <td>BB</td>\n",
       "    </tr>\n",
       "    <tr>\n",
       "      <td>9037</td>\n",
       "      <td>38.0,0,PRT,BB</td>\n",
       "      <td>1.0</td>\n",
       "      <td>106.0</td>\n",
       "      <td>0.990654</td>\n",
       "      <td>38.0</td>\n",
       "      <td>0</td>\n",
       "      <td>PRT</td>\n",
       "      <td>BB</td>\n",
       "    </tr>\n",
       "    <tr>\n",
       "      <td>10685</td>\n",
       "      <td>61.0,0,PRT,BB</td>\n",
       "      <td>1.0</td>\n",
       "      <td>81.0</td>\n",
       "      <td>0.987805</td>\n",
       "      <td>61.0</td>\n",
       "      <td>0</td>\n",
       "      <td>PRT</td>\n",
       "      <td>BB</td>\n",
       "    </tr>\n",
       "  </tbody>\n",
       "</table>\n",
       "</div>"
      ],
      "text/plain": [
       "                index  null    one      proc lead_time  \\\n",
       "4172   175.0,0,PRT,BB  19.0   81.0  0.810000     175.0   \n",
       "7462    28.0,0,PRT,BB   6.0  108.0  0.947368      28.0   \n",
       "578    104.0,0,PRT,BB   2.0   80.0  0.975610     104.0   \n",
       "3263   156.0,0,PRT,BB   2.0   99.0  0.980198     156.0   \n",
       "10488   59.0,0,PRT,BB   2.0   84.0  0.976744      59.0   \n",
       "1913   129.0,0,PRT,BB   1.0   84.0  0.988235     129.0   \n",
       "4653   186.0,0,PRT,BB   1.0   84.0  0.988235     186.0   \n",
       "9037    38.0,0,PRT,BB   1.0  106.0  0.990654      38.0   \n",
       "10685   61.0,0,PRT,BB   1.0   81.0  0.987805      61.0   \n",
       "\n",
       "      total_of_special_requests country meal  \n",
       "4172                          0     PRT   BB  \n",
       "7462                          0     PRT   BB  \n",
       "578                           0     PRT   BB  \n",
       "3263                          0     PRT   BB  \n",
       "10488                         0     PRT   BB  \n",
       "1913                          0     PRT   BB  \n",
       "4653                          0     PRT   BB  \n",
       "9037                          0     PRT   BB  \n",
       "10685                         0     PRT   BB  "
      ]
     },
     "execution_count": 56,
     "metadata": {},
     "output_type": "execute_result"
    }
   ],
   "source": [
    "result.reset_index(inplace=True)\n",
    "result = result.join(result['index'].str.split(',', expand=True))\n",
    "result.columns=['index','null','one','proc'] + features_for_model\n",
    "result[(result['one'] > 70) & (result['proc'] > 0.8)].sort_values('null', ascending=False).head(50)"
   ]
  },
  {
   "cell_type": "code",
   "execution_count": 57,
   "metadata": {},
   "outputs": [],
   "source": [
    "#Расшифруем признак:  \n",
    "#Выходит, что часто ненадёжные клиенты это люди котрые делают\n",
    "#    первый заказ, без отмененных заказов, бронирующие комнаты класса А, индивидуально въезжающие в отель, бронирующие за долго до въезда в отель."
   ]
  },
  {
   "cell_type": "code",
   "execution_count": 58,
   "metadata": {},
   "outputs": [
    {
     "data": {
      "text/html": [
       "<div>\n",
       "<style scoped>\n",
       "    .dataframe tbody tr th:only-of-type {\n",
       "        vertical-align: middle;\n",
       "    }\n",
       "\n",
       "    .dataframe tbody tr th {\n",
       "        vertical-align: top;\n",
       "    }\n",
       "\n",
       "    .dataframe thead th {\n",
       "        text-align: right;\n",
       "    }\n",
       "</style>\n",
       "<table border=\"1\" class=\"dataframe\">\n",
       "  <thead>\n",
       "    <tr style=\"text-align: right;\">\n",
       "      <th></th>\n",
       "      <th>Признаки</th>\n",
       "      <th>Веса</th>\n",
       "    </tr>\n",
       "  </thead>\n",
       "  <tbody>\n",
       "    <tr>\n",
       "      <td>2</td>\n",
       "      <td>country</td>\n",
       "      <td>0.413199</td>\n",
       "    </tr>\n",
       "    <tr>\n",
       "      <td>0</td>\n",
       "      <td>lead_time</td>\n",
       "      <td>0.405059</td>\n",
       "    </tr>\n",
       "    <tr>\n",
       "      <td>1</td>\n",
       "      <td>total_of_special_requests</td>\n",
       "      <td>0.150025</td>\n",
       "    </tr>\n",
       "    <tr>\n",
       "      <td>3</td>\n",
       "      <td>meal</td>\n",
       "      <td>0.031717</td>\n",
       "    </tr>\n",
       "  </tbody>\n",
       "</table>\n",
       "</div>"
      ],
      "text/plain": [
       "                    Признаки      Веса\n",
       "2                    country  0.413199\n",
       "0                  lead_time  0.405059\n",
       "1  total_of_special_requests  0.150025\n",
       "3                       meal  0.031717"
      ]
     },
     "execution_count": 58,
     "metadata": {},
     "output_type": "execute_result"
    }
   ],
   "source": [
    "pd.DataFrame({'Признаки': list(df_train_tree_f.columns),\n",
    "              'Веса': list(model.feature_importances_)}).sort_values(by='Веса', ascending=False)"
   ]
  },
  {
   "cell_type": "markdown",
   "metadata": {},
   "source": [
    "Модель считает, что основной признак для нас это:\n",
    "* country - страна\n",
    "* lead_time - количество дней между датой бронирования и датой прибытия;\n",
    "* previous_cancellations - количество отменённых заказов у клиента;\n",
    "* total_of_special_requests - количество специальных отметок\n",
    "\n",
    "Есть страна в котрой люди чаще отменяют заказы чем в отсальных, а также если человек отменил раз отменит и второй раз. А вообще все равно, что думает модель кторая предсказывает меньше всех прибыли."
   ]
  },
  {
   "cell_type": "markdown",
   "metadata": {},
   "source": [
    "### Шаг 6. Напишите общий вывод"
   ]
  },
  {
   "cell_type": "markdown",
   "metadata": {},
   "source": [
    "Можно сказать, что самая первая модель предсказывала 7 000 000 прибыли, но сделанная по правилам предсказывает 4,936,050.00 что судя по всему нам болжно нравится больше.\n",
    "\n",
    "а самой лучшей моделью среди этих моделий оказалась дерево решений которая чуть умнее дерева с результатом cross_val_score: 0.6539291449762048.\n",
    "\n",
    "В заключении можно сказать, сколько дереву букварь не давай оно всёравно все деньги просадит."
   ]
  }
 ],
 "metadata": {
  "ExecuteTimeLog": [
   {
    "duration": 410,
    "start_time": "2021-11-25T16:52:15.790Z"
   },
   {
    "duration": 752,
    "start_time": "2021-11-25T16:52:19.566Z"
   },
   {
    "duration": 269,
    "start_time": "2021-11-25T16:52:21.119Z"
   },
   {
    "duration": 92,
    "start_time": "2021-11-25T16:52:49.785Z"
   },
   {
    "duration": 7,
    "start_time": "2021-11-25T16:57:04.390Z"
   },
   {
    "duration": 6,
    "start_time": "2021-11-25T16:58:00.167Z"
   },
   {
    "duration": 12,
    "start_time": "2021-11-25T16:59:14.687Z"
   },
   {
    "duration": 181,
    "start_time": "2021-11-25T17:04:20.209Z"
   },
   {
    "duration": 147,
    "start_time": "2021-11-25T17:05:20.600Z"
   },
   {
    "duration": 18,
    "start_time": "2021-11-25T17:05:31.580Z"
   },
   {
    "duration": 32,
    "start_time": "2021-11-25T17:05:36.563Z"
   },
   {
    "duration": 30,
    "start_time": "2021-11-25T17:05:53.935Z"
   },
   {
    "duration": 797,
    "start_time": "2021-11-27T08:22:28.094Z"
   },
   {
    "duration": 3,
    "start_time": "2021-11-27T08:22:38.127Z"
   },
   {
    "duration": 1456,
    "start_time": "2021-11-27T08:22:38.847Z"
   },
   {
    "duration": 162,
    "start_time": "2021-11-27T08:22:43.370Z"
   },
   {
    "duration": 39,
    "start_time": "2021-11-27T08:22:49.862Z"
   },
   {
    "duration": 28,
    "start_time": "2021-11-27T08:23:01.956Z"
   },
   {
    "duration": 4,
    "start_time": "2021-11-27T09:10:53.462Z"
   },
   {
    "duration": 13,
    "start_time": "2021-11-27T09:10:53.469Z"
   },
   {
    "duration": 282,
    "start_time": "2021-11-27T09:10:53.485Z"
   },
   {
    "duration": 169,
    "start_time": "2021-11-27T09:10:53.770Z"
   },
   {
    "duration": 28,
    "start_time": "2021-11-27T09:10:53.942Z"
   },
   {
    "duration": 47,
    "start_time": "2021-11-27T09:10:53.972Z"
   },
   {
    "duration": 4,
    "start_time": "2021-11-27T09:50:28.611Z"
   },
   {
    "duration": 5,
    "start_time": "2021-11-27T09:53:47.627Z"
   },
   {
    "duration": 5,
    "start_time": "2021-11-27T09:53:59.953Z"
   },
   {
    "duration": 5,
    "start_time": "2021-11-27T09:54:13.095Z"
   },
   {
    "duration": 5,
    "start_time": "2021-11-27T09:54:21.847Z"
   },
   {
    "duration": 6,
    "start_time": "2021-11-27T09:54:52.965Z"
   },
   {
    "duration": 6,
    "start_time": "2021-11-27T10:06:39.285Z"
   },
   {
    "duration": 8,
    "start_time": "2021-11-27T10:30:57.006Z"
   },
   {
    "duration": 457,
    "start_time": "2021-11-27T10:31:27.821Z"
   },
   {
    "duration": 328,
    "start_time": "2021-11-27T10:31:37.023Z"
   },
   {
    "duration": 26,
    "start_time": "2021-11-27T10:32:16.968Z"
   },
   {
    "duration": 8681,
    "start_time": "2021-11-27T10:32:22.840Z"
   },
   {
    "duration": 7,
    "start_time": "2021-11-27T10:32:34.439Z"
   },
   {
    "duration": 25,
    "start_time": "2021-11-27T10:32:54.387Z"
   },
   {
    "duration": 4,
    "start_time": "2021-11-27T10:33:14.636Z"
   },
   {
    "duration": 25,
    "start_time": "2021-11-27T10:33:21.082Z"
   },
   {
    "duration": 7,
    "start_time": "2021-11-27T10:34:02.573Z"
   },
   {
    "duration": 9385,
    "start_time": "2021-11-27T10:34:40.576Z"
   },
   {
    "duration": 13,
    "start_time": "2021-11-27T10:34:54.087Z"
   },
   {
    "duration": 48,
    "start_time": "2021-11-27T10:37:19.497Z"
   },
   {
    "duration": 7,
    "start_time": "2021-11-27T10:40:18.279Z"
   },
   {
    "duration": 8,
    "start_time": "2021-11-27T10:40:51.128Z"
   },
   {
    "duration": 134,
    "start_time": "2021-11-27T10:44:30.056Z"
   },
   {
    "duration": 82,
    "start_time": "2021-11-27T10:44:41.025Z"
   },
   {
    "duration": 50,
    "start_time": "2021-11-27T10:45:43.849Z"
   },
   {
    "duration": 21,
    "start_time": "2021-11-27T10:45:58.112Z"
   },
   {
    "duration": 21,
    "start_time": "2021-11-27T10:46:15.145Z"
   },
   {
    "duration": 9,
    "start_time": "2021-11-27T10:46:26.641Z"
   },
   {
    "duration": 7,
    "start_time": "2021-11-27T10:47:00.044Z"
   },
   {
    "duration": 22,
    "start_time": "2021-11-27T10:47:34.716Z"
   },
   {
    "duration": 33,
    "start_time": "2021-11-27T10:47:41.028Z"
   },
   {
    "duration": 8908,
    "start_time": "2021-11-27T10:51:22.172Z"
   },
   {
    "duration": 6,
    "start_time": "2021-11-27T10:51:41.849Z"
   },
   {
    "duration": 390,
    "start_time": "2021-11-27T10:51:45.853Z"
   },
   {
    "duration": 10526,
    "start_time": "2021-11-27T10:51:54.630Z"
   },
   {
    "duration": 7,
    "start_time": "2021-11-27T10:52:18.008Z"
   },
   {
    "duration": 38,
    "start_time": "2021-11-27T10:52:33.545Z"
   },
   {
    "duration": 7,
    "start_time": "2021-11-27T10:52:43.455Z"
   },
   {
    "duration": 15,
    "start_time": "2021-11-27T10:52:46.627Z"
   },
   {
    "duration": 11,
    "start_time": "2021-11-27T10:53:11.019Z"
   },
   {
    "duration": 6,
    "start_time": "2021-11-27T10:54:08.440Z"
   },
   {
    "duration": 906,
    "start_time": "2021-11-27T10:56:17.232Z"
   },
   {
    "duration": 909,
    "start_time": "2021-11-27T10:56:31.013Z"
   },
   {
    "duration": 356,
    "start_time": "2021-11-27T10:56:39.991Z"
   },
   {
    "duration": 398,
    "start_time": "2021-11-27T10:56:54.300Z"
   },
   {
    "duration": 6870,
    "start_time": "2021-11-27T10:57:03.605Z"
   },
   {
    "duration": 8,
    "start_time": "2021-11-27T10:57:15.384Z"
   },
   {
    "duration": 332,
    "start_time": "2021-11-27T10:57:55.221Z"
   },
   {
    "duration": 2346,
    "start_time": "2021-11-27T10:58:05.087Z"
   },
   {
    "duration": 6850,
    "start_time": "2021-11-27T10:58:23.519Z"
   },
   {
    "duration": 9,
    "start_time": "2021-11-27T10:59:24.491Z"
   },
   {
    "duration": 355,
    "start_time": "2021-11-27T11:02:30.355Z"
   },
   {
    "duration": 344,
    "start_time": "2021-11-27T11:02:41.245Z"
   },
   {
    "duration": 6,
    "start_time": "2021-11-27T11:03:58.546Z"
   },
   {
    "duration": 5,
    "start_time": "2021-11-27T11:04:00.457Z"
   },
   {
    "duration": 7,
    "start_time": "2021-11-27T11:04:24.915Z"
   },
   {
    "duration": 5,
    "start_time": "2021-11-27T11:04:27.276Z"
   },
   {
    "duration": 341,
    "start_time": "2021-11-27T11:10:11.061Z"
   },
   {
    "duration": 6,
    "start_time": "2021-11-27T11:10:15.921Z"
   },
   {
    "duration": 5,
    "start_time": "2021-11-27T11:10:25.743Z"
   },
   {
    "duration": 5,
    "start_time": "2021-11-27T11:13:24.497Z"
   },
   {
    "duration": 5,
    "start_time": "2021-11-27T11:13:37.131Z"
   },
   {
    "duration": 127,
    "start_time": "2021-11-27T11:14:51.799Z"
   },
   {
    "duration": 343,
    "start_time": "2021-11-27T11:14:57.468Z"
   },
   {
    "duration": 6,
    "start_time": "2021-11-27T11:16:06.578Z"
   },
   {
    "duration": 5,
    "start_time": "2021-11-27T11:16:11.057Z"
   },
   {
    "duration": 6,
    "start_time": "2021-11-27T11:16:14.328Z"
   },
   {
    "duration": 5,
    "start_time": "2021-11-27T11:17:49.035Z"
   },
   {
    "duration": 5,
    "start_time": "2021-11-27T11:18:03.726Z"
   },
   {
    "duration": 5,
    "start_time": "2021-11-27T11:18:23.348Z"
   },
   {
    "duration": 6,
    "start_time": "2021-11-27T11:23:22.201Z"
   },
   {
    "duration": 6,
    "start_time": "2021-11-27T11:25:32.340Z"
   },
   {
    "duration": 112,
    "start_time": "2021-11-27T11:26:38.367Z"
   },
   {
    "duration": 9,
    "start_time": "2021-11-27T11:26:43.811Z"
   },
   {
    "duration": 10,
    "start_time": "2021-11-27T11:27:02.228Z"
   },
   {
    "duration": 8,
    "start_time": "2021-11-27T11:32:03.215Z"
   },
   {
    "duration": 9,
    "start_time": "2021-11-27T11:37:44.704Z"
   },
   {
    "duration": 8,
    "start_time": "2021-11-27T11:37:47.618Z"
   },
   {
    "duration": 40,
    "start_time": "2021-11-27T11:41:17.592Z"
   },
   {
    "duration": 14,
    "start_time": "2021-11-27T11:41:21.788Z"
   },
   {
    "duration": 8,
    "start_time": "2021-11-27T11:42:42.518Z"
   },
   {
    "duration": 9,
    "start_time": "2021-11-27T11:43:07.932Z"
   },
   {
    "duration": 346,
    "start_time": "2021-11-27T11:44:19.124Z"
   },
   {
    "duration": 339,
    "start_time": "2021-11-27T11:44:42.627Z"
   },
   {
    "duration": 361,
    "start_time": "2021-11-27T11:45:00.874Z"
   },
   {
    "duration": 6,
    "start_time": "2021-11-27T11:45:22.947Z"
   },
   {
    "duration": 340,
    "start_time": "2021-11-27T11:45:41.724Z"
   },
   {
    "duration": 6,
    "start_time": "2021-11-27T11:46:00.568Z"
   },
   {
    "duration": 14,
    "start_time": "2021-11-27T11:46:17.668Z"
   },
   {
    "duration": 13,
    "start_time": "2021-11-27T11:46:55.558Z"
   },
   {
    "duration": 15,
    "start_time": "2021-11-27T11:49:08.783Z"
   },
   {
    "duration": 9,
    "start_time": "2021-11-27T11:51:42.540Z"
   },
   {
    "duration": 13,
    "start_time": "2021-11-27T11:51:45.565Z"
   },
   {
    "duration": 9,
    "start_time": "2021-11-27T11:52:05.242Z"
   },
   {
    "duration": 17,
    "start_time": "2021-11-27T11:52:06.457Z"
   },
   {
    "duration": 9,
    "start_time": "2021-11-27T11:52:39.522Z"
   },
   {
    "duration": 14,
    "start_time": "2021-11-27T11:52:40.185Z"
   },
   {
    "duration": 7,
    "start_time": "2021-11-27T12:05:45.832Z"
   },
   {
    "duration": 6,
    "start_time": "2021-11-27T12:06:12.689Z"
   },
   {
    "duration": 4,
    "start_time": "2021-11-27T12:06:21.045Z"
   },
   {
    "duration": 24,
    "start_time": "2021-11-27T12:06:23.879Z"
   },
   {
    "duration": 16,
    "start_time": "2021-11-27T12:06:59.712Z"
   },
   {
    "duration": 5607,
    "start_time": "2021-11-27T12:07:42.237Z"
   },
   {
    "duration": 13,
    "start_time": "2021-11-27T12:09:04.398Z"
   },
   {
    "duration": 8,
    "start_time": "2021-11-27T12:10:28.357Z"
   },
   {
    "duration": 5354,
    "start_time": "2021-11-27T12:10:47.247Z"
   },
   {
    "duration": 4748,
    "start_time": "2021-11-27T12:11:04.686Z"
   },
   {
    "duration": 724,
    "start_time": "2021-11-27T12:15:00.604Z"
   },
   {
    "duration": 9,
    "start_time": "2021-11-27T12:15:59.125Z"
   },
   {
    "duration": 13,
    "start_time": "2021-11-27T12:16:17.170Z"
   },
   {
    "duration": 10,
    "start_time": "2021-11-27T12:16:39.795Z"
   },
   {
    "duration": 11,
    "start_time": "2021-11-27T12:16:40.717Z"
   },
   {
    "duration": 749,
    "start_time": "2021-11-27T12:17:16.763Z"
   },
   {
    "duration": 10,
    "start_time": "2021-11-27T12:17:24.031Z"
   },
   {
    "duration": 8,
    "start_time": "2021-11-27T12:18:14.161Z"
   },
   {
    "duration": 9,
    "start_time": "2021-11-27T12:18:14.712Z"
   },
   {
    "duration": 7,
    "start_time": "2021-11-27T12:18:32.894Z"
   },
   {
    "duration": 23,
    "start_time": "2021-11-27T12:18:43.682Z"
   },
   {
    "duration": 694,
    "start_time": "2021-11-27T12:19:05.305Z"
   },
   {
    "duration": 683,
    "start_time": "2021-11-27T12:19:41.981Z"
   },
   {
    "duration": 8,
    "start_time": "2021-11-27T12:21:28.835Z"
   },
   {
    "duration": 713,
    "start_time": "2021-11-27T12:21:30.646Z"
   },
   {
    "duration": 8,
    "start_time": "2021-11-27T12:21:52.157Z"
   },
   {
    "duration": 1978,
    "start_time": "2021-11-27T12:21:52.877Z"
   },
   {
    "duration": 9,
    "start_time": "2021-11-27T12:23:36.370Z"
   },
   {
    "duration": 13,
    "start_time": "2021-11-27T12:23:37.380Z"
   },
   {
    "duration": 18,
    "start_time": "2021-11-27T12:23:49.518Z"
   },
   {
    "duration": 13,
    "start_time": "2021-11-27T12:23:50.283Z"
   },
   {
    "duration": 9,
    "start_time": "2021-11-27T12:24:18.904Z"
   },
   {
    "duration": 14,
    "start_time": "2021-11-27T12:24:19.454Z"
   },
   {
    "duration": 8,
    "start_time": "2021-11-27T12:26:48.418Z"
   },
   {
    "duration": 696,
    "start_time": "2021-11-27T12:26:50.309Z"
   },
   {
    "duration": 8,
    "start_time": "2021-11-27T12:27:02.538Z"
   },
   {
    "duration": 764,
    "start_time": "2021-11-27T12:27:03.157Z"
   },
   {
    "duration": 10,
    "start_time": "2021-11-27T12:28:10.769Z"
   },
   {
    "duration": 13,
    "start_time": "2021-11-27T12:28:12.142Z"
   },
   {
    "duration": 12,
    "start_time": "2021-11-27T12:28:19.252Z"
   },
   {
    "duration": 9,
    "start_time": "2021-11-27T12:28:38.377Z"
   },
   {
    "duration": 705,
    "start_time": "2021-11-27T12:28:39.569Z"
   },
   {
    "duration": 8,
    "start_time": "2021-11-27T12:28:59.843Z"
   },
   {
    "duration": 714,
    "start_time": "2021-11-27T12:29:01.384Z"
   },
   {
    "duration": 9,
    "start_time": "2021-11-27T12:29:34.898Z"
   },
   {
    "duration": 667,
    "start_time": "2021-11-27T12:29:35.967Z"
   },
   {
    "duration": 8,
    "start_time": "2021-11-27T12:31:00.716Z"
   },
   {
    "duration": 16,
    "start_time": "2021-11-27T12:31:01.794Z"
   },
   {
    "duration": 22,
    "start_time": "2021-11-27T12:31:40.691Z"
   },
   {
    "duration": 12,
    "start_time": "2021-11-27T12:32:05.472Z"
   },
   {
    "duration": 22,
    "start_time": "2021-11-27T12:32:12.042Z"
   },
   {
    "duration": 1336,
    "start_time": "2021-11-27T12:33:40.006Z"
   },
   {
    "duration": 8,
    "start_time": "2021-11-27T12:36:32.393Z"
   },
   {
    "duration": 394,
    "start_time": "2021-11-27T12:36:43.463Z"
   },
   {
    "duration": 22,
    "start_time": "2021-11-27T12:36:48.751Z"
   },
   {
    "duration": 19,
    "start_time": "2021-11-27T12:37:37.823Z"
   },
   {
    "duration": 4,
    "start_time": "2021-11-27T12:44:56.670Z"
   },
   {
    "duration": 11,
    "start_time": "2021-11-27T12:45:00.822Z"
   },
   {
    "duration": 372,
    "start_time": "2021-11-27T12:45:04.409Z"
   },
   {
    "duration": 29,
    "start_time": "2021-11-27T12:45:08.090Z"
   },
   {
    "duration": 400,
    "start_time": "2021-11-27T12:45:51.897Z"
   },
   {
    "duration": 34,
    "start_time": "2021-11-27T12:45:53.754Z"
   },
   {
    "duration": 9,
    "start_time": "2021-11-27T12:46:02.688Z"
   },
   {
    "duration": 376,
    "start_time": "2021-11-27T12:46:03.597Z"
   },
   {
    "duration": 31,
    "start_time": "2021-11-27T12:46:04.914Z"
   },
   {
    "duration": 392,
    "start_time": "2021-11-27T12:46:29.429Z"
   },
   {
    "duration": 32,
    "start_time": "2021-11-27T12:46:30.992Z"
   },
   {
    "duration": 8,
    "start_time": "2021-11-27T12:46:47.642Z"
   },
   {
    "duration": 379,
    "start_time": "2021-11-27T12:46:49.510Z"
   },
   {
    "duration": 31,
    "start_time": "2021-11-27T12:46:50.870Z"
   },
   {
    "duration": 5,
    "start_time": "2021-11-27T12:47:55.052Z"
   },
   {
    "duration": 5,
    "start_time": "2021-11-27T12:48:04.469Z"
   },
   {
    "duration": 5,
    "start_time": "2021-11-27T12:48:22.256Z"
   },
   {
    "duration": 5,
    "start_time": "2021-11-27T12:57:11.117Z"
   },
   {
    "duration": 5,
    "start_time": "2021-11-27T12:58:36.066Z"
   },
   {
    "duration": 5,
    "start_time": "2021-11-27T12:58:42.964Z"
   },
   {
    "duration": 7,
    "start_time": "2021-11-27T12:59:23.216Z"
   },
   {
    "duration": 6,
    "start_time": "2021-11-27T12:59:27.706Z"
   },
   {
    "duration": 6,
    "start_time": "2021-11-27T12:59:53.513Z"
   },
   {
    "duration": 47,
    "start_time": "2021-11-27T13:01:20.886Z"
   },
   {
    "duration": 5,
    "start_time": "2021-11-27T13:01:26.339Z"
   },
   {
    "duration": 125,
    "start_time": "2021-11-27T13:01:31.616Z"
   },
   {
    "duration": 11,
    "start_time": "2021-11-27T13:01:37.139Z"
   },
   {
    "duration": 4,
    "start_time": "2021-11-27T13:02:15.853Z"
   },
   {
    "duration": 373,
    "start_time": "2021-11-27T13:02:17.190Z"
   },
   {
    "duration": 32,
    "start_time": "2021-11-27T13:02:19.416Z"
   },
   {
    "duration": 25,
    "start_time": "2021-11-27T13:02:32.321Z"
   },
   {
    "duration": 9,
    "start_time": "2021-11-27T13:06:05.851Z"
   },
   {
    "duration": 4,
    "start_time": "2021-11-27T13:06:06.717Z"
   },
   {
    "duration": 365,
    "start_time": "2021-11-27T13:06:08.021Z"
   },
   {
    "duration": 30,
    "start_time": "2021-11-27T13:06:09.708Z"
   },
   {
    "duration": 24,
    "start_time": "2021-11-27T13:06:11.486Z"
   },
   {
    "duration": 27,
    "start_time": "2021-11-27T13:12:10.863Z"
   },
   {
    "duration": 413,
    "start_time": "2021-11-27T13:12:13.113Z"
   },
   {
    "duration": 27,
    "start_time": "2021-11-27T13:12:16.117Z"
   },
   {
    "duration": 52095,
    "start_time": "2021-11-27T13:29:48.380Z"
   },
   {
    "duration": 53,
    "start_time": "2021-11-27T13:30:48.468Z"
   },
   {
    "duration": 51,
    "start_time": "2021-11-27T13:31:35.572Z"
   },
   {
    "duration": 397,
    "start_time": "2021-11-27T13:36:27.021Z"
   },
   {
    "duration": 7,
    "start_time": "2021-11-27T13:36:41.173Z"
   },
   {
    "duration": 160,
    "start_time": "2021-11-27T13:46:21.081Z"
   },
   {
    "duration": 51,
    "start_time": "2021-11-27T13:46:38.985Z"
   },
   {
    "duration": 122,
    "start_time": "2021-11-27T13:46:55.206Z"
   },
   {
    "duration": 119,
    "start_time": "2021-11-27T13:47:01.866Z"
   },
   {
    "duration": 121,
    "start_time": "2021-11-27T13:47:09.999Z"
   },
   {
    "duration": 7,
    "start_time": "2021-11-27T13:47:19.933Z"
   },
   {
    "duration": 5,
    "start_time": "2021-11-27T13:48:00.052Z"
   },
   {
    "duration": 7,
    "start_time": "2021-11-27T13:48:32.543Z"
   },
   {
    "duration": 362,
    "start_time": "2021-11-27T14:09:06.129Z"
   },
   {
    "duration": 6,
    "start_time": "2021-11-27T14:09:09.286Z"
   },
   {
    "duration": 9,
    "start_time": "2021-11-27T14:31:22.100Z"
   },
   {
    "duration": 7,
    "start_time": "2021-11-27T14:32:01.015Z"
   },
   {
    "duration": 6,
    "start_time": "2021-11-27T14:32:10.754Z"
   },
   {
    "duration": 353,
    "start_time": "2021-11-27T14:33:29.461Z"
   },
   {
    "duration": 381,
    "start_time": "2021-11-27T14:33:47.181Z"
   },
   {
    "duration": 405,
    "start_time": "2021-11-27T14:34:06.385Z"
   },
   {
    "duration": 21,
    "start_time": "2021-11-27T14:34:19.086Z"
   },
   {
    "duration": 346,
    "start_time": "2021-11-27T14:34:41.732Z"
   },
   {
    "duration": 451,
    "start_time": "2021-11-27T14:34:47.594Z"
   },
   {
    "duration": 21,
    "start_time": "2021-11-27T14:35:01.600Z"
   },
   {
    "duration": 30,
    "start_time": "2021-11-27T14:35:24.404Z"
   },
   {
    "duration": 30,
    "start_time": "2021-11-27T14:40:50.820Z"
   },
   {
    "duration": 405,
    "start_time": "2021-11-27T14:45:49.691Z"
   },
   {
    "duration": 28,
    "start_time": "2021-11-27T14:45:54.393Z"
   },
   {
    "duration": 368,
    "start_time": "2021-11-27T14:46:13.687Z"
   },
   {
    "duration": 26,
    "start_time": "2021-11-27T15:03:01.457Z"
   },
   {
    "duration": 443,
    "start_time": "2021-11-27T15:03:20.526Z"
   },
   {
    "duration": 374,
    "start_time": "2021-11-27T15:03:28.040Z"
   },
   {
    "duration": 349,
    "start_time": "2021-11-27T15:04:07.472Z"
   },
   {
    "duration": 26,
    "start_time": "2021-11-27T15:04:10.848Z"
   },
   {
    "duration": 43,
    "start_time": "2021-11-27T15:04:31.334Z"
   },
   {
    "duration": 4,
    "start_time": "2021-11-27T15:05:16.041Z"
   },
   {
    "duration": 42,
    "start_time": "2021-11-27T15:05:20.553Z"
   },
   {
    "duration": 378,
    "start_time": "2021-11-27T15:06:21.936Z"
   },
   {
    "duration": 37,
    "start_time": "2021-11-27T15:06:31.800Z"
   },
   {
    "duration": 38,
    "start_time": "2021-11-27T15:07:05.012Z"
   },
   {
    "duration": 32,
    "start_time": "2021-11-27T15:07:27.906Z"
   },
   {
    "duration": 33,
    "start_time": "2021-11-27T15:07:53.398Z"
   },
   {
    "duration": 22,
    "start_time": "2021-11-27T15:23:15.059Z"
   },
   {
    "duration": 113,
    "start_time": "2021-11-27T15:23:26.646Z"
   },
   {
    "duration": 346,
    "start_time": "2021-11-27T15:23:30.291Z"
   },
   {
    "duration": 13,
    "start_time": "2021-11-27T15:24:14.065Z"
   },
   {
    "duration": 14,
    "start_time": "2021-11-27T15:24:37.972Z"
   },
   {
    "duration": 9,
    "start_time": "2021-11-27T15:25:03.004Z"
   },
   {
    "duration": 3,
    "start_time": "2021-11-27T16:29:05.954Z"
   },
   {
    "duration": 8,
    "start_time": "2021-11-27T16:29:05.961Z"
   },
   {
    "duration": 4045,
    "start_time": "2021-11-27T16:29:05.973Z"
   },
   {
    "duration": 163,
    "start_time": "2021-11-27T16:29:10.021Z"
   },
   {
    "duration": 33,
    "start_time": "2021-11-27T16:29:10.186Z"
   },
   {
    "duration": 38,
    "start_time": "2021-11-27T16:29:10.222Z"
   },
   {
    "duration": 7,
    "start_time": "2021-11-27T16:29:10.263Z"
   },
   {
    "duration": 34,
    "start_time": "2021-11-27T16:29:10.273Z"
   },
   {
    "duration": 51325,
    "start_time": "2021-11-27T16:29:10.311Z"
   },
   {
    "duration": 5,
    "start_time": "2021-11-27T16:30:01.639Z"
   },
   {
    "duration": 65,
    "start_time": "2021-11-27T16:30:01.647Z"
   },
   {
    "duration": 8,
    "start_time": "2021-11-27T16:30:01.714Z"
   },
   {
    "duration": 46,
    "start_time": "2021-11-27T16:30:01.724Z"
   },
   {
    "duration": 22,
    "start_time": "2021-11-27T16:30:01.773Z"
   },
   {
    "duration": 138,
    "start_time": "2021-11-27T18:05:13.919Z"
   },
   {
    "duration": 119,
    "start_time": "2021-11-27T18:05:29.899Z"
   },
   {
    "duration": 129,
    "start_time": "2021-11-27T18:06:14.822Z"
   },
   {
    "duration": 119,
    "start_time": "2021-11-27T18:06:20.796Z"
   },
   {
    "duration": 119,
    "start_time": "2021-11-27T18:06:33.364Z"
   },
   {
    "duration": 123,
    "start_time": "2021-11-27T18:06:44.837Z"
   },
   {
    "duration": 118,
    "start_time": "2021-11-27T18:08:15.212Z"
   },
   {
    "duration": 118,
    "start_time": "2021-11-27T18:08:19.216Z"
   },
   {
    "duration": 118,
    "start_time": "2021-11-27T18:09:26.818Z"
   },
   {
    "duration": 190,
    "start_time": "2021-11-27T18:09:39.755Z"
   },
   {
    "duration": 125,
    "start_time": "2021-11-27T18:11:13.886Z"
   },
   {
    "duration": 130,
    "start_time": "2021-11-27T18:12:41.705Z"
   },
   {
    "duration": 815,
    "start_time": "2021-11-28T13:49:05.357Z"
   },
   {
    "duration": 4,
    "start_time": "2021-11-28T13:49:06.174Z"
   },
   {
    "duration": 849,
    "start_time": "2021-11-28T13:49:06.181Z"
   },
   {
    "duration": 168,
    "start_time": "2021-11-28T13:49:07.033Z"
   },
   {
    "duration": 39,
    "start_time": "2021-11-28T13:49:07.203Z"
   },
   {
    "duration": 65,
    "start_time": "2021-11-28T13:49:07.246Z"
   },
   {
    "duration": 8,
    "start_time": "2021-11-28T13:49:07.314Z"
   },
   {
    "duration": 15,
    "start_time": "2021-11-28T13:49:07.325Z"
   },
   {
    "duration": 47151,
    "start_time": "2021-11-28T13:49:07.345Z"
   },
   {
    "duration": 5,
    "start_time": "2021-11-28T13:49:54.499Z"
   },
   {
    "duration": 49,
    "start_time": "2021-11-28T13:49:54.506Z"
   },
   {
    "duration": 28,
    "start_time": "2021-11-28T13:49:54.557Z"
   },
   {
    "duration": 26,
    "start_time": "2021-11-28T13:49:54.587Z"
   },
   {
    "duration": 8,
    "start_time": "2021-11-28T13:49:54.616Z"
   },
   {
    "duration": 24,
    "start_time": "2021-11-28T14:42:45.176Z"
   },
   {
    "duration": 20,
    "start_time": "2021-11-28T14:48:16.673Z"
   },
   {
    "duration": 391,
    "start_time": "2021-11-28T14:53:48.665Z"
   },
   {
    "duration": 4,
    "start_time": "2021-11-28T14:54:04.203Z"
   },
   {
    "duration": 149,
    "start_time": "2021-11-28T14:54:08.949Z"
   },
   {
    "duration": 42,
    "start_time": "2021-11-28T14:55:27.420Z"
   },
   {
    "duration": 47,
    "start_time": "2021-11-28T14:55:50.246Z"
   },
   {
    "duration": 37,
    "start_time": "2021-11-28T14:55:54.173Z"
   },
   {
    "duration": 4,
    "start_time": "2021-11-28T15:00:45.598Z"
   },
   {
    "duration": 30,
    "start_time": "2021-11-28T15:00:54.204Z"
   },
   {
    "duration": 7841,
    "start_time": "2021-11-28T15:25:09.204Z"
   },
   {
    "duration": 4,
    "start_time": "2021-11-28T15:25:17.235Z"
   },
   {
    "duration": 4,
    "start_time": "2021-11-28T15:25:20.318Z"
   },
   {
    "duration": 8064,
    "start_time": "2021-11-28T15:25:45.801Z"
   },
   {
    "duration": 20,
    "start_time": "2021-11-28T15:27:06.352Z"
   },
   {
    "duration": 805,
    "start_time": "2021-11-28T15:57:35.495Z"
   },
   {
    "duration": 35,
    "start_time": "2021-11-28T16:03:51.866Z"
   },
   {
    "duration": 24,
    "start_time": "2021-11-28T16:04:05.737Z"
   },
   {
    "duration": 3,
    "start_time": "2021-11-28T16:05:16.871Z"
   },
   {
    "duration": 26,
    "start_time": "2021-11-28T16:08:03.059Z"
   },
   {
    "duration": 54,
    "start_time": "2021-11-28T16:10:37.526Z"
   },
   {
    "duration": 38,
    "start_time": "2021-11-28T16:10:45.681Z"
   },
   {
    "duration": 22,
    "start_time": "2021-11-28T16:20:15.392Z"
   },
   {
    "duration": 118,
    "start_time": "2021-11-28T16:20:43.978Z"
   },
   {
    "duration": 376,
    "start_time": "2021-11-28T16:21:13.656Z"
   },
   {
    "duration": 23,
    "start_time": "2021-11-28T16:21:22.150Z"
   },
   {
    "duration": 4,
    "start_time": "2021-11-28T16:28:56.377Z"
   },
   {
    "duration": 4,
    "start_time": "2021-11-28T16:31:21.088Z"
   },
   {
    "duration": 5765,
    "start_time": "2021-11-28T16:31:22.718Z"
   },
   {
    "duration": 5,
    "start_time": "2021-11-28T16:32:40.897Z"
   },
   {
    "duration": 5,
    "start_time": "2021-11-28T16:35:02.841Z"
   },
   {
    "duration": 5,
    "start_time": "2021-11-28T16:35:10.748Z"
   },
   {
    "duration": 5,
    "start_time": "2021-11-28T16:35:23.530Z"
   },
   {
    "duration": 308,
    "start_time": "2021-11-28T16:35:38.717Z"
   },
   {
    "duration": 5,
    "start_time": "2021-11-28T16:35:47.695Z"
   },
   {
    "duration": 5,
    "start_time": "2021-11-28T16:35:55.007Z"
   },
   {
    "duration": 7,
    "start_time": "2021-11-28T16:36:02.838Z"
   },
   {
    "duration": 289,
    "start_time": "2021-11-28T16:38:10.482Z"
   },
   {
    "duration": 5,
    "start_time": "2021-11-28T16:39:00.468Z"
   },
   {
    "duration": 5864,
    "start_time": "2021-11-28T16:39:04.921Z"
   },
   {
    "duration": 4,
    "start_time": "2021-11-28T16:40:05.403Z"
   },
   {
    "duration": 724,
    "start_time": "2021-11-28T16:40:14.009Z"
   },
   {
    "duration": 2790,
    "start_time": "2021-11-28T16:40:25.192Z"
   },
   {
    "duration": 3676,
    "start_time": "2021-11-28T16:40:50.100Z"
   },
   {
    "duration": 5,
    "start_time": "2021-11-28T16:43:44.637Z"
   },
   {
    "duration": 3466,
    "start_time": "2021-11-28T16:43:52.523Z"
   },
   {
    "duration": 4,
    "start_time": "2021-11-28T16:44:05.359Z"
   },
   {
    "duration": 3607,
    "start_time": "2021-11-28T16:44:06.394Z"
   },
   {
    "duration": 7327,
    "start_time": "2021-11-28T16:44:22.392Z"
   },
   {
    "duration": 5556,
    "start_time": "2021-11-28T16:44:45.026Z"
   },
   {
    "duration": 322,
    "start_time": "2021-11-28T16:48:13.564Z"
   },
   {
    "duration": 4,
    "start_time": "2021-11-28T16:48:20.275Z"
   },
   {
    "duration": 4,
    "start_time": "2021-11-28T16:48:40.090Z"
   },
   {
    "duration": 30122,
    "start_time": "2021-11-28T16:48:43.126Z"
   },
   {
    "duration": 4,
    "start_time": "2021-11-28T16:50:28.598Z"
   },
   {
    "duration": 162649,
    "start_time": "2021-11-28T16:50:35.741Z"
   },
   {
    "duration": 5,
    "start_time": "2021-11-28T16:54:06.377Z"
   },
   {
    "duration": 6,
    "start_time": "2021-11-28T16:54:17.403Z"
   },
   {
    "duration": 5,
    "start_time": "2021-11-28T16:54:23.410Z"
   },
   {
    "duration": 1113,
    "start_time": "2021-11-28T17:00:53.605Z"
   },
   {
    "duration": 609,
    "start_time": "2021-11-28T17:01:16.913Z"
   },
   {
    "duration": 472,
    "start_time": "2021-11-28T17:02:44.676Z"
   },
   {
    "duration": 25869,
    "start_time": "2021-11-28T17:03:08.830Z"
   },
   {
    "duration": 57877,
    "start_time": "2021-11-28T17:05:06.428Z"
   },
   {
    "duration": 12212,
    "start_time": "2021-11-28T17:11:44.955Z"
   },
   {
    "duration": 522594,
    "start_time": "2021-11-28T17:12:11.225Z"
   },
   {
    "duration": -205,
    "start_time": "2021-11-28T17:20:54.029Z"
   },
   {
    "duration": 875510,
    "start_time": "2021-11-28T17:21:41.477Z"
   },
   {
    "duration": 28628,
    "start_time": "2021-11-28T17:36:48.537Z"
   },
   {
    "duration": 23264,
    "start_time": "2021-11-28T17:39:02.839Z"
   },
   {
    "duration": 19864,
    "start_time": "2021-11-28T17:39:49.461Z"
   },
   {
    "duration": 39381,
    "start_time": "2021-11-28T17:41:14.343Z"
   },
   {
    "duration": 149824,
    "start_time": "2021-11-28T17:42:43.759Z"
   },
   {
    "duration": 887618,
    "start_time": "2021-11-28T17:57:16.459Z"
   },
   {
    "duration": 464,
    "start_time": "2021-11-28T18:16:45.435Z"
   },
   {
    "duration": 55,
    "start_time": "2021-11-28T18:17:42.764Z"
   },
   {
    "duration": 49,
    "start_time": "2021-11-28T18:18:33.200Z"
   },
   {
    "duration": 7,
    "start_time": "2021-11-28T18:20:01.254Z"
   },
   {
    "duration": 5,
    "start_time": "2021-11-28T18:20:08.905Z"
   },
   {
    "duration": 301,
    "start_time": "2021-11-28T18:20:44.274Z"
   },
   {
    "duration": 6,
    "start_time": "2021-11-28T18:20:47.977Z"
   },
   {
    "duration": 5,
    "start_time": "2021-11-28T18:21:22.291Z"
   },
   {
    "duration": 57,
    "start_time": "2021-11-28T18:21:54.589Z"
   },
   {
    "duration": 5,
    "start_time": "2021-11-28T18:21:59.955Z"
   },
   {
    "duration": 9,
    "start_time": "2021-11-28T18:22:08.212Z"
   },
   {
    "duration": 53,
    "start_time": "2021-11-28T18:23:30.462Z"
   },
   {
    "duration": 53,
    "start_time": "2021-11-28T18:23:55.813Z"
   },
   {
    "duration": 57,
    "start_time": "2021-11-28T18:26:36.239Z"
   },
   {
    "duration": 62,
    "start_time": "2021-11-28T18:27:00.639Z"
   },
   {
    "duration": 104,
    "start_time": "2021-11-28T18:27:33.070Z"
   },
   {
    "duration": 64,
    "start_time": "2021-11-28T18:27:41.106Z"
   },
   {
    "duration": 14,
    "start_time": "2021-11-28T18:39:45.114Z"
   },
   {
    "duration": 12,
    "start_time": "2021-11-28T18:39:57.072Z"
   },
   {
    "duration": 9,
    "start_time": "2021-11-28T18:41:47.403Z"
   },
   {
    "duration": 7,
    "start_time": "2021-11-28T18:41:58.023Z"
   },
   {
    "duration": 6,
    "start_time": "2021-11-28T18:55:19.070Z"
   },
   {
    "duration": 6,
    "start_time": "2021-11-28T18:55:32.199Z"
   },
   {
    "duration": 10,
    "start_time": "2021-11-28T18:56:32.647Z"
   },
   {
    "duration": 1203,
    "start_time": "2021-11-28T18:57:10.008Z"
   },
   {
    "duration": 1201,
    "start_time": "2021-11-28T18:57:31.192Z"
   },
   {
    "duration": 1230,
    "start_time": "2021-11-28T18:57:57.529Z"
   },
   {
    "duration": 1953,
    "start_time": "2021-11-28T18:58:18.579Z"
   },
   {
    "duration": 8,
    "start_time": "2021-11-28T18:58:41.293Z"
   },
   {
    "duration": 18,
    "start_time": "2021-11-28T18:58:52.645Z"
   },
   {
    "duration": 52,
    "start_time": "2021-11-28T18:58:54.130Z"
   },
   {
    "duration": 5255,
    "start_time": "2021-11-28T18:58:58.854Z"
   },
   {
    "duration": 58,
    "start_time": "2021-11-28T18:59:33.212Z"
   },
   {
    "duration": 7,
    "start_time": "2021-11-28T19:00:14.863Z"
   },
   {
    "duration": 7,
    "start_time": "2021-11-28T19:01:00.526Z"
   },
   {
    "duration": 16,
    "start_time": "2021-11-28T19:01:24.353Z"
   },
   {
    "duration": 53,
    "start_time": "2021-11-28T19:01:29.585Z"
   },
   {
    "duration": 12,
    "start_time": "2021-11-28T19:01:41.288Z"
   },
   {
    "duration": 6,
    "start_time": "2021-11-28T19:01:52.795Z"
   },
   {
    "duration": 5308,
    "start_time": "2021-11-28T19:09:03.970Z"
   },
   {
    "duration": 63,
    "start_time": "2021-11-28T19:09:10.786Z"
   },
   {
    "duration": 6,
    "start_time": "2021-11-28T19:09:41.556Z"
   },
   {
    "duration": 58,
    "start_time": "2021-11-28T19:09:54.257Z"
   },
   {
    "duration": 6,
    "start_time": "2021-11-28T19:12:06.707Z"
   },
   {
    "duration": 6,
    "start_time": "2021-11-28T19:12:54.733Z"
   },
   {
    "duration": 6,
    "start_time": "2021-11-28T19:16:17.787Z"
   },
   {
    "duration": 5,
    "start_time": "2021-11-28T19:19:58.565Z"
   },
   {
    "duration": 1471,
    "start_time": "2021-11-29T15:10:28.643Z"
   },
   {
    "duration": 4,
    "start_time": "2021-11-29T15:10:30.946Z"
   },
   {
    "duration": 283,
    "start_time": "2021-11-29T15:10:32.104Z"
   },
   {
    "duration": 158,
    "start_time": "2021-11-29T15:10:35.118Z"
   },
   {
    "duration": 42,
    "start_time": "2021-11-29T15:10:36.447Z"
   },
   {
    "duration": 27,
    "start_time": "2021-11-29T15:10:37.844Z"
   },
   {
    "duration": 5,
    "start_time": "2021-11-29T15:10:41.869Z"
   },
   {
    "duration": 65,
    "start_time": "2021-11-29T15:10:45.784Z"
   },
   {
    "duration": 24,
    "start_time": "2021-11-29T15:10:59.859Z"
   },
   {
    "duration": 30,
    "start_time": "2021-11-29T15:11:05.775Z"
   },
   {
    "duration": 7,
    "start_time": "2021-11-29T15:11:09.140Z"
   },
   {
    "duration": 10,
    "start_time": "2021-11-29T15:11:11.220Z"
   },
   {
    "duration": 46604,
    "start_time": "2021-11-29T15:11:12.965Z"
   },
   {
    "duration": 7,
    "start_time": "2021-11-29T15:12:02.432Z"
   },
   {
    "duration": 3,
    "start_time": "2021-11-29T15:12:04.343Z"
   },
   {
    "duration": 70686,
    "start_time": "2021-11-29T15:12:19.218Z"
   },
   {
    "duration": 633282,
    "start_time": "2021-11-29T15:14:35.356Z"
   },
   {
    "duration": 210174,
    "start_time": "2021-11-29T15:26:44.391Z"
   },
   {
    "duration": 63,
    "start_time": "2021-11-29T15:30:27.655Z"
   },
   {
    "duration": 7,
    "start_time": "2021-11-29T15:30:35.683Z"
   },
   {
    "duration": 5,
    "start_time": "2021-11-29T15:30:38.305Z"
   },
   {
    "duration": 51,
    "start_time": "2021-11-29T15:31:07.763Z"
   },
   {
    "duration": 6,
    "start_time": "2021-11-29T15:31:10.503Z"
   },
   {
    "duration": 4742,
    "start_time": "2021-11-29T15:31:15.161Z"
   },
   {
    "duration": 8,
    "start_time": "2021-11-29T15:31:23.003Z"
   },
   {
    "duration": 5,
    "start_time": "2021-11-29T15:32:13.514Z"
   },
   {
    "duration": 54,
    "start_time": "2021-11-29T15:32:15.856Z"
   },
   {
    "duration": 21,
    "start_time": "2021-11-29T15:32:16.940Z"
   },
   {
    "duration": 22,
    "start_time": "2021-11-29T15:32:17.408Z"
   },
   {
    "duration": 8,
    "start_time": "2021-11-29T15:32:18.711Z"
   },
   {
    "duration": 12,
    "start_time": "2021-11-29T15:32:21.154Z"
   },
   {
    "duration": 46975,
    "start_time": "2021-11-29T15:32:24.528Z"
   },
   {
    "duration": 57840,
    "start_time": "2021-11-29T15:33:26.349Z"
   },
   {
    "duration": 9129,
    "start_time": "2021-11-29T15:34:38.193Z"
   },
   {
    "duration": 8771,
    "start_time": "2021-11-29T15:35:11.189Z"
   },
   {
    "duration": 15887,
    "start_time": "2021-11-29T15:35:25.545Z"
   },
   {
    "duration": 153155,
    "start_time": "2021-11-29T15:35:57.406Z"
   },
   {
    "duration": 50,
    "start_time": "2021-11-29T15:38:38.902Z"
   },
   {
    "duration": 59,
    "start_time": "2021-11-29T15:39:15.374Z"
   },
   {
    "duration": 6,
    "start_time": "2021-11-29T15:39:21.111Z"
   },
   {
    "duration": 5,
    "start_time": "2021-11-29T15:39:49.654Z"
   },
   {
    "duration": 5229,
    "start_time": "2021-11-29T15:40:01.241Z"
   },
   {
    "duration": 5,
    "start_time": "2021-11-29T15:40:12.021Z"
   },
   {
    "duration": 543,
    "start_time": "2021-11-29T15:53:33.843Z"
   },
   {
    "duration": 70,
    "start_time": "2021-11-29T15:53:44.419Z"
   },
   {
    "duration": 5,
    "start_time": "2021-11-29T16:00:43.646Z"
   },
   {
    "duration": 22,
    "start_time": "2021-11-29T16:00:59.429Z"
   },
   {
    "duration": 15,
    "start_time": "2021-11-29T16:01:26.475Z"
   },
   {
    "duration": 18,
    "start_time": "2021-11-29T16:01:54.499Z"
   },
   {
    "duration": 19,
    "start_time": "2021-11-29T16:02:10.801Z"
   },
   {
    "duration": 27,
    "start_time": "2021-11-29T16:06:07.606Z"
   },
   {
    "duration": 15,
    "start_time": "2021-11-29T16:06:25.393Z"
   },
   {
    "duration": 16,
    "start_time": "2021-11-29T16:07:09.167Z"
   },
   {
    "duration": 17,
    "start_time": "2021-11-29T16:07:38.632Z"
   },
   {
    "duration": 16,
    "start_time": "2021-11-29T16:08:38.291Z"
   },
   {
    "duration": 16,
    "start_time": "2021-11-29T16:12:13.812Z"
   },
   {
    "duration": 375,
    "start_time": "2021-11-29T16:15:45.495Z"
   },
   {
    "duration": 18,
    "start_time": "2021-11-29T16:15:54.497Z"
   },
   {
    "duration": 64,
    "start_time": "2021-11-29T16:16:11.956Z"
   },
   {
    "duration": 47,
    "start_time": "2021-11-29T16:16:37.167Z"
   },
   {
    "duration": 63,
    "start_time": "2021-11-29T16:16:51.174Z"
   },
   {
    "duration": 21,
    "start_time": "2021-11-29T16:24:42.254Z"
   },
   {
    "duration": 23,
    "start_time": "2021-11-29T16:25:02.200Z"
   },
   {
    "duration": 15,
    "start_time": "2021-11-29T16:27:49.219Z"
   },
   {
    "duration": 53,
    "start_time": "2021-11-29T16:40:00.021Z"
   },
   {
    "duration": 396,
    "start_time": "2021-11-29T16:41:10.808Z"
   },
   {
    "duration": 360,
    "start_time": "2021-11-29T16:41:19.930Z"
   },
   {
    "duration": 381,
    "start_time": "2021-11-29T16:41:41.128Z"
   },
   {
    "duration": 20,
    "start_time": "2021-11-29T16:41:45.480Z"
   },
   {
    "duration": 36,
    "start_time": "2021-11-29T16:42:18.555Z"
   },
   {
    "duration": 508,
    "start_time": "2021-11-29T16:44:49.411Z"
   },
   {
    "duration": 37,
    "start_time": "2021-11-29T16:45:02.303Z"
   },
   {
    "duration": 403,
    "start_time": "2021-11-29T16:45:39.125Z"
   },
   {
    "duration": 14,
    "start_time": "2021-11-29T16:45:56.000Z"
   },
   {
    "duration": 21,
    "start_time": "2021-11-29T16:46:13.932Z"
   },
   {
    "duration": 16,
    "start_time": "2021-11-29T16:46:35.140Z"
   },
   {
    "duration": 19,
    "start_time": "2021-11-29T16:46:41.404Z"
   },
   {
    "duration": 133,
    "start_time": "2021-11-29T16:49:43.265Z"
   },
   {
    "duration": 393,
    "start_time": "2021-11-29T16:49:52.220Z"
   },
   {
    "duration": 132,
    "start_time": "2021-11-29T16:50:08.579Z"
   },
   {
    "duration": 153,
    "start_time": "2021-11-29T16:50:16.723Z"
   },
   {
    "duration": 517,
    "start_time": "2021-11-29T16:50:36.243Z"
   },
   {
    "duration": 948,
    "start_time": "2021-11-29T16:50:44.748Z"
   },
   {
    "duration": 171,
    "start_time": "2021-11-29T16:50:55.300Z"
   },
   {
    "duration": 553,
    "start_time": "2021-11-29T16:54:10.843Z"
   },
   {
    "duration": 167,
    "start_time": "2021-11-29T16:54:23.362Z"
   },
   {
    "duration": 264,
    "start_time": "2021-11-29T16:55:03.381Z"
   },
   {
    "duration": 252,
    "start_time": "2021-11-29T16:55:24.968Z"
   },
   {
    "duration": 5266,
    "start_time": "2021-11-29T16:56:02.431Z"
   },
   {
    "duration": 238,
    "start_time": "2021-11-29T16:57:32.815Z"
   },
   {
    "duration": 337,
    "start_time": "2021-11-29T16:57:42.999Z"
   },
   {
    "duration": 289,
    "start_time": "2021-11-29T16:57:49.757Z"
   },
   {
    "duration": 6,
    "start_time": "2021-11-29T16:59:26.374Z"
   },
   {
    "duration": 630,
    "start_time": "2021-11-29T17:02:04.305Z"
   },
   {
    "duration": 128,
    "start_time": "2021-11-29T17:02:19.369Z"
   },
   {
    "duration": 22,
    "start_time": "2021-11-29T17:05:53.338Z"
   },
   {
    "duration": 7,
    "start_time": "2021-11-29T17:06:05.239Z"
   },
   {
    "duration": 399,
    "start_time": "2021-11-29T17:06:21.986Z"
   },
   {
    "duration": 20,
    "start_time": "2021-11-29T17:06:31.260Z"
   },
   {
    "duration": 53,
    "start_time": "2021-11-29T17:06:35.007Z"
   },
   {
    "duration": 135,
    "start_time": "2021-11-29T17:11:00.796Z"
   },
   {
    "duration": 127,
    "start_time": "2021-11-29T17:11:14.036Z"
   },
   {
    "duration": 117,
    "start_time": "2021-11-29T17:11:54.502Z"
   },
   {
    "duration": 126,
    "start_time": "2021-11-29T17:12:07.844Z"
   },
   {
    "duration": 137,
    "start_time": "2021-11-29T17:12:14.120Z"
   },
   {
    "duration": 375,
    "start_time": "2021-11-29T17:13:06.874Z"
   },
   {
    "duration": 436,
    "start_time": "2021-11-29T17:13:50.716Z"
   },
   {
    "duration": 363,
    "start_time": "2021-11-29T17:14:08.086Z"
   },
   {
    "duration": 1782,
    "start_time": "2021-11-29T17:14:11.654Z"
   },
   {
    "duration": 124,
    "start_time": "2021-11-29T17:14:51.232Z"
   },
   {
    "duration": 721,
    "start_time": "2021-11-29T17:14:57.756Z"
   },
   {
    "duration": 5103,
    "start_time": "2021-11-29T17:15:10.088Z"
   },
   {
    "duration": 55,
    "start_time": "2021-11-29T17:15:21.653Z"
   },
   {
    "duration": 35,
    "start_time": "2021-11-29T17:19:22.183Z"
   },
   {
    "duration": 35,
    "start_time": "2021-11-29T17:19:49.070Z"
   },
   {
    "duration": 434,
    "start_time": "2021-11-29T17:20:36.926Z"
   },
   {
    "duration": 458,
    "start_time": "2021-11-29T17:20:44.182Z"
   },
   {
    "duration": 396,
    "start_time": "2021-11-29T17:20:51.947Z"
   },
   {
    "duration": 534,
    "start_time": "2021-11-29T17:21:00.958Z"
   },
   {
    "duration": 471,
    "start_time": "2021-11-29T17:21:05.188Z"
   },
   {
    "duration": 22,
    "start_time": "2021-11-29T17:21:08.518Z"
   },
   {
    "duration": 438,
    "start_time": "2021-11-29T17:21:36.070Z"
   },
   {
    "duration": 35,
    "start_time": "2021-11-29T17:21:47.394Z"
   },
   {
    "duration": 54,
    "start_time": "2021-11-29T17:24:07.227Z"
   },
   {
    "duration": 384,
    "start_time": "2021-11-29T17:24:31.112Z"
   },
   {
    "duration": 22,
    "start_time": "2021-11-29T17:24:38.649Z"
   },
   {
    "duration": 16,
    "start_time": "2021-11-29T17:24:50.383Z"
   },
   {
    "duration": 19695,
    "start_time": "2021-11-29T17:25:29.398Z"
   },
   {
    "duration": 17,
    "start_time": "2021-11-29T17:25:56.647Z"
   },
   {
    "duration": 20,
    "start_time": "2021-11-29T17:26:29.272Z"
   },
   {
    "duration": 15,
    "start_time": "2021-11-29T17:27:02.561Z"
   },
   {
    "duration": 16,
    "start_time": "2021-11-29T17:27:14.083Z"
   },
   {
    "duration": 19,
    "start_time": "2021-11-29T17:27:24.024Z"
   },
   {
    "duration": 20,
    "start_time": "2021-11-29T17:27:40.451Z"
   },
   {
    "duration": 23,
    "start_time": "2021-11-29T17:27:55.695Z"
   },
   {
    "duration": 28,
    "start_time": "2021-11-29T17:28:10.140Z"
   },
   {
    "duration": 20,
    "start_time": "2021-11-29T17:28:19.032Z"
   },
   {
    "duration": 408,
    "start_time": "2021-11-29T17:28:47.256Z"
   },
   {
    "duration": 22,
    "start_time": "2021-11-29T17:29:03.096Z"
   },
   {
    "duration": 20,
    "start_time": "2021-11-29T17:29:09.767Z"
   },
   {
    "duration": 42,
    "start_time": "2021-11-29T17:32:29.909Z"
   },
   {
    "duration": 43,
    "start_time": "2021-11-29T17:32:45.871Z"
   },
   {
    "duration": 400,
    "start_time": "2021-11-29T17:33:34.372Z"
   },
   {
    "duration": 415,
    "start_time": "2021-11-29T17:33:38.444Z"
   },
   {
    "duration": 34,
    "start_time": "2021-11-29T17:35:10.662Z"
   },
   {
    "duration": 33,
    "start_time": "2021-11-29T17:35:22.316Z"
   },
   {
    "duration": 6,
    "start_time": "2021-11-29T17:35:29.101Z"
   },
   {
    "duration": 35,
    "start_time": "2021-11-29T17:35:40.847Z"
   },
   {
    "duration": 15,
    "start_time": "2021-11-29T17:35:42.838Z"
   },
   {
    "duration": 5,
    "start_time": "2021-11-29T17:35:48.914Z"
   },
   {
    "duration": 14,
    "start_time": "2021-11-29T17:35:53.109Z"
   },
   {
    "duration": 44,
    "start_time": "2021-11-29T17:36:12.245Z"
   },
   {
    "duration": 49,
    "start_time": "2021-11-29T17:37:52.823Z"
   },
   {
    "duration": 16,
    "start_time": "2021-11-29T17:41:17.790Z"
   },
   {
    "duration": 16,
    "start_time": "2021-11-29T17:41:33.247Z"
   },
   {
    "duration": 19,
    "start_time": "2021-11-29T17:42:21.510Z"
   },
   {
    "duration": 21,
    "start_time": "2021-11-29T17:47:50.523Z"
   },
   {
    "duration": 16,
    "start_time": "2021-11-29T17:48:05.891Z"
   },
   {
    "duration": 35,
    "start_time": "2021-11-29T17:51:06.064Z"
   },
   {
    "duration": 412,
    "start_time": "2021-11-29T18:04:06.166Z"
   },
   {
    "duration": 423,
    "start_time": "2021-11-29T18:04:33.051Z"
   },
   {
    "duration": 427,
    "start_time": "2021-11-29T18:05:38.784Z"
   },
   {
    "duration": 540,
    "start_time": "2021-11-29T18:05:43.667Z"
   },
   {
    "duration": 50,
    "start_time": "2021-11-29T18:06:07.834Z"
   },
   {
    "duration": 17,
    "start_time": "2021-11-29T18:06:19.916Z"
   },
   {
    "duration": 407,
    "start_time": "2021-11-29T18:06:29.917Z"
   },
   {
    "duration": 6,
    "start_time": "2021-11-29T18:06:33.383Z"
   },
   {
    "duration": 6,
    "start_time": "2021-11-29T18:06:51.674Z"
   },
   {
    "duration": 24,
    "start_time": "2021-11-29T18:06:57.165Z"
   },
   {
    "duration": 9,
    "start_time": "2021-11-29T18:07:06.885Z"
   },
   {
    "duration": 19,
    "start_time": "2021-11-29T18:07:17.349Z"
   },
   {
    "duration": 49,
    "start_time": "2021-11-29T18:07:35.043Z"
   },
   {
    "duration": 437,
    "start_time": "2021-11-29T18:07:52.189Z"
   },
   {
    "duration": 382,
    "start_time": "2021-11-29T18:08:09.415Z"
   },
   {
    "duration": 18,
    "start_time": "2021-11-29T18:08:21.225Z"
   },
   {
    "duration": 63,
    "start_time": "2021-11-29T18:08:48.080Z"
   },
   {
    "duration": 22,
    "start_time": "2021-11-29T18:08:49.430Z"
   },
   {
    "duration": 24,
    "start_time": "2021-11-29T18:08:52.008Z"
   },
   {
    "duration": 47,
    "start_time": "2021-11-29T18:09:43.521Z"
   },
   {
    "duration": 436,
    "start_time": "2021-11-29T18:09:44.532Z"
   },
   {
    "duration": 58,
    "start_time": "2021-11-29T18:09:58.360Z"
   },
   {
    "duration": 5,
    "start_time": "2021-11-29T18:09:59.394Z"
   },
   {
    "duration": 10392,
    "start_time": "2021-11-29T18:10:01.250Z"
   },
   {
    "duration": 28,
    "start_time": "2021-11-29T18:10:18.422Z"
   },
   {
    "duration": 16,
    "start_time": "2021-11-29T18:10:30.795Z"
   },
   {
    "duration": 49,
    "start_time": "2021-11-29T18:12:22.206Z"
   },
   {
    "duration": 6,
    "start_time": "2021-11-29T18:12:31.723Z"
   },
   {
    "duration": 29,
    "start_time": "2021-11-29T18:12:32.903Z"
   },
   {
    "duration": 15,
    "start_time": "2021-11-29T18:12:45.876Z"
   },
   {
    "duration": 15,
    "start_time": "2021-11-29T18:12:51.771Z"
   },
   {
    "duration": 2120,
    "start_time": "2021-11-29T18:15:21.308Z"
   },
   {
    "duration": 1160,
    "start_time": "2021-11-29T18:15:41.990Z"
   },
   {
    "duration": 988,
    "start_time": "2021-11-29T18:15:54.259Z"
   },
   {
    "duration": 1510,
    "start_time": "2021-11-29T18:17:09.850Z"
   },
   {
    "duration": 14,
    "start_time": "2021-11-29T18:17:29.537Z"
   },
   {
    "duration": 11,
    "start_time": "2021-11-29T18:17:33.014Z"
   },
   {
    "duration": 14,
    "start_time": "2021-11-29T18:17:37.638Z"
   },
   {
    "duration": 1050,
    "start_time": "2021-11-29T18:17:47.572Z"
   },
   {
    "duration": 63,
    "start_time": "2021-11-29T18:18:42.933Z"
   },
   {
    "duration": 1067,
    "start_time": "2021-11-29T18:19:41.515Z"
   },
   {
    "duration": 992,
    "start_time": "2021-11-29T18:19:48.219Z"
   },
   {
    "duration": 1320,
    "start_time": "2021-11-29T18:20:07.332Z"
   },
   {
    "duration": 119,
    "start_time": "2021-11-29T18:20:55.045Z"
   },
   {
    "duration": 26,
    "start_time": "2021-11-29T18:21:03.662Z"
   },
   {
    "duration": 2763,
    "start_time": "2021-11-29T18:21:23.260Z"
   },
   {
    "duration": 170,
    "start_time": "2021-11-29T18:21:36.096Z"
   },
   {
    "duration": 879,
    "start_time": "2021-11-29T18:22:05.876Z"
   },
   {
    "duration": 129,
    "start_time": "2021-11-29T18:22:16.114Z"
   },
   {
    "duration": 55,
    "start_time": "2021-11-29T18:22:22.311Z"
   },
   {
    "duration": 362,
    "start_time": "2021-11-29T18:23:07.223Z"
   },
   {
    "duration": 27,
    "start_time": "2021-11-29T18:23:10.698Z"
   },
   {
    "duration": 416,
    "start_time": "2021-11-29T18:23:12.669Z"
   },
   {
    "duration": 60,
    "start_time": "2021-11-29T18:23:44.405Z"
   },
   {
    "duration": 5,
    "start_time": "2021-11-29T18:25:16.476Z"
   },
   {
    "duration": 30,
    "start_time": "2021-11-29T18:25:52.692Z"
   },
   {
    "duration": 397,
    "start_time": "2021-11-29T18:26:01.995Z"
   },
   {
    "duration": 47,
    "start_time": "2021-11-29T18:26:24.056Z"
   },
   {
    "duration": 5,
    "start_time": "2021-11-29T18:26:25.615Z"
   },
   {
    "duration": 362,
    "start_time": "2021-11-29T18:26:28.298Z"
   },
   {
    "duration": 372,
    "start_time": "2021-11-29T18:26:43.755Z"
   },
   {
    "duration": 47,
    "start_time": "2021-11-29T18:26:50.113Z"
   },
   {
    "duration": 5,
    "start_time": "2021-11-29T18:26:51.068Z"
   },
   {
    "duration": 29,
    "start_time": "2021-11-29T18:26:54.600Z"
   },
   {
    "duration": 4,
    "start_time": "2021-11-29T18:27:34.134Z"
   },
   {
    "duration": 30,
    "start_time": "2021-11-29T18:27:42.471Z"
   },
   {
    "duration": 49,
    "start_time": "2021-11-29T18:28:29.396Z"
   },
   {
    "duration": 54,
    "start_time": "2021-11-29T18:28:33.568Z"
   },
   {
    "duration": 1504,
    "start_time": "2021-11-29T18:29:51.736Z"
   },
   {
    "duration": 48,
    "start_time": "2021-11-29T18:29:55.335Z"
   },
   {
    "duration": 55,
    "start_time": "2021-11-29T18:29:56.584Z"
   },
   {
    "duration": 243,
    "start_time": "2021-11-29T18:35:09.733Z"
   },
   {
    "duration": 1386,
    "start_time": "2021-11-30T16:08:54.892Z"
   },
   {
    "duration": 4,
    "start_time": "2021-11-30T16:08:56.282Z"
   },
   {
    "duration": 273,
    "start_time": "2021-11-30T16:08:56.289Z"
   },
   {
    "duration": 174,
    "start_time": "2021-11-30T16:08:56.565Z"
   },
   {
    "duration": 50,
    "start_time": "2021-11-30T16:08:56.741Z"
   },
   {
    "duration": 41,
    "start_time": "2021-11-30T16:08:56.794Z"
   },
   {
    "duration": 5,
    "start_time": "2021-11-30T16:08:56.839Z"
   },
   {
    "duration": 109,
    "start_time": "2021-11-30T16:08:56.847Z"
   },
   {
    "duration": 43,
    "start_time": "2021-11-30T16:08:56.961Z"
   },
   {
    "duration": 31,
    "start_time": "2021-11-30T16:08:57.007Z"
   },
   {
    "duration": 8,
    "start_time": "2021-11-30T16:08:57.041Z"
   },
   {
    "duration": 39,
    "start_time": "2021-11-30T16:08:57.052Z"
   },
   {
    "duration": 51823,
    "start_time": "2021-11-30T16:08:57.094Z"
   },
   {
    "duration": 7,
    "start_time": "2021-11-30T16:09:48.919Z"
   },
   {
    "duration": 7,
    "start_time": "2021-11-30T16:09:48.928Z"
   },
   {
    "duration": 59072,
    "start_time": "2021-11-30T16:09:48.938Z"
   },
   {
    "duration": 11129,
    "start_time": "2021-11-30T16:10:48.013Z"
   },
   {
    "duration": 169808,
    "start_time": "2021-11-30T16:10:59.145Z"
   },
   {
    "duration": 139,
    "start_time": "2021-11-30T16:13:48.986Z"
   },
   {
    "duration": 6,
    "start_time": "2021-11-30T16:13:49.128Z"
   },
   {
    "duration": 5148,
    "start_time": "2021-11-30T16:13:49.137Z"
   },
   {
    "duration": 6,
    "start_time": "2021-11-30T16:13:54.288Z"
   },
   {
    "duration": 11,
    "start_time": "2021-11-30T16:13:54.296Z"
   },
   {
    "duration": 4820,
    "start_time": "2021-11-30T16:13:54.310Z"
   },
   {
    "duration": 62,
    "start_time": "2021-11-30T16:13:59.132Z"
   },
   {
    "duration": 56,
    "start_time": "2021-11-30T16:13:59.196Z"
   },
   {
    "duration": 10,
    "start_time": "2021-11-30T16:25:20.673Z"
   },
   {
    "duration": 12,
    "start_time": "2021-11-30T16:26:01.115Z"
   },
   {
    "duration": 12,
    "start_time": "2021-11-30T16:26:17.709Z"
   },
   {
    "duration": 11,
    "start_time": "2021-11-30T16:38:27.916Z"
   },
   {
    "duration": 2807,
    "start_time": "2021-11-30T16:40:02.619Z"
   },
   {
    "duration": 7,
    "start_time": "2021-11-30T16:40:05.429Z"
   },
   {
    "duration": 66,
    "start_time": "2021-11-30T16:40:43.660Z"
   },
   {
    "duration": 69,
    "start_time": "2021-11-30T16:40:55.720Z"
   },
   {
    "duration": 50,
    "start_time": "2021-11-30T16:41:40.530Z"
   },
   {
    "duration": 62,
    "start_time": "2021-11-30T16:42:18.691Z"
   },
   {
    "duration": 58,
    "start_time": "2021-11-30T16:42:30.742Z"
   },
   {
    "duration": 14,
    "start_time": "2021-12-01T13:21:56.961Z"
   },
   {
    "duration": 5,
    "start_time": "2021-12-01T13:22:11.564Z"
   },
   {
    "duration": 1537,
    "start_time": "2021-12-01T16:55:06.264Z"
   },
   {
    "duration": 5,
    "start_time": "2021-12-01T16:55:10.806Z"
   },
   {
    "duration": 2350,
    "start_time": "2021-12-01T16:55:11.616Z"
   },
   {
    "duration": 159,
    "start_time": "2021-12-01T16:55:16.950Z"
   },
   {
    "duration": 49,
    "start_time": "2021-12-01T16:55:27.176Z"
   },
   {
    "duration": 30,
    "start_time": "2021-12-01T16:55:28.363Z"
   },
   {
    "duration": 19,
    "start_time": "2021-12-01T16:55:30.133Z"
   },
   {
    "duration": 15,
    "start_time": "2021-12-01T16:55:31.237Z"
   },
   {
    "duration": 41,
    "start_time": "2021-12-01T16:59:07.299Z"
   },
   {
    "duration": 43,
    "start_time": "2021-12-01T16:59:11.708Z"
   },
   {
    "duration": 13,
    "start_time": "2021-12-01T16:59:14.373Z"
   },
   {
    "duration": 13,
    "start_time": "2021-12-01T16:59:15.284Z"
   },
   {
    "duration": 5,
    "start_time": "2021-12-01T17:10:37.012Z"
   },
   {
    "duration": 61,
    "start_time": "2021-12-01T17:10:38.203Z"
   },
   {
    "duration": 7922,
    "start_time": "2021-12-01T17:11:25.972Z"
   },
   {
    "duration": 30,
    "start_time": "2021-12-01T17:11:44.897Z"
   },
   {
    "duration": 12,
    "start_time": "2021-12-01T17:11:46.425Z"
   },
   {
    "duration": 13,
    "start_time": "2021-12-01T17:11:48.596Z"
   },
   {
    "duration": 5,
    "start_time": "2021-12-01T17:11:58.396Z"
   },
   {
    "duration": 10417,
    "start_time": "2021-12-01T17:11:59.665Z"
   },
   {
    "duration": 37,
    "start_time": "2021-12-01T17:12:15.462Z"
   },
   {
    "duration": 4,
    "start_time": "2021-12-01T17:12:27.050Z"
   },
   {
    "duration": 4,
    "start_time": "2021-12-01T17:12:28.073Z"
   },
   {
    "duration": 265,
    "start_time": "2021-12-01T17:12:28.816Z"
   },
   {
    "duration": 159,
    "start_time": "2021-12-01T17:12:30.695Z"
   },
   {
    "duration": 28,
    "start_time": "2021-12-01T17:12:31.662Z"
   },
   {
    "duration": 28,
    "start_time": "2021-12-01T17:12:32.945Z"
   },
   {
    "duration": 12,
    "start_time": "2021-12-01T17:12:33.666Z"
   },
   {
    "duration": 14,
    "start_time": "2021-12-01T17:12:35.160Z"
   },
   {
    "duration": 4,
    "start_time": "2021-12-01T17:12:44.183Z"
   },
   {
    "duration": 7392,
    "start_time": "2021-12-01T17:12:47.717Z"
   },
   {
    "duration": 9,
    "start_time": "2021-12-01T17:13:19.354Z"
   },
   {
    "duration": 10,
    "start_time": "2021-12-01T17:13:50.976Z"
   },
   {
    "duration": 313,
    "start_time": "2021-12-01T17:14:09.100Z"
   },
   {
    "duration": 297,
    "start_time": "2021-12-01T17:14:16.031Z"
   },
   {
    "duration": 9,
    "start_time": "2021-12-01T17:14:53.505Z"
   },
   {
    "duration": 312,
    "start_time": "2021-12-01T17:15:29.259Z"
   },
   {
    "duration": 10,
    "start_time": "2021-12-01T17:15:45.884Z"
   },
   {
    "duration": 10,
    "start_time": "2021-12-01T17:17:06.720Z"
   },
   {
    "duration": 303,
    "start_time": "2021-12-01T17:17:16.010Z"
   },
   {
    "duration": 12,
    "start_time": "2021-12-01T17:17:37.308Z"
   },
   {
    "duration": 10,
    "start_time": "2021-12-01T17:19:45.818Z"
   },
   {
    "duration": 10,
    "start_time": "2021-12-01T17:19:52.714Z"
   },
   {
    "duration": 17,
    "start_time": "2021-12-01T17:20:10.996Z"
   },
   {
    "duration": 20,
    "start_time": "2021-12-01T17:21:34.563Z"
   },
   {
    "duration": 28,
    "start_time": "2021-12-01T17:21:48.973Z"
   },
   {
    "duration": 18,
    "start_time": "2021-12-01T17:22:10.744Z"
   },
   {
    "duration": 29,
    "start_time": "2021-12-01T17:22:17.910Z"
   },
   {
    "duration": 17,
    "start_time": "2021-12-01T17:22:59.761Z"
   },
   {
    "duration": 192,
    "start_time": "2021-12-01T17:23:06.882Z"
   },
   {
    "duration": 26,
    "start_time": "2021-12-01T17:23:09.382Z"
   },
   {
    "duration": 27,
    "start_time": "2021-12-01T17:23:22.757Z"
   },
   {
    "duration": 10,
    "start_time": "2021-12-01T17:23:30.744Z"
   },
   {
    "duration": 9,
    "start_time": "2021-12-01T17:23:36.931Z"
   },
   {
    "duration": 10,
    "start_time": "2021-12-01T17:23:45.515Z"
   },
   {
    "duration": 12,
    "start_time": "2021-12-01T17:23:53.312Z"
   },
   {
    "duration": 12,
    "start_time": "2021-12-01T17:24:01.885Z"
   },
   {
    "duration": 7,
    "start_time": "2021-12-01T17:24:09.625Z"
   },
   {
    "duration": 13,
    "start_time": "2021-12-01T17:26:51.727Z"
   },
   {
    "duration": 23,
    "start_time": "2021-12-01T17:27:40.058Z"
   },
   {
    "duration": 18,
    "start_time": "2021-12-01T17:28:15.633Z"
   },
   {
    "duration": 5,
    "start_time": "2021-12-01T17:38:04.298Z"
   },
   {
    "duration": 5,
    "start_time": "2021-12-01T17:38:53.552Z"
   },
   {
    "duration": 20,
    "start_time": "2021-12-01T17:40:31.148Z"
   },
   {
    "duration": 23,
    "start_time": "2021-12-01T17:41:04.449Z"
   },
   {
    "duration": 7504,
    "start_time": "2021-12-01T17:43:40.511Z"
   },
   {
    "duration": 12,
    "start_time": "2021-12-01T17:44:10.404Z"
   },
   {
    "duration": 350,
    "start_time": "2021-12-01T17:45:08.499Z"
   },
   {
    "duration": 313,
    "start_time": "2021-12-01T17:45:21.155Z"
   },
   {
    "duration": 8,
    "start_time": "2021-12-01T17:46:05.559Z"
   },
   {
    "duration": 11,
    "start_time": "2021-12-01T17:46:18.519Z"
   },
   {
    "duration": 293,
    "start_time": "2021-12-01T17:46:33.943Z"
   },
   {
    "duration": 7,
    "start_time": "2021-12-01T17:46:41.088Z"
   },
   {
    "duration": 332,
    "start_time": "2021-12-01T17:46:52.012Z"
   },
   {
    "duration": 11,
    "start_time": "2021-12-01T17:47:17.179Z"
   },
   {
    "duration": 6,
    "start_time": "2021-12-01T17:47:21.116Z"
   },
   {
    "duration": 441,
    "start_time": "2021-12-01T17:48:57.946Z"
   },
   {
    "duration": 6,
    "start_time": "2021-12-01T17:49:26.331Z"
   },
   {
    "duration": 310,
    "start_time": "2021-12-01T17:49:43.431Z"
   },
   {
    "duration": 309,
    "start_time": "2021-12-01T17:50:09.792Z"
   },
   {
    "duration": 329,
    "start_time": "2021-12-01T17:50:46.151Z"
   },
   {
    "duration": 291,
    "start_time": "2021-12-01T17:50:53.722Z"
   },
   {
    "duration": 18,
    "start_time": "2021-12-01T17:51:21.453Z"
   },
   {
    "duration": 315,
    "start_time": "2021-12-01T17:51:24.917Z"
   },
   {
    "duration": 395,
    "start_time": "2021-12-01T17:51:38.003Z"
   },
   {
    "duration": 4,
    "start_time": "2021-12-01T18:02:15.296Z"
   },
   {
    "duration": 25,
    "start_time": "2021-12-01T18:02:20.593Z"
   },
   {
    "duration": 5,
    "start_time": "2021-12-01T18:02:22.177Z"
   },
   {
    "duration": 288,
    "start_time": "2021-12-01T18:02:48.594Z"
   },
   {
    "duration": 4,
    "start_time": "2021-12-01T18:02:52.463Z"
   },
   {
    "duration": 13,
    "start_time": "2021-12-01T18:02:54.668Z"
   },
   {
    "duration": 300,
    "start_time": "2021-12-01T18:04:23.760Z"
   },
   {
    "duration": 4,
    "start_time": "2021-12-01T18:04:32.298Z"
   },
   {
    "duration": 322,
    "start_time": "2021-12-01T18:04:32.747Z"
   },
   {
    "duration": 3,
    "start_time": "2021-12-01T18:31:22.676Z"
   },
   {
    "duration": 4,
    "start_time": "2021-12-01T18:31:23.863Z"
   },
   {
    "duration": 334,
    "start_time": "2021-12-01T18:31:24.393Z"
   },
   {
    "duration": 149,
    "start_time": "2021-12-01T18:31:26.711Z"
   },
   {
    "duration": 27,
    "start_time": "2021-12-01T18:31:29.901Z"
   },
   {
    "duration": 28,
    "start_time": "2021-12-01T18:31:30.727Z"
   },
   {
    "duration": 11,
    "start_time": "2021-12-01T18:31:32.672Z"
   },
   {
    "duration": 11,
    "start_time": "2021-12-01T18:31:33.775Z"
   },
   {
    "duration": 4,
    "start_time": "2021-12-01T18:31:43.439Z"
   },
   {
    "duration": 18,
    "start_time": "2021-12-01T18:31:44.398Z"
   },
   {
    "duration": 59,
    "start_time": "2021-12-01T18:31:46.342Z"
   },
   {
    "duration": 32,
    "start_time": "2021-12-01T18:31:53.770Z"
   },
   {
    "duration": 32,
    "start_time": "2021-12-01T18:31:54.915Z"
   },
   {
    "duration": 9,
    "start_time": "2021-12-01T18:31:57.514Z"
   },
   {
    "duration": 10,
    "start_time": "2021-12-01T18:32:01.973Z"
   },
   {
    "duration": 48230,
    "start_time": "2021-12-01T18:32:03.533Z"
   },
   {
    "duration": 30,
    "start_time": "2021-12-01T18:32:51.766Z"
   },
   {
    "duration": 58462,
    "start_time": "2021-12-01T18:33:03.813Z"
   },
   {
    "duration": 9190,
    "start_time": "2021-12-01T18:34:09.360Z"
   },
   {
    "duration": 146955,
    "start_time": "2021-12-01T18:34:23.091Z"
   },
   {
    "duration": 359,
    "start_time": "2021-12-01T18:38:32.353Z"
   },
   {
    "duration": 9,
    "start_time": "2021-12-01T18:44:24.359Z"
   },
   {
    "duration": 2627,
    "start_time": "2021-12-01T18:44:40.177Z"
   },
   {
    "duration": 7,
    "start_time": "2021-12-01T18:44:43.033Z"
   },
   {
    "duration": 341,
    "start_time": "2021-12-01T18:49:46.598Z"
   },
   {
    "duration": 48,
    "start_time": "2021-12-01T18:50:26.457Z"
   },
   {
    "duration": 146,
    "start_time": "2021-12-01T18:52:39.344Z"
   },
   {
    "duration": 156,
    "start_time": "2021-12-01T18:52:50.876Z"
   },
   {
    "duration": 299,
    "start_time": "2021-12-01T18:53:56.273Z"
   },
   {
    "duration": 7,
    "start_time": "2021-12-01T18:56:49.177Z"
   },
   {
    "duration": 6,
    "start_time": "2021-12-01T18:57:53.247Z"
   },
   {
    "duration": 155,
    "start_time": "2021-12-01T18:59:43.186Z"
   },
   {
    "duration": 5,
    "start_time": "2021-12-01T19:00:21.558Z"
   },
   {
    "duration": 34,
    "start_time": "2021-12-01T19:00:46.388Z"
   },
   {
    "duration": 6,
    "start_time": "2021-12-01T19:00:54.593Z"
   },
   {
    "duration": 6,
    "start_time": "2021-12-01T19:01:13.906Z"
   },
   {
    "duration": 16,
    "start_time": "2021-12-01T19:05:54.793Z"
   },
   {
    "duration": 15,
    "start_time": "2021-12-01T19:06:20.207Z"
   },
   {
    "duration": 15,
    "start_time": "2021-12-01T19:06:31.454Z"
   },
   {
    "duration": 6,
    "start_time": "2021-12-01T19:49:13.349Z"
   },
   {
    "duration": 5,
    "start_time": "2021-12-01T19:49:31.855Z"
   },
   {
    "duration": 4,
    "start_time": "2021-12-01T19:49:32.988Z"
   },
   {
    "duration": 247,
    "start_time": "2021-12-01T19:49:34.175Z"
   },
   {
    "duration": 149,
    "start_time": "2021-12-01T19:49:36.363Z"
   },
   {
    "duration": 30,
    "start_time": "2021-12-01T19:49:41.947Z"
   },
   {
    "duration": 31,
    "start_time": "2021-12-01T19:49:42.969Z"
   },
   {
    "duration": 14,
    "start_time": "2021-12-01T19:49:46.805Z"
   },
   {
    "duration": 10,
    "start_time": "2021-12-01T19:49:50.743Z"
   },
   {
    "duration": 6,
    "start_time": "2021-12-01T19:49:58.662Z"
   },
   {
    "duration": 14,
    "start_time": "2021-12-01T19:51:07.346Z"
   },
   {
    "duration": 25,
    "start_time": "2021-12-01T19:53:04.809Z"
   },
   {
    "duration": 16,
    "start_time": "2021-12-01T19:54:23.560Z"
   },
   {
    "duration": 311,
    "start_time": "2021-12-01T19:54:24.988Z"
   },
   {
    "duration": 307,
    "start_time": "2021-12-01T19:54:49.312Z"
   },
   {
    "duration": 304,
    "start_time": "2021-12-01T19:55:13.906Z"
   },
   {
    "duration": 14,
    "start_time": "2021-12-01T19:56:41.341Z"
   },
   {
    "duration": 330,
    "start_time": "2021-12-01T19:56:42.318Z"
   },
   {
    "duration": 14,
    "start_time": "2021-12-01T19:58:45.701Z"
   },
   {
    "duration": 340,
    "start_time": "2021-12-01T20:01:01.559Z"
   },
   {
    "duration": 348,
    "start_time": "2021-12-01T20:02:17.654Z"
   },
   {
    "duration": 36,
    "start_time": "2021-12-01T20:10:17.251Z"
   },
   {
    "duration": 42,
    "start_time": "2021-12-01T20:12:23.173Z"
   },
   {
    "duration": 22,
    "start_time": "2021-12-01T20:13:47.708Z"
   },
   {
    "duration": 7,
    "start_time": "2021-12-01T20:15:03.129Z"
   },
   {
    "duration": 294,
    "start_time": "2021-12-01T20:16:49.251Z"
   },
   {
    "duration": 23,
    "start_time": "2021-12-01T20:17:00.368Z"
   },
   {
    "duration": 25,
    "start_time": "2021-12-01T20:17:16.307Z"
   },
   {
    "duration": 25,
    "start_time": "2021-12-01T20:18:08.531Z"
   },
   {
    "duration": 31,
    "start_time": "2021-12-01T20:18:17.374Z"
   },
   {
    "duration": 109,
    "start_time": "2021-12-01T20:20:03.273Z"
   },
   {
    "duration": 10,
    "start_time": "2021-12-01T20:20:30.610Z"
   },
   {
    "duration": 8,
    "start_time": "2021-12-01T20:20:44.616Z"
   },
   {
    "duration": 8,
    "start_time": "2021-12-01T20:20:51.873Z"
   },
   {
    "duration": 35,
    "start_time": "2021-12-01T20:21:05.215Z"
   },
   {
    "duration": 6,
    "start_time": "2021-12-01T20:21:18.277Z"
   },
   {
    "duration": 9,
    "start_time": "2021-12-01T20:21:23.868Z"
   },
   {
    "duration": 335,
    "start_time": "2021-12-01T20:22:03.076Z"
   },
   {
    "duration": 5,
    "start_time": "2021-12-01T20:22:13.033Z"
   },
   {
    "duration": 6,
    "start_time": "2021-12-01T20:22:21.761Z"
   },
   {
    "duration": 341,
    "start_time": "2021-12-01T20:22:33.416Z"
   },
   {
    "duration": 49,
    "start_time": "2021-12-01T20:23:00.552Z"
   },
   {
    "duration": 8,
    "start_time": "2021-12-01T20:23:05.467Z"
   },
   {
    "duration": 331,
    "start_time": "2021-12-01T20:23:18.699Z"
   },
   {
    "duration": 8,
    "start_time": "2021-12-01T20:23:23.750Z"
   },
   {
    "duration": 9,
    "start_time": "2021-12-01T20:23:50.267Z"
   },
   {
    "duration": 14,
    "start_time": "2021-12-01T20:25:44.030Z"
   },
   {
    "duration": 382,
    "start_time": "2021-12-01T20:26:30.943Z"
   },
   {
    "duration": 47,
    "start_time": "2021-12-01T20:27:41.233Z"
   },
   {
    "duration": 50,
    "start_time": "2021-12-01T20:29:09.920Z"
   },
   {
    "duration": 47,
    "start_time": "2021-12-01T20:29:14.542Z"
   },
   {
    "duration": 19,
    "start_time": "2021-12-01T20:29:31.621Z"
   },
   {
    "duration": 66,
    "start_time": "2021-12-01T20:29:47.427Z"
   },
   {
    "duration": 350,
    "start_time": "2021-12-01T20:30:09.165Z"
   },
   {
    "duration": 53,
    "start_time": "2021-12-01T20:30:18.443Z"
   },
   {
    "duration": 30,
    "start_time": "2021-12-01T20:30:21.493Z"
   },
   {
    "duration": 314,
    "start_time": "2021-12-01T20:30:48.842Z"
   },
   {
    "duration": 5,
    "start_time": "2021-12-01T20:31:10.881Z"
   },
   {
    "duration": 9,
    "start_time": "2021-12-01T20:33:03.585Z"
   },
   {
    "duration": 11,
    "start_time": "2021-12-01T20:33:26.356Z"
   },
   {
    "duration": 316,
    "start_time": "2021-12-01T20:33:47.308Z"
   },
   {
    "duration": 11,
    "start_time": "2021-12-01T20:33:52.445Z"
   },
   {
    "duration": 292,
    "start_time": "2021-12-01T20:33:56.630Z"
   },
   {
    "duration": 12,
    "start_time": "2021-12-01T20:34:01.197Z"
   },
   {
    "duration": 345,
    "start_time": "2021-12-01T20:34:19.940Z"
   },
   {
    "duration": 49,
    "start_time": "2021-12-01T20:34:27.084Z"
   },
   {
    "duration": 5,
    "start_time": "2021-12-01T20:34:56.031Z"
   },
   {
    "duration": 297,
    "start_time": "2021-12-01T20:35:33.269Z"
   },
   {
    "duration": 7,
    "start_time": "2021-12-01T20:35:44.835Z"
   },
   {
    "duration": 7,
    "start_time": "2021-12-01T20:36:10.620Z"
   },
   {
    "duration": 8,
    "start_time": "2021-12-01T20:36:16.853Z"
   },
   {
    "duration": 7,
    "start_time": "2021-12-01T20:36:24.244Z"
   },
   {
    "duration": 294,
    "start_time": "2021-12-01T20:36:41.434Z"
   },
   {
    "duration": 8,
    "start_time": "2021-12-01T20:36:58.410Z"
   },
   {
    "duration": 292,
    "start_time": "2021-12-01T20:37:37.269Z"
   },
   {
    "duration": 307,
    "start_time": "2021-12-01T20:37:46.731Z"
   },
   {
    "duration": 317,
    "start_time": "2021-12-01T20:37:55.684Z"
   },
   {
    "duration": 317,
    "start_time": "2021-12-01T20:38:01.412Z"
   },
   {
    "duration": 7,
    "start_time": "2021-12-01T20:38:22.911Z"
   },
   {
    "duration": 123,
    "start_time": "2021-12-01T20:41:06.737Z"
   },
   {
    "duration": 117,
    "start_time": "2021-12-01T20:41:45.594Z"
   },
   {
    "duration": 109,
    "start_time": "2021-12-01T20:41:57.384Z"
   },
   {
    "duration": 7,
    "start_time": "2021-12-01T20:44:31.389Z"
   },
   {
    "duration": 414,
    "start_time": "2021-12-01T20:44:37.047Z"
   },
   {
    "duration": 116,
    "start_time": "2021-12-01T20:48:13.377Z"
   },
   {
    "duration": 138,
    "start_time": "2021-12-01T20:48:20.488Z"
   },
   {
    "duration": 1005,
    "start_time": "2021-12-01T20:48:31.084Z"
   },
   {
    "duration": 941,
    "start_time": "2021-12-01T20:48:47.241Z"
   },
   {
    "duration": 3498,
    "start_time": "2021-12-01T20:50:44.595Z"
   },
   {
    "duration": 5,
    "start_time": "2021-12-01T20:52:02.263Z"
   },
   {
    "duration": 7829,
    "start_time": "2021-12-01T20:55:09.060Z"
   },
   {
    "duration": 314,
    "start_time": "2021-12-01T20:56:14.683Z"
   },
   {
    "duration": 10422,
    "start_time": "2021-12-01T20:56:33.302Z"
   },
   {
    "duration": 1434,
    "start_time": "2021-12-01T20:57:49.535Z"
   },
   {
    "duration": 5,
    "start_time": "2021-12-01T20:57:50.972Z"
   },
   {
    "duration": 291,
    "start_time": "2021-12-01T20:57:50.984Z"
   },
   {
    "duration": 190,
    "start_time": "2021-12-01T20:57:51.278Z"
   },
   {
    "duration": 51,
    "start_time": "2021-12-01T20:57:51.471Z"
   },
   {
    "duration": 26,
    "start_time": "2021-12-01T20:57:51.525Z"
   },
   {
    "duration": 48,
    "start_time": "2021-12-01T20:57:51.554Z"
   },
   {
    "duration": 11,
    "start_time": "2021-12-01T20:57:51.606Z"
   },
   {
    "duration": 176,
    "start_time": "2021-12-01T20:57:51.621Z"
   },
   {
    "duration": 158,
    "start_time": "2021-12-01T20:57:51.802Z"
   },
   {
    "duration": 9074,
    "start_time": "2021-12-01T20:57:51.963Z"
   },
   {
    "duration": 9736,
    "start_time": "2021-12-01T20:58:01.039Z"
   },
   {
    "duration": 5,
    "start_time": "2021-12-01T20:58:10.777Z"
   },
   {
    "duration": 25,
    "start_time": "2021-12-01T20:58:10.785Z"
   },
   {
    "duration": 113,
    "start_time": "2021-12-01T20:58:10.813Z"
   },
   {
    "duration": 74,
    "start_time": "2021-12-01T20:58:10.929Z"
   },
   {
    "duration": 6,
    "start_time": "2021-12-01T20:58:11.006Z"
   },
   {
    "duration": 27,
    "start_time": "2021-12-01T20:58:11.015Z"
   },
   {
    "duration": 50,
    "start_time": "2021-12-01T20:58:11.044Z"
   },
   {
    "duration": 7,
    "start_time": "2021-12-01T20:58:11.097Z"
   },
   {
    "duration": 14,
    "start_time": "2021-12-01T20:58:11.107Z"
   },
   {
    "duration": 52392,
    "start_time": "2021-12-01T20:58:11.124Z"
   },
   {
    "duration": 24,
    "start_time": "2021-12-01T20:59:03.522Z"
   },
   {
    "duration": 58850,
    "start_time": "2021-12-01T20:59:03.549Z"
   },
   {
    "duration": 9655,
    "start_time": "2021-12-01T21:00:02.402Z"
   },
   {
    "duration": 150472,
    "start_time": "2021-12-01T21:00:12.060Z"
   },
   {
    "duration": 185,
    "start_time": "2021-12-01T21:02:42.535Z"
   },
   {
    "duration": 226,
    "start_time": "2021-12-01T21:02:42.723Z"
   },
   {
    "duration": 8,
    "start_time": "2021-12-01T21:02:42.952Z"
   },
   {
    "duration": 964,
    "start_time": "2021-12-02T07:14:59.353Z"
   },
   {
    "duration": 3,
    "start_time": "2021-12-02T07:15:00.318Z"
   },
   {
    "duration": 468,
    "start_time": "2021-12-02T07:15:00.323Z"
   },
   {
    "duration": 94,
    "start_time": "2021-12-02T07:15:00.793Z"
   },
   {
    "duration": 20,
    "start_time": "2021-12-02T07:15:00.889Z"
   },
   {
    "duration": 20,
    "start_time": "2021-12-02T07:15:00.911Z"
   },
   {
    "duration": 10,
    "start_time": "2021-12-02T07:15:00.933Z"
   },
   {
    "duration": 6,
    "start_time": "2021-12-02T07:15:00.944Z"
   },
   {
    "duration": 93,
    "start_time": "2021-12-02T07:15:00.952Z"
   },
   {
    "duration": 68,
    "start_time": "2021-12-02T07:15:01.047Z"
   },
   {
    "duration": 4216,
    "start_time": "2021-12-02T07:15:01.117Z"
   },
   {
    "duration": 4058,
    "start_time": "2021-12-02T07:15:05.335Z"
   },
   {
    "duration": 3,
    "start_time": "2021-12-02T07:15:09.395Z"
   },
   {
    "duration": 14,
    "start_time": "2021-12-02T07:15:09.399Z"
   },
   {
    "duration": 40,
    "start_time": "2021-12-02T07:15:09.414Z"
   },
   {
    "duration": 52,
    "start_time": "2021-12-02T07:15:09.456Z"
   },
   {
    "duration": 26,
    "start_time": "2021-12-02T07:15:32.793Z"
   },
   {
    "duration": 1077,
    "start_time": "2021-12-02T07:34:09.699Z"
   },
   {
    "duration": 3,
    "start_time": "2021-12-02T07:34:10.777Z"
   },
   {
    "duration": 190,
    "start_time": "2021-12-02T07:34:10.787Z"
   },
   {
    "duration": 95,
    "start_time": "2021-12-02T07:34:10.979Z"
   },
   {
    "duration": 26,
    "start_time": "2021-12-02T07:34:11.075Z"
   },
   {
    "duration": 16,
    "start_time": "2021-12-02T07:34:11.102Z"
   },
   {
    "duration": 25,
    "start_time": "2021-12-02T07:34:11.119Z"
   },
   {
    "duration": 5,
    "start_time": "2021-12-02T07:34:11.147Z"
   },
   {
    "duration": 82,
    "start_time": "2021-12-02T07:34:11.154Z"
   },
   {
    "duration": 70,
    "start_time": "2021-12-02T07:34:11.237Z"
   },
   {
    "duration": 4214,
    "start_time": "2021-12-02T07:34:11.308Z"
   },
   {
    "duration": 4157,
    "start_time": "2021-12-02T07:34:15.523Z"
   },
   {
    "duration": 6,
    "start_time": "2021-12-02T07:34:19.682Z"
   },
   {
    "duration": 13,
    "start_time": "2021-12-02T07:34:19.690Z"
   },
   {
    "duration": 41,
    "start_time": "2021-12-02T07:34:19.704Z"
   },
   {
    "duration": 42,
    "start_time": "2021-12-02T07:34:19.747Z"
   },
   {
    "duration": 3,
    "start_time": "2021-12-02T07:34:19.791Z"
   },
   {
    "duration": 14,
    "start_time": "2021-12-02T07:34:19.795Z"
   },
   {
    "duration": 11,
    "start_time": "2021-12-02T07:34:19.810Z"
   },
   {
    "duration": 4,
    "start_time": "2021-12-02T07:34:19.822Z"
   },
   {
    "duration": 8,
    "start_time": "2021-12-02T07:34:19.828Z"
   },
   {
    "duration": 22142,
    "start_time": "2021-12-02T07:34:19.837Z"
   },
   {
    "duration": 18,
    "start_time": "2021-12-02T07:34:41.982Z"
   },
   {
    "duration": 135,
    "start_time": "2021-12-02T07:34:46.325Z"
   },
   {
    "duration": 7,
    "start_time": "2021-12-02T07:35:06.658Z"
   },
   {
    "duration": 19,
    "start_time": "2021-12-02T07:35:14.566Z"
   },
   {
    "duration": 3,
    "start_time": "2021-12-02T07:35:39.077Z"
   },
   {
    "duration": 7,
    "start_time": "2021-12-02T07:35:44.091Z"
   },
   {
    "duration": 1601,
    "start_time": "2021-12-02T08:01:25.486Z"
   },
   {
    "duration": 5,
    "start_time": "2021-12-02T08:01:27.091Z"
   },
   {
    "duration": 312,
    "start_time": "2021-12-02T08:01:27.101Z"
   },
   {
    "duration": 194,
    "start_time": "2021-12-02T08:01:27.416Z"
   },
   {
    "duration": 58,
    "start_time": "2021-12-02T08:01:27.613Z"
   },
   {
    "duration": 28,
    "start_time": "2021-12-02T08:01:27.674Z"
   },
   {
    "duration": 51,
    "start_time": "2021-12-02T08:01:27.705Z"
   },
   {
    "duration": 15,
    "start_time": "2021-12-02T08:01:27.760Z"
   },
   {
    "duration": 145,
    "start_time": "2021-12-02T08:01:27.778Z"
   },
   {
    "duration": 131,
    "start_time": "2021-12-02T08:01:27.929Z"
   },
   {
    "duration": 11627,
    "start_time": "2021-12-02T08:01:28.063Z"
   },
   {
    "duration": 8404,
    "start_time": "2021-12-02T08:01:39.693Z"
   },
   {
    "duration": 4,
    "start_time": "2021-12-02T08:01:48.100Z"
   },
   {
    "duration": 49,
    "start_time": "2021-12-02T08:01:48.107Z"
   },
   {
    "duration": 99,
    "start_time": "2021-12-02T08:01:48.159Z"
   },
   {
    "duration": 47,
    "start_time": "2021-12-02T08:01:48.261Z"
   },
   {
    "duration": 34,
    "start_time": "2021-12-02T08:01:48.311Z"
   },
   {
    "duration": 28,
    "start_time": "2021-12-02T08:01:48.354Z"
   },
   {
    "duration": 46,
    "start_time": "2021-12-02T08:01:48.385Z"
   },
   {
    "duration": 10,
    "start_time": "2021-12-02T08:01:48.434Z"
   },
   {
    "duration": 25,
    "start_time": "2021-12-02T08:01:48.450Z"
   },
   {
    "duration": 62304,
    "start_time": "2021-12-02T08:01:48.478Z"
   },
   {
    "duration": 25,
    "start_time": "2021-12-02T08:02:50.787Z"
   },
   {
    "duration": 72627,
    "start_time": "2021-12-02T08:02:50.832Z"
   },
   {
    "duration": 9640,
    "start_time": "2021-12-02T08:04:03.461Z"
   },
   {
    "duration": 177658,
    "start_time": "2021-12-02T08:04:13.104Z"
   },
   {
    "duration": 226,
    "start_time": "2021-12-02T08:07:10.771Z"
   },
   {
    "duration": 191,
    "start_time": "2021-12-02T08:07:11.001Z"
   },
   {
    "duration": 8,
    "start_time": "2021-12-02T08:07:11.194Z"
   },
   {
    "duration": 1960,
    "start_time": "2021-12-02T08:07:11.206Z"
   },
   {
    "duration": 6,
    "start_time": "2021-12-02T08:07:13.169Z"
   },
   {
    "duration": 5620,
    "start_time": "2021-12-02T08:07:13.179Z"
   },
   {
    "duration": 74,
    "start_time": "2021-12-02T08:07:18.802Z"
   },
   {
    "duration": 67,
    "start_time": "2021-12-02T08:07:18.879Z"
   },
   {
    "duration": 24,
    "start_time": "2021-12-02T08:07:18.949Z"
   },
   {
    "duration": 1414,
    "start_time": "2021-12-02T09:49:40.560Z"
   },
   {
    "duration": 4,
    "start_time": "2021-12-02T09:49:41.977Z"
   },
   {
    "duration": 282,
    "start_time": "2021-12-02T09:49:41.984Z"
   },
   {
    "duration": 163,
    "start_time": "2021-12-02T09:49:42.268Z"
   },
   {
    "duration": 38,
    "start_time": "2021-12-02T09:49:42.433Z"
   },
   {
    "duration": 56,
    "start_time": "2021-12-02T09:49:42.473Z"
   },
   {
    "duration": 18,
    "start_time": "2021-12-02T09:49:42.532Z"
   },
   {
    "duration": 10,
    "start_time": "2021-12-02T09:49:42.554Z"
   },
   {
    "duration": 169,
    "start_time": "2021-12-02T09:49:42.568Z"
   },
   {
    "duration": 123,
    "start_time": "2021-12-02T09:49:42.740Z"
   },
   {
    "duration": 8231,
    "start_time": "2021-12-02T09:49:42.866Z"
   },
   {
    "duration": 8753,
    "start_time": "2021-12-02T09:49:51.099Z"
   },
   {
    "duration": 5,
    "start_time": "2021-12-02T09:49:59.855Z"
   },
   {
    "duration": 22,
    "start_time": "2021-12-02T09:49:59.864Z"
   },
   {
    "duration": 95,
    "start_time": "2021-12-02T09:49:59.889Z"
   },
   {
    "duration": 69,
    "start_time": "2021-12-02T09:49:59.986Z"
   },
   {
    "duration": 5,
    "start_time": "2021-12-02T09:50:00.058Z"
   },
   {
    "duration": 32,
    "start_time": "2021-12-02T09:50:00.065Z"
   },
   {
    "duration": 42,
    "start_time": "2021-12-02T09:50:00.100Z"
   },
   {
    "duration": 7,
    "start_time": "2021-12-02T09:50:00.144Z"
   },
   {
    "duration": 17,
    "start_time": "2021-12-02T09:50:00.153Z"
   },
   {
    "duration": 88610,
    "start_time": "2021-12-02T09:50:00.173Z"
   },
   {
    "duration": 41,
    "start_time": "2021-12-02T09:51:28.788Z"
   },
   {
    "duration": 61353,
    "start_time": "2021-12-02T09:51:28.832Z"
   },
   {
    "duration": 9352,
    "start_time": "2021-12-02T09:52:30.188Z"
   },
   {
    "duration": 157989,
    "start_time": "2021-12-02T09:52:39.543Z"
   },
   {
    "duration": 232,
    "start_time": "2021-12-02T09:55:17.538Z"
   },
   {
    "duration": 173,
    "start_time": "2021-12-02T09:55:17.772Z"
   },
   {
    "duration": 7,
    "start_time": "2021-12-02T09:55:17.948Z"
   },
   {
    "duration": 1779,
    "start_time": "2021-12-02T09:55:17.958Z"
   },
   {
    "duration": 7,
    "start_time": "2021-12-02T09:55:19.740Z"
   },
   {
    "duration": 4846,
    "start_time": "2021-12-02T09:55:19.751Z"
   },
   {
    "duration": 70,
    "start_time": "2021-12-02T09:55:24.600Z"
   },
   {
    "duration": 76,
    "start_time": "2021-12-02T09:55:24.673Z"
   },
   {
    "duration": 17,
    "start_time": "2021-12-02T09:55:24.752Z"
   },
   {
    "duration": 1177,
    "start_time": "2021-12-02T11:55:04.847Z"
   },
   {
    "duration": 2,
    "start_time": "2021-12-02T11:55:06.026Z"
   },
   {
    "duration": 454,
    "start_time": "2021-12-02T11:55:06.030Z"
   },
   {
    "duration": 118,
    "start_time": "2021-12-02T11:55:06.486Z"
   },
   {
    "duration": 23,
    "start_time": "2021-12-02T11:55:06.606Z"
   },
   {
    "duration": 38,
    "start_time": "2021-12-02T11:55:06.631Z"
   },
   {
    "duration": 12,
    "start_time": "2021-12-02T11:55:06.671Z"
   },
   {
    "duration": 7,
    "start_time": "2021-12-02T11:55:06.685Z"
   },
   {
    "duration": 102,
    "start_time": "2021-12-02T11:55:06.695Z"
   },
   {
    "duration": 74,
    "start_time": "2021-12-02T11:55:06.799Z"
   },
   {
    "duration": 4893,
    "start_time": "2021-12-02T11:55:06.875Z"
   },
   {
    "duration": 5002,
    "start_time": "2021-12-02T11:55:11.770Z"
   },
   {
    "duration": 3,
    "start_time": "2021-12-02T11:55:16.773Z"
   },
   {
    "duration": 23,
    "start_time": "2021-12-02T11:55:16.777Z"
   },
   {
    "duration": 56,
    "start_time": "2021-12-02T11:55:16.802Z"
   },
   {
    "duration": 33,
    "start_time": "2021-12-02T11:55:16.859Z"
   },
   {
    "duration": 3,
    "start_time": "2021-12-02T11:55:16.894Z"
   },
   {
    "duration": 29,
    "start_time": "2021-12-02T11:55:16.899Z"
   },
   {
    "duration": 35,
    "start_time": "2021-12-02T11:55:16.930Z"
   },
   {
    "duration": 22,
    "start_time": "2021-12-02T11:55:16.968Z"
   },
   {
    "duration": 27,
    "start_time": "2021-12-02T11:55:16.992Z"
   },
   {
    "duration": 24278,
    "start_time": "2021-12-02T11:55:17.021Z"
   },
   {
    "duration": 373,
    "start_time": "2021-12-02T11:55:41.302Z"
   },
   {
    "duration": -2,
    "start_time": "2021-12-02T11:55:41.680Z"
   },
   {
    "duration": -2,
    "start_time": "2021-12-02T11:55:41.682Z"
   },
   {
    "duration": -2,
    "start_time": "2021-12-02T11:55:41.683Z"
   },
   {
    "duration": -17,
    "start_time": "2021-12-02T11:55:41.700Z"
   },
   {
    "duration": -17,
    "start_time": "2021-12-02T11:55:41.702Z"
   },
   {
    "duration": -19,
    "start_time": "2021-12-02T11:55:41.705Z"
   },
   {
    "duration": -19,
    "start_time": "2021-12-02T11:55:41.707Z"
   },
   {
    "duration": -18,
    "start_time": "2021-12-02T11:55:41.708Z"
   },
   {
    "duration": -19,
    "start_time": "2021-12-02T11:55:41.710Z"
   },
   {
    "duration": -20,
    "start_time": "2021-12-02T11:55:41.712Z"
   },
   {
    "duration": -24,
    "start_time": "2021-12-02T11:55:41.718Z"
   },
   {
    "duration": -25,
    "start_time": "2021-12-02T11:55:41.721Z"
   },
   {
    "duration": 17,
    "start_time": "2021-12-02T11:57:08.749Z"
   },
   {
    "duration": 3,
    "start_time": "2021-12-02T11:59:39.693Z"
   },
   {
    "duration": 2,
    "start_time": "2021-12-02T12:00:48.567Z"
   },
   {
    "duration": 359,
    "start_time": "2021-12-02T12:03:24.461Z"
   },
   {
    "duration": 3,
    "start_time": "2021-12-02T12:03:27.879Z"
   },
   {
    "duration": 1190,
    "start_time": "2021-12-02T12:03:29.101Z"
   },
   {
    "duration": 1133,
    "start_time": "2021-12-02T12:08:08.270Z"
   },
   {
    "duration": 21,
    "start_time": "2021-12-02T12:11:02.569Z"
   },
   {
    "duration": 21,
    "start_time": "2021-12-02T12:11:10.500Z"
   },
   {
    "duration": 22,
    "start_time": "2021-12-02T12:11:14.641Z"
   },
   {
    "duration": 1086,
    "start_time": "2021-12-02T12:20:21.337Z"
   },
   {
    "duration": 3,
    "start_time": "2021-12-02T12:20:22.425Z"
   },
   {
    "duration": 210,
    "start_time": "2021-12-02T12:20:22.429Z"
   },
   {
    "duration": 109,
    "start_time": "2021-12-02T12:20:22.641Z"
   },
   {
    "duration": 23,
    "start_time": "2021-12-02T12:20:22.752Z"
   },
   {
    "duration": 22,
    "start_time": "2021-12-02T12:20:22.777Z"
   },
   {
    "duration": 20,
    "start_time": "2021-12-02T12:20:22.801Z"
   },
   {
    "duration": 7,
    "start_time": "2021-12-02T12:20:22.824Z"
   },
   {
    "duration": 103,
    "start_time": "2021-12-02T12:20:22.834Z"
   },
   {
    "duration": 87,
    "start_time": "2021-12-02T12:20:22.939Z"
   },
   {
    "duration": 4918,
    "start_time": "2021-12-02T12:20:23.028Z"
   },
   {
    "duration": 4826,
    "start_time": "2021-12-02T12:20:27.948Z"
   },
   {
    "duration": 3,
    "start_time": "2021-12-02T12:20:32.776Z"
   },
   {
    "duration": 51,
    "start_time": "2021-12-02T12:20:32.781Z"
   },
   {
    "duration": 66,
    "start_time": "2021-12-02T12:20:32.834Z"
   },
   {
    "duration": 33,
    "start_time": "2021-12-02T12:20:32.902Z"
   },
   {
    "duration": 8,
    "start_time": "2021-12-02T12:20:32.937Z"
   },
   {
    "duration": 39,
    "start_time": "2021-12-02T12:20:32.946Z"
   },
   {
    "duration": 38,
    "start_time": "2021-12-02T12:20:32.987Z"
   },
   {
    "duration": 5,
    "start_time": "2021-12-02T12:20:33.027Z"
   },
   {
    "duration": 36,
    "start_time": "2021-12-02T12:20:33.034Z"
   },
   {
    "duration": 24210,
    "start_time": "2021-12-02T12:20:33.071Z"
   },
   {
    "duration": 2,
    "start_time": "2021-12-02T12:20:57.285Z"
   },
   {
    "duration": 1289,
    "start_time": "2021-12-02T12:20:57.289Z"
   },
   {
    "duration": 23,
    "start_time": "2021-12-02T12:20:58.579Z"
   },
   {
    "duration": 38827,
    "start_time": "2021-12-02T12:20:58.603Z"
   },
   {
    "duration": 6482,
    "start_time": "2021-12-02T12:21:37.432Z"
   },
   {
    "duration": 143499,
    "start_time": "2021-12-02T12:21:43.916Z"
   },
   {
    "duration": 128,
    "start_time": "2021-12-02T12:24:07.465Z"
   },
   {
    "duration": 121,
    "start_time": "2021-12-02T12:24:07.595Z"
   },
   {
    "duration": 4,
    "start_time": "2021-12-02T12:24:07.717Z"
   },
   {
    "duration": 863,
    "start_time": "2021-12-02T12:24:07.723Z"
   },
   {
    "duration": 4,
    "start_time": "2021-12-02T12:24:08.587Z"
   },
   {
    "duration": 2281,
    "start_time": "2021-12-02T12:24:08.593Z"
   },
   {
    "duration": 39,
    "start_time": "2021-12-02T12:24:10.876Z"
   },
   {
    "duration": 51,
    "start_time": "2021-12-02T12:24:10.916Z"
   },
   {
    "duration": 10,
    "start_time": "2021-12-02T12:24:10.970Z"
   },
   {
    "duration": 328,
    "start_time": "2021-12-02T12:32:35.254Z"
   },
   {
    "duration": 242,
    "start_time": "2021-12-02T12:34:05.695Z"
   },
   {
    "duration": 40721,
    "start_time": "2021-12-02T12:34:24.258Z"
   },
   {
    "duration": 6871,
    "start_time": "2021-12-02T12:35:51.737Z"
   },
   {
    "duration": 145211,
    "start_time": "2021-12-02T12:36:09.054Z"
   },
   {
    "duration": 281,
    "start_time": "2021-12-02T12:44:56.384Z"
   },
   {
    "duration": 1106,
    "start_time": "2021-12-02T12:46:53.618Z"
   },
   {
    "duration": 3,
    "start_time": "2021-12-02T12:46:54.726Z"
   },
   {
    "duration": 240,
    "start_time": "2021-12-02T12:46:54.731Z"
   },
   {
    "duration": 118,
    "start_time": "2021-12-02T12:46:54.973Z"
   },
   {
    "duration": 25,
    "start_time": "2021-12-02T12:46:55.093Z"
   },
   {
    "duration": 17,
    "start_time": "2021-12-02T12:46:55.120Z"
   },
   {
    "duration": 37,
    "start_time": "2021-12-02T12:46:55.139Z"
   },
   {
    "duration": 8,
    "start_time": "2021-12-02T12:46:55.178Z"
   },
   {
    "duration": 114,
    "start_time": "2021-12-02T12:46:55.188Z"
   },
   {
    "duration": 115,
    "start_time": "2021-12-02T12:46:55.304Z"
   },
   {
    "duration": 4981,
    "start_time": "2021-12-02T12:46:55.422Z"
   },
   {
    "duration": 4842,
    "start_time": "2021-12-02T12:47:00.406Z"
   },
   {
    "duration": 3,
    "start_time": "2021-12-02T12:47:05.250Z"
   },
   {
    "duration": 19,
    "start_time": "2021-12-02T12:47:05.263Z"
   },
   {
    "duration": 48,
    "start_time": "2021-12-02T12:47:05.284Z"
   },
   {
    "duration": 51,
    "start_time": "2021-12-02T12:47:05.334Z"
   },
   {
    "duration": 4,
    "start_time": "2021-12-02T12:47:05.387Z"
   },
   {
    "duration": 20,
    "start_time": "2021-12-02T12:47:05.393Z"
   },
   {
    "duration": 16,
    "start_time": "2021-12-02T12:47:05.414Z"
   },
   {
    "duration": 16,
    "start_time": "2021-12-02T12:47:05.432Z"
   },
   {
    "duration": 15,
    "start_time": "2021-12-02T12:47:05.450Z"
   },
   {
    "duration": 25368,
    "start_time": "2021-12-02T12:47:05.467Z"
   },
   {
    "duration": 3,
    "start_time": "2021-12-02T12:47:30.838Z"
   },
   {
    "duration": 1195,
    "start_time": "2021-12-02T12:47:30.843Z"
   },
   {
    "duration": 32,
    "start_time": "2021-12-02T12:47:32.040Z"
   },
   {
    "duration": 44129,
    "start_time": "2021-12-02T12:47:32.074Z"
   },
   {
    "duration": 7163,
    "start_time": "2021-12-02T12:48:16.205Z"
   },
   {
    "duration": 147200,
    "start_time": "2021-12-02T12:48:23.370Z"
   },
   {
    "duration": 132,
    "start_time": "2021-12-02T12:50:50.666Z"
   },
   {
    "duration": 49,
    "start_time": "2021-12-02T12:50:50.799Z"
   },
   {
    "duration": 4,
    "start_time": "2021-12-02T12:50:50.864Z"
   },
   {
    "duration": 905,
    "start_time": "2021-12-02T12:50:50.870Z"
   },
   {
    "duration": 4,
    "start_time": "2021-12-02T12:50:51.777Z"
   },
   {
    "duration": 2408,
    "start_time": "2021-12-02T12:50:51.783Z"
   },
   {
    "duration": 37,
    "start_time": "2021-12-02T12:50:54.193Z"
   },
   {
    "duration": 54,
    "start_time": "2021-12-02T12:50:54.232Z"
   },
   {
    "duration": 9,
    "start_time": "2021-12-02T12:50:54.288Z"
   },
   {
    "duration": 998,
    "start_time": "2021-12-03T09:06:18.396Z"
   },
   {
    "duration": 2,
    "start_time": "2021-12-03T09:06:19.396Z"
   },
   {
    "duration": 223,
    "start_time": "2021-12-03T09:06:19.400Z"
   },
   {
    "duration": 106,
    "start_time": "2021-12-03T09:06:19.625Z"
   },
   {
    "duration": 24,
    "start_time": "2021-12-03T09:06:19.732Z"
   },
   {
    "duration": 19,
    "start_time": "2021-12-03T09:06:19.758Z"
   },
   {
    "duration": 12,
    "start_time": "2021-12-03T09:06:19.779Z"
   },
   {
    "duration": 6,
    "start_time": "2021-12-03T09:06:19.793Z"
   },
   {
    "duration": 105,
    "start_time": "2021-12-03T09:06:19.801Z"
   },
   {
    "duration": 76,
    "start_time": "2021-12-03T09:06:19.908Z"
   },
   {
    "duration": 4736,
    "start_time": "2021-12-03T09:06:19.986Z"
   },
   {
    "duration": 4820,
    "start_time": "2021-12-03T09:06:24.724Z"
   },
   {
    "duration": 6,
    "start_time": "2021-12-03T09:07:30.515Z"
   },
   {
    "duration": 6,
    "start_time": "2021-12-03T09:07:39.227Z"
   },
   {
    "duration": 7,
    "start_time": "2021-12-03T09:07:52.058Z"
   },
   {
    "duration": 3,
    "start_time": "2021-12-03T10:50:40.744Z"
   },
   {
    "duration": 9,
    "start_time": "2021-12-03T10:50:40.750Z"
   },
   {
    "duration": 208,
    "start_time": "2021-12-03T10:50:40.760Z"
   },
   {
    "duration": 191,
    "start_time": "2021-12-03T10:50:40.970Z"
   },
   {
    "duration": 16,
    "start_time": "2021-12-03T10:50:41.162Z"
   },
   {
    "duration": 46,
    "start_time": "2021-12-03T10:50:41.179Z"
   },
   {
    "duration": 39,
    "start_time": "2021-12-03T10:50:41.226Z"
   },
   {
    "duration": 29,
    "start_time": "2021-12-03T10:50:41.267Z"
   },
   {
    "duration": 94,
    "start_time": "2021-12-03T10:50:41.297Z"
   },
   {
    "duration": 65,
    "start_time": "2021-12-03T10:50:41.393Z"
   },
   {
    "duration": 4479,
    "start_time": "2021-12-03T10:50:41.460Z"
   },
   {
    "duration": 4613,
    "start_time": "2021-12-03T10:50:45.940Z"
   },
   {
    "duration": 6,
    "start_time": "2021-12-03T10:50:50.555Z"
   },
   {
    "duration": 2,
    "start_time": "2021-12-03T10:50:50.563Z"
   },
   {
    "duration": 25,
    "start_time": "2021-12-03T10:50:50.567Z"
   },
   {
    "duration": 21,
    "start_time": "2021-12-03T11:05:51.368Z"
   },
   {
    "duration": 20,
    "start_time": "2021-12-03T11:05:55.876Z"
   },
   {
    "duration": 18,
    "start_time": "2021-12-03T11:06:27.905Z"
   },
   {
    "duration": 413,
    "start_time": "2021-12-03T11:07:19.498Z"
   },
   {
    "duration": 26,
    "start_time": "2021-12-03T11:08:15.622Z"
   },
   {
    "duration": 26,
    "start_time": "2021-12-03T11:09:32.049Z"
   },
   {
    "duration": 18,
    "start_time": "2021-12-03T11:10:34.890Z"
   },
   {
    "duration": 60,
    "start_time": "2021-12-03T11:11:22.034Z"
   },
   {
    "duration": 23,
    "start_time": "2021-12-03T11:11:24.675Z"
   },
   {
    "duration": 23,
    "start_time": "2021-12-03T11:11:59.939Z"
   },
   {
    "duration": 20,
    "start_time": "2021-12-03T11:12:10.106Z"
   },
   {
    "duration": 19,
    "start_time": "2021-12-03T11:12:54.238Z"
   },
   {
    "duration": 56,
    "start_time": "2021-12-03T11:12:57.837Z"
   },
   {
    "duration": 27,
    "start_time": "2021-12-03T11:13:00.890Z"
   },
   {
    "duration": 29,
    "start_time": "2021-12-03T11:18:32.987Z"
   },
   {
    "duration": 4,
    "start_time": "2021-12-03T16:01:21.132Z"
   },
   {
    "duration": 423,
    "start_time": "2021-12-03T16:06:08.722Z"
   },
   {
    "duration": 1345,
    "start_time": "2021-12-03T16:06:21.804Z"
   },
   {
    "duration": 4,
    "start_time": "2021-12-03T16:06:23.942Z"
   },
   {
    "duration": 279,
    "start_time": "2021-12-03T16:06:28.340Z"
   },
   {
    "duration": 164,
    "start_time": "2021-12-03T16:06:29.882Z"
   },
   {
    "duration": 47,
    "start_time": "2021-12-03T16:06:33.842Z"
   },
   {
    "duration": 26,
    "start_time": "2021-12-03T16:06:37.093Z"
   },
   {
    "duration": 27,
    "start_time": "2021-12-03T16:06:38.273Z"
   },
   {
    "duration": 11,
    "start_time": "2021-12-03T16:06:39.241Z"
   },
   {
    "duration": 143,
    "start_time": "2021-12-03T16:06:40.255Z"
   },
   {
    "duration": 110,
    "start_time": "2021-12-03T16:06:41.390Z"
   },
   {
    "duration": 4,
    "start_time": "2021-12-03T16:07:17.874Z"
   },
   {
    "duration": 22,
    "start_time": "2021-12-03T16:07:19.055Z"
   },
   {
    "duration": 71,
    "start_time": "2021-12-03T16:07:21.542Z"
   },
   {
    "duration": 23,
    "start_time": "2021-12-03T16:07:40.275Z"
   },
   {
    "duration": 20,
    "start_time": "2021-12-03T16:07:42.108Z"
   },
   {
    "duration": 30,
    "start_time": "2021-12-03T16:08:17.952Z"
   },
   {
    "duration": 6,
    "start_time": "2021-12-03T16:08:21.281Z"
   },
   {
    "duration": 11,
    "start_time": "2021-12-03T16:08:23.670Z"
   },
   {
    "duration": 47926,
    "start_time": "2021-12-03T16:08:25.705Z"
   },
   {
    "duration": 4,
    "start_time": "2021-12-03T16:09:16.374Z"
   },
   {
    "duration": 2129,
    "start_time": "2021-12-03T16:09:17.398Z"
   },
   {
    "duration": 35,
    "start_time": "2021-12-03T16:09:20.661Z"
   },
   {
    "duration": 140,
    "start_time": "2021-12-03T16:15:10.916Z"
   },
   {
    "duration": 4,
    "start_time": "2021-12-03T16:35:44.978Z"
   },
   {
    "duration": 4,
    "start_time": "2021-12-03T16:35:45.670Z"
   },
   {
    "duration": 297,
    "start_time": "2021-12-03T16:35:46.247Z"
   },
   {
    "duration": 162,
    "start_time": "2021-12-03T16:35:49.025Z"
   },
   {
    "duration": 27,
    "start_time": "2021-12-03T16:35:51.422Z"
   },
   {
    "duration": 27,
    "start_time": "2021-12-03T16:35:52.324Z"
   },
   {
    "duration": 12,
    "start_time": "2021-12-03T16:35:53.542Z"
   },
   {
    "duration": 12,
    "start_time": "2021-12-03T16:35:54.493Z"
   },
   {
    "duration": 187,
    "start_time": "2021-12-03T16:35:55.322Z"
   },
   {
    "duration": 114,
    "start_time": "2021-12-03T16:35:56.393Z"
   },
   {
    "duration": 8187,
    "start_time": "2021-12-03T16:35:57.982Z"
   },
   {
    "duration": 8252,
    "start_time": "2021-12-03T16:36:06.173Z"
   },
   {
    "duration": 3,
    "start_time": "2021-12-03T16:36:20.910Z"
   },
   {
    "duration": 5,
    "start_time": "2021-12-03T16:47:15.339Z"
   },
   {
    "duration": 661,
    "start_time": "2021-12-03T16:47:36.014Z"
   },
   {
    "duration": 10,
    "start_time": "2021-12-03T16:47:48.457Z"
   },
   {
    "duration": 5,
    "start_time": "2021-12-03T16:47:51.089Z"
   },
   {
    "duration": 333,
    "start_time": "2021-12-03T16:47:51.097Z"
   },
   {
    "duration": 164,
    "start_time": "2021-12-03T16:47:51.853Z"
   },
   {
    "duration": 27,
    "start_time": "2021-12-03T16:47:53.778Z"
   },
   {
    "duration": 27,
    "start_time": "2021-12-03T16:47:54.385Z"
   },
   {
    "duration": 12,
    "start_time": "2021-12-03T16:47:55.116Z"
   },
   {
    "duration": 10,
    "start_time": "2021-12-03T16:47:56.217Z"
   },
   {
    "duration": 128,
    "start_time": "2021-12-03T16:47:57.071Z"
   },
   {
    "duration": 112,
    "start_time": "2021-12-03T16:47:58.132Z"
   },
   {
    "duration": 5,
    "start_time": "2021-12-03T16:48:05.972Z"
   },
   {
    "duration": 350,
    "start_time": "2021-12-03T16:48:08.073Z"
   },
   {
    "duration": 5,
    "start_time": "2021-12-03T16:48:20.598Z"
   },
   {
    "duration": 5,
    "start_time": "2021-12-03T16:48:21.902Z"
   },
   {
    "duration": 7,
    "start_time": "2021-12-03T16:50:45.761Z"
   },
   {
    "duration": 18,
    "start_time": "2021-12-03T16:50:50.796Z"
   },
   {
    "duration": 366,
    "start_time": "2021-12-03T16:51:13.952Z"
   },
   {
    "duration": 4,
    "start_time": "2021-12-03T16:51:52.901Z"
   },
   {
    "duration": 62,
    "start_time": "2021-12-03T16:51:55.139Z"
   },
   {
    "duration": 349,
    "start_time": "2021-12-03T17:03:20.637Z"
   },
   {
    "duration": 105,
    "start_time": "2021-12-03T17:03:28.883Z"
   },
   {
    "duration": 68,
    "start_time": "2021-12-03T17:05:01.934Z"
   },
   {
    "duration": 89,
    "start_time": "2021-12-03T17:05:13.902Z"
   },
   {
    "duration": 67,
    "start_time": "2021-12-03T17:16:19.953Z"
   },
   {
    "duration": 400,
    "start_time": "2021-12-03T17:16:41.853Z"
   },
   {
    "duration": 66,
    "start_time": "2021-12-03T17:16:47.444Z"
   },
   {
    "duration": 68,
    "start_time": "2021-12-03T17:16:51.110Z"
   },
   {
    "duration": 67,
    "start_time": "2021-12-03T17:17:04.095Z"
   },
   {
    "duration": 66,
    "start_time": "2021-12-03T17:17:30.140Z"
   },
   {
    "duration": 349,
    "start_time": "2021-12-03T17:18:23.532Z"
   },
   {
    "duration": 387,
    "start_time": "2021-12-03T17:18:30.069Z"
   },
   {
    "duration": 368,
    "start_time": "2021-12-03T17:18:32.735Z"
   },
   {
    "duration": 71,
    "start_time": "2021-12-03T17:18:36.864Z"
   },
   {
    "duration": 78,
    "start_time": "2021-12-03T17:19:38.753Z"
   },
   {
    "duration": 74,
    "start_time": "2021-12-03T17:20:00.363Z"
   },
   {
    "duration": 72,
    "start_time": "2021-12-03T17:20:10.455Z"
   },
   {
    "duration": 67,
    "start_time": "2021-12-03T17:21:49.163Z"
   },
   {
    "duration": 74,
    "start_time": "2021-12-03T17:22:42.308Z"
   },
   {
    "duration": 73,
    "start_time": "2021-12-03T17:23:41.586Z"
   },
   {
    "duration": 449,
    "start_time": "2021-12-03T17:24:37.172Z"
   },
   {
    "duration": 375,
    "start_time": "2021-12-03T17:28:18.891Z"
   },
   {
    "duration": 347,
    "start_time": "2021-12-03T17:28:26.372Z"
   },
   {
    "duration": 79,
    "start_time": "2021-12-03T17:28:30.503Z"
   },
   {
    "duration": 7,
    "start_time": "2021-12-03T17:28:46.973Z"
   },
   {
    "duration": 6,
    "start_time": "2021-12-03T17:28:56.354Z"
   },
   {
    "duration": 366,
    "start_time": "2021-12-03T17:30:52.209Z"
   },
   {
    "duration": 414,
    "start_time": "2021-12-03T17:31:00.782Z"
   },
   {
    "duration": 7,
    "start_time": "2021-12-03T17:32:38.119Z"
   },
   {
    "duration": 378,
    "start_time": "2021-12-03T17:32:40.483Z"
   },
   {
    "duration": 5,
    "start_time": "2021-12-03T17:32:50.191Z"
   },
   {
    "duration": 83,
    "start_time": "2021-12-03T17:36:27.702Z"
   },
   {
    "duration": 5,
    "start_time": "2021-12-03T17:36:34.340Z"
   },
   {
    "duration": 4,
    "start_time": "2021-12-03T17:36:58.348Z"
   },
   {
    "duration": 6,
    "start_time": "2021-12-03T17:37:03.106Z"
   },
   {
    "duration": 22,
    "start_time": "2021-12-03T17:37:29.903Z"
   },
   {
    "duration": 384,
    "start_time": "2021-12-03T17:39:28.359Z"
   },
   {
    "duration": 118,
    "start_time": "2021-12-03T17:39:36.201Z"
   },
   {
    "duration": 137,
    "start_time": "2021-12-03T17:40:45.432Z"
   },
   {
    "duration": 22,
    "start_time": "2021-12-03T17:41:15.617Z"
   },
   {
    "duration": 7,
    "start_time": "2021-12-03T17:42:50.354Z"
   },
   {
    "duration": 77,
    "start_time": "2021-12-03T17:43:01.009Z"
   },
   {
    "duration": 12,
    "start_time": "2021-12-03T17:43:18.165Z"
   },
   {
    "duration": 381,
    "start_time": "2021-12-03T17:43:27.388Z"
   },
   {
    "duration": 18,
    "start_time": "2021-12-03T17:43:48.832Z"
   },
   {
    "duration": 21,
    "start_time": "2021-12-03T17:44:27.673Z"
   },
   {
    "duration": 30,
    "start_time": "2021-12-03T17:47:57.451Z"
   },
   {
    "duration": 29,
    "start_time": "2021-12-03T17:48:40.021Z"
   },
   {
    "duration": 143,
    "start_time": "2021-12-03T17:49:07.775Z"
   },
   {
    "duration": 167,
    "start_time": "2021-12-03T17:49:50.638Z"
   },
   {
    "duration": 168,
    "start_time": "2021-12-03T19:02:01.952Z"
   },
   {
    "duration": 157,
    "start_time": "2021-12-03T19:02:36.149Z"
   },
   {
    "duration": 159,
    "start_time": "2021-12-03T19:05:57.212Z"
   },
   {
    "duration": 4377,
    "start_time": "2021-12-03T19:08:25.063Z"
   },
   {
    "duration": 4578,
    "start_time": "2021-12-03T19:08:57.063Z"
   },
   {
    "duration": 8,
    "start_time": "2021-12-03T19:10:18.060Z"
   },
   {
    "duration": 11,
    "start_time": "2021-12-03T19:10:43.950Z"
   },
   {
    "duration": 15,
    "start_time": "2021-12-03T19:10:46.949Z"
   },
   {
    "duration": 1666,
    "start_time": "2021-12-03T19:10:59.259Z"
   },
   {
    "duration": 18,
    "start_time": "2021-12-03T19:13:18.275Z"
   },
   {
    "duration": 312,
    "start_time": "2021-12-03T19:13:31.427Z"
   },
   {
    "duration": 305,
    "start_time": "2021-12-03T19:16:15.008Z"
   },
   {
    "duration": 18,
    "start_time": "2021-12-03T19:17:08.207Z"
   },
   {
    "duration": 18,
    "start_time": "2021-12-03T19:17:13.540Z"
   },
   {
    "duration": 343,
    "start_time": "2021-12-03T19:17:25.689Z"
   },
   {
    "duration": 25,
    "start_time": "2021-12-03T19:17:31.652Z"
   },
   {
    "duration": 21,
    "start_time": "2021-12-03T19:17:40.285Z"
   },
   {
    "duration": 352,
    "start_time": "2021-12-03T19:17:53.983Z"
   },
   {
    "duration": 21,
    "start_time": "2021-12-03T19:18:11.040Z"
   },
   {
    "duration": 374,
    "start_time": "2021-12-03T19:18:25.203Z"
   },
   {
    "duration": 15,
    "start_time": "2021-12-03T19:18:33.315Z"
   },
   {
    "duration": 366,
    "start_time": "2021-12-03T19:18:36.993Z"
   },
   {
    "duration": 20,
    "start_time": "2021-12-03T19:19:52.697Z"
   },
   {
    "duration": 1115,
    "start_time": "2021-12-03T19:20:02.867Z"
   },
   {
    "duration": 1664,
    "start_time": "2021-12-03T19:20:11.326Z"
   },
   {
    "duration": 26,
    "start_time": "2021-12-03T19:20:16.242Z"
   },
   {
    "duration": 447,
    "start_time": "2021-12-03T19:22:01.409Z"
   },
   {
    "duration": 25,
    "start_time": "2021-12-03T19:22:09.848Z"
   },
   {
    "duration": 23,
    "start_time": "2021-12-03T19:25:00.999Z"
   },
   {
    "duration": 592,
    "start_time": "2021-12-03T19:26:58.924Z"
   },
   {
    "duration": 609,
    "start_time": "2021-12-03T19:27:12.218Z"
   },
   {
    "duration": 642,
    "start_time": "2021-12-03T19:27:19.160Z"
   },
   {
    "duration": 608,
    "start_time": "2021-12-03T19:27:35.113Z"
   },
   {
    "duration": 601,
    "start_time": "2021-12-03T19:27:44.214Z"
   },
   {
    "duration": 418,
    "start_time": "2021-12-03T19:30:01.973Z"
   },
   {
    "duration": 15214,
    "start_time": "2021-12-03T19:30:44.093Z"
   },
   {
    "duration": 698,
    "start_time": "2021-12-03T19:32:38.924Z"
   },
   {
    "duration": 9850,
    "start_time": "2021-12-03T19:32:49.870Z"
   },
   {
    "duration": 9630,
    "start_time": "2021-12-03T19:34:01.175Z"
   },
   {
    "duration": 9840,
    "start_time": "2021-12-03T19:34:44.049Z"
   },
   {
    "duration": 9455,
    "start_time": "2021-12-03T19:34:58.562Z"
   },
   {
    "duration": 10030,
    "start_time": "2021-12-03T19:35:19.411Z"
   },
   {
    "duration": 9262,
    "start_time": "2021-12-03T19:35:53.192Z"
   },
   {
    "duration": 9481,
    "start_time": "2021-12-03T19:37:09.447Z"
   },
   {
    "duration": 348,
    "start_time": "2021-12-03T19:37:53.611Z"
   },
   {
    "duration": 1078,
    "start_time": "2021-12-03T19:38:03.030Z"
   },
   {
    "duration": 11038,
    "start_time": "2021-12-03T19:39:20.781Z"
   },
   {
    "duration": 10790,
    "start_time": "2021-12-03T19:39:41.369Z"
   },
   {
    "duration": 11885,
    "start_time": "2021-12-03T19:40:10.360Z"
   },
   {
    "duration": 948,
    "start_time": "2021-12-03T19:42:02.411Z"
   },
   {
    "duration": 1366,
    "start_time": "2021-12-03T19:42:32.665Z"
   },
   {
    "duration": 11758,
    "start_time": "2021-12-03T19:43:16.371Z"
   },
   {
    "duration": 11846,
    "start_time": "2021-12-03T19:45:26.288Z"
   },
   {
    "duration": 11761,
    "start_time": "2021-12-03T19:46:21.832Z"
   },
   {
    "duration": 11939,
    "start_time": "2021-12-03T19:46:38.785Z"
   },
   {
    "duration": 12446,
    "start_time": "2021-12-03T19:46:55.391Z"
   },
   {
    "duration": 12562,
    "start_time": "2021-12-03T19:47:33.403Z"
   },
   {
    "duration": 22,
    "start_time": "2021-12-03T20:04:15.157Z"
   },
   {
    "duration": 410,
    "start_time": "2021-12-03T20:04:38.984Z"
   },
   {
    "duration": 23,
    "start_time": "2021-12-03T20:05:13.723Z"
   },
   {
    "duration": 377,
    "start_time": "2021-12-03T20:08:21.175Z"
   },
   {
    "duration": 967,
    "start_time": "2021-12-03T20:08:26.933Z"
   },
   {
    "duration": 30,
    "start_time": "2021-12-03T20:08:35.101Z"
   },
   {
    "duration": 32,
    "start_time": "2021-12-03T20:08:40.872Z"
   },
   {
    "duration": 24,
    "start_time": "2021-12-03T20:09:05.331Z"
   },
   {
    "duration": 30,
    "start_time": "2021-12-03T20:09:11.137Z"
   },
   {
    "duration": 30,
    "start_time": "2021-12-03T20:10:48.282Z"
   },
   {
    "duration": 40,
    "start_time": "2021-12-03T20:10:51.059Z"
   },
   {
    "duration": 423,
    "start_time": "2021-12-03T20:12:04.288Z"
   },
   {
    "duration": 381,
    "start_time": "2021-12-03T20:12:22.982Z"
   },
   {
    "duration": 360,
    "start_time": "2021-12-03T20:13:07.783Z"
   },
   {
    "duration": 388,
    "start_time": "2021-12-03T20:17:25.584Z"
   },
   {
    "duration": 23,
    "start_time": "2021-12-03T20:17:32.918Z"
   },
   {
    "duration": 32,
    "start_time": "2021-12-03T20:17:41.625Z"
   },
   {
    "duration": 23,
    "start_time": "2021-12-03T20:17:58.173Z"
   },
   {
    "duration": 22,
    "start_time": "2021-12-03T20:18:01.272Z"
   },
   {
    "duration": 30,
    "start_time": "2021-12-03T20:18:09.704Z"
   },
   {
    "duration": 27,
    "start_time": "2021-12-03T20:18:16.749Z"
   },
   {
    "duration": 29,
    "start_time": "2021-12-03T20:18:27.728Z"
   },
   {
    "duration": 1026,
    "start_time": "2021-12-03T20:19:01.580Z"
   },
   {
    "duration": 411,
    "start_time": "2021-12-03T20:19:13.494Z"
   },
   {
    "duration": 392,
    "start_time": "2021-12-03T20:19:28.336Z"
   },
   {
    "duration": 32,
    "start_time": "2021-12-03T20:19:32.282Z"
   },
   {
    "duration": 33,
    "start_time": "2021-12-03T20:19:36.894Z"
   },
   {
    "duration": 32,
    "start_time": "2021-12-03T20:20:20.478Z"
   },
   {
    "duration": 145,
    "start_time": "2021-12-03T20:20:46.150Z"
   },
   {
    "duration": 149,
    "start_time": "2021-12-03T20:20:58.503Z"
   },
   {
    "duration": 30,
    "start_time": "2021-12-03T20:22:04.509Z"
   },
   {
    "duration": 34,
    "start_time": "2021-12-03T20:22:23.611Z"
   },
   {
    "duration": 33,
    "start_time": "2021-12-03T20:22:40.573Z"
   },
   {
    "duration": 34,
    "start_time": "2021-12-03T20:22:47.901Z"
   },
   {
    "duration": 32,
    "start_time": "2021-12-03T20:23:25.025Z"
   },
   {
    "duration": 37,
    "start_time": "2021-12-03T20:23:34.219Z"
   },
   {
    "duration": 33,
    "start_time": "2021-12-03T20:24:27.195Z"
   },
   {
    "duration": 36,
    "start_time": "2021-12-03T20:24:37.701Z"
   },
   {
    "duration": 41,
    "start_time": "2021-12-03T20:25:08.336Z"
   },
   {
    "duration": 38,
    "start_time": "2021-12-03T20:25:15.492Z"
   },
   {
    "duration": 55,
    "start_time": "2021-12-03T20:25:53.090Z"
   },
   {
    "duration": 41,
    "start_time": "2021-12-03T20:26:22.835Z"
   },
   {
    "duration": 37,
    "start_time": "2021-12-03T20:26:28.348Z"
   },
   {
    "duration": 376,
    "start_time": "2021-12-03T20:27:23.632Z"
   },
   {
    "duration": 429,
    "start_time": "2021-12-03T20:27:33.520Z"
   },
   {
    "duration": 365,
    "start_time": "2021-12-03T20:27:40.708Z"
   },
   {
    "duration": 371,
    "start_time": "2021-12-03T20:27:49.799Z"
   },
   {
    "duration": 29,
    "start_time": "2021-12-03T20:27:57.584Z"
   },
   {
    "duration": 30,
    "start_time": "2021-12-03T20:28:20.636Z"
   },
   {
    "duration": 388,
    "start_time": "2021-12-03T20:28:28.656Z"
   },
   {
    "duration": 388,
    "start_time": "2021-12-03T20:28:31.875Z"
   },
   {
    "duration": 389,
    "start_time": "2021-12-03T20:28:38.827Z"
   },
   {
    "duration": 385,
    "start_time": "2021-12-03T20:29:24.402Z"
   },
   {
    "duration": 28,
    "start_time": "2021-12-03T20:29:29.847Z"
   },
   {
    "duration": 31,
    "start_time": "2021-12-03T20:30:12.416Z"
   },
   {
    "duration": 27,
    "start_time": "2021-12-03T20:32:00.701Z"
   },
   {
    "duration": 36,
    "start_time": "2021-12-03T20:32:08.779Z"
   },
   {
    "duration": 62,
    "start_time": "2021-12-03T20:32:30.819Z"
   },
   {
    "duration": 35,
    "start_time": "2021-12-03T20:32:58.685Z"
   },
   {
    "duration": 36,
    "start_time": "2021-12-03T20:33:11.993Z"
   },
   {
    "duration": 36,
    "start_time": "2021-12-03T20:33:14.952Z"
   },
   {
    "duration": 34,
    "start_time": "2021-12-03T20:33:22.725Z"
   },
   {
    "duration": 36,
    "start_time": "2021-12-03T20:33:37.509Z"
   },
   {
    "duration": 37,
    "start_time": "2021-12-03T20:33:45.282Z"
   },
   {
    "duration": 458,
    "start_time": "2021-12-03T20:33:55.757Z"
   },
   {
    "duration": 362,
    "start_time": "2021-12-03T20:41:27.802Z"
   },
   {
    "duration": 3,
    "start_time": "2021-12-03T20:42:14.875Z"
   },
   {
    "duration": 6,
    "start_time": "2021-12-03T20:42:20.981Z"
   },
   {
    "duration": 5,
    "start_time": "2021-12-03T20:42:58.873Z"
   },
   {
    "duration": 19,
    "start_time": "2021-12-03T20:44:25.175Z"
   },
   {
    "duration": 7,
    "start_time": "2021-12-03T21:04:52.736Z"
   },
   {
    "duration": 9,
    "start_time": "2021-12-03T21:04:56.043Z"
   },
   {
    "duration": 8,
    "start_time": "2021-12-03T21:05:14.819Z"
   },
   {
    "duration": 11,
    "start_time": "2021-12-03T21:05:21.956Z"
   },
   {
    "duration": 9,
    "start_time": "2021-12-03T21:05:44.002Z"
   },
   {
    "duration": 9,
    "start_time": "2021-12-03T21:05:46.185Z"
   },
   {
    "duration": 7,
    "start_time": "2021-12-03T21:05:53.982Z"
   },
   {
    "duration": 8,
    "start_time": "2021-12-03T21:05:56.591Z"
   },
   {
    "duration": 11,
    "start_time": "2021-12-03T21:06:59.073Z"
   },
   {
    "duration": 11,
    "start_time": "2021-12-03T21:07:19.140Z"
   },
   {
    "duration": 11,
    "start_time": "2021-12-03T21:08:54.119Z"
   },
   {
    "duration": 9,
    "start_time": "2021-12-03T21:11:12.307Z"
   },
   {
    "duration": 10,
    "start_time": "2021-12-03T21:11:37.315Z"
   },
   {
    "duration": 17,
    "start_time": "2021-12-03T21:11:57.633Z"
   },
   {
    "duration": 16,
    "start_time": "2021-12-03T21:12:45.446Z"
   },
   {
    "duration": 9,
    "start_time": "2021-12-03T21:13:00.779Z"
   },
   {
    "duration": 17,
    "start_time": "2021-12-03T21:13:08.993Z"
   },
   {
    "duration": 9,
    "start_time": "2021-12-03T21:13:11.310Z"
   },
   {
    "duration": 8,
    "start_time": "2021-12-03T21:13:15.687Z"
   },
   {
    "duration": 16,
    "start_time": "2021-12-03T21:13:33.260Z"
   },
   {
    "duration": 12,
    "start_time": "2021-12-03T21:13:33.721Z"
   },
   {
    "duration": 19,
    "start_time": "2021-12-03T21:13:33.935Z"
   },
   {
    "duration": 9,
    "start_time": "2021-12-03T21:13:37.645Z"
   },
   {
    "duration": 16,
    "start_time": "2021-12-03T21:13:39.672Z"
   },
   {
    "duration": 7,
    "start_time": "2021-12-03T21:13:45.364Z"
   },
   {
    "duration": 10,
    "start_time": "2021-12-03T21:13:57.515Z"
   },
   {
    "duration": 10,
    "start_time": "2021-12-03T21:14:04.254Z"
   },
   {
    "duration": 46,
    "start_time": "2021-12-03T21:14:35.540Z"
   },
   {
    "duration": 108,
    "start_time": "2021-12-03T21:14:59.122Z"
   },
   {
    "duration": 7,
    "start_time": "2021-12-03T21:15:03.485Z"
   },
   {
    "duration": 46,
    "start_time": "2021-12-03T21:15:07.424Z"
   },
   {
    "duration": 8,
    "start_time": "2021-12-03T21:15:27.766Z"
   },
   {
    "duration": 13,
    "start_time": "2021-12-03T21:16:50.948Z"
   },
   {
    "duration": 11,
    "start_time": "2021-12-03T21:17:07.215Z"
   },
   {
    "duration": 8,
    "start_time": "2021-12-03T21:17:30.133Z"
   },
   {
    "duration": 9,
    "start_time": "2021-12-03T21:17:32.843Z"
   },
   {
    "duration": 11,
    "start_time": "2021-12-03T21:17:45.634Z"
   },
   {
    "duration": 395,
    "start_time": "2021-12-03T21:17:50.360Z"
   },
   {
    "duration": 9,
    "start_time": "2021-12-03T21:18:04.749Z"
   },
   {
    "duration": 7,
    "start_time": "2021-12-03T21:18:14.289Z"
   },
   {
    "duration": 9,
    "start_time": "2021-12-03T21:18:33.729Z"
   },
   {
    "duration": 9,
    "start_time": "2021-12-03T21:19:05.850Z"
   },
   {
    "duration": 10,
    "start_time": "2021-12-03T21:19:25.401Z"
   },
   {
    "duration": 4,
    "start_time": "2021-12-03T21:22:08.225Z"
   },
   {
    "duration": 120,
    "start_time": "2021-12-03T21:22:17.553Z"
   },
   {
    "duration": 15,
    "start_time": "2021-12-03T21:22:30.424Z"
   },
   {
    "duration": 17,
    "start_time": "2021-12-03T21:23:22.578Z"
   },
   {
    "duration": 37,
    "start_time": "2021-12-03T21:29:28.413Z"
   },
   {
    "duration": 30,
    "start_time": "2021-12-03T21:33:25.420Z"
   },
   {
    "duration": 124,
    "start_time": "2021-12-03T21:35:34.358Z"
   },
   {
    "duration": 239,
    "start_time": "2021-12-03T21:35:40.074Z"
   },
   {
    "duration": 345,
    "start_time": "2021-12-03T21:37:25.369Z"
   },
   {
    "duration": 24,
    "start_time": "2021-12-03T21:37:30.336Z"
   },
   {
    "duration": 235,
    "start_time": "2021-12-03T21:37:32.102Z"
   },
   {
    "duration": 118,
    "start_time": "2021-12-03T21:39:26.240Z"
   },
   {
    "duration": 3,
    "start_time": "2021-12-03T21:42:33.001Z"
   },
   {
    "duration": 5,
    "start_time": "2021-12-03T21:43:22.148Z"
   },
   {
    "duration": 363,
    "start_time": "2021-12-03T21:44:58.703Z"
   },
   {
    "duration": 437,
    "start_time": "2021-12-03T21:45:22.777Z"
   },
   {
    "duration": 517,
    "start_time": "2021-12-03T21:45:43.050Z"
   },
   {
    "duration": 12,
    "start_time": "2021-12-03T21:46:15.709Z"
   },
   {
    "duration": 724,
    "start_time": "2021-12-03T21:47:47.612Z"
   },
   {
    "duration": 370,
    "start_time": "2021-12-03T21:48:13.375Z"
   },
   {
    "duration": 162,
    "start_time": "2021-12-03T21:49:01.437Z"
   },
   {
    "duration": 145,
    "start_time": "2021-12-03T21:49:50.242Z"
   },
   {
    "duration": 322,
    "start_time": "2021-12-03T21:51:09.366Z"
   },
   {
    "duration": 145,
    "start_time": "2021-12-03T21:55:35.557Z"
   },
   {
    "duration": 557,
    "start_time": "2021-12-03T21:55:44.947Z"
   },
   {
    "duration": 26,
    "start_time": "2021-12-03T21:56:06.029Z"
   },
   {
    "duration": 146,
    "start_time": "2021-12-03T21:56:07.424Z"
   },
   {
    "duration": 35,
    "start_time": "2021-12-03T21:56:46.057Z"
   },
   {
    "duration": 150,
    "start_time": "2021-12-03T21:56:48.543Z"
   },
   {
    "duration": 288,
    "start_time": "2021-12-03T21:59:36.600Z"
   },
   {
    "duration": 473,
    "start_time": "2021-12-03T22:03:23.560Z"
   },
   {
    "duration": 300,
    "start_time": "2021-12-03T22:03:54.127Z"
   },
   {
    "duration": 146,
    "start_time": "2021-12-03T22:05:47.247Z"
   },
   {
    "duration": 136,
    "start_time": "2021-12-03T22:06:31.069Z"
   },
   {
    "duration": 129,
    "start_time": "2021-12-03T22:07:35.789Z"
   },
   {
    "duration": 61,
    "start_time": "2021-12-03T22:08:16.403Z"
   },
   {
    "duration": 9,
    "start_time": "2021-12-03T22:08:21.096Z"
   },
   {
    "duration": 4,
    "start_time": "2021-12-03T22:08:24.278Z"
   },
   {
    "duration": 9,
    "start_time": "2021-12-03T22:08:27.799Z"
   },
   {
    "duration": 13,
    "start_time": "2021-12-03T22:08:30.646Z"
   },
   {
    "duration": 53552,
    "start_time": "2021-12-03T22:08:36.461Z"
   },
   {
    "duration": 4,
    "start_time": "2021-12-03T22:09:30.016Z"
   },
   {
    "duration": 2688,
    "start_time": "2021-12-03T22:09:30.023Z"
   },
   {
    "duration": 77,
    "start_time": "2021-12-03T22:09:42.759Z"
   },
   {
    "duration": 70279,
    "start_time": "2021-12-03T22:11:31.291Z"
   },
   {
    "duration": 10555,
    "start_time": "2021-12-03T22:13:21.859Z"
   },
   {
    "duration": 555227,
    "start_time": "2021-12-03T22:13:43.738Z"
   },
   {
    "duration": 173909,
    "start_time": "2021-12-03T22:23:53.869Z"
   },
   {
    "duration": 427,
    "start_time": "2021-12-03T22:30:07.815Z"
   },
   {
    "duration": 408,
    "start_time": "2021-12-03T22:30:49.339Z"
   },
   {
    "duration": 399,
    "start_time": "2021-12-03T22:31:19.657Z"
   },
   {
    "duration": 57,
    "start_time": "2021-12-03T22:31:58.607Z"
   },
   {
    "duration": 82,
    "start_time": "2021-12-03T22:33:00.146Z"
   },
   {
    "duration": 7,
    "start_time": "2021-12-03T22:33:13.177Z"
   },
   {
    "duration": 2037,
    "start_time": "2021-12-03T22:33:17.302Z"
   },
   {
    "duration": 6,
    "start_time": "2021-12-03T22:33:22.331Z"
   },
   {
    "duration": 7409,
    "start_time": "2021-12-03T22:37:41.794Z"
   },
   {
    "duration": 106,
    "start_time": "2021-12-03T22:38:04.603Z"
   },
   {
    "duration": 1673,
    "start_time": "2021-12-03T22:38:14.488Z"
   },
   {
    "duration": 421,
    "start_time": "2021-12-03T22:39:10.515Z"
   },
   {
    "duration": 81,
    "start_time": "2021-12-03T22:39:43.724Z"
   },
   {
    "duration": 101,
    "start_time": "2021-12-03T22:39:45.011Z"
   },
   {
    "duration": 353,
    "start_time": "2021-12-03T22:42:13.598Z"
   },
   {
    "duration": 367,
    "start_time": "2021-12-03T22:42:38.540Z"
   },
   {
    "duration": 6,
    "start_time": "2021-12-03T22:43:10.345Z"
   },
   {
    "duration": 13,
    "start_time": "2021-12-03T22:44:18.533Z"
   },
   {
    "duration": 1472,
    "start_time": "2021-12-03T22:51:19.328Z"
   },
   {
    "duration": 4,
    "start_time": "2021-12-03T22:51:20.804Z"
   },
   {
    "duration": 327,
    "start_time": "2021-12-03T22:51:20.811Z"
   },
   {
    "duration": 268,
    "start_time": "2021-12-03T22:51:21.141Z"
   },
   {
    "duration": 80,
    "start_time": "2021-12-03T22:51:21.412Z"
   },
   {
    "duration": 32,
    "start_time": "2021-12-03T22:51:21.495Z"
   },
   {
    "duration": 14,
    "start_time": "2021-12-03T22:51:21.529Z"
   },
   {
    "duration": 19,
    "start_time": "2021-12-03T22:51:21.547Z"
   },
   {
    "duration": 217,
    "start_time": "2021-12-03T22:51:21.569Z"
   },
   {
    "duration": 118,
    "start_time": "2021-12-03T22:51:21.789Z"
   },
   {
    "duration": 7836,
    "start_time": "2021-12-03T22:51:21.909Z"
   },
   {
    "duration": 7544,
    "start_time": "2021-12-03T22:51:29.747Z"
   },
   {
    "duration": 2,
    "start_time": "2021-12-03T22:51:37.294Z"
   },
   {
    "duration": 7,
    "start_time": "2021-12-03T22:51:37.298Z"
   },
   {
    "duration": 6,
    "start_time": "2021-12-03T22:51:37.308Z"
   },
   {
    "duration": 99,
    "start_time": "2021-12-03T22:51:37.316Z"
   },
   {
    "duration": 6,
    "start_time": "2021-12-03T22:51:37.418Z"
   },
   {
    "duration": 170,
    "start_time": "2021-12-03T22:51:37.426Z"
   },
   {
    "duration": 12722,
    "start_time": "2021-12-03T22:51:37.598Z"
   },
   {
    "duration": 50,
    "start_time": "2021-12-03T22:51:50.323Z"
   },
   {
    "duration": 35,
    "start_time": "2021-12-03T22:51:50.376Z"
   },
   {
    "duration": 77,
    "start_time": "2021-12-03T22:51:50.413Z"
   },
   {
    "duration": 34,
    "start_time": "2021-12-03T22:51:50.497Z"
   },
   {
    "duration": 56,
    "start_time": "2021-12-03T22:51:50.534Z"
   },
   {
    "duration": 34,
    "start_time": "2021-12-03T22:51:50.593Z"
   },
   {
    "duration": 5,
    "start_time": "2021-12-03T22:51:50.660Z"
   },
   {
    "duration": 20,
    "start_time": "2021-12-03T22:51:50.668Z"
   },
   {
    "duration": 139,
    "start_time": "2021-12-03T22:51:50.690Z"
   },
   {
    "duration": 28,
    "start_time": "2021-12-03T22:51:50.832Z"
   },
   {
    "duration": 24,
    "start_time": "2021-12-03T22:51:50.862Z"
   },
   {
    "duration": 178,
    "start_time": "2021-12-03T22:51:50.889Z"
   },
   {
    "duration": 155,
    "start_time": "2021-12-03T22:51:51.070Z"
   },
   {
    "duration": 17,
    "start_time": "2021-12-03T22:51:51.228Z"
   },
   {
    "duration": 68,
    "start_time": "2021-12-03T22:51:51.247Z"
   },
   {
    "duration": 3,
    "start_time": "2021-12-03T22:51:51.318Z"
   },
   {
    "duration": 7,
    "start_time": "2021-12-03T22:51:51.323Z"
   },
   {
    "duration": 27,
    "start_time": "2021-12-03T22:51:51.332Z"
   },
   {
    "duration": 3,
    "start_time": "2021-12-03T22:51:51.362Z"
   },
   {
    "duration": 7,
    "start_time": "2021-12-03T22:51:51.367Z"
   },
   {
    "duration": 10,
    "start_time": "2021-12-03T22:51:51.376Z"
   },
   {
    "duration": 44293,
    "start_time": "2021-12-03T22:51:51.388Z"
   },
   {
    "duration": 6,
    "start_time": "2021-12-03T22:52:35.683Z"
   },
   {
    "duration": 2099,
    "start_time": "2021-12-03T22:52:35.692Z"
   },
   {
    "duration": 34,
    "start_time": "2021-12-03T22:52:37.794Z"
   },
   {
    "duration": 56172,
    "start_time": "2021-12-03T22:52:37.831Z"
   },
   {
    "duration": 496972,
    "start_time": "2021-12-03T22:53:34.006Z"
   },
   {
    "duration": 191483,
    "start_time": "2021-12-03T23:01:50.981Z"
   },
   {
    "duration": 144,
    "start_time": "2021-12-03T23:05:02.468Z"
   },
   {
    "duration": 94,
    "start_time": "2021-12-03T23:05:02.614Z"
   },
   {
    "duration": 7,
    "start_time": "2021-12-03T23:05:02.711Z"
   },
   {
    "duration": 1713,
    "start_time": "2021-12-03T23:05:02.722Z"
   },
   {
    "duration": 7,
    "start_time": "2021-12-03T23:05:04.437Z"
   },
   {
    "duration": 4584,
    "start_time": "2021-12-03T23:05:04.458Z"
   },
   {
    "duration": 73,
    "start_time": "2021-12-03T23:05:09.045Z"
   },
   {
    "duration": 75,
    "start_time": "2021-12-03T23:05:09.120Z"
   },
   {
    "duration": 3,
    "start_time": "2021-12-03T23:05:09.197Z"
   },
   {
    "duration": 15,
    "start_time": "2021-12-03T23:05:09.202Z"
   },
   {
    "duration": 1057,
    "start_time": "2021-12-04T07:25:09.875Z"
   },
   {
    "duration": 2,
    "start_time": "2021-12-04T07:25:10.934Z"
   },
   {
    "duration": 204,
    "start_time": "2021-12-04T07:25:10.938Z"
   },
   {
    "duration": 105,
    "start_time": "2021-12-04T07:25:11.143Z"
   },
   {
    "duration": 22,
    "start_time": "2021-12-04T07:25:11.250Z"
   },
   {
    "duration": 28,
    "start_time": "2021-12-04T07:25:11.274Z"
   },
   {
    "duration": 11,
    "start_time": "2021-12-04T07:25:11.303Z"
   },
   {
    "duration": 7,
    "start_time": "2021-12-04T07:25:11.316Z"
   },
   {
    "duration": 106,
    "start_time": "2021-12-04T07:25:11.325Z"
   },
   {
    "duration": 84,
    "start_time": "2021-12-04T07:25:11.433Z"
   },
   {
    "duration": 4764,
    "start_time": "2021-12-04T07:25:11.519Z"
   },
   {
    "duration": 4751,
    "start_time": "2021-12-04T07:25:16.285Z"
   },
   {
    "duration": 2,
    "start_time": "2021-12-04T07:25:21.037Z"
   },
   {
    "duration": 18,
    "start_time": "2021-12-04T07:25:21.041Z"
   },
   {
    "duration": 10,
    "start_time": "2021-12-04T07:25:21.060Z"
   },
   {
    "duration": 56,
    "start_time": "2021-12-04T07:25:21.071Z"
   },
   {
    "duration": 8,
    "start_time": "2021-12-04T07:25:27.928Z"
   },
   {
    "duration": 1488,
    "start_time": "2021-12-04T09:32:21.503Z"
   },
   {
    "duration": 4,
    "start_time": "2021-12-04T09:32:24.538Z"
   },
   {
    "duration": 291,
    "start_time": "2021-12-04T09:32:25.538Z"
   },
   {
    "duration": 169,
    "start_time": "2021-12-04T09:32:27.406Z"
   },
   {
    "duration": 42,
    "start_time": "2021-12-04T09:32:29.162Z"
   },
   {
    "duration": 36,
    "start_time": "2021-12-04T09:32:29.882Z"
   },
   {
    "duration": 22,
    "start_time": "2021-12-04T09:32:31.150Z"
   },
   {
    "duration": 19,
    "start_time": "2021-12-04T09:32:32.085Z"
   },
   {
    "duration": 181,
    "start_time": "2021-12-04T09:32:33.017Z"
   },
   {
    "duration": 153,
    "start_time": "2021-12-04T09:32:34.538Z"
   },
   {
    "duration": 8730,
    "start_time": "2021-12-04T09:32:36.003Z"
   },
   {
    "duration": 5,
    "start_time": "2021-12-04T09:32:49.771Z"
   },
   {
    "duration": 4,
    "start_time": "2021-12-04T09:32:51.571Z"
   },
   {
    "duration": 138,
    "start_time": "2021-12-04T09:32:52.078Z"
   },
   {
    "duration": 9,
    "start_time": "2021-12-04T09:32:53.651Z"
   },
   {
    "duration": 22042,
    "start_time": "2021-12-04T09:46:35.761Z"
   },
   {
    "duration": 5,
    "start_time": "2021-12-04T09:46:59.661Z"
   },
   {
    "duration": 4,
    "start_time": "2021-12-04T09:47:00.836Z"
   },
   {
    "duration": 93,
    "start_time": "2021-12-04T09:47:01.853Z"
   },
   {
    "duration": 12,
    "start_time": "2021-12-04T09:47:03.581Z"
   },
   {
    "duration": 29,
    "start_time": "2021-12-04T09:47:29.040Z"
   },
   {
    "duration": 37,
    "start_time": "2021-12-04T09:47:30.362Z"
   },
   {
    "duration": 6,
    "start_time": "2021-12-04T09:47:32.831Z"
   },
   {
    "duration": 19,
    "start_time": "2021-12-04T09:47:34.160Z"
   },
   {
    "duration": 133,
    "start_time": "2021-12-04T09:47:36.070Z"
   },
   {
    "duration": 15,
    "start_time": "2021-12-04T09:47:36.977Z"
   },
   {
    "duration": 23,
    "start_time": "2021-12-04T09:47:38.098Z"
   },
   {
    "duration": 168,
    "start_time": "2021-12-04T09:47:39.130Z"
   },
   {
    "duration": 152,
    "start_time": "2021-12-04T09:47:41.045Z"
   },
   {
    "duration": 18,
    "start_time": "2021-12-04T09:47:42.799Z"
   },
   {
    "duration": 61,
    "start_time": "2021-12-04T09:47:44.701Z"
   },
   {
    "duration": 30,
    "start_time": "2021-12-04T09:49:12.823Z"
   },
   {
    "duration": 176,
    "start_time": "2021-12-04T10:27:47.701Z"
   },
   {
    "duration": 25,
    "start_time": "2021-12-04T10:27:59.926Z"
   },
   {
    "duration": 219,
    "start_time": "2021-12-04T10:28:01.412Z"
   },
   {
    "duration": 151,
    "start_time": "2021-12-04T10:28:48.673Z"
   },
   {
    "duration": 340,
    "start_time": "2021-12-04T10:29:04.638Z"
   },
   {
    "duration": 650,
    "start_time": "2021-12-04T10:29:10.724Z"
   },
   {
    "duration": 316,
    "start_time": "2021-12-04T10:29:17.733Z"
   },
   {
    "duration": 393,
    "start_time": "2021-12-04T10:29:21.727Z"
   },
   {
    "duration": 333,
    "start_time": "2021-12-04T10:29:31.518Z"
   },
   {
    "duration": 382,
    "start_time": "2021-12-04T10:29:37.465Z"
   },
   {
    "duration": 25,
    "start_time": "2021-12-04T10:29:45.341Z"
   },
   {
    "duration": 668,
    "start_time": "2021-12-04T10:29:47.254Z"
   },
   {
    "duration": 199,
    "start_time": "2021-12-04T10:30:02.577Z"
   },
   {
    "duration": 131,
    "start_time": "2021-12-04T10:33:43.543Z"
   },
   {
    "duration": 350,
    "start_time": "2021-12-04T10:34:52.720Z"
   },
   {
    "duration": 353,
    "start_time": "2021-12-04T10:35:03.171Z"
   },
   {
    "duration": 24,
    "start_time": "2021-12-04T10:35:07.029Z"
   },
   {
    "duration": 432,
    "start_time": "2021-12-04T10:35:12.135Z"
   },
   {
    "duration": 167,
    "start_time": "2021-12-04T10:35:17.290Z"
   },
   {
    "duration": 25,
    "start_time": "2021-12-04T10:35:22.823Z"
   },
   {
    "duration": 10,
    "start_time": "2021-12-04T10:35:29.072Z"
   },
   {
    "duration": 15,
    "start_time": "2021-12-04T10:35:43.906Z"
   },
   {
    "duration": 159,
    "start_time": "2021-12-04T10:35:51.906Z"
   },
   {
    "duration": 17,
    "start_time": "2021-12-04T10:35:55.405Z"
   },
   {
    "duration": 28,
    "start_time": "2021-12-04T10:36:26.860Z"
   },
   {
    "duration": 17,
    "start_time": "2021-12-04T10:36:30.212Z"
   },
   {
    "duration": 10,
    "start_time": "2021-12-04T10:36:51.430Z"
   },
   {
    "duration": 101,
    "start_time": "2021-12-04T10:37:14.081Z"
   },
   {
    "duration": 17,
    "start_time": "2021-12-04T10:37:25.176Z"
   },
   {
    "duration": 12,
    "start_time": "2021-12-04T10:37:37.117Z"
   },
   {
    "duration": 16,
    "start_time": "2021-12-04T10:37:45.070Z"
   },
   {
    "duration": 11,
    "start_time": "2021-12-04T10:38:01.858Z"
   },
   {
    "duration": 11,
    "start_time": "2021-12-04T10:38:28.238Z"
   },
   {
    "duration": 11,
    "start_time": "2021-12-04T10:39:12.102Z"
   },
   {
    "duration": 13,
    "start_time": "2021-12-04T10:39:43.063Z"
   },
   {
    "duration": 17,
    "start_time": "2021-12-04T10:40:17.872Z"
   },
   {
    "duration": 9,
    "start_time": "2021-12-04T10:40:27.928Z"
   },
   {
    "duration": 13,
    "start_time": "2021-12-04T10:40:36.502Z"
   },
   {
    "duration": 24,
    "start_time": "2021-12-04T10:40:48.609Z"
   },
   {
    "duration": 2402,
    "start_time": "2021-12-04T10:41:32.686Z"
   },
   {
    "duration": 2109,
    "start_time": "2021-12-04T10:41:46.726Z"
   },
   {
    "duration": 2351,
    "start_time": "2021-12-04T10:44:18.687Z"
   },
   {
    "duration": 10,
    "start_time": "2021-12-04T10:45:06.057Z"
   },
   {
    "duration": 144,
    "start_time": "2021-12-04T10:45:18.286Z"
   },
   {
    "duration": 6,
    "start_time": "2021-12-04T10:45:32.646Z"
   },
   {
    "duration": 7507,
    "start_time": "2021-12-04T10:51:18.317Z"
   },
   {
    "duration": 8,
    "start_time": "2021-12-04T10:51:44.438Z"
   },
   {
    "duration": 5,
    "start_time": "2021-12-04T10:54:35.171Z"
   },
   {
    "duration": 9,
    "start_time": "2021-12-04T10:54:45.362Z"
   },
   {
    "duration": 139,
    "start_time": "2021-12-04T10:54:54.285Z"
   },
   {
    "duration": 31,
    "start_time": "2021-12-04T10:55:06.377Z"
   },
   {
    "duration": 168,
    "start_time": "2021-12-04T10:55:09.562Z"
   },
   {
    "duration": 125,
    "start_time": "2021-12-04T10:55:19.418Z"
   },
   {
    "duration": 8,
    "start_time": "2021-12-04T10:55:42.307Z"
   },
   {
    "duration": 26,
    "start_time": "2021-12-04T10:55:50.268Z"
   },
   {
    "duration": 9,
    "start_time": "2021-12-04T10:55:54.765Z"
   },
   {
    "duration": 28,
    "start_time": "2021-12-04T10:56:19.065Z"
   },
   {
    "duration": 18,
    "start_time": "2021-12-04T10:56:31.328Z"
   },
   {
    "duration": 92,
    "start_time": "2021-12-04T10:57:06.059Z"
   },
   {
    "duration": 17,
    "start_time": "2021-12-04T10:57:13.911Z"
   },
   {
    "duration": 10,
    "start_time": "2021-12-04T10:57:34.409Z"
   },
   {
    "duration": 173,
    "start_time": "2021-12-04T10:58:50.268Z"
   },
   {
    "duration": 133,
    "start_time": "2021-12-04T10:58:57.975Z"
   },
   {
    "duration": 213,
    "start_time": "2021-12-04T10:59:06.237Z"
   },
   {
    "duration": 26,
    "start_time": "2021-12-04T10:59:23.505Z"
   },
   {
    "duration": 186,
    "start_time": "2021-12-04T10:59:24.345Z"
   },
   {
    "duration": 335,
    "start_time": "2021-12-04T11:01:08.882Z"
   },
   {
    "duration": 24,
    "start_time": "2021-12-04T11:01:11.311Z"
   },
   {
    "duration": 163,
    "start_time": "2021-12-04T11:01:13.359Z"
   },
   {
    "duration": 385,
    "start_time": "2021-12-04T11:04:07.985Z"
   },
   {
    "duration": 23,
    "start_time": "2021-12-04T11:04:10.909Z"
   },
   {
    "duration": 164,
    "start_time": "2021-12-04T11:04:15.986Z"
   },
   {
    "duration": 140,
    "start_time": "2021-12-04T11:04:26.097Z"
   },
   {
    "duration": 1593,
    "start_time": "2021-12-04T11:04:48.369Z"
   },
   {
    "duration": 3,
    "start_time": "2021-12-04T11:04:49.965Z"
   },
   {
    "duration": 304,
    "start_time": "2021-12-04T11:04:49.971Z"
   },
   {
    "duration": 185,
    "start_time": "2021-12-04T11:04:50.282Z"
   },
   {
    "duration": 50,
    "start_time": "2021-12-04T11:04:50.469Z"
   },
   {
    "duration": 28,
    "start_time": "2021-12-04T11:04:50.521Z"
   },
   {
    "duration": 23,
    "start_time": "2021-12-04T11:04:50.582Z"
   },
   {
    "duration": 10,
    "start_time": "2021-12-04T11:04:50.610Z"
   },
   {
    "duration": 161,
    "start_time": "2021-12-04T11:04:50.623Z"
   },
   {
    "duration": 135,
    "start_time": "2021-12-04T11:04:50.786Z"
   },
   {
    "duration": 8591,
    "start_time": "2021-12-04T11:04:50.923Z"
   },
   {
    "duration": 9776,
    "start_time": "2021-12-04T11:04:59.517Z"
   },
   {
    "duration": 4,
    "start_time": "2021-12-04T11:05:09.296Z"
   },
   {
    "duration": 7,
    "start_time": "2021-12-04T11:05:09.303Z"
   },
   {
    "duration": 9,
    "start_time": "2021-12-04T11:05:09.312Z"
   },
   {
    "duration": 116,
    "start_time": "2021-12-04T11:05:09.324Z"
   },
   {
    "duration": 7,
    "start_time": "2021-12-04T11:05:09.442Z"
   },
   {
    "duration": 200,
    "start_time": "2021-12-04T11:05:09.452Z"
   },
   {
    "duration": 13886,
    "start_time": "2021-12-04T11:05:09.655Z"
   },
   {
    "duration": 61,
    "start_time": "2021-12-04T11:05:23.543Z"
   },
   {
    "duration": 36,
    "start_time": "2021-12-04T11:05:23.607Z"
   },
   {
    "duration": 66,
    "start_time": "2021-12-04T11:05:23.646Z"
   },
   {
    "duration": 38,
    "start_time": "2021-12-04T11:05:23.718Z"
   },
   {
    "duration": 81,
    "start_time": "2021-12-04T11:05:23.759Z"
   },
   {
    "duration": 71,
    "start_time": "2021-12-04T11:05:23.843Z"
   },
   {
    "duration": 6,
    "start_time": "2021-12-04T11:05:23.917Z"
   },
   {
    "duration": 18,
    "start_time": "2021-12-04T11:05:23.925Z"
   },
   {
    "duration": 174,
    "start_time": "2021-12-04T11:05:23.945Z"
   },
   {
    "duration": 14,
    "start_time": "2021-12-04T11:05:24.122Z"
   },
   {
    "duration": 56,
    "start_time": "2021-12-04T11:05:24.139Z"
   },
   {
    "duration": 187,
    "start_time": "2021-12-04T11:05:24.199Z"
   },
   {
    "duration": 163,
    "start_time": "2021-12-04T11:05:24.389Z"
   },
   {
    "duration": 31,
    "start_time": "2021-12-04T11:05:24.554Z"
   },
   {
    "duration": 95,
    "start_time": "2021-12-04T11:05:24.587Z"
   },
   {
    "duration": 5,
    "start_time": "2021-12-04T11:05:24.686Z"
   },
   {
    "duration": 6,
    "start_time": "2021-12-04T11:05:24.693Z"
   },
   {
    "duration": 8,
    "start_time": "2021-12-04T11:05:24.704Z"
   },
   {
    "duration": 5,
    "start_time": "2021-12-04T11:05:24.715Z"
   },
   {
    "duration": 7,
    "start_time": "2021-12-04T11:05:24.722Z"
   },
   {
    "duration": 10,
    "start_time": "2021-12-04T11:05:24.731Z"
   },
   {
    "duration": 49540,
    "start_time": "2021-12-04T11:05:24.782Z"
   },
   {
    "duration": 4,
    "start_time": "2021-12-04T11:06:14.324Z"
   },
   {
    "duration": 2180,
    "start_time": "2021-12-04T11:06:14.331Z"
   },
   {
    "duration": 31,
    "start_time": "2021-12-04T11:06:16.514Z"
   },
   {
    "duration": 59534,
    "start_time": "2021-12-04T11:06:16.548Z"
   },
   {
    "duration": 536288,
    "start_time": "2021-12-04T11:07:16.085Z"
   },
   {
    "duration": 156206,
    "start_time": "2021-12-04T11:16:12.383Z"
   },
   {
    "duration": 227,
    "start_time": "2021-12-04T11:18:48.593Z"
   },
   {
    "duration": 92,
    "start_time": "2021-12-04T11:18:48.823Z"
   },
   {
    "duration": 7,
    "start_time": "2021-12-04T11:18:48.918Z"
   },
   {
    "duration": 2020,
    "start_time": "2021-12-04T11:18:48.928Z"
   },
   {
    "duration": 7,
    "start_time": "2021-12-04T11:18:50.950Z"
   },
   {
    "duration": 4961,
    "start_time": "2021-12-04T11:18:50.960Z"
   },
   {
    "duration": 97,
    "start_time": "2021-12-04T11:18:55.923Z"
   },
   {
    "duration": 95,
    "start_time": "2021-12-04T11:18:56.023Z"
   },
   {
    "duration": 3,
    "start_time": "2021-12-04T11:18:56.120Z"
   },
   {
    "duration": 16,
    "start_time": "2021-12-04T11:18:56.126Z"
   },
   {
    "duration": 983,
    "start_time": "2021-12-06T10:32:59.615Z"
   },
   {
    "duration": 2,
    "start_time": "2021-12-06T10:33:00.600Z"
   },
   {
    "duration": 428,
    "start_time": "2021-12-06T10:33:00.871Z"
   },
   {
    "duration": 317,
    "start_time": "2021-12-06T10:33:49.484Z"
   },
   {
    "duration": 263,
    "start_time": "2021-12-06T10:33:54.040Z"
   },
   {
    "duration": 230,
    "start_time": "2021-12-06T10:34:18.387Z"
   },
   {
    "duration": 227,
    "start_time": "2021-12-06T10:34:43.386Z"
   },
   {
    "duration": 66,
    "start_time": "2021-12-06T10:34:48.517Z"
   },
   {
    "duration": 9,
    "start_time": "2021-12-06T10:36:05.705Z"
   },
   {
    "duration": 9,
    "start_time": "2021-12-06T10:36:18.629Z"
   },
   {
    "duration": 9,
    "start_time": "2021-12-06T10:36:43.806Z"
   },
   {
    "duration": 10,
    "start_time": "2021-12-06T10:37:04.676Z"
   },
   {
    "duration": 11,
    "start_time": "2021-12-06T10:37:44.424Z"
   },
   {
    "duration": 10,
    "start_time": "2021-12-06T10:37:47.257Z"
   },
   {
    "duration": 11,
    "start_time": "2021-12-06T10:38:19.277Z"
   },
   {
    "duration": 5,
    "start_time": "2021-12-06T10:38:33.912Z"
   },
   {
    "duration": 10,
    "start_time": "2021-12-06T10:38:38.592Z"
   },
   {
    "duration": 10,
    "start_time": "2021-12-06T10:38:46.557Z"
   },
   {
    "duration": 1131,
    "start_time": "2021-12-23T13:19:00.085Z"
   },
   {
    "duration": 3,
    "start_time": "2021-12-23T13:19:01.218Z"
   },
   {
    "duration": 465,
    "start_time": "2021-12-23T13:19:01.223Z"
   },
   {
    "duration": 22,
    "start_time": "2021-12-23T13:19:01.690Z"
   },
   {
    "duration": 165,
    "start_time": "2021-12-23T13:19:01.714Z"
   },
   {
    "duration": 20,
    "start_time": "2021-12-23T13:19:01.882Z"
   },
   {
    "duration": 27,
    "start_time": "2021-12-23T13:19:01.904Z"
   },
   {
    "duration": 27,
    "start_time": "2021-12-23T13:19:01.934Z"
   },
   {
    "duration": 8,
    "start_time": "2021-12-23T13:19:01.963Z"
   },
   {
    "duration": 104,
    "start_time": "2021-12-23T13:19:01.973Z"
   },
   {
    "duration": 83,
    "start_time": "2021-12-23T13:19:02.079Z"
   },
   {
    "duration": 4857,
    "start_time": "2021-12-23T13:19:02.164Z"
   },
   {
    "duration": 4744,
    "start_time": "2021-12-23T13:19:07.023Z"
   },
   {
    "duration": 2,
    "start_time": "2021-12-23T13:19:11.770Z"
   },
   {
    "duration": 6,
    "start_time": "2021-12-23T13:19:11.774Z"
   },
   {
    "duration": 9,
    "start_time": "2021-12-23T13:19:11.782Z"
   },
   {
    "duration": 72,
    "start_time": "2021-12-23T13:19:11.793Z"
   },
   {
    "duration": 4,
    "start_time": "2021-12-23T13:19:11.867Z"
   },
   {
    "duration": 122,
    "start_time": "2021-12-23T13:19:11.873Z"
   },
   {
    "duration": 7614,
    "start_time": "2021-12-23T13:19:11.997Z"
   },
   {
    "duration": 26,
    "start_time": "2021-12-23T13:19:19.613Z"
   },
   {
    "duration": 36,
    "start_time": "2021-12-23T13:19:19.641Z"
   },
   {
    "duration": 21,
    "start_time": "2021-12-23T13:19:19.681Z"
   },
   {
    "duration": 21,
    "start_time": "2021-12-23T13:19:19.705Z"
   },
   {
    "duration": 50,
    "start_time": "2021-12-23T13:19:19.728Z"
   },
   {
    "duration": 24,
    "start_time": "2021-12-23T13:19:19.779Z"
   },
   {
    "duration": 3,
    "start_time": "2021-12-23T13:19:19.805Z"
   },
   {
    "duration": 17,
    "start_time": "2021-12-23T13:19:19.810Z"
   },
   {
    "duration": 112,
    "start_time": "2021-12-23T13:19:19.829Z"
   },
   {
    "duration": 17,
    "start_time": "2021-12-23T13:19:19.943Z"
   },
   {
    "duration": 16,
    "start_time": "2021-12-23T13:19:19.962Z"
   },
   {
    "duration": 162,
    "start_time": "2021-12-23T13:19:19.980Z"
   },
   {
    "duration": 93,
    "start_time": "2021-12-23T13:19:20.144Z"
   },
   {
    "duration": 12,
    "start_time": "2021-12-23T13:19:20.239Z"
   },
   {
    "duration": 42,
    "start_time": "2021-12-23T13:19:20.261Z"
   },
   {
    "duration": 2,
    "start_time": "2021-12-23T13:19:20.305Z"
   },
   {
    "duration": 5,
    "start_time": "2021-12-23T13:19:20.309Z"
   },
   {
    "duration": 8,
    "start_time": "2021-12-23T13:19:20.316Z"
   },
   {
    "duration": 6,
    "start_time": "2021-12-23T13:19:20.325Z"
   },
   {
    "duration": 5,
    "start_time": "2021-12-23T13:19:20.333Z"
   },
   {
    "duration": 23,
    "start_time": "2021-12-23T13:19:20.340Z"
   },
   {
    "duration": 23934,
    "start_time": "2021-12-23T13:19:20.365Z"
   },
   {
    "duration": 4,
    "start_time": "2021-12-23T13:19:44.300Z"
   },
   {
    "duration": 1132,
    "start_time": "2021-12-23T13:19:44.306Z"
   },
   {
    "duration": 32,
    "start_time": "2021-12-23T13:19:45.440Z"
   },
   {
    "duration": 34798,
    "start_time": "2021-12-23T13:19:45.474Z"
   },
   {
    "duration": 18319,
    "start_time": "2021-12-23T13:20:20.274Z"
   },
   {
    "duration": 146890,
    "start_time": "2021-12-23T13:20:38.595Z"
   },
   {
    "duration": 126,
    "start_time": "2021-12-23T13:23:05.562Z"
   },
   {
    "duration": 45,
    "start_time": "2021-12-23T13:23:05.690Z"
   },
   {
    "duration": 4,
    "start_time": "2021-12-23T13:23:05.737Z"
   },
   {
    "duration": 914,
    "start_time": "2021-12-23T13:23:05.760Z"
   },
   {
    "duration": 4,
    "start_time": "2021-12-23T13:23:06.676Z"
   },
   {
    "duration": 2304,
    "start_time": "2021-12-23T13:23:06.682Z"
   },
   {
    "duration": 43,
    "start_time": "2021-12-23T13:23:08.988Z"
   },
   {
    "duration": 69,
    "start_time": "2021-12-23T13:23:09.033Z"
   },
   {
    "duration": 2,
    "start_time": "2021-12-23T13:23:09.104Z"
   },
   {
    "duration": 11,
    "start_time": "2021-12-23T13:23:09.109Z"
   }
  ],
  "kernelspec": {
   "display_name": "Python 3 (ipykernel)",
   "language": "python",
   "name": "python3"
  },
  "language_info": {
   "codemirror_mode": {
    "name": "ipython",
    "version": 3
   },
   "file_extension": ".py",
   "mimetype": "text/x-python",
   "name": "python",
   "nbconvert_exporter": "python",
   "pygments_lexer": "ipython3",
   "version": "3.9.5"
  },
  "toc": {
   "base_numbering": 1,
   "nav_menu": {},
   "number_sections": true,
   "sideBar": true,
   "skip_h1_title": true,
   "title_cell": "Table of Contents",
   "title_sidebar": "Contents",
   "toc_cell": false,
   "toc_position": {},
   "toc_section_display": true,
   "toc_window_display": false
  }
 },
 "nbformat": 4,
 "nbformat_minor": 2
}
